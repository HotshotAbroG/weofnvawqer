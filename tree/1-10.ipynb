{
 "cells": [
  {
   "cell_type": "code",
   "execution_count": 10,
   "metadata": {},
   "outputs": [],
   "source": [
    "import tree as Tree"
   ]
  },
  {
   "cell_type": "code",
   "execution_count": 11,
   "metadata": {},
   "outputs": [],
   "source": [
    "tree = Tree.tree"
   ]
  },
  {
   "cell_type": "markdown",
   "metadata": {},
   "source": [
    "# 创建二叉树（数组转tree）"
   ]
  },
  {
   "cell_type": "code",
   "execution_count": 2,
   "metadata": {},
   "outputs": [],
   "source": [
    "def build_tree(arr, index):\n",
    "    \n",
    "    if index >= len(arr):\n",
    "        return\n",
    "    head = None\n",
    "    if arr[index] != -1014:\n",
    "        head = tree(arr[index])\n",
    "        head.left = build_tree(arr, 2 * index + 1)\n",
    "        head.right = build_tree(arr, 2 * index + 2)\n",
    "    return head\n",
    "arr = [3, 5, 1, 6, 2, 0, 8, -1014, -1014, 7, 4]\n",
    "# 创建\n",
    "head = build_tree(arr,0)"
   ]
  },
  {
   "cell_type": "markdown",
   "metadata": {},
   "source": [
    "# BFS遍历"
   ]
  },
  {
   "cell_type": "code",
   "execution_count": 3,
   "metadata": {},
   "outputs": [
    {
     "name": "stdout",
     "output_type": "stream",
     "text": [
      "[3]\n",
      "[5, 1]\n",
      "[6, 2, 0, 8]\n",
      "[7, 4]\n"
     ]
    }
   ],
   "source": [
    "import queue\n",
    "def bfs(root):\n",
    "    que = queue.Queue()\n",
    "    que.put(root)\n",
    "    res = []\n",
    "    while (not que.empty()):\n",
    "        tmp_list = []\n",
    "        length = que.qsize()\n",
    "        for i in range(length):\n",
    "            tmp_node = que.get()\n",
    "            tmp_list.append(tmp_node.val)\n",
    "            if tmp_node.left:\n",
    "                que.put(tmp_node.left)\n",
    "            if tmp_node.right:\n",
    "                que.put(tmp_node.right)\n",
    "        res.append(tmp_list)\n",
    "    for i in res:\n",
    "        print(i)\n",
    "bfs(head)    "
   ]
  },
  {
   "cell_type": "markdown",
   "metadata": {},
   "source": [
    "# 二叉树公共祖先\n",
    "输入: \n",
    "\n",
    "root = [3,5,1,6,2,0,8,null,null,7,4], p = 5, q = 1\n",
    "\n",
    "输出: 3\n",
    "\n",
    "\n",
    "解释: 节点 5 和节点 1 的最近公共祖先是节点 3。\n"
   ]
  },
  {
   "cell_type": "code",
   "execution_count": 23,
   "metadata": {},
   "outputs": [],
   "source": [
    "arr = [3, 5, 1, 6, 2, 0, 8, -1014, -1014, 7, 4]\n",
    "# 创建\n",
    "root = build_tree(arr,0)\n",
    "\n",
    "p = root.left\n",
    "q = root.right.right\n"
   ]
  },
  {
   "cell_type": "code",
   "execution_count": 33,
   "metadata": {},
   "outputs": [
    {
     "data": {
      "text/plain": [
       "3"
      ]
     },
     "execution_count": 33,
     "metadata": {},
     "output_type": "execute_result"
    }
   ],
   "source": [
    "def lowestCommonAncestor(root: 'TreeNode', p: 'TreeNode', q: 'TreeNode') -> 'TreeNode':\n",
    "    # 递归出口\n",
    "    if root in (None, p, q):\n",
    "        return root\n",
    "    \n",
    "    left = lowestCommonAncestor(root.left, p, q)  # 左边是否存在 公共节点？p? q?\n",
    "    \n",
    "    # left = None 代表 不存在p 和 q，更不可能存在root了\n",
    "    \n",
    "    # 若存在 公共节点， 那么便将其回溯回来，赋值给left\n",
    "    \n",
    "    # 若不存在root，而存在p或者q，则将其 回溯 回给 left\n",
    "    \n",
    "    right = lowestCommonAncestor(root.right, p, q)\n",
    "    \n",
    "    if left != None and right != None:\n",
    "        return root\n",
    "    \n",
    "    elif left != None or right != None:\n",
    "        return left if left != None else right\n",
    "    \n",
    "    return None\n",
    "    \n",
    "    \n",
    "lowestCommonAncestor(root, p, q).val"
   ]
  },
  {
   "cell_type": "markdown",
   "metadata": {},
   "source": [
    "# 二叉搜索树第K小 寻找\n",
    "\n",
    "给定一个二叉搜索树，编写一个函数 kthSmallest 来查找其中第 k 个最小的元素。\n",
    "\n",
    "\n",
    "说明：\n",
    "\n",
    "\n",
    "你可以假设 k 总是有效的，1 ≤ k ≤ 二叉搜索树元素个数。"
   ]
  },
  {
   "cell_type": "code",
   "execution_count": 14,
   "metadata": {},
   "outputs": [
    {
     "name": "stdout",
     "output_type": "stream",
     "text": [
      "[5]\n",
      "[3, 6]\n",
      "[2, 4]\n",
      "[1]\n"
     ]
    }
   ],
   "source": [
    "arr = [5, 3, 6, 2, 4, -1014, -1014, 1]\n",
    "# 创建\n",
    "root = tree.build_tree(arr,0)\n",
    "tree.bfs(root)\n"
   ]
  },
  {
   "cell_type": "code",
   "execution_count": 46,
   "metadata": {},
   "outputs": [
    {
     "data": {
      "text/plain": [
       "3"
      ]
     },
     "execution_count": 46,
     "metadata": {},
     "output_type": "execute_result"
    }
   ],
   "source": [
    "# 利用二叉搜索树的性质 左边 < 中 < 右\n",
    "def kthSmallest(root , k: int) -> int:\n",
    "    res = inOrder(root, k)\n",
    "    return res\n",
    "\n",
    "def inOrder(root, k):\n",
    "    stack = []\n",
    "    cur = root\n",
    "    count = 1\n",
    "    while (stack or cur):\n",
    "        if cur:\n",
    "            stack.append(cur)\n",
    "            cur = cur.left\n",
    "        else:\n",
    "            cur = stack.pop()\n",
    "            if k == count:\n",
    "                return cur.val\n",
    "            count += 1\n",
    "            cur = cur.right\n",
    "inOrder(root,3)"
   ]
  },
  {
   "cell_type": "code",
   "execution_count": 44,
   "metadata": {},
   "outputs": [
    {
     "data": {
      "text/plain": [
       "[1, 2, 3, 4]"
      ]
     },
     "execution_count": 44,
     "metadata": {},
     "output_type": "execute_result"
    }
   ],
   "source": [
    "tmp  = [1,2,3,4,5]\n",
    "tmp.pop()\n",
    "tmp"
   ]
  },
  {
   "cell_type": "markdown",
   "metadata": {},
   "source": [
    "# 3.二叉树所有路径\n",
    "输入:\n",
    "\n",
    "   1\n",
    " /   \\\n",
    "2     3\n",
    " \\\n",
    "  5\n",
    "\n",
    "输出: [\"1->2->5\", \"1->3\"]\n",
    "\n",
    "解释: 所有根节点到叶子节点的路径为: 1->2->5, 1->3\n"
   ]
  },
  {
   "cell_type": "code",
   "execution_count": 13,
   "metadata": {},
   "outputs": [
    {
     "name": "stdout",
     "output_type": "stream",
     "text": [
      "[1]\n",
      "[2, 3]\n",
      "[7, 5, 103, 32]\n"
     ]
    }
   ],
   "source": [
    "arr = [1,2,3,7,5, 103, 32]\n",
    "root = tree.build_tree(arr, 0)\n",
    "tree.bfs(root)"
   ]
  },
  {
   "cell_type": "code",
   "execution_count": 14,
   "metadata": {},
   "outputs": [
    {
     "data": {
      "text/plain": [
       "['1->2->7', '1->2->5', '1->3->103', '1->3->32']"
      ]
     },
     "execution_count": 14,
     "metadata": {},
     "output_type": "execute_result"
    }
   ],
   "source": [
    "def binary_tree_path(root):\n",
    "    res = []\n",
    "    if root is None:\n",
    "        return res\n",
    "    #    1\n",
    "    # 2    3\n",
    "    if root.left is None and root.right is None:\n",
    "        res.append(str(root.val))\n",
    "    \n",
    "    left_path_list = binary_tree_path(root.left)\n",
    "    \n",
    "    for path in left_path_list:\n",
    "        res.append(str(root.val) + \"->\" + path)\n",
    "    \n",
    "    right_path_list = binary_tree_path(root.right)\n",
    "    \n",
    "    for path in right_path_list:\n",
    "        res.append(str(root.val) + \"->\" + path)   \n",
    "    return res\n",
    "\n",
    "binary_tree_path(root)"
   ]
  },
  {
   "cell_type": "code",
   "execution_count": null,
   "metadata": {},
   "outputs": [],
   "source": []
  },
  {
   "cell_type": "code",
   "execution_count": 19,
   "metadata": {},
   "outputs": [
    {
     "name": "stdout",
     "output_type": "stream",
     "text": [
      "7\n",
      "2->7\n",
      "2->5\n",
      "103\n"
     ]
    },
    {
     "data": {
      "text/plain": [
       "['1->2->7', '1->2->5', '1->3->103', '1->3->32']"
      ]
     },
     "execution_count": 19,
     "metadata": {},
     "output_type": "execute_result"
    }
   ],
   "source": [
    "def binaryTreePaths(root):\n",
    "    res = []\n",
    "    \n",
    "    if root is None:\n",
    "        return res\n",
    "    \n",
    "    if root.left is None and root.right is None:\n",
    "        res.append(str(root.val))\n",
    "        return res\n",
    "    \n",
    "    left_list = binaryTreePaths(root.left)\n",
    "    \n",
    "    for i in left_list:\n",
    "        print(i)\n",
    "        res.append(str(root.val) + '->' + i)\n",
    "    \n",
    "    right_list = binaryTreePaths(root.right)\n",
    "    \n",
    "    for i in right_list:\n",
    "        res.append(str(root.val) + '->' +i)\n",
    "    \n",
    "    return res\n",
    "\n",
    "binaryTreePaths(root)"
   ]
  },
  {
   "cell_type": "markdown",
   "metadata": {},
   "source": [
    "# 4. 二叉树对称\n"
   ]
  },
  {
   "cell_type": "code",
   "execution_count": 25,
   "metadata": {},
   "outputs": [
    {
     "name": "stdout",
     "output_type": "stream",
     "text": [
      "[1]\n",
      "[2, 2]\n",
      "[32, 4, 4, 3]\n"
     ]
    }
   ],
   "source": [
    "arr = [1, 2, 2, 32, 4, 4, 3]\n",
    "root = tree.build_tree(arr, 0)\n",
    "tree.bfs(root)"
   ]
  },
  {
   "cell_type": "code",
   "execution_count": 30,
   "metadata": {},
   "outputs": [
    {
     "name": "stdout",
     "output_type": "stream",
     "text": [
      "True\n",
      "True\n",
      "False\n"
     ]
    },
    {
     "data": {
      "text/plain": [
       "False"
      ]
     },
     "execution_count": 30,
     "metadata": {},
     "output_type": "execute_result"
    }
   ],
   "source": [
    "def find(root):\n",
    "    flag = True\n",
    "    def check(left, right):\n",
    "        nonlocal flag\n",
    "        if (left is None and right is None) or not flag:\n",
    "            # leaf node\n",
    "            return \n",
    "        \n",
    "        if left is None or right is None or right.val != left.val:\n",
    "            flag = False\n",
    "            return \n",
    "        \n",
    "        check(left.left, right.right)\n",
    "        check(left.right, right.left)\n",
    "\n",
    "    check(root.left, root.right)\n",
    "    return flag\n",
    "find(root)"
   ]
  },
  {
   "cell_type": "markdown",
   "metadata": {},
   "source": [
    "# 5. 后序遍历            "
   ]
  },
  {
   "cell_type": "code",
   "execution_count": null,
   "metadata": {},
   "outputs": [],
   "source": []
  },
  {
   "cell_type": "code",
   "execution_count": 15,
   "metadata": {},
   "outputs": [
    {
     "name": "stdout",
     "output_type": "stream",
     "text": [
      "[1]\n",
      "[2, 2]\n",
      "[32, 4, 4, 3]\n"
     ]
    }
   ],
   "source": [
    "arr = [1, 2, 2, 32, 4, 4, 3]\n",
    "root = tree.build_tree(arr, 0)\n",
    "tree.bfs(root)"
   ]
  },
  {
   "cell_type": "code",
   "execution_count": null,
   "metadata": {},
   "outputs": [],
   "source": [
    "# 左右中---\n"
   ]
  },
  {
   "cell_type": "code",
   "execution_count": null,
   "metadata": {},
   "outputs": [],
   "source": []
  },
  {
   "cell_type": "code",
   "execution_count": null,
   "metadata": {},
   "outputs": [],
   "source": []
  },
  {
   "cell_type": "code",
   "execution_count": null,
   "metadata": {},
   "outputs": [],
   "source": []
  },
  {
   "cell_type": "code",
   "execution_count": null,
   "metadata": {},
   "outputs": [],
   "source": []
  },
  {
   "cell_type": "code",
   "execution_count": null,
   "metadata": {},
   "outputs": [],
   "source": []
  },
  {
   "cell_type": "code",
   "execution_count": null,
   "metadata": {},
   "outputs": [],
   "source": []
  },
  {
   "cell_type": "code",
   "execution_count": null,
   "metadata": {},
   "outputs": [],
   "source": []
  }
 ],
 "metadata": {
  "kernelspec": {
   "display_name": "Python 3",
   "language": "python",
   "name": "python3"
  },
  "language_info": {
   "codemirror_mode": {
    "name": "ipython",
    "version": 3
   },
   "file_extension": ".py",
   "mimetype": "text/x-python",
   "name": "python",
   "nbconvert_exporter": "python",
   "pygments_lexer": "ipython3",
   "version": "3.7.3"
  }
 },
 "nbformat": 4,
 "nbformat_minor": 4
}
