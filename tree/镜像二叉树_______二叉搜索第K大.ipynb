{
 "cells": [
  {
   "cell_type": "markdown",
   "metadata": {},
   "source": [
    "# 建立镜像二叉树"
   ]
  },
  {
   "cell_type": "code",
   "execution_count": 1,
   "metadata": {},
   "outputs": [],
   "source": [
    "import tree as Tree\n",
    "tree = Tree.tree"
   ]
  },
  {
   "cell_type": "code",
   "execution_count": 4,
   "metadata": {},
   "outputs": [
    {
     "name": "stdout",
     "output_type": "stream",
     "text": [
      "[4]\n",
      "[2, 7]\n",
      "[1, 3, 6, 9]\n"
     ]
    }
   ],
   "source": [
    "arr = [4, 2, 7, 1, 3, 6, 9]\n",
    "root = tree.build_tree(arr, 0)\n",
    "tree.bfs(root)"
   ]
  },
  {
   "cell_type": "code",
   "execution_count": 16,
   "metadata": {},
   "outputs": [
    {
     "name": "stdout",
     "output_type": "stream",
     "text": [
      "[4]\n",
      "[2, 7]\n",
      "[1, 3, 6, 9]\n",
      "[4]\n",
      "[7, 2]\n",
      "[9, 6, 3, 1]\n"
     ]
    }
   ],
   "source": [
    "arr = [4, 2, 7, 1, 3, 6, 9]\n",
    "root = tree.build_tree(arr, 0)\n",
    "tree.bfs(root)\n",
    "def mirrorTree(root):\n",
    "    if root == None or (root.left is None and root.right is None):\n",
    "        return root\n",
    "    # swap\n",
    "    root.left, root.right = root.right, root.left\n",
    "    mirrorTree(root.left)\n",
    "    mirrorTree(root.right)\n",
    "    return root\n",
    "    \n",
    "tree.bfs(root)"
   ]
  },
  {
   "cell_type": "markdown",
   "metadata": {},
   "source": [
    "# 二叉搜索树第K大\n",
    "\n",
    "左 < 中 < 右"
   ]
  },
  {
   "cell_type": "code",
   "execution_count": 45,
   "metadata": {},
   "outputs": [
    {
     "name": "stdout",
     "output_type": "stream",
     "text": [
      "[3]\n",
      "[1, 4]\n",
      "[2]\n"
     ]
    },
    {
     "data": {
      "text/plain": [
       "2"
      ]
     },
     "execution_count": 45,
     "metadata": {},
     "output_type": "execute_result"
    }
   ],
   "source": [
    "arr = [3,1,4,-1014,2]\n",
    "root = tree.build_tree(arr, 0)\n",
    "tree.bfs(root)\n",
    "def kthLargest(root, k):\n",
    "    # 左右中 找第K 小 -----> 中序遍历\n",
    "    # 右中左 找第K 大 -----> 改编版中序遍历\n",
    "    cur_node = root\n",
    "    stack = []\n",
    "    count = 1\n",
    "    while stack or cur_node:\n",
    "        if cur_node:\n",
    "            stack.append(cur_node)\n",
    "            cur_node = cur_node.right\n",
    "        else:\n",
    "            cur_node = stack.pop()\n",
    "            if k == count:\n",
    "                return cur_node.val\n",
    "            count += 1\n",
    "            if cur_node:\n",
    "                cur_node = cur_node.left\n",
    "    \n",
    "    return -1\n",
    "    \n",
    "kthLargest(root, 3)"
   ]
  },
  {
   "cell_type": "code",
   "execution_count": null,
   "metadata": {},
   "outputs": [],
   "source": []
  },
  {
   "cell_type": "code",
   "execution_count": null,
   "metadata": {},
   "outputs": [],
   "source": []
  },
  {
   "cell_type": "code",
   "execution_count": null,
   "metadata": {},
   "outputs": [],
   "source": []
  },
  {
   "cell_type": "code",
   "execution_count": null,
   "metadata": {},
   "outputs": [],
   "source": []
  }
 ],
 "metadata": {
  "kernelspec": {
   "display_name": "Python 3",
   "language": "python",
   "name": "python3"
  },
  "language_info": {
   "codemirror_mode": {
    "name": "ipython",
    "version": 3
   },
   "file_extension": ".py",
   "mimetype": "text/x-python",
   "name": "python",
   "nbconvert_exporter": "python",
   "pygments_lexer": "ipython3",
   "version": "3.7.3"
  }
 },
 "nbformat": 4,
 "nbformat_minor": 4
}
