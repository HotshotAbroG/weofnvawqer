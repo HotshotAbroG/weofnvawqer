{
 "cells": [
  {
   "cell_type": "code",
   "execution_count": 1,
   "metadata": {},
   "outputs": [],
   "source": [
    "class tree:\n",
    "    def __init__(self, x):\n",
    "        self.val = x\n",
    "        self.left = None\n",
    "        self.right = None\n",
    "        "
   ]
  },
  {
   "cell_type": "markdown",
   "metadata": {},
   "source": [
    "# 创建二叉树（数组转tree）"
   ]
  },
  {
   "cell_type": "code",
   "execution_count": 2,
   "metadata": {},
   "outputs": [],
   "source": [
    "def build_tree(arr, index):\n",
    "    \n",
    "    if index >= len(arr):\n",
    "        return\n",
    "    head = None\n",
    "    if arr[index] != -1014:\n",
    "        head = tree(arr[index])\n",
    "        head.left = build_tree(arr, 2 * index + 1)\n",
    "        head.right = build_tree(arr, 2 * index + 2)\n",
    "    return head\n",
    "arr = [3, 5, 1, 6, 2, 0, 8, -1014, -1014, 7, 4]\n",
    "# 创建\n",
    "head = build_tree(arr,0)"
   ]
  },
  {
   "cell_type": "markdown",
   "metadata": {},
   "source": [
    "# BFS遍历"
   ]
  },
  {
   "cell_type": "code",
   "execution_count": 16,
   "metadata": {},
   "outputs": [
    {
     "name": "stdout",
     "output_type": "stream",
     "text": [
      "[3]\n",
      "[5, 1]\n",
      "[6, 2, 0, 8]\n",
      "[7, 4]\n"
     ]
    }
   ],
   "source": [
    "import queue\n",
    "def bfs(root):\n",
    "    que = queue.Queue()\n",
    "    que.put(root)\n",
    "    res = []\n",
    "    while (not que.empty()):\n",
    "        tmp_list = []\n",
    "        length = que.qsize()\n",
    "        for i in range(length):\n",
    "            tmp_node = que.get()\n",
    "            tmp_list.append(tmp_node.val)\n",
    "            if tmp_node.left:\n",
    "                que.put(tmp_node.left)\n",
    "            if tmp_node.right:\n",
    "                que.put(tmp_node.right)\n",
    "        res.append(tmp_list)\n",
    "    for i in res:\n",
    "        print(i)\n",
    "bfs(head)    "
   ]
  },
  {
   "cell_type": "markdown",
   "metadata": {},
   "source": [
    "# 二叉树公共祖先\n",
    "输入: \n",
    "\n",
    "root = [3,5,1,6,2,0,8,null,null,7,4], p = 5, q = 1\n",
    "\n",
    "输出: 3\n",
    "\n",
    "\n",
    "解释: 节点 5 和节点 1 的最近公共祖先是节点 3。\n"
   ]
  },
  {
   "cell_type": "code",
   "execution_count": 23,
   "metadata": {},
   "outputs": [],
   "source": [
    "arr = [3, 5, 1, 6, 2, 0, 8, -1014, -1014, 7, 4]\n",
    "# 创建\n",
    "root = build_tree(arr,0)\n",
    "\n",
    "p = root.left\n",
    "q = root.right.right\n"
   ]
  },
  {
   "cell_type": "code",
   "execution_count": 33,
   "metadata": {},
   "outputs": [
    {
     "data": {
      "text/plain": [
       "3"
      ]
     },
     "execution_count": 33,
     "metadata": {},
     "output_type": "execute_result"
    }
   ],
   "source": [
    "def lowestCommonAncestor(root: 'TreeNode', p: 'TreeNode', q: 'TreeNode') -> 'TreeNode':\n",
    "    # 递归出口\n",
    "    if root in (None, p, q):\n",
    "        return root\n",
    "    \n",
    "    left = lowestCommonAncestor(root.left, p, q)  # 左边是否存在 公共节点？p? q?\n",
    "    \n",
    "    # left = None 代表 不存在p 和 q，更不可能存在root了\n",
    "    \n",
    "    # 若存在 公共节点， 那么便将其回溯回来，赋值给left\n",
    "    \n",
    "    # 若不存在root，而存在p或者q，则将其 回溯 回给 left\n",
    "    \n",
    "    right = lowestCommonAncestor(root.right, p, q)\n",
    "    \n",
    "    if left != None and right != None:\n",
    "        return root\n",
    "    \n",
    "    elif left != None or right != None:\n",
    "        return left if left != None else right\n",
    "    \n",
    "    return None\n",
    "    \n",
    "    \n",
    "lowestCommonAncestor(root, p, q).val"
   ]
  },
  {
   "cell_type": "markdown",
   "metadata": {},
   "source": [
    "# 二叉搜索树第K小 寻找\n",
    "\n",
    "给定一个二叉搜索树，编写一个函数 kthSmallest 来查找其中第 k 个最小的元素。\n",
    "\n",
    "\n",
    "说明：\n",
    "\n",
    "\n",
    "你可以假设 k 总是有效的，1 ≤ k ≤ 二叉搜索树元素个数。"
   ]
  },
  {
   "cell_type": "code",
   "execution_count": 42,
   "metadata": {},
   "outputs": [
    {
     "name": "stdout",
     "output_type": "stream",
     "text": [
      "[5]\n",
      "[3, 6]\n",
      "[2, 4]\n",
      "[1]\n"
     ]
    }
   ],
   "source": [
    "arr = [5, 3, 6, 2, 4, -1014, -1014, 1]\n",
    "# 创建\n",
    "root = build_tree(arr,0)\n",
    "bfs(root)\n"
   ]
  },
  {
   "cell_type": "code",
   "execution_count": 46,
   "metadata": {},
   "outputs": [
    {
     "data": {
      "text/plain": [
       "3"
      ]
     },
     "execution_count": 46,
     "metadata": {},
     "output_type": "execute_result"
    }
   ],
   "source": [
    "# 利用二叉搜索树的性质 左边 < 中 < 右\n",
    "def kthSmallest(root , k: int) -> int:\n",
    "    res = inOrder(root, k)\n",
    "    return res\n",
    "\n",
    "def inOrder(root, k):\n",
    "    stack = []\n",
    "    cur = root\n",
    "    count = 1\n",
    "    while (stack or cur):\n",
    "        if cur:\n",
    "            stack.append(cur)\n",
    "            cur = cur.left\n",
    "        else:\n",
    "            cur = stack.pop()\n",
    "            if k == count:\n",
    "                return cur.val\n",
    "            count += 1\n",
    "            cur = cur.right\n",
    "inOrder(root,3)"
   ]
  },
  {
   "cell_type": "code",
   "execution_count": 44,
   "metadata": {},
   "outputs": [
    {
     "data": {
      "text/plain": [
       "[1, 2, 3, 4]"
      ]
     },
     "execution_count": 44,
     "metadata": {},
     "output_type": "execute_result"
    }
   ],
   "source": [
    "tmp  = [1,2,3,4,5]\n",
    "tmp.pop()\n",
    "tmp"
   ]
  },
  {
   "cell_type": "code",
   "execution_count": null,
   "metadata": {},
   "outputs": [],
   "source": []
  },
  {
   "cell_type": "code",
   "execution_count": null,
   "metadata": {},
   "outputs": [],
   "source": []
  },
  {
   "cell_type": "code",
   "execution_count": null,
   "metadata": {},
   "outputs": [],
   "source": []
  },
  {
   "cell_type": "code",
   "execution_count": null,
   "metadata": {},
   "outputs": [],
   "source": []
  },
  {
   "cell_type": "code",
   "execution_count": null,
   "metadata": {},
   "outputs": [],
   "source": []
  },
  {
   "cell_type": "code",
   "execution_count": null,
   "metadata": {},
   "outputs": [],
   "source": []
  },
  {
   "cell_type": "code",
   "execution_count": null,
   "metadata": {},
   "outputs": [],
   "source": []
  },
  {
   "cell_type": "code",
   "execution_count": null,
   "metadata": {},
   "outputs": [],
   "source": []
  },
  {
   "cell_type": "code",
   "execution_count": null,
   "metadata": {},
   "outputs": [],
   "source": []
  }
 ],
 "metadata": {
  "kernelspec": {
   "display_name": "Python 3",
   "language": "python",
   "name": "python3"
  },
  "language_info": {
   "codemirror_mode": {
    "name": "ipython",
    "version": 3
   },
   "file_extension": ".py",
   "mimetype": "text/x-python",
   "name": "python",
   "nbconvert_exporter": "python",
   "pygments_lexer": "ipython3",
   "version": "3.7.3"
  }
 },
 "nbformat": 4,
 "nbformat_minor": 4
}
