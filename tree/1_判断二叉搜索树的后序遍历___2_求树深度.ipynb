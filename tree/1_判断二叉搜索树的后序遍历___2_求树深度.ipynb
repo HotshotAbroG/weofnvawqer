{
 "cells": [
  {
   "cell_type": "markdown",
   "metadata": {},
   "source": [
    "# 输入一个整数数组，判断该数组是不是某二叉搜索树的后序遍历的结果\n",
    "\n",
    "     --5\n",
    "    2    6\n",
    "  --1 ----3\n",
    "  \n",
    "  示例 1：\n",
    "\n",
    "输入: [1,6,3,2,5]\n",
    "\n",
    "输出: false\n",
    "\n",
    "示例 2：\n",
    "\n",
    "输入: [1,3,2,6,5]\n",
    "\n",
    "输出: true"
   ]
  },
  {
   "cell_type": "markdown",
   "metadata": {},
   "source": [
    "# 对于一个子树 : [左，右，中]\n",
    "    \n",
    "所有左子树 < 根节点 < 任一右子树\n",
    "\n"
   ]
  },
  {
   "cell_type": "code",
   "execution_count": 8,
   "metadata": {},
   "outputs": [],
   "source": [
    "import tree as Tree\n",
    "tree = Tree.tree"
   ]
  },
  {
   "cell_type": "code",
   "execution_count": 27,
   "metadata": {},
   "outputs": [
    {
     "data": {
      "text/plain": [
       "False"
      ]
     },
     "execution_count": 27,
     "metadata": {},
     "output_type": "execute_result"
    }
   ],
   "source": [
    "arr = [1,3,2,6,5]\n",
    "arr = [1,6,3,2,5]\n",
    "def verifyPostorder(arr):\n",
    "    \n",
    "    def check(arr, start, end):\n",
    "        if end - start < 2 :\n",
    "            return True\n",
    "        \n",
    "        root_val = arr[end]\n",
    "        cur_index = start\n",
    "        \n",
    "        while cur_index < end and arr[cur_index] <= root_val:\n",
    "            # arr[curr] >= root 退出 此时cur_idnex - 1 为根节点\n",
    "            cur_index += 1\n",
    "        for i in range(cur_index, end):\n",
    "            if arr[i] < root_val:\n",
    "                return False\n",
    "        return check(arr, start, cur_index - 1) and check(arr, cur_index, end -1)\n",
    "    return check(arr, 0, len(arr) - 1)    \n",
    "verifyPostorder(arr)        "
   ]
  },
  {
   "cell_type": "code",
   "execution_count": null,
   "metadata": {},
   "outputs": [],
   "source": []
  },
  {
   "cell_type": "markdown",
   "metadata": {},
   "source": [
    "# 二叉树的深度"
   ]
  },
  {
   "cell_type": "code",
   "execution_count": 30,
   "metadata": {},
   "outputs": [
    {
     "name": "stdout",
     "output_type": "stream",
     "text": [
      "[1]\n",
      "[3, 2]\n",
      "[4]\n"
     ]
    },
    {
     "data": {
      "text/plain": [
       "3"
      ]
     },
     "execution_count": 30,
     "metadata": {},
     "output_type": "execute_result"
    }
   ],
   "source": [
    "def maxDepth(root):\n",
    "    max_value = 0\n",
    "    def find(root, count):\n",
    "        nonlocal max_value\n",
    "        if root is None:\n",
    "            return \n",
    "        count += 1\n",
    "        max_value = max(max_value, count)\n",
    "        \n",
    "        find(root.left, count)\n",
    "        find(root.right, count)\n",
    "    find(root, 0)\n",
    "    return max_value\n",
    "\n",
    "arr = [1,3,2,6, -1014, -1014, -1014, 5]\n",
    "arr = [1, 3, 2, 4]\n",
    "root = tree.build_tree(arr, 0)\n",
    "tree.bfs(root)\n",
    "maxDepth(root)"
   ]
  },
  {
   "cell_type": "code",
   "execution_count": 32,
   "metadata": {},
   "outputs": [
    {
     "name": "stdout",
     "output_type": "stream",
     "text": [
      "[3]\n",
      "[5, 1]\n",
      "[6, 2, 0, 8]\n",
      "[7, 4]\n"
     ]
    }
   ],
   "source": [
    "root = [3,5,1,6,2,0,8,-1014,-1014,7,4]\n",
    "root = tree.build_tree(root, 0)\n",
    "tree.bfs(root)"
   ]
  },
  {
   "cell_type": "code",
   "execution_count": 44,
   "metadata": {},
   "outputs": [
    {
     "data": {
      "text/plain": [
       "5"
      ]
     },
     "execution_count": 44,
     "metadata": {},
     "output_type": "execute_result"
    }
   ],
   "source": [
    "p = root.left\n",
    "q = root.left.left\n",
    "res = [0]\n",
    "def lowestCommonAncestor(root, p, q):\n",
    "    \n",
    "    # 递归出口\n",
    "    if root in (None, p, q):\n",
    "        # 空，找到p，找到q\n",
    "        return root\n",
    "    \n",
    "    left, right = lowestCommonAncestor(root.left, p, q), lowestCommonAncestor(root.right, p, q)\n",
    "    \n",
    "    if left and right:\n",
    "        print(\"OK\")\n",
    "        return root\n",
    "    \n",
    "    if left or right:\n",
    "        return left if left != None else right\n",
    "    \n",
    "    return None\n",
    "lowestCommonAncestor(root,p,q).val"
   ]
  },
  {
   "cell_type": "code",
   "execution_count": null,
   "metadata": {},
   "outputs": [],
   "source": []
  },
  {
   "cell_type": "code",
   "execution_count": null,
   "metadata": {},
   "outputs": [],
   "source": []
  },
  {
   "cell_type": "code",
   "execution_count": null,
   "metadata": {},
   "outputs": [],
   "source": []
  },
  {
   "cell_type": "code",
   "execution_count": null,
   "metadata": {},
   "outputs": [],
   "source": []
  },
  {
   "cell_type": "code",
   "execution_count": null,
   "metadata": {},
   "outputs": [],
   "source": []
  },
  {
   "cell_type": "code",
   "execution_count": null,
   "metadata": {},
   "outputs": [],
   "source": []
  },
  {
   "cell_type": "code",
   "execution_count": null,
   "metadata": {},
   "outputs": [],
   "source": [
    "a"
   ]
  }
 ],
 "metadata": {
  "kernelspec": {
   "display_name": "Python 3",
   "language": "python",
   "name": "python3"
  },
  "language_info": {
   "codemirror_mode": {
    "name": "ipython",
    "version": 3
   },
   "file_extension": ".py",
   "mimetype": "text/x-python",
   "name": "python",
   "nbconvert_exporter": "python",
   "pygments_lexer": "ipython3",
   "version": "3.7.3"
  }
 },
 "nbformat": 4,
 "nbformat_minor": 4
}
