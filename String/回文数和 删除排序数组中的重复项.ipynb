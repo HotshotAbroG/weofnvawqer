{
 "cells": [
  {
   "cell_type": "markdown",
   "metadata": {},
   "source": [
    "# 判断一个整数是否是回文数。回文数是指正序（从左向右）和倒序（从右向左）读都是一样的整数。\n",
    "\n",
    "示例 1:\n",
    "\n",
    "\n",
    "输入: 121\n",
    "\n",
    "输出: true\n",
    "\n",
    "示例 2:\n",
    "\n",
    "输入: -121\n",
    "\n",
    "输出: false\n",
    "\n",
    "解释: 从左向右读, 为 -121 。 从右向左读, 为 121- 。因此它不是一个回文数。\n"
   ]
  },
  {
   "cell_type": "code",
   "execution_count": null,
   "metadata": {},
   "outputs": [],
   "source": []
  },
  {
   "cell_type": "code",
   "execution_count": 4,
   "metadata": {},
   "outputs": [
    {
     "data": {
      "text/plain": [
       "False"
      ]
     },
     "execution_count": 4,
     "metadata": {},
     "output_type": "execute_result"
    }
   ],
   "source": [
    "# 慢\n",
    "def isPalindrome(x):\n",
    "    \n",
    "    string = str(x)\n",
    "    \n",
    "    return string[::-1] == string\n",
    "    \n",
    "isPalindrome(1341)"
   ]
  },
  {
   "cell_type": "code",
   "execution_count": 8,
   "metadata": {},
   "outputs": [
    {
     "data": {
      "text/plain": [
       "True"
      ]
     },
     "execution_count": 8,
     "metadata": {},
     "output_type": "execute_result"
    }
   ],
   "source": [
    "def isPalindrome(x):\n",
    "    x = str(x)\n",
    "    left, right = 0, len(x)-1\n",
    "    while (left < right):\n",
    "        if x[left] != x[right]:\n",
    "            return False\n",
    "        \n",
    "        left += 1\n",
    "        right -= 1\n",
    "        \n",
    "    return True\n",
    "        \n",
    "        \n",
    "isPalindrome(131)    "
   ]
  },
  {
   "cell_type": "code",
   "execution_count": null,
   "metadata": {},
   "outputs": [],
   "source": []
  },
  {
   "cell_type": "markdown",
   "metadata": {},
   "source": [
    "# 删除排序数组中的重复项\n",
    "\n",
    "给定一个排序数组，你需要在原地删除重复出现的元素，\n",
    "\n",
    "使得每个元素只出现一次，返回移除后数组的新长度。\n",
    "\n",
    "\n",
    "**不要使用额外的数组空间**，\n",
    "\n",
    "<br>你必须在原地修改输入数组并在使用 O(1) 额外空间的条件下完成。\n",
    "\n",
    "\n",
    "\n",
    "给定数组 nums = [1,1,2], \n",
    "\n",
    "\n",
    "函数应该返回新的长度 2, 并且原数组 nums 的前两个元素被修改为 1, 2。 \n",
    "\n",
    "\n",
    "你不需要考虑数组中超出新长度后面的元素。\n",
    "\n"
   ]
  },
  {
   "cell_type": "code",
   "execution_count": 14,
   "metadata": {},
   "outputs": [
    {
     "data": {
      "text/plain": [
       "[1, 2, 3, 4, 5, 6, 7, 6, 7]"
      ]
     },
     "execution_count": 14,
     "metadata": {},
     "output_type": "execute_result"
    }
   ],
   "source": [
    "# 排序数组\n",
    "def removeDuplicates(arr):\n",
    "    # 1, 2 , 3, 4, 5, 6  6   7\n",
    "    # 0  1   2  3  4  5   6  7\n",
    "    \n",
    "    # 双指针\n",
    "    if len(arr) == 0:\n",
    "        return 0\n",
    "    \n",
    "    i = 0\n",
    "    for j in range(1, len(arr)):\n",
    "        if arr[j] != arr[i]:\n",
    "            i += 1\n",
    "            if i != j :\n",
    "                arr[i] = arr[j]\n",
    "            \n",
    "    return i + 1\n",
    "\n",
    "arr = [1, 2, 3, 4, 4, 5, 5, 6, 7]\n",
    "removeDuplicates(arr)\n",
    "arr\n",
    "            "
   ]
  },
  {
   "cell_type": "code",
   "execution_count": 25,
   "metadata": {},
   "outputs": [
    {
     "data": {
      "text/plain": [
       "2"
      ]
     },
     "execution_count": 25,
     "metadata": {},
     "output_type": "execute_result"
    }
   ],
   "source": [
    "def ham(x, y):\n",
    "    i = x^y\n",
    "    count = 0 \n",
    "    while i:\n",
    "        if i & 1:\n",
    "            count += 1\n",
    "        \n",
    "        i = i >> 1\n",
    "    return count\n",
    "    \n",
    "ham(1, 4)"
   ]
  },
  {
   "cell_type": "markdown",
   "metadata": {},
   "source": [
    "# 变为0 的次数"
   ]
  },
  {
   "cell_type": "code",
   "execution_count": 29,
   "metadata": {},
   "outputs": [
    {
     "data": {
      "text/plain": [
       "2"
      ]
     },
     "execution_count": 29,
     "metadata": {},
     "output_type": "execute_result"
    }
   ],
   "source": [
    "def numberSteps(num):\n",
    "    count = 0\n",
    "    def find(number):\n",
    "        nonlocal count\n",
    "        if number == 1:\n",
    "            count += 1\n",
    "            return\n",
    "        count += 1\n",
    "        if number % 2 == 0:\n",
    "            find(int(number/2))\n",
    "        else:\n",
    "            find(number - 1)\n",
    "        \n",
    "    find(num)\n",
    "    return count\n",
    "numberSteps(2)"
   ]
  },
  {
   "cell_type": "code",
   "execution_count": 35,
   "metadata": {},
   "outputs": [
    {
     "data": {
      "text/plain": [
       "6"
      ]
     },
     "execution_count": 35,
     "metadata": {},
     "output_type": "execute_result"
    }
   ],
   "source": [
    "def numberSteps(num):\n",
    "    count = 0\n",
    "    while num:\n",
    "        count += 1\n",
    "        if num%2 == 0:\n",
    "            num /= 2\n",
    "            \n",
    "        else:\n",
    "            num -= 1\n",
    "            \n",
    "    return count\n",
    "numberSteps(14)"
   ]
  },
  {
   "cell_type": "code",
   "execution_count": null,
   "metadata": {},
   "outputs": [],
   "source": []
  },
  {
   "cell_type": "code",
   "execution_count": null,
   "metadata": {},
   "outputs": [],
   "source": []
  },
  {
   "cell_type": "code",
   "execution_count": null,
   "metadata": {},
   "outputs": [],
   "source": []
  },
  {
   "cell_type": "code",
   "execution_count": null,
   "metadata": {},
   "outputs": [],
   "source": []
  },
  {
   "cell_type": "code",
   "execution_count": null,
   "metadata": {},
   "outputs": [],
   "source": []
  },
  {
   "cell_type": "code",
   "execution_count": null,
   "metadata": {},
   "outputs": [],
   "source": []
  },
  {
   "cell_type": "code",
   "execution_count": null,
   "metadata": {},
   "outputs": [],
   "source": []
  }
 ],
 "metadata": {
  "kernelspec": {
   "display_name": "Python 3",
   "language": "python",
   "name": "python3"
  },
  "language_info": {
   "codemirror_mode": {
    "name": "ipython",
    "version": 3
   },
   "file_extension": ".py",
   "mimetype": "text/x-python",
   "name": "python",
   "nbconvert_exporter": "python",
   "pygments_lexer": "ipython3",
   "version": "3.7.3"
  }
 },
 "nbformat": 4,
 "nbformat_minor": 4
}
