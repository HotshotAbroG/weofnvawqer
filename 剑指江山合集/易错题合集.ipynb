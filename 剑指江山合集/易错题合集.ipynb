{
 "cells": [
  {
   "cell_type": "markdown",
   "metadata": {},
   "source": [
    "# 1 数组中数字出现的次数\n",
    "![title](../img/133.png)\n",
    "\n"
   ]
  },
  {
   "cell_type": "markdown",
   "metadata": {},
   "source": [
    " 4 ^ 1 ^ 4 ^ 6 => 1 ^ 6\n",
    "\n",
    "6 对应的二进制： 110\n",
    "\n",
    "1 对应的二进制： 001\n",
    "\n",
    "1 ^ 6  二进制： 111\n",
    "\n",
    "## num1:       101110      110     1111\n",
    "\n",
    "\n",
    "## num2:       111110      001     1001\n",
    "\n",
    "## num1^num2:  010000      111     0110\n",
    "\n",
    "## 可行的mask:  010000      001     0010\n",
    "\n"
   ]
  },
  {
   "cell_type": "code",
   "execution_count": 10,
   "metadata": {},
   "outputs": [
    {
     "data": {
      "text/plain": [
       "[2, 10]"
      ]
     },
     "execution_count": 10,
     "metadata": {},
     "output_type": "execute_result"
    }
   ],
   "source": [
    "class Solution:\n",
    "    def find(self, nums):\n",
    "        res, a, b = 0, 0, 0\n",
    "        for num in nums:\n",
    "            res ^= num\n",
    "        mask = 1 \n",
    "        while mask & res == 0:\n",
    "            mask <<= 1\n",
    "        for num in nums:\n",
    "            if mask & num == 0:\n",
    "                a ^= num\n",
    "            else:\n",
    "                b ^= num\n",
    "        return [a, b]\n",
    "cls = Solution()\n",
    "arr = [1,2,10,4,1,4,3,3]\n",
    "cls.find(arr)"
   ]
  },
  {
   "cell_type": "code",
   "execution_count": 8,
   "metadata": {},
   "outputs": [
    {
     "data": {
      "text/plain": [
       "[2, 10]"
      ]
     },
     "execution_count": 8,
     "metadata": {},
     "output_type": "execute_result"
    }
   ],
   "source": [
    "class Solution:\n",
    "    def singleNumbers(self, nums):\n",
    "        ret, a, b = 0, 0, 0  # 所有数字异或的结果\n",
    "        \n",
    "        for n in nums:\n",
    "            ret ^= n\n",
    "       \n",
    "        h = 1     # 获得k中最低位的1\n",
    "        # 首先明确 2个不同的数字，那么代表 他们至少有一位数字是不同的（非常重要！！！）\n",
    "        # 那么从右到左找到第一个不同的位\n",
    "        # 怎么找呢？？？ 利用 这2个数字的异或，1就代表不同的位置\n",
    "        # 找到这个一位后，生成个mask，利用这个mask进行异或，带这位的一定是其中一个，另一个不带这位\n",
    "        while(ret & h == 0):\n",
    "            h <<= 1\n",
    "            \n",
    "        for n in nums:\n",
    "            # 根据该位是否为0将其分为两组\n",
    "            if (h & n == 0): # 001000 \n",
    "                a ^= n\n",
    "            else:\n",
    "                b ^= n\n",
    "\n",
    "        return [a, b]\n",
    "        \n",
    "\n",
    "cls = Solution()\n",
    "arr = [1,2,10,4,1,4,3,3]\n",
    "cls.singleNumbers(arr)"
   ]
  },
  {
   "cell_type": "markdown",
   "metadata": {},
   "source": [
    "# 2 在排序数组中查找数字 I\n",
    "![title](../img/129.png)"
   ]
  },
  {
   "cell_type": "code",
   "execution_count": 23,
   "metadata": {},
   "outputs": [
    {
     "data": {
      "text/plain": [
       "5"
      ]
     },
     "execution_count": 23,
     "metadata": {},
     "output_type": "execute_result"
    }
   ],
   "source": [
    "class Solution:\n",
    "    def find_bound(self, nums, target, flag):\n",
    "        left, right = 0, len(nums)\n",
    "        while left < right:\n",
    "            mid = (left + right) >> 1\n",
    "            if nums[mid] > target or (flag and nums[mid] == target):\n",
    "                right = mid \n",
    "            else:\n",
    "                left = mid + 1\n",
    "        return left\n",
    "            \n",
    "    \n",
    "    def search(self, nums, target: int) -> int:\n",
    "        # 排序数组\n",
    "        left_index = self.find_bound(nums,target,True)\n",
    "        if left_index == len(nums) or nums[left_index] != target:\n",
    "            return 0\n",
    "        right_index = self.find_bound(nums, target, False)\n",
    "        return right_index - left_index\n",
    "\n",
    "cls = Solution()\n",
    "nums = [1,2,3,5,7,7,7,7,7,8,8,8]\n",
    "res = cls.search(nums, 7)\n",
    "res"
   ]
  },
  {
   "cell_type": "markdown",
   "metadata": {},
   "source": [
    "# 6 重建二叉树\n",
    "![title](../img/a45.png)"
   ]
  },
  {
   "cell_type": "code",
   "execution_count": 27,
   "metadata": {},
   "outputs": [
    {
     "name": "stdout",
     "output_type": "stream",
     "text": [
      "[3]\n",
      "[9, 20]\n",
      "[15, 7]\n"
     ]
    }
   ],
   "source": [
    "import tree as Tree\n",
    "tree = Tree.tree\n",
    "class Solution:\n",
    "    def buildTree(self, preorder, inorder) :\n",
    "        if len(preorder) == 0:\n",
    "            return None\n",
    "        \n",
    "        value = preorder[0]\n",
    "        index = inorder.index(value)\n",
    "        root = tree(value)\n",
    "        root.left = self.buildTree(preorder[1:index+1], inorder[:index])\n",
    "        root.right = self.buildTree(preorder[index+1:], inorder[index+1:])\n",
    "        \n",
    "        return root\n",
    "        \n",
    "        \n",
    "        \n",
    "preorder  = [3,9,20,15,7]\n",
    "inorder = [9,3,15,20,7]\n",
    "cls = Solution()\n",
    "res1 = cls.buildTree(preorder, inorder)\n",
    "tree.bfs(res1)"
   ]
  },
  {
   "cell_type": "markdown",
   "metadata": {},
   "source": [
    "# 1 旋转数组最小数字\n",
    "![title](../img/a34.png)"
   ]
  },
  {
   "cell_type": "code",
   "execution_count": 47,
   "metadata": {},
   "outputs": [
    {
     "data": {
      "text/plain": [
       "1"
      ]
     },
     "execution_count": 47,
     "metadata": {},
     "output_type": "execute_result"
    }
   ],
   "source": [
    "class Solution:\n",
    "    def find(self, nums):\n",
    "        left, right = 0, len(nums)-1\n",
    "        while left < right:\n",
    "            mid = (left+right)>>1\n",
    "            if nums[mid] == nums[right]:\n",
    "                right -= 1\n",
    "            elif nums[mid] > nums[right]:\n",
    "                left = mid + 1\n",
    "            else:\n",
    "                right = mid\n",
    "        return nums[left]\n",
    "            \n",
    "nums = [2,2,2,0,1]\n",
    "nums = [3,3,1,3]\n",
    "cls = Solution()\n",
    "cls.find(nums)"
   ]
  },
  {
   "cell_type": "markdown",
   "metadata": {},
   "source": [
    "# 4 剪绳子\n",
    "![title](../img/a82.png)"
   ]
  },
  {
   "cell_type": "code",
   "execution_count": 5,
   "metadata": {},
   "outputs": [
    {
     "data": {
      "text/plain": [
       "36"
      ]
     },
     "execution_count": 5,
     "metadata": {},
     "output_type": "execute_result"
    }
   ],
   "source": [
    "class Solution:\n",
    "    def find(self, n):\n",
    "        dp = [0 for _ in range(n+1)]\n",
    "        dp[1] = 1\n",
    "        for i in range(1, n+1):\n",
    "            for j in range(1, i):\n",
    "                dp[i] = max(dp[i], dp[i-j]*j, j*(i-j))\n",
    "        return dp[-1]\n",
    "cls = Solution()\n",
    "cls.find(10)"
   ]
  },
  {
   "cell_type": "markdown",
   "metadata": {},
   "source": [
    "# 正则表达式匹配\n",
    "![title](../img/122.png)"
   ]
  },
  {
   "cell_type": "code",
   "execution_count": 7,
   "metadata": {},
   "outputs": [
    {
     "name": "stdout",
     "output_type": "stream",
     "text": [
      "[True, False, False, False, False]\n",
      "[False, True, False, False, False]\n",
      "[False, False, True, False, True]\n"
     ]
    }
   ],
   "source": [
    "class Solution:\n",
    "    def find(self, s, p):\n",
    "        row, col = len(s), len(p)\n",
    "        dp = [[False for _ in range(col+1)] for i in range(row+1)]\n",
    "        \n",
    "        dp[0][0] = True\n",
    "        for i in range(row+1):\n",
    "            for j in range(1, 1+col):\n",
    "                if p[j-1] != \"*\":\n",
    "                    # 分 * 和 非*\n",
    "                    if i > 0 and (p[j-1] == s[i-1] or p[j-1] == \".\"):\n",
    "                        dp[i][j] = dp[i][j] or dp[i-1][j-1]\n",
    "                else:\n",
    "                    # 0/n\n",
    "                    if j >= 2: # 0 ci\n",
    "                        dp[i][j] = dp[i][j] or dp[i][j-2]\n",
    "                    if j >= 2 and i > 0 and (s[i-1] == p[j-2] or p[j-2] == \".\"):\n",
    "                        dp[i][j] = dp[i][j] or dp[i-1][j]\n",
    "        for i in dp:\n",
    "            print(i)\n",
    "cls = Solution()\n",
    "s = \"aa\"\n",
    "p = \"aaa*\"\n",
    "cls.find(s, p)"
   ]
  },
  {
   "cell_type": "code",
   "execution_count": null,
   "metadata": {},
   "outputs": [],
   "source": []
  },
  {
   "cell_type": "code",
   "execution_count": null,
   "metadata": {},
   "outputs": [],
   "source": []
  },
  {
   "cell_type": "code",
   "execution_count": null,
   "metadata": {},
   "outputs": [],
   "source": []
  }
 ],
 "metadata": {
  "kernelspec": {
   "display_name": "Python 3",
   "language": "python",
   "name": "python3"
  },
  "language_info": {
   "codemirror_mode": {
    "name": "ipython",
    "version": 3
   },
   "file_extension": ".py",
   "mimetype": "text/x-python",
   "name": "python",
   "nbconvert_exporter": "python",
   "pygments_lexer": "ipython3",
   "version": "3.7.6"
  }
 },
 "nbformat": 4,
 "nbformat_minor": 4
}
