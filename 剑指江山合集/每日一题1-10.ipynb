{
 "cells": [
  {
   "cell_type": "markdown",
   "metadata": {},
   "source": [
    "# 1  最大正方形\n",
    "![title](../img/124.png)"
   ]
  },
  {
   "cell_type": "code",
   "execution_count": null,
   "metadata": {},
   "outputs": [],
   "source": [
    "class Solution:\n",
    "    def maximalSquare(self, matrix: List[List[str]]) -> int:\n",
    "        if len(matrix) == 0 or len(matrix[0]) == 0:\n",
    "            return 0\n",
    "        \n",
    "        maxSide = 0\n",
    "        rows, columns = len(matrix), len(matrix[0])\n",
    "        dp = [[0] * columns for _ in range(rows)]\n",
    "        for i in range(rows):\n",
    "            for j in range(columns):\n",
    "                if matrix[i][j] == '1':\n",
    "                    if i == 0 or j == 0:\n",
    "                        dp[i][j] = 1\n",
    "                    else:\n",
    "                        dp[i][j] = min(dp[i - 1][j], dp[i][j - 1], dp[i - 1][j - 1]) + 1\n",
    "                    maxSide = max(maxSide, dp[i][j])\n",
    "        \n",
    "        maxSquare = maxSide * maxSide\n",
    "        return maxSquare\n"
   ]
  },
  {
   "cell_type": "code",
   "execution_count": 19,
   "metadata": {},
   "outputs": [
    {
     "name": "stdout",
     "output_type": "stream",
     "text": [
      "[1, 1, 1, 0, 0]\n",
      "[1, 0, 1, 1, 1]\n",
      "[1, 1, 1, 2, 2]\n",
      "[1, 0, 1, 2, 3]\n"
     ]
    },
    {
     "data": {
      "text/plain": [
       "9"
      ]
     },
     "execution_count": 19,
     "metadata": {},
     "output_type": "execute_result"
    }
   ],
   "source": [
    "grid = [[1,1,1,0,0],\n",
    "        [1,0,1,1,1],\n",
    "        [1,1,1,1,1],\n",
    "        [1,0,1,1,1]]\n",
    "class Solution:\n",
    "    def maximalSquare(self, matrix) -> int:\n",
    "        if len(matrix) == 0 or len(matrix[0]) == 0:\n",
    "            return 0\n",
    "        res = 0 \n",
    "        row, col = len(matrix), len(matrix[0])\n",
    "        dp = [[0] * col for _ in range(row)]\n",
    "        for i in range(row):\n",
    "            for j in range(col):\n",
    "                if matrix[i][j] == 1:\n",
    "                    if  i*j == 0:\n",
    "                        dp[i][j] = 1\n",
    "                    else:\n",
    "                        dp[i][j] = min(dp[i-1][j], dp[i][j-1], dp[i-1][j-1])+1\n",
    "                res = max(res, dp[i][j])\n",
    "        for i in dp:\n",
    "            print(i)\n",
    "        return res **2\n",
    "cls = Solution()\n",
    "cls.maximalSquare(grid)"
   ]
  },
  {
   "cell_type": "markdown",
   "metadata": {},
   "source": [
    "# 2 只出现一次的数字\n",
    "![title](../img/q1.png)"
   ]
  },
  {
   "cell_type": "code",
   "execution_count": 7,
   "metadata": {},
   "outputs": [
    {
     "data": {
      "text/plain": [
       "4"
      ]
     },
     "execution_count": 7,
     "metadata": {},
     "output_type": "execute_result"
    }
   ],
   "source": [
    "class Solution:\n",
    "    def singleNumber(self, nums ) -> int:\n",
    "        res = 0\n",
    "        for num in nums:\n",
    "            res ^= num\n",
    "        return res\n",
    "arr = [4,1,2,1,2]\n",
    "cls = Solution()\n",
    "cls.singleNumber(arr)"
   ]
  },
  {
   "cell_type": "markdown",
   "metadata": {},
   "source": [
    "# 3 只出现一次的数字II\n",
    "![title](../img/q2.png)"
   ]
  },
  {
   "cell_type": "code",
   "execution_count": 19,
   "metadata": {},
   "outputs": [
    {
     "name": "stdout",
     "output_type": "stream",
     "text": [
      "2 -----> 0\n",
      "0 -----> 2\n",
      "0 -----> 0\n"
     ]
    },
    {
     "data": {
      "text/plain": [
       "0"
      ]
     },
     "execution_count": 19,
     "metadata": {},
     "output_type": "execute_result"
    }
   ],
   "source": [
    "class Solution:\n",
    "    def singleNumber(self, nums) -> int:\n",
    "        # 不适用额外空间\n",
    "        seen_once = seen_twice = 0\n",
    "        \n",
    "        for num in nums:\n",
    "            # first appearance: \n",
    "            # add num to seen_once \n",
    "            # don't add to seen_twice because of presence in seen_once\n",
    "            \n",
    "            # second appearance: \n",
    "            # remove num from seen_once \n",
    "            # add num to seen_twice\n",
    "            \n",
    "            # third appearance: \n",
    "            # don't add to seen_once because of presence in seen_twice\n",
    "            # remove num from seen_twice\n",
    "            seen_once = ~seen_twice & (seen_once ^ num) # 若 seen_twice = (seen_once ^ num), 那么整体为0，代表这是第三次看到了，\n",
    "            # 具体是通过~ 取反做到的\n",
    "            seen_twice = ~seen_once & (seen_twice ^ num)\n",
    "            print(seen_once, \"----->\", seen_twice)\n",
    "        return seen_once        \n",
    "arr = [0,1,0,1,0,1,99]\n",
    "arr = [2,2,2]\n",
    "cls = Solution()\n",
    "cls.singleNumber(arr)"
   ]
  },
  {
   "cell_type": "code",
   "execution_count": 17,
   "metadata": {},
   "outputs": [
    {
     "data": {
      "text/plain": [
       "'-0b1'"
      ]
     },
     "execution_count": 17,
     "metadata": {},
     "output_type": "execute_result"
    }
   ],
   "source": [
    "bin(~0)"
   ]
  },
  {
   "cell_type": "code",
   "execution_count": null,
   "metadata": {},
   "outputs": [],
   "source": []
  },
  {
   "cell_type": "code",
   "execution_count": null,
   "metadata": {},
   "outputs": [],
   "source": []
  },
  {
   "cell_type": "code",
   "execution_count": null,
   "metadata": {},
   "outputs": [],
   "source": []
  },
  {
   "cell_type": "code",
   "execution_count": null,
   "metadata": {},
   "outputs": [],
   "source": []
  },
  {
   "cell_type": "code",
   "execution_count": null,
   "metadata": {},
   "outputs": [],
   "source": []
  },
  {
   "cell_type": "code",
   "execution_count": null,
   "metadata": {},
   "outputs": [],
   "source": []
  },
  {
   "cell_type": "code",
   "execution_count": null,
   "metadata": {},
   "outputs": [],
   "source": []
  },
  {
   "cell_type": "code",
   "execution_count": null,
   "metadata": {},
   "outputs": [],
   "source": []
  },
  {
   "cell_type": "code",
   "execution_count": null,
   "metadata": {},
   "outputs": [],
   "source": []
  },
  {
   "cell_type": "code",
   "execution_count": null,
   "metadata": {},
   "outputs": [],
   "source": []
  },
  {
   "cell_type": "code",
   "execution_count": null,
   "metadata": {},
   "outputs": [],
   "source": []
  },
  {
   "cell_type": "code",
   "execution_count": null,
   "metadata": {},
   "outputs": [],
   "source": []
  },
  {
   "cell_type": "code",
   "execution_count": null,
   "metadata": {},
   "outputs": [],
   "source": []
  },
  {
   "cell_type": "code",
   "execution_count": null,
   "metadata": {},
   "outputs": [],
   "source": []
  },
  {
   "cell_type": "code",
   "execution_count": null,
   "metadata": {},
   "outputs": [],
   "source": []
  },
  {
   "cell_type": "code",
   "execution_count": null,
   "metadata": {},
   "outputs": [],
   "source": []
  }
 ],
 "metadata": {
  "kernelspec": {
   "display_name": "Python 3",
   "language": "python",
   "name": "python3"
  },
  "language_info": {
   "codemirror_mode": {
    "name": "ipython",
    "version": 3
   },
   "file_extension": ".py",
   "mimetype": "text/x-python",
   "name": "python",
   "nbconvert_exporter": "python",
   "pygments_lexer": "ipython3",
   "version": "3.7.6"
  }
 },
 "nbformat": 4,
 "nbformat_minor": 4
}
