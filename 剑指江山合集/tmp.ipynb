{
 "cells": [
  {
   "cell_type": "code",
   "execution_count": 30,
   "metadata": {},
   "outputs": [
    {
     "data": {
      "text/plain": [
       "True"
      ]
     },
     "execution_count": 30,
     "metadata": {},
     "output_type": "execute_result"
    }
   ],
   "source": [
    "class word(str):\n",
    "    def __init__(self,arg=''):\n",
    "        if isinstance(arg,str):\n",
    "            if ' 'in arg:\n",
    "                arg=arg.split()[0]\n",
    "            self.len=len(arg)\n",
    "        else:\n",
    "            print('参数错误')\n",
    "            \n",
    "    def __eq__(self,other):\n",
    "        if self.len==other.len:\n",
    "            return True\n",
    "        else:\n",
    "            return False\n",
    "w1 = word(\"sssd\")\n",
    "w2 = word(\"ssss\")\n",
    "w1 == w2\n"
   ]
  },
  {
   "cell_type": "markdown",
   "metadata": {},
   "source": [
    "# 装饰器"
   ]
  },
  {
   "cell_type": "code",
   "execution_count": 39,
   "metadata": {},
   "outputs": [
    {
     "name": "stdout",
     "output_type": "stream",
     "text": [
      "m2: start coding......\n",
      "m1\n"
     ]
    },
    {
     "data": {
      "text/plain": [
       "'[[[[[[[[*******hello world*******]]]]]]]]'"
      ]
     },
     "execution_count": 39,
     "metadata": {},
     "output_type": "execute_result"
    }
   ],
   "source": [
    "def m2(fn):  \n",
    "    def wrapped():  \n",
    "        print(\"m2: start coding......\")\n",
    "        return \"[[[[[[[[\"  + fn() + \"]]]]]]]]\"  \n",
    "    return wrapped  \n",
    "   \n",
    "def m1(fn):  \n",
    "    def wrapped():  \n",
    "        print(\"m1\")\n",
    "        return \"*******\" + fn() + \"*******\" \n",
    "    return wrapped  \n",
    "  \n",
    "@m2  \n",
    "@m1  \n",
    "def hello():  \n",
    "    return \"hello world\"  \n",
    "   \n",
    "hello() "
   ]
  },
  {
   "cell_type": "markdown",
   "metadata": {},
   "source": [
    "# property"
   ]
  },
  {
   "cell_type": "code",
   "execution_count": 48,
   "metadata": {},
   "outputs": [
    {
     "name": "stdout",
     "output_type": "stream",
     "text": [
      "查看属性的文档字符串：学生年龄\n",
      "设置属性时执行的代码\n",
      "获取属性时执行的代码\n",
      "学生年龄为：18\n",
      "删除属性时执行的代码\n"
     ]
    }
   ],
   "source": [
    "class Student:\n",
    "    def __init__(self):\n",
    "        self.__age = None\n",
    "        self._name = \"xm1014\"\n",
    "        self.__sex = \"age\"\n",
    "\n",
    "    def get_age(self):\n",
    "        print('获取属性时执行的代码')\n",
    "        return self.__age\n",
    "\n",
    "    def set_age(self, age):\n",
    "        print('设置属性时执行的代码')\n",
    "        self.__age = age\n",
    "\n",
    "    def del_age(self):\n",
    "        print('删除属性时执行的代码')\n",
    "        del self.__age\n",
    "\n",
    "    age = property(get_age, set_age, del_age, '学生年龄')\n",
    "\n",
    "\n",
    "student = Student()\n",
    "# 注意要用 类名.属性.__doc__ 的形式查看属性的文档字符串\n",
    "print('查看属性的文档字符串：' + Student.age.__doc__)\n",
    "\n",
    "# 设置属性\n",
    "student.age = 18\n",
    "\n",
    "# 获取属性\n",
    "print('学生年龄为：' + str(student.age))\n",
    "\n",
    "# 删除属性\n",
    "del student.age\n",
    "\n"
   ]
  },
  {
   "cell_type": "markdown",
   "metadata": {},
   "source": []
  },
  {
   "cell_type": "code",
   "execution_count": null,
   "metadata": {},
   "outputs": [],
   "source": []
  },
  {
   "cell_type": "code",
   "execution_count": null,
   "metadata": {},
   "outputs": [],
   "source": []
  },
  {
   "cell_type": "code",
   "execution_count": null,
   "metadata": {},
   "outputs": [],
   "source": []
  },
  {
   "cell_type": "code",
   "execution_count": null,
   "metadata": {},
   "outputs": [],
   "source": []
  },
  {
   "cell_type": "code",
   "execution_count": null,
   "metadata": {},
   "outputs": [],
   "source": []
  },
  {
   "cell_type": "code",
   "execution_count": null,
   "metadata": {},
   "outputs": [],
   "source": []
  },
  {
   "cell_type": "code",
   "execution_count": null,
   "metadata": {},
   "outputs": [],
   "source": []
  },
  {
   "cell_type": "code",
   "execution_count": null,
   "metadata": {},
   "outputs": [],
   "source": []
  },
  {
   "cell_type": "code",
   "execution_count": null,
   "metadata": {},
   "outputs": [],
   "source": []
  },
  {
   "cell_type": "code",
   "execution_count": null,
   "metadata": {},
   "outputs": [],
   "source": []
  }
 ],
 "metadata": {
  "kernelspec": {
   "display_name": "Python 3",
   "language": "python",
   "name": "python3"
  },
  "language_info": {
   "codemirror_mode": {
    "name": "ipython",
    "version": 3
   },
   "file_extension": ".py",
   "mimetype": "text/x-python",
   "name": "python",
   "nbconvert_exporter": "python",
   "pygments_lexer": "ipython3",
   "version": "3.7.6"
  }
 },
 "nbformat": 4,
 "nbformat_minor": 4
}
