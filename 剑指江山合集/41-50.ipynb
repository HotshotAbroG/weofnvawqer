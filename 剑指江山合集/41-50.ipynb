{
 "cells": [
  {
   "cell_type": "markdown",
   "metadata": {},
   "source": [
    "#  1 1～n整数中1出现的次数  \n",
    "![title](../img/a7.png)"
   ]
  },
  {
   "cell_type": "markdown",
   "metadata": {},
   "source": [
    "\n",
    "\n",
    "我们可以将一个数字拆分为**最高位和其右边** ，\n",
    "\n",
    "比如3452，拆成3 和 452， 最高位high=3, last=452, 数的范围是几千的数字，那么power=1000\n",
    "\n",
    "先看最高位贡献了多少个1，\n",
    "\n",
    "**如果最高位大于1， 那么最高位贡献1000个1，1000~1999**\n",
    "\n",
    "**如果最高位等于1， 那么最高位贡献last个1，1539-----> 贡献539个1， 1000，1001，....1539**\n",
    "\n",
    "那么剩余位贡献多少个1呢，只要看0-999的个、十、百位贡献了多少个1， 那么 1000----1999， 2000---2999， 的个、十、百位贡献的1的个数都是一样的 即high * countDigitOne(power-1)个1\n",
    "\n",
    "最后还剩下3000~3452 这last+1个数字的个、十、百位贡献的1的数量，即countDigitOne(last)\n",
    "\n",
    "全部加起来即可\n",
    "\n",
    "如果最高位等于1，那么最高位贡献last+1个1，只要看剩余位贡献多少个1：countDigOne(last) + countDitOne(power-1)\n"
   ]
  },
  {
   "cell_type": "code",
   "execution_count": 10,
   "metadata": {},
   "outputs": [
    {
     "data": {
      "text/plain": [
       "686"
      ]
     },
     "execution_count": 10,
     "metadata": {},
     "output_type": "execute_result"
    }
   ],
   "source": [
    "def find(number):\n",
    "    if number < 1:\n",
    "        return 0\n",
    "    if number < 10:\n",
    "        return 1\n",
    "    number = str(number)\n",
    "    weight = 10 ** int(len(number)-1)\n",
    "    high, low = int(number[0]), int(number[1:])\n",
    "    if high == 1:\n",
    "        # 1322---> [999] + 322 + 1 + [322]\n",
    "        return find(low) + find(weight-1) + low + 1\n",
    "    else:\n",
    "        return find(low) + high * find(weight - 1) + weight\n",
    "find(1231)"
   ]
  },
  {
   "cell_type": "code",
   "execution_count": 9,
   "metadata": {},
   "outputs": [
    {
     "data": {
      "text/plain": [
       "686"
      ]
     },
     "execution_count": 9,
     "metadata": {},
     "output_type": "execute_result"
    }
   ],
   "source": [
    "class Solution:\n",
    "    def countDigitOne(self, n: int) -> int:\n",
    "        if n == 0 :\n",
    "            return 0\n",
    "        if n < 10:\n",
    "            return 1\n",
    "        high, low = int(str(n)[0]), int(str(n)[1:])\n",
    "        ten = 10**(len(str(n))-1) # 3421 = 10**3\n",
    "    \n",
    "        if high == 1:\n",
    "            # [1572] = 571个1(1572,1571,1570....) + (572)(1000, 1001, 1002...1571) + [999] (0,1,2,3,....999)\n",
    "            return self.countDigitOne(low) + low + 1 + self.countDigitOne(ten-1)\n",
    "        else:\n",
    "            # [3532] = 3* [999] \n",
    "            # 这个ten 之前是low+1,是为了解决高位位1的情况，现在高位都大于1了  如 2001 和1001 后者比前者多一个1，所以不能归为一类\n",
    "            return self.countDigitOne(low) + high*self.countDigitOne(ten-1) + ten \n",
    "cls = Solution()\n",
    "cls.countDigitOne(1231)"
   ]
  },
  {
   "cell_type": "markdown",
   "metadata": {},
   "source": [
    "# 2 面试题44. 数字序列中某一位的数字\n",
    "![title](../img/a8.png)\n"
   ]
  },
  {
   "cell_type": "code",
   "execution_count": 12,
   "metadata": {},
   "outputs": [
    {
     "name": "stdout",
     "output_type": "stream",
     "text": [
      "['30', '3', '34', '5', '9']\n"
     ]
    },
    {
     "data": {
      "text/plain": [
       "'3033459'"
      ]
     },
     "execution_count": 12,
     "metadata": {},
     "output_type": "execute_result"
    }
   ],
   "source": [
    "class Solution:\n",
    "    def minNumber(self, nums) -> str:\n",
    "        def quick_sort(string_list, left, right):\n",
    "            if left > right:\n",
    "                return \n",
    "            pivot_index = left\n",
    "            start, end = left, right\n",
    "            while start < end:\n",
    "                while start < end and string_list[end] + string_list[pivot_index] >= string_list[pivot_index] + string_list[end]:\n",
    "                    end -= 1\n",
    "                while start < end and string_list[start] + string_list[pivot_index] <= string_list[pivot_index] + string_list[start]:\n",
    "                    start += 1\n",
    "                string_list[start], string_list[end] = string_list[end], string_list[start]\n",
    "                \n",
    "            string_list[start], string_list[pivot_index] = string_list[pivot_index], string_list[start]\n",
    "            quick_sort(string_list, left, pivot_index-1)\n",
    "            quick_sort(string_list, pivot_index+1, right)\n",
    "            \n",
    "                \n",
    "                \n",
    "        string_list = [str(i) for i in nums]\n",
    "        quick_sort(string_list, 0, len(nums)-1)\n",
    "        print(string_list)\n",
    "        return \"\".join(string_list)\n",
    "cls = Solution()\n",
    "arr = [3,30,34,5,9]\n",
    "cls.minNumber(arr)"
   ]
  },
  {
   "cell_type": "markdown",
   "metadata": {},
   "source": [
    "# 3 把数字翻译成字符串\n",
    "![title](../img/127.png)"
   ]
  },
  {
   "cell_type": "code",
   "execution_count": 40,
   "metadata": {},
   "outputs": [
    {
     "data": {
      "text/plain": [
       "3"
      ]
     },
     "execution_count": 40,
     "metadata": {},
     "output_type": "execute_result"
    }
   ],
   "source": [
    "class Solution:\n",
    "    def translateNum(self, num: int) -> int:\n",
    "        string = str(num)\n",
    "        dp = [1] * (len(string) + 1)\n",
    "        for i in range(2, len(string)+1):\n",
    "            sub_string = int(string[i-2] + string[i-1])\n",
    "            dp[i] = dp[i-1] \n",
    "            if sub_string > 9 and sub_string < 26:\n",
    "                dp[i] += dp[i-2]\n",
    "                \n",
    "        return dp[-1]\n",
    "cls = Solution()\n",
    "cls.translateNum(\"122\")"
   ]
  },
  {
   "cell_type": "code",
   "execution_count": 39,
   "metadata": {},
   "outputs": [
    {
     "name": "stdout",
     "output_type": "stream",
     "text": [
      "[1, 1, 2, 3, 5, 5]\n"
     ]
    },
    {
     "data": {
      "text/plain": [
       "5"
      ]
     },
     "execution_count": 39,
     "metadata": {},
     "output_type": "execute_result"
    }
   ],
   "source": [
    "class Solution:\n",
    "    def translateNum(self, num: int) -> int:\n",
    "        string = str(num)\n",
    "        dp = [0] * (len(string) + 1)\n",
    "        dp[0], dp[1] = 1, 1\n",
    "        for i in range(2, len(string)+1):\n",
    "            sub_string = int(string[i-2] + string[i-1])\n",
    "            dp[i] = dp[i-1] + dp[i]\n",
    "            if sub_string > 9 and sub_string < 26:\n",
    "                dp[i] += dp[i-2]\n",
    "        return dp[-1]\n",
    "cls = Solution()\n",
    "cls.translateNum(\"12258\")"
   ]
  },
  {
   "cell_type": "markdown",
   "metadata": {},
   "source": [
    "# 4 在一个字符串中查找第一个非重复的字符"
   ]
  },
  {
   "cell_type": "code",
   "execution_count": 48,
   "metadata": {},
   "outputs": [
    {
     "name": "stdout",
     "output_type": "stream",
     "text": [
      "{'a': 2, 'd': 1, 'o': 1, 'f': 2, 'n': 1, 's': 1, 'g': 1, 'w': 1}\n"
     ]
    },
    {
     "data": {
      "text/plain": [
       "'d'"
      ]
     },
     "execution_count": 48,
     "metadata": {},
     "output_type": "execute_result"
    }
   ],
   "source": [
    "string = \"adaofnfsgw\" # ans = 'a'\n",
    "def find(string):\n",
    "    record = {}\n",
    "    for char in string:\n",
    "        record[char] = record.get(char, 0) + 1\n",
    "    for char in string:\n",
    "        if record[char] == 1:\n",
    "            return char\n",
    "    \n",
    "    return -1 \n",
    "        \n",
    "find(string)"
   ]
  },
  {
   "cell_type": "markdown",
   "metadata": {},
   "source": [
    "# 5 礼物的最大价值\n",
    "![title](../img/a46.png)"
   ]
  },
  {
   "cell_type": "code",
   "execution_count": 60,
   "metadata": {},
   "outputs": [
    {
     "name": "stdout",
     "output_type": "stream",
     "text": [
      "[0, 0, 0, 0]\n",
      "[0, 1, 4, 5]\n",
      "[0, 2, 9, 10]\n",
      "[0, 6, 11, 12]\n"
     ]
    },
    {
     "data": {
      "text/plain": [
       "12"
      ]
     },
     "execution_count": 60,
     "metadata": {},
     "output_type": "execute_result"
    }
   ],
   "source": [
    "class Solution:\n",
    "    def maxValue(self, grid) -> int:\n",
    "        if len(grid) == 0:\n",
    "            return 0\n",
    "        row, col = len(grid), len(grid[0])\n",
    "        dp = [ [0] * (col+1) for _ in range(row+1)]\n",
    "        for i in range(1,row+1):\n",
    "            for j in range(1, col+1):\n",
    "                dp[i][j] = max(dp[i-1][j], dp[i][j-1]) + grid[i-1][j-1]\n",
    "        for i in dp:\n",
    "            print(i)\n",
    "        return dp[-1][-1]\n",
    "cls = Solution()\n",
    "grid = [[1,3,1],\n",
    "  [1,5,1],\n",
    "  [4,2,1]]\n",
    "cls.maxValue(grid)"
   ]
  },
  {
   "cell_type": "markdown",
   "metadata": {},
   "source": [
    "# 6 最长不含重复字符的子字符串\n",
    "![title](../img/128.png)"
   ]
  },
  {
   "cell_type": "code",
   "execution_count": 97,
   "metadata": {},
   "outputs": [
    {
     "name": "stdout",
     "output_type": "stream",
     "text": [
      "-1 ---> 0 ----> e\n",
      "-1 ---> 1 ----> ea\n",
      "-1 ---> 2 ----> eab\n",
      "1 ---> 3 ----> ba\n",
      "2 ---> 4 ----> ab\n",
      "2 ---> 5 ----> abc\n",
      "2 ---> 6 ----> abce\n"
     ]
    },
    {
     "data": {
      "text/plain": [
       "4"
      ]
     },
     "execution_count": 97,
     "metadata": {},
     "output_type": "execute_result"
    }
   ],
   "source": [
    "class Solution:\n",
    "    def lengthOfLongestSubstring(self, s: str) -> int:\n",
    "        if len(s) < 2:\n",
    "            return len(s)\n",
    "        record_dict, res, left = {}, 0, -1\n",
    "        for right in range(len(s)):\n",
    "            value = s[right]\n",
    "            if value in record_dict:\n",
    "                # 代表遇到了 重复字符，则重新更新left\n",
    "                left = max(record_dict[value], left)\n",
    "            record_dict[value] = right\n",
    "            print(left, \"--->\", right,\"---->\", s[left+1:right+1])\n",
    "            res = max(res, right - left)\n",
    "        return res\n",
    "        \n",
    "            \n",
    "string = \"\"\n",
    "string = \"eababce\"\n",
    "cls = Solution()\n",
    "cls.lengthOfLongestSubstring(string)"
   ]
  },
  {
   "cell_type": "markdown",
   "metadata": {},
   "source": [
    "# 7 丑数\n",
    "![title](../img/a53.png) "
   ]
  },
  {
   "cell_type": "code",
   "execution_count": 110,
   "metadata": {},
   "outputs": [
    {
     "name": "stdout",
     "output_type": "stream",
     "text": [
      "[1, 2, 3, 4, 5, 6, 8, 9, 10, 12]\n",
      "6 4 2\n"
     ]
    },
    {
     "data": {
      "text/plain": [
       "12"
      ]
     },
     "execution_count": 110,
     "metadata": {},
     "output_type": "execute_result"
    }
   ],
   "source": [
    "class Solution:\n",
    "    def nthUglyNumber(self, n: int) -> int:\n",
    "        nums = [0] * n # 存放所有的丑数\n",
    "        nums[0] = 1\n",
    "        i2, i3, i5 = 0, 0, 0\n",
    "        for i in range(1, n):\n",
    "            # 给定 1 2 3 4 5 6 8 9 10.......\n",
    "            # 一共这么多丑数， 现给定第一个，\n",
    "            # 那么第二个一定可以利用第一个数，来乘2 3 5 其中一个得到\n",
    "            # 第三个数，可以用第i2  i3 i5 中的某一个 乘 自己得到，\n",
    "            # i2 指得数，只能\n",
    "            temp = min(nums[i2] * 2, nums[i3] * 3, nums[i5] * 5)\n",
    "            nums[i] = temp\n",
    "            if temp == nums[i2] * 2:\n",
    "                i2 += 1\n",
    "            if temp == nums[i3] * 3:\n",
    "                i3 += 1\n",
    "            if temp == nums[i5] * 5:\n",
    "                i5 += 1\n",
    "        print(nums)\n",
    "        print(i2, i3, i5)\n",
    "        return nums[n-1]\n",
    "cls = Solution()\n",
    "cls.nthUglyNumber(10)"
   ]
  },
  {
   "cell_type": "markdown",
   "metadata": {},
   "source": [
    "# 8 面试题51. 数组中的逆序对\n",
    "![ttile](../img/a56.png)"
   ]
  },
  {
   "cell_type": "code",
   "execution_count": 136,
   "metadata": {},
   "outputs": [
    {
     "data": {
      "text/plain": [
       "5"
      ]
     },
     "execution_count": 136,
     "metadata": {},
     "output_type": "execute_result"
    }
   ],
   "source": [
    "class Solution:\n",
    "    # 7-5, 7-6,7-4, 5-4,6-4\n",
    "    def merge_sort(self, nums, left, right):\n",
    "        if left >= right:\n",
    "            return \n",
    "        mid = (left+right)>>1\n",
    "        self.merge_sort(nums, left, mid)\n",
    "        self.merge_sort(nums, mid+1, right)\n",
    "        self.merge(nums,left, mid, right)\n",
    "        \n",
    "        \n",
    "    def merge(self,nums, start, mid, end):\n",
    "        l1, l2 = start, mid+1\n",
    "        temp = []\n",
    "        while l1 <= mid and l2 <= end:\n",
    "            if nums[l1] > nums[l2]:\n",
    "                self.count += mid - l1 + 1\n",
    "                temp.append(nums[l2])\n",
    "                l2 += 1\n",
    "            else:\n",
    "                temp.append(nums[l1])\n",
    "                l1 += 1\n",
    "        while l1 <= mid:\n",
    "            temp.append(nums[l1])\n",
    "            l1 += 1\n",
    "        while l2 <= end:\n",
    "            temp.append(nums[l2])\n",
    "            l2 += 1\n",
    "        for val in temp:\n",
    "            nums[start] = val\n",
    "            start += 1\n",
    "        \n",
    "\n",
    "        \n",
    "        \n",
    "    def reversePairs(self, nums):\n",
    "        self.count = 0\n",
    "        self.merge_sort(nums, 0, len(nums)-1)\n",
    "        return self.count\n",
    "\n",
    "cls = Solution()\n",
    "arr = [7, 5, 6,4]\n",
    "cls.reversePairs(arr)"
   ]
  },
  {
   "cell_type": "markdown",
   "metadata": {},
   "source": [
    "# 9 链表公共节点\n",
    "# ![title](../img/a21.png)"
   ]
  },
  {
   "cell_type": "code",
   "execution_count": null,
   "metadata": {},
   "outputs": [],
   "source": []
  },
  {
   "cell_type": "code",
   "execution_count": 171,
   "metadata": {
    "scrolled": true
   },
   "outputs": [
    {
     "name": "stdout",
     "output_type": "stream",
     "text": [
      "5  0  1  8  4  5  \n",
      "4  1  8  4  5  \n",
      "\n",
      "None\n"
     ]
    }
   ],
   "source": [
    "import node\n",
    "listNode = node.listNode\n",
    "root1 = listNode.build_listNode([5, 0, 1, 8, 4, 5])\n",
    "root2 = listNode.build_listNode([4,1])\n",
    "root3 = listNode.build_listNode([5, 0, 1])\n",
    "root2.next.next = root1.next.next.next\n",
    "listNode.show(root1)\n",
    "listNode.show(root2)\n",
    "print()\n",
    "\n",
    "\n",
    "class Solution:\n",
    "    def getIntersectionNode(self, headA, headB):\n",
    "        point_a, point_b = headA, headB\n",
    "        while point_b != point_a:\n",
    "           # print(point_a.val,\"----->\", point_b.val)\n",
    "            if point_a == None:\n",
    "                point_a = headB\n",
    "            else:\n",
    "                point_a = point_a.next\n",
    "                \n",
    "            if point_b == None:\n",
    "                point_b = headA\n",
    "            else:\n",
    "                point_b = point_b.next\n",
    "            \n",
    "        \n",
    "        return point_a\n",
    "            \n",
    "        \n",
    "cls = Solution()\n",
    "res = cls.getIntersectionNode(root1, root3)\n",
    "print(res)"
   ]
  },
  {
   "cell_type": "code",
   "execution_count": null,
   "metadata": {},
   "outputs": [],
   "source": []
  },
  {
   "cell_type": "markdown",
   "metadata": {},
   "source": [
    "# 10  一维移动\n",
    "考虑你从家出发步行去往一处目的地，该目的地恰好离你整数单位步长（大于等于1）。你只能朝向该目的地或者背向该目的地行走，而你行走的必须为单位步长\n",
    "\n",
    "的整数倍，且要求你第N次行走必须走N步。\n",
    "\n",
    "\n",
    "请就给出目的地离你距离，判断你是否可以在有限步内到达该目的地。如果可以到达的话，请计算到达目的地的最短总步数(不能到达则输出-1)。"
   ]
  },
  {
   "cell_type": "code",
   "execution_count": 165,
   "metadata": {},
   "outputs": [
    {
     "name": "stdout",
     "output_type": "stream",
     "text": [
      "32\n",
      "8\n"
     ]
    }
   ],
   "source": [
    "def BFS(n):\n",
    "    bfs = set([0])\n",
    "    step = 0\n",
    "    while True:\n",
    "        step += 1\n",
    "        pre = bfs.copy()\n",
    "        bfs = set()\n",
    "        for num in pre:\n",
    "            # i 是步数\n",
    "            if num+step==n or num-step==n:\n",
    "                return step\n",
    "            else:\n",
    "                bfs.add(num+step)\n",
    "                bfs.add(num-step)\n",
    "n = int(input())\n",
    "print(BFS(n))"
   ]
  },
  {
   "cell_type": "code",
   "execution_count": null,
   "metadata": {},
   "outputs": [],
   "source": []
  },
  {
   "cell_type": "code",
   "execution_count": null,
   "metadata": {},
   "outputs": [],
   "source": []
  },
  {
   "cell_type": "code",
   "execution_count": null,
   "metadata": {},
   "outputs": [],
   "source": []
  },
  {
   "cell_type": "code",
   "execution_count": null,
   "metadata": {},
   "outputs": [],
   "source": []
  }
 ],
 "metadata": {
  "kernelspec": {
   "display_name": "Python 3",
   "language": "python",
   "name": "python3"
  },
  "language_info": {
   "codemirror_mode": {
    "name": "ipython",
    "version": 3
   },
   "file_extension": ".py",
   "mimetype": "text/x-python",
   "name": "python",
   "nbconvert_exporter": "python",
   "pygments_lexer": "ipython3",
   "version": "3.7.6"
  }
 },
 "nbformat": 4,
 "nbformat_minor": 4
}
