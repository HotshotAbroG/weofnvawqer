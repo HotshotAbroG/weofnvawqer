{
 "cells": [
  {
   "cell_type": "markdown",
   "metadata": {},
   "source": [
    "# 1 旋转数组最小数字\n",
    "![title](../img/a34.png)"
   ]
  },
  {
   "cell_type": "code",
   "execution_count": 6,
   "metadata": {},
   "outputs": [
    {
     "name": "stdout",
     "output_type": "stream",
     "text": [
      "4 -------> 7\n",
      "6 -------> 1\n",
      "5 -------> 8\n"
     ]
    },
    {
     "data": {
      "text/plain": [
       "1"
      ]
     },
     "execution_count": 6,
     "metadata": {},
     "output_type": "execute_result"
    }
   ],
   "source": [
    "arr = [3,4,5,6,7,8,1,2,3]\n",
    "#      0 1 2 3 4 5 6 7 8\n",
    "class Solution:\n",
    "    def minArray(self, numbers) -> int:\n",
    "        # 划分为两个 递增数组\n",
    "        # 以最右边为基准\n",
    "        left, right = 0, len(numbers)-1\n",
    "        while left < right:\n",
    "            mid = left + ((right - left)//2)\n",
    "            if numbers[mid] < numbers[right]:\n",
    "                # 属于旋转数组\n",
    "                right = mid\n",
    "            elif numbers[mid] > numbers[right]:\n",
    "                # 不属于旋转数组\n",
    "                left = mid+1\n",
    "            else:\n",
    "                right -= 1\n",
    "        return numbers[left]\n",
    "        \n",
    "        \n",
    "        \n",
    "\n",
    "cls = Solution()\n",
    "cls.minArray(arr)"
   ]
  },
  {
   "cell_type": "markdown",
   "metadata": {},
   "source": [
    "# 2 面试题12. 矩阵中的路径\n",
    "![ttile](../img/a78.png)"
   ]
  },
  {
   "cell_type": "code",
   "execution_count": 1,
   "metadata": {},
   "outputs": [
    {
     "data": {
      "text/plain": [
       "True"
      ]
     },
     "execution_count": 1,
     "metadata": {},
     "output_type": "execute_result"
    }
   ],
   "source": [
    "board = [[\"A\",\"B\",\"C\",\"E\"],[\"S\",\"F\",\"C\",\"S\"],[\"A\",\"D\",\"E\",\"E\"]]\n",
    "word = \"ABCCED\"\n",
    "\n",
    "class Solution:\n",
    "    \n",
    "    def exist(self, board, word):\n",
    "        row = len(board)\n",
    "        if row == 0:\n",
    "            return False\n",
    "        col = len(board[0])\n",
    "        record = [ [False for _ in range(col)] for i in range(row)]\n",
    "        def dfs(i, j, record, current_index):\n",
    "            if len(word) == current_index:\n",
    "                return True\n",
    "            if i < 0 or j < 0 or i >= row or j >= col or record[i][j] or board[i][j] != word[current_index]:\n",
    "                return False\n",
    "            record[i][j] = True\n",
    "            flag = dfs(i-1, j, record, current_index+1) or dfs(i+1, j, record, current_index+1) or dfs(i, j-1, record, current_index+1) or dfs(i,j+1, record, current_index+1)\n",
    "            if flag :\n",
    "                return True\n",
    "            record[i][j] = False\n",
    "\n",
    "        \n",
    "        \n",
    "        for i in range(row):\n",
    "            for j in range(col):\n",
    "                if dfs(i, j, record, 0):\n",
    "                    return True\n",
    "        return False\n",
    "cls = Solution()\n",
    "cls.exist(board, word)"
   ]
  },
  {
   "cell_type": "markdown",
   "metadata": {},
   "source": [
    "# 3. 机器人移动范围\n",
    "![title](../img/a9.png) "
   ]
  },
  {
   "cell_type": "code",
   "execution_count": 2,
   "metadata": {},
   "outputs": [
    {
     "data": {
      "text/plain": [
       "numpy.ndarray"
      ]
     },
     "execution_count": 2,
     "metadata": {},
     "output_type": "execute_result"
    }
   ],
   "source": [
    "import numpy as np\n",
    "inputs=np.arange(3)\n",
    "type(inputs)"
   ]
  },
  {
   "cell_type": "code",
   "execution_count": 27,
   "metadata": {},
   "outputs": [
    {
     "name": "stdout",
     "output_type": "stream",
     "text": [
      "19\n",
      "{(0, 1), (1, 2), (0, 0), (1, 3), (3, 0), (0, 2), (3, 1), (2, 1), (2, 0), (0, 3), (0, 4), (2, 2), (1, 0), (1, 1), (4, 0)}\n"
     ]
    },
    {
     "data": {
      "text/plain": [
       "15"
      ]
     },
     "execution_count": 27,
     "metadata": {},
     "output_type": "execute_result"
    }
   ],
   "source": [
    "class Solution:\n",
    "    def judge(self, i, j):\n",
    "        i1, i0 = i//10, i%10\n",
    "        j1, j0 = j//10, j%10\n",
    "        return i1 + i0 + j1 + j0\n",
    "    def movingCount(self, m: int, n: int, k: int) -> int:\n",
    "        print(self.judge(35,38))\n",
    "        res = 0 \n",
    "        record = set()\n",
    "        def dfs(i,j):\n",
    "            if i < 0 or j < 0 or j>=n or i >= m or self.judge(i,j) > k or (i,j) in record:\n",
    "                return \n",
    "            record.add((i,j))\n",
    "            nonlocal res\n",
    "            res += 1\n",
    "            dfs(i-1,j)\n",
    "            dfs(i+1,j)\n",
    "            dfs(i,j-1)\n",
    "            dfs(i,j+1)\n",
    "        dfs(0, 0)\n",
    "        print(record)\n",
    "        return res\n",
    "\n",
    "cls = Solution()\n",
    "cls.movingCount(16,8,4)"
   ]
  },
  {
   "cell_type": "markdown",
   "metadata": {},
   "source": [
    "# 4 剪绳子\n",
    "![title](../img/a82.png)"
   ]
  },
  {
   "cell_type": "code",
   "execution_count": 38,
   "metadata": {},
   "outputs": [
    {
     "data": {
      "text/plain": [
       "2"
      ]
     },
     "execution_count": 38,
     "metadata": {},
     "output_type": "execute_result"
    }
   ],
   "source": [
    "class Solution:\n",
    "    def cuttingRope(self, n: int) -> int:\n",
    "        # dp[i] = max(dp[n-j]*j, (n-j)*j)\n",
    "        dp = [0] * (n+1)\n",
    "        dp[1] = 1 \n",
    "        for i in range(2, n+1):\n",
    "            for j in range(1, i):\n",
    "                dp[i] =  max(dp[i-j]*j, (i-j)*j, dp[i])\n",
    "        return dp[n]\n",
    "cls = Solution()\n",
    "cls.cuttingRope(3)"
   ]
  },
  {
   "cell_type": "markdown",
   "metadata": {},
   "source": [
    "# 5 二进制中的1的个数\n",
    "![title](../img/120.png)"
   ]
  },
  {
   "cell_type": "code",
   "execution_count": 44,
   "metadata": {},
   "outputs": [
    {
     "data": {
      "text/plain": [
       "60"
      ]
     },
     "execution_count": 44,
     "metadata": {},
     "output_type": "execute_result"
    }
   ],
   "source": [
    "class Solution:\n",
    "    def hammingWeight(self, n: int) -> int:\n",
    "        count = 0\n",
    "        while n > 0:\n",
    "            if n & 1 == 1:\n",
    "                count += 1\n",
    "\n",
    "            n = n >> 1\n",
    "        return count\n",
    "\n",
    "cls = Solution()\n",
    "m = \n",
    "cls.hammingWeight(m)"
   ]
  },
  {
   "cell_type": "markdown",
   "metadata": {},
   "source": [
    "# 6 数值的整数次方\n",
    "![title](../img/a5.png)\n",
    "![title](../img/b5.png)"
   ]
  },
  {
   "cell_type": "code",
   "execution_count": 2,
   "metadata": {},
   "outputs": [
    {
     "data": {
      "text/plain": [
       "1000"
      ]
     },
     "execution_count": 2,
     "metadata": {},
     "output_type": "execute_result"
    }
   ],
   "source": [
    "class Solution:\n",
    "    def find(self, x, n):\n",
    "        if n == 0:\n",
    "            return 1\n",
    "        if n > 0: \n",
    "            flag = True\n",
    "        else:\n",
    "            flag = False\n",
    "            n = 0 - n\n",
    "        tmp = x\n",
    "        while n > 0:\n",
    "            if n&1 == 1:\n",
    "                x *= tmp\n",
    "            tmp *= tmp\n",
    "            n >>= 1\n",
    "        return x if flag else 1/flag\n",
    "cls = Solution()\n",
    "cls.find(10,2)        "
   ]
  },
  {
   "cell_type": "code",
   "execution_count": 3,
   "metadata": {},
   "outputs": [
    {
     "data": {
      "text/plain": [
       "256"
      ]
     },
     "execution_count": 3,
     "metadata": {},
     "output_type": "execute_result"
    }
   ],
   "source": [
    "# 利用快速幂\n",
    "class Solution:\n",
    "    def myPow(self, x: float, n: int) -> float:\n",
    "        if n == 0:\n",
    "            return 1\n",
    "        flag = True\n",
    "        if n < 0:\n",
    "            n = abs(n)\n",
    "            flag = False\n",
    "        res, tmp = 1, x\n",
    "        while n > 0:\n",
    "            if n & 1 :\n",
    "                res *= tmp  \n",
    "            tmp *= tmp\n",
    "            n = n >> 1 # 每次取一半 7: 0111\n",
    "        return res if flag else 1/res\n",
    "cls = Solution()\n",
    "cls.myPow(4,4)"
   ]
  },
  {
   "cell_type": "markdown",
   "metadata": {},
   "source": [
    "# # 7 打印从1到最大的n位数\n",
    "![title](../img/121.png)"
   ]
  },
  {
   "cell_type": "code",
   "execution_count": 7,
   "metadata": {},
   "outputs": [
    {
     "data": {
      "text/plain": [
       "[1, 2, 3, 4, 5, 6, 7, 8, 9]"
      ]
     },
     "execution_count": 7,
     "metadata": {},
     "output_type": "execute_result"
    }
   ],
   "source": [
    "class Solution:\n",
    "    def printNumbers(self, n: int):\n",
    "        end = 10 **n\n",
    "        return list(range(1,end))\n",
    "cls = Solution()\n",
    "r = cls.printNumbers(1)\n",
    "r"
   ]
  },
  {
   "cell_type": "markdown",
   "metadata": {},
   "source": [
    "# 8 删除链表\n",
    "![title](../img/a84.png)"
   ]
  },
  {
   "cell_type": "code",
   "execution_count": 69,
   "metadata": {},
   "outputs": [
    {
     "name": "stdout",
     "output_type": "stream",
     "text": [
      "1  2  4  5  31  6  \n",
      "1  2  4  31  6  \n"
     ]
    }
   ],
   "source": [
    "# Definition for singly-linked list.\n",
    "# class ListNode:\n",
    "#     def __init__(self, x):\n",
    "#         self.val = x\n",
    "#         self.next = None\n",
    "\n",
    "class Solution:\n",
    "    def deleteNode(self, head, val: int):\n",
    "        if not head:\n",
    "            return head\n",
    "        # 先排除头部为 val 的情况\n",
    "        while head.val == val:\n",
    "            head = head.next\n",
    "        \n",
    "        tmp_head =  head\n",
    "        while tmp_head and tmp_head.next:\n",
    "            # X 1 2 4 5 31 32....\n",
    "            if tmp_head.next.val == val:\n",
    "                tmp_head.next = tmp_head.next.next\n",
    "\n",
    "            tmp_head = tmp_head.next\n",
    "        return head\n",
    "        \n",
    "    \n",
    "    \n",
    "import node\n",
    "listNode = node.listNode\n",
    "root1 = listNode.build_listNode([1,2,4, 5, 31, 6])\n",
    "\n",
    "listNode.show(root1)\n",
    "cls = Solution()\n",
    "res = cls.deleteNode(root1, 5)\n",
    "listNode.show(res)"
   ]
  },
  {
   "cell_type": "markdown",
   "metadata": {},
   "source": [
    "# 9 正则表达式匹配\n",
    "![title](../img/122.png)"
   ]
  },
  {
   "cell_type": "code",
   "execution_count": 30,
   "metadata": {},
   "outputs": [
    {
     "name": "stdout",
     "output_type": "stream",
     "text": [
      "[True, False, False, False, False]\n",
      "[False, True, False, False, False]\n",
      "[False, False, True, False, True]\n"
     ]
    },
    {
     "data": {
      "text/plain": [
       "True"
      ]
     },
     "execution_count": 30,
     "metadata": {},
     "output_type": "execute_result"
    }
   ],
   "source": [
    "class Solution:\n",
    "    def isMatch(self, s: str, p: str) -> bool:\n",
    "        row, col = len(s), len(p)\n",
    "        dp = [ [False for _ in range(col+1)] for i in range(row+1)]\n",
    "        dp[0][0] = True\n",
    "        for i in range(row+1):\n",
    "            for j in range(1, col+1):\n",
    "                # s : i, p:j\n",
    "                if p[j-1] != \"*\":\n",
    "                    # 是星号\n",
    "                    if i > 0 and (s[i-1] == p[j-1] or p[j-1] == \".\"):\n",
    "                        dp[i][j] = dp[i-1][j-1]\n",
    "                else:\n",
    "                    # 不是星号\n",
    "                    # 又分为 0次 和 N次\n",
    "                    if j >= 2:\n",
    "                        dp[i][j] = dp[i][j] or dp[i][j-2]  # 0次\n",
    "                    \n",
    "                    if i >= 1 and j >= 2 and (s[i-1] == p[j-2] or p[j-2] == \".\"):\n",
    "                        dp[i][j] = dp[i][j] or dp[i-1][j]\n",
    "                  \n",
    "        for i in dp:\n",
    "            print(i)\n",
    "        return dp[-1][-1]\n",
    "cls = Solution()\n",
    "s = \"aa\"\n",
    "p = \"aaa*\"\n",
    "cls.isMatch(s, p)"
   ]
  },
  {
   "cell_type": "markdown",
   "metadata": {},
   "source": [
    "# 面10. 调整数组顺序使奇数位于偶数前面\n",
    "![title](../img/a25.png)"
   ]
  },
  {
   "cell_type": "code",
   "execution_count": 95,
   "metadata": {},
   "outputs": [
    {
     "data": {
      "text/plain": [
       "[1, 3, 5, 4, 2]"
      ]
     },
     "execution_count": 95,
     "metadata": {},
     "output_type": "execute_result"
    }
   ],
   "source": [
    "class Solution:\n",
    "    def exchange(self, nums):\n",
    "        # 统计奇数个数\n",
    "        start = 0 \n",
    "        for i in range(len(nums)):\n",
    "            if nums[i] % 2 == 1:\n",
    "                nums[i], nums[start] = nums[start], nums[i]\n",
    "                start += 1\n",
    "        return nums\n",
    "cls = Solution()\n",
    "arr = [1,2,3,4,5]\n",
    "cls.exchange(arr)"
   ]
  },
  {
   "cell_type": "code",
   "execution_count": null,
   "metadata": {},
   "outputs": [],
   "source": []
  },
  {
   "cell_type": "code",
   "execution_count": null,
   "metadata": {},
   "outputs": [],
   "source": []
  },
  {
   "cell_type": "code",
   "execution_count": null,
   "metadata": {},
   "outputs": [],
   "source": []
  },
  {
   "cell_type": "code",
   "execution_count": null,
   "metadata": {},
   "outputs": [],
   "source": []
  },
  {
   "cell_type": "code",
   "execution_count": null,
   "metadata": {},
   "outputs": [],
   "source": []
  },
  {
   "cell_type": "code",
   "execution_count": null,
   "metadata": {},
   "outputs": [],
   "source": []
  },
  {
   "cell_type": "code",
   "execution_count": null,
   "metadata": {},
   "outputs": [],
   "source": []
  },
  {
   "cell_type": "code",
   "execution_count": null,
   "metadata": {},
   "outputs": [],
   "source": []
  },
  {
   "cell_type": "code",
   "execution_count": null,
   "metadata": {},
   "outputs": [],
   "source": []
  },
  {
   "cell_type": "code",
   "execution_count": null,
   "metadata": {},
   "outputs": [],
   "source": []
  },
  {
   "cell_type": "code",
   "execution_count": null,
   "metadata": {},
   "outputs": [],
   "source": []
  },
  {
   "cell_type": "code",
   "execution_count": null,
   "metadata": {},
   "outputs": [],
   "source": []
  },
  {
   "cell_type": "code",
   "execution_count": null,
   "metadata": {},
   "outputs": [],
   "source": []
  },
  {
   "cell_type": "code",
   "execution_count": null,
   "metadata": {},
   "outputs": [],
   "source": []
  }
 ],
 "metadata": {
  "kernelspec": {
   "display_name": "Python 3",
   "language": "python",
   "name": "python3"
  },
  "language_info": {
   "codemirror_mode": {
    "name": "ipython",
    "version": 3
   },
   "file_extension": ".py",
   "mimetype": "text/x-python",
   "name": "python",
   "nbconvert_exporter": "python",
   "pygments_lexer": "ipython3",
   "version": "3.7.6"
  }
 },
 "nbformat": 4,
 "nbformat_minor": 4
}
