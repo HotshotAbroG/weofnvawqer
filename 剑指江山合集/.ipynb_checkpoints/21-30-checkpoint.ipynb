{
 "cells": [
  {
   "cell_type": "markdown",
   "metadata": {},
   "source": [
    "# 1. 找倒数第K个链表结点\n",
    "# ![title](../img/a85.png)"
   ]
  },
  {
   "cell_type": "code",
   "execution_count": 6,
   "metadata": {},
   "outputs": [
    {
     "name": "stdout",
     "output_type": "stream",
     "text": [
      "5  0  1  8  4  5  \n",
      "\n",
      "8  4  5  \n"
     ]
    }
   ],
   "source": [
    "# Definition for singly-linked list.\n",
    "# class ListNode:\n",
    "#     def __init__(self, x):\n",
    "#         self.val = x\n",
    "#         self.next = None\n",
    "import node\n",
    "listNode = node.listNode\n",
    "root1 = listNode.build_listNode([5, 0, 1, 8, 4, 5])\n",
    "listNode.show(root1)\n",
    "print()\n",
    "\n",
    "\n",
    "class Solution:\n",
    "    def getKthFromEnd(self, head , k: int):    \n",
    "        fast, slow = head, head\n",
    "        for i in range(k):\n",
    "            if fast:\n",
    "                fast = fast.next\n",
    "        while fast :\n",
    "            fast = fast.next\n",
    "            slow = slow.next \n",
    "        return slow\n",
    "cls = Solution()\n",
    "r = cls.getKthFromEnd(root1, 3)\n",
    "listNode.show(r)"
   ]
  },
  {
   "cell_type": "markdown",
   "metadata": {},
   "source": [
    "# 2 反转链表\n",
    "# ![title](../img/a72.png)"
   ]
  },
  {
   "cell_type": "code",
   "execution_count": 4,
   "metadata": {},
   "outputs": [
    {
     "name": "stdout",
     "output_type": "stream",
     "text": [
      "5  0  1  8  4  5  \n",
      "\n",
      "5  4  8  1  0  5  \n"
     ]
    }
   ],
   "source": [
    "# Definition for singly-linked list.\n",
    "# class ListNode:\n",
    "#     def __init__(self, x):\n",
    "#         self.val = x\n",
    "#         self.next = None\n",
    "import node\n",
    "listNode = node.listNode\n",
    "root1 = listNode.build_listNode([5, 0, 1, 8, 4, 5])\n",
    "listNode.show(root1)\n",
    "print()\n",
    "\n",
    "\n",
    "class Solution:\n",
    "    def reverseList(self, head):\n",
    "        # pre cur next\n",
    "        pre, _next = None, None\n",
    "        cur = head\n",
    "        while cur:\n",
    "            _next = cur.next\n",
    "            cur.next = pre\n",
    "            pre = cur\n",
    "            cur = _next\n",
    "        return pre\n",
    "        \n",
    "\n",
    "cls = Solution()\n",
    "r = cls.reverseList(root1)\n",
    "listNode.show(r)"
   ]
  },
  {
   "cell_type": "markdown",
   "metadata": {},
   "source": [
    "# 3 合并有序链表\n",
    "![title](../img/a13.png) "
   ]
  },
  {
   "cell_type": "code",
   "execution_count": 9,
   "metadata": {},
   "outputs": [
    {
     "name": "stdout",
     "output_type": "stream",
     "text": [
      "1  2  4  \n",
      "1  3  6  \n",
      "1  1  2  3  4  6  \n"
     ]
    }
   ],
   "source": [
    "class Solution:\n",
    "    def mergeTwoLists(self, l1, l2):\n",
    "        tmp_head = listNode(0)\n",
    "        res = tmp_head\n",
    "        while l1 and l2:\n",
    "            if l1.val >= l2.val:\n",
    "                tmp_head.next = l2\n",
    "                l2 = l2.next\n",
    "            else:\n",
    "                tmp_head.next = l1\n",
    "                l1 = l1.next\n",
    "            tmp_head = tmp_head.next\n",
    "        if l1:\n",
    "            tmp_head.next = l1\n",
    "        if l2:\n",
    "            tmp_head.next = l2\n",
    "        return res.next\n",
    "        \n",
    "     \n",
    "            \n",
    "import node\n",
    "listNode = node.listNode\n",
    "root1 = listNode.build_listNode([1,2,4])\n",
    "root2 = listNode.build_listNode([1,3,6])\n",
    "listNode.show(root1)\n",
    "listNode.show(root2)\n",
    "cls = Solution()\n",
    "res = cls.mergeTwoLists(root1, root2)\n",
    "listNode.show(res)"
   ]
  },
  {
   "cell_type": "markdown",
   "metadata": {},
   "source": [
    "# 4 树的子结构\n",
    "# ![title](../img/a6.png)"
   ]
  },
  {
   "cell_type": "code",
   "execution_count": 16,
   "metadata": {},
   "outputs": [
    {
     "name": "stdout",
     "output_type": "stream",
     "text": [
      "[3]\n",
      "[4, 5]\n",
      "[1, 2]\n",
      "\n",
      "[4]\n",
      "[1]\n"
     ]
    },
    {
     "data": {
      "text/plain": [
       "True"
      ]
     },
     "execution_count": 16,
     "metadata": {},
     "output_type": "execute_result"
    }
   ],
   "source": [
    "# Definition for a binary tree node.\n",
    "# class TreeNode:\n",
    "#     def __init__(self, x):\n",
    "#         self.val = x\n",
    "#         self.left = None\n",
    "#         self.right = None\n",
    "import tree as Tree\n",
    "tree = Tree.tree\n",
    "arr = [3, 4, 5, 1, 2]\n",
    "root = tree.build_tree(arr, 0)\n",
    "tree.bfs(root)\n",
    "print()\n",
    "b = [4, 1]\n",
    "b = tree.build_tree(b, 0)\n",
    "tree.bfs(b)\n",
    "class Solution:\n",
    "    def isSubStructure(self, A, B) -> bool:\n",
    "        if not A or not B:\n",
    "            return False\n",
    "        return self.isSubStructure(A.left, B) or self.isSubStructure(A.right, B) or self.check(A,B)\n",
    "    \n",
    "    def check(self, A, B):\n",
    "        if not B:\n",
    "            return True\n",
    "\n",
    "        if not A or A.val != B.val:\n",
    "            return False\n",
    "        return self.check(A.left, B.left) and self.check(A.right, B.right)\n",
    "       \n",
    "cls = Solution()\n",
    "cls.isSubStructure(root, b)"
   ]
  },
  {
   "cell_type": "markdown",
   "metadata": {},
   "source": [
    "# 5 二叉树的镜像\n",
    "\n",
    "# ![title](../img/123.png)"
   ]
  },
  {
   "cell_type": "code",
   "execution_count": 25,
   "metadata": {},
   "outputs": [
    {
     "name": "stdout",
     "output_type": "stream",
     "text": [
      "[4]\n",
      "[2, 7]\n",
      "[1, 3, 6, 9]\n",
      "\n",
      "[4]\n",
      "[7, 2]\n",
      "[9, 6, 3, 1]\n"
     ]
    }
   ],
   "source": [
    "# Definition for a binary tree node.\n",
    "# class TreeNode:\n",
    "#     def __init__(self, x):\n",
    "#         self.val = x\n",
    "#         self.left = None\n",
    "#         self.right = None\n",
    "\n",
    "class Solution:\n",
    "    def mirrorTree(self, root ) :\n",
    "        if not root:\n",
    "            return \n",
    "        root.left, root.right = self.mirrorTree(root.right), self.mirrorTree(root.left)\n",
    "        return root\n",
    "    \n",
    "    \n",
    "tree = Tree.tree\n",
    "arr = [4,2,7,1,3,6,9]\n",
    "root = tree.build_tree(arr, 0)\n",
    "tree.bfs(root)\n",
    "print()\n",
    "cls = Solution()\n",
    "r = cls.mirrorTree(root)\n",
    "tree.bfs(r)"
   ]
  },
  {
   "cell_type": "markdown",
   "metadata": {},
   "source": [
    "#  6 面试题28. 对称的二叉树\n",
    "![title](../img/a28.png)"
   ]
  },
  {
   "cell_type": "code",
   "execution_count": 27,
   "metadata": {},
   "outputs": [
    {
     "name": "stdout",
     "output_type": "stream",
     "text": [
      "[1]\n",
      "[1, 1]\n"
     ]
    },
    {
     "data": {
      "text/plain": [
       "True"
      ]
     },
     "execution_count": 27,
     "metadata": {},
     "output_type": "execute_result"
    }
   ],
   "source": [
    "import tree as Tree\n",
    "tree = Tree.tree\n",
    "arr = [1,2,2,3,3,4,3]\n",
    "arr = [1,1,1]\n",
    "root = tree.build_tree(arr, 0)\n",
    "tree.bfs(root)\n",
    "class Solution:\n",
    "    def judge(self, left, right):\n",
    "        if not left and not right:\n",
    "            return True\n",
    "        if left.val != right.val or not left or not right:\n",
    "            return False \n",
    "        return self.judge(right.left, left.right) and self.judge(right.right, left.left)\n",
    "        \n",
    "    \n",
    "    def isSymmetric(self, root) -> bool:\n",
    "        if not root :\n",
    "            return root\n",
    "        return self.judge(root.left, root.right)\n",
    "    \n",
    "cls = Solution()\n",
    "cls.isSymmetric(root)"
   ]
  },
  {
   "cell_type": "markdown",
   "metadata": {},
   "source": [
    "# 7 # 54. 螺旋矩阵\n",
    "![title](../img/a40.png)"
   ]
  },
  {
   "cell_type": "code",
   "execution_count": 34,
   "metadata": {},
   "outputs": [
    {
     "data": {
      "text/plain": [
       "[1, 2, 3, 4, 8, 12, 11, 10, 9, 5, 6, 7]"
      ]
     },
     "execution_count": 34,
     "metadata": {},
     "output_type": "execute_result"
    }
   ],
   "source": [
    "class Solution:\n",
    "    def spiralOrder(self, matrix):\n",
    "        res = []\n",
    "        row, col = len(matrix)-1, len(matrix[0])-1\n",
    "        i, j = 0, 0\n",
    "        while i <= row and j <= col:\n",
    "            \n",
    "            for x in range(j, col+1):\n",
    "                res.append(matrix[i][x])\n",
    "            \n",
    "            for y in range(i+1, row+1):\n",
    "                res.append(matrix[y][col])\n",
    "            \n",
    "            if i < row and j < col:\n",
    "                for x in range(col-1, j, -1):\n",
    "                    res.append(matrix[row][x])\n",
    "                    \n",
    "                for y in range(row, i, -1):\n",
    "                    res.append(matrix[y][j])\n",
    "                    \n",
    "                \n",
    "            i, j = i+1, j+1\n",
    "            row, col = row-1, col-1\n",
    "            # 11--10---9\n",
    "            \n",
    "        return res\n",
    "matrix = [[1,2,3,4],[5,6,7,8],[9,10,11,12]]\n",
    "cls = Solution()\n",
    "cls.spiralOrder(matrix)"
   ]
  },
  {
   "cell_type": "markdown",
   "metadata": {},
   "source": [
    "# 8 面试题30. 包含min函数的栈\n",
    "![title](../img/a29.png)"
   ]
  },
  {
   "cell_type": "code",
   "execution_count": 37,
   "metadata": {},
   "outputs": [],
   "source": [
    "class MinStack:\n",
    "\n",
    "    def __init__(self):\n",
    "        \"\"\"\n",
    "        initialize your data structure here.\n",
    "        \"\"\"\n",
    "        self.stack = []\n",
    "        self.res_min = []\n",
    "        \n",
    "\n",
    "    def push(self, x: int) -> None:\n",
    "        self.stack.append(x)\n",
    "        if not self.res_min or self.res_min[-1] >= x:\n",
    "            self.res_min.append(x)\n",
    "\n",
    "            \n",
    "\n",
    "    def pop(self) -> None:\n",
    "        if self.stack[-1] == self.res_min[-1]:\n",
    "            self.res_min.pop()\n",
    "        return self.stack.pop()\n",
    "        \n",
    "        \n",
    "    def top(self) -> int:\n",
    "        return self.stack[-1]\n",
    "\n",
    "        \n",
    "    def min_s(self) -> int:\n",
    "        return self.res_min[-1]\n",
    "\n",
    "# Your MinStack object will be instantiated and called as such:\n",
    "# obj = MinStack()\n",
    "# obj.push(x)\n",
    "# obj.pop()\n",
    "# param_3 = obj.top()\n",
    "# param_4 = obj.min()"
   ]
  },
  {
   "cell_type": "code",
   "execution_count": 36,
   "metadata": {},
   "outputs": [],
   "source": [
    "class MinStack:\n",
    "\n",
    "    def __init__(self):\n",
    "        \"\"\"\n",
    "        initialize your data structure here.\n",
    "        \"\"\"\n",
    "        self.stack = []\n",
    "        self.res_min = []\n",
    "        \n",
    "\n",
    "    def push(self, x: int) -> None:\n",
    "        self.stack.append(x)\n",
    "        if not self.res_min:\n",
    "            self.res_min.append(x)\n",
    "        else:\n",
    "            if self.res_min[-1] < x:\n",
    "                self.res_min.append(self.res_min[-1])\n",
    "            else:\n",
    "                # res_min[-1] >= x\n",
    "                self.res_min.append(x)\n",
    "\n",
    "            \n",
    "\n",
    "    def pop(self) -> None:\n",
    "        if self.res_min:\n",
    "            self.res_min.pop()\n",
    "        return self.stack.pop()\n",
    "\n",
    "    def top(self) -> int:\n",
    "        return self.stack[-1]\n",
    "\n",
    "        \n",
    "    def min_s(self) -> int:\n",
    "        return self.res_min[-1]\n",
    "\n",
    "# Your MinStack object will be instantiated and called as such:\n",
    "# obj = MinStack()\n",
    "# obj.push(x)\n",
    "# obj.pop()\n",
    "# param_3 = obj.top()\n",
    "# param_4 = obj.min()"
   ]
  },
  {
   "cell_type": "markdown",
   "metadata": {},
   "source": [
    "# 9 # 面试题31. 栈的压入、弹出序列\n",
    "![title](../img/a49.png)"
   ]
  },
  {
   "cell_type": "code",
   "execution_count": 38,
   "metadata": {},
   "outputs": [
    {
     "data": {
      "text/plain": [
       "False"
      ]
     },
     "execution_count": 38,
     "metadata": {},
     "output_type": "execute_result"
    }
   ],
   "source": [
    "class Solution:\n",
    "    def validateStackSequences(self,pushed, popped):\n",
    "        stack, count = [], 0\n",
    "        for value in pushed:\n",
    "            stack.append(value)\n",
    "            while stack and count < len(popped) and value == popped[count]:\n",
    "                stack.pop()\n",
    "                count += 1\n",
    "        return count == len(popped)\n",
    "cls = Solution()\n",
    "cls.validateStackSequences([1,2,3,4,5],[4,3,5,1,2])"
   ]
  },
  {
   "cell_type": "markdown",
   "metadata": {},
   "source": [
    "# 10  面试题32 - III. 从上到下打印二叉树 III\n",
    "![title](../img/a48.png)"
   ]
  },
  {
   "cell_type": "code",
   "execution_count": null,
   "metadata": {},
   "outputs": [],
   "source": [
    "import tree as Tree\n",
    "import queue \n",
    "tree = Tree.tree\n",
    "arr = [3, 9, 20, -1014, -1014, 15, 7]\n",
    "root = tree.build_tree(arr, 0)\n",
    "tree.bfs(root)\n",
    "class Solution:\n",
    "    def levelOrder(self, root):\n",
    "        if root == None:\n",
    "            return []\n",
    "        res, que = [], queue.Queue()\n",
    "        que.put(root)\n",
    "        tmp = []\n",
    "        while not que.empty():\n",
    "            length = que.qsize()\n",
    "            for i in range(length):\n",
    "                tmp_node = que.get()\n",
    "                tmp.append(tmp_node.val)\n",
    "                if tmp_node.left:\n",
    "                    que.put(tmp_node.left)\n",
    "                if tmp_node.right:\n",
    "                    que.put(tmp_node.right)\n",
    "            res.append(tmp.copy())\n",
    "            tmp.clear()\n",
    "            \n",
    "        \n",
    "        return res\n",
    "                            \n",
    "cls = Solution()\n",
    "cls.levelOrder(root)"
   ]
  },
  {
   "cell_type": "markdown",
   "metadata": {},
   "source": [
    "# 顺序切换版本"
   ]
  },
  {
   "cell_type": "code",
   "execution_count": 68,
   "metadata": {},
   "outputs": [
    {
     "name": "stdout",
     "output_type": "stream",
     "text": [
      "[3]\n",
      "[9, 20]\n",
      "[15, 7]\n"
     ]
    },
    {
     "data": {
      "text/plain": [
       "[[3], [20, 9], [15, 7]]"
      ]
     },
     "execution_count": 68,
     "metadata": {},
     "output_type": "execute_result"
    }
   ],
   "source": [
    "import tree as Tree\n",
    "import queue \n",
    "tree = Tree.tree\n",
    "arr = [3, 9, 20, -1014, -1014, 15, 7]\n",
    "root = tree.build_tree(arr, 0)\n",
    "tree.bfs(root)\n",
    "class Solution:\n",
    "    def levelOrder(self, root):\n",
    "        if not root:\n",
    "            return []\n",
    "        res, que = [], queue.Queue()\n",
    "        que.put(root)\n",
    "        sublist, flag = [], False\n",
    "        while not que.empty():\n",
    "            length = que.qsize()\n",
    "            for i in range(length):\n",
    "                tmp = que.get()\n",
    "                sublist.append(tmp.val)\n",
    "                if tmp.left:\n",
    "                    que.put(tmp.left)\n",
    "                if tmp.right:\n",
    "                    que.put(tmp.right)\n",
    "            if flag:``\n",
    "                sublist = sublist[::-1]\n",
    "            flag = not flag\n",
    "            res.append(sublist.copy())\n",
    "            sublist.clear()\n",
    "        \n",
    "        return res\n",
    "                            \n",
    "cls = Solution()\n",
    "cls.levelOrder(root)"
   ]
  },
  {
   "cell_type": "code",
   "execution_count": null,
   "metadata": {},
   "outputs": [],
   "source": []
  },
  {
   "cell_type": "code",
   "execution_count": null,
   "metadata": {},
   "outputs": [],
   "source": []
  },
  {
   "cell_type": "code",
   "execution_count": null,
   "metadata": {},
   "outputs": [],
   "source": []
  },
  {
   "cell_type": "code",
   "execution_count": null,
   "metadata": {},
   "outputs": [],
   "source": []
  },
  {
   "cell_type": "code",
   "execution_count": null,
   "metadata": {},
   "outputs": [],
   "source": []
  }
 ],
 "metadata": {
  "kernelspec": {
   "display_name": "Python 3",
   "language": "python",
   "name": "python3"
  },
  "language_info": {
   "codemirror_mode": {
    "name": "ipython",
    "version": 3
   },
   "file_extension": ".py",
   "mimetype": "text/x-python",
   "name": "python",
   "nbconvert_exporter": "python",
   "pygments_lexer": "ipython3",
   "version": "3.7.6"
  }
 },
 "nbformat": 4,
 "nbformat_minor": 4
}
