{
 "cells": [
  {
   "cell_type": "markdown",
   "metadata": {},
   "source": [
    "# 1. 左旋转字符串\n",
    "# ![title](../img/a100.png)\n",
    "要求：时间复杂度O(n)，空间复杂度O(1)"
   ]
  },
  {
   "cell_type": "code",
   "execution_count": 1,
   "metadata": {},
   "outputs": [
    {
     "data": {
      "text/plain": [
       "'umghlrlose'"
      ]
     },
     "execution_count": 1,
     "metadata": {},
     "output_type": "execute_result"
    }
   ],
   "source": [
    "class Solution:\n",
    "    def reverseLeftWords(self, s: str, n: int) -> str:\n",
    "        if n > len(s) or not s:\n",
    "            return \"\"\n",
    "        return s[n:] + s[:n]\n",
    "s = \"lrloseumgh\"\n",
    "cls = Solution()\n",
    "cls.reverseLeftWords(s, 6)"
   ]
  },
  {
   "cell_type": "markdown",
   "metadata": {},
   "source": [
    "# 2  滑动窗口最大值\n",
    "![title](../img/a33.png)"
   ]
  },
  {
   "cell_type": "code",
   "execution_count": 10,
   "metadata": {},
   "outputs": [
    {
     "name": "stdout",
     "output_type": "stream",
     "text": [
      "[3, 3, 5, 5, 6, 7]\n"
     ]
    }
   ],
   "source": [
    "from collections import deque\n",
    "class Solution:\n",
    "    def maxsliedingWindow(self, nums, k):\n",
    "        que = deque()\n",
    "        def clean(cur_index):\n",
    "            if que and cur_index - que[0] == k:\n",
    "                que.popleft()\n",
    "            while que and nums[que[-1]] < nums[cur_index]:\n",
    "                que.pop()\n",
    "                \n",
    "        length = len(nums)\n",
    "        if k > length or k * length == 0:\n",
    "            return []\n",
    "        if k == 1:\n",
    "            return nums\n",
    "        \n",
    "        tmp = 0\n",
    "        for i in range(k):\n",
    "            clean(i)\n",
    "            que.append(i)\n",
    "            tmp = max(tmp, nums[i])\n",
    "        res = [tmp]\n",
    "        \n",
    "        for i in range(k, length):\n",
    "            clean(i)\n",
    "            que.append(i)\n",
    "            res.append(nums[que[0]])\n",
    "        print(res)\n",
    "\n",
    "cls = Solution()\n",
    "arr = [1, 3, -1, -3, 5, 3, 6, 7]\n",
    "cls.maxsliedingWindow(arr, 3)"
   ]
  },
  {
   "cell_type": "code",
   "execution_count": 21,
   "metadata": {},
   "outputs": [
    {
     "name": "stdout",
     "output_type": "stream",
     "text": [
      "0.11 0.01\n",
      "0.13 0.12\n",
      "0.15 0.25\n",
      "0.25 0.4\n",
      "0.35 0.65\n"
     ]
    },
    {
     "data": {
      "text/plain": [
       "[[0, 0, 0, 1, 1], [0, 0, 0, 1, 0], [0, 0, 0, 0], [0, 0, 1], [0, 1], [1]]"
      ]
     },
     "execution_count": 21,
     "metadata": {},
     "output_type": "execute_result"
    }
   ],
   "source": [
    "def number_pad(record, length, number):\n",
    "    for i in range(length):\n",
    "        record[i] = [number] + record[i]\n",
    "        \n",
    "record = [[] for _ in range(len(prob_list))]\n",
    "record\n",
    "current_index = 1\n",
    "cur_prob = prob_list[0]\n",
    "for i in range(1, len(prob_list)):\n",
    "    print(prob_list[i], cur_prob)\n",
    "    if cur_prob > prob_list[i]:\n",
    "        record[i] = [1] + record[i]\n",
    "        number_pad(record, current_index, 0)\n",
    "    else:\n",
    "        record[i] = [0] + record[i]\n",
    "        number_pad(record, current_index, 1)        \n",
    "    \n",
    "    cur_prob += prob_list[i]\n",
    "    current_index += 1\n",
    "    if cur_prob == 1:\n",
    "        break\n",
    "record"
   ]
  },
  {
   "cell_type": "markdown",
   "metadata": {},
   "source": [
    "# 3 队列的最大值\n",
    "![title](../img/a51.png)"
   ]
  },
  {
   "cell_type": "code",
   "execution_count": 1,
   "metadata": {},
   "outputs": [],
   "source": [
    "from collections import deque\n",
    "# 大部分功能就是个队列， 唯一不同的是加入一个新的双端队列，来维持最大值\n",
    "class MaxQueue:\n",
    "\n",
    "    def __init__(self):\n",
    "        self.deque = deque([])\n",
    "        self.min_deque = deque([])\n",
    "\n",
    "\n",
    "    def max_value(self) -> int:\n",
    "        if not self.min_deque:\n",
    "            return -1\n",
    "        else:\n",
    "            return self.min_deque[0] # 递减序列\n",
    "\n",
    "\n",
    "    def push_back(self, value: int) -> None:\n",
    "        self.deque.append(value)\n",
    "        while self.min_deque and self.min_deque[-1] < value:\n",
    "            self.min_deque.pop()\n",
    "        self.min_deque.append(value)\n",
    "\n",
    "\n",
    "    def pop_front(self) -> int:\n",
    "        if not self.deque:\n",
    "            return -1\n",
    "        elif self.min_deque[0] == self.deque[0]:\n",
    "            # min_deque： 递减 [10,9,8....]\n",
    "            self.min_deque.popleft()\n",
    "        return self.deque.popleft()\n",
    "\n",
    "\n",
    "\n",
    "cls = MaxQueue()\n",
    "cls.push_back(10)\n",
    "cls.push_back(3)\n",
    "cls.push_back(1)\n",
    "cls.push_back(12)\n",
    "cls.push_back(6)\n",
    "cls.push_back(5)"
   ]
  },
  {
   "cell_type": "code",
   "execution_count": 2,
   "metadata": {},
   "outputs": [
    {
     "name": "stdout",
     "output_type": "stream",
     "text": [
      "12\n"
     ]
    }
   ],
   "source": [
    "cls.pop_front()\n",
    "print(cls.max_value())"
   ]
  },
  {
   "cell_type": "markdown",
   "metadata": {},
   "source": [
    "# ![title](../img/a18.png)"
   ]
  },
  {
   "cell_type": "code",
   "execution_count": 25,
   "metadata": {},
   "outputs": [
    {
     "name": "stdout",
     "output_type": "stream",
     "text": [
      "[0.027777777777777776, 0.05555555555555555, 0.08333333333333333, 0.1111111111111111, 0.1388888888888889, 0.16666666666666666, 0.1388888888888889, 0.1111111111111111, 0.08333333333333333, 0.05555555555555555, 0.027777777777777776]\n"
     ]
    }
   ],
   "source": [
    "class Solution:\n",
    "    def twoSum(self, n: int):\n",
    "        if n == 0:\n",
    "            return \n",
    "        res = [0 for _ in range(n*6+1)]\n",
    "        for i in range(1, 7):\n",
    "            res[i] = 1\n",
    "        for i in range(1, n):\n",
    "            for j in range(6*n, 0, -1):\n",
    "                start = max(0, j - 6)\n",
    "                res[j] = sum(res[start: j])\n",
    "        res = list(map(lambda x: x/6**n, res))\n",
    "        res = list(filter(lambda x : x>0, res))\n",
    "        print(res)\n",
    "cls = Solution()\n",
    "cls.twoSum(2)"
   ]
  },
  {
   "cell_type": "code",
   "execution_count": null,
   "metadata": {},
   "outputs": [],
   "source": []
  },
  {
   "cell_type": "code",
   "execution_count": null,
   "metadata": {},
   "outputs": [],
   "source": []
  },
  {
   "cell_type": "code",
   "execution_count": 22,
   "metadata": {},
   "outputs": [
    {
     "name": "stdout",
     "output_type": "stream",
     "text": [
      "12 ----> 1\n",
      "11 ----> 2\n",
      "10 ----> 3\n",
      "9 ----> 4\n",
      "8 ----> 5\n",
      "7 ----> 6\n",
      "6 ----> 5\n",
      "5 ----> 4\n",
      "4 ----> 3\n",
      "3 ----> 2\n",
      "2 ----> 1\n",
      "1 ----> 0\n",
      "[0, 0, 1, 2, 3, 4, 5, 6, 5, 4, 3, 2, 1]\n"
     ]
    },
    {
     "data": {
      "text/plain": [
       "[0.027777777777777776,\n",
       " 0.05555555555555555,\n",
       " 0.08333333333333333,\n",
       " 0.1111111111111111,\n",
       " 0.1388888888888889,\n",
       " 0.16666666666666666,\n",
       " 0.1388888888888889,\n",
       " 0.1111111111111111,\n",
       " 0.08333333333333333,\n",
       " 0.05555555555555555,\n",
       " 0.027777777777777776]"
      ]
     },
     "execution_count": 22,
     "metadata": {},
     "output_type": "execute_result"
    }
   ],
   "source": [
    "class Solution:\n",
    "    def twoSum(self, n: int):\n",
    "        if n == 0:\n",
    "            return []\n",
    "        cnt = [0] * (n * 6 + 1)\n",
    "        # 初始化第一次扔骰子\n",
    "        for i in range(1,7):\n",
    "            cnt[i] = 1\n",
    "            \n",
    "        for _ in range(1,n):\n",
    "            for i in range(6 * n, 0, -1):\n",
    "                # 扔出所有筛子的次数\n",
    "                start = max(i - 6, 0)\n",
    "                cnt[i] = sum(cnt [start : i])\n",
    "                print(i,\"---->\", cnt[i])\n",
    "        print(cnt)\n",
    "        cnt = list(map(lambda a : a/(6**n), cnt))\n",
    "        cnt = list(filter(lambda a: a > 0, cnt))\n",
    "        return cnt\n",
    "        \n",
    "cls = Solution()\n",
    "\n",
    "res = cls.twoSum(2)\n",
    "res"
   ]
  },
  {
   "cell_type": "markdown",
   "metadata": {},
   "source": [
    "# 4 二叉树的最近公共祖先\n",
    "# ![title](../img/a19.png) "
   ]
  },
  {
   "cell_type": "code",
   "execution_count": 85,
   "metadata": {},
   "outputs": [
    {
     "name": "stdout",
     "output_type": "stream",
     "text": [
      "[6]\n",
      "[2, 8]\n",
      "[0, 4, 7, 9]\n",
      "[3, 5]\n"
     ]
    },
    {
     "data": {
      "text/plain": [
       "2"
      ]
     },
     "execution_count": 85,
     "metadata": {},
     "output_type": "execute_result"
    }
   ],
   "source": [
    "# Definition for a binary tree node.\n",
    "# class TreeNode:\n",
    "#     def __init__(self, x):\n",
    "#         self.val = x\n",
    "#         self.left = None\n",
    "#         self.right = None\n",
    "import tree as Tree\n",
    "tree = Tree.tree\n",
    "arr = [6,2,8,0,4,7,9,-1014,-1014,3,5]\n",
    "root = tree.build_tree(arr, 0)\n",
    "q,p = root.left.left, root.left.right.left\n",
    "tree.bfs(root)\n",
    "class Solution:\n",
    "    def lowestCommonAncestor(self, root, p, q):\n",
    "        if root in (p, q, None):\n",
    "            return root\n",
    "        left_root = self.lowestCommonAncestor(root.left, p, q)\n",
    "        right_root = self.lowestCommonAncestor(root.right, p, q)\n",
    "        if left_root and right_root:\n",
    "            return root\n",
    "        elif left_root or right_root:\n",
    "            return left_root if left_root else right_root\n",
    "        else:\n",
    "            return None\n",
    "cls = Solution()\n",
    "cls.lowestCommonAncestor(root, p, q).val"
   ]
  },
  {
   "cell_type": "markdown",
   "metadata": {},
   "source": [
    "# 5 扑克牌中的顺子\n",
    "![title](../img/a54.png)"
   ]
  },
  {
   "cell_type": "code",
   "execution_count": 29,
   "metadata": {},
   "outputs": [
    {
     "data": {
      "text/plain": [
       "True"
      ]
     },
     "execution_count": 29,
     "metadata": {},
     "output_type": "execute_result"
    }
   ],
   "source": [
    "class Solution:\n",
    "    def isStraight(self, nums) -> bool:\n",
    "        count = 0\n",
    "        nums.sort()\n",
    "        for i in range(4):\n",
    "            if nums[i] == 0:\n",
    "                continue\n",
    "            value = nums[i+1] - nums[i]\n",
    "            if value == 0:\n",
    "                return False\n",
    "            count += value\n",
    "        return count < 5\n",
    "cls = Solution()\n",
    "arr = [1,2,3,4,5]\n",
    "cls.isStraight(arr)"
   ]
  },
  {
   "cell_type": "markdown",
   "metadata": {},
   "source": [
    "# 6 圆圈中最后剩下的数字\n",
    "![title](../img/a37.png)"
   ]
  },
  {
   "cell_type": "code",
   "execution_count": 31,
   "metadata": {},
   "outputs": [
    {
     "data": {
      "text/plain": [
       "3"
      ]
     },
     "execution_count": 31,
     "metadata": {},
     "output_type": "execute_result"
    }
   ],
   "source": [
    "class Solution:\n",
    "    def lastRemaining(self, n: int, m: int) -> int:\n",
    "        nums = [i for i in range(n)]\n",
    "        # 约瑟夫环\n",
    "        size, start = n, 0\n",
    "        while size != 1:\n",
    "            index = (start + m - 1) % size\n",
    "            nums.pop(index)\n",
    "            start = index \n",
    "            size -= 1\n",
    "        return nums[0]\n",
    "        \n",
    "cls = Solution()\n",
    "cls.lastRemaining(5, 3)"
   ]
  },
  {
   "cell_type": "markdown",
   "metadata": {},
   "source": [
    "# 7 股票的最大利润1\n",
    "![title](../img/a41.png)"
   ]
  },
  {
   "cell_type": "code",
   "execution_count": 34,
   "metadata": {},
   "outputs": [
    {
     "data": {
      "text/plain": [
       "5"
      ]
     },
     "execution_count": 34,
     "metadata": {},
     "output_type": "execute_result"
    }
   ],
   "source": [
    "class Solution:\n",
    "    def maxProfit(self, prices):\n",
    "        dp0, dp1 = 0, -prices[0]\n",
    "        for i in range(1, len(prices)):\n",
    "            dp1 = max(dp1, 0-prices[i])\n",
    "            dp0 = max(dp0, dp1+prices[i])\n",
    "            \n",
    "        return dp0\n",
    "cls = Solution()\n",
    "arr = [7, 1, 5,3,6,4]\n",
    "cls.maxProfit(arr)   "
   ]
  },
  {
   "cell_type": "markdown",
   "metadata": {},
   "source": [
    "# 8 大数加法 （两个字符串数字相加）"
   ]
  },
  {
   "cell_type": "code",
   "execution_count": 44,
   "metadata": {},
   "outputs": [
    {
     "data": {
      "text/plain": [
       "'12354'"
      ]
     },
     "execution_count": 44,
     "metadata": {},
     "output_type": "execute_result"
    }
   ],
   "source": [
    "class Solution:\n",
    "    def addStrings(self, num1: str, num2: str) -> str:\n",
    "        res = []\n",
    "        i, j, carry = len(num1) - 1, len(num2) - 1, 0\n",
    "        while i >=0 or j >= 0:\n",
    "            n1 = int(num1[i]) if i >= 0 else 0\n",
    "            n2 = int(num2[j]) if j >= 0 else 0\n",
    "            # 12345 + 54321\n",
    "            tmp = n1 + n2 + carry\n",
    "            carry = tmp // 10\n",
    "            value = str(tmp%10)\n",
    "            res.append(value)\n",
    "            i, j = i-1, j-1\n",
    "        if carry:\n",
    "            res.append(\"1\")\n",
    "        return \"\".join(res[::-1])\n",
    "cls = Solution()\n",
    "num1 = \"12345\"\n",
    "num2 = \"9\"\n",
    "cls.addStrings(num1, num2)"
   ]
  },
  {
   "cell_type": "markdown",
   "metadata": {},
   "source": [
    "# 9 构建乘积数组\n",
    "![title](../img/a32.png)"
   ]
  },
  {
   "cell_type": "code",
   "execution_count": 59,
   "metadata": {},
   "outputs": [
    {
     "name": "stdout",
     "output_type": "stream",
     "text": [
      "[1, 1, 2, 6, 24]\n"
     ]
    },
    {
     "data": {
      "text/plain": [
       "[120, 60, 40, 30, 24]"
      ]
     },
     "execution_count": 59,
     "metadata": {},
     "output_type": "execute_result"
    }
   ],
   "source": [
    "class Solution:\n",
    "    def constructArr(self, a):\n",
    "        # 1, 2, 3, 4, 5\n",
    "        length = len(a)\n",
    "        res = [-1] * length\n",
    "        tmp = 1 \n",
    "        for i in range(len(a)):\n",
    "            res[i] = tmp \n",
    "            tmp = tmp*a[i]\n",
    "        tmp = 1\n",
    "        print(res)\n",
    "        for i in range(len(a)-1, -1, -1):\n",
    "            res[i] *= tmp\n",
    "            tmp *= a[i]\n",
    "            \n",
    "            \n",
    "        return res\n",
    "        \n",
    "cls = Solution()\n",
    "cls.constructArr([1,2,3,4,5])\n",
    "        "
   ]
  },
  {
   "cell_type": "markdown",
   "metadata": {},
   "source": [
    "# 10 字符串转数字\n",
    "![title](../img/136.png)\n",
    "\n",
    "输入: \"4193 with words\"\n",
    "\n",
    "输出: 4193\n",
    "\n",
    "输入: \"   -42\"\n",
    "\n",
    "输出: -42"
   ]
  },
  {
   "cell_type": "code",
   "execution_count": 75,
   "metadata": {},
   "outputs": [
    {
     "data": {
      "text/plain": [
       "-12930124"
      ]
     },
     "execution_count": 75,
     "metadata": {},
     "output_type": "execute_result"
    }
   ],
   "source": [
    "class Solution:\n",
    "    def strToInt(self, string: str) -> int:\n",
    "        string = string.strip()\n",
    "        if not string: return 0\n",
    "        res,  max_length = 0, 2**31 - 1\n",
    "        flag = -1 if string[0] == \"-\" else 1\n",
    "        if string[0] == \"+\" or string[0] == \"-\":\n",
    "            start = 1\n",
    "        else:\n",
    "            start = 0\n",
    "        for charac in string[start:]:\n",
    "            if not '0' <= charac <= '9':\n",
    "                break\n",
    "            res = 10 * res + ord(charac) - ord('0')\n",
    "            if res > max_length:\n",
    "                return max_length if flag else -length - 1\n",
    "            \n",
    "        return flag * res\n",
    "            \n",
    "            \n",
    "            \n",
    "            \n",
    "        return length\n",
    "string = \"   -12930124qwfqfq\"\n",
    "cls = Solution()\n",
    "cls.strToInt(string)"
   ]
  },
  {
   "cell_type": "code",
   "execution_count": 71,
   "metadata": {},
   "outputs": [
    {
     "data": {
      "text/plain": [
       "12"
      ]
     },
     "execution_count": 71,
     "metadata": {},
     "output_type": "execute_result"
    }
   ],
   "source": [
    "len(\"-12930124124\")"
   ]
  },
  {
   "cell_type": "markdown",
   "metadata": {},
   "source": [
    "# 11二叉搜索树的公共祖先\n",
    "![title](../img/137.png)\n",
    "\n"
   ]
  },
  {
   "cell_type": "code",
   "execution_count": 82,
   "metadata": {},
   "outputs": [
    {
     "name": "stdout",
     "output_type": "stream",
     "text": [
      "[6]\n",
      "[2, 8]\n",
      "[0, 4, 7, 9]\n",
      "[3, 5]\n"
     ]
    },
    {
     "data": {
      "text/plain": [
       "0"
      ]
     },
     "execution_count": 82,
     "metadata": {},
     "output_type": "execute_result"
    }
   ],
   "source": [
    "# Definition for a binary tree node.\n",
    "# class TreeNode:\n",
    "#     def __init__(self, x):\n",
    "#         self.val = x\n",
    "#         self.left = None\n",
    "#         self.right = None\n",
    "import tree as Tree\n",
    "tree = Tree.tree\n",
    "arr = [6,2,8,0,4,7,9,-1014,-1014,3,5]\n",
    "root = tree.build_tree(arr, 0)\n",
    "q,p = root.left.left, root.left.right.left\n",
    "p = tree.build_tree([1],0)\n",
    "tree.bfs(root)\n",
    "class Solution:\n",
    "    def lowestCommonAncestor(self, root, p, q):\n",
    "        if root.val < p.val and root.val < q.val:\n",
    "            return self.lowestCommonAncestor(root.right, p, q)\n",
    "        if root.val > p.val and root.val > q.val:\n",
    "            return self.lowestCommonAncestor(root.left, p, q)\n",
    "        return root        \n",
    "cls = Solution()\n",
    "cls.lowestCommonAncestor(root, p, q).val"
   ]
  },
  {
   "cell_type": "code",
   "execution_count": null,
   "metadata": {},
   "outputs": [],
   "source": []
  },
  {
   "cell_type": "code",
   "execution_count": null,
   "metadata": {},
   "outputs": [],
   "source": []
  },
  {
   "cell_type": "code",
   "execution_count": null,
   "metadata": {},
   "outputs": [],
   "source": []
  },
  {
   "cell_type": "code",
   "execution_count": null,
   "metadata": {},
   "outputs": [],
   "source": []
  },
  {
   "cell_type": "code",
   "execution_count": null,
   "metadata": {},
   "outputs": [],
   "source": []
  },
  {
   "cell_type": "code",
   "execution_count": null,
   "metadata": {},
   "outputs": [],
   "source": []
  },
  {
   "cell_type": "code",
   "execution_count": null,
   "metadata": {},
   "outputs": [],
   "source": [
    "aa"
   ]
  }
 ],
 "metadata": {
  "kernelspec": {
   "display_name": "Python 3",
   "language": "python",
   "name": "python3"
  },
  "language_info": {
   "codemirror_mode": {
    "name": "ipython",
    "version": 3
   },
   "file_extension": ".py",
   "mimetype": "text/x-python",
   "name": "python",
   "nbconvert_exporter": "python",
   "pygments_lexer": "ipython3",
   "version": "3.7.6"
  }
 },
 "nbformat": 4,
 "nbformat_minor": 4
}
