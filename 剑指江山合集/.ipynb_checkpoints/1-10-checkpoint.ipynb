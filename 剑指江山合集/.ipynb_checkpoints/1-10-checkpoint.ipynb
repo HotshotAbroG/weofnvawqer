{
 "cells": [
  {
   "cell_type": "markdown",
   "metadata": {},
   "source": [
    "# 1. 数组中的重复数字\n",
    "![title](../img/117.png)"
   ]
  },
  {
   "cell_type": "code",
   "execution_count": 2,
   "metadata": {},
   "outputs": [
    {
     "data": {
      "text/plain": [
       "2"
      ]
     },
     "execution_count": 2,
     "metadata": {},
     "output_type": "execute_result"
    }
   ],
   "source": [
    "class Solution:\n",
    "    def findRepeatNumber(self, nums) -> int:\n",
    "        if not nums:\n",
    "            reutnr -1\n",
    "        start = 0\n",
    "        while start < len(nums):\n",
    "            if nums[start] == start:\n",
    "                start += 1\n",
    "            else:\n",
    "                # index处的value 不和index相等\n",
    "                value = nums[start]\n",
    "                if nums[value] == nums[start]:\n",
    "                    return value\n",
    "                else:\n",
    "                    nums[start], nums[value] = nums[value], nums[start]\n",
    "cls = Solution()\n",
    "arr = [2, 3, 1, 0, 2, 5, 3]\n",
    "cls.findRepeatNumber(arr)"
   ]
  },
  {
   "cell_type": "markdown",
   "metadata": {},
   "source": [
    "# 2 二维数组查找\n",
    "![title](../img/a44.png)"
   ]
  },
  {
   "cell_type": "code",
   "execution_count": 13,
   "metadata": {},
   "outputs": [
    {
     "data": {
      "text/plain": [
       "True"
      ]
     },
     "execution_count": 13,
     "metadata": {},
     "output_type": "execute_result"
    }
   ],
   "source": [
    "mask = [\n",
    "  [1,   4,  7, 11, 15],\n",
    "  [2,   5,  8, 12, 19],\n",
    "  [3,   6,  9, 16, 22],\n",
    "  [10, 13, 14, 17, 24],\n",
    "  [18, 21, 23, 26, 30]\n",
    "]\n",
    "\n",
    "class Solution:\n",
    "    def findNumberIn2DArray(self, matrix, target: int) -> bool:\n",
    "        if len(matrix) == 0:\n",
    "            return False\n",
    "        row, col = 0, len(matrix[0])-1\n",
    "        while row < len(matrix) and col >= 0:\n",
    "            value = matrix[row][col]\n",
    "            if value == target:\n",
    "                return True\n",
    "            elif value > target:\n",
    "                col -= 1\n",
    "            else:\n",
    "                row += 1\n",
    "        \n",
    "        return False\n",
    "                \n",
    "        \n",
    "        \n",
    "cls = Solution()\n",
    "cls.findNumberIn2DArray(mask, 14)"
   ]
  },
  {
   "cell_type": "markdown",
   "metadata": {},
   "source": [
    "# 3 替换空格\n",
    "![title](../img/a15.png)"
   ]
  },
  {
   "cell_type": "markdown",
   "metadata": {},
   "source": [
    "# "
   ]
  },
  {
   "cell_type": "code",
   "execution_count": 22,
   "metadata": {},
   "outputs": [
    {
     "data": {
      "text/plain": [
       "'We%20are%20happy.'"
      ]
     },
     "execution_count": 22,
     "metadata": {},
     "output_type": "execute_result"
    }
   ],
   "source": [
    "class Solution:\n",
    "    def replaceSpaces(self, S: str, length: int) -> str:\n",
    "        # python 字符串不能修改\n",
    "        res = []\n",
    "        for characte in S:\n",
    "            if characte == \" \":\n",
    "                res.append(\"%20\")\n",
    "            else:\n",
    "                res.append(characte)\n",
    "        return \"\".join(res)\n",
    "st = \"We are happy.\"\n",
    "cls = Solution()\n",
    "cls.replaceSpaces(st, len(st))"
   ]
  },
  {
   "cell_type": "markdown",
   "metadata": {},
   "source": [
    "# #  4 从尾到头打印链表\n",
    "![title](../img/a77.png)"
   ]
  },
  {
   "cell_type": "code",
   "execution_count": 27,
   "metadata": {},
   "outputs": [
    {
     "name": "stdout",
     "output_type": "stream",
     "text": [
      "5  0  1  8  4  5  \n",
      "\n"
     ]
    },
    {
     "data": {
      "text/plain": [
       "[5, 4, 8, 1, 0, 5]"
      ]
     },
     "execution_count": 27,
     "metadata": {},
     "output_type": "execute_result"
    }
   ],
   "source": [
    "import node\n",
    "listNode = node.listNode\n",
    "root1 = listNode.build_listNode([5, 0, 1, 8, 4, 5])\n",
    "listNode.show(root1)\n",
    "print()\n",
    "class Solution:\n",
    "    def reversePrint(self, head):\n",
    "        res = [] \n",
    "        while head:\n",
    "            res.insert(0, head.val)\n",
    "            head = head.next\n",
    "        \n",
    "        return res\n",
    "cls = Solution()\n",
    "cls.reversePrint(root1)"
   ]
  },
  {
   "cell_type": "markdown",
   "metadata": {},
   "source": [
    "# 5 链表的复制问题"
   ]
  },
  {
   "cell_type": "code",
   "execution_count": 33,
   "metadata": {},
   "outputs": [],
   "source": [
    "import copy"
   ]
  },
  {
   "cell_type": "code",
   "execution_count": 38,
   "metadata": {},
   "outputs": [
    {
     "name": "stdout",
     "output_type": "stream",
     "text": [
      "202\n"
     ]
    }
   ],
   "source": [
    "a1 = node.listNode(1014)\n",
    "b1 = a1\n",
    "b1.val = 202\n",
    "print(a1.val)\n",
    "# 直接用等号赋值， 对b1的修改 也会导致a1发生变化\n",
    "# 原因，理解成java里的引用， b1 和 a1 指向了同一个对象"
   ]
  },
  {
   "cell_type": "code",
   "execution_count": 39,
   "metadata": {},
   "outputs": [
    {
     "name": "stdout",
     "output_type": "stream",
     "text": [
      "1014\n"
     ]
    }
   ],
   "source": [
    "a = node.listNode(1014)\n",
    "b = copy.deepcopy(a)\n",
    "b.val = 202\n",
    "print(a.val)\n",
    "# 运用了深拷贝， b和a指向了两个不同的对象"
   ]
  },
  {
   "cell_type": "markdown",
   "metadata": {},
   "source": [
    "# 6 重建二叉树\n",
    "![title](../img/a45.png)"
   ]
  },
  {
   "cell_type": "code",
   "execution_count": 47,
   "metadata": {},
   "outputs": [
    {
     "name": "stdout",
     "output_type": "stream",
     "text": [
      "[3]\n",
      "[9, 20]\n",
      "[15, 7]\n"
     ]
    }
   ],
   "source": [
    "import tree as Tree\n",
    "tree = Tree.tree\n",
    "class Solution:\n",
    "    def buildTree(self, preorder, inorder) :\n",
    "        if len(inorder) == 0:\n",
    "            return None\n",
    "        value = preorder[0]\n",
    "        index = inorder.index(value)\n",
    "        root = tree(value)\n",
    "        root.left = self.buildTree(preorder[1 : 1 + index], inorder[: index])\n",
    "        root.right = self.buildTree(preorder[1+index : ], inorder[index+1:])\n",
    "        \n",
    "        return root\n",
    "        \n",
    "\n",
    "preorder  = [3,9,20,15,7]\n",
    "inorder = [9,3,15,20,7]\n",
    "cls = Solution()\n",
    "res1 = cls.buildTree(preorder, inorder)\n",
    "tree.bfs(res1)"
   ]
  },
  {
   "cell_type": "markdown",
   "metadata": {},
   "source": [
    "# 7 两个stack 模仿队列\n",
    "![title](../img/a17.png) "
   ]
  },
  {
   "cell_type": "code",
   "execution_count": 72,
   "metadata": {},
   "outputs": [
    {
     "name": "stdout",
     "output_type": "stream",
     "text": [
      "0\n",
      "<class '__main__.CQueue'>\n",
      "1\n"
     ]
    }
   ],
   "source": [
    "class CQueue:\n",
    "\n",
    "    def __init__(self):\n",
    "         self.__stack1, self.stack2 = [], []\n",
    "\n",
    "    def appendTail(self, value: int) -> None:\n",
    "        # 添加的时候排序\n",
    "        self.__stack1.append(value)\n",
    "            \n",
    "\n",
    "    def deleteHead(self) -> int:\n",
    "        if len(self.stack2) == 0:\n",
    "            while self.__stack1:\n",
    "                self.stack2.append(self.__stack1.pop())\n",
    "        return self.stack2.pop() if self.stack2 else -1\n",
    "\n",
    "\n",
    "a = CQueue()\n",
    "for i in range(5):\n",
    "    a.appendTail(i)\n",
    "print(a.deleteHead())\n",
    "print(a.__class__)\n",
    "print(a.deleteHead())"
   ]
  },
  {
   "cell_type": "markdown",
   "metadata": {},
   "source": [
    "# 8 和为s的两个数字\n",
    "![title](../img/a24.png)"
   ]
  },
  {
   "cell_type": "code",
   "execution_count": 5,
   "metadata": {},
   "outputs": [
    {
     "data": {
      "text/plain": [
       "[2, 7]"
      ]
     },
     "execution_count": 5,
     "metadata": {},
     "output_type": "execute_result"
    }
   ],
   "source": [
    "class Solution:\n",
    "    def twoSum(self, nums, target: int) :\n",
    "        record = {}\n",
    "        for value in nums:\n",
    "            rest = target - value  # 9-2 = 7\n",
    "            if record.get(value, -1) != -1:\n",
    "                return [rest, value]\n",
    "            else:\n",
    "                record[rest] = 1\n",
    "            \n",
    "        return -1\n",
    "nums = [2, 7, 11, 15]\n",
    "target = 9    \n",
    "cls = Solution()\n",
    "cls.twoSum(nums, target)"
   ]
  },
  {
   "cell_type": "markdown",
   "metadata": {},
   "source": [
    "# 9 斐波那契数列\n",
    "输入：n = 5\n",
    "\n",
    "输出：5"
   ]
  },
  {
   "cell_type": "code",
   "execution_count": 2,
   "metadata": {},
   "outputs": [
    {
     "data": {
      "text/plain": [
       "13"
      ]
     },
     "execution_count": 2,
     "metadata": {},
     "output_type": "execute_result"
    }
   ],
   "source": [
    "class Solution:\n",
    "    def fib(self, n: int) -> int:\n",
    "        # 1 1 2 3 5 8 13 21  34\n",
    "        # 1 2 3 4 5 6 7  8   9\n",
    "        if n == 0:\n",
    "            return n\n",
    "        f1, f2 = 0,1\n",
    "        for i in range(n):\n",
    "            f2, f1 = f1+f2, f2\n",
    "            \n",
    "        return f1\n",
    "        \n",
    "cls = Solution()\n",
    "cls.fib(7)"
   ]
  },
  {
   "cell_type": "markdown",
   "metadata": {},
   "source": [
    "# 10 青蛙跳台阶\n",
    "![title](../img/a35.png)"
   ]
  },
  {
   "cell_type": "code",
   "execution_count": 3,
   "metadata": {},
   "outputs": [
    {
     "data": {
      "text/plain": [
       "21"
      ]
     },
     "execution_count": 3,
     "metadata": {},
     "output_type": "execute_result"
    }
   ],
   "source": [
    "class Solution:\n",
    "    def numWays(self, n: int) -> int:\n",
    "        # dp i = dp i-1 + dp i-2\n",
    "        dp0, dp1 = 0, 1\n",
    "        for i in range(n):\n",
    "            dp0, dp1 = dp1, dp0+dp1\n",
    "            \n",
    "            \n",
    "        return dp1 % 1000000007\n",
    "\n",
    "\n",
    "cls = Solution()\n",
    "cls.numWays(7)"
   ]
  },
  {
   "cell_type": "code",
   "execution_count": null,
   "metadata": {},
   "outputs": [],
   "source": []
  },
  {
   "cell_type": "code",
   "execution_count": null,
   "metadata": {},
   "outputs": [],
   "source": []
  }
 ],
 "metadata": {
  "kernelspec": {
   "display_name": "Python 3",
   "language": "python",
   "name": "python3"
  },
  "language_info": {
   "codemirror_mode": {
    "name": "ipython",
    "version": 3
   },
   "file_extension": ".py",
   "mimetype": "text/x-python",
   "name": "python",
   "nbconvert_exporter": "python",
   "pygments_lexer": "ipython3",
   "version": "3.7.6"
  }
 },
 "nbformat": 4,
 "nbformat_minor": 2
}
