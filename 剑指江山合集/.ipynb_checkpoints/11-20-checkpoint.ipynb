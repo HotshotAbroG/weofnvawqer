{
 "cells": [
  {
   "cell_type": "markdown",
   "metadata": {},
   "source": [
    "# 1 旋转数组最小数字\n",
    "![title](../img/a34.png)"
   ]
  },
  {
   "cell_type": "code",
   "execution_count": 6,
   "metadata": {},
   "outputs": [
    {
     "name": "stdout",
     "output_type": "stream",
     "text": [
      "4 -------> 7\n",
      "6 -------> 1\n",
      "5 -------> 8\n"
     ]
    },
    {
     "data": {
      "text/plain": [
       "1"
      ]
     },
     "execution_count": 6,
     "metadata": {},
     "output_type": "execute_result"
    }
   ],
   "source": [
    "arr = [3,4,5,6,7,8,1,2,3]\n",
    "#      0 1 2 3 4 5 6 7 8\n",
    "class Solution:\n",
    "    def minArray(self, numbers) -> int:\n",
    "        # 划分为两个 递增数组\n",
    "        # 以最右边为基准\n",
    "        left, right = 0, len(numbers)-1\n",
    "        while left < right:\n",
    "            mid = left + ((right - left)//2)\n",
    "            if numbers[mid] < numbers[right]:\n",
    "                # 属于旋转数组\n",
    "                right = mid\n",
    "            elif numbers[mid] > numbers[right]:\n",
    "                # 不属于旋转数组\n",
    "                left = mid+1\n",
    "            else:\n",
    "                right -= 1\n",
    "        return numbers[left]\n",
    "        \n",
    "        \n",
    "        \n",
    "\n",
    "cls = Solution()\n",
    "cls.minArray(arr)"
   ]
  },
  {
   "cell_type": "markdown",
   "metadata": {},
   "source": [
    "# 2 面试题12. 矩阵中的路径\n",
    "![ttile](../img/a78.png)"
   ]
  },
  {
   "cell_type": "code",
   "execution_count": 16,
   "metadata": {},
   "outputs": [
    {
     "data": {
      "text/plain": [
       "True"
      ]
     },
     "execution_count": 16,
     "metadata": {},
     "output_type": "execute_result"
    }
   ],
   "source": [
    "board = [[\"A\",\"B\",\"C\",\"E\"],[\"S\",\"F\",\"C\",\"S\"],[\"A\",\"D\",\"E\",\"E\"]]\n",
    "word = \"ABCCED\"\n",
    "\n",
    "class Solution:\n",
    "    \n",
    "    def exist(self, board, word):\n",
    "        row = len(board)\n",
    "        if row == 0:\n",
    "            return False\n",
    "        col = len(board[0])\n",
    "        record = [ [False for _ in range(col)] for i in range(row)]\n",
    "        def dfs(i, j, record, current_index):\n",
    "            if len(word) == current_index:\n",
    "                return True\n",
    "            if i < 0 or j < 0 or i >= row or j >= col or record[i][j] or board[i][j] != word[current_index]:\n",
    "                return False\n",
    "            record[i][j] = True\n",
    "            flag = dfs(i-1, j, record, current_index+1) or dfs(i+1, j, record, current_index+1) or dfs(i, j-1, record, current_index+1) or dfs(i,j+1, record, current_index+1)\n",
    "            if flag :\n",
    "                return True\n",
    "            record[i][j] = False\n",
    "\n",
    "        \n",
    "        \n",
    "        for i in range(row):\n",
    "            for j in range(col):\n",
    "                if dfs(i, j, record, 0):\n",
    "                    return True\n",
    "        return False\n",
    "cls = Solution()\n",
    "cls.exist(board, word)"
   ]
  },
  {
   "cell_type": "markdown",
   "metadata": {},
   "source": [
    "# 3. 机器人移动范围\n",
    "![title](../img/a9.png) "
   ]
  },
  {
   "cell_type": "code",
   "execution_count": 27,
   "metadata": {},
   "outputs": [
    {
     "name": "stdout",
     "output_type": "stream",
     "text": [
      "19\n",
      "{(0, 1), (1, 2), (0, 0), (1, 3), (3, 0), (0, 2), (3, 1), (2, 1), (2, 0), (0, 3), (0, 4), (2, 2), (1, 0), (1, 1), (4, 0)}\n"
     ]
    },
    {
     "data": {
      "text/plain": [
       "15"
      ]
     },
     "execution_count": 27,
     "metadata": {},
     "output_type": "execute_result"
    }
   ],
   "source": [
    "class Solution:\n",
    "    def judge(self, i, j):\n",
    "        i1, i0 = i//10, i%10\n",
    "        j1, j0 = j//10, j%10\n",
    "        return i1 + i0 + j1 + j0\n",
    "    def movingCount(self, m: int, n: int, k: int) -> int:\n",
    "        print(self.judge(35,38))\n",
    "        res = 0 \n",
    "        record = set()\n",
    "        def dfs(i,j):\n",
    "            if i < 0 or j < 0 or j>=n or i >= m or self.judge(i,j) > k or (i,j) in record:\n",
    "                return \n",
    "            record.add((i,j))\n",
    "            nonlocal res\n",
    "            res += 1\n",
    "            dfs(i-1,j)\n",
    "            dfs(i+1,j)\n",
    "            dfs(i,j-1)\n",
    "            dfs(i,j+1)\n",
    "        dfs(0, 0)\n",
    "        print(record)\n",
    "        return res\n",
    "\n",
    "cls = Solution()\n",
    "cls.movingCount(16,8,4)"
   ]
  },
  {
   "cell_type": "markdown",
   "metadata": {},
   "source": [
    "# 4 剪绳子\n",
    "![title](../img/a82.png)"
   ]
  },
  {
   "cell_type": "code",
   "execution_count": 38,
   "metadata": {},
   "outputs": [
    {
     "data": {
      "text/plain": [
       "2"
      ]
     },
     "execution_count": 38,
     "metadata": {},
     "output_type": "execute_result"
    }
   ],
   "source": [
    "class Solution:\n",
    "    def cuttingRope(self, n: int) -> int:\n",
    "        # dp[i] = max(dp[n-j]*j, (n-j)*j)\n",
    "        dp = [0] * (n+1)\n",
    "        dp[1] = 1 \n",
    "        for i in range(2, n+1):\n",
    "            for j in range(1, i):\n",
    "                dp[i] =  max(dp[i-j]*j, (i-j)*j, dp[i])\n",
    "        return dp[n]\n",
    "cls = Solution()\n",
    "cls.cuttingRope(3)"
   ]
  },
  {
   "cell_type": "markdown",
   "metadata": {},
   "source": [
    "# 5 二进制中的1的个数\n",
    "![title](../img/120.png)"
   ]
  },
  {
   "cell_type": "code",
   "execution_count": 44,
   "metadata": {},
   "outputs": [
    {
     "data": {
      "text/plain": [
       "60"
      ]
     },
     "execution_count": 44,
     "metadata": {},
     "output_type": "execute_result"
    }
   ],
   "source": [
    "class Solution:\n",
    "    def hammingWeight(self, n: int) -> int:\n",
    "        count = 0\n",
    "        while n > 0:\n",
    "            if n & 1 == 1:\n",
    "                count += 1\n",
    "\n",
    "            n = n >> 1\n",
    "        return count\n",
    "\n",
    "cls = Solution()\n",
    "m = \n",
    "cls.hammingWeight(m)"
   ]
  },
  {
   "cell_type": "code",
   "execution_count": 47,
   "metadata": {},
   "outputs": [
    {
     "data": {
      "text/plain": [
       "'0b1111110011'"
      ]
     },
     "execution_count": 47,
     "metadata": {},
     "output_type": "execute_result"
    }
   ],
   "source": [
    "bin(1011)"
   ]
  },
  {
   "cell_type": "code",
   "execution_count": null,
   "metadata": {},
   "outputs": [],
   "source": []
  },
  {
   "cell_type": "code",
   "execution_count": null,
   "metadata": {},
   "outputs": [],
   "source": []
  },
  {
   "cell_type": "code",
   "execution_count": null,
   "metadata": {},
   "outputs": [],
   "source": []
  },
  {
   "cell_type": "code",
   "execution_count": null,
   "metadata": {},
   "outputs": [],
   "source": []
  },
  {
   "cell_type": "code",
   "execution_count": null,
   "metadata": {},
   "outputs": [],
   "source": []
  },
  {
   "cell_type": "code",
   "execution_count": null,
   "metadata": {},
   "outputs": [],
   "source": []
  },
  {
   "cell_type": "code",
   "execution_count": null,
   "metadata": {},
   "outputs": [],
   "source": []
  },
  {
   "cell_type": "code",
   "execution_count": null,
   "metadata": {},
   "outputs": [],
   "source": []
  },
  {
   "cell_type": "code",
   "execution_count": null,
   "metadata": {},
   "outputs": [],
   "source": []
  },
  {
   "cell_type": "code",
   "execution_count": null,
   "metadata": {},
   "outputs": [],
   "source": []
  },
  {
   "cell_type": "code",
   "execution_count": null,
   "metadata": {},
   "outputs": [],
   "source": []
  },
  {
   "cell_type": "code",
   "execution_count": null,
   "metadata": {},
   "outputs": [],
   "source": []
  },
  {
   "cell_type": "code",
   "execution_count": null,
   "metadata": {},
   "outputs": [],
   "source": []
  },
  {
   "cell_type": "code",
   "execution_count": null,
   "metadata": {},
   "outputs": [],
   "source": []
  },
  {
   "cell_type": "code",
   "execution_count": null,
   "metadata": {},
   "outputs": [],
   "source": []
  },
  {
   "cell_type": "code",
   "execution_count": null,
   "metadata": {},
   "outputs": [],
   "source": []
  },
  {
   "cell_type": "code",
   "execution_count": null,
   "metadata": {},
   "outputs": [],
   "source": []
  },
  {
   "cell_type": "code",
   "execution_count": null,
   "metadata": {},
   "outputs": [],
   "source": []
  },
  {
   "cell_type": "code",
   "execution_count": null,
   "metadata": {},
   "outputs": [],
   "source": []
  },
  {
   "cell_type": "code",
   "execution_count": null,
   "metadata": {},
   "outputs": [],
   "source": []
  },
  {
   "cell_type": "code",
   "execution_count": null,
   "metadata": {},
   "outputs": [],
   "source": []
  },
  {
   "cell_type": "code",
   "execution_count": null,
   "metadata": {},
   "outputs": [],
   "source": []
  },
  {
   "cell_type": "code",
   "execution_count": null,
   "metadata": {},
   "outputs": [],
   "source": []
  },
  {
   "cell_type": "code",
   "execution_count": null,
   "metadata": {},
   "outputs": [],
   "source": []
  },
  {
   "cell_type": "code",
   "execution_count": null,
   "metadata": {},
   "outputs": [],
   "source": []
  },
  {
   "cell_type": "code",
   "execution_count": null,
   "metadata": {},
   "outputs": [],
   "source": []
  }
 ],
 "metadata": {
  "kernelspec": {
   "display_name": "Python 3",
   "language": "python",
   "name": "python3"
  },
  "language_info": {
   "codemirror_mode": {
    "name": "ipython",
    "version": 3
   },
   "file_extension": ".py",
   "mimetype": "text/x-python",
   "name": "python",
   "nbconvert_exporter": "python",
   "pygments_lexer": "ipython3",
   "version": "3.7.6"
  }
 },
 "nbformat": 4,
 "nbformat_minor": 4
}
