{
 "cells": [
  {
   "cell_type": "markdown",
   "metadata": {},
   "source": [
    "# 1 面试题33. 二叉搜索树的后序遍历序列\n",
    "![title](../img/a87.png)"
   ]
  },
  {
   "cell_type": "code",
   "execution_count": 4,
   "metadata": {},
   "outputs": [
    {
     "data": {
      "text/plain": [
       "False"
      ]
     },
     "execution_count": 4,
     "metadata": {},
     "output_type": "execute_result"
    }
   ],
   "source": [
    "class Solution:\n",
    "    def verifyPostorder(self, postorder) -> bool:\n",
    "        def check(arr, start, end):\n",
    "            # 左右中\n",
    "            if end - start < 2:\n",
    "                return True\n",
    "            root_value = arr[end]\n",
    "            cur_index = start \n",
    "            while cur_index < end and arr[cur_index] <= root_value:\n",
    "                # 找到所有左子树的index\n",
    "                  # 由于是二叉搜索树，所以 左子树的所有值都小于 root——value  所以可以找到左子树的头节点\n",
    "                cur_index += 1\n",
    "            for i in range(cur_index, end):\n",
    "                if arr[i] < root_value:\n",
    "                    return False\n",
    "                \n",
    "            return check(arr, start, cur_index-1) and check(arr, cur_index, end-1) \n",
    "   \n",
    "        return check(postorder, 0, len(postorder)-1)\n",
    "cls = Solution()\n",
    "arr = [1,3,2,6,5]\n",
    "cls.verifyPostorder(arr)"
   ]
  },
  {
   "cell_type": "markdown",
   "metadata": {},
   "source": [
    "# 2  面试题34. 二叉树中和为某一值的路径\n",
    "![title](../img/a52.png)"
   ]
  },
  {
   "cell_type": "code",
   "execution_count": 73,
   "metadata": {},
   "outputs": [
    {
     "name": "stdout",
     "output_type": "stream",
     "text": [
      "[5]\n",
      "[4, 8]\n",
      "[11, 13, 4]\n",
      "[7, 2, 5, 1]\n"
     ]
    },
    {
     "data": {
      "text/plain": [
       "[[5, 4, 11, 2], [5, 8, 4, 5]]"
      ]
     },
     "execution_count": 73,
     "metadata": {},
     "output_type": "execute_result"
    }
   ],
   "source": [
    "\n",
    "import tree as Tree\n",
    "tree = Tree.tree\n",
    "arr = [5, 4, 8, 11, -1014, 13, 4, 7, 2, -1014,-1014, -1014, -1014,5, 1]\n",
    "root = tree.build_tree(arr, 0)\n",
    "tree.bfs(root)\n",
    "class Solution:\n",
    "    def pathSum(self, root, value):\n",
    "        res = []\n",
    "        if not root:\n",
    "            return \n",
    "        def dfs(root, value, sublist):\n",
    "            if not root:\n",
    "                return \n",
    "            sublist.append(root.val)\n",
    "            if root.val == value and root.left == None and root.right == None:\n",
    "                res.append(sublist.copy())\n",
    "            dfs(root.left, value-root.val, sublist)\n",
    "            dfs(root.right, value-root.val, sublist)\n",
    "            sublist.pop()\n",
    "        dfs(root, value, [])\n",
    "        return res\n",
    "        \n",
    "cls = Solution()\n",
    "cls.pathSum(root, 22)"
   ]
  },
  {
   "cell_type": "markdown",
   "metadata": {},
   "source": [
    "# 3  面试题35. 复杂链表的复制\n",
    "![title](../img/a88.png)"
   ]
  },
  {
   "cell_type": "code",
   "execution_count": 20,
   "metadata": {},
   "outputs": [],
   "source": [
    "class Solution:\n",
    "    def copyRandomList(self, head: 'Node') -> 'Node':\n",
    "        if not head:\n",
    "            return None\n",
    "        new_head = Node(head.val)       # 该 引用 负责 保存 整个copyList的头部\n",
    "        cur_node = head                 # 该 引用 负责 遍历整个 orgList\n",
    "        copy_node = new_head            # 该 引用 负责 遍历整个 copyList\n",
    "\n",
    "        # 利用字典 哈希映射表 键：原Node  值：原Node的复制\n",
    "        record = {head:new_head}  \n",
    "        \n",
    "        cur_node = cur_node.next   # 头节点 已经复制\n",
    "        # 遍历两遍\n",
    "        # 第一次 复制 next，并把复制的节点存储到 字典\n",
    "        # 第二次 复制 random\n",
    "        while cur_node:\n",
    "            # 复制当前节点\n",
    "            tmp = Node(cur_node.val)\n",
    "            record[cur_node] = tmp\n",
    "            \n",
    "            # copyList 连接\n",
    "            copy_node.next = tmp # 一开始copy_node = (head.val) 连接过程\n",
    "            \n",
    "            copy_node = copy_node.next   # 节点下移 \n",
    "            cur_node = cur_node.next  # 节点下移\n",
    "        \n",
    "        # 初始化\n",
    "        cur_node, copy_node = head, new_head\n",
    "        \n",
    "        while cur_node:\n",
    "            random_node = cur_node.random\n",
    "            # 连接过程\n",
    "            if random_node:\n",
    "                copy_node.random = record[random_node]\n",
    "            \n",
    "            cur_node = cur_node.next# 节点下移\n",
    "            copy_node = copy_node.next# 节点下移\n",
    "        return new_head"
   ]
  },
  {
   "cell_type": "markdown",
   "metadata": {},
   "source": [
    "# 4  面试题37. 序列化二叉树\n",
    "![title](../img/a57.png)"
   ]
  },
  {
   "cell_type": "code",
   "execution_count": 52,
   "metadata": {
    "scrolled": true
   },
   "outputs": [
    {
     "name": "stdout",
     "output_type": "stream",
     "text": [
      "[1]\n",
      "[2, 3]\n",
      "[4, 5]\n",
      "--------------------------------------------------------------------------------\n",
      "[1]\n",
      "[2, 3]\n",
      "[4, 5]\n"
     ]
    }
   ],
   "source": [
    "import tree as Tree\n",
    "import collections\n",
    "tree = Tree.tree\n",
    "arr = [1,2,3,-1014, -1014, 4,5]\n",
    "root = tree.build_tree(arr, 0)\n",
    "tree.bfs(root)\n",
    "class Codec:\n",
    "\n",
    "    def serialize(self, root):\n",
    "        # root----->string\n",
    "        if not root: return \"[]\"\n",
    "        queue = collections.deque()\n",
    "        queue.append(root)\n",
    "        res = []\n",
    "        while queue:\n",
    "            node = queue.popleft()\n",
    "            if node:\n",
    "                res.append(str(node.val))\n",
    "                queue.append(node.left)\n",
    "                queue.append(node.right)\n",
    "            else: res.append(\"null\")\n",
    "        return '[' + ','.join(res) + ']'\n",
    "\n",
    "    def deserialize(self, data):\n",
    "        if data == \"[]\": return\n",
    "        vals, i = data[1:-1].split(','), 1\n",
    "        root = tree(int(vals[0]))\n",
    "        queue = collections.deque()\n",
    "        queue.append(root)\n",
    "        while queue and i < len(vals):\n",
    "            node = queue.popleft()\n",
    "            if vals[i] != \"null\":\n",
    "                node.left = tree(int(vals[i]))\n",
    "                queue.append(node.left)\n",
    "            i += 1\n",
    "            if vals[i] != \"null\":\n",
    "                node.right = tree(int(vals[i]))\n",
    "                queue.append(node.right)\n",
    "            i += 1\n",
    "        return root\n",
    "\n",
    "cls = Codec()\n",
    "cls.serialize(root)\n",
    "print(\"-\"*80)\n",
    "r = cls.deserialize(\"[1,2,3,null,null,4,5]\")    \n",
    "tree.bfs(r)"
   ]
  },
  {
   "cell_type": "markdown",
   "metadata": {},
   "source": [
    "# 5 面试题38. 字符串的排列\n",
    "![title](../img/a42.png)"
   ]
  },
  {
   "cell_type": "code",
   "execution_count": 69,
   "metadata": {},
   "outputs": [
    {
     "name": "stdout",
     "output_type": "stream",
     "text": [
      "{'acb', 'cab', 'bca', 'abc', 'cba', 'bac'}\n"
     ]
    }
   ],
   "source": [
    "class Solution:\n",
    "    def permutation(self, s: str):\n",
    "        res = set()\n",
    "        record = [False] * len(s)\n",
    "        def dfs(sentence):\n",
    "            if len(sentence) == len(s):\n",
    "                res.add(sentence)\n",
    "                return \n",
    "            for i in range(len(s)):\n",
    "                if not record[i]:\n",
    "                    record[i] = True\n",
    "                    dfs(sentence+s[i])\n",
    "                    record[i] = False\n",
    "        dfs(\"\")\n",
    "        print(res)\n",
    "cls = Solution()\n",
    "cls.permutation(\"abc\")"
   ]
  },
  {
   "cell_type": "code",
   "execution_count": null,
   "metadata": {},
   "outputs": [],
   "source": [
    "class Solution:\n",
    "    \n",
    "    def dfs(self, s, sentence, record, result):\n",
    "        if len(s) == len(sentence):\n",
    "            result.add(sentence)\n",
    "            return\n",
    "        for i in range(len(s)):\n",
    "            if not record[i]:\n",
    "                record[i] = True\n",
    "                self.dfs(s, sentence+s[i], record, result)\n",
    "                record[i] = False\n",
    "\n",
    "     \n",
    "    \n",
    "    def permutation(self, s: str) :\n",
    "        record = [False] * len(s)\n",
    "        if len(s) == 0:\n",
    "            return []\n",
    "        result = set()\n",
    "        self.dfs(s,\"\",record, result)\n",
    "        return list(result)\n",
    "        \n",
    "            \n",
    "cls = Solution()\n",
    "a = cls.permutation(\"abc\")\n",
    "a"
   ]
  },
  {
   "cell_type": "code",
   "execution_count": null,
   "metadata": {},
   "outputs": [],
   "source": []
  },
  {
   "cell_type": "code",
   "execution_count": null,
   "metadata": {},
   "outputs": [],
   "source": []
  },
  {
   "cell_type": "code",
   "execution_count": null,
   "metadata": {},
   "outputs": [],
   "source": []
  },
  {
   "cell_type": "code",
   "execution_count": null,
   "metadata": {},
   "outputs": [],
   "source": []
  },
  {
   "cell_type": "code",
   "execution_count": null,
   "metadata": {},
   "outputs": [],
   "source": []
  },
  {
   "cell_type": "code",
   "execution_count": null,
   "metadata": {},
   "outputs": [],
   "source": []
  },
  {
   "cell_type": "code",
   "execution_count": null,
   "metadata": {},
   "outputs": [],
   "source": []
  },
  {
   "cell_type": "code",
   "execution_count": null,
   "metadata": {},
   "outputs": [],
   "source": []
  },
  {
   "cell_type": "code",
   "execution_count": null,
   "metadata": {},
   "outputs": [],
   "source": []
  },
  {
   "cell_type": "code",
   "execution_count": null,
   "metadata": {},
   "outputs": [],
   "source": []
  },
  {
   "cell_type": "code",
   "execution_count": null,
   "metadata": {},
   "outputs": [],
   "source": []
  },
  {
   "cell_type": "code",
   "execution_count": null,
   "metadata": {},
   "outputs": [],
   "source": []
  },
  {
   "cell_type": "code",
   "execution_count": null,
   "metadata": {},
   "outputs": [],
   "source": []
  },
  {
   "cell_type": "code",
   "execution_count": null,
   "metadata": {},
   "outputs": [],
   "source": []
  },
  {
   "cell_type": "code",
   "execution_count": null,
   "metadata": {},
   "outputs": [],
   "source": []
  },
  {
   "cell_type": "code",
   "execution_count": null,
   "metadata": {},
   "outputs": [],
   "source": []
  },
  {
   "cell_type": "code",
   "execution_count": null,
   "metadata": {},
   "outputs": [],
   "source": []
  }
 ],
 "metadata": {
  "kernelspec": {
   "display_name": "Python 3",
   "language": "python",
   "name": "python3"
  },
  "language_info": {
   "codemirror_mode": {
    "name": "ipython",
    "version": 3
   },
   "file_extension": ".py",
   "mimetype": "text/x-python",
   "name": "python",
   "nbconvert_exporter": "python",
   "pygments_lexer": "ipython3",
   "version": "3.7.6"
  }
 },
 "nbformat": 4,
 "nbformat_minor": 4
}
