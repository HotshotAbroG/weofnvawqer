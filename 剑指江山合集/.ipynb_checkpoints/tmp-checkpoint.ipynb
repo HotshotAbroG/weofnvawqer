{
 "cells": [
  {
   "cell_type": "code",
   "execution_count": 30,
   "metadata": {},
   "outputs": [
    {
     "data": {
      "text/plain": [
       "True"
      ]
     },
     "execution_count": 30,
     "metadata": {},
     "output_type": "execute_result"
    }
   ],
   "source": [
    "class word(str):\n",
    "    def __init__(self,arg=''):\n",
    "        if isinstance(arg,str):\n",
    "            if ' 'in arg:\n",
    "                arg=arg.split()[0]\n",
    "            self.len=len(arg)\n",
    "        else:\n",
    "            print('参数错误')\n",
    "            \n",
    "    def __eq__(self,other):\n",
    "        if self.len==other.len:\n",
    "            return True\n",
    "        else:\n",
    "            return False\n",
    "w1 = word(\"sssd\")\n",
    "w2 = word(\"ssss\")\n",
    "w1 == w2\n"
   ]
  },
  {
   "cell_type": "markdown",
   "metadata": {},
   "source": [
    "# 装饰器"
   ]
  },
  {
   "cell_type": "code",
   "execution_count": 39,
   "metadata": {},
   "outputs": [
    {
     "name": "stdout",
     "output_type": "stream",
     "text": [
      "m2: start coding......\n",
      "m1\n"
     ]
    },
    {
     "data": {
      "text/plain": [
       "'[[[[[[[[*******hello world*******]]]]]]]]'"
      ]
     },
     "execution_count": 39,
     "metadata": {},
     "output_type": "execute_result"
    }
   ],
   "source": [
    "def m2(fn):  \n",
    "    def wrapped():  \n",
    "        print(\"m2: start coding......\")\n",
    "        return \"[[[[[[[[\"  + fn() + \"]]]]]]]]\"  \n",
    "    return wrapped  \n",
    "   \n",
    "def m1(fn):  \n",
    "    def wrapped():  \n",
    "        print(\"m1\")\n",
    "        return \"*******\" + fn() + \"*******\" \n",
    "    return wrapped  \n",
    "  \n",
    "@m2  \n",
    "@m1  \n",
    "def hello():  \n",
    "    return \"hello world\"  \n",
    "   \n",
    "hello() "
   ]
  },
  {
   "cell_type": "code",
   "execution_count": null,
   "metadata": {},
   "outputs": [],
   "source": []
  },
  {
   "cell_type": "code",
   "execution_count": null,
   "metadata": {},
   "outputs": [],
   "source": []
  },
  {
   "cell_type": "code",
   "execution_count": null,
   "metadata": {},
   "outputs": [],
   "source": []
  },
  {
   "cell_type": "code",
   "execution_count": null,
   "metadata": {},
   "outputs": [],
   "source": []
  }
 ],
 "metadata": {
  "kernelspec": {
   "display_name": "Python 3",
   "language": "python",
   "name": "python3"
  },
  "language_info": {
   "codemirror_mode": {
    "name": "ipython",
    "version": 3
   },
   "file_extension": ".py",
   "mimetype": "text/x-python",
   "name": "python",
   "nbconvert_exporter": "python",
   "pygments_lexer": "ipython3",
   "version": "3.7.6"
  }
 },
 "nbformat": 4,
 "nbformat_minor": 4
}
