{
 "cells": [
  {
   "cell_type": "markdown",
   "metadata": {},
   "source": [
    "# 1 在排序数组中查找数字 I\n",
    "![title](../img/129.png)"
   ]
  },
  {
   "cell_type": "code",
   "execution_count": 18,
   "metadata": {},
   "outputs": [
    {
     "data": {
      "text/plain": [
       "[1, 2]"
      ]
     },
     "execution_count": 18,
     "metadata": {},
     "output_type": "execute_result"
    }
   ],
   "source": [
    "class Solution:\n",
    "    def search(self, nums, target: int) -> int:\n",
    "        \n",
    "        def find(left, right, flag):\n",
    "            while left < right:\n",
    "                mid = (left+right)>>1\n",
    "                if (flag and nums[mid] == target) or nums[mid] > target:\n",
    "                    right = mid\n",
    "                else:\n",
    "                    left = mid + 1\n",
    "            return left\n",
    "     \n",
    "    \n",
    "        left = find(0, len(nums), True)\n",
    "        \n",
    "        if left >= len(nums) or nums[left] != target:\n",
    "            return [-1,-1]   \n",
    "        right = find(0, len(nums), False)\n",
    "        \n",
    "        return [left, right-1]\n",
    "        \n",
    "nums = [5,7,7,8,10]\n",
    "cls = Solution()\n",
    "cls.search(nums, 7)"
   ]
  },
  {
   "cell_type": "markdown",
   "metadata": {},
   "source": [
    "# 二分查找 只找一个数或者左边界"
   ]
  },
  {
   "cell_type": "code",
   "execution_count": 32,
   "metadata": {},
   "outputs": [
    {
     "data": {
      "text/plain": [
       "3"
      ]
     },
     "execution_count": 32,
     "metadata": {},
     "output_type": "execute_result"
    }
   ],
   "source": [
    "def find(nums, target):\n",
    "    left, right = 0, len(nums)\n",
    "    while left < right:\n",
    "        mid = (left + right) >> 1\n",
    "        if nums[mid] >= target:\n",
    "            right = mid\n",
    "        else:\n",
    "            left = mid + 1\n",
    "       \n",
    "    return left if nums[left] == target else -1\n",
    "nums = [5,7,7,8,10]\n",
    "res = find(nums, 8)\n",
    "res"
   ]
  },
  {
   "cell_type": "markdown",
   "metadata": {},
   "source": [
    "# 二分查找只找右边界"
   ]
  },
  {
   "cell_type": "code",
   "execution_count": 33,
   "metadata": {},
   "outputs": [
    {
     "data": {
      "text/plain": [
       "-1"
      ]
     },
     "execution_count": 33,
     "metadata": {},
     "output_type": "execute_result"
    }
   ],
   "source": [
    "def find(nums, target):\n",
    "    left, right = 0, len(nums)\n",
    "    while left < right:\n",
    "        mid = (left + right) >> 1\n",
    "        if nums[mid] > target: # 就差一个等号\n",
    "            right = mid\n",
    "        else:\n",
    "            left += 1\n",
    "    return left-1 if nums[left-1] == target else -1 \n",
    "\n",
    "nums = [5,7,7,8,10]\n",
    "res = find(nums, 8)\n",
    "res"
   ]
  },
  {
   "cell_type": "markdown",
   "metadata": {},
   "source": [
    "# 2 缺失的数字\n",
    "![title](../img/a36.png)"
   ]
  },
  {
   "cell_type": "code",
   "execution_count": 34,
   "metadata": {},
   "outputs": [
    {
     "data": {
      "text/plain": [
       "8"
      ]
     },
     "execution_count": 34,
     "metadata": {},
     "output_type": "execute_result"
    }
   ],
   "source": [
    "class Solution:\n",
    "    def search(self, nums) -> int:\n",
    "        left, right = 0, len(nums)\n",
    "        while left < right:\n",
    "            mid = (left+right)>>1\n",
    "            if nums[mid] > mid:\n",
    "                right = mid \n",
    "            else:\n",
    "                left = mid + 1\n",
    "        return left\n",
    "cls = Solution()\n",
    "nums = [0,1,2,3,4,5,6,7,9]\n",
    "cls.search(nums)"
   ]
  },
  {
   "cell_type": "code",
   "execution_count": null,
   "metadata": {},
   "outputs": [],
   "source": [
    "# 0-1-2-4-5-6\n",
    "# 0 1 2 3 4 5"
   ]
  },
  {
   "cell_type": "markdown",
   "metadata": {},
   "source": [
    "# 3 二叉搜索树的第k大节点\n",
    "![title](../img/130.png)"
   ]
  },
  {
   "cell_type": "code",
   "execution_count": 70,
   "metadata": {},
   "outputs": [
    {
     "name": "stdout",
     "output_type": "stream",
     "text": [
      "[3]\n",
      "[1, 4]\n",
      "[2, 3.5, 5]\n",
      "\n",
      "[5, 4, 3.5, 3, 2, 1]\n"
     ]
    },
    {
     "data": {
      "text/plain": [
       "5"
      ]
     },
     "execution_count": 70,
     "metadata": {},
     "output_type": "execute_result"
    }
   ],
   "source": [
    "import tree as Tree\n",
    "tree = Tree.tree\n",
    "arr = [3, 1, 4, -1014, 2, 3.5, 5]\n",
    "root = tree.build_tree(arr, 0)\n",
    "tree.bfs(root)\n",
    "print()\n",
    "class Solution:\n",
    "    def kthLargest(self, root, k: int) -> int:\n",
    "        res = []\n",
    "        def mid_over(root):\n",
    "            if not root:\n",
    "                return \n",
    "            mid_over(root.right)\n",
    "            res.append(root.val)\n",
    "            mid_over(root.left)\n",
    "        \n",
    "        mid_over(root)\n",
    "        print(res)\n",
    "        return res[k-1]\n",
    "\n",
    "\n",
    "\n",
    "cls = Solution()\n",
    "k = 1\n",
    "cls.kthLargest(root, k)"
   ]
  },
  {
   "cell_type": "code",
   "execution_count": 80,
   "metadata": {},
   "outputs": [
    {
     "data": {
      "text/plain": [
       "3.5"
      ]
     },
     "execution_count": 80,
     "metadata": {},
     "output_type": "execute_result"
    }
   ],
   "source": [
    "class Solution:\n",
    "    def kthLargest(self, root , k: int) -> int:\n",
    "        stack, cur_node = [], root\n",
    "        count = 1\n",
    "        while stack or cur_node:\n",
    "            if cur_node:\n",
    "                stack.append(cur_node)\n",
    "                cur_node = cur_node.right\n",
    "            else:\n",
    "                # 到头了\n",
    "                cur_node = stack.pop()\n",
    "                if count == k:\n",
    "                    return cur_node.val\n",
    "                count += 1\n",
    "                if cur_node:\n",
    "                    cur_node = cur_node.left\n",
    "                    \n",
    "        return -1\n",
    "cls = Solution()\n",
    "cls.kthLargest(root, 3)"
   ]
  },
  {
   "cell_type": "markdown",
   "metadata": {},
   "source": [
    "# 4 二叉树的深度  \n",
    "![title](../img/131.png)"
   ]
  },
  {
   "cell_type": "code",
   "execution_count": 88,
   "metadata": {},
   "outputs": [
    {
     "name": "stdout",
     "output_type": "stream",
     "text": [
      "[3]\n",
      "[9, 20]\n",
      "[15, 7]\n"
     ]
    },
    {
     "data": {
      "text/plain": [
       "3"
      ]
     },
     "execution_count": 88,
     "metadata": {},
     "output_type": "execute_result"
    }
   ],
   "source": [
    "import tree as Tree\n",
    "tree = Tree.tree\n",
    "arr = [3, 9, 20, -1014, -1014, 15, 7]\n",
    "root = tree.build_tree(arr, 0)\n",
    "tree.bfs(root)\n",
    "class Solution:\n",
    "    def maxDepth(self, root) -> int:\n",
    "        if not root:\n",
    "            return 0\n",
    "        depth = max(self.maxDepth(root.left), self.maxDepth(root.right)) + 1\n",
    "        return depth\n",
    "cls = Solution()\n",
    "cls.maxDepth(root)"
   ]
  },
  {
   "cell_type": "markdown",
   "metadata": {},
   "source": [
    "# 5 平衡二叉树\n",
    "![title](../img/132.png)"
   ]
  },
  {
   "cell_type": "code",
   "execution_count": 99,
   "metadata": {},
   "outputs": [
    {
     "name": "stdout",
     "output_type": "stream",
     "text": [
      "[3]\n",
      "[9, 20]\n",
      "[15, 7]\n",
      "[231]\n"
     ]
    },
    {
     "data": {
      "text/plain": [
       "False"
      ]
     },
     "execution_count": 99,
     "metadata": {},
     "output_type": "execute_result"
    }
   ],
   "source": [
    "import tree as Tree\n",
    "tree = Tree.tree\n",
    "arr = [3, 9, 20, -1014, -1014, 15, 7, -1014, -1014, -1014, -1014, 231]\n",
    "root = tree.build_tree(arr, 0)\n",
    "tree.bfs(root)\n",
    "class Solution:\n",
    "    def isBalanced(self, root) -> bool:\n",
    "        if not root:\n",
    "            return True\n",
    "        def dfs(root):\n",
    "            if not root:\n",
    "                return 0\n",
    "            left_depth = dfs(root.left)\n",
    "            right_depth = dfs(root.right)\n",
    "            self.flag = (left_depth - right_depth) <= 1\n",
    "            return max(left_depth, right_depth) + 1\n",
    "        l = dfs(root.left)\n",
    "        r = dfs(root.right)\n",
    "        return abs(l-r) <=1 and self.isBalanced(root.left) and self.isBalanced(root.right)\n",
    "    \n",
    "cls = Solution()\n",
    "cls.isBalanced(root)"
   ]
  },
  {
   "cell_type": "markdown",
   "metadata": {},
   "source": [
    "# 6 数组中数字出现的次数\n",
    "![title](../img/133.png)"
   ]
  },
  {
   "cell_type": "code",
   "execution_count": 104,
   "metadata": {},
   "outputs": [
    {
     "data": {
      "text/plain": [
       "[2, 10]"
      ]
     },
     "execution_count": 104,
     "metadata": {},
     "output_type": "execute_result"
    }
   ],
   "source": [
    "class Solution:\n",
    "    def singleNumbers(self, nums):\n",
    "        res, a, b= 0, 0, 0\n",
    "        for n in nums:\n",
    "            res ^= n\n",
    "        h = 1\n",
    "        while (res & h == 0):\n",
    "            h  = h<<1\n",
    "        for n in nums:\n",
    "            if (h & n == 0):\n",
    "                a ^= n\n",
    "            else:\n",
    "                b ^= n\n",
    "        return [a, b]\n",
    "cls = Solution()\n",
    "nums = [1,2,10,4,1,4,3,3]\n",
    "cls.singleNumbers(nums)"
   ]
  },
  {
   "cell_type": "code",
   "execution_count": null,
   "metadata": {},
   "outputs": [],
   "source": [
    "class Solution:\n",
    "    def singleNumbers(self, nums: List[int]) -> List[int]:\n",
    "        ret = 0  # 所有数字异或的结果\n",
    "        a = 0\n",
    "        b = 0\n",
    "        for n in nums:\n",
    "            ret ^= n\n",
    "        # 找到第一位不是0的\n",
    "        h = 1\n",
    "        while(ret & h == 0):\n",
    "            h <<= 1\n",
    "        for n in nums:\n",
    "            # 根据该位是否为0将其分为两组\n",
    "            if (h & n == 0):\n",
    "                a ^= n\n",
    "            else:\n",
    "                b ^= n\n",
    "\n",
    "        return [a, b]"
   ]
  },
  {
   "cell_type": "markdown",
   "metadata": {},
   "source": [
    "# 7 数组中数字出现的次数 II\n",
    "![title](../img/134.png)"
   ]
  },
  {
   "cell_type": "code",
   "execution_count": 2,
   "metadata": {},
   "outputs": [
    {
     "data": {
      "text/plain": [
       "99"
      ]
     },
     "execution_count": 2,
     "metadata": {},
     "output_type": "execute_result"
    }
   ],
   "source": [
    "class Solution:\n",
    "    def singleNumber(self, nums) -> int:\n",
    "        # sum(nums) = 3* (a + b + c) + d\n",
    "        # org = (a + b + c)*3\n",
    "\n",
    "        org = list(set(nums)) \n",
    "        res = (sum(org) * 3 - sum(nums)) >> 1\n",
    "        return res\n",
    "arr = [2,1,2,1,2,1,99]\n",
    "cls = Solution()\n",
    "cls.singleNumber(arr)"
   ]
  },
  {
   "cell_type": "markdown",
   "metadata": {},
   "source": [
    "### 更好的方法"
   ]
  },
  {
   "cell_type": "code",
   "execution_count": 4,
   "metadata": {},
   "outputs": [
    {
     "data": {
      "text/plain": [
       "99"
      ]
     },
     "execution_count": 4,
     "metadata": {},
     "output_type": "execute_result"
    }
   ],
   "source": [
    "class Solution:\n",
    "    def singleNumber(self, nums) -> int:\n",
    "        # sum(nums) = 3* (a + b + c) + d\n",
    "        # org = (a + b + c)*3\n",
    "        see_once, see_twice = 0, 0\n",
    "        for number in nums:\n",
    "            see_once = ~see_twice & (see_once ^ number)\n",
    "            see_twice = ~see_once & (see_twice ^ number)\n",
    "        return see_once\n",
    "arr = [2,1,2,1,2,1,99]\n",
    "cls = Solution()\n",
    "cls.singleNumber(arr)"
   ]
  },
  {
   "cell_type": "markdown",
   "metadata": {},
   "source": [
    "# 8. 和为s的两个数字\n",
    "![title](../img/a24.png)"
   ]
  },
  {
   "cell_type": "code",
   "execution_count": 6,
   "metadata": {},
   "outputs": [
    {
     "data": {
      "text/plain": [
       "[30, 10]"
      ]
     },
     "execution_count": 6,
     "metadata": {},
     "output_type": "execute_result"
    }
   ],
   "source": [
    "class Solution:\n",
    "    def twoSum(self, nums, target: int):\n",
    "        record = {}\n",
    "        for num in nums:\n",
    "            rest = target - num\n",
    "            if record.get(num, 0) != 0:\n",
    "                return [num, rest]\n",
    "            record[rest] = 1\n",
    "        return -1\n",
    "cls = Solution()\n",
    "nums = [10,26,30,31,47,60]\n",
    "target = 40\n",
    "cls.twoSum(nums, target)"
   ]
  },
  {
   "cell_type": "markdown",
   "metadata": {},
   "source": [
    "# 9 和为s的连续正数序列\n",
    "![title](../img/a20.png)"
   ]
  },
  {
   "cell_type": "code",
   "execution_count": 26,
   "metadata": {},
   "outputs": [
    {
     "data": {
      "text/plain": [
       "[[1, 2, 3, 4, 5], [4, 5, 6], [7, 8]]"
      ]
     },
     "execution_count": 26,
     "metadata": {},
     "output_type": "execute_result"
    }
   ],
   "source": [
    "class Solution:\n",
    "    def get_sum(self, left, right):\n",
    "        return (left + right) * (right-left+1) // 2 \n",
    "    \n",
    "    def get_list(self, left, right):\n",
    "        return list(range(left, right+1)) if right - left > 0 else []\n",
    "    \n",
    "    def findContinuousSequence(self, target: int):\n",
    "        length = target // 2 + 2\n",
    "        res = []\n",
    "        left, right = 1, 2\n",
    "        while right < length:\n",
    "            value = self.get_sum(left, right)\n",
    "            if value == target:\n",
    "                res.append(self.get_list(left, right))\n",
    "                right += 1\n",
    "            elif value < target:\n",
    "                right += 1\n",
    "            else:\n",
    "                left += 1\n",
    "        \n",
    "        return res\n",
    "        \n",
    "cls = Solution()\n",
    "cls.findContinuousSequence(15)"
   ]
  },
  {
   "cell_type": "markdown",
   "metadata": {},
   "source": [
    "# 10 翻转单词顺序\n",
    "![title](../img/135.png)"
   ]
  },
  {
   "cell_type": "code",
   "execution_count": 35,
   "metadata": {},
   "outputs": [
    {
     "data": {
      "text/plain": [
       "'example good a'"
      ]
     },
     "execution_count": 35,
     "metadata": {},
     "output_type": "execute_result"
    }
   ],
   "source": [
    "class Solution:\n",
    "    def reverseWords(self, s: str) -> str:\n",
    "        word_list = s.strip().split(\" \")\n",
    "        word_list = [word for word in word_list if word != \"\"]\n",
    "        left, right = 0, len(word_list)-1\n",
    "        while left < right:\n",
    "            word_list[left], word_list[right] = word_list[right], word_list[left]\n",
    "            left += 1\n",
    "            right -= 1\n",
    "        return \" \".join(word_list)\n",
    "cls = Solution()\n",
    "string = \"  a good   example\"\n",
    "cls.reverseWords(string)"
   ]
  },
  {
   "cell_type": "code",
   "execution_count": null,
   "metadata": {},
   "outputs": [],
   "source": []
  },
  {
   "cell_type": "code",
   "execution_count": null,
   "metadata": {},
   "outputs": [],
   "source": []
  },
  {
   "cell_type": "code",
   "execution_count": null,
   "metadata": {},
   "outputs": [],
   "source": []
  },
  {
   "cell_type": "code",
   "execution_count": null,
   "metadata": {},
   "outputs": [],
   "source": []
  },
  {
   "cell_type": "code",
   "execution_count": null,
   "metadata": {},
   "outputs": [],
   "source": []
  },
  {
   "cell_type": "code",
   "execution_count": null,
   "metadata": {},
   "outputs": [],
   "source": []
  },
  {
   "cell_type": "code",
   "execution_count": null,
   "metadata": {},
   "outputs": [],
   "source": []
  },
  {
   "cell_type": "code",
   "execution_count": null,
   "metadata": {},
   "outputs": [],
   "source": []
  }
 ],
 "metadata": {
  "kernelspec": {
   "display_name": "Python 3",
   "language": "python",
   "name": "python3"
  },
  "language_info": {
   "codemirror_mode": {
    "name": "ipython",
    "version": 3
   },
   "file_extension": ".py",
   "mimetype": "text/x-python",
   "name": "python",
   "nbconvert_exporter": "python",
   "pygments_lexer": "ipython3",
   "version": "3.7.6"
  }
 },
 "nbformat": 4,
 "nbformat_minor": 4
}
