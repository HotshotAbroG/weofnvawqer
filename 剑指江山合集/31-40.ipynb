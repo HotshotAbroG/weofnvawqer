{
 "cells": [
  {
   "cell_type": "markdown",
   "metadata": {},
   "source": [
    "# 1 面试题33. 二叉搜索树的后序遍历序列\n",
    "![title](../img/a87.png)"
   ]
  },
  {
   "cell_type": "code",
   "execution_count": 4,
   "metadata": {},
   "outputs": [
    {
     "data": {
      "text/plain": [
       "False"
      ]
     },
     "execution_count": 4,
     "metadata": {},
     "output_type": "execute_result"
    }
   ],
   "source": [
    "class Solution:\n",
    "    def verifyPostorder(self, postorder) -> bool:\n",
    "        def check(arr, start, end):\n",
    "            # 左右中\n",
    "            if end - start < 2:\n",
    "                return True\n",
    "            root_value = arr[end]\n",
    "            cur_index = start \n",
    "            while cur_index < end and arr[cur_index] <= root_value:\n",
    "                # 找到所有左子树的index\n",
    "                  # 由于是二叉搜索树，所以 左子树的所有值都小于 root——value  所以可以找到左子树的头节点\n",
    "                cur_index += 1\n",
    "            for i in range(cur_index, end):\n",
    "                if arr[i] < root_value:\n",
    "                    return False\n",
    "                \n",
    "            return check(arr, start, cur_index-1) and check(arr, cur_index, end-1) \n",
    "   \n",
    "        return check(postorder, 0, len(postorder)-1)\n",
    "cls = Solution()\n",
    "arr = [1,3,2,6,5]\n",
    "cls.verifyPostorder(arr)"
   ]
  },
  {
   "cell_type": "markdown",
   "metadata": {},
   "source": [
    "# 2  面试题34. 二叉树中和为某一值的路径\n",
    "![title](../img/a52.png)"
   ]
  },
  {
   "cell_type": "code",
   "execution_count": 73,
   "metadata": {},
   "outputs": [
    {
     "name": "stdout",
     "output_type": "stream",
     "text": [
      "[5]\n",
      "[4, 8]\n",
      "[11, 13, 4]\n",
      "[7, 2, 5, 1]\n"
     ]
    },
    {
     "data": {
      "text/plain": [
       "[[5, 4, 11, 2], [5, 8, 4, 5]]"
      ]
     },
     "execution_count": 73,
     "metadata": {},
     "output_type": "execute_result"
    }
   ],
   "source": [
    "\n",
    "import tree as Tree\n",
    "tree = Tree.tree\n",
    "arr = [5, 4, 8, 11, -1014, 13, 4, 7, 2, -1014,-1014, -1014, -1014,5, 1]\n",
    "root = tree.build_tree(arr, 0)\n",
    "tree.bfs(root)\n",
    "class Solution:\n",
    "    def pathSum(self, root, value):\n",
    "        res = []\n",
    "        if not root:\n",
    "            return \n",
    "        def dfs(root, value, sublist):\n",
    "            if not root:\n",
    "                return \n",
    "            sublist.append(root.val)\n",
    "            if root.val == value and root.left == None and root.right == None:\n",
    "                res.append(sublist.copy())\n",
    "            dfs(root.left, value-root.val, sublist)\n",
    "            dfs(root.right, value-root.val, sublist)\n",
    "            sublist.pop()\n",
    "        dfs(root, value, [])\n",
    "        return res\n",
    "        \n",
    "cls = Solution()\n",
    "cls.pathSum(root, 22)"
   ]
  },
  {
   "cell_type": "markdown",
   "metadata": {},
   "source": [
    "# 3  面试题35. 复杂链表的复制\n",
    "![title](../img/a88.png)"
   ]
  },
  {
   "cell_type": "code",
   "execution_count": 20,
   "metadata": {},
   "outputs": [],
   "source": [
    "class Solution:\n",
    "    def copyRandomList(self, head: 'Node') -> 'Node':\n",
    "        if not head:\n",
    "            return None\n",
    "        new_head = Node(head.val)       # 该 引用 负责 保存 整个copyList的头部\n",
    "        cur_node = head                 # 该 引用 负责 遍历整个 orgList\n",
    "        copy_node = new_head            # 该 引用 负责 遍历整个 copyList\n",
    "\n",
    "        # 利用字典 哈希映射表 键：原Node  值：原Node的复制\n",
    "        record = {head:new_head}  \n",
    "        \n",
    "        cur_node = cur_node.next   # 头节点 已经复制\n",
    "        # 遍历两遍\n",
    "        # 第一次 复制 next，并把复制的节点存储到 字典\n",
    "        # 第二次 复制 random\n",
    "        while cur_node:\n",
    "            # 复制当前节点\n",
    "            tmp = Node(cur_node.val)\n",
    "            record[cur_node] = tmp\n",
    "            \n",
    "            # copyList 连接\n",
    "            copy_node.next = tmp # 一开始copy_node = (head.val) 连接过程\n",
    "            \n",
    "            copy_node = copy_node.next   # 节点下移 \n",
    "            cur_node = cur_node.next  # 节点下移\n",
    "        \n",
    "        # 初始化\n",
    "        cur_node, copy_node = head, new_head\n",
    "        \n",
    "        while cur_node:\n",
    "            random_node = cur_node.random\n",
    "            # 连接过程\n",
    "            if random_node:\n",
    "                copy_node.random = record[random_node]\n",
    "            \n",
    "            cur_node = cur_node.next# 节点下移\n",
    "            copy_node = copy_node.next# 节点下移\n",
    "        return new_head"
   ]
  },
  {
   "cell_type": "markdown",
   "metadata": {},
   "source": [
    "# 4  面试题37. 序列化二叉树\n",
    "![title](../img/a57.png)"
   ]
  },
  {
   "cell_type": "code",
   "execution_count": 52,
   "metadata": {
    "scrolled": true
   },
   "outputs": [
    {
     "name": "stdout",
     "output_type": "stream",
     "text": [
      "[1]\n",
      "[2, 3]\n",
      "[4, 5]\n",
      "--------------------------------------------------------------------------------\n",
      "[1]\n",
      "[2, 3]\n",
      "[4, 5]\n"
     ]
    }
   ],
   "source": [
    "import tree as Tree\n",
    "import collections\n",
    "tree = Tree.tree\n",
    "arr = [1,2,3,-1014, -1014, 4,5]\n",
    "root = tree.build_tree(arr, 0)\n",
    "tree.bfs(root)\n",
    "class Codec:\n",
    "\n",
    "    def serialize(self, root):\n",
    "        # root----->string\n",
    "        if not root: return \"[]\"\n",
    "        queue = collections.deque()\n",
    "        queue.append(root)\n",
    "        res = []\n",
    "        while queue:\n",
    "            node = queue.popleft()\n",
    "            if node:\n",
    "                res.append(str(node.val))\n",
    "                queue.append(node.left)\n",
    "                queue.append(node.right)\n",
    "            else: res.append(\"null\")\n",
    "        return '[' + ','.join(res) + ']'\n",
    "\n",
    "    def deserialize(self, data):\n",
    "        if data == \"[]\": return\n",
    "        vals, i = data[1:-1].split(','), 1\n",
    "        root = tree(int(vals[0]))\n",
    "        queue = collections.deque()\n",
    "        queue.append(root)\n",
    "        while queue and i < len(vals):\n",
    "            node = queue.popleft()\n",
    "            if vals[i] != \"null\":\n",
    "                node.left = tree(int(vals[i]))\n",
    "                queue.append(node.left)\n",
    "            i += 1\n",
    "            if vals[i] != \"null\":\n",
    "                node.right = tree(int(vals[i]))\n",
    "                queue.append(node.right)\n",
    "            i += 1\n",
    "        return root\n",
    "\n",
    "cls = Codec()\n",
    "cls.serialize(root)\n",
    "print(\"-\"*80)\n",
    "r = cls.deserialize(\"[1,2,3,null,null,4,5]\")    \n",
    "tree.bfs(r)"
   ]
  },
  {
   "cell_type": "markdown",
   "metadata": {},
   "source": [
    "# 5 面试题38. 字符串的排列\n",
    "![title](../img/a42.png)"
   ]
  },
  {
   "cell_type": "code",
   "execution_count": 1,
   "metadata": {},
   "outputs": [
    {
     "name": "stdout",
     "output_type": "stream",
     "text": [
      "{'bca', 'acb', 'cba', 'cab', 'bac', 'abc'}\n"
     ]
    }
   ],
   "source": [
    "class Solution:\n",
    "    def permutation(self, s: str):\n",
    "        res = set()\n",
    "        record = [False] * len(s)\n",
    "        def dfs(sentence):\n",
    "            if len(sentence) == len(s):\n",
    "                res.add(sentence)\n",
    "                return \n",
    "            for i in range(len(s)):\n",
    "                if not record[i]:\n",
    "                    record[i] = True\n",
    "                    dfs(sentence+s[i])\n",
    "                    record[i] = False\n",
    "        dfs(\"\")\n",
    "        print(res)\n",
    "cls = Solution()\n",
    "cls.permutation(\"abc\")"
   ]
  },
  {
   "cell_type": "markdown",
   "metadata": {},
   "source": [
    "# 6 数组中出现次数超过一半的数字\n",
    "![title](../img/a23.png)"
   ]
  },
  {
   "cell_type": "code",
   "execution_count": 20,
   "metadata": {},
   "outputs": [
    {
     "data": {
      "text/plain": [
       "2"
      ]
     },
     "execution_count": 20,
     "metadata": {},
     "output_type": "execute_result"
    }
   ],
   "source": [
    "class Solution:\n",
    "    def majorityElement(self, nums) -> int:\n",
    "        record, length = {}, len(nums)\n",
    "        for value in nums:\n",
    "            record[value] = record.get(value, 0) + 1\n",
    "            if record.get(value, 0)*2 > length:\n",
    "                return value \n",
    "            \n",
    "        return -1\n",
    "cls = Solution()\n",
    "arr = [1, 2, 3, 2, 2, 2, 5, 4, 2]\n",
    "cls.majorityElement(arr)"
   ]
  },
  {
   "cell_type": "markdown",
   "metadata": {},
   "source": [
    "# 改进版本"
   ]
  },
  {
   "cell_type": "code",
   "execution_count": 18,
   "metadata": {},
   "outputs": [
    {
     "name": "stdout",
     "output_type": "stream",
     "text": [
      "1\n"
     ]
    },
    {
     "data": {
      "text/plain": [
       "2"
      ]
     },
     "execution_count": 18,
     "metadata": {},
     "output_type": "execute_result"
    }
   ],
   "source": [
    "class Solution:\n",
    "    def majorityElement(self, nums):\n",
    "        major_num = 0\n",
    "        count = 0\n",
    "        for value in nums:\n",
    "            if count == 0:\n",
    "                major_num = value\n",
    "            flag = 1 if major_num == value else -1\n",
    "            count += flag \n",
    "        print(count)\n",
    "        return major_num \n",
    "        \n",
    "arr = [1, 2, 3, 2, 2, 2, 5, 4, 2]\n",
    "cls = Solution()\n",
    "cls.majorityElement(arr)"
   ]
  },
  {
   "cell_type": "markdown",
   "metadata": {},
   "source": [
    "# 7 面试题40. 最小的k个数\n",
    "![title](../img/a31.png)"
   ]
  },
  {
   "cell_type": "code",
   "execution_count": 18,
   "metadata": {},
   "outputs": [
    {
     "name": "stdout",
     "output_type": "stream",
     "text": [
      "[1, 3, 4, 2, 5, 4]\n",
      "[1, 2, 3, 4, 4, 5]\n"
     ]
    },
    {
     "data": {
      "text/plain": [
       "2"
      ]
     },
     "execution_count": 18,
     "metadata": {},
     "output_type": "execute_result"
    }
   ],
   "source": [
    "class Solution:\n",
    "    \n",
    "    def partition(self, arr, left, right):\n",
    "        pivot_index = left \n",
    "        value = arr[right]\n",
    "        for i in range(left, right):\n",
    "            if value > arr[i]:\n",
    "                arr[i], arr[pivot_index] = arr[pivot_index], arr[i]\n",
    "                pivot_index += 1\n",
    "        arr[pivot_index], arr[right] = arr[right], arr[pivot_index]\n",
    "        return pivot_index\n",
    "            \n",
    "        \n",
    "    \n",
    "    def getLeastNumbers(self, arr, k: int):\n",
    "        if k > len(arr) or len(arr) == 0 or k == 0:\n",
    "            return []\n",
    "        left, right = 0, len(arr)-1\n",
    "        while left <= right:\n",
    "            pivot_index = self.partition(arr, left, right)\n",
    "            if pivot_index == k:\n",
    "                break\n",
    "            elif pivot_index > k:\n",
    "                right = pivot_index -1\n",
    "            else:\n",
    "                left = pivot_index + 1\n",
    "        return arr[k-1]\n",
    "cls = Solution()\n",
    "import random\n",
    "# arr = list(range(10))\n",
    "arr = [1,3,4, 2, 5, 4]\n",
    "tmp = sorted(arr)\n",
    "print(arr)\n",
    "print(tmp)\n",
    "k = 2\n",
    "\n",
    "cls.getLeastNumbers(arr, k)"
   ]
  },
  {
   "cell_type": "markdown",
   "metadata": {},
   "source": [
    "# 第k小"
   ]
  },
  {
   "cell_type": "code",
   "execution_count": 35,
   "metadata": {},
   "outputs": [
    {
     "name": "stdout",
     "output_type": "stream",
     "text": [
      "[0, 1, 2, 3, 4, 5, 6, 7, 8, 9]\n",
      "7 -----> 3\n",
      "2 -----> 1\n",
      "2 -----> 2\n",
      "[0, 1, 2, 3, 4, 9, 8, 5, 6, 7]\n"
     ]
    },
    {
     "data": {
      "text/plain": [
       "2"
      ]
     },
     "execution_count": 35,
     "metadata": {},
     "output_type": "execute_result"
    }
   ],
   "source": [
    "class Solution:\n",
    "    def partition(self, nums, left, right):\n",
    "        pivot_index = left\n",
    "        for i in range(left, right):\n",
    "            if nums[i] < nums[right]:\n",
    "                nums[i], nums[pivot_index] = nums[pivot_index], nums[i]\n",
    "                pivot_index += 1\n",
    "        nums[right], nums[pivot_index] = nums[pivot_index], nums[right]\n",
    "        print(nums[right],\"----->\", nums[pivot_index])\n",
    "        return pivot_index\n",
    "    \n",
    "    def getLeastNumbers(self, nums, k):\n",
    "        length = len(nums)\n",
    "        if length == 0 or k > length or k == 0:\n",
    "            return []\n",
    "        left, right = 0, len(nums)-1\n",
    "        while left <= right:\n",
    "            split_index = self.partition(nums, left, right)\n",
    "            if split_index == k:\n",
    "                break\n",
    "            elif split_index > k:\n",
    "                right = split_index -1\n",
    "            else:\n",
    "                left = split_index + 1\n",
    "        print(nums)\n",
    "        return nums[k]\n",
    "        \n",
    "cls = Solution()\n",
    "import random\n",
    "arr = list(range(10))\n",
    "random.shuffle(arr)\n",
    "k = 2\n",
    "print(sorted(arr))\n",
    "\n",
    "cls.getLeastNumbers(arr, k)"
   ]
  },
  {
   "cell_type": "markdown",
   "metadata": {},
   "source": [
    "# top 前 k 大"
   ]
  },
  {
   "cell_type": "code",
   "execution_count": 19,
   "metadata": {},
   "outputs": [
    {
     "name": "stdout",
     "output_type": "stream",
     "text": [
      "[8, 5, 9, 0, 4, 7, 6, 2, 3, 1]\n"
     ]
    },
    {
     "data": {
      "text/plain": [
       "[8, 9]"
      ]
     },
     "execution_count": 19,
     "metadata": {},
     "output_type": "execute_result"
    }
   ],
   "source": [
    "class Solution:\n",
    "    \n",
    "    def partition(self, nums, left, right):\n",
    "        pivot_index = left\n",
    "        for i in range(left, right):\n",
    "            if nums[i] > nums[right]:\n",
    "                nums[i], nums[pivot_index] = nums[pivot_index], nums[i]\n",
    "                pivot_index += 1\n",
    "        nums[right], nums[pivot_index] = nums[pivot_index], nums[right]\n",
    "        return pivot_index\n",
    "    \n",
    "    def getLeastNumbers(self, nums, k):\n",
    "        length = len(nums)\n",
    "        if length == 0 or k > length or k == 0:\n",
    "            return []\n",
    "        left, right = 0, len(nums)-1\n",
    "        while left <= right:\n",
    "            split_index = self.partition(nums, left, right)\n",
    "            if split_index == k:\n",
    "                break\n",
    "            elif split_index > k:\n",
    "                right = split_index -1\n",
    "            else:\n",
    "                left = split_index + 1\n",
    "        return nums[:k]\n",
    "        \n",
    "cls = Solution()\n",
    "import random\n",
    "arr = list(range(10))\n",
    "random.shuffle(arr)\n",
    "k = 2\n",
    "print(arr)\n",
    "\n",
    "cls.getLeastNumbers(arr, k)"
   ]
  },
  {
   "cell_type": "markdown",
   "metadata": {},
   "source": [
    "# 第 k 大"
   ]
  },
  {
   "cell_type": "code",
   "execution_count": 29,
   "metadata": {},
   "outputs": [
    {
     "name": "stdout",
     "output_type": "stream",
     "text": [
      "[8, 9, 1, 3, 5, 2, 4, 0, 6, 7]\n"
     ]
    },
    {
     "data": {
      "text/plain": [
       "8"
      ]
     },
     "execution_count": 29,
     "metadata": {},
     "output_type": "execute_result"
    }
   ],
   "source": [
    "class Solution:\n",
    "    def partition(self, nums, left, right):\n",
    "        pivot_index = left\n",
    "        for i in range(left, right):\n",
    "            if nums[i] < nums[right]:\n",
    "                nums[i], nums[pivot_index] = nums[pivot_index], nums[i]\n",
    "                pivot_index += 1\n",
    "        nums[right], nums[pivot_index] = nums[pivot_index], nums[right]\n",
    "        return pivot_index\n",
    "    \n",
    "    def getLeastNumbers(self, nums, k):\n",
    "        length = len(nums)\n",
    "        if length == 0 or k > length or k == 0:\n",
    "            return []\n",
    "        left, right, k = 0, len(nums)-1, len(nums) - k\n",
    "        while left <= right:\n",
    "            split_index = self.partition(nums, left, right)\n",
    "            if split_index == k:\n",
    "                break\n",
    "            elif split_index > k:\n",
    "                right = split_index -1\n",
    "            else:\n",
    "                left = split_index + 1\n",
    "        return nums[k]\n",
    "        \n",
    "cls = Solution()\n",
    "import random\n",
    "arr = list(range(10))\n",
    "random.shuffle(arr)\n",
    "k = 2\n",
    "print(arr)\n",
    "\n",
    "cls.getLeastNumbers(arr, k)"
   ]
  },
  {
   "cell_type": "markdown",
   "metadata": {},
   "source": [
    "# 8 数据流的中位数\n",
    "![title](../img/125.png)"
   ]
  },
  {
   "cell_type": "code",
   "execution_count": 132,
   "metadata": {},
   "outputs": [
    {
     "name": "stdout",
     "output_type": "stream",
     "text": [
      "[1, 2, 3, 4, 5, 6, 7, 8, 9, 10]\n",
      "5.5\n"
     ]
    }
   ],
   "source": [
    "import heapq\n",
    "class MedianFinder:\n",
    "\n",
    "    def __init__(self):\n",
    "        \"\"\"\n",
    "        initialize your data structure here.\n",
    "        \"\"\"\n",
    "        # arr 一份为二  [ 小 | 大]\n",
    "        self.small = [] # 放大的一部分，找最小值\n",
    "        self.big = []  # 放小的一部分，找最大值，加-号\n",
    "\n",
    "        \n",
    "\n",
    "    def addNum(self, num: int) -> None:\n",
    "            # 偶数时添加\n",
    "            # 偶数时，优先添加 小堆， 对另一个堆 先放入再弹出\n",
    "        if len(self.big) == len(self.small):\n",
    "            heapq.heappush(self.small, -heapq.heappushpop(self.big, -num))\n",
    "        else:\n",
    "            heapq.heappush(self.big, -heapq.heappushpop(self.small, num))\n",
    "                    \n",
    "\n",
    "\n",
    "\n",
    "    def findMedian(self) -> float:\n",
    "        if len(self.big) == len(self.small):\n",
    "            return (-self.big[0] + self.small[0])/2\n",
    "        else:\n",
    "            return self.small[0]\n",
    "\n",
    "k = 11\n",
    "print(list(range(1,k)))\n",
    "cls = MedianFinder()\n",
    "for i in range(1, k):\n",
    "    cls.addNum(i)\n",
    "print(cls.findMedian())"
   ]
  },
  {
   "cell_type": "markdown",
   "metadata": {},
   "source": [
    "# 9 x 的平方根\n",
    "![title](../img/126.png)"
   ]
  },
  {
   "cell_type": "code",
   "execution_count": 138,
   "metadata": {},
   "outputs": [
    {
     "data": {
      "text/plain": [
       "2"
      ]
     },
     "execution_count": 138,
     "metadata": {},
     "output_type": "execute_result"
    }
   ],
   "source": [
    "class Solution:\n",
    "    def mySqrt(self, x: int) -> int:\n",
    "        if x < 2:\n",
    "            return x\n",
    "        length = x >> 1\n",
    "        left ,right = 1, length\n",
    "        while left <= right:\n",
    "            mid = (left + right) >> 1\n",
    "            value = mid**2\n",
    "            if value == x:\n",
    "                return mid\n",
    "            elif value > x:\n",
    "                right = mid - 1\n",
    "            else:\n",
    "                left = mid + 1\n",
    "        return right\n",
    "cls = Solution()\n",
    "cls.mySqrt(8)"
   ]
  },
  {
   "cell_type": "markdown",
   "metadata": {},
   "source": [
    "# 10 连续子数组的最大和  \n",
    "![title](../img/a27.png)"
   ]
  },
  {
   "cell_type": "code",
   "execution_count": 145,
   "metadata": {},
   "outputs": [
    {
     "data": {
      "text/plain": [
       "6"
      ]
     },
     "execution_count": 145,
     "metadata": {},
     "output_type": "execute_result"
    }
   ],
   "source": [
    "class Solution:\n",
    "    def maxSubArray(self, arr):\n",
    "        res = float(\"-inf\")\n",
    "        dp = [float(\"-inf\") for _ in range(len(arr))]\n",
    "\n",
    "        dp[0] = arr[0]\n",
    "        for i in range(1, len(arr)):\n",
    "            dp[i] = max(dp[i-1] + arr[i], arr[i])\n",
    "            res = max(res, dp[i])\n",
    "        return res\n",
    "\n",
    "cls = Solution()\n",
    "nums = [1, 3, -1, -2, -3, 9, 1]\n",
    "nums1 = [-2,1,-3,4,-1,2,1,-5,4]\n",
    "cls.maxSubArray(nums1)"
   ]
  },
  {
   "cell_type": "code",
   "execution_count": null,
   "metadata": {},
   "outputs": [],
   "source": []
  },
  {
   "cell_type": "code",
   "execution_count": null,
   "metadata": {},
   "outputs": [],
   "source": []
  },
  {
   "cell_type": "code",
   "execution_count": null,
   "metadata": {},
   "outputs": [],
   "source": []
  },
  {
   "cell_type": "code",
   "execution_count": null,
   "metadata": {},
   "outputs": [],
   "source": []
  },
  {
   "cell_type": "code",
   "execution_count": null,
   "metadata": {},
   "outputs": [],
   "source": []
  },
  {
   "cell_type": "code",
   "execution_count": null,
   "metadata": {},
   "outputs": [],
   "source": []
  },
  {
   "cell_type": "markdown",
   "metadata": {},
   "source": [
    "# 反转字符串"
   ]
  },
  {
   "cell_type": "code",
   "execution_count": 15,
   "metadata": {},
   "outputs": [
    {
     "data": {
      "text/plain": [
       "'aedca'"
      ]
     },
     "execution_count": 15,
     "metadata": {},
     "output_type": "execute_result"
    }
   ],
   "source": [
    "string = \"acdea\"\n",
    "string = list(string)\n",
    "left, right = 0, len(string)-1\n",
    "while left < right:\n",
    "    string[left], string[right] = string[right], string[left]\n",
    "    left, right = left + 1, right - 1\n",
    "\"\".join(string)"
   ]
  },
  {
   "cell_type": "code",
   "execution_count": null,
   "metadata": {},
   "outputs": [],
   "source": []
  },
  {
   "cell_type": "code",
   "execution_count": 23,
   "metadata": {},
   "outputs": [
    {
     "name": "stdout",
     "output_type": "stream",
     "text": [
      "['a', 'c', 'd']\n"
     ]
    },
    {
     "data": {
      "text/plain": [
       "'dca'"
      ]
     },
     "execution_count": 23,
     "metadata": {},
     "output_type": "execute_result"
    }
   ],
   "source": [
    "string = \"accccda\"\n",
    "res = []\n",
    "record = {}\n",
    "for char in string:\n",
    "    if record.get(char, 0) != 0:\n",
    "        continue\n",
    "    record[char] = record.get(char, 0) + 1\n",
    "    res.append(char)\n",
    "print(res)\n",
    "left, right = 0, len(res) - 1\n",
    "while left < right:\n",
    "    res[left], res[right] = res[right], res[left]\n",
    "    left += 1\n",
    "    right -= 1\n",
    "\"\".join(res)"
   ]
  },
  {
   "cell_type": "code",
   "execution_count": null,
   "metadata": {},
   "outputs": [],
   "source": []
  },
  {
   "cell_type": "code",
   "execution_count": null,
   "metadata": {},
   "outputs": [],
   "source": []
  },
  {
   "cell_type": "code",
   "execution_count": null,
   "metadata": {},
   "outputs": [],
   "source": []
  },
  {
   "cell_type": "code",
   "execution_count": null,
   "metadata": {},
   "outputs": [],
   "source": []
  },
  {
   "cell_type": "code",
   "execution_count": null,
   "metadata": {},
   "outputs": [],
   "source": []
  },
  {
   "cell_type": "code",
   "execution_count": null,
   "metadata": {},
   "outputs": [],
   "source": []
  },
  {
   "cell_type": "code",
   "execution_count": null,
   "metadata": {},
   "outputs": [],
   "source": []
  },
  {
   "cell_type": "code",
   "execution_count": null,
   "metadata": {},
   "outputs": [],
   "source": []
  },
  {
   "cell_type": "code",
   "execution_count": null,
   "metadata": {},
   "outputs": [],
   "source": []
  },
  {
   "cell_type": "code",
   "execution_count": null,
   "metadata": {},
   "outputs": [],
   "source": []
  }
 ],
 "metadata": {
  "kernelspec": {
   "display_name": "Python 3",
   "language": "python",
   "name": "python3"
  },
  "language_info": {
   "codemirror_mode": {
    "name": "ipython",
    "version": 3
   },
   "file_extension": ".py",
   "mimetype": "text/x-python",
   "name": "python",
   "nbconvert_exporter": "python",
   "pygments_lexer": "ipython3",
   "version": "3.7.6"
  }
 },
 "nbformat": 4,
 "nbformat_minor": 4
}
