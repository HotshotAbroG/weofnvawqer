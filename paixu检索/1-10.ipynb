{
 "cells": [
  {
   "cell_type": "markdown",
   "metadata": {},
   "source": [
    "# 1、 最大数\n",
    "给定一组非负整数，重新排列它们的顺序使之组成一个最大的整数。\n",
    "\n",
    "示例 1:\n",
    "\n",
    "输入: [10,2]\n",
    "输出: 210\n",
    "示例 2:\n",
    "\n",
    "输入: [3,30,34,5,9]\n",
    "输出: 9534330\n"
   ]
  },
  {
   "cell_type": "code",
   "execution_count": 21,
   "metadata": {},
   "outputs": [
    {
     "data": {
      "text/plain": [
       "'9534330'"
      ]
     },
     "execution_count": 21,
     "metadata": {},
     "output_type": "execute_result"
    }
   ],
   "source": [
    "class new_sort(str):\n",
    "    def __lt__(x, y):\n",
    "        \n",
    "        # 303 < 330\n",
    "        return x + y > y + x\n",
    "    \n",
    "    \n",
    "def largestNumber(nums):\n",
    "    str_num = map(str, nums)\n",
    "    str_num = sorted(str_num, key = new_sort)\n",
    "\n",
    "    largest_num = ''.join(str_num)\n",
    "    \n",
    "    return '0' if largest_num[0] == '0' else largest_num\n",
    "    \n",
    "nums = [3,30,34,5,9]    \n",
    "largestNumber(nums)\n"
   ]
  },
  {
   "cell_type": "markdown",
   "metadata": {},
   "source": [
    "# 2 摆动排序\n",
    "给定一个无序的数组 nums，将它重新排列成 nums[0] < nums[1] > nums[2] < nums[3]... 的顺序。\n",
    "\n",
    "示例 1:\n",
    "\n",
    "输入: nums = [1, 5, 1, 1, 6, 4]\n",
    "\n",
    "\n",
    "输出: 一个可能的答案是 [1, 4, 1, 5, 1, 6]\n"
   ]
  },
  {
   "cell_type": "code",
   "execution_count": 40,
   "metadata": {},
   "outputs": [
    {
     "name": "stdout",
     "output_type": "stream",
     "text": [
      "[1, 6, 1, 5, 1, 4]\n"
     ]
    }
   ],
   "source": [
    "nums = [1, 5, 1, 1, 6, 4]\n",
    "def get_answer(nums):\n",
    "    \n",
    "    # 不可以用sorted 因为 sorted会产生新排序list，而list.sort不会\n",
    "    \n",
    "    nums.sort(reverse = True)\n",
    "    mid = len(nums) >> 1\n",
    "    \n",
    "    nums[1::2], nums[0::2] = nums[:mid], nums[mid:]\n",
    "    \n",
    "    \n",
    "get_answer(nums)\n",
    "print(nums)\n"
   ]
  },
  {
   "cell_type": "markdown",
   "metadata": {},
   "source": [
    "# 3. 寻找峰值\n",
    "\n",
    "输入: nums = [1,2,1,3,5,6,4]\n",
    "\n",
    "输出: 1 或 5 \n",
    "\n",
    "解释: 你的函数可以返回索引 1，其峰值元素为 2；\n",
    "     或者返回索引 5， 其峰值元素为 6。"
   ]
  },
  {
   "cell_type": "code",
   "execution_count": 51,
   "metadata": {},
   "outputs": [
    {
     "data": {
      "text/plain": [
       "0"
      ]
     },
     "execution_count": 51,
     "metadata": {},
     "output_type": "execute_result"
    }
   ],
   "source": [
    "nums = [2,1]\n",
    "def get_answer(nums):\n",
    "    res = []\n",
    "    length = len(nums) \n",
    "  \n",
    "    \n",
    "    for i in range(1, length - 1):\n",
    "        if nums[i] > nums[i - 1] and nums[i] > nums[i + 1]:\n",
    "            return i\n",
    "    \n",
    "    if nums[0] > nums[1]:\n",
    "        return 0\n",
    "    elif nums[-1] > nums[-2]:\n",
    "        return len(nums) - 1\n",
    "    else:\n",
    "        return 0\n",
    "    \n",
    "get_answer(nums)"
   ]
  },
  {
   "cell_type": "markdown",
   "metadata": {},
   "source": [
    "# 更快解法"
   ]
  },
  {
   "cell_type": "code",
   "execution_count": 53,
   "metadata": {},
   "outputs": [
    {
     "data": {
      "text/plain": [
       "5"
      ]
     },
     "execution_count": 53,
     "metadata": {},
     "output_type": "execute_result"
    }
   ],
   "source": [
    "nums = [2,1]\n",
    "nums = [1,2,1,3,5,6,4]\n",
    "def get_answer(nums):\n",
    "    left, right = 0, len(nums) - 1\n",
    "    while left < right:\n",
    "        mid = (left + right) >> 1\n",
    "        if nums[mid] > nums[mid + 1]:\n",
    "            right = mid\n",
    "        else:\n",
    "            left = mid + 1\n",
    "        \n",
    "    return right\n",
    "        \n",
    "    \n",
    "get_answer(nums)"
   ]
  },
  {
   "cell_type": "markdown",
   "metadata": {},
   "source": [
    "# 4.寻找重复数\n",
    "给定一个包含 n + 1 个整数的数组 nums，其数字都在 1 到 n 之间（包括 1 和 n），可知至少存在一个重复的整数。假设只有一个重复的整数，找出这个重复的数。\n",
    "\n",
    "示例 1:\n",
    "\n",
    "输入: [1,3,4,2,2]\n",
    "输出: 2\n",
    "\n",
    "示例 2:\n",
    "\n",
    "输入: [3,1,3,4,2]\n",
    "输出: 3\n",
    "\n",
    "说明：\n",
    "\n",
    "不能更改原数组（假设数组是只读的）。\n",
    "只能使用额外的 O(1) 的空间。\n",
    "时间复杂度小于 O(n2) 。\n",
    "数组中只有一个重复的数字，但它可能不止重复出现一次。\n"
   ]
  },
  {
   "cell_type": "code",
   "execution_count": 72,
   "metadata": {},
   "outputs": [
    {
     "name": "stdout",
     "output_type": "stream",
     "text": [
      "slow:  3 ----> 4\n",
      "slow:  4 ----> 3\n",
      "slow:  2 ----> 2\n"
     ]
    },
    {
     "data": {
      "text/plain": [
       "3"
      ]
     },
     "execution_count": 72,
     "metadata": {},
     "output_type": "execute_result"
    }
   ],
   "source": [
    "\n",
    "def findDuplicate(nums) -> int:\n",
    "        slow=0\n",
    "        fast=0\n",
    "        \n",
    "        # 找环形\n",
    "        while(1):\n",
    "            slow=nums[slow]\n",
    "            fast=nums[nums[fast]]\n",
    "            print(\"slow: \", slow, \"---->\", fast)\n",
    "            if(slow==fast):\n",
    "                break\n",
    "        find=0\n",
    "        while(1):\n",
    "            find=nums[find]\n",
    "            slow=nums[slow]\n",
    "            if(find==slow):\n",
    "                return find\n",
    "arr = [3, 1, 3, 4, 2]\n",
    "findDuplicate(arr)\n"
   ]
  },
  {
   "cell_type": "code",
   "execution_count": 80,
   "metadata": {},
   "outputs": [
    {
     "name": "stdout",
     "output_type": "stream",
     "text": [
      "1 4\n",
      "3 4\n"
     ]
    },
    {
     "data": {
      "text/plain": [
       "3"
      ]
     },
     "execution_count": 80,
     "metadata": {},
     "output_type": "execute_result"
    }
   ],
   "source": [
    "arr = [3,1,3,4,2]\n",
    "def get_answer(nums):\n",
    "        size = len(nums)\n",
    "        left = 1\n",
    "        right = size - 1\n",
    "\n",
    "        while left < right:\n",
    "            print(left, right)\n",
    "            mid = (left + right) >> 1\n",
    "            cnt = 0\n",
    "            for num in nums:\n",
    "                if num <= mid:\n",
    "                    cnt += 1\n",
    "            # 根据抽屉原理，小于等于 4 的数的个数如果严格大于 4 个，\n",
    "            # 此时重复元素一定出现在 [1, 4] 区间里\n",
    "\n",
    "            if cnt > mid:\n",
    "                # 重复的元素一定出现在 [left, mid] 区间里\n",
    "                right = mid\n",
    "            else:\n",
    "                # if 分析正确了以后，else 搜索的区间就是 if 的反面\n",
    "                # [mid + 1, right]\n",
    "                left = mid + 1\n",
    "                \n",
    "        return left\n",
    "\n",
    "\n",
    "get_answer(arr)\n",
    "        "
   ]
  },
  {
   "cell_type": "markdown",
   "metadata": {},
   "source": [
    "# 5 缺失的数字\n",
    "\n",
    "给定一个包含 0, 1, 2, ..., n 中 n 个数的序列，找出 0 .. n 中没有出现在序列中的那个数。\n",
    "\n",
    "示例 1:\n",
    "\n",
    "输入: [3,0,1]\n",
    "输出: 2\n",
    "\n",
    "\n",
    "示例 2:\n",
    "\n",
    "输入: [9,6,4,2,3,5,7,0,1]\n",
    "输出: \n",
    "\n"
   ]
  },
  {
   "cell_type": "code",
   "execution_count": 86,
   "metadata": {},
   "outputs": [
    {
     "data": {
      "text/plain": [
       "3"
      ]
     },
     "execution_count": 86,
     "metadata": {},
     "output_type": "execute_result"
    }
   ],
   "source": [
    "arr = [2,0,1]\n",
    "def get_answer(arr):\n",
    "    length = len(arr) + 1\n",
    "    total = int ((length-1) * length / 2)\n",
    "    return total - sum(arr)\n",
    "    \n",
    "get_answer(arr)"
   ]
  },
  {
   "cell_type": "markdown",
   "metadata": {},
   "source": [
    "# 6 计算右侧小于当前元素的个数\n",
    "\n",
    "输入: [5,2,6,1]\n",
    "\n",
    "输出: [2,1,1,0] \n",
    "\n",
    "解释:\n",
    "\n",
    "5 的右侧有 2 个更小的元素 (2 和 1).\n",
    "\n",
    "2 的右侧仅有 1 个更小的元素 (1).\n",
    "\n",
    "6 的右侧有 1 个更小的元素 (1).\n",
    "\n",
    "1 的右侧有 0 个更小的元素."
   ]
  },
  {
   "cell_type": "code",
   "execution_count": null,
   "metadata": {},
   "outputs": [],
   "source": []
  },
  {
   "cell_type": "code",
   "execution_count": null,
   "metadata": {},
   "outputs": [],
   "source": []
  },
  {
   "cell_type": "code",
   "execution_count": null,
   "metadata": {},
   "outputs": [],
   "source": []
  },
  {
   "cell_type": "code",
   "execution_count": null,
   "metadata": {},
   "outputs": [],
   "source": []
  },
  {
   "cell_type": "code",
   "execution_count": null,
   "metadata": {},
   "outputs": [],
   "source": []
  },
  {
   "cell_type": "code",
   "execution_count": null,
   "metadata": {},
   "outputs": [],
   "source": []
  },
  {
   "cell_type": "code",
   "execution_count": null,
   "metadata": {},
   "outputs": [],
   "source": []
  },
  {
   "cell_type": "code",
   "execution_count": null,
   "metadata": {},
   "outputs": [],
   "source": []
  },
  {
   "cell_type": "code",
   "execution_count": null,
   "metadata": {},
   "outputs": [],
   "source": []
  },
  {
   "cell_type": "code",
   "execution_count": null,
   "metadata": {},
   "outputs": [],
   "source": []
  },
  {
   "cell_type": "code",
   "execution_count": null,
   "metadata": {},
   "outputs": [],
   "source": []
  },
  {
   "cell_type": "code",
   "execution_count": null,
   "metadata": {},
   "outputs": [],
   "source": []
  },
  {
   "cell_type": "code",
   "execution_count": null,
   "metadata": {},
   "outputs": [],
   "source": []
  },
  {
   "cell_type": "code",
   "execution_count": null,
   "metadata": {},
   "outputs": [],
   "source": []
  },
  {
   "cell_type": "code",
   "execution_count": null,
   "metadata": {},
   "outputs": [],
   "source": []
  },
  {
   "cell_type": "code",
   "execution_count": null,
   "metadata": {},
   "outputs": [],
   "source": []
  },
  {
   "cell_type": "code",
   "execution_count": null,
   "metadata": {},
   "outputs": [],
   "source": []
  },
  {
   "cell_type": "code",
   "execution_count": null,
   "metadata": {},
   "outputs": [],
   "source": []
  },
  {
   "cell_type": "code",
   "execution_count": null,
   "metadata": {},
   "outputs": [],
   "source": []
  }
 ],
 "metadata": {
  "kernelspec": {
   "display_name": "Python 3",
   "language": "python",
   "name": "python3"
  },
  "language_info": {
   "codemirror_mode": {
    "name": "ipython",
    "version": 3
   },
   "file_extension": ".py",
   "mimetype": "text/x-python",
   "name": "python",
   "nbconvert_exporter": "python",
   "pygments_lexer": "ipython3",
   "version": "3.7.3"
  }
 },
 "nbformat": 4,
 "nbformat_minor": 4
}
