{
 "cells": [
  {
   "cell_type": "markdown",
   "metadata": {},
   "source": [
    "# 1. 钥匙和房间\n",
    "\n",
    "![title](../img/109.png)"
   ]
  },
  {
   "cell_type": "code",
   "execution_count": 8,
   "metadata": {},
   "outputs": [
    {
     "data": {
      "text/plain": [
       "True"
      ]
     },
     "execution_count": 8,
     "metadata": {},
     "output_type": "execute_result"
    }
   ],
   "source": [
    "class Solution:\n",
    "    def canVisitAllRooms(self, rooms) -> bool:\n",
    "        room_numbers = len(rooms)\n",
    "        have_visited = [False] * (room_numbers)\n",
    "        count = 0 \n",
    "        def dfs(number):\n",
    "            nonlocal count\n",
    "            if not have_visited[number]:\n",
    "                count += 1\n",
    "                have_visited[number] = True\n",
    "            else:\n",
    "                return \n",
    "            cur_keys = rooms[number]\n",
    "            for dst_number in cur_keys:\n",
    "                dfs(dst_number)\n",
    "        dfs(0)\n",
    "        return count == room_numbers\n",
    "cls = Solution()\n",
    "r1 = [[1],[2],[3],[]]\n",
    "r2 = [[1,3],[3,0,1],[2],[0]]\n",
    "cls.canVisitAllRooms(r1)"
   ]
  },
  {
   "cell_type": "markdown",
   "metadata": {},
   "source": [
    "# 2. 最小成本链接城市\n",
    "![title](../img/110.png)\n",
    "![title](../img/111.png)"
   ]
  },
  {
   "cell_type": "markdown",
   "metadata": {},
   "source": [
    "# 思路：题目考查的是最小生成树的权，如果不能形成最小生成树的话，那么返回-1。\n",
    "\n",
    "1. 先把边按权重排序\n",
    "2. 从小到大，选择每一个边，如果加上这个边，不构成环路，则保留\n",
    "3. 写好如何判断环路的codeing\n",
    "4. 要写一个判断从一个点出发，最后哪里的函数"
   ]
  },
  {
   "cell_type": "code",
   "execution_count": 4,
   "metadata": {},
   "outputs": [
    {
     "data": {
      "text/plain": [
       "3"
      ]
     },
     "execution_count": 4,
     "metadata": {},
     "output_type": "execute_result"
    }
   ],
   "source": [
    "class Solution():\n",
    "    def find(self, parent, i):\n",
    "        while i != parent[i]:\n",
    "            i = parent[i]\n",
    "        return i\n",
    "\n",
    "    def minimumCost(self, N: int, connections) -> int:  \n",
    "        parent = [i for i in range(N)]\n",
    "        connections.sort(key=lambda x : x[2])\n",
    "        res, find_route, current_index = 0, 0, 0\n",
    "        while find_route < N-1:\n",
    "            x, y, weight = connections[current_index]\n",
    "            src, dst = self.find(parent,x-1), self.find(parent, y-1)\n",
    "            if src != dst:\n",
    "                res += weight\n",
    "                find_route += 1\n",
    "                parent[src] = dst\n",
    "            current_index += 1\n",
    "        return res\n",
    "            \n",
    "\n",
    "            \n",
    "test = [[1,2,3],[3,4,4]]\n",
    "#       [src, dst, weight]\n",
    "test1 = [[1,2,5],[1,3,2], [2,3,1]]\n",
    "\n",
    "cls = Solution()\n",
    "cls.minimumCost(3, test1)        "
   ]
  },
  {
   "cell_type": "code",
   "execution_count": null,
   "metadata": {},
   "outputs": [],
   "source": []
  },
  {
   "cell_type": "code",
   "execution_count": 1,
   "metadata": {},
   "outputs": [
    {
     "name": "stdout",
     "output_type": "stream",
     "text": [
      "[[2, 3, 1], [1, 3, 2], [1, 2, 5]]\n",
      "0\n",
      "1\n"
     ]
    },
    {
     "data": {
      "text/plain": [
       "3"
      ]
     },
     "execution_count": 1,
     "metadata": {},
     "output_type": "execute_result"
    }
   ],
   "source": [
    "class Solution():\n",
    "    def find(self, parent, i):\n",
    "        \n",
    "        while i != parent[i]:\n",
    "            i = parent[i]\n",
    "        return i\n",
    "    def minimumCost(self, N: int, connections) -> int:  \n",
    "        if N -1 > len(connections):\n",
    "            return -1\n",
    "        parent = [i for i in range(N)]\n",
    "        connections.sort(key=lambda a : a[2]) # 把所有的边 按权值从小到大排序\n",
    "        print(connections)\n",
    "        res, find_route, cur_idnex = 0, 0, 0\n",
    "        while find_route < N-1:\n",
    "           \n",
    "            src, dst, weight = connections[cur_idnex]\n",
    "            cur_idnex += 1\n",
    "            x, y = self.find(parent, src-1), self.find(parent, dst-1)\n",
    "            if x != y:\n",
    "                print(res)\n",
    "                res += weight\n",
    "                find_route += 1\n",
    "                parent[x] = y\n",
    "            \n",
    "        return res\n",
    "test = [[1,2,3],[3,4,4]]\n",
    "test1 = [[1,2,5],[1,3,2], [2,3,1]]\n",
    "\n",
    "cls = Solution()\n",
    "cls.minimumCost(3, test1)        "
   ]
  },
  {
   "cell_type": "code",
   "execution_count": 2,
   "metadata": {},
   "outputs": [
    {
     "name": "stdout",
     "output_type": "stream",
     "text": [
      "[[2, 3, 1], [1, 3, 2], [1, 2, 5]]\n",
      "[0, 1, 2]\n",
      "[0, 2, 2]\n",
      "[2, 2, 2]\n"
     ]
    },
    {
     "data": {
      "text/plain": [
       "3"
      ]
     },
     "execution_count": 2,
     "metadata": {},
     "output_type": "execute_result"
    }
   ],
   "source": [
    "class Solution:\n",
    "    def find(self, parent, x):\n",
    "        while x != parent[x]:\n",
    "            x = parent[x]  # 找到目标点\n",
    "        return x\n",
    "    \n",
    "    def minimumCost(self, N: int, connections) -> int:  \n",
    "        if len(connections) < N - 1:\n",
    "            return -1\n",
    "        connections.sort(key=lambda a : a[2]) # 把所有的边 按权值从小到大排序\n",
    "        parent = [i for i in range(N)]  # 默认 src:index, dst:nums[index]\n",
    "        print(connections)\n",
    "        res, current_route_number, index = 0, 0, 0 # current_route_number 当前找了几条边（连接途径）\n",
    "        while current_route_number < N - 1:\n",
    "            print(parent)\n",
    "            src, dst, weight = connections[index]\n",
    "            index += 1\n",
    "            # -----------------------判断是否有环--------------------------------------\n",
    "            x, y = self.find(parent, src-1), self.find(parent, dst-1)\n",
    "            # x: src最终能通往那里\n",
    "            # y: dst 最终能到达哪里\n",
    "            if x != y:\n",
    "                # 没有构成环路\n",
    "                current_route_number += 1 # 找到路径+1\n",
    "                res += weight            # 总权值 更新\n",
    "                parent[x] = y       # parent[src] = dst parent是个dict{} ， index=src, parent[index] = dst,代表src可以到哪里\n",
    "            #-------------------------------------------------------\n",
    "        print(parent)\n",
    "        return res\n",
    "    \n",
    "test = [[1,2,3],[3,4,4]]\n",
    "test1 = [[1,2,5],[1,3,2], [2,3,1]]\n",
    "\n",
    "cls = Solution()\n",
    "cls.minimumCost(3, test1)"
   ]
  },
  {
   "cell_type": "code",
   "execution_count": null,
   "metadata": {},
   "outputs": [],
   "source": []
  },
  {
   "cell_type": "code",
   "execution_count": null,
   "metadata": {},
   "outputs": [],
   "source": []
  },
  {
   "cell_type": "code",
   "execution_count": null,
   "metadata": {},
   "outputs": [],
   "source": []
  },
  {
   "cell_type": "code",
   "execution_count": null,
   "metadata": {},
   "outputs": [],
   "source": []
  },
  {
   "cell_type": "code",
   "execution_count": null,
   "metadata": {},
   "outputs": [],
   "source": []
  },
  {
   "cell_type": "code",
   "execution_count": null,
   "metadata": {},
   "outputs": [],
   "source": []
  },
  {
   "cell_type": "code",
   "execution_count": null,
   "metadata": {},
   "outputs": [],
   "source": []
  },
  {
   "cell_type": "code",
   "execution_count": null,
   "metadata": {},
   "outputs": [],
   "source": []
  },
  {
   "cell_type": "code",
   "execution_count": null,
   "metadata": {},
   "outputs": [],
   "source": []
  },
  {
   "cell_type": "code",
   "execution_count": null,
   "metadata": {},
   "outputs": [],
   "source": []
  },
  {
   "cell_type": "code",
   "execution_count": null,
   "metadata": {},
   "outputs": [],
   "source": []
  }
 ],
 "metadata": {
  "kernelspec": {
   "display_name": "Python 3",
   "language": "python",
   "name": "python3"
  },
  "language_info": {
   "codemirror_mode": {
    "name": "ipython",
    "version": 3
   },
   "file_extension": ".py",
   "mimetype": "text/x-python",
   "name": "python",
   "nbconvert_exporter": "python",
   "pygments_lexer": "ipython3",
   "version": "3.7.6"
  }
 },
 "nbformat": 4,
 "nbformat_minor": 4
}
