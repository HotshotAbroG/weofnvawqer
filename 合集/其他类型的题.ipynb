{
 "cells": [
  {
   "cell_type": "markdown",
   "metadata": {},
   "source": [
    "# 2 给定两个-100到100的整数x和y,对\n",
    "\n",
    "# x只能加1,减1,乘2操作,问最少对x进行几次操作能得y"
   ]
  },
  {
   "cell_type": "code",
   "execution_count": 1,
   "metadata": {},
   "outputs": [
    {
     "name": "stdout",
     "output_type": "stream",
     "text": [
      "5\n"
     ]
    },
    {
     "data": {
      "text/plain": [
       "2"
      ]
     },
     "execution_count": 1,
     "metadata": {},
     "output_type": "execute_result"
    }
   ],
   "source": [
    "def minOp(x, y):\n",
    "    record = [0 for i in range(10000)]\n",
    "    que = []\n",
    "    que.append(x)\n",
    "    count = 0 \n",
    "    record[x] = 1\n",
    "    while len(que) > 0:\n",
    "        count += 1\n",
    "        tmp = que.pop(0)\n",
    "        if tmp == y:\n",
    "            print(count)\n",
    "            return record[y] - 1\n",
    "        \n",
    "        # 执行 x2\n",
    "        if tmp * 2 <= y and record[tmp*2] == 0:\n",
    "            que.append(tmp*2)\n",
    "            record[tmp*2] = record[tmp] + 1\n",
    "        \n",
    "        # 执行 +1 操作\n",
    "        if tmp + 1 <= y and record[tmp+1] == 0:\n",
    "            que.append(tmp+1)\n",
    "            record[tmp+1] = record[tmp] + 1\n",
    "            \n",
    "        # 执行 -1操作\n",
    "        if tmp - 1 >= 0 and record[tmp-1] == 0:\n",
    "            que.append(tmp-1)\n",
    "            record[tmp-1] = record[tmp] + 1\n",
    "        \n",
    "\n",
    "    \n",
    "    return 0\n",
    "        \n",
    "    \n",
    "minOp(30, 120)"
   ]
  },
  {
   "cell_type": "code",
   "execution_count": 4,
   "metadata": {},
   "outputs": [],
   "source": [
    "import queue\n",
    "q = queue.Queue()\n",
    "q.put(1)\n",
    "q.put(2)\n",
    "q.put(3)\n"
   ]
  },
  {
   "cell_type": "code",
   "execution_count": null,
   "metadata": {},
   "outputs": [],
   "source": [
    "q.get()\n",
    "q.qsize()"
   ]
  },
  {
   "cell_type": "code",
   "execution_count": null,
   "metadata": {},
   "outputs": [],
   "source": []
  },
  {
   "cell_type": "code",
   "execution_count": null,
   "metadata": {},
   "outputs": [],
   "source": []
  },
  {
   "cell_type": "code",
   "execution_count": null,
   "metadata": {},
   "outputs": [],
   "source": []
  },
  {
   "cell_type": "code",
   "execution_count": null,
   "metadata": {},
   "outputs": [],
   "source": []
  }
 ],
 "metadata": {
  "kernelspec": {
   "display_name": "Python 3",
   "language": "python",
   "name": "python3"
  },
  "language_info": {
   "codemirror_mode": {
    "name": "ipython",
    "version": 3
   },
   "file_extension": ".py",
   "mimetype": "text/x-python",
   "name": "python",
   "nbconvert_exporter": "python",
   "pygments_lexer": "ipython3",
   "version": "3.7.6"
  }
 },
 "nbformat": 4,
 "nbformat_minor": 4
}
