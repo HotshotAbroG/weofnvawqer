{
 "cells": [
  {
   "cell_type": "markdown",
   "metadata": {},
   "source": [
    "# 0-1 背包\n",
    "![title](./25.png)"
   ]
  },
  {
   "cell_type": "code",
   "execution_count": 1,
   "metadata": {},
   "outputs": [
    {
     "data": {
      "text/plain": [
       "900"
      ]
     },
     "execution_count": 1,
     "metadata": {},
     "output_type": "execute_result"
    }
   ],
   "source": [
    "class Solution():\n",
    "    def find(self, w, n, weight_list, value_list):\n",
    "        # w: 总称重量\n",
    "        # n: 一共可以装多少\n",
    "        dp = [[0]* (w+1) for i in range(n+1)]\n",
    "        for i in range(1,n+1):\n",
    "            cur_weight = weight_list[i-1]\n",
    "            cur_value = value_list[i-1]\n",
    "            for j in range(1, w+1):\n",
    "                if j >= cur_weight:\n",
    "                    dp[i][j] = max(dp[i-1][j], dp[i-1][j-cur_weight] + cur_value)\n",
    "                else:\n",
    "                    dp[i][j] = dp[i-1][j]\n",
    "        \n",
    "        return dp[-1][-1]\n",
    "        \n",
    "weight_list = [5,5,3,4,3]\n",
    "value_list = [400,500,200,300,350]\n",
    "cls = Solution()\n",
    "cls.find(10, 5, weight_list, value_list)"
   ]
  },
  {
   "cell_type": "markdown",
   "metadata": {},
   "source": [
    "### 在动态规划中，如果前 i 件物品的状态仅与前 i-1 件物品的状态有关\n",
    "\n",
    "### 那么就可以进行空间优化\n",
    "\n",
    "### 经过多次实验发现，0-1背包优化空间，则双重循环的时候，第二个循环要倒序循环\n",
    "由于我们求f[ i ][ v ] 的时候需要用到的是f[ i-1 ][ v] 和 f[ i-1 ][v - w[i] ] 于是可以知道，只要我们在求f[ v ]时不覆盖f[ v - w[i] ]，那么就可以不断递推至所求答案"
   ]
  },
  {
   "cell_type": "code",
   "execution_count": 10,
   "metadata": {},
   "outputs": [
    {
     "data": {
      "text/plain": [
       "[0, 0, 0, 350, 350, 500, 550, 650, 850, 850, 900]"
      ]
     },
     "execution_count": 10,
     "metadata": {},
     "output_type": "execute_result"
    }
   ],
   "source": [
    "class Solution():\n",
    "    def find(self, w, n, weight_list, value_list):\n",
    "        # w: 总称重量\n",
    "        # n: 一共可以装多少\n",
    "        dp = [0] * (w+1)\n",
    "        for i in range(n):\n",
    "            weight, value = weight_list[i], value_list[i]\n",
    "            for j in range(w, -1, -1):\n",
    "                \n",
    "                if j >= weight:\n",
    "                    dp[j] = max(dp[j], dp[j - weight] + value)\n",
    "        return dp\n",
    "    \n",
    "weight_list = [5,5,3,4,3]\n",
    "value_list = [400,500,200,300,350]\n",
    "cls = Solution()\n",
    "cls.find(10, 5, weight_list, value_list)"
   ]
  },
  {
   "cell_type": "markdown",
   "metadata": {},
   "source": [
    "# 进阶背包问题\n",
    "![title](./32.png)"
   ]
  },
  {
   "cell_type": "code",
   "execution_count": 117,
   "metadata": {},
   "outputs": [
    {
     "data": {
      "text/plain": [
       "170"
      ]
     },
     "execution_count": 117,
     "metadata": {},
     "output_type": "execute_result"
    }
   ],
   "source": [
    "class Solution():\n",
    "    def find(self, n, m, cost_list, value_list, number):\n",
    "        f = [0] * (m+1)\n",
    "        for i in range(n):\n",
    "            for j in range(m, -1, -1):\n",
    "                for k in range(number[i] + 1):\n",
    "                    f[j] = max(f[j], f[j-k*weight_list[i]] + value_list[i])\n",
    "        \n",
    "        return f[-1]\n",
    "    \n",
    "cost_list = [80, 40 ,30 ,40 ,20]\n",
    "value_list = [20,50,50,30,20]\n",
    "number = [4,9,7,6,1]\n",
    "n = 5     # 商品种类\n",
    "m = 1000  # 金额\n",
    "cls = Solution()\n",
    "cls.find(n, m, cost_list, value_list, number)"
   ]
  },
  {
   "cell_type": "markdown",
   "metadata": {},
   "source": [
    "# 2. 分割等和子集\n",
    "![title](./26.png)\n",
    "        # sum(arr1) + sum(arr2) = sum(nums) 且 sum(arr1) = sum(arr2)\n",
    "        # sum(arr1) = sum(nums)/2"
   ]
  },
  {
   "cell_type": "code",
   "execution_count": null,
   "metadata": {},
   "outputs": [],
   "source": []
  },
  {
   "cell_type": "code",
   "execution_count": 21,
   "metadata": {},
   "outputs": [
    {
     "name": "stdout",
     "output_type": "stream",
     "text": [
      "[True, True, False, False, True, True, True, True, True, True, True, True]\n"
     ]
    },
    {
     "data": {
      "text/plain": [
       "True"
      ]
     },
     "execution_count": 21,
     "metadata": {},
     "output_type": "execute_result"
    }
   ],
   "source": [
    "class Solution:\n",
    "    def canPartition(self, nums) -> bool:\n",
    "        length = len(nums)\n",
    "        if length < 2:\n",
    "            return False\n",
    "\n",
    "        total = sum(nums)\n",
    "        if total %2 == 1:\n",
    "            return False\n",
    "        total = total//2\n",
    "        # dp[i] 该数组中的元素任取0.1.2.。。n-1个能否构成 sum/2\n",
    "        dp = [False for _ in range(total+1)]\n",
    "        \n",
    "        if nums[0] <= total:\n",
    "            dp[0] = True\n",
    "        # dp[i] 前i个元素，可否构成  sum/2 \n",
    "        for i in nums:\n",
    "            for j in range(total, i-1, -1):\n",
    "                dp[j] = dp[j] or dp[j-i]\n",
    "        print(dp)\n",
    "        return dp[-1]\n",
    "cls = Solution()\n",
    "nums = [1,5,5,4,7]\n",
    "cls.canPartition(nums)"
   ]
  },
  {
   "cell_type": "markdown",
   "metadata": {},
   "source": [
    "# 2.1 分割数组\n",
    "![title](./27.png)"
   ]
  },
  {
   "cell_type": "code",
   "execution_count": null,
   "metadata": {},
   "outputs": [],
   "source": []
  },
  {
   "cell_type": "code",
   "execution_count": 40,
   "metadata": {},
   "outputs": [
    {
     "data": {
      "text/plain": [
       "[0, 1, 3, 3, 4, 12, 124, 235]"
      ]
     },
     "execution_count": 40,
     "metadata": {},
     "output_type": "execute_result"
    }
   ],
   "source": []
  },
  {
   "cell_type": "code",
   "execution_count": 38,
   "metadata": {},
   "outputs": [
    {
     "data": {
      "text/plain": [
       "[1, 0]"
      ]
     },
     "execution_count": 38,
     "metadata": {},
     "output_type": "execute_result"
    }
   ],
   "source": []
  },
  {
   "cell_type": "code",
   "execution_count": 107,
   "metadata": {},
   "outputs": [
    {
     "name": "stdout",
     "output_type": "stream",
     "text": [
      "[1, 1, 1, 1, 6, 12]\n",
      "[0, 0, 0, 0, 6, 12]\n"
     ]
    },
    {
     "data": {
      "text/plain": [
       "4"
      ]
     },
     "execution_count": 107,
     "metadata": {},
     "output_type": "execute_result"
    }
   ],
   "source": [
    "class Solution:\n",
    "    def partitionDisjoint(self, A) -> int:\n",
    "        length = len(A)\n",
    "        max_left = [None]* (length)\n",
    "        min_right = [None] * (length)\n",
    "        max_left[0] = A[0]\n",
    "        for i in range(1, length):\n",
    "            max_left[i] = max(max_left[i-1], A[i])\n",
    "            \n",
    "        min_right[-1] = A[-1]\n",
    "        for i in range(length-2, -1, -1):\n",
    "            min_right[i] = min(min_right[i+1], A[i])\n",
    "            \n",
    "        print(max_left)\n",
    "        print(min_right)\n",
    "        for i in range(1, len(A)):\n",
    "            if max_left[i-1] <= min_right[i]:\n",
    "                return i\n",
    "        return -1\n",
    "\n",
    "        \n",
    "        \n",
    "cls = Solution()\n",
    "arr = [1,1,1,0,6,12]\n",
    "cls.partitionDisjoint(arr)"
   ]
  },
  {
   "cell_type": "markdown",
   "metadata": {},
   "source": [
    "# 3 加油站问题\n",
    "\n",
    "n 表示 加满油后可以跑 n 公里\n",
    "\n",
    "k表示 中途有k个加油站\n",
    "\n",
    "第二行，有k+1 个整数，表示第k 个加油站与第k-1 个加油站之间的距离。\n",
    "\n",
    "第0 个加油站表示出发地，汽车已加满油。第k+1 个加油站表示目的地。\n",
    "\n",
    "\n",
    "# 将编程计算出的最少加油次数输出\n",
    "\n",
    "\n",
    "\n",
    "input      \n",
    "\n",
    "n = 7, k = 7                     \n",
    "\n",
    "1 2 3 4 5 1 6 6\n",
    "\n",
    "output\n",
    "\n",
    "4"
   ]
  },
  {
   "cell_type": "code",
   "execution_count": 34,
   "metadata": {},
   "outputs": [
    {
     "data": {
      "text/plain": [
       "4"
      ]
     },
     "execution_count": 34,
     "metadata": {},
     "output_type": "execute_result"
    }
   ],
   "source": [
    "class Solution():\n",
    "    def find(self, num, n, k):\n",
    "        t, drive_distance = 0, n\n",
    "        for i in range(k+1):\n",
    "            \n",
    "            if num[i] > n:\n",
    "                # n:  加满油能跑的距离\n",
    "                # num[i] : 两个加油站之间的距离\n",
    "                return -1\n",
    "            else:\n",
    "                # nums[i] <= n\n",
    "                if num[i] > drive_distance:\n",
    "                    # 目前的油量，跑不到下一个加油站\n",
    "                    drive_distance = n - num[i]             \n",
    "                    t += 1 # 加一次油\n",
    "                else:\n",
    "                    # 目前的油量，可以跑到下一个加油站\n",
    "                    drive_distance = drive_distance - num[i]\n",
    "        return t\n",
    "                \n",
    "        \n",
    "n, k = 7, 7\n",
    "num = [1,2,3,4,5,1,6,5]\n",
    "cls = Solution()\n",
    "cls.find(num, n, k)"
   ]
  },
  {
   "cell_type": "markdown",
   "metadata": {},
   "source": [
    "# 4 目标和\n",
    "![title](./28.png)"
   ]
  },
  {
   "cell_type": "markdown",
   "metadata": {},
   "source": [
    "\n",
    "\n",
    "# 我们用 dp[i][j] 表示用数组中的前 i 个元素，组成和为 j 的方案数。\n",
    "\n",
    "考虑第 i 个数 nums[i]，它可以被添加 + 或 -，因此状态转移方程如下：\n",
    "\n",
    "dp[i][j] = dp[i - 1][j - nums[i]] + dp[i - 1][j + nums[i]]\n"
   ]
  },
  {
   "cell_type": "markdown",
   "metadata": {},
   "source": [
    "# class Solution:\n",
    "    def findTargetSumWays(self, nums, S: int) -> int:\n",
    "        #   将nums分成两组数字： a+b = sum(nums)\n",
    "        # a - b = S\n",
    "        # a+b +a -b = S + sum  -----> 2 * a = (S+sum(num))------> a = (S+sum(num))/2\n",
    "        \n",
    "# 则只需要 统计 <正数>里 组成 (S+sum(num))/2的个数"
   ]
  },
  {
   "cell_type": "code",
   "execution_count": null,
   "metadata": {},
   "outputs": [],
   "source": []
  },
  {
   "cell_type": "code",
   "execution_count": 216,
   "metadata": {},
   "outputs": [
    {
     "name": "stdout",
     "output_type": "stream",
     "text": [
      "[1, 1, 0, 0, 0]\n",
      "[1, 2, 1, 0, 0]\n",
      "[1, 3, 3, 1, 0]\n",
      "[1, 4, 6, 4, 1]\n",
      "[1, 5, 10, 10, 5]\n"
     ]
    },
    {
     "data": {
      "text/plain": [
       "5"
      ]
     },
     "execution_count": 216,
     "metadata": {},
     "output_type": "execute_result"
    }
   ],
   "source": [
    "class Solution:\n",
    "    def findTargetSumWays(self, nums, s: int) -> int:\n",
    "        length = sum(nums)\n",
    "        if length < s or (length+s)%2 != 0  :\n",
    "            return 0 \n",
    "        if len(nums) == 1:\n",
    "            return int(nums[0] ==abs(s))\n",
    "        \n",
    "        W = int((length + s)/2)\n",
    "        dp = [0] *(W+1)\n",
    "        # 假设 w = 4\n",
    "        dp[0] = 1 \n",
    "        # 而这是个 0-1背包问题\n",
    "        for i in nums:\n",
    "            for j in range(W,i-1,-1):\n",
    "                dp[j] += dp[j - i]\n",
    "            print(dp)\n",
    "        return dp[W]\n",
    "cls = Solution()\n",
    "arr = [1,1,1,1,1]\n",
    "cls.findTargetSumWays(arr, 3)"
   ]
  },
  {
   "cell_type": "markdown",
   "metadata": {},
   "source": [
    "# 5.  01 字符构成最多的字符串\n",
    "![title](./29.png)"
   ]
  },
  {
   "cell_type": "code",
   "execution_count": 207,
   "metadata": {},
   "outputs": [
    {
     "data": {
      "text/plain": [
       "2"
      ]
     },
     "execution_count": 207,
     "metadata": {},
     "output_type": "execute_result"
    }
   ],
   "source": [
    "class Solution:\n",
    "    def findMaxForm(self, strs, m: int, n: int) -> int:\n",
    "        dp = [[0] * (n+1) for i in range(m+1)]\n",
    "        for string in strs:\n",
    "            count_0, count_1 = string.count(\"0\"), string.count(\"1\")\n",
    "            for zero in range(m, count_0-1, -1):\n",
    "                for one in range(n, count_1-1, -1):\n",
    "                    # 对 拥有的 0 和 1 的限制体现在 数组的维度上\n",
    "                    # 三个循环 对应 三个维度，但是为了优化空间少了一个维度，所以要倒着循环\n",
    "                    dp[zero][one] = max(1 + dp[zero - count_0][one - count_1], dp[zero][one])\n",
    "\n",
    "        return dp[-1][-1]\n",
    "            \n",
    "cls = Solution()\n",
    "arr = [\"10\", \"0\", \"1\"]\n",
    "cls.findMaxForm(arr, 2, 1)"
   ]
  },
  {
   "cell_type": "code",
   "execution_count": 142,
   "metadata": {},
   "outputs": [
    {
     "data": {
      "text/plain": [
       "[0, 1, 1, 2, 2, 1, 2, 2, 3, 3, 2, 3]"
      ]
     },
     "execution_count": 142,
     "metadata": {},
     "output_type": "execute_result"
    }
   ],
   "source": [
    "def find(coins, amount):\n",
    "    dp = [float(\"inf\") for i in range(amount+1)]\n",
    "    dp[0] = 0 # dp[i]  组成金额i所需要的最小个数\n",
    "    for i in coins:\n",
    "        for j in range(i, amount+1):\n",
    "            dp[j] = min(dp[j], dp[j-i]+1)\n",
    "    return dp\n",
    "find([1,2,5],11)"
   ]
  },
  {
   "cell_type": "code",
   "execution_count": null,
   "metadata": {},
   "outputs": [],
   "source": []
  },
  {
   "cell_type": "markdown",
   "metadata": {},
   "source": [
    "# 6.零钱兑换\n",
    "![title](./30.png)"
   ]
  },
  {
   "cell_type": "code",
   "execution_count": 143,
   "metadata": {},
   "outputs": [
    {
     "name": "stdout",
     "output_type": "stream",
     "text": [
      "[0, 1, 1, 2, 2, 1, 2, 2, 3, 3, 2, 3]\n"
     ]
    },
    {
     "data": {
      "text/plain": [
       "3"
      ]
     },
     "execution_count": 143,
     "metadata": {},
     "output_type": "execute_result"
    }
   ],
   "source": [
    "class Solution:\n",
    "    def coinChange(self, coins, amount: int) -> int:\n",
    "        dp = [float(\"inf\") for i in range(amount+1)]\n",
    "        dp[0] = 0\n",
    "        for i in coins:\n",
    "            for j in range(i, amount+1):\n",
    "                dp[j] = min(dp[j], dp[j-i]+1)\n",
    "        return dp[-1] if dp[-1] != float(\"inf\") else -1\n",
    "                \n",
    "cls = Solution()\n",
    "arr = [1, 2, 5]\n",
    "cls.coinChange(arr, 11)                "
   ]
  },
  {
   "cell_type": "markdown",
   "metadata": {},
   "source": [
    "# 7.零钱兑换II\n",
    "![title](./31.png)"
   ]
  },
  {
   "cell_type": "code",
   "execution_count": 215,
   "metadata": {},
   "outputs": [
    {
     "data": {
      "text/plain": [
       "4"
      ]
     },
     "execution_count": 215,
     "metadata": {},
     "output_type": "execute_result"
    }
   ],
   "source": [
    "class Solution:\n",
    "    def change(self, amount: int, coins) -> int:\n",
    "        dp = [0] * (amount + 1)\n",
    "        dp[0] = 1\n",
    "        for coin in coins:\n",
    "            for x in range(coin, amount + 1):\n",
    "                # coins: 3, 2, 5\n",
    "                # 先统计 一边用 3 组成 所有 amount 的数量\n",
    "                dp[x] += dp[x - coin]\n",
    "        return dp[-1]\n",
    "\n",
    "arr = [1, 2, 5]\n",
    "cls = Solution()\n",
    "cls.change(5, arr)"
   ]
  },
  {
   "cell_type": "markdown",
   "metadata": {},
   "source": [
    "# 有代价的爬楼梯\n",
    "![title](./33.png)"
   ]
  },
  {
   "cell_type": "code",
   "execution_count": 155,
   "metadata": {},
   "outputs": [
    {
     "data": {
      "text/plain": [
       "6"
      ]
     },
     "execution_count": 155,
     "metadata": {},
     "output_type": "execute_result"
    }
   ],
   "source": [
    "class Solution:\n",
    "    def minCostClimbingStairs(self, cost) -> int:\n",
    "        # n----> n-1 + cost[i] or n-2 + cost[i-1]\n",
    "        dp0, dp1 = 0, min(cost[0], cost[1]) # 1-2层， 第三层\n",
    "        #        1，  1，1 100， 1，1， 100， 1\n",
    "        # dp0   dp1\n",
    "        for i in range(2, len(cost)):\n",
    "            # dp1： 处于第三层\n",
    "            # dp0: 处于第二层\n",
    "            minvalue = min(cost[i] + dp1, cost[i-1] + dp0)\n",
    "            dp0, dp1 = dp1, minvalue\n",
    "        return dp1\n",
    "        \n",
    "\n",
    "cost = [1, 100, 1, 1, 1, 100, 1, 1, 100, 1]\n",
    "cls = Solution()\n",
    "cls.minCostClimbingStairs(cost)"
   ]
  },
  {
   "cell_type": "markdown",
   "metadata": {},
   "source": [
    "# 单词拆分\n",
    "![title](./34.png)"
   ]
  },
  {
   "cell_type": "code",
   "execution_count": 175,
   "metadata": {},
   "outputs": [
    {
     "name": "stdout",
     "output_type": "stream",
     "text": [
      "[True, True, False, False, True, False, False, False, True]\n"
     ]
    },
    {
     "data": {
      "text/plain": [
       "True"
      ]
     },
     "execution_count": 175,
     "metadata": {},
     "output_type": "execute_result"
    }
   ],
   "source": [
    "class Solution:\n",
    "    def wordBreak(self, s: str, wordDict) -> bool:\n",
    "        dp = [False] * (len(s)+1)\n",
    "        dp[0] = True\n",
    "        # dp[i]: 长度为i的string，可否被拆分\n",
    "        for i in range(1, len(s)+1):\n",
    "            for word in wordDict:\n",
    "                length = len(word)\n",
    "                if length <= i and word == s[i-length: i]:\n",
    "                    \n",
    "                    dp[i] = dp[i] or dp[i - length]\n",
    "                \n",
    "        print(dp)\n",
    "        return dp[-1]\n",
    "cls = Solution()\n",
    "s = \"codeleet\"\n",
    "wordDict = [\"leet\", \"ode\", \"c\"]\n",
    "cls.wordBreak(s, wordDict)"
   ]
  },
  {
   "cell_type": "markdown",
   "metadata": {},
   "source": [
    "# 4.1 组合总和 Ⅳ\n",
    "![title](./35.png)\n"
   ]
  },
  {
   "cell_type": "code",
   "execution_count": 224,
   "metadata": {},
   "outputs": [
    {
     "name": "stdout",
     "output_type": "stream",
     "text": [
      "[1, 0, 0, 0]\n",
      "[1, 1, 0, 0]\n",
      "[1, 1, 2, 0]\n",
      "[1, 1, 2, 3]\n"
     ]
    },
    {
     "data": {
      "text/plain": [
       "3"
      ]
     },
     "execution_count": 224,
     "metadata": {},
     "output_type": "execute_result"
    }
   ],
   "source": [
    "class Solution:\n",
    "    def combinationSum4(self, nums, target: int) -> int:\n",
    "        if not nums:\n",
    "            return 0\n",
    "        dp = [0] * (target+1)\n",
    "        dp[0] = 1\n",
    "        print(dp)\n",
    "        for i in range(1,target+1):\n",
    "            for num in nums:\n",
    "                if i >= num:\n",
    "                    dp[i] += dp[i-num]\n",
    "            print(dp)\n",
    "        return dp[target]\n",
    "\n",
    "    \n",
    "cls = Solution()\n",
    "nums = [1,2,3]\n",
    "cls.combinationSum4(nums, 4)"
   ]
  },
  {
   "cell_type": "code",
   "execution_count": null,
   "metadata": {},
   "outputs": [],
   "source": []
  },
  {
   "cell_type": "code",
   "execution_count": null,
   "metadata": {},
   "outputs": [],
   "source": []
  },
  {
   "cell_type": "code",
   "execution_count": null,
   "metadata": {},
   "outputs": [],
   "source": []
  },
  {
   "cell_type": "code",
   "execution_count": null,
   "metadata": {},
   "outputs": [],
   "source": []
  },
  {
   "cell_type": "code",
   "execution_count": null,
   "metadata": {},
   "outputs": [],
   "source": []
  }
 ],
 "metadata": {
  "kernelspec": {
   "display_name": "Python 3",
   "language": "python",
   "name": "python3"
  },
  "language_info": {
   "codemirror_mode": {
    "name": "ipython",
    "version": 3
   },
   "file_extension": ".py",
   "mimetype": "text/x-python",
   "name": "python",
   "nbconvert_exporter": "python",
   "pygments_lexer": "ipython3",
   "version": "3.7.6"
  }
 },
 "nbformat": 4,
 "nbformat_minor": 4
}
