{
 "cells": [
  {
   "cell_type": "markdown",
   "metadata": {},
   "source": [
    "# 1 最长回文串\n",
    "![title](./37.png)"
   ]
  },
  {
   "cell_type": "code",
   "execution_count": 89,
   "metadata": {},
   "outputs": [
    {
     "data": {
      "text/plain": [
       "3"
      ]
     },
     "execution_count": 89,
     "metadata": {},
     "output_type": "execute_result"
    }
   ],
   "source": [
    "class Solution:\n",
    "    def longestPalindrome(self, s: str) -> int:\n",
    "        record = {}\n",
    "        for i in s:\n",
    "            record[i] = record.get(i, 0) + 1\n",
    "        res = 0\n",
    "        for i in record:\n",
    "            value = record[i]\n",
    "            res += value// 2 * 2\n",
    "            if value%2 == 1 and res %2 ==0:\n",
    "                res += 1\n",
    "        return res\n",
    "cls = Solution()\n",
    "s = \"abccccdd\"\n",
    "s = \"badmm\"\n",
    "cls.longestPalindrome(s)"
   ]
  },
  {
   "cell_type": "markdown",
   "metadata": {},
   "source": [
    "# 2 验证回文串\n",
    "![title](./38.png)"
   ]
  },
  {
   "cell_type": "code",
   "execution_count": 19,
   "metadata": {},
   "outputs": [
    {
     "data": {
      "text/plain": [
       "True"
      ]
     },
     "execution_count": 19,
     "metadata": {},
     "output_type": "execute_result"
    }
   ],
   "source": [
    "class Solution:\n",
    "    def isPalindrome(self, string: str) -> bool:\n",
    "        temp = ''.join(filter(str.isalnum,string)).lower()\n",
    "        head,tail= 0,len(temp)-1\n",
    "        while head<tail:\n",
    "            if temp[head] == temp[tail]:\n",
    "                head += 1\n",
    "                tail -= 1\n",
    "            else:\n",
    "                return False\n",
    "        return True   \n",
    "cls = Solution()\n",
    "string = \"A man, a plan, a canal: Panama\"\n",
    "cls.isPalindrome(string)"
   ]
  },
  {
   "cell_type": "markdown",
   "metadata": {},
   "source": [
    "# 2-1 验证回文串II\n",
    "![title](./41.png)"
   ]
  },
  {
   "cell_type": "code",
   "execution_count": 59,
   "metadata": {},
   "outputs": [
    {
     "data": {
      "text/plain": [
       "True"
      ]
     },
     "execution_count": 59,
     "metadata": {},
     "output_type": "execute_result"
    }
   ],
   "source": [
    "class Solution:\n",
    "    def validPalindrome(self, s: str) -> bool:\n",
    "        left, right = 0, len(s)-1\n",
    "        while left < right:\n",
    "            if s[left] != s[right]:\n",
    "                return self.judge(s, left, right-1) or self.judge(s, left+1, right)\n",
    "            else:\n",
    "                left, right = left+1, right-1\n",
    "        return True\n",
    "    def judge(self, string, left, right):\n",
    "        while left < right:\n",
    "            if string[left] != string[right]:\n",
    "                return False\n",
    "            left, right = left+1, right-1\n",
    "        return True\n",
    "cls = Solution()\n",
    "cls.validPalindrome(\"abca\")"
   ]
  },
  {
   "cell_type": "markdown",
   "metadata": {},
   "source": [
    "# 3  查找回文子串 [动态规划】\n",
    "![title](./39.png)"
   ]
  },
  {
   "cell_type": "code",
   "execution_count": 97,
   "metadata": {},
   "outputs": [
    {
     "name": "stdout",
     "output_type": "stream",
     "text": [
      "[True, True, True]\n",
      "[False, True, True]\n",
      "[False, False, True]\n"
     ]
    },
    {
     "data": {
      "text/plain": [
       "6"
      ]
     },
     "execution_count": 97,
     "metadata": {},
     "output_type": "execute_result"
    }
   ],
   "source": [
    "class Solution(object):\n",
    "    def countSubstrings(self, s):\n",
    "        \"\"\"\n",
    "        :type s: str\n",
    "        :rtype: int\n",
    "        \"\"\"\n",
    "        length = len(s)\n",
    "        if not s or length <1:\n",
    "            return 0\n",
    "        dp = [ [False for i in range(length)] for j in range(length)]\n",
    "        dp[0][0] = True\n",
    "        res = 0\n",
    "        for start in range(length-1, -1, -1):\n",
    "            dp[start][start] = True\n",
    "            for end in range(start+1, length):\n",
    "                if s[start] == s[end] and (end - start <=2 or dp[start+1][end-1]):\n",
    "                    dp[start][end] = True\n",
    "                    res += 1\n",
    "        for i in dp:\n",
    "            print(i)\n",
    "        return res+length\n",
    "\n",
    "cls = Solution()\n",
    "cls.countSubstrings(\"aaa\")\n",
    "        "
   ]
  },
  {
   "cell_type": "markdown",
   "metadata": {},
   "source": [
    "# 3.1 找到最长回文子串  [动态规划]\n",
    "![title](../img/a63.png)"
   ]
  },
  {
   "cell_type": "code",
   "execution_count": 98,
   "metadata": {},
   "outputs": [
    {
     "data": {
      "text/plain": [
       "'m'"
      ]
     },
     "execution_count": 98,
     "metadata": {},
     "output_type": "execute_result"
    }
   ],
   "source": [
    "# 倒序\n",
    "class Solution:\n",
    "    def longestPalindrome(self, s: str) -> str:\n",
    "        length = len(s)\n",
    "        if length < 2:\n",
    "            return length\n",
    "        dp = [[False for _ in range(length)] for j in range(length)]\n",
    "        \"\"\"\n",
    "          0 0 0\n",
    "          0 0 0\n",
    "          0 0 0\n",
    "        \"\"\"\n",
    "        max_length, begin = 1, 0\n",
    "        for end in range(length):\n",
    "            for start in range(end+1):\n",
    "                if s[start] == s[end] and (end - start <=2 or dp[start+1][end-1]):\n",
    "                    dp[start][end] = True\n",
    "                if dp[start][end] and max_length < (end - start + 1):\n",
    "                    max_length = (end - start + 1)\n",
    "                    begin = start\n",
    "        return s[begin: begin+max_length]\n",
    "    \n",
    "cls = Solution()\n",
    "s = \"mbadm\"\n",
    "cls.longestPalindrome(s)"
   ]
  },
  {
   "cell_type": "code",
   "execution_count": 74,
   "metadata": {},
   "outputs": [
    {
     "data": {
      "text/plain": [
       "'aa'"
      ]
     },
     "execution_count": 74,
     "metadata": {},
     "output_type": "execute_result"
    }
   ],
   "source": [
    "# 正序循环\n",
    "class Solution:\n",
    "    def longestPalindrome(self, s: str) -> str:\n",
    "        length = len(s)\n",
    "        if length < 2:\n",
    "            return s\n",
    "        dp = [[False for _ in range(length)] for j in range(length)]\n",
    "        \"\"\"\n",
    "          0 0 0\n",
    "          0 0 0\n",
    "          0 0 0\n",
    "        \"\"\"\n",
    "        max_length, begin = 1, 0\n",
    "        for start in range(length-1, -1, -1):\n",
    "            dp[start][start] = True\n",
    "            for end in range(start+1, length):\n",
    "                if s[start] == s[end] and (end - start <=2 or dp[start+1][end-1]):\n",
    "                    dp[start][end] = True\n",
    "                if dp[start][end] and max_length < (end - start + 1):\n",
    "                    max_length = (end - start + 1)\n",
    "                    begin = start\n",
    "        return s[begin: begin+max_length]\n",
    "cls = Solution()\n",
    "cls.longestPalindrome(\"aac\")"
   ]
  },
  {
   "cell_type": "markdown",
   "metadata": {},
   "source": [
    "# 3.2 回文子序列\n",
    "![title](../img/a62.png)"
   ]
  },
  {
   "cell_type": "code",
   "execution_count": 100,
   "metadata": {},
   "outputs": [
    {
     "name": "stdout",
     "output_type": "stream",
     "text": [
      "[1, 1, 1, 1, 3]\n",
      "[0, 1, 1, 1, 1]\n",
      "[0, 0, 1, 1, 1]\n",
      "[0, 0, 0, 1, 1]\n",
      "[0, 0, 0, 0, 1]\n"
     ]
    },
    {
     "data": {
      "text/plain": [
       "3"
      ]
     },
     "execution_count": 100,
     "metadata": {},
     "output_type": "execute_result"
    }
   ],
   "source": [
    "class Solution:\n",
    "    def longestPalindromeSubseq(self, s: str) -> int:\n",
    "        length = len(s)\n",
    "        dp = [[0]*length for i in range(length)]\n",
    "        # dp[left][right]: s[left:right] 中最长回文子序列的长度\n",
    "        for left in range(length-1,-1,-1):\n",
    "            dp[left][left] = 1\n",
    "            for right in range(left+1,length):\n",
    "                if s[left] == s[right]:\n",
    "                    dp[left][right] = dp[left+1][right-1] +2 \n",
    "                else:\n",
    "                    dp[left][right] = max(dp[left+1][right],dp[left][right-1])\n",
    "        for i in dp:\n",
    "            print(i)\n",
    "        return dp[0][length-1]\n",
    "\n",
    "cls = Solution()\n",
    "s = \"mbadm\"\n",
    "cls.longestPalindromeSubseq(s)"
   ]
  },
  {
   "cell_type": "markdown",
   "metadata": {},
   "source": [
    "# 3.3 # 1312. 让字符串成为回文串的最少插入次数\n",
    "\n",
    "![title](./47.png)\n",
    "\n",
    "### 只需要找出字符串中的最长回文子序列即可，\n",
    "\n",
    "### 需要修改的次数 等于 总长度 减去 最长回文子序列长度"
   ]
  },
  {
   "cell_type": "code",
   "execution_count": 99,
   "metadata": {},
   "outputs": [
    {
     "data": {
      "text/plain": [
       "3"
      ]
     },
     "execution_count": 99,
     "metadata": {},
     "output_type": "execute_result"
    }
   ],
   "source": [
    "class Solution:\n",
    "    def minInsertions(self, s: str) -> int:\n",
    "        length = len(s)\n",
    "        dp = [[0]*length for i in range(length)]\n",
    "        # dp[left][right]: s[left:right] 中最长回文子序列的长度\n",
    "        for left in range(length-1,-1,-1):\n",
    "            dp[left][left] = 1\n",
    "            for right in range(left+1,length):\n",
    "                if s[left] == s[right]:\n",
    "                    dp[left][right] = dp[left+1][right-1] +2 \n",
    "                else:\n",
    "                    dp[left][right] = max(dp[left+1][right],dp[left][right-1])\n",
    "        return length - dp[0][length-1]\n",
    "\n",
    "cls = Solution()\n",
    "s = \"mbadm\" # mbm  删掉 ad 即可\n",
    "s1 = \"badmm\"\n",
    "cls.minInsertions(s1)"
   ]
  },
  {
   "cell_type": "code",
   "execution_count": null,
   "metadata": {},
   "outputs": [],
   "source": []
  },
  {
   "cell_type": "markdown",
   "metadata": {},
   "source": [
    "# 4 回文排列\n",
    "![title](./40.png)"
   ]
  },
  {
   "cell_type": "code",
   "execution_count": 54,
   "metadata": {},
   "outputs": [
    {
     "data": {
      "text/plain": [
       "False"
      ]
     },
     "execution_count": 54,
     "metadata": {},
     "output_type": "execute_result"
    }
   ],
   "source": [
    "class Solution:\n",
    "    def canPermutePalindrome(self, s: str) -> bool:\n",
    "        record = {}\n",
    "        for charac in s:\n",
    "            record[charac] = record.get(charac,0) + 1\n",
    "        res = 0 \n",
    "        for value in record.values():\n",
    "\n",
    "            if value %2 ==1:\n",
    "                res += 1\n",
    "            if res > 1:\n",
    "                return False\n",
    "        return True\n",
    "cls = Solution()\n",
    "string = \"as\"\n",
    "cls.canPermutePalindrome(string)"
   ]
  },
  {
   "cell_type": "markdown",
   "metadata": {},
   "source": [
    "# 5 分割回文串----【回溯】\n",
    "![title](./42.png)"
   ]
  },
  {
   "cell_type": "code",
   "execution_count": 75,
   "metadata": {},
   "outputs": [
    {
     "data": {
      "text/plain": [
       "[['a', 'c', 'b']]"
      ]
     },
     "execution_count": 75,
     "metadata": {},
     "output_type": "execute_result"
    }
   ],
   "source": [
    "class Solution:\n",
    "    def partition(self, s: str):\n",
    "        self.res = []\n",
    "        def dfs(string, tmp):\n",
    "            if not string:\n",
    "                self.res.append(tmp)\n",
    "                \n",
    "            for i in range(1, len(string)+1):\n",
    "                sub_string = string[:i]\n",
    "                if sub_string == sub_string[::-1]:\n",
    "                    dfs(string[i:], tmp+[sub_string])\n",
    "\n",
    "        dfs(s,[])\n",
    "        return self.res\n",
    "cls = Solution()\n",
    "cls.partition(\"acb\")"
   ]
  },
  {
   "cell_type": "markdown",
   "metadata": {},
   "source": [
    "# 6 分割回文串II ---[动态规划】\n",
    "![title](./43.png)"
   ]
  },
  {
   "cell_type": "code",
   "execution_count": 67,
   "metadata": {},
   "outputs": [
    {
     "data": {
      "text/plain": [
       "1"
      ]
     },
     "execution_count": 67,
     "metadata": {},
     "output_type": "execute_result"
    }
   ],
   "source": [
    "class Solution:\n",
    "    def minCut(self, s: str) -> int:\n",
    "        size = len(s)\n",
    "        dp = [i for i in range(size)] # dp[i] 以i为结尾的字符串，所需要切割的最小次数\n",
    "        # 初始化，默认是有几个切几下\n",
    "        for end in range(size):\n",
    "            if s[:end+1] == s[:end+1][::-1]:\n",
    "                #  自身是回文串，不需要切割\n",
    "                dp[end] = 0\n",
    "                continue\n",
    "            tmp = []\n",
    "            for start in range(end):\n",
    "                if s[start+1:end+1] == s[start+1:end+1][::-1]:\n",
    "                    tmp.append(dp[start] + 1) # 1-2-3.长度为8的字符串，如果string{4：9]是回文，那么 答案是：dp[3]+1\n",
    "            dp[end] = min(tmp)\n",
    "        return dp[size-1]\n",
    "    \n",
    "cls = Solution()\n",
    "cls.minCut(\"aaaeaa\")"
   ]
  },
  {
   "cell_type": "markdown",
   "metadata": {},
   "source": [
    "# 7 最短回文串 \n",
    "![title](./44.png)"
   ]
  },
  {
   "cell_type": "code",
   "execution_count": 32,
   "metadata": {},
   "outputs": [
    {
     "name": "stdout",
     "output_type": "stream",
     "text": [
      "edaba\n",
      "daba\n",
      "aba\n"
     ]
    },
    {
     "data": {
      "text/plain": [
       "'edabade'"
      ]
     },
     "execution_count": 32,
     "metadata": {},
     "output_type": "execute_result"
    }
   ],
   "source": [
    "class Solution:\n",
    "    def shortestPalindrome(self, s: str) -> str:\n",
    "        r = s[::-1]\n",
    "        for i in range(len(s) + 1):\n",
    "            print(r[i:])\n",
    "            if s.startswith(r[i:]):\n",
    "                \n",
    "                return r[:i] + s\n",
    "            \n",
    "            \n",
    "cls = Solution()\n",
    "string = \"abade\"\n",
    "cls.shortestPalindrome(string)"
   ]
  },
  {
   "cell_type": "markdown",
   "metadata": {},
   "source": []
  },
  {
   "cell_type": "code",
   "execution_count": null,
   "metadata": {},
   "outputs": [],
   "source": []
  },
  {
   "cell_type": "code",
   "execution_count": null,
   "metadata": {},
   "outputs": [],
   "source": []
  },
  {
   "cell_type": "code",
   "execution_count": null,
   "metadata": {},
   "outputs": [],
   "source": []
  },
  {
   "cell_type": "code",
   "execution_count": null,
   "metadata": {},
   "outputs": [],
   "source": []
  },
  {
   "cell_type": "code",
   "execution_count": null,
   "metadata": {},
   "outputs": [],
   "source": []
  },
  {
   "cell_type": "code",
   "execution_count": null,
   "metadata": {},
   "outputs": [],
   "source": []
  },
  {
   "cell_type": "code",
   "execution_count": 12,
   "metadata": {},
   "outputs": [
    {
     "data": {
      "text/plain": [
       "True"
      ]
     },
     "execution_count": 12,
     "metadata": {},
     "output_type": "execute_result"
    }
   ],
   "source": []
  },
  {
   "cell_type": "markdown",
   "metadata": {},
   "source": [
    "# 大26.5\n",
    "\n",
    "#### 如果想打到27分，而游戏规则是在30局中得到最多的分算胜利，所以只要一方得到了16分，那么对方不管怎么玩都算输\n",
    "\n",
    "10+13 = 23， 此时游戏至少进行3局， 10+16=26 卡盘输\n",
    "\n",
    "11+13 = 24， 此时游戏至少进行3局，11+16=27 收米\n",
    "\n",
    "11+14 = 25， 此时游戏至少进行2局，11+16=27 收米\n",
    "\n"
   ]
  }
 ],
 "metadata": {
  "kernelspec": {
   "display_name": "Python 3",
   "language": "python",
   "name": "python3"
  },
  "language_info": {
   "codemirror_mode": {
    "name": "ipython",
    "version": 3
   },
   "file_extension": ".py",
   "mimetype": "text/x-python",
   "name": "python",
   "nbconvert_exporter": "python",
   "pygments_lexer": "ipython3",
   "version": "3.7.6"
  }
 },
 "nbformat": 4,
 "nbformat_minor": 4
}
