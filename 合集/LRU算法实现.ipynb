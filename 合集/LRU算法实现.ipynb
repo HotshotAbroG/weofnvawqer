{
 "cells": [
  {
   "cell_type": "code",
   "execution_count": 6,
   "metadata": {},
   "outputs": [],
   "source": [
    "class DLinkendNode():\n",
    "    def __init__(self, key=0, value=0):\n",
    "        self.key = key\n",
    "        self.value = value\n",
    "        self.pre = None\n",
    "        self.next = None"
   ]
  },
  {
   "cell_type": "code",
   "execution_count": 13,
   "metadata": {},
   "outputs": [
    {
     "name": "stdout",
     "output_type": "stream",
     "text": [
      "-1\n"
     ]
    }
   ],
   "source": [
    "class DLinkendNode():\n",
    "    def __init__(self, key=0, value=0):\n",
    "        self.key = key\n",
    "        self.value = value\n",
    "        self.pre = None\n",
    "        self.next = None\n",
    "        \n",
    "class LRUCache():\n",
    "    def __init__(self, capacity):\n",
    "        # 头<-->Node1<--->Node2<---->Node3 <------>尾\n",
    "        self.cache = {}\n",
    "        self.size = 0\n",
    "        self.capacity = capacity\n",
    "        self.head, self.tail = DLinkendNode(), DLinkendNode()\n",
    "\n",
    "        self.head.next = self.tail\n",
    "        self.tail.pre = self.head\n",
    "    \n",
    "    def __add_node(self, node):\n",
    "        # 把 值放到 链表的头部\n",
    "        \n",
    "        head_next_node = self.head.next\n",
    "        \n",
    "        node.pre = self.head\n",
    "        node.next = head_next_node\n",
    "        # Head --X---Tail\n",
    "        head_next_node.pre = node\n",
    "        self.head.next = node\n",
    "    \n",
    "    def __remove_node(self, node):\n",
    "        # 将 一个存在的节点 移除\n",
    "        # pre---node----next\n",
    "#         pre = node.pre\n",
    "#         _next = node.next\n",
    "        \n",
    "#         pre.next = _next\n",
    "#         _next.pre = pre\n",
    "        node.pre.next = node.next\n",
    "        node.next.pre = node.pre;\n",
    "        \n",
    "        \n",
    "    def _move_to_head(self, node):\n",
    "        # 发现了一个存在的页面，并且再次被调用\n",
    "        self.__remove_node(node)\n",
    "        self.__add_node(node)\n",
    "    \n",
    "    def _pop_tail(self):\n",
    "        res = self.tail.pre\n",
    "        self.__remove_node(res)\n",
    "        return res\n",
    "    \n",
    "    def put(self, key, value):\n",
    "        node = self.cache.get(key)\n",
    "        if not node:\n",
    "            newNode = DLinkendNode(key, value)\n",
    "            self.cache[key] = newNode\n",
    "            self.__add_node(newNode)\n",
    "            \n",
    "            self.size += 1\n",
    "            if self.size > self.capacity:\n",
    "                tail = self._pop_tail()\n",
    "                del self.cache[tail.key]\n",
    "                self.size -= 1\n",
    "        else:\n",
    "            # 找到了地址\n",
    "            node.value = value\n",
    "            \n",
    "            self._move_to_head(node)\n",
    "    def get(self, key):\n",
    "        node = self.cache.get(key, None)\n",
    "        if not node :\n",
    "            return -1 \n",
    "        self._move_to_head(node)# 调用了\n",
    "        return node.value\n",
    "\n",
    "cache = LRUCache(2)\n",
    "cache.put(1, 1)\n",
    "cache.put(2, 2)\n",
    "cache.get(1)\n",
    "cache.put(3, 3)\n",
    "print(cache.get(2))"
   ]
  },
  {
   "cell_type": "code",
   "execution_count": null,
   "metadata": {},
   "outputs": [],
   "source": []
  },
  {
   "cell_type": "code",
   "execution_count": null,
   "metadata": {},
   "outputs": [],
   "source": []
  },
  {
   "cell_type": "code",
   "execution_count": null,
   "metadata": {},
   "outputs": [],
   "source": []
  },
  {
   "cell_type": "code",
   "execution_count": null,
   "metadata": {},
   "outputs": [],
   "source": []
  },
  {
   "cell_type": "code",
   "execution_count": null,
   "metadata": {},
   "outputs": [],
   "source": []
  },
  {
   "cell_type": "code",
   "execution_count": null,
   "metadata": {},
   "outputs": [],
   "source": []
  },
  {
   "cell_type": "code",
   "execution_count": null,
   "metadata": {},
   "outputs": [],
   "source": []
  },
  {
   "cell_type": "code",
   "execution_count": null,
   "metadata": {},
   "outputs": [],
   "source": []
  },
  {
   "cell_type": "code",
   "execution_count": null,
   "metadata": {},
   "outputs": [],
   "source": []
  },
  {
   "cell_type": "code",
   "execution_count": null,
   "metadata": {},
   "outputs": [],
   "source": []
  },
  {
   "cell_type": "code",
   "execution_count": null,
   "metadata": {},
   "outputs": [],
   "source": []
  },
  {
   "cell_type": "code",
   "execution_count": null,
   "metadata": {},
   "outputs": [],
   "source": []
  },
  {
   "cell_type": "code",
   "execution_count": null,
   "metadata": {},
   "outputs": [],
   "source": []
  },
  {
   "cell_type": "code",
   "execution_count": null,
   "metadata": {},
   "outputs": [],
   "source": []
  },
  {
   "cell_type": "code",
   "execution_count": null,
   "metadata": {},
   "outputs": [],
   "source": []
  },
  {
   "cell_type": "code",
   "execution_count": null,
   "metadata": {},
   "outputs": [],
   "source": []
  },
  {
   "cell_type": "code",
   "execution_count": null,
   "metadata": {},
   "outputs": [],
   "source": []
  },
  {
   "cell_type": "code",
   "execution_count": null,
   "metadata": {},
   "outputs": [],
   "source": []
  }
 ],
 "metadata": {
  "kernelspec": {
   "display_name": "Python 3",
   "language": "python",
   "name": "python3"
  },
  "language_info": {
   "codemirror_mode": {
    "name": "ipython",
    "version": 3
   },
   "file_extension": ".py",
   "mimetype": "text/x-python",
   "name": "python",
   "nbconvert_exporter": "python",
   "pygments_lexer": "ipython3",
   "version": "3.7.6"
  }
 },
 "nbformat": 4,
 "nbformat_minor": 4
}
