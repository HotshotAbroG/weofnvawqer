{
 "cells": [
  {
   "cell_type": "markdown",
   "metadata": {},
   "source": [
    "# 纸片博弈\n",
    "![title](../img/107.png)"
   ]
  },
  {
   "cell_type": "code",
   "execution_count": null,
   "metadata": {},
   "outputs": [],
   "source": [
    "\n",
    "#define mem(a,b) memset(a,b,sizeof(a))\n",
    "#define FOR(a,b,i) for(i=a;i<=b;++i)\n",
    "#define For(a,b,i) for(i=a;i<b;++i)\n",
    "\n",
    "int sg[201][201];\n",
    "int dfs(int a,int b)//sg函数的一般写法\n",
    "{\n",
    "    if(sg[a][b]>=0)\n",
    "    {\n",
    "        return sg[a][b];\n",
    "    }\n",
    "    int i,map[201],r;\n",
    "    mem(map,0);\n",
    "    FOR(2,(a/2),i)\n",
    "    {\n",
    "        r=dfs(i,b)^dfs(a-i,b);//后继的异或得到前一状态的sg值\n",
    "        map[r]=1;\n",
    "    }\n",
    "    FOR(2,(b/2),i)\n",
    "    {\n",
    "        r=dfs(a,i)^dfs(a,b-i);\n",
    "        map[r]=1;\n",
    "    }\n",
    "    FOR(0,200,i)\n",
    "    {\n",
    "        if(map[i]==0)\n",
    "        {\n",
    "            return sg[a][b]=i;//mex公式的应用\n",
    "        }\n",
    "    }\n",
    "}\n"
   ]
  },
  {
   "cell_type": "code",
   "execution_count": 17,
   "metadata": {},
   "outputs": [
    {
     "data": {
      "text/plain": [
       "'Lose'"
      ]
     },
     "execution_count": 17,
     "metadata": {},
     "output_type": "execute_result"
    }
   ],
   "source": [
    "class Solution():\n",
    "    def find(self, row, col):\n",
    "        sg = [[0 for _ in range(201)] for i in range(201)]\n",
    "   \n",
    "        def dfs(n, m):\n",
    "            if sg[n][m] >= 0 :\n",
    "                return sg[n][m]\n",
    "            tmp = [0 for _ in range(201)]\n",
    "            \n",
    "            for i in range(2, 1+n//2,1):\n",
    "                r = dfs(i, m) ^ dfs(n-i, m)\n",
    "                tmp[r] = 1\n",
    "            for i in range(2, 1+m//2, 1):\n",
    "                r = dfs(n,i) ^ dfs(n,m-i)\n",
    "                tmp[r] = 1\n",
    "            for i in range(0, 200, i):\n",
    "                if tmp[i] == 0:\n",
    "                    return sg[m][n]\n",
    "            return 10\n",
    "        \n",
    "        res = dfs(row, col)\n",
    "        return \"Win\" if res >0 else  \"Lose\"\n",
    "cls = Solution()\n",
    "cls.find(3,4)"
   ]
  },
  {
   "cell_type": "code",
   "execution_count": 3,
   "metadata": {},
   "outputs": [
    {
     "data": {
      "text/plain": [
       "4"
      ]
     },
     "execution_count": 3,
     "metadata": {},
     "output_type": "execute_result"
    }
   ],
   "source": [
    "def change(amount, coins):\n",
    "    dp = [0 for _ in range(amount+1)]\n",
    "    dp[0] = 1\n",
    "    for coin in coins:\n",
    "        for i in range(coin, amount+1):\n",
    "            dp[i] += dp[i-coin]\n",
    "    return dp[-1]\n",
    "change(4,[1,2,3])"
   ]
  },
  {
   "cell_type": "code",
   "execution_count": null,
   "metadata": {},
   "outputs": [],
   "source": []
  },
  {
   "cell_type": "code",
   "execution_count": null,
   "metadata": {},
   "outputs": [],
   "source": []
  },
  {
   "cell_type": "code",
   "execution_count": null,
   "metadata": {},
   "outputs": [],
   "source": []
  },
  {
   "cell_type": "code",
   "execution_count": null,
   "metadata": {},
   "outputs": [],
   "source": []
  },
  {
   "cell_type": "code",
   "execution_count": null,
   "metadata": {},
   "outputs": [],
   "source": []
  }
 ],
 "metadata": {
  "kernelspec": {
   "display_name": "Python 3",
   "language": "python",
   "name": "python3"
  },
  "language_info": {
   "codemirror_mode": {
    "name": "ipython",
    "version": 3
   },
   "file_extension": ".py",
   "mimetype": "text/x-python",
   "name": "python",
   "nbconvert_exporter": "python",
   "pygments_lexer": "ipython3",
   "version": "3.7.6"
  }
 },
 "nbformat": 4,
 "nbformat_minor": 4
}
