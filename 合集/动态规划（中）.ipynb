{
 "cells": [
  {
   "cell_type": "markdown",
   "metadata": {},
   "source": [
    "# 1.整数拆分\n",
    "![title](./19.png)"
   ]
  },
  {
   "cell_type": "code",
   "execution_count": 10,
   "metadata": {},
   "outputs": [
    {
     "name": "stdout",
     "output_type": "stream",
     "text": [
      "[0, 1, 1, 2, 4, 6, 9, 12, 18, 27, 36]\n"
     ]
    },
    {
     "data": {
      "text/plain": [
       "36"
      ]
     },
     "execution_count": 10,
     "metadata": {},
     "output_type": "execute_result"
    }
   ],
   "source": [
    "class Solution:\n",
    "    def integerBreak(self, n: int) -> int:\n",
    "        dp = [0] * (n+1)\n",
    "        dp[1] = 1\n",
    "        # dp[n] : 数字n 能组成的最大乘积\n",
    "        for i in range(2, n+1):\n",
    "            for j in range(i-1, 0, -1):\n",
    "                dp[i] = max((dp[i], dp[j] * (i-j), j * (i-j)))\n",
    "        print(dp)\n",
    "        return dp[-1]\n",
    "cls = Solution()\n",
    "cls.integerBreak(10)"
   ]
  },
  {
   "cell_type": "markdown",
   "metadata": {},
   "source": [
    "# 2. 完全平方数\n",
    "![title](./20.png)"
   ]
  },
  {
   "cell_type": "code",
   "execution_count": 21,
   "metadata": {
    "scrolled": true
   },
   "outputs": [
    {
     "data": {
      "text/plain": [
       "2"
      ]
     },
     "execution_count": 21,
     "metadata": {},
     "output_type": "execute_result"
    }
   ],
   "source": [
    "class Solution:\n",
    "    def numSquares(self, n: int) -> int:\n",
    "        dp = [0] * (n + 1)\n",
    "        for i in range(1, n+1):\n",
    "            j = 1 \n",
    "            dp[i] = i\n",
    "            while i - j*j >= 0:\n",
    "                dp[i] =  min(dp[i], dp[i-j*j]+1)\n",
    "                j += 1\n",
    "        return dp[-1]\n",
    "cls = Solution()\n",
    "cls.numSquares(13)"
   ]
  },
  {
   "cell_type": "markdown",
   "metadata": {},
   "source": [
    "# 3. 解码方法\n",
    "![title](./21.png)"
   ]
  },
  {
   "cell_type": "code",
   "execution_count": 53,
   "metadata": {},
   "outputs": [
    {
     "name": "stdout",
     "output_type": "stream",
     "text": [
      "[1, 1, 2, 1]\n"
     ]
    },
    {
     "data": {
      "text/plain": [
       "1"
      ]
     },
     "execution_count": 53,
     "metadata": {},
     "output_type": "execute_result"
    }
   ],
   "source": [
    "class Solution:\n",
    "    def numDecodings(self, s: str) -> int:\n",
    "        if not s or s[0] == \"0\":\n",
    "            return 0 \n",
    "        dp = [0] * (len(s)+1)\n",
    "        dp[1] = 1\n",
    "        dp[0] = 1\n",
    "        for i in range(2, 1 + len(s)):\n",
    "            if s[i-1] == \"0\":\n",
    "                if s[i-2] == \"1\" or s[i-2] == \"2\":\n",
    "                    dp[i] = dp[i-2]\n",
    "                else:\n",
    "                    return 0\n",
    "            else:\n",
    "                if s[i-2] == \"1\" or (s[i-2] == \"2\" and s[i-1] < \"7\"):\n",
    "                    dp[i] = dp[i-1] + dp[i-2]\n",
    "                else:\n",
    "                    dp[i] = dp[i-1]\n",
    "\n",
    "        return dp[-1]\n",
    "                    \n",
    "\n",
    "cls = Solution()\n",
    "cls.numDecodings(\"110\")"
   ]
  },
  {
   "cell_type": "markdown",
   "metadata": {},
   "source": [
    "# 4. 最长上升子序列\n"
   ]
  },
  {
   "cell_type": "code",
   "execution_count": 59,
   "metadata": {},
   "outputs": [
    {
     "data": {
      "text/plain": [
       "[1, 1, 1, 2, 2, 3, 4, 4]"
      ]
     },
     "execution_count": 59,
     "metadata": {},
     "output_type": "execute_result"
    }
   ],
   "source": [
    "class Solution:\n",
    "    def lengthOfLIS(self, nums) -> int:\n",
    "        length = len(nums)\n",
    "        if length < 2:\n",
    "            return length\n",
    "        dp = [1] * (length)\n",
    "        dp[0], res = 1, 0\n",
    "        for i in range(1, length):\n",
    "            for j in range(i):\n",
    "                if nums[i] > nums[j]:\n",
    "                    dp[i] = max(dp[i], dp[j]+1)\n",
    "                    res = max(res, dp[i])\n",
    "        return res\n",
    "cls = Solution()\n",
    "arr =  [10,9,2,5,3,7,101,18]\n",
    "cls.lengthOfLIS(arr)"
   ]
  },
  {
   "cell_type": "markdown",
   "metadata": {},
   "source": [
    "# 5 最长数对链\n",
    "![title](./22.png)"
   ]
  },
  {
   "cell_type": "code",
   "execution_count": 65,
   "metadata": {},
   "outputs": [
    {
     "name": "stdout",
     "output_type": "stream",
     "text": [
      "[[1, 2], [2, 3], [3, 4]]\n"
     ]
    },
    {
     "data": {
      "text/plain": [
       "2"
      ]
     },
     "execution_count": 65,
     "metadata": {},
     "output_type": "execute_result"
    }
   ],
   "source": [
    "class Solution:\n",
    "    def findLongestChain(self, pairs) -> int:\n",
    "        pairs.sort()\n",
    "        print(pairs)\n",
    "        length = len(arr)\n",
    "        if length < 2:\n",
    "            return length\n",
    "        dp = [1] * (length)\n",
    "        res = 0 \n",
    "        for i in range(1, length):\n",
    "            for j in range(i):\n",
    "                if pairs[i][0] > pairs[j][1]:\n",
    "                    dp[i] = max(dp[i], dp[j]+1)\n",
    "                    res = max(res, dp[i])\n",
    "        return res\n",
    "        \n",
    "arr = [[1,2], [3,4], [2,3]]\n",
    "cls = Solution()\n",
    "cls.findLongestChain(arr)"
   ]
  },
  {
   "cell_type": "markdown",
   "metadata": {},
   "source": [
    "# 6 最长公共子序列\n",
    "![title](./23.png)"
   ]
  },
  {
   "cell_type": "code",
   "execution_count": 79,
   "metadata": {},
   "outputs": [
    {
     "name": "stdout",
     "output_type": "stream",
     "text": [
      "[0, 0, 0, 0]\n",
      "[0, 1, 1, 1]\n",
      "[0, 1, 1, 1]\n",
      "[0, 1, 1, 1]\n",
      "[0, 1, 1, 1]\n",
      "[0, 1, 2, 2]\n"
     ]
    }
   ],
   "source": [
    "class Solution:\n",
    "    def longestCommonSubsequence(self, text1: str, text2: str) -> int:\n",
    "        row, col = len(text1), len(text2)\n",
    "        if row == 0 or col == 0:\n",
    "            return 0\n",
    "        dp = [[0]*(col+1) for i in range(row+1)]\n",
    "        for i in range(1, row+1):\n",
    "            for j in range(1, col+1):\n",
    "                if text1[i-1] == text2[j-1]:\n",
    "                    dp[i][j] = dp[i-1][j-1] + 1\n",
    "                else:\n",
    "                    dp[i][j] = max(dp[i-1][j], dp[i][j-1])\n",
    "\n",
    "\n",
    "t1,t2 = \"abcde\", \"aee\" \n",
    "cls = Solution()\n",
    "cls.longestCommonSubsequence(t1, t2)"
   ]
  },
  {
   "cell_type": "markdown",
   "metadata": {},
   "source": [
    "# 7 摆动序列\n",
    "![title](./24.png)"
   ]
  },
  {
   "cell_type": "code",
   "execution_count": 5,
   "metadata": {},
   "outputs": [
    {
     "data": {
      "text/plain": [
       "7"
      ]
     },
     "execution_count": 5,
     "metadata": {},
     "output_type": "execute_result"
    }
   ],
   "source": [
    "class Solution:\n",
    "    def wiggleMaxLength(self, nums) -> int:\n",
    "        if len(nums) < 2:\n",
    "            return len(nums)\n",
    "        up = [1] * len(nums)\n",
    "        down = [1] * len(nums)\n",
    "        for i in range(1, len(nums)):\n",
    "            diff = nums[i] - nums[i-1]\n",
    "            if diff > 0:\n",
    "                up[i] = down[i-1] + 1\n",
    "                down[i] = down[i-1]\n",
    "            elif diff < 0:\n",
    "                down[i] = up[i-1] + 1\n",
    "                up[i] = up[i-1] \n",
    "            else:\n",
    "                down[i], up[i] = down[i-1], up[i-1]\n",
    "        return max(down[-1], up[-1])\n",
    "    \n",
    "cls = Solution()\n",
    "nums = [1,17,5,10,13,15,10,5,16,8]\n",
    "cls.wiggleMaxLength(nums)"
   ]
  },
  {
   "cell_type": "code",
   "execution_count": 8,
   "metadata": {},
   "outputs": [
    {
     "data": {
      "text/plain": [
       "1"
      ]
     },
     "execution_count": 8,
     "metadata": {},
     "output_type": "execute_result"
    }
   ],
   "source": [
    "# 优化版本\n",
    "class Solution:\n",
    "    def wiggleMaxLength(self, nums) -> int:\n",
    "        if len(nums) < 2:\n",
    "            return len(nums)\n",
    "        down, up = 1, 1\n",
    " \n",
    "        for i in range(1, len(nums)):\n",
    "            diff = nums[i] - nums[i-1]\n",
    "            if diff > 0:\n",
    "                up = down+1\n",
    "            elif diff < 0:\n",
    "                down = up + 1\n",
    "        return max(down, up)\n",
    "    \n",
    "cls = Solution()\n",
    "nums = [1,17,5,10,13,15,10,5,16,8]\n",
    "nums = [0,0]\n",
    "cls.wiggleMaxLength(nums)"
   ]
  },
  {
   "cell_type": "code",
   "execution_count": null,
   "metadata": {},
   "outputs": [],
   "source": []
  },
  {
   "cell_type": "code",
   "execution_count": null,
   "metadata": {},
   "outputs": [],
   "source": []
  },
  {
   "cell_type": "code",
   "execution_count": null,
   "metadata": {},
   "outputs": [],
   "source": []
  },
  {
   "cell_type": "code",
   "execution_count": null,
   "metadata": {},
   "outputs": [],
   "source": []
  },
  {
   "cell_type": "code",
   "execution_count": null,
   "metadata": {},
   "outputs": [],
   "source": []
  },
  {
   "cell_type": "code",
   "execution_count": null,
   "metadata": {},
   "outputs": [],
   "source": []
  },
  {
   "cell_type": "code",
   "execution_count": null,
   "metadata": {},
   "outputs": [],
   "source": []
  },
  {
   "cell_type": "code",
   "execution_count": null,
   "metadata": {},
   "outputs": [],
   "source": []
  },
  {
   "cell_type": "code",
   "execution_count": null,
   "metadata": {},
   "outputs": [],
   "source": []
  }
 ],
 "metadata": {
  "kernelspec": {
   "display_name": "Python 3",
   "language": "python",
   "name": "python3"
  },
  "language_info": {
   "codemirror_mode": {
    "name": "ipython",
    "version": 3
   },
   "file_extension": ".py",
   "mimetype": "text/x-python",
   "name": "python",
   "nbconvert_exporter": "python",
   "pygments_lexer": "ipython3",
   "version": "3.7.6"
  }
 },
 "nbformat": 4,
 "nbformat_minor": 4
}
