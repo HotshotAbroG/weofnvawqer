{
 "cells": [
  {
   "cell_type": "markdown",
   "metadata": {},
   "source": [
    "# 求数组中重复最多的数"
   ]
  },
  {
   "cell_type": "code",
   "execution_count": 3,
   "metadata": {},
   "outputs": [
    {
     "data": {
      "text/plain": [
       "1"
      ]
     },
     "execution_count": 3,
     "metadata": {},
     "output_type": "execute_result"
    }
   ],
   "source": [
    "nums = [1,1,1,2,2,3,4,5]\n",
    "def find(nums):\n",
    "    record = {}\n",
    "    res = 0\n",
    "    answer = 0 \n",
    "    for number in nums:\n",
    "        value = record.get(number, 0) + 1\n",
    "        if res < value:\n",
    "            res = value\n",
    "            answer = number\n",
    "        record[number] = value\n",
    "    return answer\n",
    "find(nums)"
   ]
  },
  {
   "cell_type": "code",
   "execution_count": null,
   "metadata": {},
   "outputs": [],
   "source": []
  },
  {
   "cell_type": "code",
   "execution_count": 5,
   "metadata": {},
   "outputs": [
    {
     "data": {
      "text/plain": [
       "4.0"
      ]
     },
     "execution_count": 5,
     "metadata": {},
     "output_type": "execute_result"
    }
   ],
   "source": [
    "def sup(n):\n",
    "    if n == 1 :\n",
    "        return n\n",
    "    if n%2 == 0:\n",
    "        return sup(n/2)+1\n",
    "    else:\n",
    "        # 奇数\n",
    "        return sup((n-1)/2)+1\n",
    "sup(10)"
   ]
  },
  {
   "cell_type": "markdown",
   "metadata": {},
   "source": [
    "# 3 给定N个数字，与操作次数M\n",
    "\n",
    "M次取两个数，求最后这M个乘积的最小值\n",
    "\n",
    "不可重复使用\n",
    "\n",
    "测试用例：\n",
    "\n",
    "4 2\n",
    "\n",
    "1 2 3 4"
   ]
  },
  {
   "cell_type": "code",
   "execution_count": 11,
   "metadata": {},
   "outputs": [
    {
     "name": "stdout",
     "output_type": "stream",
     "text": [
      "[1, 2, 3, 5, 5, 5, 7]\n"
     ]
    },
    {
     "data": {
      "text/plain": [
       "30"
      ]
     },
     "execution_count": 11,
     "metadata": {},
     "output_type": "execute_result"
    }
   ],
   "source": [
    "def find(m, n, arr):\n",
    "    arr.sort()\n",
    "    print(arr)\n",
    "    arr = arr[:m*2]\n",
    "    \n",
    "    res = 0 \n",
    "    for i in range(m):\n",
    "        res += arr[i] * arr[2*m -i-1]\n",
    "    return res\n",
    "arr = [5,3,2,1,5,7,5]\n",
    "find(3,len(arr),arr)"
   ]
  },
  {
   "cell_type": "code",
   "execution_count": null,
   "metadata": {},
   "outputs": [],
   "source": []
  },
  {
   "cell_type": "code",
   "execution_count": null,
   "metadata": {},
   "outputs": [],
   "source": []
  }
 ],
 "metadata": {
  "kernelspec": {
   "display_name": "Python 3",
   "language": "python",
   "name": "python3"
  },
  "language_info": {
   "codemirror_mode": {
    "name": "ipython",
    "version": 3
   },
   "file_extension": ".py",
   "mimetype": "text/x-python",
   "name": "python",
   "nbconvert_exporter": "python",
   "pygments_lexer": "ipython3",
   "version": "3.7.6"
  }
 },
 "nbformat": 4,
 "nbformat_minor": 4
}
