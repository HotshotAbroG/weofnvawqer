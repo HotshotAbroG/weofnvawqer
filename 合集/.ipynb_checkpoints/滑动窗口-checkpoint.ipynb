{
 "cells": [
  {
   "cell_type": "markdown",
   "metadata": {},
   "source": [
    "# 1. 滑动窗口最大值\n",
    "![title](../img/a33.png)"
   ]
  },
  {
   "cell_type": "code",
   "execution_count": 19,
   "metadata": {},
   "outputs": [
    {
     "data": {
      "text/plain": [
       "[3, 3, 5, 5, 6, 7]"
      ]
     },
     "execution_count": 19,
     "metadata": {},
     "output_type": "execute_result"
    }
   ],
   "source": [
    "from collections import deque\n",
    "class Solution:\n",
    "    def maxsliedingWindow(self, nums, k):\n",
    "        \n",
    "        n = len(nums)\n",
    "        if n * k == 0:\n",
    "            return []\n",
    "        if k == 1:\n",
    "            return nums  \n",
    "        deq = deque()\n",
    "        max_index = 0\n",
    "        def clean(cur_index):\n",
    "            if deq and cur_index - k == deq[-1]:\n",
    "                deq.popleft()\n",
    "            while deq and nums[deq[-1]] < nums[cur_index]:\n",
    "                # 双端队列 的尾部 必须是最大的\n",
    "                # 如果当前的index下的value > 尾部的 value，那么pop尾部\n",
    "                deq.pop()\n",
    "        \n",
    "        for i in range(k):\n",
    "            clean(i)\n",
    "            deq.append(i)\n",
    "            if nums[max_index] < nums[i]:\n",
    "                max_index = i\n",
    "        \n",
    "        res = [nums[max_index]]\n",
    "        \n",
    "        for i in range(k, n):\n",
    "            clean(i)\n",
    "            deq.append(i)\n",
    "            res.append(nums[deq[0]])\n",
    "            \n",
    "        return res\n",
    "        \n",
    "        \n",
    "        \n",
    "cls = Solution()\n",
    "arr = [1, 3, -1, -3, 5, 3, 6, 7]\n",
    "cls.maxsliedingWindow(arr, 3)"
   ]
  },
  {
   "cell_type": "markdown",
   "metadata": {},
   "source": [
    "# 2 最长不含重复字符的子字符串\n",
    "![title](../img/112.png)"
   ]
  },
  {
   "cell_type": "code",
   "execution_count": 40,
   "metadata": {},
   "outputs": [
    {
     "data": {
      "text/plain": [
       "3"
      ]
     },
     "execution_count": 40,
     "metadata": {},
     "output_type": "execute_result"
    }
   ],
   "source": [
    "from collections import deque\n",
    "class Solution:\n",
    "    def judge_unique(self, string):\n",
    "        return len(string) == len(set(string))\n",
    "        \n",
    "    \n",
    "    def lengthOfLongestSubstring(self, s: str) -> int:\n",
    "        left, right = 0, 0\n",
    "        res, record = 0, deque()\n",
    "        while left < len(s) and right < len(s):\n",
    "            while s[right] in s[left: right]:\n",
    "                left += 1\n",
    "            # record.append(s[right])\n",
    "            right += 1\n",
    "            res = max(res, right-left)\n",
    "            \n",
    "        return res\n",
    "                \n",
    "cls = Solution()\n",
    "s  = \"pwwkew\"\n",
    "cls.lengthOfLongestSubstring(s)"
   ]
  },
  {
   "cell_type": "markdown",
   "metadata": {},
   "source": [
    "# 3. 生气的书店老板\n",
    "![](../img/113.png)"
   ]
  },
  {
   "cell_type": "code",
   "execution_count": 15,
   "metadata": {},
   "outputs": [
    {
     "data": {
      "text/plain": [
       "16"
      ]
     },
     "execution_count": 15,
     "metadata": {},
     "output_type": "execute_result"
    }
   ],
   "source": [
    "class Solution:\n",
    "    def maxSatisfied(self, customers, grumpy, X: int) -> int:\n",
    "        length = len(customers)\n",
    "        no_skill_income, current_income, saved_income = 0, 0, 0\n",
    "        for i in range(length):\n",
    "            if grumpy[i] == 0:\n",
    "                # 不生气\n",
    "                no_skill_income += customers[i]\n",
    "            if i < X:\n",
    "                current_income += customers[i] * grumpy[i]\n",
    "                saved_income = current_income\n",
    "            else:\n",
    "                current_income += customers[i] * grumpy[i]\n",
    "                current_income -= customers[i-X] * grumpy[i-X]\n",
    "                saved_income = max(saved_income, current_income)\n",
    "                \n",
    "        return saved_income + no_skill_income\n",
    "          \n",
    "        \n",
    "                                   \n",
    "                                   \n",
    "customers = [1,0,1,2,1,1,7,5]\n",
    "grumpy = [0,1,0,1,0,1,0,1]\n",
    "X = 3    \n",
    "cls = Solution()\n",
    "cls.maxSatisfied(customers, grumpy, X)"
   ]
  },
  {
   "cell_type": "markdown",
   "metadata": {},
   "source": [
    "# 4. 最短超串\n",
    "![](../img/115.png)"
   ]
  },
  {
   "cell_type": "code",
   "execution_count": null,
   "metadata": {},
   "outputs": [],
   "source": [
    "big = [7,5,9,0,2,1,3,5,7,9,1,1,5,8,8,9,7]\n",
    "small = [1,5,9]\n",
    "class Solution:\n",
    "    def shortestSeq(self, big, small):\n",
    "        src_dict = {}\n",
    "        for i in small:\n",
    "            src_dict[i] = src_dict.get(i, 0) + 1\n",
    "        dst_dict = {}\n",
    "        res, need = [], len(small)\n",
    "        p, q = 0, 0\n",
    "        while q < len(big):\n",
    "            while q < len(big) and need > 0:\n",
    "                value  = big[q]\n",
    "                \n",
    "        \n",
    "        \n",
    "        \n",
    "        \n",
    "cls = Solution()\n",
    "cls.shortestSeq(big, small)"
   ]
  },
  {
   "cell_type": "code",
   "execution_count": 34,
   "metadata": {},
   "outputs": [
    {
     "data": {
      "text/plain": [
       "[7, 10]"
      ]
     },
     "execution_count": 34,
     "metadata": {},
     "output_type": "execute_result"
    }
   ],
   "source": [
    "big = [7,5,9,0,2,1,3,5,7,9,1,1,5,8,8,9,7]\n",
    "small = [1,5,9]\n",
    "class Solution:\n",
    "    def shortestSeq(self, big, small):\n",
    "        src_dict = {}\n",
    "        for i in small:\n",
    "            src_dict[i] = src_dict.get(i, 0) + 1\n",
    "        dst_dict = {}\n",
    "        res, need = [], len(small)\n",
    "        left,right = 0, 0 \n",
    "        while right < len(big):\n",
    "            while right < len(big) and need > 0:\n",
    "                # 此时没有找全\n",
    "                value = big[right]\n",
    "                if value in src_dict:\n",
    "                    dst_dict[value] = dst_dict.get(value, 0) + 1\n",
    "                    if dst_dict[value] <= src_dict[value]:\n",
    "                        need -= 1\n",
    "                right += 1\n",
    "            while left <= right and need == 0:\n",
    "                # 此时已经找全了\n",
    "                value = big[left]\n",
    "                if value in src_dict:\n",
    "                    dst_dict[value] -= 1\n",
    "                    if dst_dict[value] < src_dict[value]:\n",
    "                        break\n",
    "                left += 1\n",
    "            \n",
    "            if need == 0 and (res==[] or right - left < res[1] - res[0] + 1):\n",
    "                res = [left, right-1]\n",
    "                \n",
    "            left += 1\n",
    "            need += 1\n",
    "                \n",
    "        return res\n",
    "        \n",
    "        \n",
    "        \n",
    "cls = Solution()\n",
    "cls.shortestSeq(big, small)"
   ]
  },
  {
   "cell_type": "code",
   "execution_count": null,
   "metadata": {},
   "outputs": [],
   "source": []
  },
  {
   "cell_type": "code",
   "execution_count": null,
   "metadata": {},
   "outputs": [],
   "source": []
  },
  {
   "cell_type": "code",
   "execution_count": null,
   "metadata": {},
   "outputs": [],
   "source": []
  },
  {
   "cell_type": "code",
   "execution_count": null,
   "metadata": {},
   "outputs": [],
   "source": []
  },
  {
   "cell_type": "code",
   "execution_count": null,
   "metadata": {},
   "outputs": [],
   "source": []
  },
  {
   "cell_type": "code",
   "execution_count": null,
   "metadata": {},
   "outputs": [],
   "source": []
  },
  {
   "cell_type": "code",
   "execution_count": null,
   "metadata": {},
   "outputs": [],
   "source": []
  },
  {
   "cell_type": "code",
   "execution_count": null,
   "metadata": {},
   "outputs": [],
   "source": []
  },
  {
   "cell_type": "code",
   "execution_count": null,
   "metadata": {},
   "outputs": [],
   "source": []
  },
  {
   "cell_type": "code",
   "execution_count": null,
   "metadata": {},
   "outputs": [],
   "source": []
  },
  {
   "cell_type": "code",
   "execution_count": null,
   "metadata": {},
   "outputs": [],
   "source": []
  },
  {
   "cell_type": "code",
   "execution_count": null,
   "metadata": {},
   "outputs": [],
   "source": []
  },
  {
   "cell_type": "code",
   "execution_count": null,
   "metadata": {},
   "outputs": [],
   "source": []
  },
  {
   "cell_type": "code",
   "execution_count": null,
   "metadata": {},
   "outputs": [],
   "source": []
  },
  {
   "cell_type": "code",
   "execution_count": null,
   "metadata": {},
   "outputs": [],
   "source": []
  },
  {
   "cell_type": "code",
   "execution_count": null,
   "metadata": {},
   "outputs": [],
   "source": []
  },
  {
   "cell_type": "code",
   "execution_count": null,
   "metadata": {},
   "outputs": [],
   "source": []
  },
  {
   "cell_type": "code",
   "execution_count": null,
   "metadata": {},
   "outputs": [],
   "source": []
  },
  {
   "cell_type": "code",
   "execution_count": null,
   "metadata": {},
   "outputs": [],
   "source": []
  },
  {
   "cell_type": "code",
   "execution_count": null,
   "metadata": {},
   "outputs": [],
   "source": []
  },
  {
   "cell_type": "code",
   "execution_count": null,
   "metadata": {},
   "outputs": [],
   "source": []
  },
  {
   "cell_type": "code",
   "execution_count": null,
   "metadata": {},
   "outputs": [],
   "source": []
  }
 ],
 "metadata": {
  "kernelspec": {
   "display_name": "Python 3",
   "language": "python",
   "name": "python3"
  },
  "language_info": {
   "codemirror_mode": {
    "name": "ipython",
    "version": 3
   },
   "file_extension": ".py",
   "mimetype": "text/x-python",
   "name": "python",
   "nbconvert_exporter": "python",
   "pygments_lexer": "ipython3",
   "version": "3.7.6"
  }
 },
 "nbformat": 4,
 "nbformat_minor": 4
}
