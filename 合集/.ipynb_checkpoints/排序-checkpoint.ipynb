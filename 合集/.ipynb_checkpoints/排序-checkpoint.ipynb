{
 "cells": [
  {
   "cell_type": "markdown",
   "metadata": {},
   "source": [
    "# 快速排序 "
   ]
  },
  {
   "cell_type": "code",
   "execution_count": 1,
   "metadata": {},
   "outputs": [
    {
     "data": {
      "text/plain": [
       "[1, 3, 3, 3, 5, 12, 21, 51, 512]"
      ]
     },
     "execution_count": 1,
     "metadata": {},
     "output_type": "execute_result"
    }
   ],
   "source": [
    "def quick_sort(nums, l, r):\n",
    "    if l > r:\n",
    "        return \n",
    "    start, end = l, r\n",
    "    pivot_index = l\n",
    "    while l < r:\n",
    "        while l < r and nums[r] >= nums[pivot_index]:\n",
    "            r -= 1\n",
    "        while l < r and nums[l] <= nums[pivot_index]:\n",
    "            l += 1\n",
    "        nums[l], nums[r] = nums[r], nums[l]\n",
    "    # l=r\n",
    "    nums[pivot_index], nums[l] = nums[l], nums[pivot_index]\n",
    "    quick_sort(nums, start, l-1)\n",
    "    quick_sort(nums, l+1, end)\n",
    "    return nums\n",
    "\n",
    "arr = [3,12,21,51,512,3,5,3,1]\n",
    "quick_sort(arr, 0, len(arr)-1)"
   ]
  },
  {
   "cell_type": "markdown",
   "metadata": {},
   "source": [
    "# 堆排序 ，从大到小------>小堆"
   ]
  },
  {
   "cell_type": "code",
   "execution_count": null,
   "metadata": {},
   "outputs": [],
   "source": []
  },
  {
   "cell_type": "code",
   "execution_count": 2,
   "metadata": {},
   "outputs": [
    {
     "data": {
      "text/plain": [
       "[512, 51, 21, 12, 5, 4, 3, 2, 1]"
      ]
     },
     "execution_count": 2,
     "metadata": {},
     "output_type": "execute_result"
    }
   ],
   "source": [
    "arr = [4,12,21,51,512,2,5,3,1]\n",
    "def heap_verify(arr, currentIndex, length):\n",
    "    l, r = currentIndex * 2 + 1, currentIndex * 2 + 2\n",
    "    min_index = currentIndex\n",
    "    if l < length and arr[min_index] > arr[l]:\n",
    "        min_index = l\n",
    "    if r < length and arr[min_index] > arr[r]:\n",
    "        min_index = r\n",
    "    if min_index != currentIndex:\n",
    "        arr[min_index], arr[currentIndex] = arr[currentIndex], arr[min_index]\n",
    "        heap_verify(arr, min_index, length)\n",
    "\n",
    "def heapSort(arr):\n",
    "    k = 22\n",
    "    length = len(arr)\n",
    "    start = (length-1)//2\n",
    "    for index in range(start,-1,-1):\n",
    "        heap_verify(arr,index, length)\n",
    "        \n",
    "    for i in range(length-1, 0, -1):\n",
    "        k -= 1\n",
    "        if k == 0:\n",
    "            return arr[0]\n",
    "        arr[0], arr[i] = arr[i], arr[0]\n",
    "        heap_verify(arr, 0, i)\n",
    "    return arr\n",
    "heapSort(arr)"
   ]
  },
  {
   "cell_type": "markdown",
   "metadata": {},
   "source": [
    "# 归并排序"
   ]
  },
  {
   "cell_type": "code",
   "execution_count": 29,
   "metadata": {},
   "outputs": [
    {
     "data": {
      "text/plain": [
       "[512, 51, 21, 12, 5, 4, 3, 2, 1]"
      ]
     },
     "execution_count": 29,
     "metadata": {},
     "output_type": "execute_result"
    }
   ],
   "source": [
    "arr = [4,12,21,51,512,2,5,3,1]\n",
    "def split(arr, start, end):\n",
    "    if start < end:\n",
    "        mid = start + (end - start)//2\n",
    "        split(arr, start, mid)\n",
    "        split(arr, mid+1, end)\n",
    "        merge(arr, start, mid, end)\n",
    "    return arr\n",
    "def merge(arr, start, mid, end):\n",
    "    left, right = start, mid+1\n",
    "    tmp = []\n",
    "    # 大------>小\n",
    "    while left <= mid and right <= end:\n",
    "        if arr[left] >= arr[right]:\n",
    "            tmp.append(arr[left])\n",
    "            left += 1\n",
    "        else:\n",
    "            tmp.append(arr[right])\n",
    "            right += 1\n",
    "    while left <= mid:\n",
    "        tmp.append(arr[left])\n",
    "        left += 1\n",
    "    while right <= end:\n",
    "        tmp.append(arr[right])\n",
    "        right += 1\n",
    "    \n",
    "    for value in tmp:\n",
    "        arr[start] = value\n",
    "        start += 1\n",
    "        \n",
    "        \n",
    "split(arr, 0, len(arr)-1)  "
   ]
  },
  {
   "cell_type": "code",
   "execution_count": 31,
   "metadata": {},
   "outputs": [
    {
     "data": {
      "text/plain": [
       "[512, 51, 21, 12, 5, 4, 3, 2, 1]"
      ]
     },
     "execution_count": 31,
     "metadata": {},
     "output_type": "execute_result"
    }
   ],
   "source": [
    "arr = [4,12,21,51,512,2,5,3,1]\n",
    "def split(arr, start, end):\n",
    "    if start < end:\n",
    "        mid = start + (end - start)//2\n",
    "        split(arr, start, mid)\n",
    "        split(arr, mid+1, end)\n",
    "        merge(arr, start, mid, end)\n",
    "    return arr\n",
    "\n",
    "def merge(arr, start, mid ,end):\n",
    "    i, j = start, mid+1\n",
    "    count = 0 \n",
    "    tmp = [0] * (end - start + 1)\n",
    "    while i <= mid and j <= end:\n",
    "        if arr[i] >= arr[j]:\n",
    "            tmp[count] = arr[i]\n",
    "            i += 1\n",
    "        else:\n",
    "            tmp[count] = arr[j]\n",
    "            j += 1\n",
    "        count += 1\n",
    "    while i<= mid:\n",
    "        tmp[count] = arr[i]\n",
    "        i+=1\n",
    "        count+=1\n",
    "        \n",
    "    while j<= end:\n",
    "        tmp[count] = arr[j]\n",
    "        j+=1\n",
    "        count+=1\n",
    "    \n",
    "    count = 0 \n",
    "    while start <= end:\n",
    "        arr[start] = tmp[count]\n",
    "        start, count = start+1, count+1\n",
    "split(arr, 0, len(arr)-1)"
   ]
  },
  {
   "cell_type": "markdown",
   "metadata": {},
   "source": [
    "# 第k大-------快速选择"
   ]
  },
  {
   "cell_type": "code",
   "execution_count": 45,
   "metadata": {},
   "outputs": [
    {
     "data": {
      "text/plain": [
       "51"
      ]
     },
     "execution_count": 45,
     "metadata": {},
     "output_type": "execute_result"
    }
   ],
   "source": [
    "import random\n",
    "class Solution:\n",
    "    def findKthLargest(self, nums, k: int) -> int:\n",
    "        k = len(nums) - k\n",
    "        l, r = 0, len(nums) - 1\n",
    "        while l < r:\n",
    "            pivot_idnex = self.patition(nums, l, r)\n",
    "            if pivot_idnex == k:\n",
    "                break\n",
    "            elif pivot_idnex > k:\n",
    "                r = pivot_idnex-1\n",
    "            else:\n",
    "                l = pivot_idnex+1\n",
    "        return nums[pivot_idnex]\n",
    "    \n",
    "    def patition(self, a, left, right):\n",
    "        i, j = left, right+1\n",
    "        pivot_index = left\n",
    "        # left 当作pivot index\n",
    "        while 1:\n",
    "            i,j = i+1, j-1\n",
    "            while j > left and a[j] >= a[pivot_index]:\n",
    "                j -= 1\n",
    "            while  i < right and a[i] < a[pivot_index]:\n",
    "                i += 1\n",
    "\n",
    "            if i >= j:\n",
    "                break\n",
    "            \n",
    "            a[i], a[j]  = a[j], a[i]\n",
    "        a[pivot_index], a[j] = a[j], a[pivot_index]\n",
    "        return j\n",
    "cls = Solution()\n",
    "arr = [4,12,21,51,512,2,5,3,1]\n",
    "cls.findKthLargest(arr, 3)"
   ]
  },
  {
   "cell_type": "markdown",
   "metadata": {},
   "source": [
    "# 桶排序"
   ]
  },
  {
   "cell_type": "code",
   "execution_count": 40,
   "metadata": {},
   "outputs": [
    {
     "data": {
      "text/plain": [
       "[1, 2, 3, 4, 5, 12, 21, 51, 512]"
      ]
     },
     "execution_count": 40,
     "metadata": {},
     "output_type": "execute_result"
    }
   ],
   "source": []
  },
  {
   "cell_type": "code",
   "execution_count": 3,
   "metadata": {},
   "outputs": [
    {
     "data": {
      "text/plain": [
       "[512, 51, 21, 12, 5, 4, 3, 2, 1]"
      ]
     },
     "execution_count": 3,
     "metadata": {},
     "output_type": "execute_result"
    }
   ],
   "source": [
    "def bucket_sort(nums):\n",
    "    max_number = max(nums)  # 选择一个最大数\n",
    "    bucket_list = [0] * (max_number+1) # 按照次数建立桶\n",
    "    for i in nums:\n",
    "        bucket_list[i] += 1 # 按桶分装\n",
    "    res = []\n",
    "    for i in range(len(bucket_list)-1, -1, -1): # 正反序遍历， 取决于排序顺序\n",
    "        if bucket_list[i] != 0:\n",
    "            for j in range(bucket_list[i]):\n",
    "                # 每个桶都有个编号，这个编号说明了这个数字，出现了多少次\n",
    "                res.append(i)\n",
    "    return res \n",
    "\n",
    "arr = [4,12,21,51,512,2,5,3,1]\n",
    "bucket_sort(arr)"
   ]
  },
  {
   "cell_type": "markdown",
   "metadata": {},
   "source": [
    "# 前 K 个高频元素 \n",
    "![title](./14.png)"
   ]
  },
  {
   "cell_type": "code",
   "execution_count": 52,
   "metadata": {},
   "outputs": [
    {
     "name": "stdout",
     "output_type": "stream",
     "text": [
      "{1: 3, 6: 4, 4: 2}\n",
      "[[], [], [4], [1], [6]]\n"
     ]
    },
    {
     "data": {
      "text/plain": [
       "[6, 1]"
      ]
     },
     "execution_count": 52,
     "metadata": {},
     "output_type": "execute_result"
    }
   ],
   "source": [
    "def topKfr(nums, k):\n",
    "    record = {}\n",
    "    for value in nums:\n",
    "        record[value] = record.get(value, 0) + 1\n",
    "    length = max(record.values())\n",
    "    print(record)\n",
    "    tmp = [[] for i in range(length+1)]\n",
    "    for key, value in record.items():\n",
    "        tmp[value].append(key)\n",
    "    print(tmp)\n",
    "    res = []\n",
    "    count = -1\n",
    "    while k != 0:\n",
    "        res.extend(tmp[count])\n",
    "        k -= 1\n",
    "        count -= 1\n",
    "    return res\n",
    "    \n",
    "topKfr([1,1,1,6,6,6,6,4,4],2)"
   ]
  },
  {
   "cell_type": "code",
   "execution_count": 99,
   "metadata": {},
   "outputs": [
    {
     "data": {
      "text/plain": [
       "[6, 1]"
      ]
     },
     "execution_count": 99,
     "metadata": {},
     "output_type": "execute_result"
    }
   ],
   "source": [
    "class Solution:\n",
    "    def topKFrequent(self, nums, k: int) :\n",
    "        record = {}\n",
    "        for value in nums:\n",
    "            record[value] = record.get(value, 0) + 1\n",
    "        max_number = max(record.values())  # 最大频次\n",
    "        bucket = [[] for i in range(max_number+1) ]\n",
    "        for key, freq in record.items():\n",
    "            bucket[freq].append(key)\n",
    "        res = []\n",
    "        for index in range(len(bucket)-1, -1, -1):\n",
    "            res.extend(bucket[index])\n",
    "            if len(res) >= k:\n",
    "                return res[:k]\n",
    "        \n",
    "cls = Solution()\n",
    "cls.topKFrequent([1,1,1,6,6,6,6,4,4],2)"
   ]
  },
  {
   "cell_type": "code",
   "execution_count": 100,
   "metadata": {},
   "outputs": [
    {
     "data": {
      "text/plain": [
       "[6, 1]"
      ]
     },
     "execution_count": 100,
     "metadata": {},
     "output_type": "execute_result"
    }
   ],
   "source": [
    "# 桶排序\n",
    "import heapq\n",
    "class Solution:\n",
    "    def topKFrequent(self, nums, k: int) :\n",
    "        recordDict = {}\n",
    "        for i in nums:\n",
    "            recordDict[i] = recordDict.get(i,0) + 1\n",
    "        most_time = max(recordDict.values())\n",
    "        # bucket sort\n",
    "        tong_list = [[] for i in range(most_time+1)]\n",
    "        for key, value in recordDict.items():\n",
    "            tong_list[value].append(key)\n",
    "            # index:[value1, value2, value....n]\n",
    "        res = []\n",
    "        for i in range(len(tong_list)-1, -1, -1):\n",
    "            res.extend(tong_list[i])\n",
    "            if len(res) >= k:\n",
    "                return res[:k]\n",
    "                       \n",
    "cls = Solution()\n",
    "arr = [1,1,1,6,6,6,6,4,4]\n",
    "\n",
    "cls.topKFrequent(arr, 2)"
   ]
  },
  {
   "cell_type": "code",
   "execution_count": null,
   "metadata": {},
   "outputs": [],
   "source": []
  },
  {
   "cell_type": "code",
   "execution_count": 78,
   "metadata": {},
   "outputs": [
    {
     "name": "stdout",
     "output_type": "stream",
     "text": [
      "[1, 6]\n",
      "[(3, 1), (4, 6)]\n",
      "[(3, 1), (4, 6)]\n"
     ]
    },
    {
     "data": {
      "text/plain": [
       "[1, 6]"
      ]
     },
     "execution_count": 78,
     "metadata": {},
     "output_type": "execute_result"
    }
   ],
   "source": [
    "import heapq\n",
    "class Solution:\n",
    "    def topKFrequent(self, nums, k: int) :\n",
    "        hash_={}\n",
    "        for i in nums:\n",
    "            if i not in hash_:\n",
    "                hash_[i]=1\n",
    "            else:\n",
    "                hash_[i]+=1\n",
    "        nums1=list(hash_.keys())\n",
    "        print(nums1[:k])\n",
    "        res=[]\n",
    "        for i in nums1[:k]:\n",
    "            res.append((hash_[i],i))\n",
    "        print(res)\n",
    "        heapq.heapify(res)\n",
    "        print(res)\n",
    "        for i in nums1[k:]:\n",
    "            if hash_[i]>res[0][0]:\n",
    "                heapq.heappop(res)\n",
    "                heapq.heappush(res,(hash_[i],i))\n",
    "        ans=[]\n",
    "        for i in res:\n",
    "            ans.append(i[1])\n",
    "        return ans\n",
    "        \n",
    "cls = Solution()\n",
    "arr = [1,1,1,6,6,6,6,4,4]\n",
    "\n",
    "cls.topKFrequent(arr, 2)"
   ]
  },
  {
   "cell_type": "code",
   "execution_count": null,
   "metadata": {},
   "outputs": [],
   "source": []
  },
  {
   "cell_type": "code",
   "execution_count": null,
   "metadata": {},
   "outputs": [],
   "source": []
  },
  {
   "cell_type": "code",
   "execution_count": null,
   "metadata": {},
   "outputs": [],
   "source": []
  },
  {
   "cell_type": "code",
   "execution_count": null,
   "metadata": {},
   "outputs": [],
   "source": []
  },
  {
   "cell_type": "code",
   "execution_count": null,
   "metadata": {},
   "outputs": [],
   "source": []
  },
  {
   "cell_type": "code",
   "execution_count": null,
   "metadata": {},
   "outputs": [],
   "source": []
  },
  {
   "cell_type": "code",
   "execution_count": null,
   "metadata": {},
   "outputs": [],
   "source": []
  },
  {
   "cell_type": "code",
   "execution_count": null,
   "metadata": {},
   "outputs": [],
   "source": []
  },
  {
   "cell_type": "code",
   "execution_count": null,
   "metadata": {},
   "outputs": [],
   "source": []
  },
  {
   "cell_type": "code",
   "execution_count": null,
   "metadata": {},
   "outputs": [],
   "source": []
  },
  {
   "cell_type": "code",
   "execution_count": null,
   "metadata": {},
   "outputs": [],
   "source": []
  },
  {
   "cell_type": "code",
   "execution_count": null,
   "metadata": {},
   "outputs": [],
   "source": []
  },
  {
   "cell_type": "code",
   "execution_count": null,
   "metadata": {},
   "outputs": [],
   "source": []
  },
  {
   "cell_type": "code",
   "execution_count": null,
   "metadata": {},
   "outputs": [],
   "source": []
  },
  {
   "cell_type": "code",
   "execution_count": null,
   "metadata": {},
   "outputs": [],
   "source": []
  }
 ],
 "metadata": {
  "kernelspec": {
   "display_name": "Python 3",
   "language": "python",
   "name": "python3"
  },
  "language_info": {
   "codemirror_mode": {
    "name": "ipython",
    "version": 3
   },
   "file_extension": ".py",
   "mimetype": "text/x-python",
   "name": "python",
   "nbconvert_exporter": "python",
   "pygments_lexer": "ipython3",
   "version": "3.6.4"
  }
 },
 "nbformat": 4,
 "nbformat_minor": 4
}
