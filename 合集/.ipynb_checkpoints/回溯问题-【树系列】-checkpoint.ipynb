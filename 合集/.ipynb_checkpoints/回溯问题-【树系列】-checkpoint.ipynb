{
 "cells": [
  {
   "cell_type": "markdown",
   "metadata": {},
   "source": [
    "# 回溯问题 可以分为 二叉树类型  和 一般类型"
   ]
  },
  {
   "cell_type": "markdown",
   "metadata": {},
   "source": [
    "# 回溯问题-【树系列】"
   ]
  },
  {
   "cell_type": "markdown",
   "metadata": {},
   "source": [
    "# 1. 公共祖先"
   ]
  },
  {
   "cell_type": "markdown",
   "metadata": {},
   "source": [
    "# ![title](../img/a19.png) "
   ]
  },
  {
   "cell_type": "code",
   "execution_count": 4,
   "metadata": {},
   "outputs": [
    {
     "name": "stdout",
     "output_type": "stream",
     "text": [
      "[6]\n",
      "[2, 8]\n",
      "[0, 4, 7, 9]\n",
      "[3, 5]\n"
     ]
    },
    {
     "data": {
      "text/plain": [
       "2"
      ]
     },
     "execution_count": 4,
     "metadata": {},
     "output_type": "execute_result"
    }
   ],
   "source": [
    "# Definition for a binary tree node.\n",
    "# class TreeNode:\n",
    "#     def __init__(self, x):\n",
    "#         self.val = x\n",
    "#         self.left = None\n",
    "#         self.right = None\n",
    "import tree as Tree\n",
    "tree = Tree.tree\n",
    "arr = [6,2,8,0,4,7,9,-1014,-1014,3,5]\n",
    "root = tree.build_tree(arr, 0)\n",
    "q,p = root.left.left, root.left.right.left\n",
    "\n",
    "tree.bfs(root)\n",
    "class Solution:\n",
    "    def lowestCommonAncestor(self, root, p, q):\n",
    "        # 查找是否存在 有子节点\n",
    "        if root in (None, p, q):\n",
    "            # 不存在 或者  \n",
    "            return root\n",
    "        left = self.lowestCommonAncestor(root.left, p, q)\n",
    "        \n",
    "        right = self.lowestCommonAncestor(root.right, p, q)\n",
    "        if left and right:\n",
    "            # 左右都存在\n",
    "            return root\n",
    "        elif left or right:\n",
    "            # 左右 有一次存在\n",
    "            return left if left else right\n",
    "        \n",
    "        return None\n",
    "        \n",
    "cls = Solution()\n",
    "res = cls.lowestCommonAncestor(root, p, q)\n",
    "res.val"
   ]
  },
  {
   "cell_type": "markdown",
   "metadata": {},
   "source": [
    "# 2 二叉树节点间的最大距离\n",
    "![title](../img/a95.png)"
   ]
  },
  {
   "cell_type": "code",
   "execution_count": 17,
   "metadata": {},
   "outputs": [
    {
     "name": "stdout",
     "output_type": "stream",
     "text": [
      "[1]\n",
      "[2, 3]\n",
      "[4, 5]\n"
     ]
    },
    {
     "data": {
      "text/plain": [
       "3"
      ]
     },
     "execution_count": 17,
     "metadata": {},
     "output_type": "execute_result"
    }
   ],
   "source": [
    "class Solution():\n",
    "    def find(self, root):\n",
    "        res = 0 \n",
    "        def dfs(root):\n",
    "            nonlocal res\n",
    "            if not root:\n",
    "                return 0\n",
    "            left_depth = dfs(root.left)\n",
    "            right_depth = dfs(root.right)\n",
    "            res = max(res, left_depth+right_depth)\n",
    "            return max(left_depth, right_depth) + 1\n",
    "        dfs(root)\n",
    "        return res\n",
    "        \n",
    "cls = Solution()\n",
    "\n",
    "import tree as Tree\n",
    "tree = Tree.tree\n",
    "arr = [1,2,3,4,5]\n",
    "root = tree.build_tree(arr, 0)\n",
    "tree.bfs(root)\n",
    "cls.find(root)"
   ]
  },
  {
   "cell_type": "markdown",
   "metadata": {},
   "source": [
    "# 3 二叉树最大深度\n",
    "![title](../img/106.png)"
   ]
  },
  {
   "cell_type": "code",
   "execution_count": 15,
   "metadata": {},
   "outputs": [
    {
     "name": "stdout",
     "output_type": "stream",
     "text": [
      "[1]\n",
      "[9, 20]\n",
      "[15, 7]\n"
     ]
    },
    {
     "data": {
      "text/plain": [
       "3"
      ]
     },
     "execution_count": 15,
     "metadata": {},
     "output_type": "execute_result"
    }
   ],
   "source": [
    "# Definition for a binary tree node.\n",
    "# class TreeNode:\n",
    "#     def __init__(self, x):\n",
    "#         self.val = x\n",
    "#         self.left = None\n",
    "#         self.right = None\n",
    "\n",
    "class Solution:\n",
    "    def maxDepth(self, root) -> int:\n",
    "        if not root:\n",
    "            return 0\n",
    "        left = self.maxDepth(root.left) + 1\n",
    "        right = self.maxDepth(root.right) + 1\n",
    "        \n",
    "        return max(left, right)\n",
    "    \n",
    "import tree as Tree\n",
    "tree = Tree.tree\n",
    "arr = [1,9,20,-1014,-1014,15,7]\n",
    "root = tree.build_tree(arr, 0)\n",
    "tree.bfs(root)\n",
    "cls = Solution()\n",
    "cls.maxDepth(root)        "
   ]
  },
  {
   "cell_type": "markdown",
   "metadata": {},
   "source": [
    "# 4 二叉树中和为某一值的路径\n",
    "![title](../img/a52.png)"
   ]
  },
  {
   "cell_type": "code",
   "execution_count": 20,
   "metadata": {},
   "outputs": [
    {
     "name": "stdout",
     "output_type": "stream",
     "text": [
      "[5]\n",
      "[4, 8]\n",
      "[11, 13, 4]\n",
      "[7, 2, 5, 1]\n"
     ]
    },
    {
     "data": {
      "text/plain": [
       "[[5, 8, 4, 5], [5, 4, 11, 2]]"
      ]
     },
     "execution_count": 20,
     "metadata": {},
     "output_type": "execute_result"
    }
   ],
   "source": [
    "import tree as Tree\n",
    "tree = Tree.tree\n",
    "arr = [5, 4, 8, 11, -1014, 13, 4, 7, 2, -1014,-1014, -1014, -1014,5, 1]\n",
    "root = tree.build_tree(arr, 0)\n",
    "tree.bfs(root)\n",
    "class Solution:\n",
    "    def pathSum(self, root, value):\n",
    "        res = []\n",
    "        if not root :\n",
    "            return res\n",
    "        def dfs(root, sub_list, rest_value):\n",
    "\n",
    "            if not root:\n",
    "                return \n",
    "            \n",
    "            sub_list.append(root.val)\n",
    "            if rest_value == root.val and root.left == None and root.right ==None:\n",
    "                res.append(sub_list.copy())\n",
    "            \n",
    "            \n",
    "            dfs(root.right, sub_list, rest_value-root.val)\n",
    "            dfs(root.left, sub_list, rest_value-root.val)\n",
    "            sub_list.pop()\n",
    "        dfs(root, [], value)\n",
    "        return res\n",
    "    \n",
    "        \n",
    "cls = Solution()\n",
    "cls.pathSum(root, 22)"
   ]
  },
  {
   "cell_type": "markdown",
   "metadata": {},
   "source": [
    "# 5 对称的二叉树\n",
    "![title](../img/a28.png)"
   ]
  },
  {
   "cell_type": "code",
   "execution_count": 23,
   "metadata": {},
   "outputs": [
    {
     "name": "stdout",
     "output_type": "stream",
     "text": [
      "[1]\n",
      "[2, 2]\n",
      "[3, 4, 4, 3]\n"
     ]
    },
    {
     "data": {
      "text/plain": [
       "True"
      ]
     },
     "execution_count": 23,
     "metadata": {},
     "output_type": "execute_result"
    }
   ],
   "source": [
    "import tree as Tree\n",
    "tree = Tree.tree\n",
    "arr = [1,2,2,3,4,4,3]\n",
    "root = tree.build_tree(arr, 0)\n",
    "tree.bfs(root)\n",
    "class Solution:\n",
    "    \n",
    "    def judge(self, right, left):\n",
    "        if right == None and left == None:\n",
    "            return True\n",
    "        if right == None or left == None or (right.val != left.val):\n",
    "            \n",
    "            return False\n",
    "        \n",
    "        if right.val != left.val:\n",
    "            return False\n",
    "        # 到达最后一个 return 时， left 和 right 的val相等\n",
    "        return self.judge(left.left, right.right) and self.judge(left.right, right.left)\n",
    "    \n",
    "    def isSymmetric(self, root) -> bool:\n",
    "        if root == None:\n",
    "            return True\n",
    "        return self.judge(root.left, root.right)\n",
    "        \n",
    "        \n",
    "            \n",
    "cls = Solution()\n",
    "cls.isSymmetric(root)"
   ]
  },
  {
   "cell_type": "markdown",
   "metadata": {},
   "source": [
    "# 6. 二叉树的右视图\n",
    "![title](../img/108.png)"
   ]
  },
  {
   "cell_type": "code",
   "execution_count": 3,
   "metadata": {},
   "outputs": [
    {
     "name": "stdout",
     "output_type": "stream",
     "text": [
      "[1]\n",
      "[2, 3]\n",
      "[5, 14]\n"
     ]
    },
    {
     "data": {
      "text/plain": [
       "[1, 3, 14]"
      ]
     },
     "execution_count": 3,
     "metadata": {},
     "output_type": "execute_result"
    }
   ],
   "source": [
    "import tree as Tree\n",
    "tree = Tree.tree\n",
    "arr = [1,2,3,-1014,5, 14, -1014]\n",
    "root = tree.build_tree(arr, 0)\n",
    "tree.bfs(root)\n",
    "\n",
    "class Solution:\n",
    "    def rightSideView(self, root: int) :\n",
    "        res = []\n",
    "        def dfs(node, depth):\n",
    "            if  node == None:\n",
    "                return \n",
    "            if depth == len(res):\n",
    "                res.append(node.val)\n",
    "            depth += 1\n",
    "            dfs(node.right, depth)\n",
    "            dfs(node.left, depth)\n",
    "            \n",
    "        dfs(root, 0)\n",
    "        \n",
    "        return res\n",
    "        \n",
    "            \n",
    "cls = Solution()\n",
    "cls.rightSideView(root)"
   ]
  },
  {
   "cell_type": "markdown",
   "metadata": {},
   "source": [
    "# 7 打家劫舍3\n",
    "![title](../img/a61.png)"
   ]
  },
  {
   "cell_type": "code",
   "execution_count": 11,
   "metadata": {},
   "outputs": [
    {
     "name": "stdout",
     "output_type": "stream",
     "text": [
      "[3]\n",
      "[4, 5]\n",
      "[1, 3, 1]\n"
     ]
    },
    {
     "data": {
      "text/plain": [
       "9"
      ]
     },
     "execution_count": 11,
     "metadata": {},
     "output_type": "execute_result"
    }
   ],
   "source": [
    "import tree as Tree\n",
    "class Solution:\n",
    "    def rob(self, root) -> int:\n",
    "        if not root:\n",
    "            return -1 \n",
    "        def dfs(root):\n",
    "            # 返回： rob, not rob\n",
    "            \n",
    "            if not root:\n",
    "                return [0, 0]\n",
    "            left = dfs(root.left)\n",
    "            right = dfs(root.right)\n",
    "            \n",
    "            # 抢劫当前层\n",
    "            rob = left[0] + right[0] + root.val\n",
    "            # 不抢劫\n",
    "            not_rob = max(left) + max(right)\n",
    "\n",
    "            return [not_rob, rob]\n",
    "            \n",
    "        res = dfs(root)\n",
    "            \n",
    "        return  max(res)\n",
    "cls = Solution()\n",
    "arr = [3,4,5,1,3,-1014,1]\n",
    "root = tree.build_tree(arr, 0)\n",
    "tree.bfs(root)\n",
    "\n",
    "cls.rob(root)\n"
   ]
  },
  {
   "cell_type": "markdown",
   "metadata": {},
   "source": [
    "# 8 重建二叉树\n",
    "![title](../img/a45.png)"
   ]
  },
  {
   "cell_type": "code",
   "execution_count": 19,
   "metadata": {},
   "outputs": [
    {
     "name": "stdout",
     "output_type": "stream",
     "text": [
      "[3]\n",
      "[9, 20]\n",
      "[15, 7]\n"
     ]
    }
   ],
   "source": [
    "import tree as Tree\n",
    "tree = Tree.tree\n",
    "class Solution:\n",
    "    def buildTree(self, preorder, inorder) :\n",
    "        if len(inorder) == 0:\n",
    "            return None\n",
    "            \n",
    "        root_val = preorder[0]\n",
    "        root_index = inorder.index(root_val)\n",
    "        \n",
    "        root = tree(root_val)\n",
    "        root.left = self.buildTree(preorder[1: 1 + root_index], inorder[:root_index])\n",
    "        root.right = self.buildTree(preorder[1 + root_index:], inorder[root_index + 1:])\n",
    "        return root\n",
    "            \n",
    "\n",
    "preorder  = [3,9,20,15,7]\n",
    "inorder = [9,3,15,20,7]\n",
    "cls = Solution()\n",
    "res1 = cls.buildTree(preorder, inorder)\n",
    "tree.bfs(res1)"
   ]
  },
  {
   "cell_type": "code",
   "execution_count": null,
   "metadata": {},
   "outputs": [],
   "source": []
  },
  {
   "cell_type": "code",
   "execution_count": null,
   "metadata": {},
   "outputs": [],
   "source": []
  },
  {
   "cell_type": "code",
   "execution_count": null,
   "metadata": {},
   "outputs": [],
   "source": []
  },
  {
   "cell_type": "code",
   "execution_count": null,
   "metadata": {},
   "outputs": [],
   "source": []
  },
  {
   "cell_type": "code",
   "execution_count": null,
   "metadata": {},
   "outputs": [],
   "source": []
  },
  {
   "cell_type": "code",
   "execution_count": null,
   "metadata": {},
   "outputs": [],
   "source": []
  },
  {
   "cell_type": "code",
   "execution_count": null,
   "metadata": {},
   "outputs": [],
   "source": []
  },
  {
   "cell_type": "code",
   "execution_count": null,
   "metadata": {},
   "outputs": [],
   "source": []
  },
  {
   "cell_type": "code",
   "execution_count": null,
   "metadata": {},
   "outputs": [],
   "source": []
  },
  {
   "cell_type": "code",
   "execution_count": null,
   "metadata": {},
   "outputs": [],
   "source": []
  },
  {
   "cell_type": "code",
   "execution_count": null,
   "metadata": {},
   "outputs": [],
   "source": []
  },
  {
   "cell_type": "code",
   "execution_count": null,
   "metadata": {},
   "outputs": [],
   "source": []
  },
  {
   "cell_type": "code",
   "execution_count": null,
   "metadata": {},
   "outputs": [],
   "source": []
  },
  {
   "cell_type": "code",
   "execution_count": null,
   "metadata": {},
   "outputs": [],
   "source": []
  },
  {
   "cell_type": "code",
   "execution_count": null,
   "metadata": {},
   "outputs": [],
   "source": []
  }
 ],
 "metadata": {
  "kernelspec": {
   "display_name": "Python 3",
   "language": "python",
   "name": "python3"
  },
  "language_info": {
   "codemirror_mode": {
    "name": "ipython",
    "version": 3
   },
   "file_extension": ".py",
   "mimetype": "text/x-python",
   "name": "python",
   "nbconvert_exporter": "python",
   "pygments_lexer": "ipython3",
   "version": "3.7.6"
  }
 },
 "nbformat": 4,
 "nbformat_minor": 4
}
