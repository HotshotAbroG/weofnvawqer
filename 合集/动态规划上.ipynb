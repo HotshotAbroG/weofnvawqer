{
 "cells": [
  {
   "cell_type": "markdown",
   "metadata": {},
   "source": [
    "# 1 爬楼梯\n",
    "假设你正在爬楼梯。需要 n 阶你才能到达楼顶。\n",
    "\n",
    "每次你可以爬 1 或 2 个台阶。你有多少种不同的方法可以爬到楼顶呢？\n",
    "\n",
    "注意：给定 n 是一个正整数"
   ]
  },
  {
   "cell_type": "code",
   "execution_count": 3,
   "metadata": {},
   "outputs": [
    {
     "data": {
      "text/plain": [
       "5"
      ]
     },
     "execution_count": 3,
     "metadata": {},
     "output_type": "execute_result"
    }
   ],
   "source": [
    "class Solution:\n",
    "    def climbStairs(self, n: int) -> int:\n",
    "        if n <= 2:\n",
    "            return n\n",
    "        pre, cur = 1, 2\n",
    "        for i in range(2, n):\n",
    "            tmp = cur \n",
    "            cur += pre\n",
    "            pre = tmp\n",
    "        return cur\n",
    "cls = Solution()\n",
    "cls.climbStairs(4)\n",
    "            "
   ]
  },
  {
   "cell_type": "markdown",
   "metadata": {},
   "source": [
    "# 2 打家劫舍\n",
    "你是一个专业的小偷，计划偷窃沿街的房屋。每间房内都藏有一定的现金，\n",
    "\n",
    "影响你偷窃的唯\n",
    "一制约因素就是相邻的房屋装有相互连通的防盗系统，如果两间相邻的房屋在同一晚上被小偷闯入，系统会自动报警。\n",
    "\n",
    "给定一个代表每个房屋存放金额的非负整数数组，计算你在不触动警报装置的情况下，能够偷窃到的最高金额。\n"
   ]
  },
  {
   "cell_type": "code",
   "execution_count": 4,
   "metadata": {},
   "outputs": [
    {
     "data": {
      "text/plain": [
       "4"
      ]
     },
     "execution_count": 4,
     "metadata": {},
     "output_type": "execute_result"
    }
   ],
   "source": [
    "arr = [1,2,3,1]\n",
    "class Solution:\n",
    "    def rob(self, nums) -> int:\n",
    "        length = len(nums)\n",
    "        dp = [0] * (length+1)\n",
    "        dp[1] = nums[0]\n",
    "        for i in range(2, len(nums)+1):\n",
    "            dp[i] = max(dp[i-2]+nums[i-1], dp[i-1])\n",
    "        return dp[-1]\n",
    "cls = Solution()\n",
    "cls.rob(arr)"
   ]
  },
  {
   "cell_type": "code",
   "execution_count": 5,
   "metadata": {},
   "outputs": [
    {
     "data": {
      "text/plain": [
       "4"
      ]
     },
     "execution_count": 5,
     "metadata": {},
     "output_type": "execute_result"
    }
   ],
   "source": [
    "arr = [1,2,3,1]\n",
    "class Solution:\n",
    "    def rob(self, nums) -> int:\n",
    "        pre, cur = 0, 0\n",
    "        for value in nums:\n",
    "            tmp = cur\n",
    "            cur = max(cur, pre+value)\n",
    "            pre = tmp\n",
    "        return cur\n",
    "cls = Solution()\n",
    "cls.rob(arr)"
   ]
  },
  {
   "cell_type": "markdown",
   "metadata": {},
   "source": [
    "# 3. 打家劫舍\n",
    "![title](../img/a61.png)"
   ]
  },
  {
   "cell_type": "code",
   "execution_count": 6,
   "metadata": {},
   "outputs": [
    {
     "name": "stdout",
     "output_type": "stream",
     "text": [
      "[3]\n",
      "[4, 5]\n",
      "[1, 3, 1]\n"
     ]
    }
   ],
   "source": [
    "import tree as Tree\n",
    "tree = Tree.tree\n",
    "arr = [3,4,5,1,3,-1014,1]\n",
    "root = tree.build_tree(arr, 0)\n",
    "tree.bfs(root)"
   ]
  },
  {
   "cell_type": "code",
   "execution_count": 11,
   "metadata": {},
   "outputs": [
    {
     "name": "stdout",
     "output_type": "stream",
     "text": [
      "[3]\n",
      "[4, 5]\n",
      "[1, 4, 1]\n"
     ]
    },
    {
     "data": {
      "text/plain": [
       "10"
      ]
     },
     "execution_count": 11,
     "metadata": {},
     "output_type": "execute_result"
    }
   ],
   "source": [
    "class Solution:\n",
    "    def rob(self, root) -> int:\n",
    "        \n",
    "        def get_max(root):\n",
    "            # return [rob, not_rob]\n",
    "            if not root:\n",
    "                return [0, 0]\n",
    "            left = get_max(root.left)\n",
    "            right = get_max(root.right)\n",
    "            rob_value = left[1] + right[1] + root.val\n",
    "            not_rob_value = max(left) + max(right)\n",
    "            return [rob_value, not_rob_value]\n",
    "        \n",
    "        res = get_max(root)\n",
    "        \n",
    "        return  max(res)\n",
    "cls = Solution()\n",
    "arr = [3,4,5,1,4,-1014, 1]\n",
    "root = tree.build_tree(arr, 0)\n",
    "tree.bfs(root)\n",
    "\n",
    "cls.rob(root)\n"
   ]
  },
  {
   "cell_type": "markdown",
   "metadata": {},
   "source": [
    "# 4. 信件错排\n",
    "\n",
    "![title](./15.png)"
   ]
  },
  {
   "cell_type": "code",
   "execution_count": 19,
   "metadata": {},
   "outputs": [
    {
     "data": {
      "text/plain": [
       "9"
      ]
     },
     "execution_count": 19,
     "metadata": {},
     "output_type": "execute_result"
    }
   ],
   "source": [
    "def palie(num):\n",
    "    if num < 2:\n",
    "        return 0\n",
    "    dp = [0] * (num+1)\n",
    "    dp[2] = 1\n",
    "    for i in range(3, num+1):\n",
    "        dp[i] = (i-1)*(dp[i-1]+dp[i-2])\n",
    "    return dp[-1]\n",
    "palie(4)"
   ]
  },
  {
   "cell_type": "markdown",
   "metadata": {},
   "source": [
    "# 不死神牛\n",
    "假设农场中成熟的母牛每年都会生 1 头小母牛，并且永远不会死。\n",
    "\n",
    "第一年有 1 只小母牛，从第二年开始\n",
    "\n",
    "母牛开始生小母牛。每只小母牛 3 年之后成熟又可以生小母牛。\n",
    "\n",
    "给定整数 N，求 N 年后牛的数量。"
   ]
  },
  {
   "cell_type": "code",
   "execution_count": 25,
   "metadata": {},
   "outputs": [
    {
     "name": "stdout",
     "output_type": "stream",
     "text": [
      "[0, 1, 2, 3, 4, 6]\n"
     ]
    },
    {
     "data": {
      "text/plain": [
       "6"
      ]
     },
     "execution_count": 25,
     "metadata": {},
     "output_type": "execute_result"
    }
   ],
   "source": [
    "def find(year):\n",
    "    if year < 4:\n",
    "        return year\n",
    "    dp = [0] * (year+1)\n",
    "    for i in range(4):\n",
    "        dp[i] = i\n",
    "    # 年份： 1     2      3        4       5      6                                       n\n",
    "    # 牛：   1     2       3     3+1      4+2    6+3（dp[3]中的牛已经可以生了） 。。。。  dp[n-1] + dp[n-3] (已经有的+可以生的)        \n",
    "    for i in range(4, year+1):\n",
    "        dp[i] = dp[i-1] + dp[i-3]\n",
    "    print(dp)\n",
    "\n",
    "    return dp[year]\n",
    "find(5)"
   ]
  },
  {
   "cell_type": "markdown",
   "metadata": {},
   "source": [
    "# 6 矩阵的最小路径和.\n",
    "![title](./16.png)"
   ]
  },
  {
   "cell_type": "code",
   "execution_count": 40,
   "metadata": {},
   "outputs": [
    {
     "name": "stdout",
     "output_type": "stream",
     "text": [
      "[1, 4, 5]\n",
      "[2, 0, 0]\n",
      "[6, 0, 0]\n"
     ]
    },
    {
     "data": {
      "text/plain": [
       "7"
      ]
     },
     "execution_count": 40,
     "metadata": {},
     "output_type": "execute_result"
    }
   ],
   "source": [
    "class Solution:\n",
    "    def minPathSum(self, grid) -> int:\n",
    "        if not grid:\n",
    "            return 0\n",
    "        row, col = len(grid), len(grid[0])\n",
    "        dp = [[0] * (col) for i in range(row)]\n",
    "        dp[0][0] = grid[0][0]\n",
    "        for i in range(1,row):\n",
    "            dp[i][0] = dp[i-1][0] + grid[i][0]\n",
    "        for i in range(1, col):\n",
    "            dp[0][i] = dp[0][i-1] + grid[0][i]\n",
    "            \n",
    "        for i in dp:\n",
    "            print(i)\n",
    "            \n",
    "            \n",
    "        for i in range(1, row):\n",
    "            for j in range(1, col):\n",
    "                \n",
    "                dp[i][j] = min(dp[i-1][j], dp[i][j-1]) + grid[i][j]\n",
    "        return dp.pop().pop()\n",
    "grid = [\n",
    "  [1,3,1],\n",
    "  [1,5,1],\n",
    "  [4,2,1]\n",
    "]\n",
    "cls = Solution()\n",
    "cls.minPathSum(grid)"
   ]
  },
  {
   "cell_type": "markdown",
   "metadata": {},
   "source": [
    "# 7 区域和检索 - 数组不可变\n",
    "![title](./17.png)"
   ]
  },
  {
   "cell_type": "code",
   "execution_count": 58,
   "metadata": {},
   "outputs": [
    {
     "name": "stdout",
     "output_type": "stream",
     "text": [
      "[0, -2, -2, 1, -4, -2, -3]\n"
     ]
    },
    {
     "data": {
      "text/plain": [
       "-2"
      ]
     },
     "execution_count": 58,
     "metadata": {},
     "output_type": "execute_result"
    }
   ],
   "source": [
    "class NumArray(object):\n",
    "\n",
    "    def __init__(self, nums):\n",
    "        \"\"\"\n",
    "        :type nums: List[int]\n",
    "        \"\"\"\n",
    " \n",
    "        # 先创建列表空间\n",
    "        '''\n",
    "        self.sums = [0]*(len(nums)+1)\n",
    "        for i in range(1,len(nums)+1):\n",
    "            self.sums[i] = self.sums[i-1] + nums[i-1]\n",
    "        '''\n",
    "        # 利用append实现动态计算累加值，动态添加至列表\n",
    "        self.sums = [0] * (len(nums)+1)\n",
    "        for i in range(1, len(nums)+1):\n",
    "            self.sums[i] = self.sums[i-1]+nums[i-1]\n",
    "\n",
    "\n",
    "\n",
    "    def sumRange(self, i, j):\n",
    "        \"\"\"\n",
    "        :type i: int\n",
    "        :type j: int\n",
    "        :rtype: int\n",
    "        \"\"\"\n",
    "        return self.sums[j+1]-self.sums[i]\n",
    "        \n",
    " \n",
    "nums = [-2, 0, 3, -5, 2, -1]\n",
    "cls = NumArray(nums)\n",
    "cls.sumRange(1, 3)\n",
    "        "
   ]
  },
  {
   "cell_type": "markdown",
   "metadata": {},
   "source": [
    "# 8 等差数列划分\n",
    " \n",
    "![title](./18.png)"
   ]
  },
  {
   "cell_type": "code",
   "execution_count": 70,
   "metadata": {},
   "outputs": [
    {
     "name": "stdout",
     "output_type": "stream",
     "text": [
      "[0, 0, 1, 2, 0, 0, 1]\n"
     ]
    },
    {
     "data": {
      "text/plain": [
       "4"
      ]
     },
     "execution_count": 70,
     "metadata": {},
     "output_type": "execute_result"
    }
   ],
   "source": [
    "class Solution:\n",
    "    def numberOfArithmeticSlices(self, A) -> int:\n",
    "        if not A or len(A) < 3:\n",
    "            return 0\n",
    "        dp = [0] * len(A)\n",
    "        # dp[i]： 以 A[i] 为结尾的等差数列个数\n",
    "        # dp[2] = 1 : 1-2-3\n",
    "        # dp[3] = 2 : 2-3-4, 1-2-3-4\n",
    "        res = 0 \n",
    "        for i in range(2, len(A)):\n",
    "            if A[i] - A[i-1] == A[i - 1] - A[i - 2]:\n",
    "                dp[i] = 1 + dp[i-1]\n",
    "                res += dp[i]\n",
    "        print(dp)\n",
    "        return res\n",
    "cls = Solution()\n",
    "cls.numberOfArithmeticSlices([1,2,3,4,8,9,10])"
   ]
  },
  {
   "cell_type": "code",
   "execution_count": 77,
   "metadata": {},
   "outputs": [
    {
     "data": {
      "text/plain": [
       "4"
      ]
     },
     "execution_count": 77,
     "metadata": {},
     "output_type": "execute_result"
    }
   ],
   "source": [
    "# 优化版本\n",
    "class Solution:\n",
    "    def numberOfArithmeticSlices(self, A) -> int:\n",
    "        if not A or len(A) < 3:\n",
    "            return 0\n",
    "\n",
    "        # dp[i]： 以 A[i] 为结尾的等差数列个数\n",
    "        # dp[2] = 1 : 1-2-3\n",
    "        # dp[3] = 2 : 2-3-4, 1-2-3-4\n",
    "        res = 0 \n",
    "        pre, cur = 0, 0\n",
    "        for i in range(2, len(A)):\n",
    "            if A[i] - A[i-1] == A[i - 1] - A[i - 2]:\n",
    "                cur = 1 + pre\n",
    "                res += cur\n",
    "            else:\n",
    "                cur = 0\n",
    "            pre = cur\n",
    " \n",
    "        return res\n",
    "cls = Solution()\n",
    "cls.numberOfArithmeticSlices([1,2,3,4,8,9,10])"
   ]
  },
  {
   "cell_type": "markdown",
   "metadata": {},
   "source": [
    "# 最长等差序列\n"
   ]
  },
  {
   "cell_type": "code",
   "execution_count": 80,
   "metadata": {},
   "outputs": [
    {
     "name": "stdout",
     "output_type": "stream",
     "text": [
      "[{}, {}, {}, {}, {}, {}, {}]\n"
     ]
    },
    {
     "data": {
      "text/plain": [
       "4"
      ]
     },
     "execution_count": 80,
     "metadata": {},
     "output_type": "execute_result"
    }
   ],
   "source": [
    "class Solution:\n",
    "    def longestArithSeqLength(self, A) -> int:\n",
    "        dp = [{} for _ in range(len(A))]\n",
    "        # 二维 ： \n",
    "        # 行： 以i为结尾的\n",
    "        # 列： 差值\n",
    "        # dp{index][j]: 表示 以 index为结尾的，插值为 j 的最长等差序列长度\n",
    "        print(dp)\n",
    "        max_ans = 1\n",
    "        for i in range(1,len(A)):\n",
    "            for j in range(i):\n",
    "                dp[i][A[i] - A[j]] = dp[j].get(A[i] - A[j],1) + 1\n",
    "                max_ans = max(max_ans,dp[i][A[i] - A[j]])\n",
    "        return max_ans\n",
    "\n",
    "cls = Solution()\n",
    "arr = [20,1,15,3,10,5,8]\n",
    "cls.longestArithSeqLength(arr)"
   ]
  },
  {
   "cell_type": "code",
   "execution_count": 83,
   "metadata": {},
   "outputs": [
    {
     "data": {
      "text/plain": [
       "4"
      ]
     },
     "execution_count": 83,
     "metadata": {},
     "output_type": "execute_result"
    }
   ],
   "source": [
    "class Solution():\n",
    "    def longestArithSeqLength(self, nums):\n",
    "        dp = [{} for i in range(len(nums))]\n",
    "        res = 1\n",
    "        for i in range(len(nums)):\n",
    "            for j in range():\n",
    "                diff = nums[i] - nums[j]\n",
    "                \n",
    "                dp[i][diff] = dp[j].get(diff, 1) + 1\n",
    "                res = max(res, dp[i][diff])\n",
    "        return res\n",
    "\n",
    "cls = Solution()\n",
    "arr = [20,1,15,3,10,5,8]\n",
    "cls.longestArithSeqLength(arr)"
   ]
  },
  {
   "cell_type": "code",
   "execution_count": null,
   "metadata": {},
   "outputs": [],
   "source": [
    "class Solution:\n",
    "    def integerBreak(self, n: int) -> int:\n",
    "        dp = [0 for i in range(n+1)]\n",
    "        dp[1] = 1\n",
    "        for i in range(2,n+1,1):\n",
    "            j = i-1 \n",
    "            while j>= 1:\n",
    "                dp[i] = max([dp[i],dp[j]*(i-j),j*(i-j)])               \n",
    "                j -=1\n",
    "        return dp[n]"
   ]
  },
  {
   "cell_type": "code",
   "execution_count": null,
   "metadata": {},
   "outputs": [],
   "source": []
  },
  {
   "cell_type": "code",
   "execution_count": null,
   "metadata": {},
   "outputs": [],
   "source": []
  },
  {
   "cell_type": "code",
   "execution_count": null,
   "metadata": {},
   "outputs": [],
   "source": []
  },
  {
   "cell_type": "code",
   "execution_count": null,
   "metadata": {},
   "outputs": [],
   "source": []
  },
  {
   "cell_type": "code",
   "execution_count": null,
   "metadata": {},
   "outputs": [],
   "source": []
  },
  {
   "cell_type": "code",
   "execution_count": null,
   "metadata": {},
   "outputs": [],
   "source": []
  },
  {
   "cell_type": "code",
   "execution_count": null,
   "metadata": {},
   "outputs": [],
   "source": []
  },
  {
   "cell_type": "code",
   "execution_count": null,
   "metadata": {},
   "outputs": [],
   "source": []
  },
  {
   "cell_type": "code",
   "execution_count": null,
   "metadata": {},
   "outputs": [],
   "source": []
  },
  {
   "cell_type": "code",
   "execution_count": null,
   "metadata": {},
   "outputs": [],
   "source": []
  },
  {
   "cell_type": "code",
   "execution_count": null,
   "metadata": {},
   "outputs": [],
   "source": []
  },
  {
   "cell_type": "code",
   "execution_count": null,
   "metadata": {},
   "outputs": [],
   "source": []
  }
 ],
 "metadata": {
  "kernelspec": {
   "display_name": "Python 3",
   "language": "python",
   "name": "python3"
  },
  "language_info": {
   "codemirror_mode": {
    "name": "ipython",
    "version": 3
   },
   "file_extension": ".py",
   "mimetype": "text/x-python",
   "name": "python",
   "nbconvert_exporter": "python",
   "pygments_lexer": "ipython3",
   "version": "3.7.6"
  }
 },
 "nbformat": 4,
 "nbformat_minor": 4
}
