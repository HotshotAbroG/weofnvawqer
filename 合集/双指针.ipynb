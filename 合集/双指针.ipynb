{
 "cells": [
  {
   "cell_type": "markdown",
   "metadata": {},
   "source": [
    "# 1. 有序数组的 Two Sum"
   ]
  },
  {
   "cell_type": "markdown",
   "metadata": {},
   "source": [
    "# 1\n",
    "Input: numbers={2, 7, 11, 15}, target=9\n",
    "Output: index1=1, index2=2\n",
    "题目描述：在有序数组中找出两个数，使它们的和为 target。\n",
    "\n",
    "使用双指针，一个指针指向值较小的元素，一个指针指向值较大的元素。指向较小元素的指针从头向尾遍历，指向较大元素的指针从尾向头遍历。"
   ]
  },
  {
   "cell_type": "code",
   "execution_count": 2,
   "metadata": {},
   "outputs": [
    {
     "data": {
      "text/plain": [
       "[1, 2]"
      ]
     },
     "execution_count": 2,
     "metadata": {},
     "output_type": "execute_result"
    }
   ],
   "source": [
    "class Solution:\n",
    "    def find(self, nums, target):\n",
    "        left, right = 0, len(nums)-1\n",
    "        while left < right:\n",
    "            value = nums[left] + nums[right]\n",
    "            if value > target:\n",
    "                right -= 1\n",
    "            elif value < target:\n",
    "                left += 1\n",
    "            else:\n",
    "                return [left+1, 1+right]\n",
    "        return -1\n",
    "cls = Solution()\n",
    "cls.find([2,7,11,15], 9)"
   ]
  },
  {
   "cell_type": "markdown",
   "metadata": {},
   "source": [
    "# 2. 平方数之和\n",
    "\n",
    "![title](./a1.png)"
   ]
  },
  {
   "cell_type": "code",
   "execution_count": 22,
   "metadata": {},
   "outputs": [
    {
     "name": "stdout",
     "output_type": "stream",
     "text": [
      "1 2\n"
     ]
    },
    {
     "data": {
      "text/plain": [
       "True"
      ]
     },
     "execution_count": 22,
     "metadata": {},
     "output_type": "execute_result"
    }
   ],
   "source": [
    "import math\n",
    "class Solution:\n",
    "    def judgeSquareSum(self, c: int) -> bool:\n",
    "        if c < 0:\n",
    "            return False\n",
    "        length = int(math.sqrt(c))\n",
    "        left, right = 0, length\n",
    "        while left <= right:\n",
    "            value = left*left + right*right\n",
    "            if value > c:\n",
    "                right -= 1\n",
    "            elif value < c:\n",
    "                left += 1\n",
    "            else:\n",
    "                print(left, right)\n",
    "                return True\n",
    "        return False\n",
    "        \n",
    "        \n",
    "cls = Solution()\n",
    "cls.judgeSquareSum(5)"
   ]
  },
  {
   "cell_type": "markdown",
   "metadata": {},
   "source": [
    "# 3 反转字符串中的元音字母\n",
    "\n",
    "![title](./a2.png)"
   ]
  },
  {
   "cell_type": "code",
   "execution_count": 44,
   "metadata": {},
   "outputs": [
    {
     "data": {
      "text/plain": [
       "'sae'"
      ]
     },
     "execution_count": 44,
     "metadata": {},
     "output_type": "execute_result"
    }
   ],
   "source": [
    "class Solution:\n",
    "    def reverseVowels(self, s: str) -> str:\n",
    "        record = ['a', 'e', 'i', 'o', 'u', 'A', 'E', 'I', 'O', 'U']\n",
    "        \n",
    "        s = list(s)\n",
    "        left, right = 0, len(s)-1\n",
    "        while left < right:\n",
    "            if s[left] in record and s[right] in record:\n",
    "\n",
    "                s[left], s[right] = s[right], s[left]\n",
    "                left, right = left+1, right-1\n",
    "            \n",
    "            elif not (s[left] in record or s[right] in record):\n",
    "                left, right = left+1, right-1\n",
    "                \n",
    "            else:\n",
    "                if s[left] in record:\n",
    "                    right -= 1\n",
    "                else:\n",
    "                    left += 1\n",
    "        return \"\".join(s)\n",
    "cls = Solution()\n",
    "cls.reverseVowels(\"sea\")"
   ]
  },
  {
   "cell_type": "markdown",
   "metadata": {},
   "source": [
    "# 4 验证回文字符串 Ⅱ\n",
    "\n",
    "![title](./a3.png)"
   ]
  },
  {
   "cell_type": "code",
   "execution_count": 65,
   "metadata": {},
   "outputs": [
    {
     "data": {
      "text/plain": [
       "True"
      ]
     },
     "execution_count": 65,
     "metadata": {},
     "output_type": "execute_result"
    }
   ],
   "source": [
    "class Solution:\n",
    "    def validPalindrome(self, s: str) -> bool:\n",
    "\n",
    "        left, right = 0, len(s)-1\n",
    "        while left < right:\n",
    "            if s[left] != s[right]:\n",
    "                return self.judge(s,left+1, right) or self.judge(s,left, right-1)\n",
    "            else:\n",
    "                left, right =  left+1, right-1\n",
    "            \n",
    "        return True\n",
    "    \n",
    "    def judge(self, s, left, right):\n",
    "        while left < right:\n",
    "            if s[left] != s[right]:\n",
    "                return False\n",
    "            left, right = left+1, right-1\n",
    "        return True\n",
    "cls = Solution()\n",
    "cls.validPalindrome(\"abca\")"
   ]
  },
  {
   "cell_type": "markdown",
   "metadata": {},
   "source": [
    "# 5. 合并两个有序数组\n",
    "\n",
    "![title](./a4.png)"
   ]
  },
  {
   "cell_type": "code",
   "execution_count": 68,
   "metadata": {},
   "outputs": [
    {
     "name": "stdout",
     "output_type": "stream",
     "text": [
      "[1, 2, 2, 3, 5, 6]\n"
     ]
    }
   ],
   "source": [
    "class Solution:\n",
    "    def merge(self, nums1, m: int, nums2, n: int) -> None:\n",
    "        \"\"\"\n",
    "        Do not return anything, modify nums1 in-place instead.\n",
    "        \"\"\"\n",
    "        end = m+n -1\n",
    "        m, n = m-1, n-1\n",
    "        while m>=0 and n>=0:\n",
    "            if nums1[m] > nums2[n]:\n",
    "                nums1[end] = nums1[m]\n",
    "                m -= 1\n",
    "            else:\n",
    "                nums1[end] = nums2[n]\n",
    "                n -= 1\n",
    "            end -= 1\n",
    "    \n",
    "cls = Solution()\n",
    "cls.merge([1,2,3,0,0,0],3,[2,5,6],3)"
   ]
  },
  {
   "cell_type": "markdown",
   "metadata": {},
   "source": [
    "# 6.环形链表\n",
    "\n",
    "![title](./a5.png)"
   ]
  },
  {
   "cell_type": "code",
   "execution_count": 10,
   "metadata": {},
   "outputs": [
    {
     "name": "stdout",
     "output_type": "stream",
     "text": [
      "320-4"
     ]
    }
   ],
   "source": [
    "import node \n",
    "listnode = node.listNode\n",
    "head = listnode(3)\n",
    "x1 = listnode(2)\n",
    "x2 = listnode(0)\n",
    "x3 = listnode(-4)\n",
    "head.next = x1\n",
    "x1.next = x2\n",
    "x2.next = x3\n",
    "x3.next = x2\n",
    "tmp = head \n",
    "for i in range(4):\n",
    "    print(tmp.val,end=\"\")\n",
    "    tmp = tmp.next"
   ]
  },
  {
   "cell_type": "code",
   "execution_count": 14,
   "metadata": {},
   "outputs": [
    {
     "data": {
      "text/plain": [
       "True"
      ]
     },
     "execution_count": 14,
     "metadata": {},
     "output_type": "execute_result"
    }
   ],
   "source": [
    "class Solution:\n",
    "    def hasCycle(self, head) -> bool:\n",
    "        if not head or not head.next or not head.next.next:\n",
    "            return False\n",
    "        slow, fast = head, head\n",
    "        while slow and fast:\n",
    "            fast = fast.next\n",
    "            if not fast:\n",
    "                return False\n",
    "            if fast == slow:\n",
    "                return True\n",
    "            fast = fast.next\n",
    "            slow = slow.next\n",
    "        return False\n",
    "cls = Solution()\n",
    "cls.hasCycle(head)"
   ]
  },
  {
   "cell_type": "markdown",
   "metadata": {},
   "source": [
    "# 7 寻找链表重点"
   ]
  },
  {
   "cell_type": "code",
   "execution_count": 16,
   "metadata": {},
   "outputs": [
    {
     "name": "stdout",
     "output_type": "stream",
     "text": [
      "1  2  3  4  5  6  7  8  9  \n"
     ]
    }
   ],
   "source": [
    "import node \n",
    "listnode = node.listNode\n",
    "head = listnode.build_listNode(list(range(1,10)))\n",
    "node.listNode.show(head)"
   ]
  },
  {
   "cell_type": "code",
   "execution_count": 22,
   "metadata": {},
   "outputs": [
    {
     "name": "stdout",
     "output_type": "stream",
     "text": [
      "mid node:  5\n"
     ]
    }
   ],
   "source": [
    "def find_mid(head):\n",
    "    if not head or not head.next:\n",
    "        return -1\n",
    "    slow,fast = head, head.next\n",
    "    while fast and fast.next:\n",
    "        fast = fast.next.next\n",
    "        slow =  slow.next\n",
    "        \n",
    "        \n",
    "    \n",
    "    print(\"mid node: \", slow.val)\n",
    "find_mid(head)"
   ]
  },
  {
   "cell_type": "markdown",
   "metadata": {},
   "source": [
    "# 8 链表排序"
   ]
  },
  {
   "cell_type": "code",
   "execution_count": 25,
   "metadata": {},
   "outputs": [
    {
     "name": "stdout",
     "output_type": "stream",
     "text": [
      "5  0  1  8  4  5  \n",
      "8  5  5  4  1  0  \n"
     ]
    }
   ],
   "source": [
    "\n",
    "class Solution:\n",
    "    def sortList(self, head):\n",
    "        if not head or not head.next:\n",
    "            # None , head\n",
    "            return head\n",
    "        slow, fast = head, head.next\n",
    "        while fast and fast.next:\n",
    "            slow = slow.next\n",
    "            fast = fast.next.next\n",
    "        new_head = slow.next # 另一半链表的head\n",
    "        slow.next = None # 断开连接\n",
    "        left = self.sortList(head)\n",
    "        right = self.sortList(new_head)\n",
    "        \n",
    "        tmp = node.listNode(0)\n",
    "        res = tmp\n",
    "        while left and right:\n",
    "            # 归并过程\n",
    "            if left.val < right.val:\n",
    "                tmp.next = right\n",
    "                right = right.next\n",
    "            else:\n",
    "                tmp.next = left\n",
    "                left = left.next\n",
    "            tmp = tmp.next\n",
    "        tmp.next = left if left else right\n",
    "        return res.next\n",
    "    \n",
    "import node\n",
    "listNode = node.listNode\n",
    "root1 = listNode.build_listNode([5, 0, 1, 8, 4, 5])\n",
    "listNode.show(root1)\n",
    "cls =Solution()\n",
    "r = cls.sortList(root1)\n",
    "listNode.show(r)"
   ]
  },
  {
   "cell_type": "markdown",
   "metadata": {},
   "source": [
    "# 9 通过删除字母匹配到字典里最长单词\n",
    "![title](./a6.png)"
   ]
  },
  {
   "cell_type": "code",
   "execution_count": 29,
   "metadata": {},
   "outputs": [
    {
     "data": {
      "text/plain": [
       "'ab'"
      ]
     },
     "execution_count": 29,
     "metadata": {},
     "output_type": "execute_result"
    }
   ],
   "source": [
    "class Solution:\n",
    "    def findLongestWord(self, s: str, d) -> str:\n",
    "        result = \"\" # string\n",
    "        for word in d:\n",
    "            if len(result) > len(word) or (len(result)==len(word) and result<word): \n",
    "                continue\n",
    "            if self.is_sub_string(s, word):\n",
    "                result = word\n",
    "        return result\n",
    "            \n",
    "    \n",
    "    def is_sub_string(self, src, trg):\n",
    "        \n",
    "        src_pointer, trg_point = 0, 0\n",
    "        while src_pointer < len(src) and trg_point < len(trg):\n",
    "            if src[src_pointer] == trg[trg_point]:\n",
    "                trg_point = trg_point+1\n",
    "            src_pointer += 1\n",
    "        return trg_point == len(trg)\n",
    "cls = Solution()\n",
    "cls.findLongestWord(\"bab\", [\"ba\",\"ab\",\"a\",\"b\"])"
   ]
  },
  {
   "cell_type": "code",
   "execution_count": 28,
   "metadata": {},
   "outputs": [
    {
     "data": {
      "text/plain": [
       "True"
      ]
     },
     "execution_count": 28,
     "metadata": {},
     "output_type": "execute_result"
    }
   ],
   "source": [
    "\"ba\" > \"ab\""
   ]
  },
  {
   "cell_type": "code",
   "execution_count": null,
   "metadata": {},
   "outputs": [],
   "source": []
  },
  {
   "cell_type": "code",
   "execution_count": null,
   "metadata": {},
   "outputs": [],
   "source": []
  },
  {
   "cell_type": "code",
   "execution_count": null,
   "metadata": {},
   "outputs": [],
   "source": []
  },
  {
   "cell_type": "code",
   "execution_count": null,
   "metadata": {},
   "outputs": [],
   "source": []
  },
  {
   "cell_type": "code",
   "execution_count": null,
   "metadata": {},
   "outputs": [],
   "source": []
  },
  {
   "cell_type": "code",
   "execution_count": null,
   "metadata": {},
   "outputs": [],
   "source": []
  },
  {
   "cell_type": "code",
   "execution_count": null,
   "metadata": {},
   "outputs": [],
   "source": []
  },
  {
   "cell_type": "code",
   "execution_count": null,
   "metadata": {},
   "outputs": [],
   "source": []
  },
  {
   "cell_type": "code",
   "execution_count": null,
   "metadata": {},
   "outputs": [],
   "source": []
  },
  {
   "cell_type": "code",
   "execution_count": null,
   "metadata": {},
   "outputs": [],
   "source": []
  },
  {
   "cell_type": "code",
   "execution_count": null,
   "metadata": {},
   "outputs": [],
   "source": []
  },
  {
   "cell_type": "code",
   "execution_count": null,
   "metadata": {},
   "outputs": [],
   "source": []
  },
  {
   "cell_type": "code",
   "execution_count": null,
   "metadata": {},
   "outputs": [],
   "source": []
  },
  {
   "cell_type": "code",
   "execution_count": null,
   "metadata": {},
   "outputs": [],
   "source": []
  },
  {
   "cell_type": "code",
   "execution_count": null,
   "metadata": {},
   "outputs": [],
   "source": []
  },
  {
   "cell_type": "code",
   "execution_count": null,
   "metadata": {},
   "outputs": [],
   "source": []
  },
  {
   "cell_type": "code",
   "execution_count": null,
   "metadata": {},
   "outputs": [],
   "source": []
  }
 ],
 "metadata": {
  "kernelspec": {
   "display_name": "Python 3",
   "language": "python",
   "name": "python3"
  },
  "language_info": {
   "codemirror_mode": {
    "name": "ipython",
    "version": 3
   },
   "file_extension": ".py",
   "mimetype": "text/x-python",
   "name": "python",
   "nbconvert_exporter": "python",
   "pygments_lexer": "ipython3",
   "version": "3.7.6"
  }
 },
 "nbformat": 4,
 "nbformat_minor": 4
}
