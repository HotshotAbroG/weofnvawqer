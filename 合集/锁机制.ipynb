{
 "cells": [
  {
   "cell_type": "markdown",
   "metadata": {},
   "source": [
    "# 基本的多线程"
   ]
  },
  {
   "cell_type": "code",
   "execution_count": 14,
   "metadata": {},
   "outputs": [
    {
     "name": "stdout",
     "output_type": "stream",
     "text": [
      "this thread 1 startthis thread 2 start\n",
      "\n",
      "this thread 2 end\n",
      "all thread finish!\n",
      "this thread 1 finish\n"
     ]
    }
   ],
   "source": [
    "import threading\n",
    "import time \n",
    "def t1():\n",
    "    print(\"this thread 1 start\")\n",
    "    time.sleep(1)\n",
    "    print(\"this thread 1 finish\")\n",
    "def t2():\n",
    "    print(\"this thread 2 start\")\n",
    "    print(\"this thread 2 end\")\n",
    "th1 = threading.Thread(target = t1, name =\"nyquist\")\n",
    "th2 = threading.Thread(target = t2, name = \"lagrange\")\n",
    "th1.start()\n",
    "th2.start()\n",
    "print(\"all thread finish!\")"
   ]
  },
  {
   "cell_type": "markdown",
   "metadata": {},
   "source": [
    "# 2. 现在想让 thread 1 执行完了，在执行thread2, 都执行完毕后，执行 end\n"
   ]
  },
  {
   "cell_type": "code",
   "execution_count": 15,
   "metadata": {},
   "outputs": [
    {
     "name": "stdout",
     "output_type": "stream",
     "text": [
      "this thread 1 start\n",
      "this thread 1 finish\n",
      "this thread 2 start\n",
      "this thread 2 end\n",
      "all thread finish!\n"
     ]
    }
   ],
   "source": [
    "import threading\n",
    "import time \n",
    "def t1():\n",
    "    print(\"this thread 1 start\")\n",
    "    time.sleep(1)\n",
    "    print(\"this thread 1 finish\")\n",
    "def t2():\n",
    "    print(\"this thread 2 start\")\n",
    "    print(\"this thread 2 end\")\n",
    "    \n",
    "th1 = threading.Thread(target = t1, name =\"nyquist\")\n",
    "th2 = threading.Thread(target = t2, name = \"lagrange\")\n",
    "th1.start()\n",
    "th1.join()\n",
    "th2.start()\n",
    "th2.join()\n",
    "print(\"all thread finish!\")"
   ]
  },
  {
   "cell_type": "markdown",
   "metadata": {},
   "source": [
    "# 多个进程对同一个变量进行访问\n",
    "# 直接使用多线程会发生问题"
   ]
  },
  {
   "cell_type": "code",
   "execution_count": 1,
   "metadata": {},
   "outputs": [
    {
     "name": "stdout",
     "output_type": "stream",
     "text": [
      "thread1 number:  2\n",
      "thread2 number:  16\n",
      "thread1 number:  17\n",
      "thread2 number:  136\n",
      "thread1 number:  137\n",
      "thread2 number:  1096\n",
      "thread1 number:  1097\n",
      "thread2 number:  8776\n",
      "thread1 number:  8777\n",
      "thread2 number:  70216\n",
      "thread1 number:  70217\n",
      "thread2 number:  561736\n",
      "thread1 number:  561737\n",
      "thread2 number:  4493896\n",
      "thread1 number:  4493897\n",
      "thread2 number:  35951176\n",
      "thread1 number:  35951177\n",
      "thread2 number:  287609416\n",
      "thread1 number:  287609417\n",
      "thread2 number:  2300875336\n"
     ]
    }
   ],
   "source": [
    "import threading\n",
    "import time \n",
    "number = 1\n",
    "def add1():\n",
    "    global number \n",
    "    for i in range(10):\n",
    "        number += 1\n",
    "        print(\"thread1 number: \", number)\n",
    "        time.sleep(0.5)\n",
    "\n",
    "def add2():\n",
    "    global number \n",
    "    for i in range(10):\n",
    "        number *= 8\n",
    "        print(\"thread2 number: \", number)\n",
    "        time.sleep(0.5)\n",
    "th1 = threading.Thread(target = add1)\n",
    "th2 = threading.Thread(target = add2)\n",
    "th1.start()\n",
    "th2.start()\n"
   ]
  },
  {
   "cell_type": "markdown",
   "metadata": {},
   "source": [
    "# 加入 锁机制"
   ]
  },
  {
   "cell_type": "code",
   "execution_count": 22,
   "metadata": {},
   "outputs": [
    {
     "name": "stdout",
     "output_type": "stream",
     "text": [
      "thread1 number:  2\n",
      "thread1 number:  3\n",
      "thread1 number:  4\n",
      "thread1 number:  5\n",
      "thread1 number:  6\n",
      "thread1 number:  7\n",
      "thread1 number:  8\n",
      "thread1 number:  9\n",
      "thread1 number:  10\n",
      "thread1 number:  11\n",
      "\n",
      "\n",
      "\n",
      "thread2 number:  88\n",
      "thread2 number:  704\n",
      "thread2 number:  5632\n",
      "thread2 number:  45056\n",
      "thread2 number:  360448\n",
      "thread2 number:  2883584\n",
      "thread2 number:  23068672\n",
      "thread2 number:  184549376\n",
      "thread2 number:  1476395008\n",
      "thread2 number:  11811160064\n"
     ]
    }
   ],
   "source": [
    "import threading\n",
    "import time \n",
    "number = 1\n",
    "lock = threading.Lock()\n",
    "def add1():\n",
    "    global number, lock\n",
    "    lock.acquire()\n",
    "    for i in range(10):\n",
    "        number += 1\n",
    "        print(\"thread1 number: \", number)\n",
    "        time.sleep(0.5)\n",
    "    print(\"\\n\\n\")\n",
    "    lock.release()\n",
    "\n",
    "def add2():\n",
    "    global number, lock\n",
    "    lock.acquire()\n",
    "    for i in range(10):\n",
    "        number *= 8\n",
    "        print(\"thread2 number: \", number)\n",
    "        time.sleep(0.5)\n",
    "    lock.release()\n",
    "        \n",
    "th1 = threading.Thread(target = add1)\n",
    "th2 = threading.Thread(target = add2)\n",
    "th1.start()\n",
    "th2.start()\n"
   ]
  },
  {
   "cell_type": "markdown",
   "metadata": {},
   "source": [
    "# 问题1: 什么时候会释放Gil锁,\n",
    " \n",
    "1 遇到像 i/o操作这种 会有时间空闲情况 造成cpu闲置的情况会释放Gil\n",
    "\n",
    "2 会有一个专门ticks进行计数 一旦ticks数值达到100 这个时候释放Gil锁 线程之间开始竞争Gil锁\n",
    "\n",
    "(说明:\n",
    "    ticks这个数值可以进行设置来延长或者缩减获得Gil锁的线程使用cpu的时间)\n",
    "\n",
    "# 问题2: 互斥锁和Gil锁的关系\n",
    "\n",
    "Gil锁  : 保证同一时刻只有一个线程能使用到cpu\n",
    "\n",
    "互斥锁 : 多线程时,保证修改共享数据时有序的修改,不会产生数据修改混乱\n"
   ]
  },
  {
   "cell_type": "code",
   "execution_count": null,
   "metadata": {},
   "outputs": [],
   "source": []
  },
  {
   "cell_type": "code",
   "execution_count": null,
   "metadata": {},
   "outputs": [],
   "source": []
  },
  {
   "cell_type": "code",
   "execution_count": null,
   "metadata": {},
   "outputs": [],
   "source": []
  }
 ],
 "metadata": {
  "kernelspec": {
   "display_name": "Python 3",
   "language": "python",
   "name": "python3"
  },
  "language_info": {
   "codemirror_mode": {
    "name": "ipython",
    "version": 3
   },
   "file_extension": ".py",
   "mimetype": "text/x-python",
   "name": "python",
   "nbconvert_exporter": "python",
   "pygments_lexer": "ipython3",
   "version": "3.7.6"
  }
 },
 "nbformat": 4,
 "nbformat_minor": 4
}
