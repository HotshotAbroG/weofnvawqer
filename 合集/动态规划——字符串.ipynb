{
 "cells": [
  {
   "cell_type": "markdown",
   "metadata": {},
   "source": [
    "# 1-编辑距离\n",
    "![title](./36.png)"
   ]
  },
  {
   "cell_type": "code",
   "execution_count": 6,
   "metadata": {},
   "outputs": [
    {
     "data": {
      "text/plain": [
       "3"
      ]
     },
     "execution_count": 6,
     "metadata": {},
     "output_type": "execute_result"
    }
   ],
   "source": [
    "class Solution:\n",
    "    def minDistance(self, word1: str, word2: str) -> int:\n",
    "        row, col = len(word1), len(word2)\n",
    "        dp = [[0 for i in range(col+1)] for j in range(row+1)]\n",
    "        # 初始化\n",
    "        for i in range(row+1):\n",
    "            dp[i][0] = i\n",
    "        for  i in range(col+1):\n",
    "            dp[0][i] = i\n",
    "            \n",
    "        for i in range(1, row+1):\n",
    "            for j in range(1, col+1):\n",
    "                if word1[i-1] == word2[j-1]:\n",
    "                    dp[i][j] = dp[i-1][j-1]\n",
    "                else:\n",
    "                    dp[i][j] = min((dp[i-1][j], dp[i][j-1], dp[i-1][j-1])) + 1\n",
    "        return dp[-1][-1]\n",
    "cls = Solution()\n",
    "cls.minDistance(\"horse\", \"ros\")"
   ]
  },
  {
   "cell_type": "markdown",
   "metadata": {},
   "source": [
    "# 2 最长公共子序列\n",
    "![title](./46.png)"
   ]
  },
  {
   "cell_type": "code",
   "execution_count": 29,
   "metadata": {},
   "outputs": [
    {
     "name": "stdout",
     "output_type": "stream",
     "text": [
      "[1, 1, 1]\n",
      "[1, 1, 1]\n",
      "[1, 2, 2]\n",
      "[1, 2, 3]\n",
      "[1, 2, 3]\n"
     ]
    },
    {
     "data": {
      "text/plain": [
       "3"
      ]
     },
     "execution_count": 29,
     "metadata": {},
     "output_type": "execute_result"
    }
   ],
   "source": [
    "class Solution:\n",
    "    def longestCommonSubsequence(self, text1: str, text2: str) -> int:\n",
    "        row, col = len(text1), len(text2)\n",
    "        dp = [ [0 for _ in range(col)] for i in range(row)]\n",
    "        \n",
    "        for i in range(col):\n",
    "            if text1[0] == text2[i]:\n",
    "                dp[0][i] = 1\n",
    "            else:\n",
    "                dp[0][i] = dp[0][i-1]\n",
    "            \n",
    "\n",
    "        for i in range(1, row):\n",
    "            for j in range(col):\n",
    "                if text1[i] != text2[j]:\n",
    "                    dp[i][j] = max(dp[i-1][j], dp[i][j-1])\n",
    "                else:\n",
    "                    dp[i][j] = dp[i-1][j-1]+1\n",
    "        for i in dp:\n",
    "            print(i)\n",
    "        return dp[-1][-1]\n",
    "cls = Solution()\n",
    "s1 = \"abcee\"\n",
    "s2 = \"ace\"\n",
    "cls.longestCommonSubsequence(s1, s2)\n",
    "                    \n",
    "                "
   ]
  },
  {
   "cell_type": "code",
   "execution_count": null,
   "metadata": {},
   "outputs": [],
   "source": []
  },
  {
   "cell_type": "code",
   "execution_count": null,
   "metadata": {},
   "outputs": [],
   "source": []
  },
  {
   "cell_type": "code",
   "execution_count": null,
   "metadata": {},
   "outputs": [],
   "source": []
  },
  {
   "cell_type": "code",
   "execution_count": null,
   "metadata": {},
   "outputs": [],
   "source": []
  },
  {
   "cell_type": "code",
   "execution_count": null,
   "metadata": {},
   "outputs": [],
   "source": []
  },
  {
   "cell_type": "code",
   "execution_count": null,
   "metadata": {},
   "outputs": [],
   "source": []
  },
  {
   "cell_type": "code",
   "execution_count": null,
   "metadata": {},
   "outputs": [],
   "source": []
  }
 ],
 "metadata": {
  "kernelspec": {
   "display_name": "Python 3",
   "language": "python",
   "name": "python3"
  },
  "language_info": {
   "codemirror_mode": {
    "name": "ipython",
    "version": 3
   },
   "file_extension": ".py",
   "mimetype": "text/x-python",
   "name": "python",
   "nbconvert_exporter": "python",
   "pygments_lexer": "ipython3",
   "version": "3.7.6"
  }
 },
 "nbformat": 4,
 "nbformat_minor": 4
}
