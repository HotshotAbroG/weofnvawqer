{
 "cells": [
  {
   "cell_type": "markdown",
   "metadata": {},
   "source": [
    "# 1 求数组中重复最多的数"
   ]
  },
  {
   "cell_type": "code",
   "execution_count": 3,
   "metadata": {},
   "outputs": [
    {
     "data": {
      "text/plain": [
       "1"
      ]
     },
     "execution_count": 3,
     "metadata": {},
     "output_type": "execute_result"
    }
   ],
   "source": [
    "nums = [1,1,1,2,2,3,4,5]\n",
    "def find(nums):\n",
    "    record = {}\n",
    "    res = 0\n",
    "    answer = 0 \n",
    "    for number in nums:\n",
    "        value = record.get(number, 0) + 1\n",
    "        if res < value:\n",
    "            res = value\n",
    "            answer = number\n",
    "        record[number] = value\n",
    "    return answer\n",
    "find(nums)"
   ]
  },
  {
   "cell_type": "code",
   "execution_count": null,
   "metadata": {},
   "outputs": [],
   "source": []
  },
  {
   "cell_type": "code",
   "execution_count": 5,
   "metadata": {},
   "outputs": [
    {
     "data": {
      "text/plain": [
       "4.0"
      ]
     },
     "execution_count": 5,
     "metadata": {},
     "output_type": "execute_result"
    }
   ],
   "source": [
    "def sup(n):\n",
    "    if n == 1 :\n",
    "        return n\n",
    "    if n%2 == 0:\n",
    "        return sup(n/2)+1\n",
    "    else:\n",
    "        # 奇数\n",
    "        return sup((n-1)/2)+1\n",
    "sup(10)"
   ]
  },
  {
   "cell_type": "markdown",
   "metadata": {},
   "source": [
    "# 3 给定N个数字，与操作次数M\n",
    "\n",
    "M次取两个数，求最后这M个乘积的最小值\n",
    "\n",
    "不可重复使用\n",
    "\n",
    "测试用例：\n",
    "\n",
    "4 2\n",
    "\n",
    "1 2 3 4"
   ]
  },
  {
   "cell_type": "code",
   "execution_count": 11,
   "metadata": {},
   "outputs": [
    {
     "name": "stdout",
     "output_type": "stream",
     "text": [
      "[1, 2, 3, 5, 5, 5, 7]\n"
     ]
    },
    {
     "data": {
      "text/plain": [
       "30"
      ]
     },
     "execution_count": 11,
     "metadata": {},
     "output_type": "execute_result"
    }
   ],
   "source": [
    "def find(m, n, arr):\n",
    "    arr.sort()\n",
    "    print(arr)\n",
    "    arr = arr[:m*2]\n",
    "    \n",
    "    res = 0 \n",
    "    for i in range(m):\n",
    "        res += arr[i] * arr[2*m -i-1]\n",
    "    return res\n",
    "arr = [5,3,2,1,5,7,5]\n",
    "find(3,len(arr),arr)"
   ]
  },
  {
   "cell_type": "markdown",
   "metadata": {},
   "source": [
    "# 4.最长山谷\n",
    "在一维数组中，保存着自然数，找出其子连续序列的长度，子序列满足先减小后增大。也就是类似“V”一样的山谷。一定满足先减小增大，没有等于，子序列长\n",
    "度一定要大于3，否则为0。\n",
    "\n",
    "例如：\n",
    "\n",
    "输入：[1,2,3,3,1,5]\n",
    "\n",
    "输出为：3\n",
    "\n",
    "输入：[1,2,3,2,1]\n",
    "\n",
    "输出为：0\n"
   ]
  },
  {
   "cell_type": "code",
   "execution_count": 24,
   "metadata": {},
   "outputs": [
    {
     "name": "stdout",
     "output_type": "stream",
     "text": [
      "5\n"
     ]
    },
    {
     "data": {
      "text/plain": [
       "5"
      ]
     },
     "execution_count": 24,
     "metadata": {},
     "output_type": "execute_result"
    }
   ],
   "source": [
    "def find(nums):\n",
    "    res, up, down = 0, 0, 0\n",
    "    for i in range(1, len(nums)):\n",
    "        if (up > 0 and nums[i-1] > nums[i] ) or nums[i-1] == nums[i]:\n",
    "            # 上一步是上升，但下一步不上升\n",
    "            up, down = 0, 0\n",
    "        \n",
    "        if nums[i] < nums[i-1]:\n",
    "            down += 1\n",
    "        \n",
    "        if nums[i] > nums[i-1]:\n",
    "            up += 1\n",
    "        \n",
    "        if up > 0 and down > 0:\n",
    "            res = up+down+1\n",
    "            \n",
    "    print(res)\n",
    "    return res if res >=3 else 0\n",
    "    \n",
    "nums = [1,2,3,3,1,3,4,5]\n",
    "find(nums)"
   ]
  },
  {
   "cell_type": "markdown",
   "metadata": {},
   "source": [
    "# 5 重复字符串\n",
    "输入一个字符串S，然后找到其最小的循环子序列P。对于每一个S[i]，S[i] = P[i%P_len]. P_len是P的长度。S长度小于100.\n",
    "\n",
    "例如：\n",
    "\n",
    "输入：abcabca\n",
    "\n",
    "输出：abc\n",
    "\n",
    "输入：abcdd\n",
    "\n",
    "输出：abcdd"
   ]
  },
  {
   "cell_type": "code",
   "execution_count": 59,
   "metadata": {},
   "outputs": [
    {
     "name": "stdout",
     "output_type": "stream",
     "text": [
      "6\n"
     ]
    },
    {
     "data": {
      "text/plain": [
       "'ababce'"
      ]
     },
     "execution_count": 59,
     "metadata": {},
     "output_type": "execute_result"
    }
   ],
   "source": [
    "def find(s):\n",
    "    length = len(s)\n",
    "    for i in range(1,length):\n",
    "        flag = True\n",
    "        sub_length = i\n",
    "        for j in range(1,length):\n",
    "            if s[j%sub_length] == s[j]:\n",
    "                continue\n",
    "            else:\n",
    "                flag = False\n",
    "                break\n",
    "        if flag:\n",
    "            break\n",
    "    print(sub_length)\n",
    "    return s[:sub_length]\n",
    "            \n",
    "\n",
    "s = \"abcdabc\"\n",
    "s = \"abcabcab\"\n",
    "s = \"ababced\"\n",
    "p = find(s)            \n",
    "p"
   ]
  },
  {
   "cell_type": "code",
   "execution_count": 60,
   "metadata": {},
   "outputs": [
    {
     "name": "stdout",
     "output_type": "stream",
     "text": [
      "6\n",
      "a -----> a\n",
      "b -----> b\n",
      "a -----> a\n",
      "b -----> b\n",
      "c -----> c\n",
      "e -----> e\n",
      "d -----> a\n"
     ]
    }
   ],
   "source": [
    "print(len(p))\n",
    "for i in range(len(s)):\n",
    "    print(s[i], \"----->\", p[i%len(p)])"
   ]
  },
  {
   "cell_type": "markdown",
   "metadata": {},
   "source": [
    "# 6  二维生物的旅行\n",
    "\n",
    "二维生物hip当前处于x轴的0坐标位置，打算去拜访它的老友hop，hop位于坐标轴的target位置。hip有一个很奇怪的能力，其迈出的第n步（从1算起），步长为\n",
    "\n",
    "n。也就是说第一步可以移动的距离为1，第二步可以移动的距离为2，以此类推。每走一步之前，hip都可以决定这一步是向左走还是向右走，但每一步都只能朝一\n",
    "\n",
    "个方向前进。二维生物都很懒，hip希望你能先帮他计算出最少需要走多少步才能到达target位置，他再决定要不要去拜访老友。\n",
    "\n",
    "输入描述：\n",
    "\n",
    "每个测试输入包含1个测试用例，即给出目标位置target的值。这里保证-10^9<=target<=10^9,且为整数\n"
   ]
  },
  {
   "cell_type": "code",
   "execution_count": 89,
   "metadata": {},
   "outputs": [
    {
     "name": "stdout",
     "output_type": "stream",
     "text": [
      "9\n"
     ]
    },
    {
     "data": {
      "text/plain": [
       "10"
      ]
     },
     "execution_count": 89,
     "metadata": {},
     "output_type": "execute_result"
    }
   ],
   "source": [
    "def find(target):\n",
    "    tmp_sum = 0\n",
    "    for i in range(1,target):\n",
    "        tmp_sum += i\n",
    "        if tmp_sum > target:\n",
    "            break\n",
    "    # 最多走i 次\n",
    "    res = i+1\n",
    "    print(int((tmp_sum + res-target)/2))\n",
    "    return res\n",
    "target =  37\n",
    "find(target)"
   ]
  },
  {
   "cell_type": "markdown",
   "metadata": {},
   "source": [
    "# 7 火柴拼正方形\n",
    "输入: [1,1,2,2,2]\n",
    "\n",
    "输出: true\n",
    "\n",
    "解释: 能拼成一个边长为2的正方形，每边两根火柴。"
   ]
  },
  {
   "cell_type": "code",
   "execution_count": 8,
   "metadata": {},
   "outputs": [
    {
     "data": {
      "text/plain": [
       "True"
      ]
     },
     "execution_count": 8,
     "metadata": {},
     "output_type": "execute_result"
    }
   ],
   "source": [
    "class Solution:\n",
    "    def makesquare(self, nums):\n",
    "        if not nums:\n",
    "            return False\n",
    "        stick_number = len(nums)\n",
    "        total_length = sum(nums)\n",
    "        each_edge = total_length//4\n",
    "        if each_edge*4 != total_length:\n",
    "            return False\n",
    "        nums.sort(reverse=True)\n",
    "        record = [0 for _ in range(4)]\n",
    "        \n",
    "        def dfs(index):\n",
    "            if index == stick_number:\n",
    "                return record[0] == record[1] == record[2] == each_edge\n",
    "            for i in range(4):\n",
    "                current_length = record[i] + nums[index]\n",
    "                \n",
    "                if current_length <= each_edge:\n",
    "                    record[i] += nums[index]\n",
    "                    if dfs(index+1):\n",
    "                        return True\n",
    "                    record[i] -= nums[index]\n",
    "            return False\n",
    "        \n",
    "        return dfs(0)\n",
    "        \n",
    "        \n",
    "cls = Solution()\n",
    "nums = [1,1,2,2,2]\n",
    "cls.makesquare(nums)\n"
   ]
  },
  {
   "cell_type": "code",
   "execution_count": null,
   "metadata": {},
   "outputs": [],
   "source": []
  },
  {
   "cell_type": "markdown",
   "metadata": {},
   "source": [
    "# 8 数组的唯一增量\n",
    "\n",
    "输入：[3,2,1,2,1,7]\n",
    "\n",
    "输出：6\n",
    "\n",
    "解释：经过 6 次 move 操作，数组将变为 [3, 4, 1, 2, 5, 7]。\n",
    "\n",
    "可以看出 5 次或 5 次以下的 move 操作是不能让数组的每个值唯一的。\n",
    "\n"
   ]
  },
  {
   "cell_type": "code",
   "execution_count": 21,
   "metadata": {},
   "outputs": [
    {
     "name": "stdout",
     "output_type": "stream",
     "text": [
      "[1, 1, 2, 2, 3, 7]\n"
     ]
    },
    {
     "data": {
      "text/plain": [
       "6"
      ]
     },
     "execution_count": 21,
     "metadata": {},
     "output_type": "execute_result"
    }
   ],
   "source": [
    "class Solution:\n",
    "    def minIncrementForUnique(self, arr) -> int:\n",
    "        res = 0 \n",
    "        arr.sort()\n",
    "        print(arr)\n",
    "        for i in range(1,len(arr)):\n",
    "            if arr[i-1] >= arr[i]:\n",
    "                res += (arr[i-1] - arr[i] + 1)\n",
    "                arr[i] = arr[i-1] + 1\n",
    "        return res\n",
    "cls = Solution()\n",
    "arr = [3,2,1,2,1,7]\n",
    "res = cls.minIncrementForUnique(arr)\n",
    "res"
   ]
  },
  {
   "cell_type": "code",
   "execution_count": 14,
   "metadata": {},
   "outputs": [
    {
     "name": "stdout",
     "output_type": "stream",
     "text": [
      "[1, 1, 2, 2, 3, 7]\n",
      "[1, 2, 2, 2, 3, 7]\n",
      "[1, 2, 3, 2, 3, 7]\n",
      "[1, 2, 3, 4, 3, 7]\n",
      "[1, 2, 3, 4, 5, 7]\n",
      "[1, 2, 3, 4, 5, 7]\n"
     ]
    },
    {
     "data": {
      "text/plain": [
       "6"
      ]
     },
     "execution_count": 14,
     "metadata": {},
     "output_type": "execute_result"
    }
   ],
   "source": [
    "class Solution:\n",
    "    def minIncrementForUnique(self, arr) -> int:\n",
    "        arr.sort()\n",
    "        print(arr)\n",
    "        res = 0 \n",
    "        for i in range(1,len(arr)):\n",
    "            if arr[i] <= arr[i-1]:\n",
    "                res += arr[i-1] - arr[i]+1\n",
    "                arr[i] = arr[i-1]+1\n",
    "            print(arr)\n",
    "        return res\n",
    "            \n",
    "            \n",
    "            \n",
    "            \n",
    "cls = Solution()\n",
    "arr = [3,2,1,2,1,7]\n",
    "res = cls.minIncrementForUnique(arr)\n",
    "res"
   ]
  },
  {
   "cell_type": "code",
   "execution_count": null,
   "metadata": {},
   "outputs": [],
   "source": []
  },
  {
   "cell_type": "code",
   "execution_count": null,
   "metadata": {},
   "outputs": [],
   "source": []
  },
  {
   "cell_type": "code",
   "execution_count": null,
   "metadata": {},
   "outputs": [],
   "source": []
  },
  {
   "cell_type": "code",
   "execution_count": null,
   "metadata": {},
   "outputs": [],
   "source": []
  }
 ],
 "metadata": {
  "kernelspec": {
   "display_name": "Python 3",
   "language": "python",
   "name": "python3"
  },
  "language_info": {
   "codemirror_mode": {
    "name": "ipython",
    "version": 3
   },
   "file_extension": ".py",
   "mimetype": "text/x-python",
   "name": "python",
   "nbconvert_exporter": "python",
   "pygments_lexer": "ipython3",
   "version": "3.7.6"
  }
 },
 "nbformat": 4,
 "nbformat_minor": 4
}
