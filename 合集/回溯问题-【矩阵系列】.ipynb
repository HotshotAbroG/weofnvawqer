{
 "cells": [
  {
   "cell_type": "markdown",
   "metadata": {},
   "source": [
    "# 1.机器人移动范围"
   ]
  },
  {
   "cell_type": "markdown",
   "metadata": {},
   "source": [
    "# ![title](../img/a9.png) \n"
   ]
  },
  {
   "cell_type": "code",
   "execution_count": 13,
   "metadata": {},
   "outputs": [
    {
     "data": {
      "text/plain": [
       "3"
      ]
     },
     "execution_count": 13,
     "metadata": {},
     "output_type": "execute_result"
    }
   ],
   "source": [
    "class Solution:\n",
    "    def get_value(self, i, j):\n",
    "        i1, i0 = i//10, i%10\n",
    "        j1, j0 = j//10, j%10\n",
    "        return sum((i1,i0,j1,j0))\n",
    "        \n",
    "    def movingCount(self, m: int, n: int, k: int) -> int:\n",
    "        \n",
    "        res = 0 \n",
    "        record = set()\n",
    "        def dfs(i,j):\n",
    "            if i < 0 or i >= m or j<0 or j>=n or self.get_value(i,j) >k or (i,j) in record:\n",
    "                return\n",
    "            nonlocal res\n",
    "            record.add((i,j))\n",
    "            res += 1\n",
    "            dfs(i-1,j)\n",
    "            dfs(i,j-1)\n",
    "            dfs(i+1,j)\n",
    "            dfs(i,j+1)\n",
    "          \n",
    "        dfs(0,0)\n",
    "        return res\n",
    "    \n",
    "cls = Solution()\n",
    "cls.movingCount(2,3,1)"
   ]
  },
  {
   "cell_type": "markdown",
   "metadata": {},
   "source": [
    "# 面试题2. 矩阵中的路径\n",
    "![ttile](../img/a78.png)"
   ]
  },
  {
   "cell_type": "code",
   "execution_count": 11,
   "metadata": {
    "scrolled": true
   },
   "outputs": [
    {
     "name": "stdout",
     "output_type": "stream",
     "text": [
      "5\n"
     ]
    },
    {
     "data": {
      "text/plain": [
       "2"
      ]
     },
     "execution_count": 11,
     "metadata": {},
     "output_type": "execute_result"
    }
   ],
   "source": [
    "board = [[\"A\",\"B\",\"C\",\"E\"],[\"S\",\"F\",\"C\",\"S\"],[\"A\",\"D\",\"E\",\"E\"]]\n",
    "word = \"ABCCED\"\n",
    "\n",
    "class Solution:\n",
    "\n",
    "\n",
    "    \n",
    "    def exist(self, board, word):\n",
    "        rows = len(board)\n",
    "        if rows == 0:\n",
    "            return False\n",
    "        cols = len(board[0])\n",
    "        \n",
    "        return False\n",
    "cls = Solution()\n",
    "cls.exist(board, word)"
   ]
  },
  {
   "cell_type": "code",
   "execution_count": null,
   "metadata": {},
   "outputs": [],
   "source": []
  },
  {
   "cell_type": "code",
   "execution_count": null,
   "metadata": {},
   "outputs": [],
   "source": []
  },
  {
   "cell_type": "code",
   "execution_count": null,
   "metadata": {},
   "outputs": [],
   "source": []
  },
  {
   "cell_type": "code",
   "execution_count": null,
   "metadata": {},
   "outputs": [],
   "source": []
  }
 ],
 "metadata": {
  "kernelspec": {
   "display_name": "Python 3",
   "language": "python",
   "name": "python3"
  },
  "language_info": {
   "codemirror_mode": {
    "name": "ipython",
    "version": 3
   },
   "file_extension": ".py",
   "mimetype": "text/x-python",
   "name": "python",
   "nbconvert_exporter": "python",
   "pygments_lexer": "ipython3",
   "version": "3.7.6"
  }
 },
 "nbformat": 4,
 "nbformat_minor": 4
}
