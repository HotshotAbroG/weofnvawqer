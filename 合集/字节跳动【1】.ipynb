{
 "cells": [
  {
   "cell_type": "markdown",
   "metadata": {},
   "source": [
    "# 1 连续子数组最大和\n",
    "![title](../img/a27.png)"
   ]
  },
  {
   "cell_type": "code",
   "execution_count": 5,
   "metadata": {},
   "outputs": [
    {
     "name": "stdout",
     "output_type": "stream",
     "text": [
      "[-inf, 1, 4, 3, 1, -2, 9, 10]\n"
     ]
    },
    {
     "data": {
      "text/plain": [
       "10"
      ]
     },
     "execution_count": 5,
     "metadata": {},
     "output_type": "execute_result"
    }
   ],
   "source": [
    "nums = [-2,1,-3,4,-1,2,1,-5,41]\n",
    "nums = [1,2]\n",
    "class Solution:\n",
    "    def maxSubArray(self, nums) -> int:\n",
    "        if len(nums) == 1:\n",
    "            return nums[0]       \n",
    "        dp = [float(\"-inf\")] * (len(nums)+1)\n",
    "        dp[1], tmp_max = nums[0], nums[0]\n",
    "        for i in range(2, len(nums)+1):\n",
    "            # dp 考虑的是把 当前所有数用起来 和 只用当前的数 那个最大\n",
    "            dp[i] = max(nums[i - 1], dp[i-1] + nums[i-1])\n",
    "            tmp_max = max(tmp_max, dp[i])\n",
    "        print(dp)\n",
    "        return tmp_max\n",
    "cls = Solution()\n",
    "nums = [1, 3, -1, -2, -3, 9, 1]\n",
    "cls.maxSubArray(nums)"
   ]
  },
  {
   "cell_type": "markdown",
   "metadata": {},
   "source": [
    "# 2 (   和   ）可以匹配，给你一个字符串，问你有多少合法的括号"
   ]
  },
  {
   "cell_type": "code",
   "execution_count": 30,
   "metadata": {},
   "outputs": [
    {
     "data": {
      "text/plain": [
       "4"
      ]
     },
     "execution_count": 30,
     "metadata": {},
     "output_type": "execute_result"
    }
   ],
   "source": [
    "String = \")))()()sdf(gs(()(ew)\" # 3\n",
    "class Solution():\n",
    "    \n",
    "    def minRemoveToMakeValid(self, s: str) -> str:\n",
    "        stack = []\n",
    "        count = 0\n",
    "        for index, value in enumerate(s):\n",
    "            if value not in \"()\":\n",
    "                continue\n",
    "            elif value == \"(\":\n",
    "                stack.append(value)\n",
    "                count += 1\n",
    "            elif  stack and value == \")\":\n",
    "                # value = \")\"\n",
    "                stack.pop()\n",
    "        # stack: 不合格的左括号\n",
    "        # count: 全部左括号的数量\n",
    "        return count - len(stack)\n",
    "cls = Solution()\n",
    "cls.minRemoveToMakeValid(String)"
   ]
  },
  {
   "cell_type": "markdown",
   "metadata": {},
   "source": [
    "# 3 移除无效的括号\n",
    "![title](../img/119.png)"
   ]
  },
  {
   "cell_type": "code",
   "execution_count": 35,
   "metadata": {},
   "outputs": [
    {
     "name": "stdout",
     "output_type": "stream",
     "text": [
      "{0, 1, 2, 10, 13}\n"
     ]
    },
    {
     "data": {
      "text/plain": [
       "'()()sdfgs()(ew)'"
      ]
     },
     "execution_count": 35,
     "metadata": {},
     "output_type": "execute_result"
    }
   ],
   "source": [
    "String = \")))()()sdf(gs(()(ew)\" # 3\n",
    "class Solution():\n",
    "    \n",
    "    def minRemoveToMakeValid(self, s: str) -> str:\n",
    "        left_kuohao = []\n",
    "        righ_kuohao = set()\n",
    "        for index, value in enumerate(s):\n",
    "            if value not in \"()\":\n",
    "                continue\n",
    "            elif value == \"(\":\n",
    "                left_kuohao.append(index)\n",
    "            elif not left_kuohao:\n",
    "                righ_kuohao.add(index)\n",
    "            else:\n",
    "                # stack 存在 且 遇到了右括号\n",
    "                left_kuohao.pop()\n",
    "        righ_kuohao = righ_kuohao.union(set(left_kuohao))\n",
    "        string_builder = [] \n",
    "        for i in range(len(s)):\n",
    "            if i not in righ_kuohao:\n",
    "                string_builder.append(s[i])\n",
    "        return \"\".join(string_builder)\n",
    "        \n",
    "        \n",
    "cls = Solution()\n",
    "cls.minRemoveToMakeValid(String)"
   ]
  },
  {
   "cell_type": "markdown",
   "metadata": {},
   "source": [
    "# 4 无序数组的中位数"
   ]
  },
  {
   "cell_type": "code",
   "execution_count": 51,
   "metadata": {},
   "outputs": [
    {
     "name": "stdout",
     "output_type": "stream",
     "text": [
      "[0, 4, 5, 1, 6, 7, 3, 2]\n"
     ]
    },
    {
     "data": {
      "text/plain": [
       "4.5"
      ]
     },
     "execution_count": 51,
     "metadata": {},
     "output_type": "execute_result"
    }
   ],
   "source": [
    "class Solution():\n",
    "    def quick(self, nums, left, right):\n",
    "        if left < right:\n",
    "            start, end = left, right\n",
    "            pivot_index = left\n",
    "            while left < right:\n",
    "                while left < right and nums[right] >= nums[pivot_index]:\n",
    "                    right -=1 \n",
    "                while left < right and nums[left] <= nums[pivot_index]:\n",
    "                    left += 1\n",
    "                \n",
    "                nums[left], nums[right] = nums[right], nums[left]\n",
    "            \n",
    "            nums[left], nums[pivot_index] = nums[pivot_index], nums[left]\n",
    "            self.quick(nums, start, left-1)\n",
    "            self.quick(nums, left+1, end)\n",
    "    \n",
    "    \n",
    "    def find(self, nums):\n",
    "        \n",
    "        self.quick(nums, 0, len(nums)-1)\n",
    "        index = len(nums)//2\n",
    "        return nums[index] if len(nums)%2 == 1 else (nums[index] + nums[index]+1)/2\n",
    "        \n",
    "import random\n",
    "\n",
    "arr = list(range(8))\n",
    "random.shuffle(arr)\n",
    "print(arr)\n",
    "cls = Solution()\n",
    "cls.find(arr)"
   ]
  },
  {
   "cell_type": "code",
   "execution_count": null,
   "metadata": {},
   "outputs": [],
   "source": []
  },
  {
   "cell_type": "code",
   "execution_count": null,
   "metadata": {},
   "outputs": [],
   "source": []
  },
  {
   "cell_type": "code",
   "execution_count": null,
   "metadata": {},
   "outputs": [],
   "source": [
    "\n"
   ]
  },
  {
   "cell_type": "code",
   "execution_count": null,
   "metadata": {},
   "outputs": [],
   "source": []
  },
  {
   "cell_type": "code",
   "execution_count": null,
   "metadata": {},
   "outputs": [],
   "source": []
  },
  {
   "cell_type": "code",
   "execution_count": null,
   "metadata": {},
   "outputs": [],
   "source": []
  },
  {
   "cell_type": "code",
   "execution_count": null,
   "metadata": {},
   "outputs": [],
   "source": []
  },
  {
   "cell_type": "code",
   "execution_count": null,
   "metadata": {},
   "outputs": [],
   "source": []
  },
  {
   "cell_type": "code",
   "execution_count": null,
   "metadata": {},
   "outputs": [],
   "source": []
  },
  {
   "cell_type": "code",
   "execution_count": null,
   "metadata": {},
   "outputs": [],
   "source": []
  },
  {
   "cell_type": "code",
   "execution_count": null,
   "metadata": {},
   "outputs": [],
   "source": []
  },
  {
   "cell_type": "code",
   "execution_count": null,
   "metadata": {},
   "outputs": [],
   "source": []
  },
  {
   "cell_type": "code",
   "execution_count": null,
   "metadata": {},
   "outputs": [],
   "source": []
  },
  {
   "cell_type": "code",
   "execution_count": null,
   "metadata": {},
   "outputs": [],
   "source": []
  },
  {
   "cell_type": "code",
   "execution_count": null,
   "metadata": {},
   "outputs": [],
   "source": []
  },
  {
   "cell_type": "code",
   "execution_count": null,
   "metadata": {},
   "outputs": [],
   "source": []
  },
  {
   "cell_type": "code",
   "execution_count": null,
   "metadata": {},
   "outputs": [],
   "source": []
  },
  {
   "cell_type": "code",
   "execution_count": null,
   "metadata": {},
   "outputs": [],
   "source": []
  },
  {
   "cell_type": "code",
   "execution_count": null,
   "metadata": {},
   "outputs": [],
   "source": []
  },
  {
   "cell_type": "code",
   "execution_count": null,
   "metadata": {},
   "outputs": [],
   "source": []
  },
  {
   "cell_type": "code",
   "execution_count": null,
   "metadata": {},
   "outputs": [],
   "source": []
  },
  {
   "cell_type": "code",
   "execution_count": null,
   "metadata": {},
   "outputs": [],
   "source": []
  },
  {
   "cell_type": "code",
   "execution_count": null,
   "metadata": {},
   "outputs": [],
   "source": []
  }
 ],
 "metadata": {
  "kernelspec": {
   "display_name": "Python 3",
   "language": "python",
   "name": "python3"
  },
  "language_info": {
   "codemirror_mode": {
    "name": "ipython",
    "version": 3
   },
   "file_extension": ".py",
   "mimetype": "text/x-python",
   "name": "python",
   "nbconvert_exporter": "python",
   "pygments_lexer": "ipython3",
   "version": "3.7.6"
  }
 },
 "nbformat": 4,
 "nbformat_minor": 2
}
