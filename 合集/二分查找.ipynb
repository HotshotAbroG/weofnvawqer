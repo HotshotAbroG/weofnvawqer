{
 "cells": [
  {
   "cell_type": "markdown",
   "metadata": {},
   "source": [
    "# 普通的二分查找-----只判断有没有这个元素"
   ]
  },
  {
   "cell_type": "code",
   "execution_count": 25,
   "metadata": {},
   "outputs": [
    {
     "name": "stdout",
     "output_type": "stream",
     "text": [
      "[1, 2, 2, 2, 3, 4, 5, 5, 5, 25, 25, 63, 212]\n"
     ]
    },
    {
     "data": {
      "text/plain": [
       "'find'"
      ]
     },
     "execution_count": 25,
     "metadata": {},
     "output_type": "execute_result"
    }
   ],
   "source": [
    "arr = [1,2,3,4,5,5,63,2,2,5,25,25,212]\n",
    "arr = sorted(arr)\n",
    "print(arr)\n",
    "def find(arr, target):\n",
    "    left, right = 0, len(arr)-1\n",
    "    while left <= right:\n",
    "        mid = int(left + (right-left)/2)\n",
    "        if arr[mid] == target:\n",
    "            return \"find\"\n",
    "        elif arr[mid] < target:\n",
    "            left = mid+1\n",
    "        else:\n",
    "            right = mid-1\n",
    "    return \"not find\"\n",
    "find(arr, 25)"
   ]
  },
  {
   "cell_type": "markdown",
   "metadata": {},
   "source": [
    "# 改进版本，只找出最左边出现的位置\n",
    "### 标准的查找"
   ]
  },
  {
   "cell_type": "code",
   "execution_count": 4,
   "metadata": {},
   "outputs": [
    {
     "name": "stdout",
     "output_type": "stream",
     "text": [
      "[1, 2, 2, 2, 3, 4, 5, 5, 5, 25, 25, 63, 212]\n",
      "13\n"
     ]
    },
    {
     "data": {
      "text/plain": [
       "6"
      ]
     },
     "execution_count": 4,
     "metadata": {},
     "output_type": "execute_result"
    }
   ],
   "source": [
    "arr = [1,2,3,4,5,5,63,2,2,5,25,25,212]\n",
    "arr = sorted(arr)\n",
    "print(arr)\n",
    "def find(arr, target):\n",
    "    left, right = 0, len(arr)-1\n",
    "    while left < right:\n",
    "        mid = int(left+(right-left)/2)\n",
    "        if arr[mid] >= target:\n",
    "            right = mid\n",
    "        else:\n",
    "            left = mid + 1\n",
    "    print(len(arr))\n",
    "    return left if arr[left] == target else -1\n",
    "find(arr, 5)"
   ]
  },
  {
   "cell_type": "markdown",
   "metadata": {},
   "source": [
    "# 1. 开方\n",
    "\n",
    "![title](./a7.png)"
   ]
  },
  {
   "cell_type": "code",
   "execution_count": 2,
   "metadata": {},
   "outputs": [
    {
     "data": {
      "text/plain": [
       "0.25"
      ]
     },
     "execution_count": 2,
     "metadata": {},
     "output_type": "execute_result"
    }
   ],
   "source": [
    "class Solution:\n",
    "    def mySqrt(self, x: int) -> int:\n",
    "        if x < 2:\n",
    "            return x\n",
    "        length = x>>1\n",
    "        # 1,2,3,4,....length\n",
    "        left, right = 1, length\n",
    "        while left <= right:\n",
    "            mid = int(left + (right-left)/2)\n",
    "\n",
    "            value = mid**2\n",
    "            if value == x:\n",
    "                return mid\n",
    "            elif value > x:\n",
    "                right = mid - 1\n",
    "            else:\n",
    "                left = mid + 1\n",
    "        return right\n",
    "cls = Solution()\n",
    "cls.mySqrt(0.25)"
   ]
  },
  {
   "cell_type": "markdown",
   "metadata": {},
   "source": [
    "# 2. 寻找比目标字母大的最小字母\n",
    "![title](./a8.png)"
   ]
  },
  {
   "cell_type": "code",
   "execution_count": 18,
   "metadata": {},
   "outputs": [
    {
     "data": {
      "text/plain": [
       "'c'"
      ]
     },
     "execution_count": 18,
     "metadata": {},
     "output_type": "execute_result"
    }
   ],
   "source": [
    "class Solution:\n",
    "    def nextGreatestLetter(self, letters, target: str) -> str:\n",
    "        left, right = 0, len(letters)-1\n",
    "        while left <= right:\n",
    "            mid = int(left+(right-left)/2)\n",
    "            if letters[mid] > target:\n",
    "                right = mid - 1\n",
    "            else:\n",
    "                left = mid + 1\n",
    "                \n",
    "        return letters[left] if left < len(letters) else letters[0]\n",
    "letters = [\"c\", \"f\", \"j\", \"q\", \"w\", \"y\"]\n",
    "#ab--c-de-f----g hijklmn opqrst uvwxyz\n",
    "target = \"z\"\n",
    "cls = Solution()\n",
    "cls.nextGreatestLetter(letters, target)"
   ]
  },
  {
   "cell_type": "markdown",
   "metadata": {},
   "source": [
    "# 3. 有序数组中的单一元素\n",
    "![title](./a9.png)"
   ]
  },
  {
   "cell_type": "code",
   "execution_count": 38,
   "metadata": {},
   "outputs": [
    {
     "name": "stdout",
     "output_type": "stream",
     "text": [
      "dnofa\n"
     ]
    },
    {
     "data": {
      "text/plain": [
       "2"
      ]
     },
     "execution_count": 38,
     "metadata": {},
     "output_type": "execute_result"
    }
   ],
   "source": [
    "arr = [1, 1, 2, 3, 3, 4, 4, 8, 8]\n",
    "def find(nums):\n",
    "    left, right = 0, len(nums)-1\n",
    "    while left < right:\n",
    "        mid = (left + right)>>1\n",
    "        if mid % 2 == 1:\n",
    "            print(\"dnofa\")\n",
    "            mid -= 1\n",
    "        if nums[mid] == nums[mid+1]:\n",
    "            left = mid + 2\n",
    "        else:\n",
    "            right = mid\n",
    "        \n",
    "    return nums[left]\n",
    "        \n",
    "        \n",
    "find(arr)"
   ]
  },
  {
   "cell_type": "code",
   "execution_count": null,
   "metadata": {},
   "outputs": [],
   "source": []
  },
  {
   "cell_type": "code",
   "execution_count": null,
   "metadata": {},
   "outputs": [],
   "source": []
  },
  {
   "cell_type": "code",
   "execution_count": 36,
   "metadata": {},
   "outputs": [
    {
     "data": {
      "text/plain": [
       "2"
      ]
     },
     "execution_count": 36,
     "metadata": {},
     "output_type": "execute_result"
    }
   ],
   "source": [
    "arr = [1, 1, 2, 3, 3, 4, 4, 8, 8]\n",
    "arr = [1, 1, 2, 3, 3]\n",
    "class Solution:\n",
    "    def singleNonDuplicate(self, nums) -> int:\n",
    "        # 如果 nums[m] == nums[m + 1]，\n",
    "        # 那么 index 所在的数组位置为 [m + 2, h]，此时令 l = m + 2；\n",
    "        # 如果 nums[m] != nums[m + 1]，那么 index 所在的数组位置为 [l, m]，此时令 h = m。\n",
    "        left, right = 0, len(nums)-1\n",
    "        while left < right:\n",
    "            mid = int(left+(right-left)/2)\n",
    "            # 目标只可能出现在偶数index上\n",
    "            if mid%2==1:\n",
    "                mid -= 1\n",
    "            if nums[mid] == nums[mid+1]:\n",
    "                left = mid + 2\n",
    "            else:\n",
    "                # nmid != nmid+1\n",
    "                right = mid\n",
    "        return nums[left]\n",
    "\n",
    "        \n",
    "cls = Solution()\n",
    "cls.singleNonDuplicate(arr)"
   ]
  },
  {
   "cell_type": "markdown",
   "metadata": {},
   "source": [
    "# 3. 搜索插入位置\n",
    "\n",
    "![title](./11.png)"
   ]
  },
  {
   "cell_type": "code",
   "execution_count": 15,
   "metadata": {},
   "outputs": [
    {
     "data": {
      "text/plain": [
       "2"
      ]
     },
     "execution_count": 15,
     "metadata": {},
     "output_type": "execute_result"
    }
   ],
   "source": [
    "class Solution:\n",
    "    def searchInsert(self, nums, target: int) -> int:\n",
    "        l, r = 0, len(nums)-1\n",
    "        while l <= r:\n",
    "            mid = int(l+(r-l)/2)\n",
    "            if nums[mid] >= target:\n",
    "                r = mid - 1\n",
    "            else:\n",
    "                l = mid + 1\n",
    "        return l\n",
    "cls = Solution()\n",
    "cls.searchInsert([1,3,5,6],4)"
   ]
  },
  {
   "cell_type": "markdown",
   "metadata": {},
   "source": [
    "# 4 旋转数组的最小数字\n",
    "![title](./12.png)"
   ]
  },
  {
   "cell_type": "code",
   "execution_count": 20,
   "metadata": {},
   "outputs": [
    {
     "data": {
      "text/plain": [
       "1"
      ]
     },
     "execution_count": 20,
     "metadata": {},
     "output_type": "execute_result"
    }
   ],
   "source": [
    "class Solution:\n",
    "    def findMin(self, nums) -> int:\n",
    "        l,r = 0, len(nums)-1\n",
    "        while l < r:\n",
    "            mid = int(l+(r-l)/2)\n",
    "            if nums[mid] > nums[r]:\n",
    "                l = mid+1\n",
    "            else:\n",
    "                r = mid\n",
    "        return nums[l]\n",
    "cls = Solution()\n",
    "cls.findMin([3,4,5,1,2])"
   ]
  },
  {
   "cell_type": "markdown",
   "metadata": {},
   "source": [
    "# 5 查找区间\n",
    "![title](./13.png)"
   ]
  },
  {
   "cell_type": "code",
   "execution_count": 30,
   "metadata": {},
   "outputs": [
    {
     "data": {
      "text/plain": [
       "[-1, -1]"
      ]
     },
     "execution_count": 30,
     "metadata": {},
     "output_type": "execute_result"
    }
   ],
   "source": [
    "class Solution:\n",
    "    def searchRange(self, nums, target: int):\n",
    "        left_idnex = self.find(nums, target, True)\n",
    "        \n",
    "        if left_idnex > len(nums) or nums[left_idnex] != target:\n",
    "            return [-1,-1]\n",
    "        right_index = self.find(nums, target)\n",
    "        \n",
    "        if right_index < left_idnex or (right_index - left_idnex) < 2:\n",
    "            return [-1, -1]\n",
    "        \n",
    "        return [left_idnex, right_index-1]\n",
    "    \n",
    "    def find(self, nums, target, flag=False):\n",
    "        l, r = 0, len(nums)-1\n",
    "        while l < r:\n",
    "            mid = int(l + (r-l)/2)\n",
    "            if nums[mid] > target or (flag and nums[mid] == target):\n",
    "                r = mid\n",
    "                \n",
    "            else:\n",
    "                l = mid + 1\n",
    "        return l \n",
    "        \n",
    "cls = Solution()\n",
    "cls.searchRange([5,7,7,8,8,10], 5)       "
   ]
  },
  {
   "cell_type": "code",
   "execution_count": null,
   "metadata": {},
   "outputs": [],
   "source": []
  },
  {
   "cell_type": "code",
   "execution_count": null,
   "metadata": {},
   "outputs": [],
   "source": []
  },
  {
   "cell_type": "code",
   "execution_count": null,
   "metadata": {},
   "outputs": [],
   "source": []
  },
  {
   "cell_type": "code",
   "execution_count": null,
   "metadata": {},
   "outputs": [],
   "source": []
  },
  {
   "cell_type": "code",
   "execution_count": null,
   "metadata": {},
   "outputs": [],
   "source": []
  },
  {
   "cell_type": "code",
   "execution_count": null,
   "metadata": {},
   "outputs": [],
   "source": []
  },
  {
   "cell_type": "code",
   "execution_count": null,
   "metadata": {},
   "outputs": [],
   "source": []
  },
  {
   "cell_type": "code",
   "execution_count": null,
   "metadata": {},
   "outputs": [],
   "source": []
  },
  {
   "cell_type": "code",
   "execution_count": null,
   "metadata": {},
   "outputs": [],
   "source": []
  },
  {
   "cell_type": "code",
   "execution_count": null,
   "metadata": {},
   "outputs": [],
   "source": []
  },
  {
   "cell_type": "code",
   "execution_count": null,
   "metadata": {},
   "outputs": [],
   "source": []
  },
  {
   "cell_type": "code",
   "execution_count": null,
   "metadata": {},
   "outputs": [],
   "source": []
  },
  {
   "cell_type": "code",
   "execution_count": null,
   "metadata": {},
   "outputs": [],
   "source": []
  }
 ],
 "metadata": {
  "kernelspec": {
   "display_name": "Python 3",
   "language": "python",
   "name": "python3"
  },
  "language_info": {
   "codemirror_mode": {
    "name": "ipython",
    "version": 3
   },
   "file_extension": ".py",
   "mimetype": "text/x-python",
   "name": "python",
   "nbconvert_exporter": "python",
   "pygments_lexer": "ipython3",
   "version": "3.7.6"
  }
 },
 "nbformat": 4,
 "nbformat_minor": 4
}
