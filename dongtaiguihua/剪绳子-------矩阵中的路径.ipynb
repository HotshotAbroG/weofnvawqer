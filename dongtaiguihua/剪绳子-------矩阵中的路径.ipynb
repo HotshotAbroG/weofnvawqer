{
 "cells": [
  {
   "cell_type": "markdown",
   "metadata": {},
   "source": [
    "#  剪绳子 \n",
    "![title](../img/a2.png)"
   ]
  },
  {
   "cell_type": "code",
   "execution_count": 18,
   "metadata": {},
   "outputs": [
    {
     "name": "stdout",
     "output_type": "stream",
     "text": [
      "[0, 1, 1, 2, 4, 6, 9, 12, 18]\n"
     ]
    },
    {
     "data": {
      "text/plain": [
       "18"
      ]
     },
     "execution_count": 18,
     "metadata": {},
     "output_type": "execute_result"
    }
   ],
   "source": [
    "def cuttingRope(n):\n",
    "    # n = m * k\n",
    "    # 分为两种情况： 剪成 m 和 k 或者 m 和 k 之后，再把 k 剪\n",
    "    dp = [0] * (1 + n)\n",
    "    dp[1] = 1\n",
    "    for i in range(2, n + 1):\n",
    "        for j in range(1, i):\n",
    "           #  如果剪开位置为k，则区间分为[0, k)和[k, i)两部分\n",
    "            # 第一部分长度为j, 第二部分长度为i-k\n",
    "\n",
    "            # 第二部分存在剪和不剪两种情况，剪的时候值为dp[i-j]，不剪的时候取（i-j)\n",
    "            current_max = max((i - j) * j , dp[j] * (i - j))\n",
    "            dp[i] = max(dp[i], current_max)\n",
    "    print(dp)\n",
    "    return dp[n]\n",
    "cuttingRope(8)"
   ]
  },
  {
   "cell_type": "code",
   "execution_count": null,
   "metadata": {},
   "outputs": [],
   "source": [
    "def maxProductAfterCutitng(length):\n",
    "    # 当length<=3时\n",
    "    if (length<2):\n",
    "        return 0\n",
    "    if (length == 2):\n",
    "        return 1\n",
    "    if (length == 3):\n",
    "        return 2\n",
    "    #当length>=4的时候，自身不剪比剪的结果大\n",
    "    products = [1]*(length+1)\n",
    "    products[0] = 0\n",
    "    products[1] = 1\n",
    "    products[2] = 2\n",
    "    products[3] = 3\n",
    " \n",
    "    max = 0\n",
    " \n",
    "    for i in range(4, length+1):\n",
    "        max = 0\n",
    "        for j in range(1, i//2+1):\n",
    "            product = products[j] * products[i-j]\n",
    "            if (max<product):\n",
    "                max = product\n",
    "            \n",
    "        products[i]=max\n",
    "    \n",
    "    max = products[length]\n",
    "    return max\n"
   ]
  },
  {
   "cell_type": "code",
   "execution_count": null,
   "metadata": {},
   "outputs": [],
   "source": []
  },
  {
   "cell_type": "markdown",
   "metadata": {},
   "source": [
    "# 矩阵中的路径\n",
    "![title](../img/a4.png)"
   ]
  },
  {
   "cell_type": "code",
   "execution_count": 34,
   "metadata": {},
   "outputs": [
    {
     "data": {
      "text/plain": [
       "True"
      ]
     },
     "execution_count": 34,
     "metadata": {},
     "output_type": "execute_result"
    }
   ],
   "source": [
    "arr = [\n",
    "    ['a', 'b', 't', 'g'],\n",
    "    \n",
    "    ['c', 'f', 'c', 's'],\n",
    "    \n",
    "    ['j', 'd', 'e', 'h'],\n",
    "]\n",
    "        \n",
    "\n",
    "def exist(board, word):\n",
    "    rows, cols = len(board), len(board[0])\n",
    "    record = [[False] * cols for i in range(rows)]\n",
    "    \n",
    "    def check_one_path(i, j, word, index):\n",
    "        \n",
    "        if index == len(word):\n",
    "            return True\n",
    "        \n",
    "        if i < 0 or j < 0 or i >= rows or j >= cols or record[i][j] or board[i][j] != word[index]:\n",
    "            return False\n",
    "        \n",
    "        record[i][j] = True\n",
    "        \n",
    "        flag1 = check_one_path(i - 1, j, word, index + 1)\n",
    "        flag2 = check_one_path(i + 1, j, word, index + 1)\n",
    "        flag3 = check_one_path(i, j - 1, word, index + 1)\n",
    "        flag4 = check_one_path(i, j + 1, word, index + 1)\n",
    "        \n",
    "        if flag1 or  flag2 or  flag3 or  flag4:\n",
    "            return True\n",
    "        \n",
    "        record[i][j] = False\n",
    "            \n",
    "    for i in range(rows):\n",
    "        for j in range(cols):\n",
    "            if check_one_path(i, j, word, 0):\n",
    "                return True\n",
    "    return False\n",
    "    \n",
    "exist(arr, \"btce\")"
   ]
  },
  {
   "cell_type": "code",
   "execution_count": null,
   "metadata": {},
   "outputs": [],
   "source": []
  },
  {
   "cell_type": "code",
   "execution_count": null,
   "metadata": {},
   "outputs": [],
   "source": []
  },
  {
   "cell_type": "code",
   "execution_count": null,
   "metadata": {},
   "outputs": [],
   "source": []
  },
  {
   "cell_type": "code",
   "execution_count": null,
   "metadata": {},
   "outputs": [],
   "source": []
  }
 ],
 "metadata": {
  "kernelspec": {
   "display_name": "Python 3",
   "language": "python",
   "name": "python3"
  },
  "language_info": {
   "codemirror_mode": {
    "name": "ipython",
    "version": 3
   },
   "file_extension": ".py",
   "mimetype": "text/x-python",
   "name": "python",
   "nbconvert_exporter": "python",
   "pygments_lexer": "ipython3",
   "version": "3.7.3"
  }
 },
 "nbformat": 4,
 "nbformat_minor": 4
}
