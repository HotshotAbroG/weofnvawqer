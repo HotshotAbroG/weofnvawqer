{
 "cells": [
  {
   "cell_type": "code",
   "execution_count": null,
   "metadata": {},
   "outputs": [],
   "source": []
  },
  {
   "cell_type": "markdown",
   "metadata": {},
   "source": [
    "# 给定一个数组，它的第 i 个元素是一支给定股票第 i 天的价格。\n",
    "\n",
    "如果你最多只允许完成一笔交易（即买入和卖出一支股票），设计一个算法来计算你所能获取的最大利润。\n",
    "\n",
    "注意你不能在买入股票前卖出股票。\n",
    "\n",
    "示例 1:\n",
    "\n",
    "输入: [7,1,5,3,6,4]\n",
    "\n",
    "输出: 5\n",
    "\n",
    "解释: \n",
    "\n",
    "在第 2 天（股票价格 = 1）的时候买入，\n",
    "\n",
    "在第 5 天（股票价格 = 6）的时候卖出，最大利润 = 6-1 = 5 。\n",
    "    \n",
    "    \n",
    "  注意利润不能是 7-1 = 6, 因为卖出价格需要大于买入价格。\n",
    "\n"
   ]
  },
  {
   "cell_type": "code",
   "execution_count": 22,
   "metadata": {},
   "outputs": [
    {
     "name": "stdout",
     "output_type": "stream",
     "text": [
      "[0, -7]\n",
      "[7, -7]\n",
      "[7, -5]\n",
      "[7, -3]\n",
      "[7, -3]\n",
      "[7, -3]\n"
     ]
    },
    {
     "data": {
      "text/plain": [
       "7"
      ]
     },
     "execution_count": 22,
     "metadata": {},
     "output_type": "execute_result"
    }
   ],
   "source": [
    "# 只可以交易一次\n",
    "def getAnswer(prices:list) -> int:\n",
    "    length = len(prices)\n",
    "    k = 2\n",
    "    \n",
    "    # 建立动态规划数组\n",
    "    dp = [[0] * k for i in range(length)]# 定义二维数组的方式\n",
    "\n",
    "    # 第1天结束，持有股票的收益\n",
    "    dp[0][1] = -prices[0]\n",
    "    \n",
    "    for i in range(1,length):\n",
    "        # 第i天 结束不持有股票的收益， 等于 i - 1天不持有 或者 i-1天有，i天卖了\n",
    "        dp[i][0] = max(dp[i - 1][0], dp[i - 1][1] + prices[i])\n",
    "        dp[i][1] = max(dp[i - 1][1], 0 - prices[i])\n",
    "\n",
    "    for i in dp:\n",
    "        print(i)\n",
    "    return dp[-1][0]\n",
    "    \n",
    "prices = [7,14,5,3,6,4]\n",
    "getAnswer(prices)"
   ]
  },
  {
   "cell_type": "markdown",
   "metadata": {},
   "source": [
    "# 简化版本"
   ]
  },
  {
   "cell_type": "code",
   "execution_count": 29,
   "metadata": {},
   "outputs": [
    {
     "data": {
      "text/plain": [
       "7"
      ]
     },
     "execution_count": 29,
     "metadata": {},
     "output_type": "execute_result"
    }
   ],
   "source": [
    "prices = [7,14,5,3,6,4]\n",
    "def maxProfit(prices):\n",
    "    dp_i_0 = 0\n",
    "    dp_i_1 = float(\"-inf\")\n",
    "    for i in prices:\n",
    "        dp_i_0 = max(dp_i_0, dp_i_1 + i)\n",
    "        dp_i_1 = max(dp_i_1, 0 - i)\n",
    "    return dp_i_0\n",
    "maxProfit(prices)"
   ]
  },
  {
   "cell_type": "markdown",
   "metadata": {},
   "source": [
    "# 可多次买卖股票\n",
    "\n",
    "**给定一个数组，它的第 i 个元素是一支给定股票第 i 天的价格**。\n",
    "\n",
    "\n",
    "设计一个算法来计算你所能获取的最大利润。你可以尽可能地完成更多的交易（多次买卖一支股票）。\n",
    "\n",
    "注意：你不能同时参与多笔交易（你必须在再次购买前出售掉之前的股票）。\n",
    "*****\n",
    "\n",
    "输入:\n",
    "\n",
    "[7,1,5,3,6,4]\n",
    "\n",
    "输出: \n",
    "\n",
    "7 <br>\n",
    "\n",
    "解释: \n",
    "\n",
    "在第 2 天（股票价格 = 1）的时候买入，在第 3 天（股票价格 = 5）的时候卖出, \n",
    "\n",
    "这笔交易所能获得利润 = 5-1 = 4 。\n",
    "\n",
    " 随后，在第 4 天（股票价格 = 3）的时候买入，\n",
    "     \n",
    "   在第 5 天（股票价格 = 6）的时候卖出, 这笔交易所能获得利润 = 6-3 = 3 。\n",
    "\n"
   ]
  },
  {
   "cell_type": "code",
   "execution_count": 23,
   "metadata": {},
   "outputs": [
    {
     "name": "stdout",
     "output_type": "stream",
     "text": [
      "[0, -7]\n",
      "[0, -1]\n",
      "[4, -1]\n",
      "[4, 1]\n",
      "[7, 1]\n",
      "[7, 3]\n"
     ]
    }
   ],
   "source": [
    "prices = [7,1,5,3,6,4]\n",
    "\n",
    "def maxProfit(prices):\n",
    "    length = len(prices)\n",
    "    k = 2 # 持有/不持有 两种状态\n",
    "    dp = [[0] * k for i in range(length)]\n",
    "    \n",
    "    dp[0][1] = -prices[0]\n",
    "    \n",
    "    for i in range(1, length):\n",
    "        dp[i][0] = max(dp[i - 1][0], dp[i - 1][1] + prices[i])\n",
    "        \n",
    "        # 1.昨天手里有，今天啥都没干，手里还有 2.昨天手里没有，今天手里有\n",
    "        dp[i][1] = max(dp[i - 1][1], dp[i - 1][0] - prices[i])\n",
    "    \n",
    "    for i in dp:\n",
    "        print(i)\n",
    "    return dp[-1][0]\n",
    "maxProfit(prices)"
   ]
  },
  {
   "cell_type": "markdown",
   "metadata": {},
   "source": [
    "# 第二题简化版本"
   ]
  },
  {
   "cell_type": "code",
   "execution_count": 28,
   "metadata": {},
   "outputs": [
    {
     "data": {
      "text/plain": [
       "7"
      ]
     },
     "execution_count": 28,
     "metadata": {},
     "output_type": "execute_result"
    }
   ],
   "source": [
    "prices = [7,1,5,3,6,4]\n",
    "\n",
    "def maxProfit(prices):\n",
    "    length = len(prices)\n",
    "    \n",
    "    dp_i_0 = 0             # 未持有\n",
    "    dp_i_1 = float(\"-inf\") # 持有\n",
    "\n",
    "    \n",
    "    for i in range( length):\n",
    "        temp = dp_i_0\n",
    "        dp_i_0 = max(dp_i_0, dp_i_1 + prices[i])\n",
    "        dp_i_1 = max(dp_i_1, temp - prices[i])\n",
    "\n",
    "    return dp_i_0\n",
    "maxProfit(prices)"
   ]
  },
  {
   "cell_type": "markdown",
   "metadata": {},
   "source": [
    "# 第三题\n",
    "给定一个数组，它的第 i 个元素是一支给定的股票在第 i 天的价格。\n",
    "\n",
    "\n",
    "设计一个算法来计算你所能获取的最大利润。你最多可以完成 **两笔** 交易。\n",
    "\n",
    "注意: 你不能同时参与多笔交易（你必须在再次购买前出售掉之前的股票）。\n"
   ]
  },
  {
   "cell_type": "code",
   "execution_count": 36,
   "metadata": {},
   "outputs": [
    {
     "name": "stdout",
     "output_type": "stream",
     "text": [
      "[[0, -3], [0, -3]]\n",
      "[[0, -3], [0, -3]]\n",
      "[[2, -3], [2, -3]]\n",
      "[[2, 0], [2, 2]]\n",
      "[[2, 0], [2, 2]]\n",
      "[[3, 0], [5, 2]]\n",
      "[[3, 0], [5, 2]]\n",
      "[[4, 0], [6, 2]]\n"
     ]
    },
    {
     "data": {
      "text/plain": [
       "6"
      ]
     },
     "execution_count": 36,
     "metadata": {},
     "output_type": "execute_result"
    }
   ],
   "source": [
    "prices = [3,3,5,0,0,3,1,4]\n",
    "def maxProfit(prices):\n",
    "    # 3个状态的dp\n",
    "    length = len(prices)\n",
    "    if (length < 2):\n",
    "        return 0\n",
    "    max_sell = 2\n",
    "    dp = [[[0]*2 for i in range(max_sell)] for j in range(length)]\n",
    "    \n",
    "    # dp[i][j][k] : 第i天，j次交易，第k个状态 持有/未持有\n",
    "    \n",
    "    # 初始化\n",
    "    for i in range(max_sell):\n",
    "        dp[0][i][1] = -prices[0]\n",
    "    \n",
    "    for i in range(1, length):\n",
    "        for j in range(max_sell):\n",
    "            \n",
    "            if j == 0: # 第一次交易\n",
    "                dp[i][j][1] = max(dp[i - 1][j][1], -prices[i])\n",
    "            else:\n",
    "                dp[i][j][1] = max(dp[i - 1][j][1], dp[i - 1][j - 1][0] - prices[i])\n",
    "            \n",
    "            dp[i][j][0] = max(dp[i - 1][j][0], dp[i - 1][j][1] + prices[i])\n",
    "    \n",
    "    \n",
    "    for i in dp:\n",
    "        print(i)\n",
    "    return dp[-1][-1][0]\n",
    "maxProfit(prices)"
   ]
  },
  {
   "cell_type": "markdown",
   "metadata": {},
   "source": [
    "# 堆\n",
    "python内置堆函数 heapq"
   ]
  },
  {
   "cell_type": "markdown",
   "metadata": {},
   "source": [
    "# 创建堆有两种方式，heappush()和heapify()。\n",
    "\n",
    "\n",
    "上述两种方法得到的堆是一样的。\n",
    "\n",
    "\n"
   ]
  },
  {
   "cell_type": "code",
   "execution_count": 42,
   "metadata": {},
   "outputs": [],
   "source": [
    "import heapq\n",
    "\n",
    "data = [1,5,3,2,8,5]\n",
    "heap = []\n",
    "\n",
    "for n in data:\n",
    "    heapq.heappush(heap, n)\n"
   ]
  },
  {
   "cell_type": "markdown",
   "metadata": {},
   "source": [
    "# 如果数据已经存在于内存中，使用heapify()原地重新组织列表中的元素会更加高效。\n"
   ]
  },
  {
   "cell_type": "markdown",
   "metadata": {},
   "source": [
    "# 获取元素 heapq.heappop(list) "
   ]
  },
  {
   "cell_type": "code",
   "execution_count": 65,
   "metadata": {},
   "outputs": [
    {
     "name": "stdout",
     "output_type": "stream",
     "text": [
      "[1, 2, 3, 5, 8, 5]\n"
     ]
    }
   ],
   "source": [
    "import heapq\n",
    "data = [1,5,3,2,8,5]\n",
    "heapq.heapify(data)\n",
    "\n",
    "# 此时 data已经是 一个 小堆了，但是list\n",
    "print(data)\n"
   ]
  },
  {
   "cell_type": "code",
   "execution_count": 66,
   "metadata": {},
   "outputs": [
    {
     "name": "stdout",
     "output_type": "stream",
     "text": [
      "len:  6\n",
      "1\n",
      "len:  5\n",
      "2\n"
     ]
    }
   ],
   "source": [
    "for i in range(2):\n",
    "    print(\"len: \", len(data))\n",
    "    val = heapq.heappop(data)\n",
    "    print(val)"
   ]
  },
  {
   "cell_type": "markdown",
   "metadata": {},
   "source": [
    "# 队列\n",
    "\n",
    "先进先出<br><br>\n",
    "import queue"
   ]
  },
  {
   "cell_type": "markdown",
   "metadata": {},
   "source": [
    "# 定义队列"
   ]
  },
  {
   "cell_type": "code",
   "execution_count": 70,
   "metadata": {},
   "outputs": [
    {
     "name": "stdout",
     "output_type": "stream",
     "text": [
      "<class 'queue.Queue'>\n"
     ]
    }
   ],
   "source": [
    "import queue\n",
    "que = queue.Queue()\n",
    "print(type(que))"
   ]
  },
  {
   "cell_type": "markdown",
   "metadata": {},
   "source": [
    "# 增加\n",
    "put() 方法"
   ]
  },
  {
   "cell_type": "code",
   "execution_count": 87,
   "metadata": {},
   "outputs": [
    {
     "name": "stdout",
     "output_type": "stream",
     "text": [
      "<queue.Queue object at 0x1096fe278>\n"
     ]
    }
   ],
   "source": [
    "que.put(10)\n",
    "print(que)\n",
    "que.put(39)\n",
    "que.put(3)"
   ]
  },
  {
   "cell_type": "markdown",
   "metadata": {},
   "source": [
    "# 弹出 与 获取 数据量\n",
    "\n",
    "get 与 qsize/ empty()"
   ]
  },
  {
   "cell_type": "code",
   "execution_count": 86,
   "metadata": {},
   "outputs": [
    {
     "name": "stdout",
     "output_type": "stream",
     "text": [
      "False\n",
      "10\n",
      "que size:  5\n"
     ]
    }
   ],
   "source": [
    "print(que.empty())\n",
    "print(que.get())\n",
    "print(\"que size: \",que.qsize())\n"
   ]
  },
  {
   "cell_type": "markdown",
   "metadata": {},
   "source": [
    "# 查看队列中所有数据"
   ]
  },
  {
   "cell_type": "code",
   "execution_count": 88,
   "metadata": {
    "scrolled": true
   },
   "outputs": [
    {
     "data": {
      "text/plain": [
       "deque([39, 3, 10, 39, 3, 10, 39, 3])"
      ]
     },
     "execution_count": 88,
     "metadata": {},
     "output_type": "execute_result"
    }
   ],
   "source": [
    "que.queue"
   ]
  },
  {
   "cell_type": "code",
   "execution_count": 90,
   "metadata": {},
   "outputs": [],
   "source": []
  },
  {
   "cell_type": "code",
   "execution_count": 91,
   "metadata": {},
   "outputs": [
    {
     "name": "stdout",
     "output_type": "stream",
     "text": [
      "[10, 34]\n",
      "[]\n"
     ]
    }
   ],
   "source": []
  },
  {
   "cell_type": "code",
   "execution_count": null,
   "metadata": {},
   "outputs": [],
   "source": []
  },
  {
   "cell_type": "code",
   "execution_count": null,
   "metadata": {},
   "outputs": [],
   "source": []
  },
  {
   "cell_type": "code",
   "execution_count": null,
   "metadata": {},
   "outputs": [],
   "source": []
  },
  {
   "cell_type": "code",
   "execution_count": null,
   "metadata": {},
   "outputs": [],
   "source": []
  }
 ],
 "metadata": {
  "kernelspec": {
   "display_name": "Python 3",
   "language": "python",
   "name": "python3"
  },
  "language_info": {
   "codemirror_mode": {
    "name": "ipython",
    "version": 3
   },
   "file_extension": ".py",
   "mimetype": "text/x-python",
   "name": "python",
   "nbconvert_exporter": "python",
   "pygments_lexer": "ipython3",
   "version": "3.7.3"
  }
 },
 "nbformat": 4,
 "nbformat_minor": 4
}
