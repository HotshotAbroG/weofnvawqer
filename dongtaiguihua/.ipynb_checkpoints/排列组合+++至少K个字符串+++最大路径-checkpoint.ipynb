{
 "cells": [
  {
   "cell_type": "markdown",
   "metadata": {},
   "source": [
    "# 1 至少有K个重复字符的最长子串\n",
    "\n",
    "输入:\n",
    "s = \"aaabb\", k = 3\n",
    "\n",
    "输出:\n",
    "3\n",
    "\n",
    "最长子串为 \"aaa\" ，其中 'a' 重复了 3 次。\n",
    "示例 2:\n",
    "\n",
    "输入:\n",
    "s = \"ababbc\", k = 2\n",
    "\n",
    "输出:\n",
    "5\n",
    "\n",
    "最长子串为 \"ababb\" ，其中 'a' 重复了 2 次， 'b' 重复了 3 次。"
   ]
  },
  {
   "cell_type": "code",
   "execution_count": 48,
   "metadata": {
    "scrolled": true
   },
   "outputs": [
    {
     "name": "stdout",
     "output_type": "stream",
     "text": [
      "['ababb', 'b', '']\n",
      "['', 'b', 'bb']\n",
      "['', '']\n",
      "['', '', '']\n",
      "['', '']\n"
     ]
    },
    {
     "data": {
      "text/plain": [
       "0"
      ]
     },
     "execution_count": 48,
     "metadata": {},
     "output_type": "execute_result"
    }
   ],
   "source": [
    "# 分治法\n",
    "string = \"ababbc\"\n",
    "string = \"ababbcbc\"\n",
    "def get(s, k):\n",
    "    if not s:\n",
    "        return 0\n",
    "    char_set = set(s)\n",
    "    for c in char_set:\n",
    "        if s.count(c) < k:\n",
    "            # 如果句子中存在某个字符数量，少于k的则继续 递归划分\n",
    "            print(s.split(c))\n",
    "            return max(get(i,k) for i in s.split(c))\n",
    "    return len(s)\n",
    "get(string, 3)"
   ]
  },
  {
   "cell_type": "markdown",
   "metadata": {},
   "source": [
    "# 2 二叉树最大路径和"
   ]
  },
  {
   "cell_type": "code",
   "execution_count": 1,
   "metadata": {},
   "outputs": [],
   "source": [
    "class tree:\n",
    "    def __init__(self,val, left, right):\n",
    "        self.left = left\n",
    "        self.right = right \n",
    "        self.val = val"
   ]
  },
  {
   "cell_type": "code",
   "execution_count": 3,
   "metadata": {},
   "outputs": [
    {
     "ename": "AttributeError",
     "evalue": "'int' object has no attribute 'left'",
     "output_type": "error",
     "traceback": [
      "\u001b[0;31m---------------------------------------------------------------------------\u001b[0m",
      "\u001b[0;31mAttributeError\u001b[0m                            Traceback (most recent call last)",
      "\u001b[0;32m<ipython-input-3-2c9b12a6a77d>\u001b[0m in \u001b[0;36m<module>\u001b[0;34m\u001b[0m\n\u001b[1;32m     22\u001b[0m     \u001b[0;32mreturn\u001b[0m \u001b[0mres\u001b[0m\u001b[0;34m[\u001b[0m\u001b[0;36m0\u001b[0m\u001b[0;34m]\u001b[0m\u001b[0;34m\u001b[0m\u001b[0;34m\u001b[0m\u001b[0m\n\u001b[1;32m     23\u001b[0m \u001b[0;34m\u001b[0m\u001b[0m\n\u001b[0;32m---> 24\u001b[0;31m \u001b[0mmaxPathSum\u001b[0m\u001b[0;34m(\u001b[0m\u001b[0;36m29\u001b[0m\u001b[0;34m)\u001b[0m\u001b[0;34m\u001b[0m\u001b[0;34m\u001b[0m\u001b[0m\n\u001b[0m",
      "\u001b[0;32m<ipython-input-3-2c9b12a6a77d>\u001b[0m in \u001b[0;36mmaxPathSum\u001b[0;34m(root)\u001b[0m\n\u001b[1;32m     19\u001b[0m \u001b[0;34m\u001b[0m\u001b[0m\n\u001b[1;32m     20\u001b[0m     \u001b[0mres\u001b[0m \u001b[0;34m=\u001b[0m \u001b[0mfloat\u001b[0m\u001b[0;34m(\u001b[0m\u001b[0;34m'-inf'\u001b[0m\u001b[0;34m)\u001b[0m\u001b[0;34m\u001b[0m\u001b[0;34m\u001b[0m\u001b[0m\n\u001b[0;32m---> 21\u001b[0;31m     \u001b[0mget_max\u001b[0m\u001b[0;34m(\u001b[0m\u001b[0mroot\u001b[0m\u001b[0;34m)\u001b[0m\u001b[0;34m\u001b[0m\u001b[0;34m\u001b[0m\u001b[0m\n\u001b[0m\u001b[1;32m     22\u001b[0m     \u001b[0;32mreturn\u001b[0m \u001b[0mres\u001b[0m\u001b[0;34m[\u001b[0m\u001b[0;36m0\u001b[0m\u001b[0;34m]\u001b[0m\u001b[0;34m\u001b[0m\u001b[0;34m\u001b[0m\u001b[0m\n\u001b[1;32m     23\u001b[0m \u001b[0;34m\u001b[0m\u001b[0m\n",
      "\u001b[0;32m<ipython-input-3-2c9b12a6a77d>\u001b[0m in \u001b[0;36mget_max\u001b[0;34m(node)\u001b[0m\n\u001b[1;32m      7\u001b[0m             \u001b[0;32mreturn\u001b[0m \u001b[0;36m0\u001b[0m\u001b[0;34m\u001b[0m\u001b[0;34m\u001b[0m\u001b[0m\n\u001b[1;32m      8\u001b[0m \u001b[0;34m\u001b[0m\u001b[0m\n\u001b[0;32m----> 9\u001b[0;31m         \u001b[0mleft_sum\u001b[0m \u001b[0;34m=\u001b[0m \u001b[0mmax\u001b[0m\u001b[0;34m(\u001b[0m\u001b[0;36m0\u001b[0m\u001b[0;34m,\u001b[0m \u001b[0mget_max\u001b[0m\u001b[0;34m(\u001b[0m\u001b[0mnode\u001b[0m\u001b[0;34m.\u001b[0m\u001b[0mleft\u001b[0m\u001b[0;34m)\u001b[0m\u001b[0;34m)\u001b[0m\u001b[0;34m\u001b[0m\u001b[0;34m\u001b[0m\u001b[0m\n\u001b[0m\u001b[1;32m     10\u001b[0m \u001b[0;34m\u001b[0m\u001b[0m\n\u001b[1;32m     11\u001b[0m         \u001b[0mright_sum\u001b[0m \u001b[0;34m=\u001b[0m \u001b[0mmax\u001b[0m\u001b[0;34m(\u001b[0m\u001b[0;36m0\u001b[0m\u001b[0;34m,\u001b[0m \u001b[0mget_max\u001b[0m\u001b[0;34m(\u001b[0m\u001b[0mnode\u001b[0m\u001b[0;34m.\u001b[0m\u001b[0mright\u001b[0m\u001b[0;34m)\u001b[0m\u001b[0;34m)\u001b[0m\u001b[0;34m\u001b[0m\u001b[0;34m\u001b[0m\u001b[0m\n",
      "\u001b[0;31mAttributeError\u001b[0m: 'int' object has no attribute 'left'"
     ]
    }
   ],
   "source": [
    "def maxPathSum(root):\n",
    "    \n",
    "    def get_max(node):\n",
    "        nonlocal res\n",
    "        if not node:\n",
    "            res[0] = 0\n",
    "            return 0\n",
    "        \n",
    "        left_sum = max(0, get_max(node.left))\n",
    "        \n",
    "        right_sum = max(0, get_max(node.right))\n",
    "        \n",
    "        total_sum = node.val + left_sum + right_sum\n",
    "        \n",
    "        res = max(res, total_sum)\n",
    "        \n",
    "        return node.val + max(left_sum, right_sum)\n",
    "        \n",
    "        \n",
    "    res = float('-inf')\n",
    "    get_max(root)\n",
    "    return res[0]\n",
    " \n",
    "maxPathSum(29)"
   ]
  },
  {
   "cell_type": "markdown",
   "metadata": {},
   "source": [
    "# 3. 全排列\n",
    "输入： [1,2,3]\n",
    "\n",
    "输出： [ [1,2,3] ,[1,3,2].....]"
   ]
  },
  {
   "cell_type": "code",
   "execution_count": 9,
   "metadata": {},
   "outputs": [
    {
     "name": "stdout",
     "output_type": "stream",
     "text": [
      "[[1, 2, 3], [1, 3, 2], [2, 1, 3], [2, 3, 1], [3, 1, 2], [3, 2, 1]]\n"
     ]
    }
   ],
   "source": [
    "res = []\n",
    "stack = []\n",
    "def pailie(arr, total_length, cur_length):\n",
    "    if (cur_length == total_length):\n",
    "        res.append(stack.copy())\n",
    "        return \n",
    "    \n",
    "    for i in arr:\n",
    "        if i not in stack:\n",
    "            stack.append(i)\n",
    "            pailie(arr, total_length, cur_length + 1)\n",
    "            stack.pop()\n",
    "\n",
    "arr = [1, 2, 3]\n",
    "pailie(arr, len(arr), 0)\n",
    "\n",
    "print(res)"
   ]
  },
  {
   "cell_type": "markdown",
   "metadata": {},
   "source": [
    "# 3. 组合"
   ]
  },
  {
   "cell_type": "code",
   "execution_count": 13,
   "metadata": {},
   "outputs": [
    {
     "data": {
      "text/plain": [
       "[[0, 1],\n",
       " [0, 2],\n",
       " [0, 3],\n",
       " [1, 1],\n",
       " [1, 2],\n",
       " [1, 3],\n",
       " [2, 1],\n",
       " [2, 2],\n",
       " [2, 3],\n",
       " [3, 1],\n",
       " [3, 2],\n",
       " [3, 3]]"
      ]
     },
     "execution_count": 13,
     "metadata": {},
     "output_type": "execute_result"
    }
   ],
   "source": [
    "res = []\n",
    "stack  = []\n",
    "def combine(start, n, k):\n",
    "    if (len(stack) == k):\n",
    "        res.append(stack.copy())\n",
    "    \n",
    "    for i in range(start, n):\n",
    "        \n",
    "        stack.append(i)\n",
    "        combine(start + 1, n, k)\n",
    "        stack.pop()\n",
    "\n",
    "combine(0, 4, 2)\n",
    "res"
   ]
  },
  {
   "cell_type": "markdown",
   "metadata": {},
   "source": [
    "# 4. 判断矩阵路径\n",
    "\n",
    "求以下路径是否包含bfce\n",
    "\n",
    "            'a', 'b', 't', 'g'},\n",
    "            \n",
    "            \n",
    "            {'c', 'f', 'c', 's'},\n",
    "            \n",
    "            {'j', 'd', 'e', 'h'}};"
   ]
  },
  {
   "cell_type": "code",
   "execution_count": 41,
   "metadata": {},
   "outputs": [
    {
     "name": "stdout",
     "output_type": "stream",
     "text": [
      "OK\n"
     ]
    }
   ],
   "source": [
    "\n",
    "def find(arr,target):\n",
    "    \n",
    "    rows = len(arr)\n",
    "    cols = len(arr[0])\n",
    "    \n",
    "    record = [[False] * cols for i in range(rows)]\n",
    "    \n",
    "        \n",
    "    def judge(target, i, j, index):\n",
    "        \n",
    "        if index == len(target):\n",
    "            return True\n",
    "        \n",
    "        if (i >= rows or i <0 or\n",
    "            j < 0 or j >= cols or \n",
    "            record[i][j] or arr[i][j] != target[index]):\n",
    "            \n",
    "            return False\n",
    "        \n",
    "        record[i][j] = True\n",
    "        \n",
    "        if (judge(target, i-1,j, index+1) \n",
    "            or judge(target,i+1,j, index+1) \n",
    "            or judge(target,i,j-1,index+1) \n",
    "            or judge(target,i,j+1,index+1)): \n",
    "            return True\n",
    "        \n",
    "        record[i][j] = False\n",
    "        \n",
    "        return False       \n",
    "        \n",
    "    \n",
    "    \n",
    "    for i in range(rows):\n",
    "        for j in range(cols):\n",
    "            if judge(target,i,j,0):\n",
    "                print(\"OK\")\n",
    "    \n",
    "    \n",
    "\n",
    "        \n",
    "        \n",
    "arr = [\n",
    "    ['a', 'b', 't', 'g'],\n",
    "    \n",
    "    ['c', 'f', 'c', 's'],\n",
    "    \n",
    "    ['j', 'd', 'e', 'h'],\n",
    "]\n",
    "        \n",
    "find(arr,\"bfced\")  "
   ]
  },
  {
   "cell_type": "code",
   "execution_count": null,
   "metadata": {},
   "outputs": [],
   "source": []
  },
  {
   "cell_type": "code",
   "execution_count": null,
   "metadata": {},
   "outputs": [],
   "source": []
  },
  {
   "cell_type": "code",
   "execution_count": null,
   "metadata": {},
   "outputs": [],
   "source": []
  },
  {
   "cell_type": "code",
   "execution_count": null,
   "metadata": {},
   "outputs": [],
   "source": []
  },
  {
   "cell_type": "code",
   "execution_count": null,
   "metadata": {},
   "outputs": [],
   "source": []
  },
  {
   "cell_type": "code",
   "execution_count": null,
   "metadata": {},
   "outputs": [],
   "source": []
  },
  {
   "cell_type": "code",
   "execution_count": null,
   "metadata": {},
   "outputs": [],
   "source": []
  },
  {
   "cell_type": "code",
   "execution_count": null,
   "metadata": {},
   "outputs": [],
   "source": []
  }
 ],
 "metadata": {
  "kernelspec": {
   "display_name": "Python 3",
   "language": "python",
   "name": "python3"
  },
  "language_info": {
   "codemirror_mode": {
    "name": "ipython",
    "version": 3
   },
   "file_extension": ".py",
   "mimetype": "text/x-python",
   "name": "python",
   "nbconvert_exporter": "python",
   "pygments_lexer": "ipython3",
   "version": "3.7.3"
  }
 },
 "nbformat": 4,
 "nbformat_minor": 4
}
