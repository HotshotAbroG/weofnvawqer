{
 "cells": [
  {
   "cell_type": "markdown",
   "metadata": {},
   "source": [
    "# 链表相关\n",
    "\n",
    "- 1.找到链表中点\n",
    "- 2.判断链表是否有环"
   ]
  },
  {
   "cell_type": "markdown",
   "metadata": {},
   "source": [
    "# base"
   ]
  },
  {
   "cell_type": "code",
   "execution_count": 45,
   "metadata": {},
   "outputs": [],
   "source": [
    "class listNode():\n",
    "    def __init__(self, val = None):\n",
    "        self.next = None\n",
    "        self.val = val\n",
    "        \n",
    "    @staticmethod\n",
    "    def array_2_list(arr):\n",
    "        dummyhead  = listNode(-1)\n",
    "        head = dummyhead\n",
    "        for i in arr:\n",
    "            temp_node = listNode(i)\n",
    "            dummyhead.next = temp_node\n",
    "            dummyhead = dummyhead.next\n",
    "        return head.next\n",
    "    \n",
    "    \n",
    "    @staticmethod\n",
    "    def show(head):\n",
    "        print(\"\\nshow node list\\n\")\n",
    "        dummyhead = head\n",
    "        while(dummyhead != None):\n",
    "            print(dummyhead.val,end = \" \")\n",
    "            dummyhead = dummyhead.next\n",
    "        print(\"\\n\")\n",
    " "
   ]
  },
  {
   "cell_type": "markdown",
   "metadata": {},
   "source": [
    "# 寻找链表中点\n",
    "利用快慢指针"
   ]
  },
  {
   "cell_type": "code",
   "execution_count": 58,
   "metadata": {},
   "outputs": [],
   "source": [
    "arr1 = list(range(12))\n",
    "arr11 = list(range(9))\n",
    "head_odd = listNode.array_2_list(arr1)\n",
    "head_even = listNode.array_2_list(arr11)\n"
   ]
  },
  {
   "cell_type": "code",
   "execution_count": 61,
   "metadata": {},
   "outputs": [
    {
     "name": "stdout",
     "output_type": "stream",
     "text": [
      "\n",
      "show node list\n",
      "\n",
      "0 1 2 3 4 5 6 7 8 9 10 11 \n",
      "\n",
      "mid node:  5\n",
      "\n",
      "show node list\n",
      "\n",
      "0 1 2 3 4 5 6 7 8 \n",
      "\n",
      "mid node:  4\n"
     ]
    }
   ],
   "source": [
    "def find_middle_node(head):\n",
    "    slow_pointer = head\n",
    "    fast_pointer = head.next\n",
    "    while (fast_pointer != None and fast_pointer.next != None):\n",
    "        fast_pointer = fast_pointer.next.next\n",
    "        slow_pointer = slow_pointer.next\n",
    "    return slow_pointer\n",
    "\n",
    "mid_even_node = find_middle_node(head_even)\n",
    "mid_odd_node = find_middle_node(head_odd)\n",
    "listNode.show(head_odd)\n",
    "print(\"mid node: \", mid_odd_node.val)\n",
    "\n",
    "listNode.show(head_even)\n",
    "print(\"mid node: \", mid_even_node.val)"
   ]
  },
  {
   "cell_type": "code",
   "execution_count": null,
   "metadata": {},
   "outputs": [],
   "source": []
  },
  {
   "cell_type": "code",
   "execution_count": null,
   "metadata": {},
   "outputs": [],
   "source": []
  },
  {
   "cell_type": "code",
   "execution_count": null,
   "metadata": {},
   "outputs": [],
   "source": []
  },
  {
   "cell_type": "code",
   "execution_count": null,
   "metadata": {},
   "outputs": [],
   "source": []
  },
  {
   "cell_type": "code",
   "execution_count": null,
   "metadata": {},
   "outputs": [],
   "source": []
  },
  {
   "cell_type": "code",
   "execution_count": null,
   "metadata": {},
   "outputs": [],
   "source": []
  },
  {
   "cell_type": "code",
   "execution_count": null,
   "metadata": {},
   "outputs": [],
   "source": []
  },
  {
   "cell_type": "code",
   "execution_count": null,
   "metadata": {},
   "outputs": [],
   "source": []
  },
  {
   "cell_type": "code",
   "execution_count": null,
   "metadata": {},
   "outputs": [],
   "source": []
  },
  {
   "cell_type": "code",
   "execution_count": null,
   "metadata": {},
   "outputs": [],
   "source": []
  },
  {
   "cell_type": "code",
   "execution_count": null,
   "metadata": {},
   "outputs": [],
   "source": []
  },
  {
   "cell_type": "code",
   "execution_count": null,
   "metadata": {},
   "outputs": [],
   "source": []
  }
 ],
 "metadata": {
  "kernelspec": {
   "display_name": "Python 3",
   "language": "python",
   "name": "python3"
  },
  "language_info": {
   "codemirror_mode": {
    "name": "ipython",
    "version": 3
   },
   "file_extension": ".py",
   "mimetype": "text/x-python",
   "name": "python",
   "nbconvert_exporter": "python",
   "pygments_lexer": "ipython3",
   "version": "3.7.3"
  }
 },
 "nbformat": 4,
 "nbformat_minor": 4
}
