{
 "cells": [
  {
   "cell_type": "markdown",
   "metadata": {},
   "source": [
    "# 生成器"
   ]
  },
  {
   "cell_type": "markdown",
   "metadata": {},
   "source": [
    "### 1 推导式定义方式"
   ]
  },
  {
   "cell_type": "code",
   "execution_count": 19,
   "metadata": {},
   "outputs": [
    {
     "name": "stdout",
     "output_type": "stream",
     "text": [
      "<class 'generator'>\n",
      "0\n"
     ]
    }
   ],
   "source": [
    "gen1 = (x*3 for x in range(11))\n",
    "print(type(gen1))\n",
    "print(gen1.__next__()) # 获得一个元素"
   ]
  },
  {
   "cell_type": "markdown",
   "metadata": {},
   "source": [
    "### 1.1 获取一个元素"
   ]
  },
  {
   "cell_type": "code",
   "execution_count": 20,
   "metadata": {},
   "outputs": [
    {
     "name": "stdout",
     "output_type": "stream",
     "text": [
      "3\n",
      "6\n"
     ]
    }
   ],
   "source": [
    "print(gen1.__next__())\n",
    "print(next(gen1))"
   ]
  },
  {
   "cell_type": "markdown",
   "metadata": {},
   "source": [
    "### 1.2 标准遍历"
   ]
  },
  {
   "cell_type": "code",
   "execution_count": 21,
   "metadata": {},
   "outputs": [
    {
     "name": "stdout",
     "output_type": "stream",
     "text": [
      "9\n",
      "12\n",
      "15\n",
      "18\n",
      "21\n",
      "24\n",
      "27\n",
      "30\n",
      "there are no data\n"
     ]
    }
   ],
   "source": [
    "while True:\n",
    "    try:\n",
    "        e = next(gen1)\n",
    "        print(e)\n",
    "    except:\n",
    "        print(\"there are no data\")\n",
    "        break"
   ]
  },
  {
   "cell_type": "markdown",
   "metadata": {},
   "source": [
    "# 函数式生成器"
   ]
  },
  {
   "cell_type": "code",
   "execution_count": 24,
   "metadata": {},
   "outputs": [
    {
     "name": "stdout",
     "output_type": "stream",
     "text": [
      "<class 'generator'>\n",
      "1\n"
     ]
    }
   ],
   "source": [
    "def func():\n",
    "    n = 0\n",
    "    while True:\n",
    "        n += 1\n",
    "        yield n \n",
    "g = func()\n",
    "print(type(g)) # 生成器\n",
    "print(next(g)) # 获取一个元素\n"
   ]
  },
  {
   "cell_type": "code",
   "execution_count": null,
   "metadata": {},
   "outputs": [],
   "source": []
  },
  {
   "cell_type": "markdown",
   "metadata": {},
   "source": [
    "# 协程应用之生成器"
   ]
  },
  {
   "cell_type": "code",
   "execution_count": 35,
   "metadata": {},
   "outputs": [
    {
     "name": "stdout",
     "output_type": "stream",
     "text": [
      "正在搬 0 号砖\n",
      "正在唱 0 首歌\n",
      "--------------------------------------------------------------------------------\n",
      "正在搬 1 号砖\n",
      "正在唱 1 首歌\n",
      "--------------------------------------------------------------------------------\n",
      "正在搬 2 号砖\n",
      "正在唱 2 首歌\n",
      "--------------------------------------------------------------------------------\n",
      "正在搬 3 号砖\n",
      "正在唱 3 首歌\n",
      "--------------------------------------------------------------------------------\n",
      "正在搬 4 号砖\n",
      "正在唱 4 首歌\n",
      "--------------------------------------------------------------------------------\n",
      "正在搬 5 号砖\n",
      "正在唱 5 首歌\n",
      "--------------------------------------------------------------------------------\n",
      "正在搬 6 号砖\n",
      "正在唱 6 首歌\n",
      "--------------------------------------------------------------------------------\n",
      "正在搬 7 号砖\n",
      "正在唱 7 首歌\n",
      "--------------------------------------------------------------------------------\n",
      "正在搬 8 号砖\n",
      "正在唱 8 首歌\n",
      "--------------------------------------------------------------------------------\n",
      "正在搬 9 号砖\n",
      "正在唱 9 首歌\n",
      "--------------------------------------------------------------------------------\n",
      "处理完毕\n"
     ]
    }
   ],
   "source": [
    "def a():\n",
    "    for i in range(10):\n",
    "        print(\"正在搬\", str(i),\"号砖\")\n",
    "        yield\n",
    "def b():\n",
    "    for i in range(10):\n",
    "        print(\"正在唱\", str(i),\"首歌\")\n",
    "        yield\n",
    "g1 = a()\n",
    "g2 = b()\n",
    "while True:\n",
    "    try:\n",
    "        g1.__next__()\n",
    "        g2.__next__()\n",
    "        print(\"-\"*80)\n",
    "    except:\n",
    "        print(\"处理完毕\")\n",
    "        break"
   ]
  },
  {
   "cell_type": "code",
   "execution_count": null,
   "metadata": {},
   "outputs": [],
   "source": []
  },
  {
   "cell_type": "code",
   "execution_count": null,
   "metadata": {},
   "outputs": [],
   "source": []
  },
  {
   "cell_type": "code",
   "execution_count": null,
   "metadata": {},
   "outputs": [],
   "source": []
  },
  {
   "cell_type": "code",
   "execution_count": null,
   "metadata": {},
   "outputs": [],
   "source": []
  },
  {
   "cell_type": "code",
   "execution_count": null,
   "metadata": {},
   "outputs": [],
   "source": []
  }
 ],
 "metadata": {
  "kernelspec": {
   "display_name": "Python 3",
   "language": "python",
   "name": "python3"
  },
  "language_info": {
   "codemirror_mode": {
    "name": "ipython",
    "version": 3
   },
   "file_extension": ".py",
   "mimetype": "text/x-python",
   "name": "python",
   "nbconvert_exporter": "python",
   "pygments_lexer": "ipython3",
   "version": "3.7.6"
  }
 },
 "nbformat": 4,
 "nbformat_minor": 4
}
