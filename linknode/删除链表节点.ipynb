{
 "cells": [
  {
   "cell_type": "markdown",
   "metadata": {},
   "source": [
    "# 给定单向链表的头指针和一个要删除的节点的值，定义一个函数在 O(1) 时间内删除该节点。\n",
    "\n",
    "返回删除后的链表的头节点。\n",
    "\n",
    "示例 1:\n",
    "\n",
    "输入: head = [4,5,1,9], val = 5\n",
    "\n",
    "输出: [4,1,9]\n",
    "\n",
    "解释: 给定你链表中值为 5 的第二个节点，那么在调用了你的函数之后，该链表应变为 4 -> 1 -> 9.\n",
    "示例 2:\n",
    "\n",
    "输入: head = [4,5,1,9], val = 1\n",
    "\n",
    "输出: [4,5,9]\n",
    "\n",
    "解释: 给定你链表中值为 1 的第三个节点，那么在调用了你的函数之后，该链表应变为 4 -> 5 -> 9.\n",
    "\n"
   ]
  },
  {
   "cell_type": "markdown",
   "metadata": {},
   "source": [
    "# base"
   ]
  },
  {
   "cell_type": "code",
   "execution_count": 2,
   "metadata": {},
   "outputs": [],
   "source": [
    "import node\n",
    "listNode = node.listNode\n",
    "root = listNode.build_listNode([1,2,3])\n",
    "listNode.show(root)"
   ]
  },
  {
   "cell_type": "code",
   "execution_count": 4,
   "metadata": {},
   "outputs": [
    {
     "name": "stdout",
     "output_type": "stream",
     "text": [
      "4  4  5  1  9  \n",
      "4  5  1  9  \n"
     ]
    }
   ],
   "source": [
    "root = listNode.build_listNode([4, 4, 5, 1, 9])\n",
    "listNode.show(root)\n",
    "\n",
    "def delete_node(head, val):\n",
    "    # \n",
    "    if head is None:\n",
    "        return\n",
    "    if head.val == val:\n",
    "        \n",
    "        return head.next\n",
    "    \n",
    "    head.next = delete_node(head.next, val)\n",
    "    \n",
    "    return head\n",
    "\n",
    "res = delete_node(root, 4)\n",
    "\n",
    "listNode.show(res)"
   ]
  },
  {
   "cell_type": "code",
   "execution_count": null,
   "metadata": {},
   "outputs": [],
   "source": []
  },
  {
   "cell_type": "code",
   "execution_count": null,
   "metadata": {},
   "outputs": [],
   "source": []
  },
  {
   "cell_type": "code",
   "execution_count": null,
   "metadata": {},
   "outputs": [],
   "source": []
  },
  {
   "cell_type": "code",
   "execution_count": null,
   "metadata": {},
   "outputs": [],
   "source": []
  },
  {
   "cell_type": "code",
   "execution_count": null,
   "metadata": {},
   "outputs": [],
   "source": []
  },
  {
   "cell_type": "code",
   "execution_count": null,
   "metadata": {},
   "outputs": [],
   "source": []
  },
  {
   "cell_type": "code",
   "execution_count": null,
   "metadata": {},
   "outputs": [],
   "source": []
  },
  {
   "cell_type": "code",
   "execution_count": null,
   "metadata": {},
   "outputs": [],
   "source": []
  }
 ],
 "metadata": {
  "kernelspec": {
   "display_name": "Python 3",
   "language": "python",
   "name": "python3"
  },
  "language_info": {
   "codemirror_mode": {
    "name": "ipython",
    "version": 3
   },
   "file_extension": ".py",
   "mimetype": "text/x-python",
   "name": "python",
   "nbconvert_exporter": "python",
   "pygments_lexer": "ipython3",
   "version": "3.7.3"
  }
 },
 "nbformat": 4,
 "nbformat_minor": 4
}
