{
 "cells": [
  {
   "cell_type": "markdown",
   "metadata": {},
   "source": [
    "#  example\n",
    "\n",
    "输入：head = [1,3,2]\n",
    "\n",
    "\n",
    "输出：[2,3,1]"
   ]
  },
  {
   "cell_type": "code",
   "execution_count": 1,
   "metadata": {},
   "outputs": [
    {
     "name": "stdout",
     "output_type": "stream",
     "text": [
      "1  2  3  4  5  6  \n"
     ]
    }
   ],
   "source": [
    "import node\n",
    "listNode = node.listNode\n",
    "root = listNode.build_listNode([1,2,3, 4, 5, 6])\n",
    "listNode.show(root)"
   ]
  },
  {
   "cell_type": "code",
   "execution_count": 6,
   "metadata": {},
   "outputs": [
    {
     "data": {
      "text/plain": [
       "[6, 5, 4, 3, 2, 1]"
      ]
     },
     "execution_count": 6,
     "metadata": {},
     "output_type": "execute_result"
    }
   ],
   "source": [
    "def reversePrint(root):\n",
    "    stack = []\n",
    "    tmp_head = root\n",
    "    while tmp_head:\n",
    "        stack.insert(0, tmp_head.val)\n",
    "        tmp_head = tmp_head.next\n",
    "    return stack\n",
    "reversePrint(root)"
   ]
  },
  {
   "cell_type": "markdown",
   "metadata": {},
   "source": [
    "# 反转链表"
   ]
  },
  {
   "cell_type": "code",
   "execution_count": 9,
   "metadata": {},
   "outputs": [
    {
     "name": "stdout",
     "output_type": "stream",
     "text": [
      "1  2  3  4  5  6  \n"
     ]
    }
   ],
   "source": [
    "import node\n",
    "listNode = node.listNode\n",
    "root = listNode.build_listNode([1,2,3, 4, 5, 6])\n",
    "listNode.show(root)"
   ]
  },
  {
   "cell_type": "code",
   "execution_count": 10,
   "metadata": {},
   "outputs": [
    {
     "name": "stdout",
     "output_type": "stream",
     "text": [
      "6  5  4  3  2  1  \n"
     ]
    }
   ],
   "source": [
    "def reverse(head):\n",
    "    if head is None or head.next is None:\n",
    "        return head\n",
    "    next_node = None\n",
    "    cur_node = head.next\n",
    "    pre_node = head\n",
    "    head.next = None\n",
    "    while cur_node:\n",
    "        # 1--2---None\n",
    "        next_node = cur_node.next\n",
    "        cur_node.next = pre_node\n",
    "        pre_node = cur_node\n",
    "        cur_node = next_node\n",
    "    \n",
    "    return pre_node\n",
    "res = reverse(root)\n",
    "listNode.show(res)"
   ]
  },
  {
   "cell_type": "code",
   "execution_count": null,
   "metadata": {},
   "outputs": [],
   "source": []
  },
  {
   "cell_type": "code",
   "execution_count": null,
   "metadata": {},
   "outputs": [],
   "source": []
  },
  {
   "cell_type": "code",
   "execution_count": null,
   "metadata": {},
   "outputs": [],
   "source": []
  },
  {
   "cell_type": "code",
   "execution_count": null,
   "metadata": {},
   "outputs": [],
   "source": []
  }
 ],
 "metadata": {
  "kernelspec": {
   "display_name": "Python 3",
   "language": "python",
   "name": "python3"
  },
  "language_info": {
   "codemirror_mode": {
    "name": "ipython",
    "version": 3
   },
   "file_extension": ".py",
   "mimetype": "text/x-python",
   "name": "python",
   "nbconvert_exporter": "python",
   "pygments_lexer": "ipython3",
   "version": "3.7.3"
  }
 },
 "nbformat": 4,
 "nbformat_minor": 4
}
