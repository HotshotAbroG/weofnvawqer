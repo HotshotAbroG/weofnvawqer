{
 "cells": [
  {
   "cell_type": "code",
   "execution_count": null,
   "metadata": {},
   "outputs": [],
   "source": [
    "1, 校验IP地址是否在CIDR范围内\n",
    "\n",
    "我们一般用CIDR来表示一段ip地址。CIDR是这样一个字符串：先是一个ipv4的地址的字符串表示，加一个”/“分隔符，再加一个13（含）到27（含）之间的整数。比如“192.128.1.134/25”，表示从192.128.1.128（含）到192.128.1.255（含）的128个ip地址。\n",
    "\n",
    "”/“前的字段“192.128.1.134”表示该范围内的一个ip地址（不一定是第一个ip地址）。\n",
    "\n",
    "“/“之后的整数“25”表示该地址段里的所有ip地址的二进制形式，前25个bit都是相同的，也就是都是”1100 0000   1000 0000  0000 0001 1” 。\n",
    "\n",
    "输入：给定一个ip地址和一个CIDR\n",
    "\n",
    "输出：如果ip在CIDR内，输出true。不然，输出false\n",
    "\n",
    "Java 函数可以是这样的：\n",
    "\n",
    "boolean checkIPinCIDR(String ip, String cidr)\n",
    "\n",
    "也可用其他任意语言实现a"
   ]
  },
  {
   "cell_type": "code",
   "execution_count": 7,
   "metadata": {},
   "outputs": [
    {
     "name": "stdout",
     "output_type": "stream",
     "text": [
      "0b10101100\n",
      "0b11100\n",
      "0b1000100\n",
      "0b0\n"
     ]
    }
   ],
   "source": [
    "string = \"172.28.68.0\"\n",
    "string_list = string.split(\".\")\n",
    "for i in string_list:\n",
    "    binary_value = bin(int(i))\n",
    "    print(binary_value)"
   ]
  },
  {
   "cell_type": "code",
   "execution_count": 8,
   "metadata": {},
   "outputs": [
    {
     "name": "stdout",
     "output_type": "stream",
     "text": [
      "0b10101100\n",
      "0b10000\n",
      "0b0\n",
      "0b0\n"
     ]
    }
   ],
   "source": [
    "string = \"172.16.0.0\" # 12\n",
    "string_list = string.split(\".\")\n",
    "for i in string_list:\n",
    "    binary_value = bin(int(i))\n",
    "    print(binary_value)"
   ]
  },
  {
   "cell_type": "code",
   "execution_count": 9,
   "metadata": {},
   "outputs": [
    {
     "name": "stdout",
     "output_type": "stream",
     "text": [
      "0b10101100\n",
      "0b11100\n",
      "0b1000000\n",
      "0b0\n"
     ]
    }
   ],
   "source": [
    "\n",
    "string = \"172.28.64.0\" # 22\n",
    "string_list = string.split(\".\")\n",
    "for i in string_list:\n",
    "    binary_value = bin(int(i))\n",
    "    print(binary_value)"
   ]
  },
  {
   "cell_type": "code",
   "execution_count": 10,
   "metadata": {},
   "outputs": [
    {
     "data": {
      "text/plain": [
       "'0b10000110'"
      ]
     },
     "execution_count": 10,
     "metadata": {},
     "output_type": "execute_result"
    }
   ],
   "source": [
    "boolean checkIPinCIDR(String ip, String cidr)"
   ]
  },
  {
   "cell_type": "code",
   "execution_count": 24,
   "metadata": {},
   "outputs": [
    {
     "data": {
      "text/plain": [
       "'0b1010110000011100'"
      ]
     },
     "execution_count": 24,
     "metadata": {},
     "output_type": "execute_result"
    }
   ],
   "source": []
  },
  {
   "cell_type": "code",
   "execution_count": 86,
   "metadata": {
    "scrolled": true
   },
   "outputs": [
    {
     "name": "stdout",
     "output_type": "stream",
     "text": [
      "0b10101100000111000100010000000000\n"
     ]
    },
    {
     "data": {
      "text/plain": [
       "False"
      ]
     },
     "execution_count": 86,
     "metadata": {},
     "output_type": "execute_result"
    }
   ],
   "source": [
    "def check_ipin_cidr(ip, cidr):\n",
    "    # input ip cidr: string\n",
    "    # return bool\n",
    "    cidr_string, number = cidr.split(\"/\")\n",
    "    part_ip_list, part_cidr_list = ip.split(\".\"), cidr_string.split(\".\")\n",
    "    addres_to_judge, cidr_addres = 0, 0\n",
    "    postion_move = [24, 16, 8, 0]\n",
    "    # string---> address\n",
    "    for i in range(len(part_ip_list)):\n",
    "        addres_to_judge = addres_to_judge | (int(part_ip_list[i]) << postion_move[i])\n",
    "\n",
    "    # string---> address\n",
    "    for i in range(len(part_cidr_list)):\n",
    "        cidr_addres = cidr_addres | (int(part_cidr_list[i]) << postion_move[i])\n",
    "    \n",
    "    # 不变的位\n",
    "    unchange_bit = [\"1\" for _ in range(32)]\n",
    "    for i in range(int(number), len(unchange_bit)):\n",
    "        unchange_bit[i] = \"0\"\n",
    "    unchange_bit = \"\".join(unchange_bit)\n",
    "    unchange_bit = int(unchange_bit, 2) \n",
    "    \n",
    "    return (unchange_bit & addres_to_judge) == (cidr_addres & unchange_bit)\n",
    "    \n",
    "\n",
    "src = \"172.28.68.0\"\n",
    "dst = \"172.28.64.0/22\"\n",
    "check_ipin_cidr(src, dst)"
   ]
  },
  {
   "cell_type": "code",
   "execution_count": 95,
   "metadata": {},
   "outputs": [
    {
     "data": {
      "text/plain": [
       "'0b11111111111100000000000000000000'"
      ]
     },
     "execution_count": 95,
     "metadata": {},
     "output_type": "execute_result"
    }
   ],
   "source": [
    "tmp = 0xffffffff >> 20\n",
    "bin(tmp)\n",
    "bin(tmp<<20)"
   ]
  },
  {
   "cell_type": "code",
   "execution_count": 98,
   "metadata": {},
   "outputs": [
    {
     "name": "stdout",
     "output_type": "stream",
     "text": [
      "0b11111111111111111111111111111111\n"
     ]
    },
    {
     "data": {
      "text/plain": [
       "'0b11111111111100000000000000000000'"
      ]
     },
     "execution_count": 98,
     "metadata": {},
     "output_type": "execute_result"
    }
   ],
   "source": [
    "tmp = 0xffffffff\n",
    "print(bin(tmp))\n",
    "tmp = tmp >> 20 << 20\n",
    "bin(tmp)"
   ]
  },
  {
   "cell_type": "code",
   "execution_count": 59,
   "metadata": {},
   "outputs": [
    {
     "data": {
      "text/plain": [
       "'0b11111111111111111111111111111111'"
      ]
     },
     "execution_count": 59,
     "metadata": {},
     "output_type": "execute_result"
    }
   ],
   "source": [
    "bin(0xffffffff)"
   ]
  },
  {
   "cell_type": "code",
   "execution_count": 5,
   "metadata": {},
   "outputs": [
    {
     "name": "stdout",
     "output_type": "stream",
     "text": [
      "\n",
      "\n",
      "\n",
      "\n",
      "\n",
      "\n",
      "leet\n",
      "leet\n",
      "eetc\n",
      "eetc\n",
      "etco\n",
      "etco\n",
      "tcod\n",
      "tcod\n",
      "code\n",
      "code\n"
     ]
    },
    {
     "data": {
      "text/plain": [
       "True"
      ]
     },
     "execution_count": 5,
     "metadata": {},
     "output_type": "execute_result"
    }
   ],
   "source": [
    "class Solution:\n",
    "    def wordBreak(self, s: str, wordDict) -> bool:\n",
    "        dp = [False for _ in range(len(s)+1)]\n",
    "        dp[0] = True\n",
    "        for i in range(1, len(s)+1):\n",
    "            for word in wordDict:\n",
    "                word_length = len(word)\n",
    "                if i >= word_length and s[i-word_length:i] == word:\n",
    "                    dp[i] = dp[i] or dp[i-word_length]\n",
    "        return dp[-1]\n",
    "s = \"leetcode\"\n",
    "wordDict = [\"leet\", \"code\"]\n",
    "cls = Solution()\n",
    "cls.wordBreak(s, wordDict)"
   ]
  },
  {
   "cell_type": "code",
   "execution_count": 3,
   "metadata": {},
   "outputs": [
    {
     "data": {
      "text/plain": [
       "'leet'"
      ]
     },
     "execution_count": 3,
     "metadata": {},
     "output_type": "execute_result"
    }
   ],
   "source": [
    "s[0:4]"
   ]
  },
  {
   "cell_type": "code",
   "execution_count": 1,
   "metadata": {},
   "outputs": [],
   "source": [
    "score = [80, 80, 83, 70, 95, 87, 70, 80, 88, 81, 88, 76, 88, 61, 86, 94, 91, 86]\n",
    "weight = [2,1,2,1,2,2,2,1,1,3,1,1,2,2,2,2,2,2]"
   ]
  },
  {
   "cell_type": "code",
   "execution_count": 4,
   "metadata": {},
   "outputs": [
    {
     "name": "stdout",
     "output_type": "stream",
     "text": [
      "82.80645161290323\n"
     ]
    }
   ],
   "source": [
    "res = 0\n",
    "for i in range(len(score)):\n",
    "    res += (score[i]*weight[i])\n",
    "print(res/sum(weight))"
   ]
  },
  {
   "cell_type": "code",
   "execution_count": 1,
   "metadata": {},
   "outputs": [
    {
     "data": {
      "text/plain": [
       "[3, 4]"
      ]
     },
     "execution_count": 1,
     "metadata": {},
     "output_type": "execute_result"
    }
   ],
   "source": [
    "arr = list(range(10))\n",
    "def find(arr, target = 7):\n",
    "    record = {}\n",
    "    for value in arr:\n",
    "        res = target - value\n",
    "        if record.get(value, 0) != 0:\n",
    "            return [res, value]\n",
    "        record[res] = value\n",
    "find(arr)"
   ]
  },
  {
   "cell_type": "code",
   "execution_count": null,
   "metadata": {},
   "outputs": [],
   "source": []
  },
  {
   "cell_type": "code",
   "execution_count": null,
   "metadata": {},
   "outputs": [],
   "source": []
  },
  {
   "cell_type": "code",
   "execution_count": null,
   "metadata": {},
   "outputs": [],
   "source": []
  },
  {
   "cell_type": "code",
   "execution_count": null,
   "metadata": {},
   "outputs": [],
   "source": []
  },
  {
   "cell_type": "code",
   "execution_count": null,
   "metadata": {},
   "outputs": [],
   "source": []
  },
  {
   "cell_type": "code",
   "execution_count": null,
   "metadata": {},
   "outputs": [],
   "source": []
  }
 ],
 "metadata": {
  "kernelspec": {
   "display_name": "Python 3",
   "language": "python",
   "name": "python3"
  },
  "language_info": {
   "codemirror_mode": {
    "name": "ipython",
    "version": 3
   },
   "file_extension": ".py",
   "mimetype": "text/x-python",
   "name": "python",
   "nbconvert_exporter": "python",
   "pygments_lexer": "ipython3",
   "version": "3.7.6"
  }
 },
 "nbformat": 4,
 "nbformat_minor": 4
}
