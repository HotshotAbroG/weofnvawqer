{
 "cells": [
  {
   "cell_type": "markdown",
   "metadata": {},
   "source": [
    "# 1  滑动窗口最大值\n",
    "![title](../img/a33.png)"
   ]
  },
  {
   "cell_type": "code",
   "execution_count": 3,
   "metadata": {},
   "outputs": [
    {
     "data": {
      "text/plain": [
       "[3, 3, 5, 5, 6, 7]"
      ]
     },
     "execution_count": 3,
     "metadata": {},
     "output_type": "execute_result"
    }
   ],
   "source": [
    "from collections import deque\n",
    "\n",
    "class Solution:\n",
    "    def maxsliedingWindow(self, nums, k):\n",
    "        if nums == None  or k == 0 or len(nums) < k:\n",
    "            return []\n",
    "        res = []\n",
    "        que = deque()\n",
    "        for index in range(len(nums)):\n",
    "            \n",
    "            # 验证 双端队列\n",
    "            # 保证 是个递减序列 大，中，小\n",
    "            while que and nums[que[-1]] < nums[index]:\n",
    "                que.pop()\n",
    "                \n",
    "            if  que and que[0] == index - k:\n",
    "                que.popleft()\n",
    "                \n",
    "            que.append(index)\n",
    "            \n",
    "            if index >= k-1:\n",
    "                res.append(nums[que[0]])\n",
    "                \n",
    "        \n",
    "        return res\n",
    "cls = Solution()\n",
    "arr = [1, 3, -1, -3, 5, 3, 6, 7]\n",
    "cls.maxsliedingWindow(arr, 3)"
   ]
  },
  {
   "cell_type": "code",
   "execution_count": 6,
   "metadata": {},
   "outputs": [
    {
     "data": {
      "text/plain": [
       "1"
      ]
     },
     "execution_count": 6,
     "metadata": {},
     "output_type": "execute_result"
    }
   ],
   "source": [
    "from collections import deque\n",
    "que = deque()\n",
    "que.append(1)\n",
    "que[0]"
   ]
  },
  {
   "cell_type": "code",
   "execution_count": 5,
   "metadata": {},
   "outputs": [
    {
     "data": {
      "text/plain": [
       "collections.deque"
      ]
     },
     "execution_count": 5,
     "metadata": {},
     "output_type": "execute_result"
    }
   ],
   "source": []
  },
  {
   "cell_type": "code",
   "execution_count": null,
   "metadata": {},
   "outputs": [],
   "source": []
  },
  {
   "cell_type": "code",
   "execution_count": null,
   "metadata": {},
   "outputs": [],
   "source": []
  }
 ],
 "metadata": {
  "kernelspec": {
   "display_name": "Python 3",
   "language": "python",
   "name": "python3"
  },
  "language_info": {
   "codemirror_mode": {
    "name": "ipython",
    "version": 3
   },
   "file_extension": ".py",
   "mimetype": "text/x-python",
   "name": "python",
   "nbconvert_exporter": "python",
   "pygments_lexer": "ipython3",
   "version": "3.7.6"
  }
 },
 "nbformat": 4,
 "nbformat_minor": 4
}
