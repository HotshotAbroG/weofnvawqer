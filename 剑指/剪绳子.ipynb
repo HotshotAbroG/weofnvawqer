{
 "cells": [
  {
   "cell_type": "markdown",
   "metadata": {},
   "source": [
    "# 剪绳子\n",
    "![title](../img/a82.png)"
   ]
  },
  {
   "cell_type": "code",
   "execution_count": 2,
   "metadata": {},
   "outputs": [
    {
     "data": {
      "text/plain": [
       "36"
      ]
     },
     "execution_count": 2,
     "metadata": {},
     "output_type": "execute_result"
    }
   ],
   "source": [
    "class Solution:\n",
    "    def cuttingRope(self, n: int) -> int:\n",
    "        #   n = max ( n-i *i, [n-i] * i)\n",
    "        dp = [0] * (n+1)\n",
    "        dp[1] = 1\n",
    "        for i in range(2, n+1):\n",
    "            for j in range(1, i):\n",
    "                #  dp[n] 代表 长度为n 的绳子所能分成的最大乘积\n",
    "                # dp_n =  分为 j 和 i - j\n",
    "                current_max = max((i-j)*j, dp[j]*(i-j))\n",
    "                dp[i] = max(dp[i], current_max)\n",
    "        return dp[n]\n",
    "cls = Solution()\n",
    "cls.cuttingRope(10)"
   ]
  },
  {
   "cell_type": "markdown",
   "metadata": {},
   "source": [
    "# 贪心规则：\n",
    "最高优先级： 3 。把绳子尽可能切为多个长度为 3 的片段，留下的最后一段绳子的长度可能为 0,1,2三种情况。\n",
    "\n",
    "次高优先级： 2 。若最后一段绳子长度为 2，则保留，不再拆为 1+1。\n",
    "\n",
    "最低优先级： 1； 若最后一段绳子长度为 1；则应把最后的 3 +1 替换为 2 + 2，\n"
   ]
  },
  {
   "cell_type": "code",
   "execution_count": 16,
   "metadata": {},
   "outputs": [
    {
     "name": "stdout",
     "output_type": "stream",
     "text": [
      "9 ----> 4\n"
     ]
    },
    {
     "data": {
      "text/plain": [
       "36"
      ]
     },
     "execution_count": 16,
     "metadata": {},
     "output_type": "execute_result"
    }
   ],
   "source": [
    "class Solution:\n",
    "    def cuttingRope(self, n: int) -> int:\n",
    "#         if n == 2:\n",
    "#             return 1\n",
    "#         if n == 3:\n",
    "#             return 2\n",
    "        if n <= 3:\n",
    "            return n-1\n",
    "        res = 1\n",
    "        while n > 4:\n",
    "            res *= 3\n",
    "            n -= 3  # 找有多少个 3 \n",
    "            \n",
    "        print(res,\"---->\", n)\n",
    "            \n",
    "        return  res * n\n",
    "cls = Solution()\n",
    "cls.cuttingRope(10)"
   ]
  },
  {
   "cell_type": "code",
   "execution_count": 19,
   "metadata": {},
   "outputs": [
    {
     "data": {
      "text/plain": [
       "36"
      ]
     },
     "execution_count": 19,
     "metadata": {},
     "output_type": "execute_result"
    }
   ],
   "source": [
    "class Solution:\n",
    "    def cuttingRope(self, n: int) -> int:\n",
    "        if n <= 3:\n",
    "            return n-1\n",
    "        res = 1\n",
    "        while n > 4:\n",
    "            res *= 3\n",
    "            n -= 3\n",
    "        return res * n\n",
    "cls = Solution()\n",
    "cls.cuttingRope(10)"
   ]
  },
  {
   "cell_type": "code",
   "execution_count": null,
   "metadata": {},
   "outputs": [],
   "source": []
  },
  {
   "cell_type": "code",
   "execution_count": null,
   "metadata": {},
   "outputs": [],
   "source": []
  },
  {
   "cell_type": "code",
   "execution_count": null,
   "metadata": {},
   "outputs": [],
   "source": []
  },
  {
   "cell_type": "code",
   "execution_count": null,
   "metadata": {},
   "outputs": [],
   "source": []
  },
  {
   "cell_type": "code",
   "execution_count": null,
   "metadata": {},
   "outputs": [],
   "source": []
  },
  {
   "cell_type": "code",
   "execution_count": null,
   "metadata": {},
   "outputs": [],
   "source": []
  },
  {
   "cell_type": "code",
   "execution_count": null,
   "metadata": {},
   "outputs": [],
   "source": []
  },
  {
   "cell_type": "code",
   "execution_count": null,
   "metadata": {},
   "outputs": [],
   "source": []
  },
  {
   "cell_type": "code",
   "execution_count": null,
   "metadata": {},
   "outputs": [],
   "source": []
  }
 ],
 "metadata": {
  "kernelspec": {
   "display_name": "Python 3",
   "language": "python",
   "name": "python3"
  },
  "language_info": {
   "codemirror_mode": {
    "name": "ipython",
    "version": 3
   },
   "file_extension": ".py",
   "mimetype": "text/x-python",
   "name": "python",
   "nbconvert_exporter": "python",
   "pygments_lexer": "ipython3",
   "version": "3.7.6"
  }
 },
 "nbformat": 4,
 "nbformat_minor": 4
}
