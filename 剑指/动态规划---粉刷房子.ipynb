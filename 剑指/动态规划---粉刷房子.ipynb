{
 "cells": [
  {
   "cell_type": "markdown",
   "metadata": {},
   "source": [
    "# 粉刷房子\n",
    "假如有一排房子，共 n 个，每个房子可以被粉刷成红色、蓝色或者绿色这三种颜色中的一种，\n",
    "\n",
    "你需要粉刷所有的房子并且使其相邻的两个房子颜色不能相同。\n",
    "\n",
    "当然，因为市场上不同颜色油漆的价格不同，所以房子粉刷成不同颜色的花费成本也是不同的。\n",
    "\n",
    "每个房子粉刷成不同颜色的花费是以一个 n x 3 的矩阵来表示的。\n",
    "\n",
    "例如，\n",
    "\n",
    "costs[0][0] 表示第 0 号房子粉刷成红色的成本花费；\n",
    "\n",
    "costs[1][2] 表示第 1 号房子粉刷成绿色的花费，\n",
    "\n",
    "以此类推。请你计算出粉刷完所有房子最少的花费成本。\n",
    "\n",
    "输入: [[17,2,17],[16,16,5],[14,3,19]]\n",
    "\n",
    "输出: 10\n",
    "\n",
    "解释: 将 0 号房子粉刷成蓝色，1 号房子粉刷成绿色，2 号房子粉刷成蓝色。\n",
    "     最少花费: 2 + 5 + 3 = 10。\n"
   ]
  },
  {
   "cell_type": "code",
   "execution_count": 36,
   "metadata": {},
   "outputs": [
    {
     "name": "stdout",
     "output_type": "stream",
     "text": [
      "10\n"
     ]
    }
   ],
   "source": [
    "grid = [[17,2,17],[16,16,5],[14,3,19]]\n",
    "class Solution(object):\n",
    "    def minCost(self, costs):\n",
    "        \"\"\"\n",
    "        :type costs: List[List[int]]\n",
    "        0： 红色， 1：蓝色， 2：绿色\n",
    "        :rtype: int\n",
    "        \"\"\"\n",
    "        if not costs:\n",
    "            return 0\n",
    "        house_number = len(costs)\n",
    "        dp = [[0] * 3 for i in range(house_number)]\n",
    "        # 用dp[i][j]来表示在第 i 个房子，涂第j种颜色的最小开销。\n",
    "        for i in range(house_number):\n",
    "            dp[0][i] = costs[0][i]\n",
    "        \n",
    "        for i in range(1, house_number):\n",
    "            # 在第二个房子刷成红色的最小价格 （已经加上第一个房子的开销）\n",
    "            dp[i][0] = min(dp[i-1][1], dp[i-1][2]) + costs[i][0]\n",
    "            \n",
    "            # 在第二个房子刷成蓝色的最小价格\n",
    "            dp[i][1] = min(dp[i-1][0], dp[i-1][2]) + costs[i][1]\n",
    "            \n",
    "            # 在第二个房子刷成绿色的最小价格\n",
    "            dp[i][2] = min(dp[i-1][0], dp[i-1][1]) + costs[i][2]\n",
    "            \n",
    "        print(min(dp[-1]))\n",
    "cls = Solution()\n",
    "cls.minCost(grid)"
   ]
  },
  {
   "cell_type": "code",
   "execution_count": 34,
   "metadata": {},
   "outputs": [
    {
     "data": {
      "text/plain": [
       "10"
      ]
     },
     "execution_count": 34,
     "metadata": {},
     "output_type": "execute_result"
    }
   ],
   "source": [
    "grid = [[17,2,17],[16,16,5],[14,3,19]]\n",
    "class Solution(object):\n",
    "    def minCost(self, costs):\n",
    "        \"\"\"\n",
    "        :type costs: List[List[int]]\n",
    "        :rtype: int\n",
    "        \"\"\"\n",
    "        if not costs:\n",
    "            return 0\n",
    "        dp = costs\n",
    "        for i in range(1, len(costs)):\n",
    "            dp[i][0] += min(dp[i - 1][1], dp[i - 1][2])\n",
    "            dp[i][1] += min(dp[i - 1][0], dp[i - 1][2])\n",
    "            dp[i][2] += min(dp[i - 1][0], dp[i - 1][1])\n",
    "\n",
    "        return min(dp[-1])\n",
    "cls = Solution()\n",
    "cls.minCost(grid)"
   ]
  },
  {
   "cell_type": "code",
   "execution_count": null,
   "metadata": {},
   "outputs": [],
   "source": []
  },
  {
   "cell_type": "code",
   "execution_count": null,
   "metadata": {},
   "outputs": [],
   "source": []
  },
  {
   "cell_type": "code",
   "execution_count": null,
   "metadata": {},
   "outputs": [],
   "source": []
  },
  {
   "cell_type": "code",
   "execution_count": null,
   "metadata": {},
   "outputs": [],
   "source": []
  },
  {
   "cell_type": "code",
   "execution_count": null,
   "metadata": {},
   "outputs": [],
   "source": []
  },
  {
   "cell_type": "code",
   "execution_count": null,
   "metadata": {},
   "outputs": [],
   "source": []
  }
 ],
 "metadata": {
  "kernelspec": {
   "display_name": "Python 3",
   "language": "python",
   "name": "python3"
  },
  "language_info": {
   "codemirror_mode": {
    "name": "ipython",
    "version": 3
   },
   "file_extension": ".py",
   "mimetype": "text/x-python",
   "name": "python",
   "nbconvert_exporter": "python",
   "pygments_lexer": "ipython3",
   "version": "3.7.6"
  }
 },
 "nbformat": 4,
 "nbformat_minor": 4
}
