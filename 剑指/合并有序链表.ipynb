{
 "cells": [
  {
   "cell_type": "markdown",
   "metadata": {},
   "source": [
    "![title](../img/a13.png) "
   ]
  },
  {
   "cell_type": "code",
   "execution_count": 1,
   "metadata": {},
   "outputs": [
    {
     "name": "stdout",
     "output_type": "stream",
     "text": [
      "1  2  4  \n",
      "1  3  4  \n"
     ]
    }
   ],
   "source": [
    "import node\n",
    "listNode = node.listNode\n",
    "root1 = listNode.build_listNode([1,2,4])\n",
    "root2 = listNode.build_listNode([1,3,4])\n",
    "listNode.show(root1)\n",
    "listNode.show(root2)"
   ]
  },
  {
   "cell_type": "code",
   "execution_count": 29,
   "metadata": {},
   "outputs": [
    {
     "name": "stdout",
     "output_type": "stream",
     "text": [
      "1  2  4  \n",
      "1  3  6  \n",
      "1  1  2  3  4  6  \n"
     ]
    }
   ],
   "source": [
    "class Solution:\n",
    "    def mergeTwoLists(self, l1, l2):\n",
    "        \n",
    "        dummy_head = node.listNode(0)\n",
    "        rest = dummy_head\n",
    "\n",
    "        while l1 != None and l2 != None:\n",
    "\n",
    "            if l1.val < l2.val:\n",
    "                dummy_head.next = l1\n",
    "                l1 = l1.next\n",
    "            else:\n",
    "                dummy_head.next = l2\n",
    "                l2 = l2.next\n",
    "            dummy_head = dummy_head.next\n",
    "            \n",
    "        if l1:\n",
    "            dummy_head.next = l1\n",
    "        if l2:\n",
    "            dummy_head.next = l2\n",
    "        \n",
    "        return rest.next\n",
    "            \n",
    "import node\n",
    "listNode = node.listNode\n",
    "root1 = listNode.build_listNode([1,2,4])\n",
    "root2 = listNode.build_listNode([1,3,6])\n",
    "listNode.show(root1)\n",
    "listNode.show(root2)\n",
    "cls = Solution()\n",
    "res = cls.mergeTwoLists(root1, root2)\n",
    "listNode.show(res)"
   ]
  },
  {
   "cell_type": "code",
   "execution_count": null,
   "metadata": {},
   "outputs": [],
   "source": []
  },
  {
   "cell_type": "code",
   "execution_count": null,
   "metadata": {},
   "outputs": [],
   "source": []
  },
  {
   "cell_type": "code",
   "execution_count": null,
   "metadata": {},
   "outputs": [],
   "source": []
  },
  {
   "cell_type": "code",
   "execution_count": null,
   "metadata": {},
   "outputs": [],
   "source": []
  },
  {
   "cell_type": "code",
   "execution_count": null,
   "metadata": {},
   "outputs": [],
   "source": []
  },
  {
   "cell_type": "code",
   "execution_count": null,
   "metadata": {},
   "outputs": [],
   "source": []
  },
  {
   "cell_type": "code",
   "execution_count": null,
   "metadata": {},
   "outputs": [],
   "source": []
  },
  {
   "cell_type": "code",
   "execution_count": null,
   "metadata": {},
   "outputs": [],
   "source": []
  },
  {
   "cell_type": "code",
   "execution_count": null,
   "metadata": {},
   "outputs": [],
   "source": []
  },
  {
   "cell_type": "code",
   "execution_count": null,
   "metadata": {},
   "outputs": [],
   "source": []
  },
  {
   "cell_type": "code",
   "execution_count": null,
   "metadata": {},
   "outputs": [],
   "source": []
  },
  {
   "cell_type": "code",
   "execution_count": null,
   "metadata": {},
   "outputs": [],
   "source": []
  },
  {
   "cell_type": "code",
   "execution_count": null,
   "metadata": {},
   "outputs": [],
   "source": []
  },
  {
   "cell_type": "code",
   "execution_count": null,
   "metadata": {},
   "outputs": [],
   "source": []
  }
 ],
 "metadata": {
  "kernelspec": {
   "display_name": "Python 3",
   "language": "python",
   "name": "python3"
  },
  "language_info": {
   "codemirror_mode": {
    "name": "ipython",
    "version": 3
   },
   "file_extension": ".py",
   "mimetype": "text/x-python",
   "name": "python",
   "nbconvert_exporter": "python",
   "pygments_lexer": "ipython3",
   "version": "3.7.6"
  }
 },
 "nbformat": 4,
 "nbformat_minor": 4
}
