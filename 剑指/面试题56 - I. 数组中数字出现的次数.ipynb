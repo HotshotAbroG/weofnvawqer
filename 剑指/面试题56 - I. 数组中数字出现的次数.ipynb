{
 "cells": [
  {
   "cell_type": "markdown",
   "metadata": {},
   "source": [
    "# 1\n",
    "![title](../img/a47.png)"
   ]
  },
  {
   "cell_type": "code",
   "execution_count": 7,
   "metadata": {},
   "outputs": [
    {
     "name": "stdout",
     "output_type": "stream",
     "text": [
      "4\n"
     ]
    },
    {
     "data": {
      "text/plain": [
       "[8, 12]"
      ]
     },
     "execution_count": 7,
     "metadata": {},
     "output_type": "execute_result"
    }
   ],
   "source": [
    "class Solution:\n",
    "    def singleNumbers(self, nums):\n",
    "        res = 0\n",
    "        for i in nums:\n",
    "            res = res^i\n",
    "            \n",
    "        idx = 1\n",
    "        # 写出来就明白了，加入是[2,2,8,12]\n",
    "        # 8: 1 0 0 0 \n",
    "        #12: 1 1 0 0\n",
    "        # 区分点在于第二位，所以 要先找到这一位，然后根据这一位是否为1，来分两组讨论\n",
    "        while idx & res == 0:\n",
    "            idx = idx << 1\n",
    "        \n",
    "        a,b = 0,0\n",
    "        for i in nums:\n",
    "            if i & idx==0:\n",
    "                a = a^i\n",
    "            else:\n",
    "                b = b^i\n",
    "        return([a,b])\n",
    "\n",
    "\n",
    "\n",
    "        \n",
    "        return \n",
    "    \n",
    "cls = Solution()\n",
    "cls.singleNumbers([1,8,12,4,1,4,3,3])"
   ]
  },
  {
   "cell_type": "code",
   "execution_count": 12,
   "metadata": {},
   "outputs": [
    {
     "data": {
      "text/plain": [
       "[8, 12]"
      ]
     },
     "execution_count": 12,
     "metadata": {},
     "output_type": "execute_result"
    }
   ],
   "source": [
    "class Solution:\n",
    "    def singleNumbers(self, nums):\n",
    "        res = 0 \n",
    "        for value in nums:\n",
    "            res ^= value\n",
    "        index_diff = 1\n",
    "        while index_diff & res == 0:\n",
    "            index_diff = index_diff<<1\n",
    "            \n",
    "        a, b = 0, 0\n",
    "        for value in nums:\n",
    "            if value & index_diff == 0:\n",
    "                a ^= value \n",
    "            else:\n",
    "                b ^= value\n",
    "            \n",
    "       \n",
    "        return([a,b])\n",
    "\n",
    "\n",
    "\n",
    "        \n",
    "        return \n",
    "    \n",
    "cls = Solution()\n",
    "cls.singleNumbers([1,8,12,4,1,4,3,3])"
   ]
  },
  {
   "cell_type": "code",
   "execution_count": null,
   "metadata": {},
   "outputs": [],
   "source": []
  },
  {
   "cell_type": "code",
   "execution_count": null,
   "metadata": {},
   "outputs": [],
   "source": []
  },
  {
   "cell_type": "code",
   "execution_count": null,
   "metadata": {},
   "outputs": [],
   "source": []
  },
  {
   "cell_type": "code",
   "execution_count": null,
   "metadata": {},
   "outputs": [],
   "source": []
  },
  {
   "cell_type": "code",
   "execution_count": null,
   "metadata": {},
   "outputs": [],
   "source": []
  },
  {
   "cell_type": "code",
   "execution_count": null,
   "metadata": {},
   "outputs": [],
   "source": []
  },
  {
   "cell_type": "code",
   "execution_count": null,
   "metadata": {},
   "outputs": [],
   "source": []
  }
 ],
 "metadata": {
  "kernelspec": {
   "display_name": "Python 3",
   "language": "python",
   "name": "python3"
  },
  "language_info": {
   "codemirror_mode": {
    "name": "ipython",
    "version": 3
   },
   "file_extension": ".py",
   "mimetype": "text/x-python",
   "name": "python",
   "nbconvert_exporter": "python",
   "pygments_lexer": "ipython3",
   "version": "3.7.6"
  }
 },
 "nbformat": 4,
 "nbformat_minor": 4
}
