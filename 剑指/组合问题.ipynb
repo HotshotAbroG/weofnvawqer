{
 "cells": [
  {
   "cell_type": "markdown",
   "metadata": {},
   "source": [
    "# 1  组合问题\n",
    "![title](../img/a89.png)"
   ]
  },
  {
   "cell_type": "code",
   "execution_count": 16,
   "metadata": {},
   "outputs": [
    {
     "data": {
      "text/plain": [
       "[[1, 2], [1, 3], [1, 4], [2, 3], [2, 4], [3, 4]]"
      ]
     },
     "execution_count": 16,
     "metadata": {},
     "output_type": "execute_result"
    }
   ],
   "source": [
    "class Solution:\n",
    "    def combine(self, n: int, k: int):\n",
    "        def dfs(sublist, cur_idnex):\n",
    "            \n",
    "            if len(sublist) == k:\n",
    "                res.append(sublist[:])\n",
    "                return \n",
    "                \n",
    "            for i in range(cur_idnex, n+1):\n",
    "                sublist.append(i)\n",
    "                \n",
    "                dfs(sublist, i+1)\n",
    "                sublist.pop()\n",
    "        res = []\n",
    "        dfs([], 1)\n",
    "        return res\n",
    "            \n",
    "            \n",
    "cls  = Solution()\n",
    "cls.combine(4,2)"
   ]
  },
  {
   "cell_type": "code",
   "execution_count": null,
   "metadata": {},
   "outputs": [],
   "source": []
  }
 ],
 "metadata": {
  "kernelspec": {
   "display_name": "Python 3",
   "language": "python",
   "name": "python3"
  },
  "language_info": {
   "codemirror_mode": {
    "name": "ipython",
    "version": 3
   },
   "file_extension": ".py",
   "mimetype": "text/x-python",
   "name": "python",
   "nbconvert_exporter": "python",
   "pygments_lexer": "ipython3",
   "version": "3.7.3"
  }
 },
 "nbformat": 4,
 "nbformat_minor": 4
}
