{
 "cells": [
  {
   "cell_type": "markdown",
   "metadata": {},
   "source": [
    "# 删除链表\n",
    "![title](../img/a84.png)"
   ]
  },
  {
   "cell_type": "code",
   "execution_count": 17,
   "metadata": {},
   "outputs": [
    {
     "name": "stdout",
     "output_type": "stream",
     "text": [
      "-3  5  -99  \n",
      "-3  5  \n"
     ]
    }
   ],
   "source": [
    "# Definition for singly-linked list.\n",
    "# class ListNode:\n",
    "#     def __init__(self, x):\n",
    "#         self.val = x\n",
    "#         self.next = None\n",
    "\n",
    "class Solution:\n",
    "    def deleteNode(self, head, val: int):\n",
    "        # 去除头部= val\n",
    "        while head != None and head.val == val:\n",
    "            head = head.next\n",
    "            \n",
    "        tmp_head = head\n",
    "        while tmp_head and tmp_head.next != None:\n",
    "            if tmp_head.next.val != val:\n",
    "                tmp_head = tmp_head.next\n",
    "            else:\n",
    "                tmp_head.next = tmp_head.next.next\n",
    "                tmp_head = tmp_head.next\n",
    "            \n",
    "        return head\n",
    "    \n",
    "    \n",
    "    \n",
    "import node\n",
    "listNode = node.listNode\n",
    "root1 = listNode.build_listNode([1,2,4, 5, 1, 6])\n",
    "root1 = listNode.build_listNode([-3,5,-99])\n",
    "\n",
    "listNode.show(root1)\n",
    "cls = Solution()\n",
    "res = cls.deleteNode(root1, -99)\n",
    "listNode.show(res)"
   ]
  },
  {
   "cell_type": "code",
   "execution_count": null,
   "metadata": {},
   "outputs": [],
   "source": []
  },
  {
   "cell_type": "code",
   "execution_count": null,
   "metadata": {},
   "outputs": [],
   "source": []
  },
  {
   "cell_type": "code",
   "execution_count": null,
   "metadata": {},
   "outputs": [],
   "source": []
  },
  {
   "cell_type": "code",
   "execution_count": null,
   "metadata": {},
   "outputs": [],
   "source": []
  },
  {
   "cell_type": "code",
   "execution_count": null,
   "metadata": {},
   "outputs": [],
   "source": []
  },
  {
   "cell_type": "code",
   "execution_count": null,
   "metadata": {},
   "outputs": [],
   "source": []
  },
  {
   "cell_type": "code",
   "execution_count": null,
   "metadata": {},
   "outputs": [],
   "source": []
  }
 ],
 "metadata": {
  "kernelspec": {
   "display_name": "Python 3",
   "language": "python",
   "name": "python3"
  },
  "language_info": {
   "codemirror_mode": {
    "name": "ipython",
    "version": 3
   },
   "file_extension": ".py",
   "mimetype": "text/x-python",
   "name": "python",
   "nbconvert_exporter": "python",
   "pygments_lexer": "ipython3",
   "version": "3.7.6"
  }
 },
 "nbformat": 4,
 "nbformat_minor": 4
}
