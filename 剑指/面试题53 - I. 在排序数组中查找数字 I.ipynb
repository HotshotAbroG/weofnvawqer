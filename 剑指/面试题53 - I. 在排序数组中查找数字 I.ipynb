{
 "cells": [
  {
   "cell_type": "markdown",
   "metadata": {},
   "source": [
    "# 面试题53 - I. 在排序数组中查找数字 I\n",
    "![title](../img/a38.png)"
   ]
  },
  {
   "cell_type": "code",
   "execution_count": 22,
   "metadata": {},
   "outputs": [
    {
     "data": {
      "text/plain": [
       "1"
      ]
     },
     "execution_count": 22,
     "metadata": {},
     "output_type": "execute_result"
    }
   ],
   "source": [
    "class Solution:\n",
    "    \n",
    "    def find_bound(self, nums, target, flag):\n",
    "        left, right = 0, len(nums)\n",
    "        while left < right:\n",
    "            mid = (left + right) >> 1\n",
    "            if nums[mid] > target:\n",
    "                right = mid \n",
    "            elif flag and nums[mid] == target:\n",
    "                right = mid\n",
    "            else:\n",
    "                left = mid + 1\n",
    "        return left\n",
    "            \n",
    "    \n",
    "    def search(self, nums, target: int) -> int:\n",
    "        # 排序数组\n",
    "        left_index = self.find_bound(nums,target,True)\n",
    "        if left_index == len(nums) or nums[left_index] != target:\n",
    "            return 0\n",
    "        right_index = self.find_bound(nums, target, False)\n",
    "        return right_index - left_index\n",
    "cls = Solution()\n",
    "cls.search([5,7,7,8,8,10], 5)\n"
   ]
  },
  {
   "cell_type": "markdown",
   "metadata": {},
   "source": [
    "# a\n",
    "![title](../img/a39.png)"
   ]
  },
  {
   "cell_type": "code",
   "execution_count": 3,
   "metadata": {},
   "outputs": [
    {
     "name": "stdout",
     "output_type": "stream",
     "text": [
      "1\n",
      "4\n"
     ]
    },
    {
     "data": {
      "text/plain": [
       "[1, 3]"
      ]
     },
     "execution_count": 3,
     "metadata": {},
     "output_type": "execute_result"
    }
   ],
   "source": [
    "class Solution:\n",
    "    \n",
    "    def find_bound(self, nums, target, if_find_left):\n",
    "        left, right = 0, len(nums)\n",
    "        while left < right:\n",
    "            mid = (left + right) >> 1\n",
    "            if nums[mid] > target or (if_find_left and nums[mid] == target):\n",
    "                right = mid\n",
    "            else:\n",
    "                left = mid + 1\n",
    "        return left\n",
    "        \n",
    "    \n",
    "    def searchRange(self, nums, target: int):\n",
    "        left_index = self.find_bound(nums, target, True)\n",
    "        print(left_index)\n",
    "        if left_index == len(nums) or nums[left_index] != target:\n",
    "            return [-1, -1]\n",
    "        right_index = self.find_bound(nums, target, False)\n",
    "        print(right_index)\n",
    "        return [left_index, right_index - 1]\n",
    "\n",
    "cls = Solution()\n",
    "nums = [5,7,7,7,8,8,10]\n",
    "cls.searchRange(nums, 7)"
   ]
  },
  {
   "cell_type": "code",
   "execution_count": 10,
   "metadata": {},
   "outputs": [
    {
     "name": "stdout",
     "output_type": "stream",
     "text": [
      "1\n"
     ]
    },
    {
     "data": {
      "text/plain": [
       "[1, 3]"
      ]
     },
     "execution_count": 10,
     "metadata": {},
     "output_type": "execute_result"
    }
   ],
   "source": [
    "class Solution():\n",
    "     def searchRange(self, nums, target: int):\n",
    "            left = self.find(nums,target,True)\n",
    "            print(left)\n",
    "            if left < len(nums) and nums[left] == target:\n",
    "                right = self.find(nums, target)\n",
    "                return [left, right-1]\n",
    "                \n",
    "            else:\n",
    "                return [-1, -1]\n",
    "            \n",
    "            \n",
    "    \n",
    "     def find(self, nums, target, flag=False):\n",
    "            left, right = 0, len(nums)\n",
    "            while left < right:\n",
    "                mid = (left + right) >> 1\n",
    "                if nums[mid] > target or (flag and nums[mid] == target):\n",
    "                    right = mid\n",
    "                else:\n",
    "                    left = mid + 1\n",
    "                    \n",
    "                \n",
    "            return left\n",
    "            \n",
    "     \n",
    "cls = Solution()\n",
    "nums = [5,7,7,7,8,8,10]\n",
    "cls.searchRange(nums, 7)"
   ]
  },
  {
   "cell_type": "code",
   "execution_count": null,
   "metadata": {},
   "outputs": [],
   "source": []
  },
  {
   "cell_type": "code",
   "execution_count": null,
   "metadata": {},
   "outputs": [],
   "source": []
  },
  {
   "cell_type": "code",
   "execution_count": null,
   "metadata": {},
   "outputs": [],
   "source": []
  }
 ],
 "metadata": {
  "kernelspec": {
   "display_name": "Python 3",
   "language": "python",
   "name": "python3"
  },
  "language_info": {
   "codemirror_mode": {
    "name": "ipython",
    "version": 3
   },
   "file_extension": ".py",
   "mimetype": "text/x-python",
   "name": "python",
   "nbconvert_exporter": "python",
   "pygments_lexer": "ipython3",
   "version": "3.7.6"
  }
 },
 "nbformat": 4,
 "nbformat_minor": 4
}
