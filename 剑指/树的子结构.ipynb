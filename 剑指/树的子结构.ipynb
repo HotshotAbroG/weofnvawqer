{
 "cells": [
  {
   "cell_type": "markdown",
   "metadata": {},
   "source": [
    "# ![title](../img/a6.png)"
   ]
  },
  {
   "cell_type": "markdown",
   "metadata": {},
   "source": [
    "# 这种题目可以理解成 迭代式+递归\n",
    "这种递归常用于 不知道何时进行递归， 所以 function_B 进行\n",
    "就是 在递归的同时，调用另一个类间方法\n",
    "\n",
    "    def function_B:\n",
    "    \n",
    "     return  self.function_A（迭代）  and self.function_B(递归）"
   ]
  },
  {
   "cell_type": "code",
   "execution_count": 2,
   "metadata": {},
   "outputs": [
    {
     "name": "stdout",
     "output_type": "stream",
     "text": [
      "[3]\n",
      "[4, 5]\n",
      "[1, 2]\n",
      "\n",
      "[4]\n",
      "[13, 2]\n"
     ]
    },
    {
     "data": {
      "text/plain": [
       "False"
      ]
     },
     "execution_count": 2,
     "metadata": {},
     "output_type": "execute_result"
    }
   ],
   "source": [
    "# Definition for a binary tree node.\n",
    "# class TreeNode:\n",
    "#     def __init__(self, x):\n",
    "#         self.val = x\n",
    "#         self.left = None\n",
    "#         self.right = None\n",
    "import tree as Tree\n",
    "tree = Tree.tree\n",
    "arr = [3, 4, 5, 1, 2]\n",
    "root = tree.build_tree(arr, 0)\n",
    "tree.bfs(root)\n",
    "print()\n",
    "b = [4, 13, 2]\n",
    "b = tree.build_tree(b, 0)\n",
    "tree.bfs(b)\n",
    "class Solution:\n",
    "    def isSubStructure(self, A, B) -> bool:\n",
    "        if A == None or B == None:\n",
    "            return False\n",
    "        return self.isSubStructure(A.left, B) or self.isSubStructure(A.right, B) or self.check_one_path(A, B)\n",
    "    \n",
    "    \n",
    "    def check_one_path(self, root1, root2):\n",
    "        \n",
    "        if root2 == None:\n",
    "            return True\n",
    "        \n",
    "        if root1 == None or root1.val != root2.val:\n",
    "            return False\n",
    "        \n",
    "        return self.check_one_path(root1.left, root2.left) and self.check_one_path(root1.right, root2.right)\n",
    "            \n",
    "                \n",
    "cls = Solution()\n",
    "cls.isSubStructure(root, b)"
   ]
  },
  {
   "cell_type": "markdown",
   "metadata": {},
   "source": [
    "# 相似的题目还有验证 平衡树"
   ]
  },
  {
   "cell_type": "markdown",
   "metadata": {},
   "source": [
    "# 面试题55 - II. 平衡二叉树\n",
    "![title](../img/a26.png)"
   ]
  },
  {
   "cell_type": "code",
   "execution_count": 10,
   "metadata": {},
   "outputs": [
    {
     "data": {
      "text/plain": [
       "False"
      ]
     },
     "execution_count": 10,
     "metadata": {},
     "output_type": "execute_result"
    }
   ],
   "source": [
    "# Definition for a binary tree node.\n",
    "# class TreeNode:\n",
    "#     def __init__(self, x):\n",
    "#         self.val = x\n",
    "#         self.left = None\n",
    "#         self.right = None\n",
    "import tree as Tree\n",
    "tree = Tree.tree\n",
    "arr = [3, 9, 20, -1014, -1014, 15, 7]\n",
    "arr = [1,2,2,3,3,-1014,-1014,4,4]\n",
    "root = tree.build_tree(arr, 0)\n",
    "\n",
    "class Solution:\n",
    "    \n",
    "    def get_dpeth(self, root):\n",
    "        \n",
    "        if root is None :\n",
    "            return 0 \n",
    "        return max(self.get_dpeth(root.left), self.get_dpeth(root.right)) + 1\n",
    "    \n",
    "    def isBalanced(self, root) -> bool:\n",
    "    # 递归，判断一个树的 左子树和 右子树 的深度即可\n",
    "        if root is None:\n",
    "            return True\n",
    "        \n",
    "        left = self.get_dpeth(root.left)\n",
    "        \n",
    "        right = self.get_dpeth(root.right)\n",
    "        \n",
    "        \n",
    "        return abs(right - left) <2 and self.isBalanced(root.left) and self.isBalanced(root.right)\n",
    "\n",
    "\n",
    "    \n",
    "cls = Solution()\n",
    "cls.isBalanced(root)"
   ]
  },
  {
   "cell_type": "code",
   "execution_count": null,
   "metadata": {},
   "outputs": [],
   "source": []
  },
  {
   "cell_type": "code",
   "execution_count": null,
   "metadata": {},
   "outputs": [],
   "source": []
  },
  {
   "cell_type": "code",
   "execution_count": null,
   "metadata": {},
   "outputs": [],
   "source": []
  },
  {
   "cell_type": "code",
   "execution_count": null,
   "metadata": {},
   "outputs": [],
   "source": []
  },
  {
   "cell_type": "code",
   "execution_count": null,
   "metadata": {},
   "outputs": [],
   "source": []
  },
  {
   "cell_type": "code",
   "execution_count": null,
   "metadata": {},
   "outputs": [],
   "source": []
  },
  {
   "cell_type": "code",
   "execution_count": null,
   "metadata": {},
   "outputs": [],
   "source": []
  },
  {
   "cell_type": "code",
   "execution_count": null,
   "metadata": {},
   "outputs": [],
   "source": []
  },
  {
   "cell_type": "code",
   "execution_count": null,
   "metadata": {},
   "outputs": [],
   "source": [
    "\n"
   ]
  }
 ],
 "metadata": {
  "kernelspec": {
   "display_name": "Python 3",
   "language": "python",
   "name": "python3"
  },
  "language_info": {
   "codemirror_mode": {
    "name": "ipython",
    "version": 3
   },
   "file_extension": ".py",
   "mimetype": "text/x-python",
   "name": "python",
   "nbconvert_exporter": "python",
   "pygments_lexer": "ipython3",
   "version": "3.7.6"
  }
 },
 "nbformat": 4,
 "nbformat_minor": 4
}
