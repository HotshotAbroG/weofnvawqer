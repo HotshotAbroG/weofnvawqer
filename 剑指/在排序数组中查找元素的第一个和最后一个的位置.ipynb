{
 "cells": [
  {
   "cell_type": "markdown",
   "metadata": {},
   "source": [
    "# 排序数组\n",
    "![title](../img/a69.png)"
   ]
  },
  {
   "cell_type": "code",
   "execution_count": 6,
   "metadata": {},
   "outputs": [
    {
     "name": "stdout",
     "output_type": "stream",
     "text": [
      "3\n"
     ]
    },
    {
     "data": {
      "text/plain": [
       "[3, 4]"
      ]
     },
     "execution_count": 6,
     "metadata": {},
     "output_type": "execute_result"
    }
   ],
   "source": [
    "class Solution:\n",
    "    def find_bound(self, nums, target, if_find_left):\n",
    "        # 根据 flag 找左边 和 右边边界\n",
    "        left, right = 0, len(nums)\n",
    "        while left < right:\n",
    "            mid = (left+right)>>1\n",
    "            if (if_find_left and nums[mid] == target) or nums[mid] > target:\n",
    "                right = mid\n",
    "            else:\n",
    "                left = mid + 1\n",
    "        # left = right\n",
    "        return left \n",
    "\n",
    "        \n",
    "    \n",
    "    def searchRange(self, nums, target: int):\n",
    "        left_index = self.find_bound(nums, target, True)\n",
    "        print(left_index)\n",
    "        if left_index >= len(nums) or nums[left_index] != target:\n",
    "            return [-1,-1]\n",
    "        right_index = self.find_bound(nums, target, False)\n",
    "        return [left_index,right_index-1]\n",
    "            \n",
    "cls = Solution()\n",
    "cls.searchRange([5,7,7,8,8,10], 8)"
   ]
  },
  {
   "cell_type": "code",
   "execution_count": null,
   "metadata": {},
   "outputs": [],
   "source": []
  },
  {
   "cell_type": "code",
   "execution_count": null,
   "metadata": {},
   "outputs": [],
   "source": []
  },
  {
   "cell_type": "code",
   "execution_count": null,
   "metadata": {},
   "outputs": [],
   "source": []
  },
  {
   "cell_type": "code",
   "execution_count": null,
   "metadata": {},
   "outputs": [],
   "source": []
  },
  {
   "cell_type": "code",
   "execution_count": null,
   "metadata": {},
   "outputs": [],
   "source": []
  },
  {
   "cell_type": "code",
   "execution_count": null,
   "metadata": {},
   "outputs": [],
   "source": []
  },
  {
   "cell_type": "code",
   "execution_count": null,
   "metadata": {},
   "outputs": [],
   "source": []
  },
  {
   "cell_type": "code",
   "execution_count": null,
   "metadata": {},
   "outputs": [],
   "source": []
  }
 ],
 "metadata": {
  "kernelspec": {
   "display_name": "Python 3",
   "language": "python",
   "name": "python3"
  },
  "language_info": {
   "codemirror_mode": {
    "name": "ipython",
    "version": 3
   },
   "file_extension": ".py",
   "mimetype": "text/x-python",
   "name": "python",
   "nbconvert_exporter": "python",
   "pygments_lexer": "ipython3",
   "version": "3.7.6"
  }
 },
 "nbformat": 4,
 "nbformat_minor": 4
}
