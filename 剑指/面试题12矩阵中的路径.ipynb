{
 "cells": [
  {
   "cell_type": "markdown",
   "metadata": {},
   "source": [
    "# 面试题12. 矩阵中的路径\n",
    "![ttile](../img/a78.png)"
   ]
  },
  {
   "cell_type": "code",
   "execution_count": 10,
   "metadata": {},
   "outputs": [
    {
     "name": "stdout",
     "output_type": "stream",
     "text": [
      "3 4\n"
     ]
    },
    {
     "data": {
      "text/plain": [
       "True"
      ]
     },
     "execution_count": 10,
     "metadata": {},
     "output_type": "execute_result"
    }
   ],
   "source": [
    "board = [[\"A\",\"B\",\"C\",\"E\"],[\"S\",\"F\",\"C\",\"S\"],[\"A\",\"D\",\"E\",\"E\"]]\n",
    "word = \"ABCCED\"\n",
    "\n",
    "class Solution:\n",
    "    \n",
    "    def find_path(self, i, j, rows, cols, index, word, board):\n",
    "        if index == len(word):\n",
    "            return True\n",
    "        if (i < 0 or j <0 or i >= rows or j >= cols or self.record[i][j] or word[index] != board[i][j]):\n",
    "            return False\n",
    "        self.record[i][j] = True\n",
    "        flag1 = self.find_path(i-1, j, rows, cols, index +1, word, board)\n",
    "        flag2 = self.find_path(i+1, j, rows, cols, index +1, word, board)\n",
    "        flag3 = self.find_path(i, j-1, rows, cols, index +1, word, board)\n",
    "        flag4 = self.find_path(i, j+1, rows, cols, index +1, word, board)\n",
    "        if flag1 or flag2 or flag3 or flag4:\n",
    "            return True\n",
    "        self.record[i][j] = False\n",
    "\n",
    "    \n",
    "    def exist(self, board, word):\n",
    "        rows = len(board)\n",
    "        if rows == 0:\n",
    "            return False\n",
    "        cols = len(board[0])\n",
    "        print(rows,cols)\n",
    "        self.record = [[False]*cols for i in range(rows)]\n",
    "        for i in range(rows):\n",
    "            for j in range(cols):\n",
    "                if self.find_path(i, j, rows, cols, 0, word, board):\n",
    "                    return True\n",
    "        return False\n",
    "cls = Solution()\n",
    "cls.exist(board, word)"
   ]
  },
  {
   "cell_type": "code",
   "execution_count": null,
   "metadata": {},
   "outputs": [],
   "source": []
  },
  {
   "cell_type": "code",
   "execution_count": null,
   "metadata": {},
   "outputs": [],
   "source": []
  },
  {
   "cell_type": "code",
   "execution_count": null,
   "metadata": {},
   "outputs": [],
   "source": []
  },
  {
   "cell_type": "code",
   "execution_count": null,
   "metadata": {},
   "outputs": [],
   "source": []
  },
  {
   "cell_type": "code",
   "execution_count": null,
   "metadata": {},
   "outputs": [],
   "source": []
  },
  {
   "cell_type": "code",
   "execution_count": null,
   "metadata": {},
   "outputs": [],
   "source": []
  },
  {
   "cell_type": "code",
   "execution_count": null,
   "metadata": {},
   "outputs": [],
   "source": []
  },
  {
   "cell_type": "code",
   "execution_count": null,
   "metadata": {},
   "outputs": [],
   "source": []
  },
  {
   "cell_type": "code",
   "execution_count": null,
   "metadata": {},
   "outputs": [],
   "source": []
  }
 ],
 "metadata": {
  "kernelspec": {
   "display_name": "Python 3",
   "language": "python",
   "name": "python3"
  },
  "language_info": {
   "codemirror_mode": {
    "name": "ipython",
    "version": 3
   },
   "file_extension": ".py",
   "mimetype": "text/x-python",
   "name": "python",
   "nbconvert_exporter": "python",
   "pygments_lexer": "ipython3",
   "version": "3.7.6"
  }
 },
 "nbformat": 4,
 "nbformat_minor": 4
}
