{
 "cells": [
  {
   "cell_type": "markdown",
   "metadata": {},
   "source": [
    "# 打家劫舍3\n",
    "![title](../img/a61.png)"
   ]
  },
  {
   "cell_type": "code",
   "execution_count": 1,
   "metadata": {},
   "outputs": [
    {
     "name": "stdout",
     "output_type": "stream",
     "text": [
      "[3]\n",
      "[4, 5]\n",
      "[1, 3, 1]\n"
     ]
    }
   ],
   "source": [
    "import tree as Tree\n",
    "tree = Tree.tree\n",
    "arr = [3,4,5,1,3,-1014,1]\n",
    "root = tree.build_tree(arr, 0)\n",
    "tree.bfs(root)"
   ]
  },
  {
   "cell_type": "code",
   "execution_count": 10,
   "metadata": {},
   "outputs": [
    {
     "name": "stdout",
     "output_type": "stream",
     "text": [
      "[3]\n",
      "[-4, 5]\n",
      "[1, 4, 2]\n"
     ]
    },
    {
     "data": {
      "text/plain": [
       "10"
      ]
     },
     "execution_count": 10,
     "metadata": {},
     "output_type": "execute_result"
    }
   ],
   "source": [
    "class Solution:\n",
    "    def rob(self, root) -> int:\n",
    "        \n",
    "        def get_max(root):\n",
    "            # 得到一个树的 抢 与 不抢的 最大值 [max_not_rob, max_rob]\n",
    "            if root == None:\n",
    "                return [0, 0]\n",
    "            left = get_max(root.left)\n",
    "            right = get_max(root.right)\n",
    "            \n",
    "            rob_value = root.val + left[0] + right[0] # 0 表示上个房子没抢, 1 上个房子抢了\n",
    "            \n",
    "            # not_rob_value = max(left[0], left[1]) + max(right[0], right[1]) # 可以有目标地放弃，即：连续2次不抢\n",
    "            not_rob_value = max(left) + max(right) # 可以有目标地放弃，即：连续2次不抢\n",
    "\n",
    "            return [not_rob_value, rob_value]\n",
    "        \n",
    "        res = get_max(root)\n",
    "        \n",
    "        return  max(res)\n",
    "cls = Solution()\n",
    "arr = [3,-4,5,1,4,-1014,2]\n",
    "root = tree.build_tree(arr, 0)\n",
    "tree.bfs(root)\n",
    "\n",
    "cls.rob(root)\n"
   ]
  },
  {
   "cell_type": "code",
   "execution_count": null,
   "metadata": {},
   "outputs": [],
   "source": []
  },
  {
   "cell_type": "code",
   "execution_count": null,
   "metadata": {},
   "outputs": [],
   "source": []
  },
  {
   "cell_type": "code",
   "execution_count": null,
   "metadata": {},
   "outputs": [],
   "source": []
  },
  {
   "cell_type": "code",
   "execution_count": null,
   "metadata": {},
   "outputs": [],
   "source": []
  },
  {
   "cell_type": "code",
   "execution_count": null,
   "metadata": {},
   "outputs": [],
   "source": []
  },
  {
   "cell_type": "code",
   "execution_count": null,
   "metadata": {},
   "outputs": [],
   "source": []
  },
  {
   "cell_type": "code",
   "execution_count": null,
   "metadata": {},
   "outputs": [],
   "source": []
  },
  {
   "cell_type": "code",
   "execution_count": null,
   "metadata": {},
   "outputs": [],
   "source": []
  },
  {
   "cell_type": "code",
   "execution_count": null,
   "metadata": {},
   "outputs": [],
   "source": []
  },
  {
   "cell_type": "code",
   "execution_count": null,
   "metadata": {},
   "outputs": [],
   "source": []
  }
 ],
 "metadata": {
  "kernelspec": {
   "display_name": "Python 3",
   "language": "python",
   "name": "python3"
  },
  "language_info": {
   "codemirror_mode": {
    "name": "ipython",
    "version": 3
   },
   "file_extension": ".py",
   "mimetype": "text/x-python",
   "name": "python",
   "nbconvert_exporter": "python",
   "pygments_lexer": "ipython3",
   "version": "3.7.6"
  }
 },
 "nbformat": 4,
 "nbformat_minor": 4
}
