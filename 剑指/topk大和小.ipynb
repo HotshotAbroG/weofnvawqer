{
 "cells": [
  {
   "cell_type": "markdown",
   "metadata": {},
   "source": [
    "# 找前k大"
   ]
  },
  {
   "cell_type": "markdown",
   "metadata": {},
   "source": [
    "# 堆排序"
   ]
  },
  {
   "cell_type": "code",
   "execution_count": 3,
   "metadata": {},
   "outputs": [
    {
     "data": {
      "text/plain": [
       "24"
      ]
     },
     "execution_count": 3,
     "metadata": {},
     "output_type": "execute_result"
    }
   ],
   "source": [
    "def heapify(arr, length, cur_idnex):\n",
    "    max_index = cur_idnex\n",
    "    left, right = 2*cur_idnex+1, 2*cur_idnex+2\n",
    "    # 找heapify过程\n",
    "    if left < length and arr[left] > arr[max_index]:\n",
    "        max_index = left\n",
    "    if right < length and arr[right] > arr[max_index]:\n",
    "        max_index = right\n",
    "        \n",
    "    if max_index != cur_idnex:\n",
    "        arr[max_index], arr[cur_idnex] = arr[cur_idnex], arr[max_index]\n",
    "        heapify(arr, length, max_index)\n",
    "def heap_sort(arr, k):\n",
    "    length = len(arr)\n",
    "    start_node = (length-2) >> 1\n",
    "    # 建立大堆\n",
    "    for i in range(start_node, -1, -1):\n",
    "        heapify(arr, length, i)\n",
    "    # 排序\n",
    "    count = 0\n",
    "    for i in range(length-1, 0, -1):\n",
    "        arr[0], arr[i] = arr[i], arr[0]\n",
    "        heapify(arr, i, 0)\n",
    "        count += 1\n",
    "        if count == k:\n",
    "            return arr[-k]\n",
    "arr = [1,8,9,2,4,6,3,1,24]\n",
    "heap_sort(arr,1)"
   ]
  },
  {
   "cell_type": "markdown",
   "metadata": {},
   "source": [
    "# 找第k大"
   ]
  },
  {
   "cell_type": "code",
   "execution_count": 20,
   "metadata": {},
   "outputs": [
    {
     "name": "stdout",
     "output_type": "stream",
     "text": [
      "[1, 2, 3, 4, 5, 6]\n"
     ]
    },
    {
     "data": {
      "text/plain": [
       "4"
      ]
     },
     "execution_count": 20,
     "metadata": {},
     "output_type": "execute_result"
    }
   ],
   "source": [
    "class Solution:\n",
    "    def getLeastNumbers(self, arr, k: int):\n",
    "        def heapfiy(arr, length, index):\n",
    "            max_index = index\n",
    "            left, right = 2 * index + 1, 2 * index + 2\n",
    "            if left < length and arr[left] > arr[max_index]:\n",
    "                max_index = left\n",
    "            if right < length and arr[right] > arr[max_index]:\n",
    "                max_index = right\n",
    "            if max_index != index:\n",
    "                arr[max_index], arr[index] = arr[index], arr[max_index]\n",
    "                heapfiy(arr, length, max_index)\n",
    "\n",
    "        def heap_sort(arr, k):\n",
    "            length = len(arr)\n",
    "            start = (length -2 )>>1\n",
    "            # build heap----大堆\n",
    "            for i in range(start, -1, -1):\n",
    "                heapfiy(arr, length, i)\n",
    "            count = 0 \n",
    "            for i in range(length-1, -1, -1):\n",
    "                arr[0], arr[i] = arr[i], arr[0]\n",
    "                count += 1\n",
    "                heapfiy(arr, i, 0)\n",
    "                if k == count:\n",
    "                    return arr[-k]\n",
    "            return -1\n",
    "        return heap_sort(arr, k)\n",
    "    \n",
    "    \n",
    "cls = Solution()\n",
    "arr = [1,3,6, 2, 5, 4]\n",
    "print(sorted(arr))\n",
    "k = 3\n",
    "cls.getLeastNumbers(arr, k)"
   ]
  },
  {
   "cell_type": "markdown",
   "metadata": {},
   "source": [
    "# 前k大"
   ]
  },
  {
   "cell_type": "code",
   "execution_count": 22,
   "metadata": {},
   "outputs": [
    {
     "name": "stdout",
     "output_type": "stream",
     "text": [
      "[1, 2, 3, 4, 5, 6]\n"
     ]
    },
    {
     "data": {
      "text/plain": [
       "[4, 5, 6]"
      ]
     },
     "execution_count": 22,
     "metadata": {},
     "output_type": "execute_result"
    }
   ],
   "source": [
    "class Solution:\n",
    "    def getLeastNumbers(self, arr, k: int):\n",
    "        def heapfiy(arr, length, index):\n",
    "            max_index = index\n",
    "            left, right = 2 * index + 1, 2 * index + 2\n",
    "            if left < length and arr[left] > arr[max_index]:\n",
    "                max_index = left\n",
    "            if right < length and arr[right] > arr[max_index]:\n",
    "                max_index = right\n",
    "            if max_index != index:\n",
    "                arr[max_index], arr[index] = arr[index], arr[max_index]\n",
    "                heapfiy(arr, length, max_index)\n",
    "\n",
    "        def heap_sort(arr, k):\n",
    "            length = len(arr)\n",
    "            start = (length -2 )>>1\n",
    "            # build heap----大堆\n",
    "            for i in range(start, -1, -1):\n",
    "                heapfiy(arr, length, i)\n",
    "            count = 0 \n",
    "            for i in range(length-1, -1, -1):\n",
    "                arr[0], arr[i] = arr[i], arr[0]\n",
    "                count += 1\n",
    "                heapfiy(arr, i, 0)\n",
    "                if k == count:\n",
    "                    return arr[-k:]\n",
    "            return -1\n",
    "        \n",
    "        return heap_sort(arr, k)\n",
    "    \n",
    "    \n",
    "cls = Solution()\n",
    "arr = [1,3,6, 2, 5, 4]\n",
    "print(sorted(arr))\n",
    "k = 3\n",
    "cls.getLeastNumbers(arr, k)"
   ]
  },
  {
   "cell_type": "markdown",
   "metadata": {},
   "source": [
    "# 第k小"
   ]
  },
  {
   "cell_type": "code",
   "execution_count": 32,
   "metadata": {},
   "outputs": [
    {
     "name": "stdout",
     "output_type": "stream",
     "text": [
      "[1, 2, 3, 4, 5, 6]\n"
     ]
    },
    {
     "data": {
      "text/plain": [
       "2"
      ]
     },
     "execution_count": 32,
     "metadata": {},
     "output_type": "execute_result"
    }
   ],
   "source": [
    "class Solution:\n",
    "    def getLeastNumbers(self, arr, k: int):\n",
    "        def heapfiy(arr, length, index):\n",
    "            max_index = index\n",
    "            left, right = 2 * index + 1, 2 * index + 2\n",
    "            if left < length and arr[left] < arr[max_index]:\n",
    "                max_index = left\n",
    "            if right < length and arr[right] < arr[max_index]:\n",
    "                max_index = right\n",
    "            if max_index != index:\n",
    "                arr[max_index], arr[index] = arr[index], arr[max_index]\n",
    "                heapfiy(arr, length, max_index)\n",
    "\n",
    "        def heap_sort(arr, k):\n",
    "            length = len(arr)\n",
    "            start = (length -2 )>>1\n",
    "            # build heap----小堆\n",
    "            for i in range(start, -1, -1):\n",
    "                heapfiy(arr, length, i)\n",
    "            count = 0 \n",
    "            for i in range(length-1, -1, -1):\n",
    "                arr[0], arr[i] = arr[i], arr[0]\n",
    "                count += 1\n",
    "                heapfiy(arr, i, 0)\n",
    "                if k == count:\n",
    "                    return arr[-k]\n",
    "            return -1\n",
    "        return heap_sort(arr, k)\n",
    "    \n",
    "    \n",
    "cls = Solution()\n",
    "arr = [1,3,6, 2, 5, 4]\n",
    "print(sorted(arr))\n",
    "k = 2\n",
    "cls.getLeastNumbers(arr, k)"
   ]
  },
  {
   "cell_type": "markdown",
   "metadata": {},
   "source": [
    "# 前K小"
   ]
  },
  {
   "cell_type": "code",
   "execution_count": 33,
   "metadata": {},
   "outputs": [
    {
     "name": "stdout",
     "output_type": "stream",
     "text": [
      "[1, 2, 3, 4, 5, 6]\n"
     ]
    },
    {
     "data": {
      "text/plain": [
       "[2, 1]"
      ]
     },
     "execution_count": 33,
     "metadata": {},
     "output_type": "execute_result"
    }
   ],
   "source": [
    "class Solution:\n",
    "    def getLeastNumbers(self, arr, k: int):\n",
    "        def heapfiy(arr, length, index):\n",
    "            max_index = index\n",
    "            left, right = 2 * index + 1, 2 * index + 2\n",
    "            if left < length and arr[left] < arr[max_index]:\n",
    "                max_index = left\n",
    "            if right < length and arr[right] < arr[max_index]:\n",
    "                max_index = right\n",
    "            if max_index != index:\n",
    "                arr[max_index], arr[index] = arr[index], arr[max_index]\n",
    "                heapfiy(arr, length, max_index)\n",
    "\n",
    "        def heap_sort(arr, k):\n",
    "            length = len(arr)\n",
    "            start = (length -2 )>>1\n",
    "            # build heap----大堆\n",
    "            for i in range(start, -1, -1):\n",
    "                heapfiy(arr, length, i)\n",
    "            count = 0 \n",
    "            for i in range(length-1, -1, -1):\n",
    "                arr[0], arr[i] = arr[i], arr[0]\n",
    "                count += 1\n",
    "                heapfiy(arr, i, 0)\n",
    "                if k == count:\n",
    "                    return arr[-k: ]\n",
    "            return -1\n",
    "        \n",
    "        return heap_sort(arr, k)\n",
    "    \n",
    "    \n",
    "cls = Solution()\n",
    "arr = [1,3,6, 2, 5, 4]\n",
    "print(sorted(arr))\n",
    "k = 2\n",
    "cls.getLeastNumbers(arr, k)"
   ]
  },
  {
   "cell_type": "code",
   "execution_count": null,
   "metadata": {},
   "outputs": [],
   "source": []
  },
  {
   "cell_type": "code",
   "execution_count": null,
   "metadata": {},
   "outputs": [],
   "source": []
  },
  {
   "cell_type": "code",
   "execution_count": null,
   "metadata": {},
   "outputs": [],
   "source": []
  },
  {
   "cell_type": "code",
   "execution_count": null,
   "metadata": {},
   "outputs": [],
   "source": []
  },
  {
   "cell_type": "markdown",
   "metadata": {},
   "source": [
    "# 调库版本----前k大"
   ]
  },
  {
   "cell_type": "code",
   "execution_count": 1,
   "metadata": {},
   "outputs": [],
   "source": [
    "import queue"
   ]
  },
  {
   "cell_type": "code",
   "execution_count": 2,
   "metadata": {},
   "outputs": [
    {
     "name": "stdout",
     "output_type": "stream",
     "text": [
      "[6, 34]\n"
     ]
    }
   ],
   "source": [
    "import queue\n",
    "class Solution:\n",
    "    def getLeastNumbers(self, tinput, k):\n",
    "        if k > len(tinput) or k <= 0:\n",
    "            return []\n",
    "        que = queue.PriorityQueue()\n",
    "        for value in tinput:\n",
    "            que.put(value)\n",
    "            if que.qsize() > k:\n",
    "                que.get()\n",
    "        res = []\n",
    "        while not que.empty():\n",
    "            res.append(que.get())\n",
    "        print(res)\n",
    "    \n",
    "cls = Solution()\n",
    "arr = [3,5,34,6,6,2,1]\n",
    "k = 2\n",
    "cls.getLeastNumbers(arr,k)"
   ]
  },
  {
   "cell_type": "markdown",
   "metadata": {},
   "source": [
    "# 第k大"
   ]
  },
  {
   "cell_type": "code",
   "execution_count": 14,
   "metadata": {},
   "outputs": [
    {
     "name": "stdout",
     "output_type": "stream",
     "text": [
      "4\n"
     ]
    },
    {
     "data": {
      "text/plain": [
       "5"
      ]
     },
     "execution_count": 14,
     "metadata": {},
     "output_type": "execute_result"
    }
   ],
   "source": [
    "import queue\n",
    "# queue中的优先队列是个小堆\n",
    "class Solution:\n",
    "    def getLeastNumbers(self, tinput, k):\n",
    "        if k > len(tinput) or k <= 0:\n",
    "            return []\n",
    "        que = queue.PriorityQueue()\n",
    "        count = 0\n",
    "        for value in tinput:\n",
    "            que.put(value)\n",
    "            if que.qsize() > k:\n",
    "                que.get()\n",
    "        print(que.qsize())\n",
    "        return que.get()\n",
    "cls = Solution()\n",
    "arr = [3,5,34,6,6,2,1]\n",
    "k = 4\n",
    "cls.getLeastNumbers(arr,k)"
   ]
  },
  {
   "cell_type": "code",
   "execution_count": 15,
   "metadata": {},
   "outputs": [
    {
     "data": {
      "text/plain": [
       "1"
      ]
     },
     "execution_count": 15,
     "metadata": {},
     "output_type": "execute_result"
    }
   ],
   "source": []
  },
  {
   "cell_type": "code",
   "execution_count": null,
   "metadata": {},
   "outputs": [],
   "source": []
  },
  {
   "cell_type": "code",
   "execution_count": null,
   "metadata": {},
   "outputs": [],
   "source": []
  }
 ],
 "metadata": {
  "kernelspec": {
   "display_name": "Python 3",
   "language": "python",
   "name": "python3"
  },
  "language_info": {
   "codemirror_mode": {
    "name": "ipython",
    "version": 3
   },
   "file_extension": ".py",
   "mimetype": "text/x-python",
   "name": "python",
   "nbconvert_exporter": "python",
   "pygments_lexer": "ipython3",
   "version": "3.7.6"
  }
 },
 "nbformat": 4,
 "nbformat_minor": 4
}
