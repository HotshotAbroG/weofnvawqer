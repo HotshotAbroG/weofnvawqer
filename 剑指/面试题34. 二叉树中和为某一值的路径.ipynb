{
 "cells": [
  {
   "cell_type": "markdown",
   "metadata": {},
   "source": [
    "# 面试题34. 二叉树中和为某一值的路径\n",
    "![title](../img/a52.png)"
   ]
  },
  {
   "cell_type": "code",
   "execution_count": 1,
   "metadata": {},
   "outputs": [
    {
     "name": "stdout",
     "output_type": "stream",
     "text": [
      "[5]\n",
      "[4, 8]\n",
      "[11, 13, 4]\n",
      "[7, 2, 5, 1]\n"
     ]
    }
   ],
   "source": [
    "import tree as Tree\n",
    "tree = Tree.tree\n",
    "arr = [5, 4, 8, 11, -1014, 13, 4, 7, 2, -1014,-1014, -1014, -1014,5, 1]\n",
    "root = tree.build_tree(arr, 0)\n",
    "tree.bfs(root)"
   ]
  },
  {
   "cell_type": "code",
   "execution_count": 1,
   "metadata": {},
   "outputs": [
    {
     "name": "stdout",
     "output_type": "stream",
     "text": [
      "[5]\n",
      "[4, 8]\n",
      "[11, 13, 4]\n",
      "[7, 2, 5, 1]\n"
     ]
    },
    {
     "data": {
      "text/plain": [
       "[[5, 4, 11, 2], [5, 8, 4, 5]]"
      ]
     },
     "execution_count": 1,
     "metadata": {},
     "output_type": "execute_result"
    }
   ],
   "source": [
    "import tree as Tree\n",
    "tree = Tree.tree\n",
    "arr = [5, 4, 8, 11, -1014, 13, 4, 7, 2, -1014,-1014, -1014, -1014,5, 1]\n",
    "root = tree.build_tree(arr, 0)\n",
    "tree.bfs(root)\n",
    "class Solution:\n",
    "    def pathSum(self, root, value):\n",
    "        res = []\n",
    "        if not root:\n",
    "            return \n",
    "        def dfs(root, value, sublist):\n",
    "            if not root:\n",
    "                return \n",
    "            sublist.append(root.val)\n",
    "            if root.val == value and root.left == None and root.right == None:\n",
    "                res.append(sublist.copy())\n",
    "            dfs(root.left, value-root.val, sublist)\n",
    "            dfs(root.right, value-root.val, sublist)\n",
    "            sublist.pop()\n",
    "        dfs(root, value, [])\n",
    "        return res\n",
    "        \n",
    "cls = Solution()\n",
    "cls.pathSum(root, 22)"
   ]
  },
  {
   "cell_type": "code",
   "execution_count": null,
   "metadata": {},
   "outputs": [],
   "source": []
  },
  {
   "cell_type": "code",
   "execution_count": null,
   "metadata": {},
   "outputs": [],
   "source": []
  },
  {
   "cell_type": "code",
   "execution_count": null,
   "metadata": {},
   "outputs": [],
   "source": []
  },
  {
   "cell_type": "code",
   "execution_count": null,
   "metadata": {},
   "outputs": [],
   "source": []
  },
  {
   "cell_type": "code",
   "execution_count": 31,
   "metadata": {},
   "outputs": [
    {
     "data": {
      "text/plain": [
       "[[5, 4, 11, 2], [5, 8, 4, 5]]"
      ]
     },
     "execution_count": 31,
     "metadata": {},
     "output_type": "execute_result"
    }
   ],
   "source": [
    "class Solution:\n",
    "    def pathSum(self, root, target):\n",
    "        res = []\n",
    "        if not root:\n",
    "            return res\n",
    "        def dfs(root, cur_value, sub_list):\n",
    "            # 保证传入的bfs 非空\n",
    "            if not root:\n",
    "                return \n",
    "            \n",
    "            sub_list.append(root.val)\n",
    "            cur_value += root.val\n",
    "            \n",
    "            if target == cur_value and root.left == None and root.right == None:\n",
    "                res.append(sub_list.copy())\n",
    "            \n",
    "            dfs(root.left, cur_value, sub_list)\n",
    "            dfs(root.right, cur_value, sub_list)\n",
    "            sub_list.pop()\n",
    "            \n",
    "        dfs(root, 0, [])\n",
    "        return res\n",
    "    \n",
    "cls = Solution()\n",
    "cls.pathSum(root, 22)"
   ]
  },
  {
   "cell_type": "code",
   "execution_count": null,
   "metadata": {},
   "outputs": [],
   "source": []
  },
  {
   "cell_type": "code",
   "execution_count": null,
   "metadata": {},
   "outputs": [],
   "source": []
  },
  {
   "cell_type": "code",
   "execution_count": null,
   "metadata": {},
   "outputs": [],
   "source": []
  },
  {
   "cell_type": "code",
   "execution_count": null,
   "metadata": {},
   "outputs": [],
   "source": []
  },
  {
   "cell_type": "code",
   "execution_count": null,
   "metadata": {},
   "outputs": [],
   "source": []
  },
  {
   "cell_type": "code",
   "execution_count": null,
   "metadata": {},
   "outputs": [],
   "source": []
  },
  {
   "cell_type": "code",
   "execution_count": null,
   "metadata": {},
   "outputs": [],
   "source": []
  },
  {
   "cell_type": "code",
   "execution_count": null,
   "metadata": {},
   "outputs": [],
   "source": []
  },
  {
   "cell_type": "code",
   "execution_count": null,
   "metadata": {},
   "outputs": [],
   "source": []
  },
  {
   "cell_type": "code",
   "execution_count": null,
   "metadata": {},
   "outputs": [],
   "source": []
  }
 ],
 "metadata": {
  "kernelspec": {
   "display_name": "Python 3",
   "language": "python",
   "name": "python3"
  },
  "language_info": {
   "codemirror_mode": {
    "name": "ipython",
    "version": 3
   },
   "file_extension": ".py",
   "mimetype": "text/x-python",
   "name": "python",
   "nbconvert_exporter": "python",
   "pygments_lexer": "ipython3",
   "version": "3.7.6"
  }
 },
 "nbformat": 4,
 "nbformat_minor": 4
}
