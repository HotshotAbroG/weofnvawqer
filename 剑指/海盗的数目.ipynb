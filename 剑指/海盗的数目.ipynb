{
 "cells": [
  {
   "cell_type": "markdown",
   "metadata": {},
   "source": [
    "![title](../img/a10.png)\n"
   ]
  },
  {
   "cell_type": "code",
   "execution_count": 3,
   "metadata": {},
   "outputs": [
    {
     "data": {
      "text/plain": [
       "3"
      ]
     },
     "execution_count": 3,
     "metadata": {},
     "output_type": "execute_result"
    }
   ],
   "source": [
    "grid = [[1,1,0,0,0],[1,1,0,0,0],[0,0,1,0,0],[0,0,0,1,1]]\n",
    "class Solution:\n",
    "    def numIslands(self, grid) -> int:\n",
    "        try:\n",
    "            rows = len(grid)\n",
    "            cols = len(grid[0])\n",
    "        except:\n",
    "            return 0\n",
    "        def dfs(grid, i, j):\n",
    "            if i < 0 or i >= rows or j < 0 or j >= cols or grid[i][j] == 0 :\n",
    "                return\n",
    "            # 沉没\n",
    "            grid[i][j] = 0\n",
    "            \n",
    "            dfs(grid, i, j - 1)\n",
    "            dfs(grid, i, j + 1)\n",
    "            dfs(grid, i + 1, j)\n",
    "            dfs(grid, i - 1, j)\n",
    "            \n",
    "        res = 0\n",
    "        for i in range(rows):\n",
    "            for j in range(cols):\n",
    "                if (grid[i][j] == 1):\n",
    "                    res += 1\n",
    "                    dfs(grid, i, j)\n",
    "        return res\n",
    "cls = Solution()\n",
    "cls.numIslands(grid)\n",
    "            "
   ]
  },
  {
   "cell_type": "code",
   "execution_count": null,
   "metadata": {},
   "outputs": [],
   "source": []
  },
  {
   "cell_type": "code",
   "execution_count": null,
   "metadata": {},
   "outputs": [],
   "source": []
  },
  {
   "cell_type": "code",
   "execution_count": null,
   "metadata": {},
   "outputs": [],
   "source": []
  },
  {
   "cell_type": "code",
   "execution_count": null,
   "metadata": {},
   "outputs": [],
   "source": []
  },
  {
   "cell_type": "code",
   "execution_count": null,
   "metadata": {},
   "outputs": [],
   "source": []
  },
  {
   "cell_type": "code",
   "execution_count": null,
   "metadata": {},
   "outputs": [],
   "source": []
  },
  {
   "cell_type": "code",
   "execution_count": null,
   "metadata": {},
   "outputs": [],
   "source": []
  },
  {
   "cell_type": "code",
   "execution_count": null,
   "metadata": {},
   "outputs": [],
   "source": []
  },
  {
   "cell_type": "code",
   "execution_count": null,
   "metadata": {},
   "outputs": [],
   "source": []
  },
  {
   "cell_type": "code",
   "execution_count": null,
   "metadata": {},
   "outputs": [],
   "source": []
  }
 ],
 "metadata": {
  "kernelspec": {
   "display_name": "Python 3",
   "language": "python",
   "name": "python3"
  },
  "language_info": {
   "codemirror_mode": {
    "name": "ipython",
    "version": 3
   },
   "file_extension": ".py",
   "mimetype": "text/x-python",
   "name": "python",
   "nbconvert_exporter": "python",
   "pygments_lexer": "ipython3",
   "version": "3.7.3"
  }
 },
 "nbformat": 4,
 "nbformat_minor": 4
}
