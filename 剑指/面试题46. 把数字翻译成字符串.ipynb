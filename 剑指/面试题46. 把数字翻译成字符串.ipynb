{
 "cells": [
  {
   "cell_type": "markdown",
   "metadata": {},
   "source": [
    "# 面试题46. 把数字翻译成字符串\n",
    "![title](../img/a50.png)"
   ]
  },
  {
   "cell_type": "code",
   "execution_count": 7,
   "metadata": {},
   "outputs": [
    {
     "data": {
      "text/plain": [
       "'sa'"
      ]
     },
     "execution_count": 7,
     "metadata": {},
     "output_type": "execute_result"
    }
   ],
   "source": [
    "a = \"safasd\"\n"
   ]
  },
  {
   "cell_type": "code",
   "execution_count": 3,
   "metadata": {},
   "outputs": [
    {
     "data": {
      "text/plain": [
       "3"
      ]
     },
     "execution_count": 3,
     "metadata": {},
     "output_type": "execute_result"
    }
   ],
   "source": [
    "class Solution:\n",
    "    def translateNum(self, num: int) -> int:\n",
    "        string = str(num)\n",
    "        dp = [0] * (len(string) + 1)\n",
    "        dp[0],dp[1] = 1, 1 # 0个或者1个 都是 只有一种方式翻译\n",
    "        for i in range(2, len(string)+1):\n",
    "            value = int(string[i-1])\n",
    "            if value >= 0 and value <= 9:\n",
    "                dp[i] += dp[i-1]\n",
    "        \n",
    "            value = int(string[i-2:i])\n",
    "            if value >=10 and value <= 25:\n",
    "                dp[i] += dp[i-2]\n",
    "            \n",
    "        return dp[-1]\n",
    "cls = Solution()\n",
    "cls.translateNum(\"122\")"
   ]
  },
  {
   "cell_type": "code",
   "execution_count": 16,
   "metadata": {},
   "outputs": [
    {
     "name": "stdout",
     "output_type": "stream",
     "text": [
      "[1, 1, 2, 3]\n"
     ]
    },
    {
     "data": {
      "text/plain": [
       "3"
      ]
     },
     "execution_count": 16,
     "metadata": {},
     "output_type": "execute_result"
    }
   ],
   "source": [
    "class Solution:\n",
    "    def translateNum(self, num: int) -> int:\n",
    "        # 12258\n",
    "        # dp[i]: 前i-1个数字所能翻译成功的个数，\n",
    "        # dp[i] =  dp[i-1]\n",
    "        # 如 2......123,  dp[n] = dp[n-1] + dp[n-2]  在string[i-2:i] 在条件内\n",
    "        #  [2.....12] + 3 的次数 + [2.....1] + 23 的次数\n",
    "        string = str(num)\n",
    "        dp = [0] * (len(string) + 1)\n",
    "        dp[0],dp[1] = 1, 1 # 0个或者1个 都是 只有一种方式翻译\n",
    "        for i in range(2, len(string)+1):\n",
    "            value = int(string[i-1])\n",
    "            if value >= 0 and value <= 9:\n",
    "                dp[i] = dp[i-1]\n",
    "        \n",
    "            value = int(string[i-2:i])\n",
    "            if value >=10 and value <= 25:\n",
    "                dp[i] += dp[i-2]\n",
    "        print(dp)\n",
    "        return dp[-1]\n",
    "cls = Solution()\n",
    "cls.translateNum(123)"
   ]
  },
  {
   "cell_type": "code",
   "execution_count": null,
   "metadata": {},
   "outputs": [],
   "source": []
  },
  {
   "cell_type": "code",
   "execution_count": null,
   "metadata": {},
   "outputs": [],
   "source": []
  },
  {
   "cell_type": "code",
   "execution_count": null,
   "metadata": {},
   "outputs": [],
   "source": []
  },
  {
   "cell_type": "code",
   "execution_count": null,
   "metadata": {},
   "outputs": [],
   "source": []
  },
  {
   "cell_type": "code",
   "execution_count": null,
   "metadata": {},
   "outputs": [],
   "source": []
  },
  {
   "cell_type": "code",
   "execution_count": null,
   "metadata": {},
   "outputs": [],
   "source": []
  },
  {
   "cell_type": "code",
   "execution_count": null,
   "metadata": {},
   "outputs": [],
   "source": []
  },
  {
   "cell_type": "code",
   "execution_count": null,
   "metadata": {},
   "outputs": [],
   "source": []
  },
  {
   "cell_type": "code",
   "execution_count": null,
   "metadata": {},
   "outputs": [],
   "source": []
  },
  {
   "cell_type": "code",
   "execution_count": null,
   "metadata": {},
   "outputs": [],
   "source": []
  },
  {
   "cell_type": "code",
   "execution_count": null,
   "metadata": {},
   "outputs": [],
   "source": []
  }
 ],
 "metadata": {
  "kernelspec": {
   "display_name": "Python 3",
   "language": "python",
   "name": "python3"
  },
  "language_info": {
   "codemirror_mode": {
    "name": "ipython",
    "version": 3
   },
   "file_extension": ".py",
   "mimetype": "text/x-python",
   "name": "python",
   "nbconvert_exporter": "python",
   "pygments_lexer": "ipython3",
   "version": "3.7.6"
  }
 },
 "nbformat": 4,
 "nbformat_minor": 4
}
