{
 "cells": [
  {
   "cell_type": "markdown",
   "metadata": {},
   "source": [
    "# 面试题51. 数组中的逆序对\n",
    "![ttile](../img/a56.png)"
   ]
  },
  {
   "cell_type": "code",
   "execution_count": 2,
   "metadata": {},
   "outputs": [
    {
     "name": "stdout",
     "output_type": "stream",
     "text": [
      "[4, 5, 6, 7]\n"
     ]
    },
    {
     "data": {
      "text/plain": [
       "5"
      ]
     },
     "execution_count": 2,
     "metadata": {},
     "output_type": "execute_result"
    }
   ],
   "source": [
    "class Solution:\n",
    "    def reversePairs(self, nums):\n",
    "        self.cnt = 0\n",
    "        \n",
    "        def split(nums, start, end):\n",
    "            if start < end:\n",
    "                mid = (start + end) >> 1\n",
    "                split(nums, start ,mid)\n",
    "                split(nums, mid + 1, end)\n",
    "                merge(nums, start, mid, end)\n",
    "        \n",
    "        def merge(nums, left, mid, right):\n",
    "            i, j, count = left, mid+1, 0\n",
    "            temp = [0] * (right - left + 1)\n",
    "            while i <= mid and j <= right:\n",
    "                if nums[i] <= nums[j]:\n",
    "                    temp[count] = nums[i]\n",
    "                    i = i+1\n",
    "                else:\n",
    "                    # nums[i] > nums[j]\n",
    "                    self.cnt += mid - i + 1\n",
    "                    temp[count] = nums[j]\n",
    "                    j = j+1\n",
    "                count += 1\n",
    "            while i <= mid:\n",
    "                temp[count] = nums[i]\n",
    "                count, i = count+1, i+1\n",
    "            while j <= right:\n",
    "                temp[count] = nums[j]\n",
    "                count, j = count+1, j+1\n",
    "            \n",
    "            count = 0\n",
    "            while left <= right:\n",
    "                nums[left] = temp[count]\n",
    "                left += 1\n",
    "                count += 1\n",
    "                \n",
    "        split(nums,0, len(nums)-1)\n",
    "        print(nums)\n",
    "        return self.cnt\n",
    "                \n",
    "                \n",
    "                    \n",
    "            \n",
    "cls = Solution()\n",
    "arr = [7, 5, 6,4]\n",
    "cls.reversePairs(arr)"
   ]
  },
  {
   "cell_type": "code",
   "execution_count": 5,
   "metadata": {},
   "outputs": [
    {
     "name": "stdout",
     "output_type": "stream",
     "text": [
      "[4, 5, 6, 7]\n"
     ]
    },
    {
     "data": {
      "text/plain": [
       "5"
      ]
     },
     "execution_count": 5,
     "metadata": {},
     "output_type": "execute_result"
    }
   ],
   "source": [
    "class Solution:\n",
    "    def reversePairs(self, nums):\n",
    "        self.cnt = 0\n",
    "        \n",
    "        def split(nums, start, end):\n",
    "            if start < end:\n",
    "                mid = (start + end) >> 1\n",
    "                split(nums, start ,mid)\n",
    "                split(nums, mid + 1, end)\n",
    "                merge(nums, start, mid, end)\n",
    "        \n",
    "        def merge(nums, left, mid, right):\n",
    "            i, j, count = left, mid+1, 0\n",
    "            temp = []\n",
    "            while i <= mid and j <= right:\n",
    "                if nums[i] <= nums[j]:\n",
    "                    temp.append(nums[i])\n",
    "                    i = i+1\n",
    "                else:\n",
    "                    # nums[i] > nums[j]\n",
    "                    self.cnt += mid - i + 1\n",
    "                    temp.append(nums[j])\n",
    "                    j = j+1\n",
    "            while i <= mid:\n",
    "                temp.append(nums[i])\n",
    "                count, i = count+1, i+1\n",
    "                \n",
    "            while j <= right:\n",
    "                temp.append(nums[j])\n",
    "                count, j = count+1, j+1\n",
    "\n",
    "            \n",
    "            for value in temp:\n",
    "                nums[left] = value\n",
    "                left += 1\n",
    "\n",
    "                \n",
    "        split(nums,0, len(nums)-1)\n",
    "        print(nums)\n",
    "        return self.cnt\n",
    "                \n",
    "                \n",
    "                    \n",
    "            \n",
    "cls = Solution()\n",
    "arr = [7, 5, 6,4]\n",
    "cls.reversePairs(arr)"
   ]
  },
  {
   "cell_type": "code",
   "execution_count": null,
   "metadata": {},
   "outputs": [],
   "source": []
  },
  {
   "cell_type": "code",
   "execution_count": 8,
   "metadata": {},
   "outputs": [
    {
     "data": {
      "text/plain": [
       "[12312, 2, 3, 4]"
      ]
     },
     "execution_count": 8,
     "metadata": {},
     "output_type": "execute_result"
    }
   ],
   "source": [
    "def a(num):\n",
    "    num[0] = 12312\n",
    "arr = [1,2,3,4]\n",
    "a(arr)\n",
    "arr"
   ]
  },
  {
   "cell_type": "code",
   "execution_count": null,
   "metadata": {},
   "outputs": [],
   "source": []
  },
  {
   "cell_type": "code",
   "execution_count": 21,
   "metadata": {},
   "outputs": [
    {
     "data": {
      "text/plain": [
       "5"
      ]
     },
     "execution_count": 21,
     "metadata": {},
     "output_type": "execute_result"
    }
   ],
   "source": [
    "class Solution:\n",
    "\n",
    "    def split_merge(self, nums, start, end):\n",
    "        if start < end:\n",
    "            mid = (start+end)>>1\n",
    "            self.split_merge(nums, start, mid)\n",
    "            self.split_merge(nums, mid+1, end)\n",
    "            self.merge(nums, start, mid, end)\n",
    "        \n",
    "            \n",
    "    def merge(self, nums, start, mid, end):\n",
    "        temp  = [0] * (end - start + 1)\n",
    "        i, j = start, mid + 1\n",
    "        count = 0\n",
    "        while i <= mid and j <= end:\n",
    "            if nums[i] <= nums[j]:\n",
    "                temp[count] = nums[j]\n",
    "                j+=1\n",
    "            else:\n",
    "                # nums[i] > nums[j] 所以有 nums[i+1] > nums[j] nums[i+2]>nums[j].....\n",
    "                self.cnt += mid - i + 1\n",
    "                temp[count] = nums[i]\n",
    "                i+=1\n",
    "            count += 1\n",
    "        while i <= mid:\n",
    "            temp[count] = nums[i]\n",
    "            count, i = count+1, i+1\n",
    "            \n",
    "        while j <= end:\n",
    "            temp[count] = nums[j]\n",
    "            count, j = count+1, j+1\n",
    "        \n",
    "        count = 0 \n",
    "        while start <= end:\n",
    "            nums[start] = temp[count]\n",
    "            start, count = start + 1, count + 1\n",
    "            \n",
    "        \n",
    "        \n",
    "    \n",
    "    def reversePairs(self, nums):\n",
    "        self.cnt = 0\n",
    "        self.split_merge(nums, 0, len(nums)-1)\n",
    "        return self.cnt\n",
    "                \n",
    "                \n",
    "                    \n",
    "            \n",
    "cls = Solution()\n",
    "arr = [7, 5, 6,4]\n",
    "cls.reversePairs(arr)"
   ]
  },
  {
   "cell_type": "code",
   "execution_count": null,
   "metadata": {},
   "outputs": [],
   "source": []
  }
 ],
 "metadata": {
  "kernelspec": {
   "display_name": "Python 3",
   "language": "python",
   "name": "python3"
  },
  "language_info": {
   "codemirror_mode": {
    "name": "ipython",
    "version": 3
   },
   "file_extension": ".py",
   "mimetype": "text/x-python",
   "name": "python",
   "nbconvert_exporter": "python",
   "pygments_lexer": "ipython3",
   "version": "3.7.6"
  }
 },
 "nbformat": 4,
 "nbformat_minor": 4
}
