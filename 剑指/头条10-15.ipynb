{
 "cells": [
  {
   "cell_type": "markdown",
   "metadata": {},
   "source": [
    "# 1 获取二叉树某一层的节点数量\n",
    "![title](../img/a97.png)"
   ]
  },
  {
   "cell_type": "code",
   "execution_count": 28,
   "metadata": {},
   "outputs": [
    {
     "name": "stdout",
     "output_type": "stream",
     "text": [
      "[3]\n",
      "[9, 20]\n",
      "[1014, 15, 7]\n"
     ]
    },
    {
     "data": {
      "text/plain": [
       "2"
      ]
     },
     "execution_count": 28,
     "metadata": {},
     "output_type": "execute_result"
    }
   ],
   "source": [
    "# 非递归实现\n",
    "import tree as Tree\n",
    "tree = Tree.tree\n",
    "class Solution:\n",
    "    def averageOfLevels(self, root, number) :\n",
    "        queue = [root]\n",
    "        count = 1\n",
    "        while len(queue) > 0:\n",
    "            length = len(queue)\n",
    "            if count == number:\n",
    "                return length\n",
    "            for i in range(length):\n",
    "                tmp_root = queue.pop(0)\n",
    "                if tmp_root.left:\n",
    "                    queue.append(tmp_root.left)\n",
    "                if tmp_root.right:\n",
    "                    queue.append(tmp_root.right)\n",
    "            count += 1\n",
    "        return -1\n",
    "\n",
    "inorder = [3,9,20,1014,-1014,15,7]\n",
    "root = tree.build_tree(inorder,0)\n",
    "tree.bfs(root)\n",
    "# --------------------\n",
    "cls = Solution()\n",
    "k = 2\n",
    "cls.averageOfLevels(root, k)"
   ]
  },
  {
   "cell_type": "code",
   "execution_count": 29,
   "metadata": {},
   "outputs": [
    {
     "name": "stdout",
     "output_type": "stream",
     "text": [
      "[3]\n",
      "[9, 20]\n",
      "[1014, 14, 15, 7]\n"
     ]
    },
    {
     "data": {
      "text/plain": [
       "[1, 2, 4]"
      ]
     },
     "execution_count": 29,
     "metadata": {},
     "output_type": "execute_result"
    }
   ],
   "source": [
    "# 递归实现\n",
    "import tree as Tree\n",
    "tree = Tree.tree\n",
    "class Solution:\n",
    "    \n",
    "    def dfs(self, root, number):\n",
    "        if not root:\n",
    "            return \n",
    "        if number < len(self.count):\n",
    "            self.count[number] += 1\n",
    "        else:\n",
    "            self.count.append(1)\n",
    "        self.dfs(root.left, number+1)\n",
    "        self.dfs(root.right, number+1)\n",
    "        \n",
    "    \n",
    "    \n",
    "    def averageOfLevels(self, root, number) :\n",
    "        self.count = []\n",
    "        self.dfs(root, 0)\n",
    "        \n",
    "        return self.count\n",
    "\n",
    "inorder = [3,9,20,1014,14,15,7]\n",
    "root = tree.build_tree(inorder,0)\n",
    "tree.bfs(root)\n",
    "# --------------------\n",
    "cls = Solution()\n",
    "k = 2\n",
    "cls.averageOfLevels(root, k)"
   ]
  },
  {
   "cell_type": "code",
   "execution_count": 30,
   "metadata": {},
   "outputs": [
    {
     "name": "stdout",
     "output_type": "stream",
     "text": [
      "[3]\n",
      "[9, 20]\n",
      "[1014, 14, 15, 7]\n"
     ]
    },
    {
     "data": {
      "text/plain": [
       "[3.0, 14.5, 262.5]"
      ]
     },
     "execution_count": 30,
     "metadata": {},
     "output_type": "execute_result"
    }
   ],
   "source": [
    "# 递归实现\n",
    "import tree as Tree\n",
    "tree = Tree.tree\n",
    "class Solution:\n",
    "    def averageOfLevels(self, root, number) :\n",
    "        count, res = [], []\n",
    "        ee = 10\n",
    "        def dfs(root, number):\n",
    "            # t: root, i :number sum: res\n",
    "\n",
    "            if not root:\n",
    "                return \n",
    "            if number < len(res):\n",
    "                res[number] = res[number] + root.val\n",
    "                count[number] = count[number] + 1\n",
    "            else:\n",
    "                res.append(root.val)\n",
    "                count.append(1)\n",
    "            # 前序遍历\n",
    "            dfs(root.left, number+1)\n",
    "            dfs(root.right, number+1)\n",
    "            \n",
    "        dfs(root, 0)\n",
    "        for i in range(len(count)):\n",
    "            res[i] = res[i]/count[i]\n",
    "        return res\n",
    "\n",
    "inorder = [3,9,20,1014,14,15,7]\n",
    "root = tree.build_tree(inorder,0)\n",
    "tree.bfs(root)\n",
    "# --------------------\n",
    "cls = Solution()\n",
    "k = 2\n",
    "cls.averageOfLevels(root, k)"
   ]
  },
  {
   "cell_type": "markdown",
   "metadata": {},
   "source": [
    "# 2 面试题44. 数字序列中某一位的数字\n",
    "![title](../img/a98.png)"
   ]
  },
  {
   "cell_type": "code",
   "execution_count": 31,
   "metadata": {},
   "outputs": [
    {
     "name": "stdout",
     "output_type": "stream",
     "text": [
      "pos:  2\n"
     ]
    },
    {
     "data": {
      "text/plain": [
       "7"
      ]
     },
     "execution_count": 31,
     "metadata": {},
     "output_type": "execute_result"
    }
   ],
   "source": [
    "\n",
    "# 规律：\n",
    "# 1-9有9个数，\n",
    "# 10-99有2 * 10*9个数字，\n",
    "# 100-999有3 * 100*9个数字，\n",
    "# 1000-9999有4 * 1000*9个数字\n",
    "class Solution(object):\n",
    "\n",
    "    def findNthDigit(self, nth: int) -> int:\n",
    "        # 所在位数规律：9 * pow(10, i - 1) * i\n",
    "        i, end_number = 0, 0\n",
    "        # 计算 nth 在哪个区间\n",
    "        while end_number < nth:\n",
    "            i += 1\n",
    "            end_number += i * (9 * 10 ** (i - 1))\n",
    "\n",
    "        # 得到该区间的起始值，起始值对应的次数(nth)\n",
    "        start_count = end_number - i * (9 * 10 ** (i - 1))\n",
    "#---------------------------------------------------------------------------------\n",
    "        # 确定第几个number\n",
    "        step = nth - start_count - 1  \n",
    "        step_length = i  # 每增一需要的步长, 两位数 需要 step = 2, 三位数 step = 3\n",
    "        offset, pos = step // step_length, step % step_length  # offset - 偏移值（从起始值开始）\n",
    "                                                            # pos - 结果值指向的位数 - 从最高位开始偏移\n",
    "\n",
    "            \n",
    "        print(\"pos: \", pos)\n",
    "        power = i - 1  # 幂（用于求所在位数）\n",
    "        start_val = 10 ** power  # 起始值\n",
    "\n",
    "        curr_val = start_val + offset  # 当前数值 - 起始值 + 偏移值\n",
    "        result = curr_val // (10 ** (power - pos)) \n",
    "        return result % 10\n",
    "cls = Solution()\n",
    "cls.findNthDigit(243)"
   ]
  },
  {
   "cell_type": "markdown",
   "metadata": {},
   "source": [
    "# 局部翻转链表\n",
    "![title](../img/a99.png)"
   ]
  },
  {
   "cell_type": "code",
   "execution_count": 4,
   "metadata": {},
   "outputs": [
    {
     "name": "stdout",
     "output_type": "stream",
     "text": [
      "1  2  3  4  5  \n",
      "5\n",
      "1  4  3  2  5  \n"
     ]
    }
   ],
   "source": [
    "# Definition for singly-linked list.\n",
    "# class ListNode:\n",
    "#     def __init__(self, x):\n",
    "#         self.val = x\n",
    "#         self.next = None\n",
    "import node\n",
    "listNode = node.listNode\n",
    "root1 = listNode.build_listNode([1,2,3,4,5])\n",
    "listNode.show(root1)\n",
    "\n",
    "\n",
    "class Solution:\n",
    "    def reverseBetween(self, head, m, n):\n",
    "        \"\"\"\n",
    "        :type head: ListNode\n",
    "        :type m: int\n",
    "        :type n: int\n",
    "        :rtype: ListNode\n",
    "        \"\"\"\n",
    "\n",
    "        # Empty list\n",
    "        if not head:\n",
    "            return None\n",
    "\n",
    "        # Move the two pointers until they reach the proper starting point\n",
    "        # in the list.\n",
    "        cur, prev = head, None\n",
    "        while m > 1:\n",
    "            prev = cur\n",
    "            cur = cur.next\n",
    "            m, n = m - 1, n - 1\n",
    "\n",
    "        tail, con = cur, prev # 需要用 tail 来记录翻转的尾部的连接点\n",
    "\n",
    "        # Iteratively reverse the nodes until n becomes 0.\n",
    "        while n:\n",
    "            third = cur.next\n",
    "            cur.next = prev\n",
    "            prev = cur\n",
    "            cur = third\n",
    "            n -= 1\n",
    "\n",
    "        # Adjust the final connections as explained in the algorithm\n",
    "        if con:\n",
    "            con.next = prev\n",
    "        else:\n",
    "            head = prev\n",
    "        print(cur.val)\n",
    "        tail.next = cur\n",
    "        return head\n",
    "\n",
    "            \n",
    "          \n",
    "\n",
    "cls = Solution()\n",
    "r = cls.reverseBetween(root1, 2, 4)\n",
    "listNode.show(r)"
   ]
  },
  {
   "cell_type": "markdown",
   "metadata": {},
   "source": [
    "# 双向链表的反转\n",
    " 1 <-> 2 <-> 3 <-> 4"
   ]
  },
  {
   "cell_type": "code",
   "execution_count": 57,
   "metadata": {},
   "outputs": [
    {
     "name": "stdout",
     "output_type": "stream",
     "text": [
      "1\n",
      "2\n",
      "3\n",
      "4\n",
      "1\n"
     ]
    }
   ],
   "source": [
    "class Node:\n",
    "    def __init__(self, val, pre=None, _next=None):\n",
    "        self.val = val\n",
    "        self.pre = pre\n",
    "        self.next = _next\n",
    "n1 = Node(1)\n",
    "n2 = Node(2)\n",
    "n3 = Node(3)\n",
    "n4 = Node(4)\n",
    "\n",
    "n1.pre = None\n",
    "n1.next = n2\n",
    "\n",
    "n2.pre = n1\n",
    "n2.next = n3\n",
    "\n",
    "n3.pre = n2\n",
    "n3.next = n4\n",
    "\n",
    "n4.pre = n3\n",
    "n4.next = None\n",
    "tmp = n1\n",
    "for i in range(4):\n",
    "    print(tmp.val)\n",
    "    tmp = tmp.next\n"
   ]
  },
  {
   "cell_type": "code",
   "execution_count": 76,
   "metadata": {},
   "outputs": [
    {
     "ename": "KeyboardInterrupt",
     "evalue": "",
     "output_type": "error",
     "traceback": [
      "\u001b[0;31m---------------------------------------------------------------------------\u001b[0m",
      "\u001b[0;31mKeyboardInterrupt\u001b[0m                         Traceback (most recent call last)",
      "\u001b[0;32m<ipython-input-76-144d7776cc32>\u001b[0m in \u001b[0;36m<module>\u001b[0;34m\u001b[0m\n\u001b[1;32m     17\u001b[0m     \u001b[0mprint\u001b[0m\u001b[0;34m(\u001b[0m\u001b[0mfirst\u001b[0m\u001b[0;34m.\u001b[0m\u001b[0mval\u001b[0m\u001b[0;34m)\u001b[0m\u001b[0;34m\u001b[0m\u001b[0;34m\u001b[0m\u001b[0m\n\u001b[1;32m     18\u001b[0m     \u001b[0;32mreturn\u001b[0m \u001b[0mfirst\u001b[0m\u001b[0;34m\u001b[0m\u001b[0;34m\u001b[0m\u001b[0m\n\u001b[0;32m---> 19\u001b[0;31m \u001b[0mr\u001b[0m \u001b[0;34m=\u001b[0m \u001b[0mreverse\u001b[0m\u001b[0;34m(\u001b[0m\u001b[0mn1\u001b[0m\u001b[0;34m)\u001b[0m\u001b[0;34m\u001b[0m\u001b[0;34m\u001b[0m\u001b[0m\n\u001b[0m",
      "\u001b[0;32m<ipython-input-76-144d7776cc32>\u001b[0m in \u001b[0;36mreverse\u001b[0;34m(root)\u001b[0m\n\u001b[1;32m      5\u001b[0m     \u001b[0mp\u001b[0m \u001b[0;34m=\u001b[0m \u001b[0mroot\u001b[0m\u001b[0;34m.\u001b[0m\u001b[0mnext\u001b[0m\u001b[0;34m\u001b[0m\u001b[0;34m\u001b[0m\u001b[0m\n\u001b[1;32m      6\u001b[0m     \u001b[0;32mwhile\u001b[0m \u001b[0mp\u001b[0m\u001b[0;34m.\u001b[0m\u001b[0mnext\u001b[0m\u001b[0;34m:\u001b[0m\u001b[0;34m\u001b[0m\u001b[0;34m\u001b[0m\u001b[0m\n\u001b[0;32m----> 7\u001b[0;31m         \u001b[0mp\u001b[0m \u001b[0;34m=\u001b[0m \u001b[0mp\u001b[0m\u001b[0;34m.\u001b[0m\u001b[0mnext\u001b[0m\u001b[0;34m\u001b[0m\u001b[0;34m\u001b[0m\u001b[0m\n\u001b[0m\u001b[1;32m      8\u001b[0m     \u001b[0;32melse\u001b[0m\u001b[0;34m:\u001b[0m\u001b[0;34m\u001b[0m\u001b[0;34m\u001b[0m\u001b[0m\n\u001b[1;32m      9\u001b[0m         \u001b[0mlast\u001b[0m \u001b[0;34m=\u001b[0m \u001b[0mp\u001b[0m\u001b[0;34m\u001b[0m\u001b[0;34m\u001b[0m\u001b[0m\n",
      "\u001b[0;31mKeyboardInterrupt\u001b[0m: "
     ]
    }
   ],
   "source": [
    "def reverse(root):\n",
    "    # 1 2 3 4\n",
    "    length = 4\n",
    "    index = 0\n",
    "    p = root.next\n",
    "    while p.next:\n",
    "        p = p.next\n",
    "    else:\n",
    "        last = p\n",
    "    first = root.next\n",
    "    while index < length:\n",
    "        first.val, last.val = last.val, first.val\n",
    "        print(first.val, \"------->\", last.val)\n",
    "        first = first.next\n",
    "        last = last.pre\n",
    "        index, length = index+1, length-1\n",
    "    return first\n",
    "r = reverse(n1)\n",
    "for i in range(3):\n",
    "    print(r.val)\n",
    "    r = r.next"
   ]
  },
  {
   "cell_type": "markdown",
   "metadata": {},
   "source": []
  }
 ],
 "metadata": {
  "kernelspec": {
   "display_name": "Python 3",
   "language": "python",
   "name": "python3"
  },
  "language_info": {
   "codemirror_mode": {
    "name": "ipython",
    "version": 3
   },
   "file_extension": ".py",
   "mimetype": "text/x-python",
   "name": "python",
   "nbconvert_exporter": "python",
   "pygments_lexer": "ipython3",
   "version": "3.7.6"
  }
 },
 "nbformat": 4,
 "nbformat_minor": 4
}
