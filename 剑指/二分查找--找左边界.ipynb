{
 "cells": [
  {
   "cell_type": "markdown",
   "metadata": {},
   "source": [
    "# example\n",
    "\n",
    "输入[5,7,7,8,8,10], target = 7\n",
    "返回1"
   ]
  },
  {
   "cell_type": "code",
   "execution_count": 10,
   "metadata": {},
   "outputs": [
    {
     "data": {
      "text/plain": [
       "5"
      ]
     },
     "execution_count": 10,
     "metadata": {},
     "output_type": "execute_result"
    }
   ],
   "source": [
    "class Solution:\n",
    "    def find_bound(self, nums, target, if_find_left):\n",
    "        # 根据 flag 找左边 和 右边边界 \n",
    "        left, right = 0, len(nums) # 左闭右开\n",
    "        while left < right:\n",
    "            mid = (right+left)>>1\n",
    "            if nums[mid] >= target:\n",
    "                right = mid\n",
    "            else:\n",
    "                left = mid + 1\n",
    "        return left\n",
    "\n",
    "        \n",
    "    \n",
    "    def searchRange(self, nums, target: int):\n",
    "        left_index = self.find_bound(nums, target, True)\n",
    "        if left_index >= len(nums) or nums[left_index] != target:\n",
    "            return -1\n",
    "        else:\n",
    "            return left_index\n",
    "            \n",
    "cls = Solution()\n",
    "cls.searchRange([5,7,7,8,8,10], 10)"
   ]
  },
  {
   "cell_type": "markdown",
   "metadata": {},
   "source": [
    "# 普通二分查找"
   ]
  },
  {
   "cell_type": "code",
   "execution_count": 6,
   "metadata": {},
   "outputs": [
    {
     "data": {
      "text/plain": [
       "7"
      ]
     },
     "execution_count": 6,
     "metadata": {},
     "output_type": "execute_result"
    }
   ],
   "source": [
    "arr = [1,2,3,4,5,6,7,8]\n",
    "def find(arr, target):\n",
    "    left, right = 0, len(arr)\n",
    "    while left < right:\n",
    "        mid = (right+left)>>1\n",
    "        if arr[mid] > target:\n",
    "            right = mid # 左闭右开区间， 对right的操作直接赋值\n",
    "        elif arr[mid] < target:\n",
    "            left = mid+1\n",
    "        else:\n",
    "            return mid\n",
    "    return -1\n",
    "find(arr, 8)"
   ]
  },
  {
   "cell_type": "markdown",
   "metadata": {},
   "source": [
    "# 第二道\n",
    "上面那道题的变种\n",
    "s在中找到相对有序的子数组匹配t即可，不一定要连续，如\n",
    "s=[1, 3, 4, 2, 5, 6]\n",
    "t=[1, 3, 2, 5]\n",
    "这样也算是匹配"
   ]
  },
  {
   "cell_type": "code",
   "execution_count": null,
   "metadata": {},
   "outputs": [],
   "source": []
  },
  {
   "cell_type": "code",
   "execution_count": null,
   "metadata": {},
   "outputs": [],
   "source": []
  }
 ],
 "metadata": {
  "kernelspec": {
   "display_name": "Python 3",
   "language": "python",
   "name": "python3"
  },
  "language_info": {
   "codemirror_mode": {
    "name": "ipython",
    "version": 3
   },
   "file_extension": ".py",
   "mimetype": "text/x-python",
   "name": "python",
   "nbconvert_exporter": "python",
   "pygments_lexer": "ipython3",
   "version": "3.7.3"
  }
 },
 "nbformat": 4,
 "nbformat_minor": 4
}
