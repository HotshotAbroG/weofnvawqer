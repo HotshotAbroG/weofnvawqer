{
 "cells": [
  {
   "cell_type": "markdown",
   "metadata": {},
   "source": [
    "# 面试题63. 股票的最大利润1\n",
    "![title](../img/a41.png)"
   ]
  },
  {
   "cell_type": "code",
   "execution_count": 2,
   "metadata": {},
   "outputs": [
    {
     "data": {
      "text/plain": [
       "40"
      ]
     },
     "execution_count": 2,
     "metadata": {},
     "output_type": "execute_result"
    }
   ],
   "source": [
    "class Solution:\n",
    "    def maxProfit(self, prices):\n",
    "        length = len(prices)\n",
    "        if length < 2:\n",
    "            return 0 \n",
    "        dp = [[0]*2 for i in range(length)]\n",
    "        dp[0][1] = -prices[0]\n",
    "        for  i in range(1, length):\n",
    "            dp[i][0] = max(dp[i-1][0], dp[i-1][1] + prices[i])\n",
    "            dp[i][1] = max(dp[i-1][1], -prices[i])\n",
    "        return dp[-1][0]\n",
    "        \n",
    "cls = Solution()\n",
    "cls.maxProfit([7, 1, 5,3,6,41])   "
   ]
  },
  {
   "cell_type": "code",
   "execution_count": 3,
   "metadata": {},
   "outputs": [
    {
     "data": {
      "text/plain": [
       "40"
      ]
     },
     "execution_count": 3,
     "metadata": {},
     "output_type": "execute_result"
    }
   ],
   "source": [
    "# 优化版本\n",
    "class Solution:\n",
    "    def maxProfit(self, prices):\n",
    "        dpi0, dpi1 = 0, -prices[0]\n",
    "        for value in prices[1:]:\n",
    "            dpi0 = max(dpi0, dpi1+value)\n",
    "            dpi1 = max(dpi1, 0 - value)\n",
    "        return dpi0\n",
    "cls = Solution()\n",
    "cls.maxProfit([7, 1, 5,3,6,41])"
   ]
  },
  {
   "cell_type": "markdown",
   "metadata": {},
   "source": [
    "# 股票买卖2\n",
    "![title](../img/a64.png)"
   ]
  },
  {
   "cell_type": "code",
   "execution_count": 6,
   "metadata": {},
   "outputs": [
    {
     "data": {
      "text/plain": [
       "4"
      ]
     },
     "execution_count": 6,
     "metadata": {},
     "output_type": "execute_result"
    }
   ],
   "source": [
    "# 买卖多次\n",
    "class Solution:\n",
    "    def maxProfit(self, prices) -> int:\n",
    "        dpi0, dpi1 = 0, -prices[0]\n",
    "        for i in range(1, len(prices)):\n",
    "            tmp = dpi0 # 昨天不持有股票的收益\n",
    "            print(dpi0,\"------->\", dpi)\n",
    "            dpi0 = max(dpi0, dpi1 + prices[i])\n",
    "            dpi1 = max(dpi1, tmp - prices[i])\n",
    "        return dpi0\n",
    "        \n",
    "cls = Solution()\n",
    "cls.maxProfit([1,2,3,4,5])"
   ]
  },
  {
   "cell_type": "code",
   "execution_count": null,
   "metadata": {},
   "outputs": [],
   "source": []
  },
  {
   "cell_type": "markdown",
   "metadata": {},
   "source": [
    "# 股票买卖3\n",
    "![title](../img/a68.png)"
   ]
  },
  {
   "cell_type": "code",
   "execution_count": 1,
   "metadata": {},
   "outputs": [
    {
     "data": {
      "text/plain": [
       "3"
      ]
     },
     "execution_count": 1,
     "metadata": {},
     "output_type": "execute_result"
    }
   ],
   "source": [
    "class Solution:\n",
    "    def maxProfit(self, prices) -> int:\n",
    "        if len(prices) == 0:\n",
    "            return 0\n",
    "        dp_i_0, dp_i_1 = 0, -prices[0]\n",
    "        pre_buy = 0\n",
    "        for i in range(1,len(prices)):\n",
    "            tmp = dp_i_0\n",
    "            dp_i_0 = max(dp_i_0, dp_i_1 + prices[i])\n",
    "            dp_i_1 = max(dp_i_1, pre_buy - prices[i])\n",
    "            pre_buy = tmp\n",
    "        return dp_i_0\n",
    "cls = Solution()\n",
    "\n",
    "cls.maxProfit([1,2,3,0,2])"
   ]
  },
  {
   "cell_type": "markdown",
   "metadata": {},
   "source": [
    "# 股票买卖4\n",
    "![title](../img/a65.png)"
   ]
  },
  {
   "cell_type": "code",
   "execution_count": 10,
   "metadata": {},
   "outputs": [
    {
     "data": {
      "text/plain": [
       "6"
      ]
     },
     "execution_count": 10,
     "metadata": {},
     "output_type": "execute_result"
    }
   ],
   "source": [
    "# 买卖多次\n",
    "class Solution:\n",
    "    def maxProfit(self, prices) -> int:\n",
    "        max_sell_time = 2\n",
    "        length = len(prices)\n",
    "        if length < 2:\n",
    "            return 0\n",
    "        dp = [[[0]*2 for i in range(max_sell_time)] for j in range(length)]\n",
    "        for i in range(max_sell_time):\n",
    "            dp[0][i][1] = -prices[0]\n",
    "        for i in range(1, length):\n",
    "            for j in range(max_sell_time):\n",
    "                if j == 0:\n",
    "                    dp[i][j][1] = max(dp[i-1][j][1], 0-prices[0])\n",
    "                else:\n",
    "                    dp[i][j][1] = max(dp[i-1][j][1], dp[i-1][j-1][0] - prices[0])\n",
    "                \n",
    "                dp[i][j][0] = max(dp[i][j][0], dp[i-1][j][1]+prices[i])\n",
    "        \n",
    "        return dp[-1][-1][0]\n",
    "cls = Solution()\n",
    "cls.maxProfit([1,2,3,4,5])"
   ]
  },
  {
   "cell_type": "code",
   "execution_count": null,
   "metadata": {},
   "outputs": [],
   "source": []
  },
  {
   "cell_type": "code",
   "execution_count": null,
   "metadata": {},
   "outputs": [],
   "source": []
  },
  {
   "cell_type": "code",
   "execution_count": null,
   "metadata": {},
   "outputs": [],
   "source": []
  },
  {
   "cell_type": "code",
   "execution_count": null,
   "metadata": {},
   "outputs": [],
   "source": []
  },
  {
   "cell_type": "code",
   "execution_count": null,
   "metadata": {},
   "outputs": [],
   "source": []
  },
  {
   "cell_type": "code",
   "execution_count": null,
   "metadata": {},
   "outputs": [],
   "source": []
  },
  {
   "cell_type": "code",
   "execution_count": null,
   "metadata": {},
   "outputs": [],
   "source": []
  },
  {
   "cell_type": "code",
   "execution_count": null,
   "metadata": {},
   "outputs": [],
   "source": []
  },
  {
   "cell_type": "code",
   "execution_count": null,
   "metadata": {},
   "outputs": [],
   "source": []
  },
  {
   "cell_type": "code",
   "execution_count": null,
   "metadata": {},
   "outputs": [],
   "source": []
  },
  {
   "cell_type": "code",
   "execution_count": null,
   "metadata": {},
   "outputs": [],
   "source": []
  },
  {
   "cell_type": "code",
   "execution_count": null,
   "metadata": {},
   "outputs": [],
   "source": []
  },
  {
   "cell_type": "code",
   "execution_count": null,
   "metadata": {},
   "outputs": [],
   "source": []
  }
 ],
 "metadata": {
  "kernelspec": {
   "display_name": "Python 3",
   "language": "python",
   "name": "python3"
  },
  "language_info": {
   "codemirror_mode": {
    "name": "ipython",
    "version": 3
   },
   "file_extension": ".py",
   "mimetype": "text/x-python",
   "name": "python",
   "nbconvert_exporter": "python",
   "pygments_lexer": "ipython3",
   "version": "3.7.6"
  }
 },
 "nbformat": 4,
 "nbformat_minor": 4
}
