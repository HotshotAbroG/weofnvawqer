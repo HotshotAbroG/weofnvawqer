{
 "cells": [
  {
   "cell_type": "markdown",
   "metadata": {},
   "source": [
    "# ![title](../img/a73.png)"
   ]
  },
  {
   "cell_type": "code",
   "execution_count": 1,
   "metadata": {},
   "outputs": [
    {
     "name": "stdout",
     "output_type": "stream",
     "text": [
      "5  0  1  8  4  5  \n"
     ]
    }
   ],
   "source": [
    "import node\n",
    "listNode = node.listNode\n",
    "root1 = listNode.build_listNode([5, 0, 1, 8, 4, 5])\n",
    "listNode.show(root1)"
   ]
  },
  {
   "cell_type": "code",
   "execution_count": 2,
   "metadata": {},
   "outputs": [
    {
     "name": "stdout",
     "output_type": "stream",
     "text": [
      "5  0  1  8  4  5  \n",
      "0  1  4  5  5  8  \n"
     ]
    }
   ],
   "source": [
    "# Definition for singly-linked list.\n",
    "# class ListNode:\n",
    "#     def __init__(self, x):\n",
    "#         self.val = x\n",
    "#         self.next = None\n",
    "\n",
    "class Solution:\n",
    "    def sortList(self, head):\n",
    "        if not head or not head.next:\n",
    "            return head\n",
    "        # 找中点\n",
    "        slow, fast = head, head.next\n",
    "        while fast and fast.next:\n",
    "            fast, slow = fast.next.next, slow.next\n",
    "        # 找到中点，并断开链表\n",
    "        mid, slow.next = slow.next, None \n",
    "        left = self.sortList(head)\n",
    "        right = self.sortList(mid)\n",
    "        \n",
    "        tmp_head = res = node.listNode(0)\n",
    "        # 合并过程\n",
    "        while left and right:\n",
    "            if left.val < right.val:\n",
    "                tmp_head.next = left\n",
    "                left = left.next\n",
    "            else:\n",
    "                tmp_head.next = right\n",
    "                right = right.next\n",
    "            tmp_head = tmp_head.next\n",
    "        tmp_head.next = left if left else right\n",
    "        return res.next\n",
    "    \n",
    "import node\n",
    "listNode = node.listNode\n",
    "root1 = listNode.build_listNode([5, 0, 1, 8, 4, 5])\n",
    "listNode.show(root1)\n",
    "cls =Solution()\n",
    "r = cls.sortList(root1)\n",
    "listNode.show(r)"
   ]
  },
  {
   "cell_type": "code",
   "execution_count": 4,
   "metadata": {},
   "outputs": [
    {
     "name": "stdout",
     "output_type": "stream",
     "text": [
      "5  0  1  8  4  5  \n",
      "8  5  5  4  1  0  \n"
     ]
    }
   ],
   "source": [
    "# Definition for singly-linked list.\n",
    "# class ListNode:\n",
    "#     def __init__(self, x):\n",
    "#         self.val = x\n",
    "#         self.next = None\n",
    "\n",
    "class Solution:\n",
    "    def sortList(self, head):\n",
    "        if head == None or head.next == None:\n",
    "            return head\n",
    "        \n",
    "        slow, fast = head, head.next\n",
    "        while fast != None and fast.next != None:\n",
    "            slow = slow.next\n",
    "            fast = fast.next.next\n",
    "        mid = slow.next\n",
    "        slow.next = None\n",
    "        left = self.sortList(head)\n",
    "        right = self.sortList(mid)\n",
    "        \n",
    "        tmp_head = res = node.listNode(0)\n",
    "        while left and right:\n",
    "            if left.val < right.val:\n",
    "                tmp_head.next = right\n",
    "                right = right.next\n",
    "            else:\n",
    "                tmp_head.next = left\n",
    "                left = left.next\n",
    "            tmp_head = tmp_head.next\n",
    "            \n",
    "        if left:\n",
    "            tmp_head.next = left\n",
    "        else:\n",
    "            tmp_head.next = right\n",
    "            \n",
    "        return res.next\n",
    "        \n",
    "        \n",
    "        \n",
    "        \n",
    "    \n",
    "import node\n",
    "listNode = node.listNode\n",
    "root1 = listNode.build_listNode([5, 0, 1, 8, 4, 5])\n",
    "listNode.show(root1)\n",
    "cls =Solution()\n",
    "r = cls.sortList(root1)\n",
    "listNode.show(r)"
   ]
  },
  {
   "cell_type": "code",
   "execution_count": null,
   "metadata": {},
   "outputs": [],
   "source": []
  },
  {
   "cell_type": "code",
   "execution_count": null,
   "metadata": {},
   "outputs": [],
   "source": []
  },
  {
   "cell_type": "code",
   "execution_count": null,
   "metadata": {},
   "outputs": [],
   "source": []
  },
  {
   "cell_type": "code",
   "execution_count": null,
   "metadata": {},
   "outputs": [],
   "source": []
  },
  {
   "cell_type": "code",
   "execution_count": null,
   "metadata": {},
   "outputs": [],
   "source": []
  },
  {
   "cell_type": "code",
   "execution_count": null,
   "metadata": {},
   "outputs": [],
   "source": []
  },
  {
   "cell_type": "code",
   "execution_count": null,
   "metadata": {},
   "outputs": [],
   "source": []
  }
 ],
 "metadata": {
  "kernelspec": {
   "display_name": "Python 3",
   "language": "python",
   "name": "python3"
  },
  "language_info": {
   "codemirror_mode": {
    "name": "ipython",
    "version": 3
   },
   "file_extension": ".py",
   "mimetype": "text/x-python",
   "name": "python",
   "nbconvert_exporter": "python",
   "pygments_lexer": "ipython3",
   "version": "3.7.6"
  }
 },
 "nbformat": 4,
 "nbformat_minor": 4
}
