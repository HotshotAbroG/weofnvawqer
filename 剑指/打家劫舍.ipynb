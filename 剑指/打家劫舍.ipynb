{
 "cells": [
  {
   "cell_type": "markdown",
   "metadata": {},
   "source": [
    "# 打家劫舍\n",
    "![title](../img/a58.png)"
   ]
  },
  {
   "cell_type": "code",
   "execution_count": 1,
   "metadata": {},
   "outputs": [
    {
     "data": {
      "text/plain": [
       "12"
      ]
     },
     "execution_count": 1,
     "metadata": {},
     "output_type": "execute_result"
    }
   ],
   "source": [
    "class Solution:\n",
    "    def rob(self, nums) -> int:\n",
    "        max_value, length = 0, len(nums)\n",
    "        dp = [0] * (length+1)\n",
    "        if length == 0:\n",
    "            return 0\n",
    "        dp[1] = nums[0]\n",
    "        if length == 1:\n",
    "            return dp[1]\n",
    "        for i in range(2, length+1):\n",
    "            # 规划方程：  偷第i处 + i-2处的利益 与 0(不偷此处)+i-1处的利益\n",
    "            tmp = max(dp[i-1], (dp[i-2]+nums[i-1]))\n",
    "            dp[i] = tmp\n",
    "        return dp[-1]\n",
    "        \n",
    "nums = [2,7,9,3,1]\n",
    "cls = Solution()\n",
    "cls.rob(nums)"
   ]
  },
  {
   "cell_type": "markdown",
   "metadata": {},
   "source": [
    "# 简化版本"
   ]
  },
  {
   "cell_type": "code",
   "execution_count": 2,
   "metadata": {},
   "outputs": [
    {
     "data": {
      "text/plain": [
       "11"
      ]
     },
     "execution_count": 2,
     "metadata": {},
     "output_type": "execute_result"
    }
   ],
   "source": [
    "class Solution:\n",
    "    def rob(self, nums) -> int:\n",
    "        pre_max, cur_max = 0, 0\n",
    "        for value in nums:\n",
    "            # i-2   i-1    i\n",
    "            #  pre  cur    \n",
    "            #        tmp\n",
    "            #------------------->\n",
    "            #   pre   tmp   cur\n",
    "            #          pre  cur\n",
    "            tmp = cur_max\n",
    "            cur_max = max(pre_max + value, cur_max)\n",
    "            pre_max = tmp\n",
    "        return cur_max\n",
    "\n",
    "        \n",
    "nums = [2,7,9,3,1]\n",
    "nums = [5,1,1,1,5]\n",
    "cls = Solution()\n",
    "cls.rob(nums)"
   ]
  },
  {
   "cell_type": "code",
   "execution_count": null,
   "metadata": {},
   "outputs": [],
   "source": []
  },
  {
   "cell_type": "code",
   "execution_count": null,
   "metadata": {},
   "outputs": [],
   "source": []
  },
  {
   "cell_type": "code",
   "execution_count": null,
   "metadata": {},
   "outputs": [],
   "source": []
  },
  {
   "cell_type": "code",
   "execution_count": null,
   "metadata": {},
   "outputs": [],
   "source": []
  },
  {
   "cell_type": "code",
   "execution_count": null,
   "metadata": {},
   "outputs": [],
   "source": []
  },
  {
   "cell_type": "code",
   "execution_count": null,
   "metadata": {},
   "outputs": [],
   "source": []
  },
  {
   "cell_type": "code",
   "execution_count": null,
   "metadata": {},
   "outputs": [],
   "source": []
  }
 ],
 "metadata": {
  "kernelspec": {
   "display_name": "Python 3",
   "language": "python",
   "name": "python3"
  },
  "language_info": {
   "codemirror_mode": {
    "name": "ipython",
    "version": 3
   },
   "file_extension": ".py",
   "mimetype": "text/x-python",
   "name": "python",
   "nbconvert_exporter": "python",
   "pygments_lexer": "ipython3",
   "version": "3.7.3"
  }
 },
 "nbformat": 4,
 "nbformat_minor": 4
}
