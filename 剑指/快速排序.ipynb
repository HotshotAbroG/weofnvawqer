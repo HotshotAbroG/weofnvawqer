{
 "cells": [
  {
   "cell_type": "code",
   "execution_count": 1,
   "metadata": {},
   "outputs": [
    {
     "data": {
      "text/plain": [
       "[3, 2, 5, 0, 7, 4, 1, 9, 6, 8]"
      ]
     },
     "execution_count": 1,
     "metadata": {},
     "output_type": "execute_result"
    }
   ],
   "source": [
    "import random\n",
    "arr = list(range(10))\n",
    "random.shuffle(arr)\n",
    "arr"
   ]
  },
  {
   "cell_type": "markdown",
   "metadata": {},
   "source": [
    "# 快速排序 这种题目就是利用 index 来控制一个数组中的变化"
   ]
  },
  {
   "cell_type": "code",
   "execution_count": 1,
   "metadata": {},
   "outputs": [
    {
     "name": "stdout",
     "output_type": "stream",
     "text": [
      "[4, 8, 5, 3, 7, 2, 9, 0, 1, 6]\n",
      "1 -----> 1\n",
      "2 -----> 2\n",
      "3 -----> 4\n",
      "4 -----> 6\n",
      "5 -----> 9\n",
      "----------------------------------------------------------------------------------------------------------------------------------------------------------------\n",
      "[6, 8, 5, 7, 9, 4, 3, 0, 1, 2]\n",
      "[6, 8, 5, 7, 9, 4, 3, 0, 1, 2]\n",
      "7 -----> 7\n",
      "8 -----> 8\n",
      "9 -----> 9\n",
      "----------------------------------------------------------------------------------------------------------------------------------------------------------------\n",
      "[6, 8, 5, 7, 9, 4, 2, 3, 1, 0]\n",
      "[6, 8, 5, 7, 9, 4, 2, 3, 1, 0]\n",
      "7 -----> 7\n",
      "----------------------------------------------------------------------------------------------------------------------------------------------------------------\n",
      "[6, 8, 5, 7, 9, 4, 3, 2, 1, 0]\n",
      "[6, 8, 5, 7, 9, 4, 3, 2, 1, 0]\n",
      "----------------------------------------------------------------------------------------------------------------------------------------------------------------\n",
      "[6, 8, 5, 7, 9, 4, 3, 2, 1, 0]\n",
      "1\n"
     ]
    },
    {
     "data": {
      "text/plain": [
       "[6, 8, 5, 7, 9, 4, 3, 2, 1, 0]"
      ]
     },
     "execution_count": 1,
     "metadata": {},
     "output_type": "execute_result"
    }
   ],
   "source": [
    "import random\n",
    "class Solution:\n",
    "    def partition(self, nums, l, r):\n",
    "        # k = random.randint(l, r)\n",
    "        k = random.randint(l,r)\n",
    "        pivot = nums[k]\n",
    "        print(nums)\n",
    "        # pivot 放到第一个\n",
    "        nums[l], nums[k] = nums[k], nums[l]\n",
    "        index = l\n",
    "        # 将大于pivot的值都放到左边\n",
    "        for i in range(l + 1, r + 1):\n",
    "            # 保证 [1, n] 中是 n个大于 pivot 的值\n",
    "            if nums[i] > pivot:\n",
    "                index += 1\n",
    "                print(index,\"----->\", i)\n",
    "                nums[i], nums[index] = nums[index], nums[i]\n",
    "        nums[l], nums[index] = nums[index], nums[l]\n",
    "        #  至此，把比pivot基准大的都放在他的左边 已经完成\n",
    "        print(\"--\"*80)\n",
    "        print(nums)\n",
    "        return index\n",
    "\n",
    "    def findKthLargest(self, nums, k):\n",
    "        \"\"\"\n",
    "        :type nums: List[int]\n",
    "        :type k: int\n",
    "        :rtype: int\n",
    "        \"\"\"\n",
    "        l, r, k = 0, len(nums) - 1, k - 1\n",
    "        while 1:\n",
    "            p = self.partition(nums, l, r)\n",
    "            if p == k:\n",
    "                return nums[p]\n",
    "            elif p > k:\n",
    "                # 从大到小排序， pindex > kindex则 大的目标在他左边\n",
    "                r = p - 1\n",
    "            else:\n",
    "                l = p + 1\n",
    "arr = [-4,0,7,4,9,-5,-1,0,-7,-1]\n",
    "import random\n",
    "arr = list(range(10))\n",
    "random.shuffle(arr)\n",
    "cls = Solution()\n",
    "res = cls.findKthLargest(arr, 9)\n",
    "print(res)\n",
    "arr"
   ]
  },
  {
   "cell_type": "code",
   "execution_count": 94,
   "metadata": {},
   "outputs": [
    {
     "data": {
      "text/plain": [
       "1"
      ]
     },
     "execution_count": 94,
     "metadata": {},
     "output_type": "execute_result"
    }
   ],
   "source": [
    "random.randint(1,2)"
   ]
  },
  {
   "cell_type": "code",
   "execution_count": null,
   "metadata": {},
   "outputs": [],
   "source": []
  },
  {
   "cell_type": "code",
   "execution_count": null,
   "metadata": {},
   "outputs": [],
   "source": []
  },
  {
   "cell_type": "code",
   "execution_count": null,
   "metadata": {},
   "outputs": [],
   "source": []
  },
  {
   "cell_type": "code",
   "execution_count": null,
   "metadata": {},
   "outputs": [],
   "source": []
  },
  {
   "cell_type": "code",
   "execution_count": null,
   "metadata": {},
   "outputs": [],
   "source": []
  },
  {
   "cell_type": "code",
   "execution_count": null,
   "metadata": {},
   "outputs": [],
   "source": []
  },
  {
   "cell_type": "code",
   "execution_count": 12,
   "metadata": {},
   "outputs": [
    {
     "data": {
      "text/plain": [
       "[-7, -5, -4, -1, -1, 0, 0, 4, 7, 9]"
      ]
     },
     "execution_count": 12,
     "metadata": {},
     "output_type": "execute_result"
    }
   ],
   "source": [
    "arr = [-4,0,7,4,9,-5,-1,0,-7,-1]\n",
    "def quick_sort(arr, start, end):\n",
    "    left, right = start, end\n",
    "    if left > right:\n",
    "        return \n",
    "    pivot_index = left \n",
    "    while left < right:\n",
    "        while left < right and arr[right] >= arr[pivot_index]:\n",
    "            right -= 1\n",
    "        while left < right and arr[left] < arr[pivot_index]:\n",
    "            left += 1\n",
    "        \n",
    "        if left < right:\n",
    "            arr[left], arr[right] = arr[right], arr[left]\n",
    "    arr[left], arr[pivot_index] = arr[pivot_index], arr[left]\n",
    "    quick_sort(arr, start, left-1)\n",
    "    quick_sort(arr, right+1, end)\n",
    "\n",
    "quick_sort(arr, 0, len(arr)-1)   \n",
    "arr"
   ]
  },
  {
   "cell_type": "code",
   "execution_count": null,
   "metadata": {},
   "outputs": [],
   "source": []
  },
  {
   "cell_type": "code",
   "execution_count": null,
   "metadata": {},
   "outputs": [],
   "source": []
  }
 ],
 "metadata": {
  "kernelspec": {
   "display_name": "Python 3",
   "language": "python",
   "name": "python3"
  },
  "language_info": {
   "codemirror_mode": {
    "name": "ipython",
    "version": 3
   },
   "file_extension": ".py",
   "mimetype": "text/x-python",
   "name": "python",
   "nbconvert_exporter": "python",
   "pygments_lexer": "ipython3",
   "version": "3.7.6"
  }
 },
 "nbformat": 4,
 "nbformat_minor": 4
}
