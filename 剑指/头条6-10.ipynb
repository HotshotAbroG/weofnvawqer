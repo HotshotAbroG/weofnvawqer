{
 "cells": [
  {
   "cell_type": "markdown",
   "metadata": {},
   "source": [
    "## 5 顶端迭代器\n",
    "![title](../img/a92.png)"
   ]
  },
  {
   "cell_type": "code",
   "execution_count": 1,
   "metadata": {},
   "outputs": [],
   "source": [
    "class Node:\n",
    "    def __init__(self, val, left=None, right=None):\n",
    "        self.val = val\n",
    "        self.left = left\n",
    "        self.right = right"
   ]
  },
  {
   "cell_type": "code",
   "execution_count": 2,
   "metadata": {},
   "outputs": [],
   "source": [
    "class Solution:\n",
    "    def treeToDoublyList(self, root: 'Node') -> 'Node':\n",
    "        if not root:\n",
    "            return None\n",
    "        stack = []\n",
    "        current = root # Node\n",
    "        pre, head, tail = Node(0), Node(0),Node(0)\n",
    "        while len(stack) > 0 or current != None:\n",
    "            # 中序遍历\n",
    "            while current:\n",
    "                stack.append(current)\n",
    "                current = current.left\n",
    "                \n",
    "            current = stakc.pop()\n",
    "            tail = current\n",
    "            if not pre:\n",
    "                head = current\n",
    "            else:\n",
    "                # pre 存在\n",
    "                pre.right = current\n",
    "                current.left = pre\n",
    "            \n",
    "            pre = current\n",
    "            current = current.right\n",
    "            \n",
    "        tail.right = head\n",
    "        head.left = tail\n",
    "        return head\n",
    "        "
   ]
  },
  {
   "cell_type": "markdown",
   "metadata": {},
   "source": [
    "# . 两数之和\n",
    "![title](../img/a93.png)\n",
    "O(n)复杂度\n"
   ]
  },
  {
   "cell_type": "code",
   "execution_count": 10,
   "metadata": {},
   "outputs": [
    {
     "data": {
      "text/plain": [
       "[0, 2]"
      ]
     },
     "execution_count": 10,
     "metadata": {},
     "output_type": "execute_result"
    }
   ],
   "source": [
    "class Solution:\n",
    "    def twoSum(self, nums, target: int) :\n",
    "        record = {}\n",
    "        for index in range(len(nums)):\n",
    "            value = target - nums[index]\n",
    "            if value  in record:\n",
    "                return [record[value], index]\n",
    "            else:\n",
    "                record[nums[index]] = index\n",
    "        return -1\n",
    "nums = [2, 7, 11, 15]\n",
    "cls = Solution()\n",
    "cls.twoSum(nums, 13)"
   ]
  },
  {
   "cell_type": "markdown",
   "metadata": {},
   "source": [
    "# 算法题：打印1-n之间的素数\n"
   ]
  },
  {
   "cell_type": "code",
   "execution_count": 20,
   "metadata": {},
   "outputs": [
    {
     "name": "stdout",
     "output_type": "stream",
     "text": [
      "[False, False, True, True, False, True, False, True, False, False]\n"
     ]
    },
    {
     "data": {
      "text/plain": [
       "4"
      ]
     },
     "execution_count": 20,
     "metadata": {},
     "output_type": "execute_result"
    }
   ],
   "source": [
    "class Solution:\n",
    "    def get_answer(self, number) :\n",
    "        if number < 2:\n",
    "            return 0\n",
    "        record = [True]*number\n",
    "        record[0], record[1] = False, False\n",
    "\n",
    "        for i in range(number):\n",
    "            if record[i]:\n",
    "                for j in range(2*i, number, i):\n",
    "                    record[j] = False\n",
    "        print(record)\n",
    "        return sum(record)\n",
    "            \n",
    "        \n",
    "        \n",
    "cls = Solution()\n",
    "cls.get_answer(10)"
   ]
  },
  {
   "cell_type": "code",
   "execution_count": null,
   "metadata": {},
   "outputs": [],
   "source": [
    "def tmp(number):\n",
    "    return \n",
    "number = [[1,2],[5,3],[4,6],[7,5],[9,0]]"
   ]
  },
  {
   "cell_type": "markdown",
   "metadata": {},
   "source": [
    "# 8 最长不重复字符的字符串\n",
    "![title](../img/a94.png)"
   ]
  },
  {
   "cell_type": "code",
   "execution_count": 17,
   "metadata": {},
   "outputs": [
    {
     "data": {
      "text/plain": [
       "3"
      ]
     },
     "execution_count": 17,
     "metadata": {},
     "output_type": "execute_result"
    }
   ],
   "source": [
    "# 双指针法\n",
    "class Solution:\n",
    "    def lengthOfLongestSubstring(self, s: str) -> int:\n",
    "        left, right = 0, 0\n",
    "        res = 0\n",
    "        record = []\n",
    "        while left < len(s) and right < len(s):\n",
    "            while s[right] in record:\n",
    "                record.pop(0)\n",
    "                left += 1\n",
    "            record.append(s[right])\n",
    "            right += 1\n",
    "            res = max(res, right-left)\n",
    "        return res\n",
    "    \n",
    "        \n",
    "        \n",
    "        \n",
    "cls = Solution()\n",
    "s = \"pwwkew\"\n",
    "cls.lengthOfLongestSubstring(s)"
   ]
  },
  {
   "cell_type": "code",
   "execution_count": 16,
   "metadata": {},
   "outputs": [
    {
     "name": "stdout",
     "output_type": "stream",
     "text": [
      "w =======> {'p': 0, 'w': 1}\n",
      "w =======> {'p': 0, 'w': 2, 'k': 3, 'e': 4}\n"
     ]
    },
    {
     "data": {
      "text/plain": [
       "3"
      ]
     },
     "execution_count": 16,
     "metadata": {},
     "output_type": "execute_result"
    }
   ],
   "source": [
    "class Solution:\n",
    "    def lengthOfLongestSubstring(self, s: str) -> int:\n",
    "        start_index = 0\n",
    "        res = 0\n",
    "        record = {}\n",
    "        for i in range(len(s)):\n",
    "            chart = s[i]\n",
    "            if chart in record and start_index <= record[chart]:\n",
    "                print(chart, \"=======>\", record)\n",
    "                start_index = record[chart] + 1\n",
    "            else:\n",
    "                res = max(i - start_index + 1, res)\n",
    "        \n",
    "            record[chart] = i\n",
    "        return res\n",
    "    \n",
    "        \n",
    "        \n",
    "        \n",
    "cls = Solution()\n",
    "s = \"pwwkew\"\n",
    "cls.lengthOfLongestSubstring(s)"
   ]
  },
  {
   "cell_type": "markdown",
   "metadata": {},
   "source": [
    "# 9 二叉树节点间的最大距离\n",
    "![title](../img/a95.png)"
   ]
  },
  {
   "cell_type": "code",
   "execution_count": null,
   "metadata": {},
   "outputs": [],
   "source": [
    "# Definition for a binary tree node.\n",
    "# class TreeNode:\n",
    "#     def __init__(self, x):\n",
    "#         self.val = x\n",
    "#         self.left = None\n",
    "#         self.right = None\n",
    "\n",
    "class Solution:\n",
    "    def diameterOfBinaryTree(self, root) -> int:\n",
    "        if not root:\n",
    "            return 0\n",
    "        res = 0\n",
    "        def dfs(root):\n",
    "            # 求深度\n",
    "            nonlocal res\n",
    "            if not root:\n",
    "                return 0\n",
    "            left_depth = dfs(root.left)\n",
    "            right_depth = dfs(root.right)\n",
    "            \n",
    "            res = max(res, right_depth+left_depth)\n",
    "            return max(left_depth, right_depth)+1\n",
    "            \n",
    "            \n",
    "        dfs(root)\n",
    "        return res\n",
    "cls = Solution()\n",
    "e = tree(1)\n",
    "import tree as Tree\n",
    "tree = Tree.tree\n",
    "arr = [1,2,3,4,5]\n",
    "root = tree.build_tree(arr, 0)\n",
    "tree.bfs(root)\n",
    "cls.diameterOfBinaryTree(root)"
   ]
  },
  {
   "cell_type": "markdown",
   "metadata": {},
   "source": [
    "# 10 合并有序数组"
   ]
  },
  {
   "cell_type": "code",
   "execution_count": null,
   "metadata": {},
   "outputs": [],
   "source": [
    "class Solution:\n",
    "    def merge(self, nums1, m: int, nums2, n: int) -> None:\n",
    "        \"\"\"\n",
    "        Do not return anything, modify nums1 in-place instead.\n",
    "        \"\"\"\n",
    "        end = m+n-1\n",
    "        m, n = m-1, n-1\n",
    "        while m >=0 and n >=0:\n",
    "            if nums1[m] >= nums2[n]:\n",
    "                nums1[end] = nums1[m]\n",
    "                m -= 1\n",
    "            else:\n",
    "                nums1[end] = nums2[n]\n",
    "                n -= 1\n",
    "            end -= 1\n",
    "        for k in range(n+1):\n",
    "            nums1[k] = nums2[k]\n",
    "        print(nums1)\n",
    "cls = Solution()\n",
    "cls.merge([1,2,3,0,0,0],3,[0,51,6],3)"
   ]
  },
  {
   "cell_type": "code",
   "execution_count": null,
   "metadata": {},
   "outputs": [],
   "source": []
  },
  {
   "cell_type": "code",
   "execution_count": null,
   "metadata": {},
   "outputs": [],
   "source": []
  }
 ],
 "metadata": {
  "kernelspec": {
   "display_name": "Python 3",
   "language": "python",
   "name": "python3"
  },
  "language_info": {
   "codemirror_mode": {
    "name": "ipython",
    "version": 3
   },
   "file_extension": ".py",
   "mimetype": "text/x-python",
   "name": "python",
   "nbconvert_exporter": "python",
   "pygments_lexer": "ipython3",
   "version": "3.7.3"
  }
 },
 "nbformat": 4,
 "nbformat_minor": 4
}
