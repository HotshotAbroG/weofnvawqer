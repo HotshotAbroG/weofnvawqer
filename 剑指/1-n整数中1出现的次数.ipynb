{
 "cells": [
  {
   "cell_type": "markdown",
   "metadata": {},
   "source": [
    "#  \n",
    "![title](../img/a7.png)"
   ]
  },
  {
   "cell_type": "code",
   "execution_count": 1,
   "metadata": {},
   "outputs": [
    {
     "data": {
      "text/plain": [
       "176"
      ]
     },
     "execution_count": 1,
     "metadata": {},
     "output_type": "execute_result"
    }
   ],
   "source": [
    "class Solution:\n",
    "    def countDigitOne(self, n: int) -> int:\n",
    "        if n<=0: return 0\n",
    "        if n<10: return 1\n",
    "        high, last = int(str(n)[0]), int(str(n)[1:])\n",
    "        # 四位数 对应 1000 ， 10**3 (len(s) - 1)\n",
    "        power =  10**(len(str(n))-1)     \n",
    "        \n",
    "        if high == 1:\n",
    "            return self.countDigitOne(last) + self.countDigitOne(power-1) + last+1\n",
    "            # last + 1 首位为1时，贡献的目标，\n",
    "            # self.countDigitOne(last): 剩余部分贡献的1\n",
    "            # self.countDigitOne(power-1) ？？？以上都忽略了， 1111 （4个1） 1101（3个1） 这些个情况，\n",
    "            # 为了查找其余每个位 贡献多少个1， 则必须利用self.countDigitOne(power-1)， 如果考察1532\n",
    "        else:\n",
    "            # 大于1，贡献拉满，\n",
    "            return self.countDigitOne(last) + self.countDigitOne(power - 1) * high + power \n",
    "cls = Solution()\n",
    "cls.countDigitOne(352)"
   ]
  },
  {
   "cell_type": "markdown",
   "metadata": {},
   "source": [
    "# 以上这个不好理解\n",
    "\n",
    "我们可以将一个数字拆分为**最高位和其右边** ，\n",
    "\n",
    "比如3452，拆成3 和 452， 最高位high=3, last=452, 数的范围是几千的数字，那么power=1000\n",
    "\n",
    "先看最高位贡献了多少个1，\n",
    "\n",
    "**如果最高位大于1， 那么最高位贡献1000个1，1000~1999**\n",
    "\n",
    "**如果最高位等于1， 那么最高位贡献last个1，1539-----> 贡献539个1， 1000，1001，....1539**\n",
    "\n",
    "那么剩余位贡献多少个1呢，只要看0-999的个、十、百位贡献了多少个1， 那么 1000----1999， 2000---2999， 的个、十、百位贡献的1的个数都是一样的 即high * countDigitOne(power-1)个1\n",
    "\n",
    "最后还剩下3000~3452 这last+1个数字的个、十、百位贡献的1的数量，即countDigitOne(last)\n",
    "\n",
    "全部加起来即可\n",
    "\n",
    "如果最高位等于1，那么最高位贡献last+1个1，只要看剩余位贡献多少个1：countDigOne(last) + countDitOne(power-1)\n"
   ]
  },
  {
   "cell_type": "code",
   "execution_count": null,
   "metadata": {},
   "outputs": [],
   "source": [
    "class Solution(object):\n",
    "    def countDigitOne(self, n):\n",
    "        if n <= 0 :\n",
    "            return 0\n",
    "        if n < 10:\n",
    "            return 1\n",
    "        \n",
    "        string_n = str(n)\n",
    "        high, last = int(string_n[0]), int(string_n[1:])\n",
    "        power = 10 ** (len(s) - 1)\n",
    "        res  = 0\n",
    "        if high == 1:\n",
    "            res = self.countDigitOne(last) + self.countDigitOne(power - 1) + last + 1 \n",
    "        else:\n",
    "            res =  self.countDigitOne(last) + self.countDigitOne(power - 1) * high + power \n",
    "        return res"
   ]
  },
  {
   "cell_type": "code",
   "execution_count": 26,
   "metadata": {},
   "outputs": [
    {
     "data": {
      "text/plain": [
       "176"
      ]
     },
     "execution_count": 26,
     "metadata": {},
     "output_type": "execute_result"
    }
   ],
   "source": [
    "# 递归版本\n",
    "class Solution(object):\n",
    "    def countDigitOne(self, n):\n",
    "        \"\"\"\n",
    "        \"\"\"\n",
    "        if n<=0: return 0\n",
    "        if n<10: return 1\n",
    "        high, last = int(str(n)[0]), int(str(n)[1:])\n",
    "        # 四位数 对应 1000 ， 10**3 (len(s) - 1)\n",
    "        power =  10**(len(str(n))-1)     \n",
    "        \n",
    "        if high == 1:\n",
    "            return self.countDigitOne(last) + self.countDigitOne(power-1) + last+1\n",
    "            # last + 1 首位为1时，贡献的目标，\n",
    "            # self.countDigitOne(last): 剩余部分贡献的1\n",
    "            # self.countDigitOne(power-1) ？？？以上都忽略了， 1111 （4个1） 1101（3个1） 这些个情况，\n",
    "            # 为了查找其余每个位 贡献多少个1， 则必须利用self.countDigitOne(power-1)， 如果考察1532\n",
    "        else:\n",
    "            # 大于1，贡献拉满，\n",
    "            return self.countDigitOne(last) + self.countDigitOne(power - 1) * high + power \n",
    "cls = Solution()\n",
    "cls.countDigitOne(352)"
   ]
  },
  {
   "cell_type": "code",
   "execution_count": null,
   "metadata": {},
   "outputs": [],
   "source": []
  },
  {
   "cell_type": "code",
   "execution_count": null,
   "metadata": {},
   "outputs": [],
   "source": []
  },
  {
   "cell_type": "code",
   "execution_count": null,
   "metadata": {},
   "outputs": [],
   "source": []
  },
  {
   "cell_type": "code",
   "execution_count": null,
   "metadata": {},
   "outputs": [],
   "source": []
  },
  {
   "cell_type": "code",
   "execution_count": null,
   "metadata": {},
   "outputs": [],
   "source": []
  },
  {
   "cell_type": "code",
   "execution_count": null,
   "metadata": {},
   "outputs": [],
   "source": []
  },
  {
   "cell_type": "code",
   "execution_count": null,
   "metadata": {},
   "outputs": [],
   "source": []
  },
  {
   "cell_type": "code",
   "execution_count": null,
   "metadata": {},
   "outputs": [],
   "source": []
  },
  {
   "cell_type": "code",
   "execution_count": null,
   "metadata": {},
   "outputs": [],
   "source": []
  },
  {
   "cell_type": "code",
   "execution_count": null,
   "metadata": {},
   "outputs": [],
   "source": []
  },
  {
   "cell_type": "code",
   "execution_count": null,
   "metadata": {},
   "outputs": [],
   "source": []
  },
  {
   "cell_type": "code",
   "execution_count": null,
   "metadata": {},
   "outputs": [],
   "source": []
  },
  {
   "cell_type": "code",
   "execution_count": null,
   "metadata": {},
   "outputs": [],
   "source": []
  }
 ],
 "metadata": {
  "kernelspec": {
   "display_name": "Python 3",
   "language": "python",
   "name": "python3"
  },
  "language_info": {
   "codemirror_mode": {
    "name": "ipython",
    "version": 3
   },
   "file_extension": ".py",
   "mimetype": "text/x-python",
   "name": "python",
   "nbconvert_exporter": "python",
   "pygments_lexer": "ipython3",
   "version": "3.7.6"
  }
 },
 "nbformat": 4,
 "nbformat_minor": 4
}
