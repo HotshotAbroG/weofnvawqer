{
 "cells": [
  {
   "cell_type": "markdown",
   "metadata": {},
   "source": [
    "# 面试题55 - II. 平衡二叉树\n",
    "![title](../img/a26.png)"
   ]
  },
  {
   "cell_type": "code",
   "execution_count": 6,
   "metadata": {},
   "outputs": [
    {
     "data": {
      "text/plain": [
       "False"
      ]
     },
     "execution_count": 6,
     "metadata": {},
     "output_type": "execute_result"
    }
   ],
   "source": [
    "# Definition for a binary tree node.\n",
    "# class TreeNode:\n",
    "#     def __init__(self, x):\n",
    "#         self.val = x\n",
    "#         self.left = None\n",
    "#         self.right = None\n",
    "import tree as Tree\n",
    "tree = Tree.tree\n",
    "arr = [3, 9, 20, -1014, -1014, 15, 7]\n",
    "arr = [1,2,2,3,3,-1014,-1014,4,4]\n",
    "root = tree.build_tree(arr, 0)\n",
    "\n",
    "class Solution:\n",
    "    \n",
    "    def get_dpeth(self, root):\n",
    "        \n",
    "        if root is None :\n",
    "            return 0\n",
    "        \n",
    "        left_depth = self.get_dpeth(root.left)\n",
    "        right_depth = self.get_dpeth(root.right)\n",
    "        return max(left_depth, right_depth) + 1\n",
    "    \n",
    "    def isBalanced(self, root) -> bool:\n",
    "    # 递归，判断一个树的 左子树和 右子树 的深度即可\n",
    "        if root is None:\n",
    "            return True\n",
    "        \n",
    "        left = self.get_dpeth(root.left)\n",
    "        \n",
    "        right = self.get_dpeth(root.right)\n",
    "        \n",
    "        \n",
    "        return abs(right - left) <2 and self.isBalanced(root.left) and self.isBalanced(root.right)\n",
    "\n",
    "\n",
    "    \n",
    "cls = Solution()\n",
    "cls.isBalanced(root)"
   ]
  },
  {
   "cell_type": "markdown",
   "metadata": {},
   "source": [
    "# 优化版本"
   ]
  },
  {
   "cell_type": "code",
   "execution_count": 7,
   "metadata": {},
   "outputs": [
    {
     "data": {
      "text/plain": [
       "False"
      ]
     },
     "execution_count": 7,
     "metadata": {},
     "output_type": "execute_result"
    }
   ],
   "source": [
    "class Solution:\n",
    "    def dfs(self, root):\n",
    "        # return  boolean, list[]\n",
    "        if not root:\n",
    "            return True, -1\n",
    "        left_flag, left_depth = self.dfs(root.left)\n",
    "        \n",
    "        if not left_flag:\n",
    "            return False, 0 # 左子树不是平衡的\n",
    "        \n",
    "        right_flag, right_depth = self.dfs(root.right)\n",
    "        \n",
    "        if not right_flag:\n",
    "            return False, 0\n",
    "        \n",
    "        return (abs(left_depth - right_depth) <2, max(right_depth, left_depth) + 1)\n",
    "    \n",
    "    def isBalanced(self, root):\n",
    "        return self.dfs(root)[0]\n",
    "        \n",
    "\n",
    "cls = Solution()\n",
    "cls.isBalanced(root)"
   ]
  },
  {
   "cell_type": "code",
   "execution_count": null,
   "metadata": {},
   "outputs": [],
   "source": []
  },
  {
   "cell_type": "code",
   "execution_count": null,
   "metadata": {},
   "outputs": [],
   "source": []
  },
  {
   "cell_type": "code",
   "execution_count": null,
   "metadata": {},
   "outputs": [],
   "source": []
  },
  {
   "cell_type": "code",
   "execution_count": null,
   "metadata": {},
   "outputs": [],
   "source": []
  },
  {
   "cell_type": "code",
   "execution_count": null,
   "metadata": {},
   "outputs": [],
   "source": []
  },
  {
   "cell_type": "code",
   "execution_count": null,
   "metadata": {},
   "outputs": [],
   "source": []
  },
  {
   "cell_type": "code",
   "execution_count": null,
   "metadata": {},
   "outputs": [],
   "source": []
  },
  {
   "cell_type": "code",
   "execution_count": null,
   "metadata": {},
   "outputs": [],
   "source": []
  },
  {
   "cell_type": "code",
   "execution_count": null,
   "metadata": {},
   "outputs": [],
   "source": []
  },
  {
   "cell_type": "code",
   "execution_count": null,
   "metadata": {},
   "outputs": [],
   "source": []
  },
  {
   "cell_type": "code",
   "execution_count": null,
   "metadata": {},
   "outputs": [],
   "source": []
  },
  {
   "cell_type": "code",
   "execution_count": null,
   "metadata": {},
   "outputs": [],
   "source": []
  },
  {
   "cell_type": "code",
   "execution_count": null,
   "metadata": {},
   "outputs": [],
   "source": []
  }
 ],
 "metadata": {
  "kernelspec": {
   "display_name": "Python 3",
   "language": "python",
   "name": "python3"
  },
  "language_info": {
   "codemirror_mode": {
    "name": "ipython",
    "version": 3
   },
   "file_extension": ".py",
   "mimetype": "text/x-python",
   "name": "python",
   "nbconvert_exporter": "python",
   "pygments_lexer": "ipython3",
   "version": "3.7.6"
  }
 },
 "nbformat": 4,
 "nbformat_minor": 4
}
