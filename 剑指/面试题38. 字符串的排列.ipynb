{
 "cells": [
  {
   "cell_type": "markdown",
   "metadata": {},
   "source": [
    "# 面试题38. 字符串的排列\n",
    "![title](../img/a42.png)"
   ]
  },
  {
   "cell_type": "code",
   "execution_count": 8,
   "metadata": {},
   "outputs": [
    {
     "data": {
      "text/plain": [
       "['cab', 'cba', 'bca', 'acb', 'abc', 'bac']"
      ]
     },
     "execution_count": 8,
     "metadata": {},
     "output_type": "execute_result"
    }
   ],
   "source": [
    "class Solution:\n",
    "    \n",
    "    def dfs(self, s, sentence, record, result):\n",
    "        if len(s) == len(sentence):\n",
    "            result.add(sentence)\n",
    "            return\n",
    "        for i in range(len(s)):\n",
    "            if not record[i]:\n",
    "                record[i] = True\n",
    "                self.dfs(s, sentence+s[i], record, result)\n",
    "                record[i] = False\n",
    "\n",
    "     \n",
    "    \n",
    "    def permutation(self, s: str) :\n",
    "        record = [False] * len(s)\n",
    "        if len(s) == 0:\n",
    "            return []\n",
    "        result = set()\n",
    "        self.dfs(s,\"\",record, result)\n",
    "        return list(result)\n",
    "        \n",
    "            \n",
    "cls = Solution()\n",
    "a = cls.permutation(\"abc\")\n",
    "a"
   ]
  },
  {
   "cell_type": "code",
   "execution_count": 9,
   "metadata": {},
   "outputs": [
    {
     "data": {
      "text/plain": [
       "['cab', 'cba', 'bca', 'acb', 'abc', 'bac']"
      ]
     },
     "execution_count": 9,
     "metadata": {},
     "output_type": "execute_result"
    }
   ],
   "source": [
    "class Solution:\n",
    "    \n",
    "    def dfs(self, s, sentence, record, result):\n",
    "        if len(s) == len(sentence):\n",
    "            result.add(sentence)\n",
    "            return \n",
    "        for i in range(len(s)):\n",
    "            cur_letter = s[i]\n",
    "            if not record[i]:\n",
    "                record[i] = True\n",
    "                self.dfs(s, sentence+cur_letter, record,result)\n",
    "                record[i] = False\n",
    "    \n",
    "    def permutation(self, s: str) :\n",
    "        result = set()\n",
    "        record = [False] * len(s)\n",
    "        if len(s) == 0:\n",
    "            return []\n",
    "        result = set()\n",
    "        self.dfs(s,\"\",record, result)\n",
    "        return list(result)\n",
    "        \n",
    "            \n",
    "cls = Solution()\n",
    "a = cls.permutation(\"abc\")\n",
    "a"
   ]
  },
  {
   "cell_type": "code",
   "execution_count": 8,
   "metadata": {},
   "outputs": [],
   "source": []
  },
  {
   "cell_type": "code",
   "execution_count": null,
   "metadata": {},
   "outputs": [],
   "source": []
  },
  {
   "cell_type": "code",
   "execution_count": null,
   "metadata": {},
   "outputs": [],
   "source": []
  },
  {
   "cell_type": "code",
   "execution_count": null,
   "metadata": {},
   "outputs": [],
   "source": []
  },
  {
   "cell_type": "code",
   "execution_count": null,
   "metadata": {},
   "outputs": [],
   "source": []
  },
  {
   "cell_type": "code",
   "execution_count": null,
   "metadata": {},
   "outputs": [],
   "source": []
  },
  {
   "cell_type": "code",
   "execution_count": null,
   "metadata": {},
   "outputs": [],
   "source": []
  },
  {
   "cell_type": "code",
   "execution_count": null,
   "metadata": {},
   "outputs": [],
   "source": []
  },
  {
   "cell_type": "code",
   "execution_count": null,
   "metadata": {},
   "outputs": [],
   "source": []
  },
  {
   "cell_type": "code",
   "execution_count": null,
   "metadata": {},
   "outputs": [],
   "source": []
  },
  {
   "cell_type": "code",
   "execution_count": null,
   "metadata": {},
   "outputs": [],
   "source": []
  }
 ],
 "metadata": {
  "kernelspec": {
   "display_name": "Python 3",
   "language": "python",
   "name": "python3"
  },
  "language_info": {
   "codemirror_mode": {
    "name": "ipython",
    "version": 3
   },
   "file_extension": ".py",
   "mimetype": "text/x-python",
   "name": "python",
   "nbconvert_exporter": "python",
   "pygments_lexer": "ipython3",
   "version": "3.7.6"
  }
 },
 "nbformat": 4,
 "nbformat_minor": 4
}
