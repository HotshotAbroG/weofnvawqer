{
 "cells": [
  {
   "cell_type": "markdown",
   "metadata": {},
   "source": [
    "# 39. 数组中出现次数超过一半的数字\n",
    "![title](../img/a23.png)"
   ]
  },
  {
   "cell_type": "code",
   "execution_count": 3,
   "metadata": {},
   "outputs": [
    {
     "data": {
      "text/plain": [
       "2"
      ]
     },
     "execution_count": 3,
     "metadata": {},
     "output_type": "execute_result"
    }
   ],
   "source": [
    "# 考虑 大于一半的数字 称为 众数， 假如碰到众数 +1,不是众数-1，则最后结果一定>0\n",
    "class Solution:\n",
    "    def majorityElement(self, nums) -> int:\n",
    "        public_number = 0\n",
    "        count = 0\n",
    "        for value in nums:\n",
    "            if count == 0:\n",
    "                public_number = value\n",
    "            judge = 1 if public_number == value else -1\n",
    "            count += judge\n",
    "        return public_number\n",
    "                \n",
    "cls = Solution()\n",
    "arr = [1, 2, 3, 2, 2, 2, 5, 4, 2]\n",
    "cls.majorityElement(arr)"
   ]
  },
  {
   "cell_type": "code",
   "execution_count": null,
   "metadata": {},
   "outputs": [],
   "source": []
  },
  {
   "cell_type": "code",
   "execution_count": null,
   "metadata": {},
   "outputs": [],
   "source": []
  },
  {
   "cell_type": "code",
   "execution_count": null,
   "metadata": {},
   "outputs": [],
   "source": []
  },
  {
   "cell_type": "code",
   "execution_count": null,
   "metadata": {},
   "outputs": [],
   "source": []
  },
  {
   "cell_type": "code",
   "execution_count": null,
   "metadata": {},
   "outputs": [],
   "source": []
  }
 ],
 "metadata": {
  "kernelspec": {
   "display_name": "Python 3",
   "language": "python",
   "name": "python3"
  },
  "language_info": {
   "codemirror_mode": {
    "name": "ipython",
    "version": 3
   },
   "file_extension": ".py",
   "mimetype": "text/x-python",
   "name": "python",
   "nbconvert_exporter": "python",
   "pygments_lexer": "ipython3",
   "version": "3.7.6"
  }
 },
 "nbformat": 4,
 "nbformat_minor": 4
}
