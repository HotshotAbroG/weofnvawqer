{
 "cells": [
  {
   "cell_type": "markdown",
   "metadata": {},
   "source": [
    "# 重建二叉树\n",
    "![title](../img/a45.png)"
   ]
  },
  {
   "cell_type": "code",
   "execution_count": 5,
   "metadata": {},
   "outputs": [
    {
     "data": {
      "text/plain": [
       "0"
      ]
     },
     "execution_count": 5,
     "metadata": {},
     "output_type": "execute_result"
    }
   ],
   "source": [
    "preorder  = [3,9,20,15,7]\n",
    "preorder.index(3)"
   ]
  },
  {
   "cell_type": "code",
   "execution_count": 7,
   "metadata": {},
   "outputs": [
    {
     "name": "stdout",
     "output_type": "stream",
     "text": [
      "[3]\n",
      "[9, 20]\n",
      "[15, 7]\n"
     ]
    }
   ],
   "source": [
    "import tree as Tree\n",
    "tree = Tree.tree\n",
    "class Solution:\n",
    "    def buildTree(self, preorder, inorder) :\n",
    "        if len(inorder) == 0:\n",
    "            return None\n",
    "        root = tree(preorder[0])\n",
    "        \n",
    "        index = inorder.index(preorder[0])\n",
    "        \n",
    "        root.left = self.buildTree(preorder[1:1+index], inorder[:index])\n",
    "        \n",
    "        root.right = self.buildTree(preorder[index+1:],inorder[index+1:])\n",
    "        return root\n",
    "\n",
    "preorder  = [3,9,20,15,7]\n",
    "inorder = [9,3,15,20,7]\n",
    "cls = Solution()\n",
    "res1 = cls.buildTree(preorder, inorder)\n",
    "tree.bfs(res1)"
   ]
  },
  {
   "cell_type": "markdown",
   "metadata": {},
   "source": [
    "# 正确版本"
   ]
  },
  {
   "cell_type": "code",
   "execution_count": 17,
   "metadata": {},
   "outputs": [
    {
     "name": "stdout",
     "output_type": "stream",
     "text": [
      "[3]\n",
      "[9, 20]\n",
      "[15, 7]\n"
     ]
    }
   ],
   "source": [
    "class Solution:\n",
    "    def buildTree(self, preorder, inorder) :\n",
    "        if len(inorder) == 0:\n",
    "            return None\n",
    "        root = tree(preorder[0])\n",
    "        mid = inorder.index(preorder[0])\n",
    "        root.left = self.buildTree(preorder[1:mid+1], inorder[:mid])\n",
    "        root.right = self.buildTree(preorder[mid+1:], inorder[mid+1:])\n",
    "        return root\n",
    "preorder  = [3,9,20,15,7]\n",
    "inorder = [9,3,15,20,7]\n",
    "cls = Solution()\n",
    "res = cls.buildTree(preorder, inorder)\n",
    "tree.bfs(res)"
   ]
  },
  {
   "cell_type": "code",
   "execution_count": 16,
   "metadata": {},
   "outputs": [
    {
     "name": "stdout",
     "output_type": "stream",
     "text": [
      "[3]\n",
      "[9, 20]\n",
      "[15, 7]\n"
     ]
    }
   ],
   "source": [
    "class Solution:\n",
    "    def buildTree(self, preorder, inorder) :\n",
    "        self.dict, self.preoder = {}, preorder\n",
    "        for i in range(len(inorder)):\n",
    "            self.dict[inorder[i]] = i\n",
    "        \n",
    "        return self.dfs(0, 0, len(inorder) - 1)\n",
    "    \n",
    "    def dfs(self, pre_root, left_index, right_index):\n",
    "        if left_index > right_index:\n",
    "            return \n",
    "        root = tree(self.preoder[pre_root])\n",
    "        index = self.dict[self.preoder[pre_root]] # 找当前value 在 前序列表中的index\n",
    "        root.left = self.dfs(pre_root + 1, left_index, index - 1)\n",
    "        root.right = self.dfs(index - left_index + pre_root + 1, index + 1, right_index)\n",
    "        return root\n",
    "        \n",
    "        \n",
    "\n",
    "        \n",
    "preorder  = [3,9,20,15,7]\n",
    "inorder = [9,3,15,20,7]\n",
    "cls = Solution()\n",
    "res = cls.buildTree(preorder, inorder)\n",
    "tree.bfs(res)"
   ]
  },
  {
   "cell_type": "code",
   "execution_count": 6,
   "metadata": {},
   "outputs": [
    {
     "data": {
      "text/plain": [
       "[3, 4, 5]"
      ]
     },
     "execution_count": 6,
     "metadata": {},
     "output_type": "execute_result"
    }
   ],
   "source": [
    "res = [1,2,3,3,4,5]\n",
    "r = res.index(3)\n",
    "res[r+1:]"
   ]
  },
  {
   "cell_type": "code",
   "execution_count": null,
   "metadata": {},
   "outputs": [],
   "source": []
  },
  {
   "cell_type": "code",
   "execution_count": null,
   "metadata": {},
   "outputs": [],
   "source": []
  },
  {
   "cell_type": "code",
   "execution_count": null,
   "metadata": {},
   "outputs": [],
   "source": []
  },
  {
   "cell_type": "code",
   "execution_count": null,
   "metadata": {},
   "outputs": [],
   "source": []
  },
  {
   "cell_type": "code",
   "execution_count": null,
   "metadata": {},
   "outputs": [],
   "source": []
  },
  {
   "cell_type": "code",
   "execution_count": null,
   "metadata": {},
   "outputs": [],
   "source": []
  },
  {
   "cell_type": "code",
   "execution_count": null,
   "metadata": {},
   "outputs": [],
   "source": []
  },
  {
   "cell_type": "code",
   "execution_count": null,
   "metadata": {},
   "outputs": [],
   "source": []
  },
  {
   "cell_type": "code",
   "execution_count": null,
   "metadata": {},
   "outputs": [],
   "source": []
  },
  {
   "cell_type": "code",
   "execution_count": null,
   "metadata": {},
   "outputs": [],
   "source": []
  }
 ],
 "metadata": {
  "kernelspec": {
   "display_name": "Python 3",
   "language": "python",
   "name": "python3"
  },
  "language_info": {
   "codemirror_mode": {
    "name": "ipython",
    "version": 3
   },
   "file_extension": ".py",
   "mimetype": "text/x-python",
   "name": "python",
   "nbconvert_exporter": "python",
   "pygments_lexer": "ipython3",
   "version": "3.6.4"
  }
 },
 "nbformat": 4,
 "nbformat_minor": 4
}
