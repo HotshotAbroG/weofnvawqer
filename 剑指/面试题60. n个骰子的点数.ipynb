{
 "cells": [
  {
   "cell_type": "markdown",
   "metadata": {},
   "source": [
    "# ![title](../img/a18.png)"
   ]
  },
  {
   "cell_type": "markdown",
   "metadata": {},
   "source": [
    "![title](../img/b18.png) "
   ]
  },
  {
   "cell_type": "code",
   "execution_count": null,
   "metadata": {},
   "outputs": [],
   "source": []
  },
  {
   "cell_type": "code",
   "execution_count": 4,
   "metadata": {},
   "outputs": [
    {
     "data": {
      "text/plain": [
       "[0.16666666666666666,\n",
       " 0.16666666666666666,\n",
       " 0.16666666666666666,\n",
       " 0.16666666666666666,\n",
       " 0.16666666666666666,\n",
       " 0.16666666666666666]"
      ]
     },
     "execution_count": 4,
     "metadata": {},
     "output_type": "execute_result"
    }
   ],
   "source": [
    "class Solution:\n",
    "    def twoSum(self, n: int):\n",
    "        if n == 0:\n",
    "            return []\n",
    "        cnt = [0] * (n * 6 + 1)\n",
    "        # 初始化第一次扔骰子\n",
    "        for i in range(1,7):\n",
    "            cnt[i] = 1\n",
    "            \n",
    "        for _ in range(1,n):\n",
    "            for i in range(6 * n, 0, -1):\n",
    "                # 扔出所有筛子的次数\n",
    "                start = max(i - 6, 0)\n",
    "                cnt[i] = sum(cnt [start : i])\n",
    "                print(i,\"---->\", cnt[i])\n",
    "\n",
    "        cnt = list(map(lambda a : a/(6**n), cnt))\n",
    "        cnt = list(filter(lambda a: a > 0, cnt))\n",
    "        return cnt\n",
    "        \n",
    "cls = Solution()\n",
    "\n",
    "res = cls.twoSum(1)\n",
    "res"
   ]
  },
  {
   "cell_type": "markdown",
   "metadata": {},
   "source": [
    "# 练习版本"
   ]
  },
  {
   "cell_type": "code",
   "execution_count": 18,
   "metadata": {},
   "outputs": [
    {
     "data": {
      "text/plain": [
       "[0.027777777777777776,\n",
       " 0.05555555555555555,\n",
       " 0.08333333333333333,\n",
       " 0.1111111111111111,\n",
       " 0.1388888888888889,\n",
       " 0.16666666666666666,\n",
       " 0.1388888888888889,\n",
       " 0.1111111111111111,\n",
       " 0.08333333333333333,\n",
       " 0.05555555555555555,\n",
       " 0.027777777777777776]"
      ]
     },
     "execution_count": 18,
     "metadata": {},
     "output_type": "execute_result"
    }
   ],
   "source": [
    "class Solution:\n",
    "    def twoSum(self, n: int):\n",
    "        if n == 0:\n",
    "            return []\n",
    "        dp = [0] * (n * 6 + 1)\n",
    "        # dp[12] : 扔出12的次数\n",
    "        # 初始化\n",
    "        for i in range(6):\n",
    "            dp[i+1] = 1\n",
    "\n",
    "        for i in range(1, n):\n",
    "            for j in range(6*n, 0, -1):\n",
    "                index = max(j-6,0)\n",
    "                # 假设此时第三次仍骰子，得到13的次数= 得到7的次数 + 得到8的次数 + 得到9的次数。。。。+ 得到12的次数\n",
    "                dp[j] = sum(dp[index : j])\n",
    "        dp = list(map(lambda x : x/(6**n), dp))\n",
    "        dp = list( filter(lambda x: x>0, dp))\n",
    "        return dp\n",
    "        \n",
    "cls = Solution()\n",
    "\n",
    "res = cls.twoSum(2)\n",
    "res"
   ]
  },
  {
   "cell_type": "code",
   "execution_count": 14,
   "metadata": {},
   "outputs": [
    {
     "data": {
      "text/plain": [
       "0"
      ]
     },
     "execution_count": 14,
     "metadata": {},
     "output_type": "execute_result"
    }
   ],
   "source": []
  },
  {
   "cell_type": "code",
   "execution_count": null,
   "metadata": {},
   "outputs": [],
   "source": []
  },
  {
   "cell_type": "code",
   "execution_count": null,
   "metadata": {},
   "outputs": [],
   "source": []
  },
  {
   "cell_type": "code",
   "execution_count": null,
   "metadata": {},
   "outputs": [],
   "source": []
  },
  {
   "cell_type": "code",
   "execution_count": null,
   "metadata": {},
   "outputs": [],
   "source": []
  },
  {
   "cell_type": "code",
   "execution_count": null,
   "metadata": {},
   "outputs": [],
   "source": [
    "\n"
   ]
  }
 ],
 "metadata": {
  "kernelspec": {
   "display_name": "Python 3",
   "language": "python",
   "name": "python3"
  },
  "language_info": {
   "codemirror_mode": {
    "name": "ipython",
    "version": 3
   },
   "file_extension": ".py",
   "mimetype": "text/x-python",
   "name": "python",
   "nbconvert_exporter": "python",
   "pygments_lexer": "ipython3",
   "version": "3.7.6"
  }
 },
 "nbformat": 4,
 "nbformat_minor": 4
}
