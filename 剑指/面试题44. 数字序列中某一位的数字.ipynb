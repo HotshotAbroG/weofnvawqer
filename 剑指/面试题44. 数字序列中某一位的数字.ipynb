{
 "cells": [
  {
   "cell_type": "markdown",
   "metadata": {},
   "source": [
    "# 面试题44. 数字序列中某一位的数字\n",
    "![title](../img/a98.png)"
   ]
  },
  {
   "cell_type": "code",
   "execution_count": 28,
   "metadata": {},
   "outputs": [
    {
     "name": "stdout",
     "output_type": "stream",
     "text": [
      "pos:  2\n"
     ]
    },
    {
     "data": {
      "text/plain": [
       "7"
      ]
     },
     "execution_count": 28,
     "metadata": {},
     "output_type": "execute_result"
    }
   ],
   "source": [
    "\n",
    "# 规律：\n",
    "# 1-9有9个数，\n",
    "# 10-99有2 * 10*9个数字，\n",
    "# 100-999有3 * 100*9个数字，\n",
    "# 1000-9999有4 * 1000*9个数字\n",
    "class Solution(object):\n",
    "\n",
    "    def findNthDigit(self, nth: int) -> int:\n",
    "        # 所在位数规律：9 * pow(10, i - 1) * i\n",
    "        i, end_number = 0, 0\n",
    "        # 计算 nth 在哪个区间\n",
    "        while end_number < nth:\n",
    "            i += 1\n",
    "            end_number += i * (9 * 10 ** (i - 1))\n",
    "\n",
    "        # 得到该区间的起始值，起始值对应的次数(nth)\n",
    "        start_count = end_number - i * (9 * 10 ** (i - 1))\n",
    "#---------------------------------------------------------------------------------\n",
    "        # 确定第几个number\n",
    "        step = nth - start_count - 1  \n",
    "        step_length = i  # 每增一需要的步长, 两位数 需要 step = 2, 三位数 step = 3\n",
    "        offset, pos = step // step_length, step % step_length  # offset - 偏移值（从起始值开始）\n",
    "                                                            # pos - 结果值指向的位数 - 从最高位开始偏移\n",
    "\n",
    "            \n",
    "        print(\"pos: \", pos)\n",
    "        power = i - 1  # 幂（用于求所在位数）\n",
    "        start_val = 10 ** power  # 起始值\n",
    "\n",
    "        curr_val = start_val + offset  # 当前数值 - 起始值 + 偏移值\n",
    "        result = curr_val // (10 ** (power - pos)) \n",
    "        return result % 10\n",
    "cls = Solution()\n",
    "cls.findNthDigit(243)"
   ]
  },
  {
   "cell_type": "code",
   "execution_count": 4,
   "metadata": {},
   "outputs": [
    {
     "data": {
      "text/plain": [
       "(3, 1)"
      ]
     },
     "execution_count": 4,
     "metadata": {},
     "output_type": "execute_result"
    }
   ],
   "source": []
  },
  {
   "cell_type": "code",
   "execution_count": null,
   "metadata": {},
   "outputs": [],
   "source": []
  }
 ],
 "metadata": {
  "kernelspec": {
   "display_name": "Python 3",
   "language": "python",
   "name": "python3"
  },
  "language_info": {
   "codemirror_mode": {
    "name": "ipython",
    "version": 3
   },
   "file_extension": ".py",
   "mimetype": "text/x-python",
   "name": "python",
   "nbconvert_exporter": "python",
   "pygments_lexer": "ipython3",
   "version": "3.7.6"
  }
 },
 "nbformat": 4,
 "nbformat_minor": 4
}
