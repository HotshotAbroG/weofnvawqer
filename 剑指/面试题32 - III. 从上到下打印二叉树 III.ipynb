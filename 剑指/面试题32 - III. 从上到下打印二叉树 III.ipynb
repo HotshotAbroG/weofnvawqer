{
 "cells": [
  {
   "cell_type": "markdown",
   "metadata": {},
   "source": [
    "# 面试题32 - III. 从上到下打印二叉树 III\n",
    "![title](../img/a48.png)"
   ]
  },
  {
   "cell_type": "code",
   "execution_count": 1,
   "metadata": {},
   "outputs": [],
   "source": [
    "import tree as Tree\n",
    "tree = Tree.tree\n",
    "arr = [3, 9, 20, -1014, -1014, 15, 7]\n",
    "root = tree.build_tree(arr, 0)"
   ]
  },
  {
   "cell_type": "code",
   "execution_count": 29,
   "metadata": {},
   "outputs": [
    {
     "data": {
      "text/plain": [
       "[[3], [20, 9], [15, 7]]"
      ]
     },
     "execution_count": 29,
     "metadata": {},
     "output_type": "execute_result"
    }
   ],
   "source": [
    "class Solution:\n",
    "    def levelOrder(self, root):\n",
    "        if root == None:\n",
    "            return []\n",
    "        res, queue = [], [root]\n",
    "        flag = False\n",
    "        while queue:\n",
    "            length = len(queue)\n",
    "            tmp_list = []\n",
    "            for i in range(length):\n",
    "                cur_node = queue.pop(0)\n",
    "                tmp_list.append(cur_node.val)\n",
    "                if cur_node.left:\n",
    "                    queue.append(cur_node.left)\n",
    "                if cur_node.right:\n",
    "                    queue.append(cur_node.right)\n",
    "\n",
    "            if flag:\n",
    "                tmp_list = tmp_list[::-1]\n",
    "            flag = not flag\n",
    "            res.append(tmp_list.copy())\n",
    "            \n",
    "        return res\n",
    "                            \n",
    "cls = Solution()\n",
    "cls.levelOrder(root)"
   ]
  },
  {
   "cell_type": "markdown",
   "metadata": {},
   "source": [
    "# 面试题32 - I. 从上到下打印二叉树\n",
    "![title](../img/a86.png)"
   ]
  },
  {
   "cell_type": "code",
   "execution_count": 4,
   "metadata": {},
   "outputs": [
    {
     "data": {
      "text/plain": [
       "[[3], [9, 20], [15, 7]]"
      ]
     },
     "execution_count": 4,
     "metadata": {},
     "output_type": "execute_result"
    }
   ],
   "source": [
    "import tree as Tree\n",
    "tree = Tree.tree\n",
    "arr = [3, 9, 20, -1014, -1014, 15, 7]\n",
    "root = tree.build_tree(arr, 0)\n",
    "class Solution:\n",
    "    def levelOrder(self, root):\n",
    "        if root == None:\n",
    "            return []\n",
    "        queue, res = [root], [] # 列表模拟队列\n",
    "        tmp = []\n",
    "        while len(queue) > 0:\n",
    "            length = len(queue)\n",
    "            for i in range(length):\n",
    "                node = queue.pop(0)\n",
    "                tmp.append(node.val)\n",
    "                if node.left:\n",
    "                    queue.append(node.left)\n",
    "                if node.right:\n",
    "                    queue.append(node.right)\n",
    "            res.append(tmp.copy())\n",
    "            tmp.clear()\n",
    "            \n",
    "                    \n",
    "            \n",
    "        return res\n",
    "                            \n",
    "cls = Solution()\n",
    "cls.levelOrder(root)"
   ]
  },
  {
   "cell_type": "code",
   "execution_count": null,
   "metadata": {},
   "outputs": [],
   "source": []
  },
  {
   "cell_type": "code",
   "execution_count": null,
   "metadata": {},
   "outputs": [],
   "source": []
  },
  {
   "cell_type": "code",
   "execution_count": null,
   "metadata": {},
   "outputs": [],
   "source": []
  },
  {
   "cell_type": "code",
   "execution_count": null,
   "metadata": {},
   "outputs": [],
   "source": []
  },
  {
   "cell_type": "code",
   "execution_count": null,
   "metadata": {},
   "outputs": [],
   "source": []
  },
  {
   "cell_type": "code",
   "execution_count": null,
   "metadata": {},
   "outputs": [],
   "source": []
  },
  {
   "cell_type": "code",
   "execution_count": null,
   "metadata": {},
   "outputs": [],
   "source": []
  },
  {
   "cell_type": "code",
   "execution_count": null,
   "metadata": {},
   "outputs": [],
   "source": []
  },
  {
   "cell_type": "code",
   "execution_count": null,
   "metadata": {},
   "outputs": [],
   "source": []
  },
  {
   "cell_type": "code",
   "execution_count": null,
   "metadata": {},
   "outputs": [],
   "source": []
  },
  {
   "cell_type": "code",
   "execution_count": null,
   "metadata": {},
   "outputs": [],
   "source": []
  }
 ],
 "metadata": {
  "kernelspec": {
   "display_name": "Python 3",
   "language": "python",
   "name": "python3"
  },
  "language_info": {
   "codemirror_mode": {
    "name": "ipython",
    "version": 3
   },
   "file_extension": ".py",
   "mimetype": "text/x-python",
   "name": "python",
   "nbconvert_exporter": "python",
   "pygments_lexer": "ipython3",
   "version": "3.7.6"
  }
 },
 "nbformat": 4,
 "nbformat_minor": 4
}
