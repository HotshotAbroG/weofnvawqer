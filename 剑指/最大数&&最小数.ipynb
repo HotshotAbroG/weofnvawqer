{
 "cells": [
  {
   "cell_type": "markdown",
   "metadata": {},
   "source": [
    "# 最大数\n",
    "![title](../img/a11.png)"
   ]
  },
  {
   "cell_type": "code",
   "execution_count": 4,
   "metadata": {},
   "outputs": [
    {
     "name": "stdout",
     "output_type": "stream",
     "text": [
      "330\n"
     ]
    },
    {
     "data": {
      "text/plain": [
       "True"
      ]
     },
     "execution_count": 4,
     "metadata": {},
     "output_type": "execute_result"
    }
   ],
   "source": [
    "def func(s1, s2):\n",
    "    print(s1+s2)\n",
    "    return s1 + s2 > s2 + s1\n",
    "string1 = \"30\"\n",
    "string2 = \"3\"\n",
    "func(string2, string1)"
   ]
  },
  {
   "cell_type": "code",
   "execution_count": 10,
   "metadata": {},
   "outputs": [
    {
     "data": {
      "text/plain": [
       "'33010'"
      ]
     },
     "execution_count": 10,
     "metadata": {},
     "output_type": "execute_result"
    }
   ],
   "source": [
    "class LargerNumKey(str):\n",
    "    def __lt__(x, y):\n",
    "        return x+y > y+x\n",
    "    # 大的放前面\n",
    "    \n",
    "class Solution:\n",
    "    def largestNumber(self, nums):\n",
    "        nums = list(map(str, nums))\n",
    "        nums = sorted(nums, key = LargerNumKey)\n",
    "        return \"\".join(nums)\n",
    "        \n",
    "cls = Solution()\n",
    "cls.largestNumber([30,3,10])"
   ]
  },
  {
   "cell_type": "markdown",
   "metadata": {},
   "source": [
    "# 最小数"
   ]
  },
  {
   "cell_type": "code",
   "execution_count": 12,
   "metadata": {},
   "outputs": [
    {
     "data": {
      "text/plain": [
       "'3033459'"
      ]
     },
     "execution_count": 12,
     "metadata": {},
     "output_type": "execute_result"
    }
   ],
   "source": [
    "\n",
    "class LargerNumKey(str):\n",
    "    def __lt__(x, y):\n",
    "        return x+y < y+x\n",
    "    # 怎么为True，怎么排序\n",
    "    \n",
    "class Solution:\n",
    "    def largestNumber(self, nums):\n",
    "        nums = list(map(str, nums))\n",
    "        nums = sorted(nums, key = LargerNumKey)\n",
    "        return \"\".join(nums)\n",
    "        \n",
    "cls = Solution()\n",
    "arr = [3,30,34,5,9]\n",
    "cls.largestNumber(arr)"
   ]
  },
  {
   "cell_type": "code",
   "execution_count": null,
   "metadata": {},
   "outputs": [],
   "source": []
  },
  {
   "cell_type": "code",
   "execution_count": null,
   "metadata": {},
   "outputs": [],
   "source": []
  },
  {
   "cell_type": "code",
   "execution_count": null,
   "metadata": {},
   "outputs": [],
   "source": []
  },
  {
   "cell_type": "code",
   "execution_count": null,
   "metadata": {},
   "outputs": [],
   "source": []
  }
 ],
 "metadata": {
  "kernelspec": {
   "display_name": "Python 3",
   "language": "python",
   "name": "python3"
  },
  "language_info": {
   "codemirror_mode": {
    "name": "ipython",
    "version": 3
   },
   "file_extension": ".py",
   "mimetype": "text/x-python",
   "name": "python",
   "nbconvert_exporter": "python",
   "pygments_lexer": "ipython3",
   "version": "3.7.3"
  }
 },
 "nbformat": 4,
 "nbformat_minor": 4
}
