{
 "cells": [
  {
   "cell_type": "markdown",
   "metadata": {},
   "source": [
    "# 面试题59 - II. 队列的最大值\n",
    "![title](../img/a51.png)"
   ]
  },
  {
   "cell_type": "code",
   "execution_count": 8,
   "metadata": {},
   "outputs": [],
   "source": [
    "from collections import deque\n",
    "# 大部分功能就是个队列， 唯一不同的是加入一个新的双端队列，来维持最大值\n",
    "class MaxQueue:\n",
    "\n",
    "    def __init__(self):\n",
    "        self.deque = deque([])\n",
    "        self.min_deque = deque([])\n",
    "\n",
    "\n",
    "    def max_value(self) -> int:\n",
    "        if not self.min_deque:\n",
    "            return -1\n",
    "        else:\n",
    "            return self.min_deque[0] # 递减序列\n",
    "\n",
    "\n",
    "    def push_back(self, value: int) -> None:\n",
    "        self.deque.append(value)\n",
    "        while self.min_deque and self.min_deque[-1] < value:\n",
    "            self.min_deque.pop()\n",
    "        self.min_deque.append(value)\n",
    "\n",
    "\n",
    "    def pop_front(self) -> int:\n",
    "        if not self.deque:\n",
    "            return -1\n",
    "        elif self.min_deque[0] == self.deque[0]:\n",
    "            # min_deque： 递减 [10,9,8....]\n",
    "            self.min_deque.popleft()\n",
    "        return self.deque.popleft()\n",
    "cls = Sol"
   ]
  },
  {
   "cell_type": "code",
   "execution_count": 7,
   "metadata": {},
   "outputs": [
    {
     "data": {
      "text/plain": [
       "deque([239393, 10, 31])"
      ]
     },
     "execution_count": 7,
     "metadata": {},
     "output_type": "execute_result"
    }
   ],
   "source": [
    "from collections import deque\n",
    "\n",
    "deq = deque([])\n",
    "deq.append(10)\n",
    "deq.append(31)\n",
    "deq.extendleft([239393])\n",
    "deq"
   ]
  },
  {
   "cell_type": "code",
   "execution_count": 12,
   "metadata": {},
   "outputs": [],
   "source": [
    "from collections import deque\n",
    "# 大部分功能就是个队列， 唯一不同的是加入一个新的双端队列，来维持最大值\n",
    "class MaxQueue:\n",
    "\n",
    "    def __init__(self):\n",
    "        self.que = deque([])\n",
    "        self.max_que = deque([])\n",
    "\n",
    "    def max_value(self) -> int:\n",
    "        if not self.max_que:\n",
    "            return -1\n",
    "        else:\n",
    "            return slef.max_que[0]\n",
    "\n",
    "\n",
    "    def push_back(self, value: int) -> None:\n",
    "        self.que.append(value)\n",
    "        while self.max_que and self.max_que[-1] < value:\n",
    "            self.max_que.pop()\n",
    "        self.max_que.append(value)\n",
    "        \n",
    "    def pop_front(self) -> int:\n",
    "        if not self.que:\n",
    "            return -1\n",
    "        if self.que[0] == self.max_que[0]:\n",
    "            self.max_que.popleft()\n",
    "        \n",
    "        return self.que.popleft()\n",
    "\n"
   ]
  },
  {
   "cell_type": "code",
   "execution_count": 7,
   "metadata": {},
   "outputs": [],
   "source": [
    "from collections import deque\n",
    "que = deque([])"
   ]
  },
  {
   "cell_type": "code",
   "execution_count": 10,
   "metadata": {},
   "outputs": [
    {
     "data": {
      "text/plain": [
       "deque([2, 1, 1, 1])"
      ]
     },
     "execution_count": 10,
     "metadata": {},
     "output_type": "execute_result"
    }
   ],
   "source": [
    "que.append(1)\n",
    "que.appendleft(2)\n",
    "que"
   ]
  },
  {
   "cell_type": "code",
   "execution_count": null,
   "metadata": {},
   "outputs": [],
   "source": []
  },
  {
   "cell_type": "code",
   "execution_count": null,
   "metadata": {},
   "outputs": [],
   "source": []
  },
  {
   "cell_type": "code",
   "execution_count": null,
   "metadata": {},
   "outputs": [],
   "source": []
  },
  {
   "cell_type": "code",
   "execution_count": null,
   "metadata": {},
   "outputs": [],
   "source": []
  },
  {
   "cell_type": "code",
   "execution_count": null,
   "metadata": {},
   "outputs": [],
   "source": []
  },
  {
   "cell_type": "code",
   "execution_count": null,
   "metadata": {},
   "outputs": [],
   "source": []
  }
 ],
 "metadata": {
  "kernelspec": {
   "display_name": "Python 3",
   "language": "python",
   "name": "python3"
  },
  "language_info": {
   "codemirror_mode": {
    "name": "ipython",
    "version": 3
   },
   "file_extension": ".py",
   "mimetype": "text/x-python",
   "name": "python",
   "nbconvert_exporter": "python",
   "pygments_lexer": "ipython3",
   "version": "3.7.6"
  }
 },
 "nbformat": 4,
 "nbformat_minor": 4
}
