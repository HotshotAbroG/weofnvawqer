{
 "cells": [
  {
   "cell_type": "code",
   "execution_count": null,
   "metadata": {},
   "outputs": [],
   "source": []
  },
  {
   "cell_type": "code",
   "execution_count": 11,
   "metadata": {},
   "outputs": [],
   "source": [
    "def edit_distance(src_seq, tgt_seq):\n",
    "    \"\"\"Caculate the edit distance from  src_seq to tgt_seq.\n",
    "    \n",
    "    Args:\n",
    "        src_seq: str, predict sentence.\n",
    "        tgt_seq: str, orth sentence.\n",
    "\n",
    "    Returns:\n",
    "        The minimum edit distance from src_seq to tgt_seq. \n",
    "    \"\"\"\n",
    "    src_seq, tgt_seq = src_seq.split(' '), tgt_seq.split(' ')  # NOTE: out of the func, src_seq and tgt_seq can't change.\n",
    "    m, n = len(src_seq), len(tgt_seq)\n",
    "    dist = [[0] * (n + 1) for _ in range(m + 1)]\n",
    "    for i in range(m + 1):\n",
    "        dist[i][0] = i\n",
    "    for j in range(n + 1):\n",
    "        dist[0][j] = j\n",
    "    for i in range(1, m + 1):\n",
    "        for j in range(1, n + 1):\n",
    "            if src_seq[i - 1] == tgt_seq[j - 1]:\n",
    "                dist[i][j] = dist[i - 1][j - 1]\n",
    "            else:\n",
    "                dist[i][j] = 1 + min(dist[i - 1][j - 1], dist[i - 1][j], dist[i][j - 1])\n",
    "    # print('In the func...')\n",
    "    # print('src_seq:', src_seq)\n",
    "    # print('tgt_seq:', tgt_seq)\n",
    "    return dist[m][n]"
   ]
  },
  {
   "cell_type": "code",
   "execution_count": 12,
   "metadata": {},
   "outputs": [
    {
     "data": {
      "text/plain": [
       "2"
      ]
     },
     "execution_count": 12,
     "metadata": {},
     "output_type": "execute_result"
    }
   ],
   "source": [
    "s1 =  \"<s> a b c\"\n",
    "s2 = \"b a c\"\n",
    "edit_distance(s1, s2)"
   ]
  },
  {
   "cell_type": "code",
   "execution_count": null,
   "metadata": {},
   "outputs": [],
   "source": []
  },
  {
   "cell_type": "code",
   "execution_count": null,
   "metadata": {},
   "outputs": [],
   "source": []
  }
 ],
 "metadata": {
  "kernelspec": {
   "display_name": "Python 3",
   "language": "python",
   "name": "python3"
  },
  "language_info": {
   "codemirror_mode": {
    "name": "ipython",
    "version": 3
   },
   "file_extension": ".py",
   "mimetype": "text/x-python",
   "name": "python",
   "nbconvert_exporter": "python",
   "pygments_lexer": "ipython3",
   "version": "3.7.3"
  }
 },
 "nbformat": 4,
 "nbformat_minor": 4
}
