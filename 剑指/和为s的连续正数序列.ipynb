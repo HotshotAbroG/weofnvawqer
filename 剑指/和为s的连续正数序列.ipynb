{
 "cells": [
  {
   "cell_type": "markdown",
   "metadata": {},
   "source": [
    "\n",
    "![title](../img/a20.png)"
   ]
  },
  {
   "cell_type": "code",
   "execution_count": 12,
   "metadata": {},
   "outputs": [
    {
     "data": {
      "text/plain": [
       "[[1, 2]]"
      ]
     },
     "execution_count": 12,
     "metadata": {},
     "output_type": "execute_result"
    }
   ],
   "source": [
    "class Solution:\n",
    "    def get_sum(self, left, right):\n",
    "        return (left + right) * (right - left + 1) // 2\n",
    "    \n",
    "    def set_list(self, left, right):\n",
    "        return list(range(left, right+1))\n",
    "    \n",
    "    \n",
    "    def findContinuousSequence(self, target: int) :\n",
    "        end = 2 + (target >> 1)\n",
    "        res = []\n",
    "        left, right = 1, 2\n",
    "        while right < end :\n",
    "            # tmp_val = sum(arr[left : right + 1])\n",
    "            tmp_val = self.get_sum(left, right)\n",
    "            if tmp_val < target:\n",
    "                right += 1\n",
    "            elif tmp_val > target:\n",
    "                left += 1\n",
    "            else:\n",
    "                tmp = self.set_list(left, right)\n",
    "                if len(tmp) > 1:\n",
    "                    res.append(tmp)\n",
    "                right += 1\n",
    "        return res \n",
    "        \n",
    "cls = Solution()\n",
    "tmp = cls.findContinuousSequence(3)\n",
    "tmp"
   ]
  },
  {
   "cell_type": "code",
   "execution_count": 7,
   "metadata": {},
   "outputs": [
    {
     "name": "stdout",
     "output_type": "stream",
     "text": [
      "3\n"
     ]
    },
    {
     "data": {
      "text/plain": [
       "[[2]]"
      ]
     },
     "execution_count": 7,
     "metadata": {},
     "output_type": "execute_result"
    }
   ],
   "source": [
    "class Solution:\n",
    "    def findContinuousSequence(self, target: int) :\n",
    "        end = 2 + (target >> 1)\n",
    "        print(end)\n",
    "        res, arr = [], list(range(end))\n",
    "        left, right = 1, 2\n",
    "        while right < end :\n",
    "            tmp_val = sum(arr[left : right + 1])\n",
    "            \n",
    "            if tmp_val < target:\n",
    "                right += 1\n",
    "            elif tmp_val > target:\n",
    "                left += 1\n",
    "            else:\n",
    "                res.append(arr[left : right + 1])\n",
    "                right += 1\n",
    "        return res\n",
    "        \n",
    "cls = Solution()\n",
    "cls.findContinuousSequence(3)"
   ]
  },
  {
   "cell_type": "code",
   "execution_count": null,
   "metadata": {},
   "outputs": [],
   "source": []
  },
  {
   "cell_type": "code",
   "execution_count": null,
   "metadata": {},
   "outputs": [],
   "source": []
  },
  {
   "cell_type": "code",
   "execution_count": null,
   "metadata": {},
   "outputs": [],
   "source": []
  },
  {
   "cell_type": "code",
   "execution_count": null,
   "metadata": {},
   "outputs": [],
   "source": [
    "a"
   ]
  }
 ],
 "metadata": {
  "kernelspec": {
   "display_name": "Python 3",
   "language": "python",
   "name": "python3"
  },
  "language_info": {
   "codemirror_mode": {
    "name": "ipython",
    "version": 3
   },
   "file_extension": ".py",
   "mimetype": "text/x-python",
   "name": "python",
   "nbconvert_exporter": "python",
   "pygments_lexer": "ipython3",
   "version": "3.7.6"
  }
 },
 "nbformat": 4,
 "nbformat_minor": 4
}
