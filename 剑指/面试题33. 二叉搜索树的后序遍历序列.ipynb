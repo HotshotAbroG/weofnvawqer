{
 "cells": [
  {
   "cell_type": "markdown",
   "metadata": {},
   "source": [
    "# 面试题33. 二叉搜索树的后序遍历序列\n",
    "![title](../img/a87.png)"
   ]
  },
  {
   "cell_type": "code",
   "execution_count": 11,
   "metadata": {},
   "outputs": [
    {
     "data": {
      "text/plain": [
       "True"
      ]
     },
     "execution_count": 11,
     "metadata": {},
     "output_type": "execute_result"
    }
   ],
   "source": [
    "class Solution:\n",
    "    def verifyPostorder(self, postorder) -> bool:\n",
    "        def check(arr, start, end):\n",
    "            if end - start < 2:\n",
    "                return True\n",
    "            root_value = arr[end]\n",
    "            cur_index = start \n",
    "            # 由于是二叉搜索树，所以 左子树的所有值都小于 root——value  所以可以找到左子树的头节点\n",
    "            while cur_index < end and arr[cur_index] <= root_value:\n",
    "                cur_index += 1\n",
    "            # 此时 cur_index  为右子树头节点\n",
    "            for i in range(cur_index, end):\n",
    "                if arr[i] < root_value:\n",
    "                    return False\n",
    "            return check(arr, start, cur_index-1) and check(arr, cur_index, end-1)\n",
    "            \n",
    "        return check(postorder, 0, len(postorder)-1)\n",
    "cls = Solution()\n",
    "arr = [1,3,2,6,4]\n",
    "cls.verifyPostorder(arr)"
   ]
  },
  {
   "cell_type": "code",
   "execution_count": 12,
   "metadata": {},
   "outputs": [
    {
     "name": "stdout",
     "output_type": "stream",
     "text": [
      "[5]\n",
      "[2, 6]\n",
      "[1, 3]\n"
     ]
    }
   ],
   "source": [
    "import tree as Tree\n",
    "tree = Tree.tree\n",
    "arr = [5,2,6,1,3]\n",
    "root = tree.build_tree(arr, 0)\n",
    "tree.bfs(root)"
   ]
  },
  {
   "cell_type": "code",
   "execution_count": null,
   "metadata": {},
   "outputs": [],
   "source": []
  },
  {
   "cell_type": "code",
   "execution_count": null,
   "metadata": {},
   "outputs": [],
   "source": []
  },
  {
   "cell_type": "code",
   "execution_count": null,
   "metadata": {},
   "outputs": [],
   "source": []
  },
  {
   "cell_type": "code",
   "execution_count": null,
   "metadata": {},
   "outputs": [],
   "source": []
  },
  {
   "cell_type": "code",
   "execution_count": null,
   "metadata": {},
   "outputs": [],
   "source": []
  }
 ],
 "metadata": {
  "kernelspec": {
   "display_name": "Python 3",
   "language": "python",
   "name": "python3"
  },
  "language_info": {
   "codemirror_mode": {
    "name": "ipython",
    "version": 3
   },
   "file_extension": ".py",
   "mimetype": "text/x-python",
   "name": "python",
   "nbconvert_exporter": "python",
   "pygments_lexer": "ipython3",
   "version": "3.7.6"
  }
 },
 "nbformat": 4,
 "nbformat_minor": 4
}
