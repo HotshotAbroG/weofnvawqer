{
 "cells": [
  {
   "cell_type": "markdown",
   "metadata": {},
   "source": [
    "# 面试题35. 复杂链表的复制\n",
    "![title](../img/a88.png)"
   ]
  },
  {
   "cell_type": "code",
   "execution_count": 4,
   "metadata": {},
   "outputs": [],
   "source": [
    "\"\"\"\n",
    "# Definition for a Node.\n",
    "class Node:\n",
    "    def __init__(self, x: int, next: 'Node' = None, random: 'Node' = None):\n",
    "        self.val = int(x)\n",
    "        self.next = next\n",
    "        self.random = random\n",
    "\"\"\"\n",
    "class Solution:\n",
    "    def copyRandomList(self, head: 'Node') -> 'Node':\n",
    "        if not head:\n",
    "            return None\n",
    "        new_head = Node(head.val)       # 该 引用 负责 保存 整个copyList的头部\n",
    "        cur_node = head                 # 该 引用 负责 遍历整个 orgList\n",
    "        copy_node = new_head            # 该 引用 负责 遍历整个 copyList\n",
    "\n",
    "        # 利用字典 哈希映射表 键：原Node  值：原Node的复制\n",
    "        record = {head:new_head}  \n",
    "        \n",
    "        cur_node = cur_node.next   # 头节点 已经复制\n",
    "        # 遍历两遍\n",
    "        # 第一次 复制 next，并把复制的节点存储到 字典\n",
    "        # 第二次 复制 random\n",
    "        while cur_node:\n",
    "            # 复制当前节点\n",
    "            tmp = Node(cur_node.val)\n",
    "            record[cur_node] = tmp\n",
    "            \n",
    "            # copyList 连接\n",
    "            copy_node.next = tmp # 一开始copy_node = (head.val) 连接过程\n",
    "            \n",
    "            copy_node = copy_node.next   # 节点下移 \n",
    "            cur_node = cur_node.next  # 节点下移\n",
    "        \n",
    "        # 初始化\n",
    "        cur_node, copy_node = head, new_head\n",
    "        \n",
    "        while cur_node:\n",
    "            random_node = cur_node.random\n",
    "            # 连接过程\n",
    "            if random_node:\n",
    "                copy_node.random = record[random_node]\n",
    "            \n",
    "            cur_node = cur_node.next# 节点下移\n",
    "            copy_node = copy_node.next# 节点下移\n",
    "        return new_head"
   ]
  },
  {
   "cell_type": "code",
   "execution_count": null,
   "metadata": {},
   "outputs": [],
   "source": []
  },
  {
   "cell_type": "code",
   "execution_count": null,
   "metadata": {},
   "outputs": [],
   "source": []
  },
  {
   "cell_type": "code",
   "execution_count": null,
   "metadata": {},
   "outputs": [],
   "source": []
  },
  {
   "cell_type": "code",
   "execution_count": null,
   "metadata": {},
   "outputs": [],
   "source": []
  },
  {
   "cell_type": "code",
   "execution_count": null,
   "metadata": {},
   "outputs": [],
   "source": []
  },
  {
   "cell_type": "code",
   "execution_count": null,
   "metadata": {},
   "outputs": [],
   "source": []
  },
  {
   "cell_type": "code",
   "execution_count": null,
   "metadata": {},
   "outputs": [],
   "source": []
  },
  {
   "cell_type": "code",
   "execution_count": null,
   "metadata": {},
   "outputs": [],
   "source": []
  },
  {
   "cell_type": "code",
   "execution_count": null,
   "metadata": {},
   "outputs": [],
   "source": []
  },
  {
   "cell_type": "code",
   "execution_count": null,
   "metadata": {},
   "outputs": [],
   "source": []
  }
 ],
 "metadata": {
  "kernelspec": {
   "display_name": "Python 3",
   "language": "python",
   "name": "python3"
  },
  "language_info": {
   "codemirror_mode": {
    "name": "ipython",
    "version": 3
   },
   "file_extension": ".py",
   "mimetype": "text/x-python",
   "name": "python",
   "nbconvert_exporter": "python",
   "pygments_lexer": "ipython3",
   "version": "3.7.6"
  }
 },
 "nbformat": 4,
 "nbformat_minor": 4
}
