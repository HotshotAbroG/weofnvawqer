{
 "cells": [
  {
   "cell_type": "markdown",
   "metadata": {},
   "source": [
    "## 1  组合问题\n",
    "![title](../img/a89.png)"
   ]
  },
  {
   "cell_type": "code",
   "execution_count": 1,
   "metadata": {},
   "outputs": [
    {
     "data": {
      "text/plain": [
       "[[1, 2], [1, 3], [1, 4], [2, 3], [2, 4], [3, 4]]"
      ]
     },
     "execution_count": 1,
     "metadata": {},
     "output_type": "execute_result"
    }
   ],
   "source": [
    "class Solution:\n",
    "    def combine(self, n: int, k: int):\n",
    "        def dfs(cur_index, sublist):\n",
    "            if len(sublist) == k:\n",
    "                res.append(sublist.copy())\n",
    "                return \n",
    "            for i in range(cur_index, n+1):\n",
    "                sublist.append(i)\n",
    "                dfs(i+1, sublist)\n",
    "                sublist.pop()\n",
    "        res = []\n",
    "        dfs(1, [])\n",
    "        return res\n",
    "            \n",
    "cls  = Solution()\n",
    "cls.combine(4,2)"
   ]
  },
  {
   "cell_type": "markdown",
   "metadata": {},
   "source": [
    "## 2连续子数组最大和\n",
    "![title](../img/a27.png)"
   ]
  },
  {
   "cell_type": "code",
   "execution_count": 40,
   "metadata": {},
   "outputs": [
    {
     "name": "stdout",
     "output_type": "stream",
     "text": [
      "[1, 3, -1, -2, -3, 9, 1]\n",
      "[1, 4, 3, 1, -2, 9, 10]\n"
     ]
    },
    {
     "data": {
      "text/plain": [
       "10"
      ]
     },
     "execution_count": 40,
     "metadata": {},
     "output_type": "execute_result"
    }
   ],
   "source": [
    "nums = [-2,1,-3,4,-1,2,1,-5,41]\n",
    "class Solution:\n",
    "    def maxSubArray(self, nums) -> int:\n",
    "        # 动态规划 \n",
    "        # dp[i] = dp[i-1] + nums[i], nums[i]\n",
    "        # 由于存在负数，dp[i] 表示 数组中  以 i 为结尾的 子数组最大和\n",
    "        if len(nums) == 1:\n",
    "            return nums[0]\n",
    "        tmp_max = nums[0]\n",
    "        dp = [0] * len(nums)\n",
    "        dp[0] = nums[0]\n",
    "        for i in range(1, len(nums)):\n",
    "            dp[i] = max(dp[i-1] + nums[i], nums[i])\n",
    "            tmp_max = max(tmp_max, dp[i])\n",
    "        print(dp)\n",
    "        return tmp_max\n",
    "cls = Solution()\n",
    "nums = [1, 3, -1, -2, -3, 9, 1]\n",
    "print(nums)\n",
    "cls.maxSubArray(nums)"
   ]
  },
  {
   "cell_type": "markdown",
   "metadata": {},
   "source": [
    "## 3连续子数组最大和II\n",
    "![title](../img/a90.png)"
   ]
  },
  {
   "cell_type": "markdown",
   "metadata": {},
   "source": [
    "# 改良版本"
   ]
  },
  {
   "cell_type": "code",
   "execution_count": 61,
   "metadata": {},
   "outputs": [
    {
     "data": {
      "text/plain": [
       "14"
      ]
     },
     "execution_count": 61,
     "metadata": {},
     "output_type": "execute_result"
    }
   ],
   "source": [
    "class Solution:\n",
    "    def maxTwoSubArrays(self, nums):\n",
    "        if len(nums) == 2:\n",
    "            return sum(nums)\n",
    "        left_dp, right_dp = [0] * (len(nums)), [0] * (len(nums))\n",
    "        # 问题转化成 求  连续子数组中的最大和 (错误)\n",
    "        # 连续子数组最大和 是 以 i 为结尾的最大和， 而本题可以找 前i个元素的最大和(可以不用以i为结尾)\n",
    "        \n",
    "        # 从左向右 找 i个数字 所能构成的最大值\n",
    "        left_dp[0], curmax = nums[0], nums[0]\n",
    "        for i in range(1, len(nums)):\n",
    "            curmax = max(curmax + nums[i], nums[i])\n",
    "            left_dp[i] = max(curmax, left_dp[i-1])\n",
    "\n",
    "        # 从右向左找 i 个数 组成的最大值\n",
    "        right_dp[-1], curmax = nums[-1], nums[-1]\n",
    "        for i in range(len(nums)-2, -1,-1):\n",
    "            curmax = max(curmax + nums[i], nums[i])\n",
    "            right_dp[i] = max(right_dp[i+1], curmax)\n",
    "        \n",
    "        cur_max = 0 \n",
    "        for i in range(1, len(nums)):\n",
    "            # 1] [3,-1,-2,-3,9,1\n",
    "            # 1, 3] [-1,-2,-3,9,1\n",
    "            # .......\n",
    "            cur_max = max(cur_max, right_dp[i] + left_dp[i-1])\n",
    "        \n",
    "        return cur_max\n",
    "        \n",
    "cls = Solution()\n",
    "cls.maxTwoSubArrays([1, 3, -1, -2, -3, 9, 1])"
   ]
  },
  {
   "cell_type": "code",
   "execution_count": 24,
   "metadata": {},
   "outputs": [
    {
     "name": "stdout",
     "output_type": "stream",
     "text": [
      "nums:  [1, 3, -1, -2, -3, 9, 1]\n",
      "left:  [1, 4, 4, 4, 4, 9, 10]\n",
      "right:  [10, 10, 10, 10, 10, 10, 1]\n",
      "1 -------> 10\n",
      "2 -------> 10\n",
      "3 -------> 10\n",
      "4 -------> 10\n",
      "5 -------> 10\n",
      "6 -------> 1\n"
     ]
    },
    {
     "data": {
      "text/plain": [
       "14"
      ]
     },
     "execution_count": 24,
     "metadata": {},
     "output_type": "execute_result"
    }
   ],
   "source": [
    "class Solution:\n",
    "    def maxTwoSubArrays(self, nums):\n",
    "        if len(nums) == 2:\n",
    "            return nums[0] + nums[1]\n",
    "        \n",
    "        \n",
    "        dp_left, dp_right = [0] * len(nums), [0] * (len(nums))\n",
    "        # dp_left[i]: 前i个数字组成的数组中，所能构成的最大和\n",
    "        # dp_right[i]: 从右到左 i 个元素构成的数组中，所组成的最大值\n",
    "        cur_sum, tmpmax = 0, float(\"-inf\")\n",
    "        # 左到右遍历\n",
    "        for i in range(len(nums)):\n",
    "\n",
    "            cur_sum = max(cur_sum + nums[i], nums[i])\n",
    "            tmpmax = max(tmpmax, cur_sum)\n",
    "            dp_left[i] = tmpmax\n",
    "        #------------------------------------------------------------------\n",
    "            \n",
    "        cur_sum, tmpmax = 0, float(\"-inf\")\n",
    "        # 从右到左遍历\n",
    "        for i in range(len(nums)-1, -1, -1):\n",
    "            # 若 cur_sum小于0， 那么 必有 cur_sum + nums[i] < nums[i]， 则\n",
    "            cur_sum = max(cur_sum + nums[i], nums[i])\n",
    "            tmpmax = max(tmpmax, cur_sum)\n",
    "            dp_right[i] = tmpmax\n",
    "        #------------------------------------------------------------------\n",
    "        print(\"nums: \", nums)\n",
    "        print(\"left: \", dp_left)\n",
    "        print(\"right: \", dp_right)\n",
    "        \n",
    "        cur_sum = float(\"-inf\")\n",
    "        for i in range(1, len(dp_left)):\n",
    "            # 若 i = 3，  总共7个\n",
    "            # dp_left[3-1]: 表示 [1,3,-1] 组成的最大值 4\n",
    "            # dp_right[3]: 表示 [1,9,-3,-2] 所可以组成的最大值: 10\n",
    "            print(i, \"------->\", dp_right[i])\n",
    "            cur_sum = max(dp_left[i-1] + dp_right[i], cur_sum)\n",
    "            \n",
    "        return cur_sum\n",
    "        \n",
    "cls = Solution()\n",
    "#cls.maxTwoSubArrays([1, 3, -1, 2, -1, 2])\n",
    "cls.maxTwoSubArrays([1, 3, -1, -2, -3, 9, 1])"
   ]
  },
  {
   "cell_type": "markdown",
   "metadata": {},
   "source": [
    "# 4 重建二叉树\n",
    "![title](../img/a45.png)"
   ]
  },
  {
   "cell_type": "code",
   "execution_count": 4,
   "metadata": {},
   "outputs": [
    {
     "name": "stdout",
     "output_type": "stream",
     "text": [
      "1\n",
      "0\n",
      "1\n",
      "0\n",
      "0\n",
      "[3]\n",
      "[9, 20]\n",
      "[15, 7]\n"
     ]
    }
   ],
   "source": [
    "import tree as Tree\n",
    "tree = Tree.tree\n",
    "class Solution:\n",
    "    def buildTree(self, preorder, inorder) :\n",
    "        if len(preorder) == 0:\n",
    "            return None\n",
    "        mid_root_value = preorder[0]\n",
    "        root = tree(mid_root_value)\n",
    "        \n",
    "        left_index = inorder.index(mid_root_value)\n",
    "        root.left = self.buildTree(preorder[1: 1+left_index], inorder[:left_index])\n",
    "        root.right = self.buildTree(preorder[1+left_index: ], inorder[left_index+1:])\n",
    "        \n",
    "        return root\n",
    "\n",
    "preorder  = [3,9,20,15,7]\n",
    "inorder = [9,3,15,20,7]\n",
    "cls = Solution()\n",
    "res1 = cls.buildTree(preorder, inorder)\n",
    "tree.bfs(res1)"
   ]
  },
  {
   "cell_type": "markdown",
   "metadata": {},
   "source": [
    "# 5 顶端迭代器\n",
    "![title](../img/a91.png)"
   ]
  },
  {
   "cell_type": "code",
   "execution_count": 88,
   "metadata": {},
   "outputs": [],
   "source": [
    "class PeekingIterator:\n",
    "    def __init__(self, iterator):\n",
    "        \"\"\"\n",
    "        Initialize your data structure here.\n",
    "        :type iterator: Iterator\n",
    "        \"\"\"\n",
    "        self.base_iterator = iterator\n",
    "        self.top = None\n",
    "        \n",
    "\n",
    "    def peek(self):\n",
    "        \"\"\"\n",
    "        Returns the next element in the iteration without advancing the iterator.\n",
    "        :rtype: int\n",
    "        \"\"\"\n",
    "        if not self.top:\n",
    "            self.top = self.base_iterator.next()\n",
    "\n",
    "        return self.top\n",
    "        \n",
    "\n",
    "    def next(self):\n",
    "        \"\"\"\n",
    "        :rtype: int\n",
    "        \"\"\"\n",
    "        if self.top:\n",
    "            tmp = self.top\n",
    "            self.top = None\n",
    "            return tmp\n",
    "        else:\n",
    "            return self.base_iterator.next()\n",
    "        \n",
    "\n",
    "    def hasNext(self):\n",
    "        \"\"\"\n",
    "        :rtype: bool\n",
    "        \"\"\"\n",
    "        if self.top:\n",
    "            return True \n",
    "        \n",
    "        return self.base_iterator.hasNext()\n",
    "        \n"
   ]
  },
  {
   "cell_type": "code",
   "execution_count": null,
   "metadata": {},
   "outputs": [],
   "source": []
  },
  {
   "cell_type": "code",
   "execution_count": null,
   "metadata": {},
   "outputs": [],
   "source": []
  },
  {
   "cell_type": "code",
   "execution_count": null,
   "metadata": {},
   "outputs": [],
   "source": []
  }
 ],
 "metadata": {
  "kernelspec": {
   "display_name": "Python 3",
   "language": "python",
   "name": "python3"
  },
  "language_info": {
   "codemirror_mode": {
    "name": "ipython",
    "version": 3
   },
   "file_extension": ".py",
   "mimetype": "text/x-python",
   "name": "python",
   "nbconvert_exporter": "python",
   "pygments_lexer": "ipython3",
   "version": "3.7.6"
  }
 },
 "nbformat": 4,
 "nbformat_minor": 4
}
