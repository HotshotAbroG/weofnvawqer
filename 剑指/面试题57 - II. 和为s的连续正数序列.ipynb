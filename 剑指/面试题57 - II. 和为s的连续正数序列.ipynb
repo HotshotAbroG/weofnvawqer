{
 "cells": [
  {
   "cell_type": "markdown",
   "metadata": {},
   "source": [
    "#  \n",
    "![title](../img/a59.png)"
   ]
  },
  {
   "cell_type": "code",
   "execution_count": 25,
   "metadata": {},
   "outputs": [
    {
     "data": {
      "text/plain": [
       "[[1, 2, 3, 4, 5], [4, 5, 6], [7, 8]]"
      ]
     },
     "execution_count": 25,
     "metadata": {},
     "output_type": "execute_result"
    }
   ],
   "source": [
    "import math\n",
    "class Solution:\n",
    "    def findContinuousSequence(self, target: int):\n",
    "        length = math.ceil(target/2)\n",
    "        src = [i+1 for i in range(length)]\n",
    "        res = []\n",
    "        left, right = 0, 1\n",
    "        while left <= length:\n",
    "            while sum(src[left:right]) < target and right < length:\n",
    "                right += 1\n",
    "            if sum(src[left:right]) == target:\n",
    "                res.append(src[left:right])\n",
    "            left += 1\n",
    "        return res\n",
    "cls = Solution()\n",
    "cls.findContinuousSequence(15)"
   ]
  },
  {
   "cell_type": "markdown",
   "metadata": {},
   "source": [
    "# 优化版本"
   ]
  },
  {
   "cell_type": "code",
   "execution_count": 28,
   "metadata": {},
   "outputs": [
    {
     "name": "stdout",
     "output_type": "stream",
     "text": [
      "6\n",
      "7\n",
      "9\n"
     ]
    },
    {
     "data": {
      "text/plain": [
       "[[1, 2, 3, 4, 5], [4, 5, 6], [7, 8]]"
      ]
     },
     "execution_count": 28,
     "metadata": {},
     "output_type": "execute_result"
    }
   ],
   "source": [
    "import math\n",
    "class Solution:\n",
    "    def findContinuousSequence(self, target: int):\n",
    "        left, right = 1, 1\n",
    "        window_sum, res = 0, []\n",
    "        while left <= target//2:\n",
    "            if window_sum < target:\n",
    "                window_sum += right\n",
    "                right += 1\n",
    "            elif window_sum > target:\n",
    "                window_sum -= left\n",
    "                left += 1\n",
    "            else:\n",
    "                arr = list(range(left, right))\n",
    "                res.append(arr)\n",
    "                window_sum -= left\n",
    "                left += 1\n",
    "        return res\n",
    "cls = Solution()\n",
    "cls.findContinuousSequence(15)"
   ]
  },
  {
   "cell_type": "markdown",
   "metadata": {},
   "source": [
    "# 练习版本"
   ]
  },
  {
   "cell_type": "code",
   "execution_count": 15,
   "metadata": {},
   "outputs": [
    {
     "data": {
      "text/plain": [
       "[[1, 2, 3, 4, 5], [4, 5, 6], [7, 8]]"
      ]
     },
     "execution_count": 15,
     "metadata": {},
     "output_type": "execute_result"
    }
   ],
   "source": [
    "import math\n",
    "class Solution:\n",
    "    def findContinuousSequence(self, target: int):\n",
    "        left, right = 1, 1\n",
    "        length = target // 2\n",
    "        window_value = 0\n",
    "        res = []\n",
    "        while left <= length:\n",
    "            if window_value < target:\n",
    "                window_value += right\n",
    "                right += 1\n",
    "            elif window_value > target:\n",
    "                window_value -= left\n",
    "                left += 1\n",
    "            else:\n",
    "                res.append(list(range(left,right)))\n",
    "                window_value -= left\n",
    "                left += 1\n",
    "\n",
    "        return res\n",
    "cls = Solution()\n",
    "cls.findContinuousSequence(15)"
   ]
  },
  {
   "cell_type": "code",
   "execution_count": null,
   "metadata": {},
   "outputs": [],
   "source": []
  },
  {
   "cell_type": "code",
   "execution_count": null,
   "metadata": {},
   "outputs": [],
   "source": []
  },
  {
   "cell_type": "code",
   "execution_count": null,
   "metadata": {},
   "outputs": [],
   "source": []
  },
  {
   "cell_type": "code",
   "execution_count": null,
   "metadata": {},
   "outputs": [],
   "source": []
  },
  {
   "cell_type": "code",
   "execution_count": null,
   "metadata": {},
   "outputs": [],
   "source": []
  },
  {
   "cell_type": "code",
   "execution_count": null,
   "metadata": {},
   "outputs": [],
   "source": []
  },
  {
   "cell_type": "code",
   "execution_count": null,
   "metadata": {},
   "outputs": [],
   "source": []
  },
  {
   "cell_type": "code",
   "execution_count": null,
   "metadata": {},
   "outputs": [],
   "source": []
  },
  {
   "cell_type": "code",
   "execution_count": null,
   "metadata": {},
   "outputs": [],
   "source": []
  },
  {
   "cell_type": "code",
   "execution_count": null,
   "metadata": {},
   "outputs": [],
   "source": []
  },
  {
   "cell_type": "code",
   "execution_count": null,
   "metadata": {},
   "outputs": [],
   "source": []
  }
 ],
 "metadata": {
  "kernelspec": {
   "display_name": "Python 3",
   "language": "python",
   "name": "python3"
  },
  "language_info": {
   "codemirror_mode": {
    "name": "ipython",
    "version": 3
   },
   "file_extension": ".py",
   "mimetype": "text/x-python",
   "name": "python",
   "nbconvert_exporter": "python",
   "pygments_lexer": "ipython3",
   "version": "3.7.6"
  }
 },
 "nbformat": 4,
 "nbformat_minor": 4
}
