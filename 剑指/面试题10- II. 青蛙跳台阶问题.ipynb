{
 "cells": [
  {
   "cell_type": "markdown",
   "metadata": {},
   "source": [
    "# 跳台阶\n",
    "![title](../img/a35.png)"
   ]
  },
  {
   "cell_type": "code",
   "execution_count": 10,
   "metadata": {},
   "outputs": [
    {
     "data": {
      "text/plain": [
       "8"
      ]
     },
     "execution_count": 10,
     "metadata": {},
     "output_type": "execute_result"
    }
   ],
   "source": [
    "class Solution:\n",
    "    def numWays(self, n: int) -> int:\n",
    "        dp_1, dp_2 = 1, 1\n",
    "        for i in range(n):\n",
    "            tmp = dp_2\n",
    "            dp_2 = dp_1 + dp_2\n",
    "            dp_1 = tmp\n",
    "        return dp_1\n",
    "\n",
    "cls = Solution()\n",
    "cls.numWays(5)"
   ]
  },
  {
   "cell_type": "code",
   "execution_count": null,
   "metadata": {},
   "outputs": [],
   "source": []
  },
  {
   "cell_type": "code",
   "execution_count": null,
   "metadata": {},
   "outputs": [],
   "source": []
  },
  {
   "cell_type": "code",
   "execution_count": null,
   "metadata": {},
   "outputs": [],
   "source": []
  },
  {
   "cell_type": "code",
   "execution_count": null,
   "metadata": {},
   "outputs": [],
   "source": []
  },
  {
   "cell_type": "code",
   "execution_count": null,
   "metadata": {},
   "outputs": [],
   "source": []
  },
  {
   "cell_type": "code",
   "execution_count": 7,
   "metadata": {},
   "outputs": [
    {
     "name": "stdout",
     "output_type": "stream",
     "text": [
      "1 1\n",
      "1 2\n",
      "----------------------------------------\n",
      "1 2\n",
      "2 3\n",
      "----------------------------------------\n",
      "2 3\n",
      "3 5\n",
      "----------------------------------------\n",
      "3 5\n",
      "5 8\n",
      "----------------------------------------\n",
      "5 8\n",
      "8 13\n",
      "----------------------------------------\n"
     ]
    },
    {
     "data": {
      "text/plain": [
       "8"
      ]
     },
     "execution_count": 7,
     "metadata": {},
     "output_type": "execute_result"
    }
   ],
   "source": [
    "class Solution:\n",
    "    def numWays(self, n: int) -> int:\n",
    "        # n = f(n-1) + f(n-2)\n",
    "        n_1, n_2 = 1, 1\n",
    "        for i in range(n):\n",
    "            print(n_1, n_2)\n",
    "            n_1, n_2 = n_2, n_1 + n_2\n",
    "            print(n_1, n_2)\n",
    "            print(\"-\"*40)\n",
    "        return n_1 % 1000000007\n",
    "cls = Solution()\n",
    "cls.numWays(5)"
   ]
  },
  {
   "cell_type": "code",
   "execution_count": 4,
   "metadata": {},
   "outputs": [
    {
     "data": {
      "text/plain": [
       "8"
      ]
     },
     "execution_count": 4,
     "metadata": {},
     "output_type": "execute_result"
    }
   ],
   "source": [
    "class Solution:\n",
    "    def numWays(self, n: int) -> int:\n",
    "        # n = f(n-1) + f(n-2)\n",
    "        dp = [0] * (n+1)\n",
    "        dp[1], dp[2] = 1, 2\n",
    "        for i in range(3, n+1):\n",
    "            dp[i] = dp[i -1] + dp[i-2]\n",
    "        return int( dp[n] % (1e9+7))\n",
    "cls = Solution()\n",
    "cls.numWays(5)"
   ]
  },
  {
   "cell_type": "code",
   "execution_count": null,
   "metadata": {},
   "outputs": [],
   "source": []
  },
  {
   "cell_type": "code",
   "execution_count": null,
   "metadata": {},
   "outputs": [],
   "source": []
  },
  {
   "cell_type": "code",
   "execution_count": null,
   "metadata": {},
   "outputs": [],
   "source": []
  },
  {
   "cell_type": "code",
   "execution_count": null,
   "metadata": {},
   "outputs": [],
   "source": []
  }
 ],
 "metadata": {
  "kernelspec": {
   "display_name": "Python 3",
   "language": "python",
   "name": "python3"
  },
  "language_info": {
   "codemirror_mode": {
    "name": "ipython",
    "version": 3
   },
   "file_extension": ".py",
   "mimetype": "text/x-python",
   "name": "python",
   "nbconvert_exporter": "python",
   "pygments_lexer": "ipython3",
   "version": "3.7.6"
  }
 },
 "nbformat": 4,
 "nbformat_minor": 4
}
