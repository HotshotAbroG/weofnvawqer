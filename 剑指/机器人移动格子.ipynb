{
 "cells": [
  {
   "cell_type": "markdown",
   "metadata": {},
   "source": [
    "![title](../img/a9.png) "
   ]
  },
  {
   "cell_type": "code",
   "execution_count": 1,
   "metadata": {},
   "outputs": [
    {
     "data": {
      "text/plain": [
       "15"
      ]
     },
     "execution_count": 1,
     "metadata": {},
     "output_type": "execute_result"
    }
   ],
   "source": [
    "class Solution:\n",
    "    def get_value(self, i, j):\n",
    "        if i == 100:\n",
    "            v1 = 1\n",
    "        else:\n",
    "            v1 = i// 10 + i %10\n",
    "        if j == 100:\n",
    "            v2 = 1\n",
    "        else:   \n",
    "            v2 = j//10 + j%10\n",
    "        return v1+v2\n",
    "    def movingCount(self, m: int, n: int, k: int) -> int:\n",
    "        res = 0\n",
    "        record = set()\n",
    "        \n",
    "        def dfs(i, j):\n",
    "            if i<0 or j<0 or i>=m or j>=n or (i,j) in record or self.get_value(i,j) > k:\n",
    "                return \n",
    "            nonlocal res \n",
    "            record.add((i,j))\n",
    "            res += 1\n",
    "            dfs(i, j+1)\n",
    "            dfs(i, j-1)\n",
    "            dfs(i+1, j)\n",
    "            dfs(i-1, j)\n",
    "        dfs(0,0)\n",
    "        return res\n",
    "            \n",
    "        \n",
    "cls = Solution()\n",
    "cls.movingCount(35,38,18)\n",
    "cls.movingCount(16,8,4)"
   ]
  },
  {
   "cell_type": "code",
   "execution_count": null,
   "metadata": {},
   "outputs": [],
   "source": []
  },
  {
   "cell_type": "code",
   "execution_count": null,
   "metadata": {},
   "outputs": [],
   "source": []
  },
  {
   "cell_type": "code",
   "execution_count": null,
   "metadata": {},
   "outputs": [],
   "source": []
  },
  {
   "cell_type": "code",
   "execution_count": null,
   "metadata": {},
   "outputs": [],
   "source": []
  },
  {
   "cell_type": "code",
   "execution_count": null,
   "metadata": {},
   "outputs": [],
   "source": []
  },
  {
   "cell_type": "code",
   "execution_count": null,
   "metadata": {},
   "outputs": [],
   "source": []
  },
  {
   "cell_type": "code",
   "execution_count": null,
   "metadata": {},
   "outputs": [],
   "source": []
  },
  {
   "cell_type": "code",
   "execution_count": null,
   "metadata": {},
   "outputs": [],
   "source": []
  },
  {
   "cell_type": "code",
   "execution_count": null,
   "metadata": {},
   "outputs": [],
   "source": []
  },
  {
   "cell_type": "code",
   "execution_count": null,
   "metadata": {},
   "outputs": [],
   "source": []
  }
 ],
 "metadata": {
  "kernelspec": {
   "display_name": "Python 3",
   "language": "python",
   "name": "python3"
  },
  "language_info": {
   "codemirror_mode": {
    "name": "ipython",
    "version": 3
   },
   "file_extension": ".py",
   "mimetype": "text/x-python",
   "name": "python",
   "nbconvert_exporter": "python",
   "pygments_lexer": "ipython3",
   "version": "3.7.6"
  }
 },
 "nbformat": 4,
 "nbformat_minor": 4
}
