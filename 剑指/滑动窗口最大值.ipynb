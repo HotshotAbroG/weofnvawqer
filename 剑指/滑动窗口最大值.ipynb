{
 "cells": [
  {
   "cell_type": "markdown",
   "metadata": {},
   "source": [
    "# 滑动窗口最大值\n",
    "![title](../img/a33.png)"
   ]
  },
  {
   "cell_type": "markdown",
   "metadata": {},
   "source": [
    "# 很烂的写法 n*k的复杂度"
   ]
  },
  {
   "cell_type": "code",
   "execution_count": 6,
   "metadata": {},
   "outputs": [
    {
     "data": {
      "text/plain": [
       "[3, 3, 5, 5, 6, 7]"
      ]
     },
     "execution_count": 6,
     "metadata": {},
     "output_type": "execute_result"
    }
   ],
   "source": [
    "class Solution:\n",
    "    def maxSlidingWindow(self, nums, k):\n",
    "        res, length = [], len(nums)\n",
    "        if k == 0 :\n",
    "            return []\n",
    "        if k > length:\n",
    "            return []\n",
    "        # 8 6 k = 3 length - k + 1\n",
    "        for i in range(length - k + 1):\n",
    "            res.append(max(nums[i : i + k]))\n",
    "        return res\n",
    "cls = Solution()\n",
    "arr = [1, 3, -1, -3, 5, 3, 6, 7]\n",
    "cls.maxSlidingWindow(arr, 3)"
   ]
  },
  {
   "cell_type": "markdown",
   "metadata": {},
   "source": [
    "# N的复杂度"
   ]
  },
  {
   "cell_type": "code",
   "execution_count": 1,
   "metadata": {},
   "outputs": [
    {
     "data": {
      "text/plain": [
       "[3, 3, 5, 5, 6, 7]"
      ]
     },
     "execution_count": 1,
     "metadata": {},
     "output_type": "execute_result"
    }
   ],
   "source": [
    "from collections import deque\n",
    "class Solution:\n",
    "    def maxsliedingWindow(self, nums, k):\n",
    "        def clean_deque(index):\n",
    "            if deq and deq[0] == index - k:\n",
    "                deq.popleft()\n",
    "                # 保证最左边是最大的，deq是个递减数组\n",
    "            while deq and nums[index] > nums[deq[-1]]:\n",
    "                deq.pop()\n",
    "                \n",
    "        n = len(nums)\n",
    "        if n * k == 0:\n",
    "            return []\n",
    "        if k == 1:\n",
    "            return nums  \n",
    "        deq = deque()\n",
    "        tmp = 0\n",
    "       \n",
    "        # 初始化\n",
    "        for i in range(k):\n",
    "            clean_deque(i)\n",
    "            deq.append(i)\n",
    "            tmp = max(nums[i], tmp)\n",
    "        #---------------------------------\n",
    "        res = [tmp]\n",
    "        for i in range(k, n):\n",
    "            clean_deque(i)\n",
    "            deq.append(i)\n",
    "            res.append(nums[deq[0]])\n",
    "        return res\n",
    "cls = Solution()\n",
    "arr = [1, 3, -1, -3, 5, 3, 6, 7]\n",
    "cls.maxsliedingWindow(arr, 3)"
   ]
  },
  {
   "cell_type": "code",
   "execution_count": null,
   "metadata": {},
   "outputs": [],
   "source": []
  },
  {
   "cell_type": "code",
   "execution_count": null,
   "metadata": {},
   "outputs": [],
   "source": []
  },
  {
   "cell_type": "code",
   "execution_count": null,
   "metadata": {},
   "outputs": [],
   "source": []
  },
  {
   "cell_type": "code",
   "execution_count": null,
   "metadata": {},
   "outputs": [],
   "source": []
  },
  {
   "cell_type": "code",
   "execution_count": null,
   "metadata": {},
   "outputs": [],
   "source": []
  },
  {
   "cell_type": "code",
   "execution_count": null,
   "metadata": {},
   "outputs": [],
   "source": []
  },
  {
   "cell_type": "code",
   "execution_count": null,
   "metadata": {},
   "outputs": [],
   "source": []
  },
  {
   "cell_type": "code",
   "execution_count": null,
   "metadata": {},
   "outputs": [],
   "source": []
  },
  {
   "cell_type": "code",
   "execution_count": null,
   "metadata": {},
   "outputs": [],
   "source": []
  },
  {
   "cell_type": "code",
   "execution_count": null,
   "metadata": {},
   "outputs": [],
   "source": []
  }
 ],
 "metadata": {
  "kernelspec": {
   "display_name": "Python 3",
   "language": "python",
   "name": "python3"
  },
  "language_info": {
   "codemirror_mode": {
    "name": "ipython",
    "version": 3
   },
   "file_extension": ".py",
   "mimetype": "text/x-python",
   "name": "python",
   "nbconvert_exporter": "python",
   "pygments_lexer": "ipython3",
   "version": "3.7.6"
  }
 },
 "nbformat": 4,
 "nbformat_minor": 4
}
