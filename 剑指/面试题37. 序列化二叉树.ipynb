{
 "cells": [
  {
   "cell_type": "markdown",
   "metadata": {},
   "source": [
    "# 面试题37. 序列化二叉树\n",
    "![title](../img/a57.png)"
   ]
  },
  {
   "cell_type": "code",
   "execution_count": 2,
   "metadata": {},
   "outputs": [
    {
     "name": "stdout",
     "output_type": "stream",
     "text": [
      "[1]\n",
      "[2, 3]\n",
      "[4, 5]\n"
     ]
    }
   ],
   "source": [
    "import tree as Tree\n",
    "tree = Tree.tree\n",
    "arr = [1,2,3,-1014,-1014,4,5]\n",
    "root = tree.build_tree(arr, 0)\n",
    "tree.bfs(root)"
   ]
  },
  {
   "cell_type": "code",
   "execution_count": 3,
   "metadata": {},
   "outputs": [
    {
     "data": {
      "text/plain": [
       "'[1,2,null,null,3,4,null,null,5,null,null]'"
      ]
     },
     "execution_count": 3,
     "metadata": {},
     "output_type": "execute_result"
    }
   ],
   "source": [
    "# Definition for a binary tree node.\n",
    "# class TreeNode(object):\n",
    "#     def __init__(self, x):\n",
    "#         self.val = x\n",
    "#         self.left = None\n",
    "#         self.right = None\n",
    "\n",
    "class Codec:\n",
    "\n",
    "    def serialize(self, root):\n",
    "        \"\"\"Encodes a tree to a single string.\n",
    "        \n",
    "        :type root: TreeNode\n",
    "        :rtype: str\n",
    "        \"\"\"\n",
    "        res = []\n",
    "        def dfs(root):\n",
    "            if root == None:\n",
    "                res.append(\"null\")\n",
    "            else:\n",
    "                res.append(str(root.val))\n",
    "                dfs(root.left)\n",
    "                dfs(root.right)\n",
    "        dfs(root)\n",
    "        string =  \",\".join(res)\n",
    "        string = \"[\" + string + \"]\"\n",
    "        return string\n",
    "        \n",
    "\n",
    "    def deserialize(self, data):\n",
    "        \"\"\"Decodes your encoded data to tree.\n",
    "        \n",
    "        :type data: str\n",
    "        :rtype: TreeNode\n",
    "        \"\"\"\n",
    "        data_list = data.split(\",\")\n",
    "        print(data_list)\n",
    "        def make_tree(data, index):\n",
    "            root = None\n",
    "            if index < len(data) and data[index] != \"null\":\n",
    "                root = tree(int(data[index]))\n",
    "                root.left = make_tree(data, 2*index+1)\n",
    "                root.right = make_tree(data, 2*index+2)\n",
    "            return root\n",
    "        \n",
    "        root = make_tree(data_list, 0)\n",
    "        \n",
    "        return root\n",
    "\n",
    "cls = Codec()\n",
    "cls.serialize(root)\n",
    "# r = cls.deserialize(\"1,2,3,null,null,4,5\")\n"
   ]
  },
  {
   "cell_type": "code",
   "execution_count": null,
   "metadata": {},
   "outputs": [],
   "source": []
  },
  {
   "cell_type": "code",
   "execution_count": null,
   "metadata": {},
   "outputs": [],
   "source": []
  },
  {
   "cell_type": "code",
   "execution_count": null,
   "metadata": {},
   "outputs": [],
   "source": []
  },
  {
   "cell_type": "code",
   "execution_count": null,
   "metadata": {},
   "outputs": [],
   "source": []
  },
  {
   "cell_type": "code",
   "execution_count": null,
   "metadata": {},
   "outputs": [],
   "source": []
  }
 ],
 "metadata": {
  "kernelspec": {
   "display_name": "Python 3",
   "language": "python",
   "name": "python3"
  },
  "language_info": {
   "codemirror_mode": {
    "name": "ipython",
    "version": 3
   },
   "file_extension": ".py",
   "mimetype": "text/x-python",
   "name": "python",
   "nbconvert_exporter": "python",
   "pygments_lexer": "ipython3",
   "version": "3.7.6"
  }
 },
 "nbformat": 4,
 "nbformat_minor": 4
}
