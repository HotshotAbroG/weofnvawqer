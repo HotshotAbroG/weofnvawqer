{
 "cells": [
  {
   "cell_type": "markdown",
   "metadata": {},
   "source": [
    "# 数值的整数次方\n",
    "![title](../img/a5.png)\n",
    "![title](../img/b5.png)"
   ]
  },
  {
   "cell_type": "code",
   "execution_count": 27,
   "metadata": {},
   "outputs": [
    {
     "data": {
      "text/plain": [
       "0.037037037037037035"
      ]
     },
     "execution_count": 27,
     "metadata": {},
     "output_type": "execute_result"
    }
   ],
   "source": [
    "class Solution:\n",
    "    def myPow(self, x: float, n: int) -> float:\n",
    "        flag = True\n",
    "\n",
    "        if n == 0 :\n",
    "            return 1\n",
    "        if n == 1:\n",
    "            return x\n",
    "        \n",
    "        if n < 0:\n",
    "             # 处理负数\n",
    "            n = -n\n",
    "            flag = False\n",
    "        # x 的n 次方 = (x的平方)\n",
    "        res = self.myPow(x*x, n>>1) \n",
    "        if n & 1:\n",
    "            # 奇数\n",
    "            res = res * x\n",
    "        \n",
    "        return res if flag else 1/res\n",
    "        \n",
    "                \n",
    "        \n",
    "        \n",
    "cls = Solution()\n",
    "cls.myPow(3,-3)"
   ]
  },
  {
   "cell_type": "code",
   "execution_count": 23,
   "metadata": {},
   "outputs": [
    {
     "name": "stdout",
     "output_type": "stream",
     "text": [
      "OK\n",
      "1 ----> 7 ----> 5\n",
      "5 ----> 3 ----> 25\n",
      "125 ----> 1 ----> 625\n"
     ]
    },
    {
     "data": {
      "text/plain": [
       "78125"
      ]
     },
     "execution_count": 23,
     "metadata": {},
     "output_type": "execute_result"
    }
   ],
   "source": [
    "class Solution:\n",
    "    def myPow(self, x: float, n: int) -> float:\n",
    "        if n == 0:\n",
    "            return 1\n",
    "        print(\"OK\")\n",
    "        if n < 0:\n",
    "            x = 1 / x\n",
    "            n = 0 - n\n",
    "        res = 1\n",
    "        while n:\n",
    "            # 奇数 & 1 = 1\n",
    "            # 偶数 & 1 = 0\n",
    "            if n & 1:\n",
    "                print(res, \"---->\", n, \"---->\", x)\n",
    "                res *= x\n",
    "            \n",
    "            x *= x\n",
    "            n = n >> 1 # 整除2\n",
    "        return res\n",
    "                \n",
    "        \n",
    "        \n",
    "cls = Solution()\n",
    "cls.myPow(5, 7)"
   ]
  },
  {
   "cell_type": "code",
   "execution_count": 8,
   "metadata": {},
   "outputs": [
    {
     "name": "stdout",
     "output_type": "stream",
     "text": [
      "0b100\n",
      "0\n"
     ]
    }
   ],
   "source": [
    "\n",
    "print(bin(4))\n",
    "print(1&4)"
   ]
  },
  {
   "cell_type": "code",
   "execution_count": 15,
   "metadata": {},
   "outputs": [
    {
     "data": {
      "text/plain": [
       "0"
      ]
     },
     "execution_count": 15,
     "metadata": {},
     "output_type": "execute_result"
    }
   ],
   "source": [
    "1>>1"
   ]
  },
  {
   "cell_type": "code",
   "execution_count": 20,
   "metadata": {},
   "outputs": [
    {
     "data": {
      "text/plain": [
       "25"
      ]
     },
     "execution_count": 20,
     "metadata": {},
     "output_type": "execute_result"
    }
   ],
   "source": [
    "51>>1"
   ]
  },
  {
   "cell_type": "code",
   "execution_count": null,
   "metadata": {},
   "outputs": [],
   "source": []
  },
  {
   "cell_type": "code",
   "execution_count": null,
   "metadata": {},
   "outputs": [],
   "source": []
  },
  {
   "cell_type": "code",
   "execution_count": null,
   "metadata": {},
   "outputs": [],
   "source": []
  },
  {
   "cell_type": "code",
   "execution_count": null,
   "metadata": {},
   "outputs": [],
   "source": []
  },
  {
   "cell_type": "code",
   "execution_count": null,
   "metadata": {},
   "outputs": [],
   "source": []
  },
  {
   "cell_type": "code",
   "execution_count": null,
   "metadata": {},
   "outputs": [],
   "source": []
  },
  {
   "cell_type": "code",
   "execution_count": null,
   "metadata": {},
   "outputs": [],
   "source": []
  },
  {
   "cell_type": "code",
   "execution_count": null,
   "metadata": {},
   "outputs": [],
   "source": []
  },
  {
   "cell_type": "code",
   "execution_count": null,
   "metadata": {},
   "outputs": [],
   "source": []
  }
 ],
 "metadata": {
  "kernelspec": {
   "display_name": "Python 3",
   "language": "python",
   "name": "python3"
  },
  "language_info": {
   "codemirror_mode": {
    "name": "ipython",
    "version": 3
   },
   "file_extension": ".py",
   "mimetype": "text/x-python",
   "name": "python",
   "nbconvert_exporter": "python",
   "pygments_lexer": "ipython3",
   "version": "3.7.6"
  }
 },
 "nbformat": 4,
 "nbformat_minor": 4
}
