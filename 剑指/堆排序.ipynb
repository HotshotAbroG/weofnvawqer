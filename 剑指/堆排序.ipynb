{
 "cells": [
  {
   "cell_type": "code",
   "execution_count": null,
   "metadata": {},
   "outputs": [],
   "source": []
  },
  {
   "cell_type": "markdown",
   "metadata": {},
   "source": [
    "# 从大到小，建立大堆"
   ]
  },
  {
   "cell_type": "code",
   "execution_count": 1,
   "metadata": {},
   "outputs": [
    {
     "name": "stdout",
     "output_type": "stream",
     "text": [
      "[1, 3, 3, 3, 512, 21, 5, 12, 51]\n"
     ]
    },
    {
     "data": {
      "text/plain": [
       "[512, 51, 21, 12, 5, 3, 3, 3, 1]"
      ]
     },
     "execution_count": 1,
     "metadata": {},
     "output_type": "execute_result"
    }
   ],
   "source": [
    "def heapify(arr, length, cur_index):\n",
    "    min_index = cur_index\n",
    "    left_index, right_index = cur_index*2+1, cur_index*2+2\n",
    "    \n",
    "    if left_index < length and arr[left_index] < arr[cur_index]:\n",
    "        min_index = left_index\n",
    "    \n",
    "    if right_index < length and arr[right_index] < arr[min_index]:\n",
    "        min_index = right_index\n",
    "    \n",
    "    if min_index != cur_index:\n",
    "        arr[min_index], arr[cur_index] = arr[cur_index], arr[min_index]\n",
    "        # 修正\n",
    "        heapify(arr, length, min_index)\n",
    "\n",
    "def heap_sort(arr):\n",
    "    length = len(arr)\n",
    "    start_node = (length-1)>>1\n",
    "    for i in range(start_node, -1,-1):\n",
    "        heapify(arr, length, i)\n",
    "    print(arr)\n",
    "    for i in range(length-1, 0, -1):\n",
    "        arr[i], arr[0] = arr[0], arr[i]\n",
    "        heapify(arr, i, 0)\n",
    "        \n",
    "        \n",
    "import random\n",
    "arr = list(range(10))\n",
    "# random.shuffle(arr)\n",
    "arr = [3,12,21,51,512,3,5,3,1]\n",
    "heap_sort(arr)\n",
    "arr"
   ]
  },
  {
   "cell_type": "code",
   "execution_count": 27,
   "metadata": {},
   "outputs": [
    {
     "name": "stdout",
     "output_type": "stream",
     "text": [
      "[0, 1, 2, 3, 6, 9, 7, 5, 4, 8]\n"
     ]
    },
    {
     "data": {
      "text/plain": [
       "[9, 8, 7, 6, 5, 4, 3, 2, 1, 0]"
      ]
     },
     "execution_count": 27,
     "metadata": {},
     "output_type": "execute_result"
    }
   ],
   "source": [
    "def heapify(arr, length, cur_index):\n",
    "    min_index = cur_index\n",
    "    left_index, right_index = cur_index*2+1, cur_index*2+2\n",
    "    \n",
    "    if left_index < length and arr[left_index] < arr[cur_index]:\n",
    "        min_index = left_index\n",
    "    \n",
    "    if right_index < length and arr[right_index] < arr[min_index]:\n",
    "        min_index = right_index\n",
    "    \n",
    "    if min_index != cur_index:\n",
    "        arr[min_index], arr[cur_index] = arr[cur_index], arr[min_index]\n",
    "        # 修正\n",
    "        heapify(arr, length, min_index)\n",
    "\n",
    "def heap_sort(arr):\n",
    "    length = len(arr)\n",
    "    last_node = length-1\n",
    "    start_node = last_node>>1\n",
    "    # 建大堆\n",
    "    for i in range(start_node, -1, -1):\n",
    "        heapify(arr, length, i)\n",
    "    # 排序\n",
    "    print(arr)\n",
    "    for i in range(length-1, 0, -1):\n",
    "        # 堆顶一定是max 的\n",
    "        arr[i], arr[0] = arr[0], arr[i]\n",
    "        heapify(arr, i, 0)\n",
    "        \n",
    "import random\n",
    "\n",
    "arr = [4, 1, 9, 5, 6, 2, 7, 0, 3, 8]\n",
    "\n",
    "heap_sort(arr)\n",
    "arr"
   ]
  },
  {
   "cell_type": "markdown",
   "metadata": {},
   "source": [
    "# 从小到大，建立大堆"
   ]
  },
  {
   "cell_type": "code",
   "execution_count": 25,
   "metadata": {},
   "outputs": [
    {
     "name": "stdout",
     "output_type": "stream",
     "text": [
      "[2, 9, 3, 4, 0, 6, 5, 1, 7, 8]\n"
     ]
    },
    {
     "data": {
      "text/plain": [
       "[0, 1, 2, 3, 4, 5, 6, 7, 8, 9]"
      ]
     },
     "execution_count": 25,
     "metadata": {},
     "output_type": "execute_result"
    }
   ],
   "source": [
    "def heapify(arr, length, cur_index):\n",
    "    max_index = cur_index\n",
    "    left_index, right_index = cur_index*2+1, cur_index*2+2\n",
    "    \n",
    "    if left_index < length and arr[left_index] > arr[cur_index]:\n",
    "        max_index = left_index\n",
    "    \n",
    "    if right_index < length and arr[right_index] > arr[max_index]:\n",
    "        max_index = right_index\n",
    "    \n",
    "    if max_index != cur_index:\n",
    "        arr[max_index], arr[cur_index] = arr[cur_index], arr[max_index]\n",
    "        # 修正\n",
    "        heapify(arr, length, max_index)\n",
    "\n",
    "def heap_sort(arr):\n",
    "    length = len(arr)\n",
    "    last_node = length-1\n",
    "    start_node = last_node>>1\n",
    "    # 建大堆\n",
    "    for i in range(start_node, -1, -1):\n",
    "        heapify(arr, length, i)\n",
    "    # 排序\n",
    "    for i in range(length-1, 0, -1):\n",
    "        # 堆顶一定是max 的\n",
    "        arr[i], arr[0] = arr[0], arr[i]\n",
    "        heapify(arr, i, 0)\n",
    "import random\n",
    "arr = list(range(10))\n",
    "random.shuffle(arr)\n",
    "print(arr)\n",
    "heap_sort(arr)\n",
    "arr"
   ]
  },
  {
   "cell_type": "code",
   "execution_count": null,
   "metadata": {},
   "outputs": [],
   "source": []
  },
  {
   "cell_type": "code",
   "execution_count": null,
   "metadata": {},
   "outputs": [],
   "source": []
  },
  {
   "cell_type": "code",
   "execution_count": null,
   "metadata": {},
   "outputs": [],
   "source": []
  },
  {
   "cell_type": "code",
   "execution_count": null,
   "metadata": {},
   "outputs": [],
   "source": []
  },
  {
   "cell_type": "code",
   "execution_count": null,
   "metadata": {},
   "outputs": [],
   "source": []
  },
  {
   "cell_type": "code",
   "execution_count": 21,
   "metadata": {},
   "outputs": [
    {
     "name": "stdout",
     "output_type": "stream",
     "text": [
      "[9, 8, 7, 5, 6, 2, 4, 0, 3, 1]\n",
      "count 0 -----> [8, 6, 7, 5, 1, 2, 4, 0, 3, 9]\n",
      "count 1 -----> [7, 6, 4, 5, 1, 2, 3, 0, 8, 9]\n",
      "count 2 -----> [6, 5, 4, 0, 1, 2, 3, 7, 8, 9]\n",
      "count 3 -----> [5, 3, 4, 0, 1, 2, 6, 7, 8, 9]\n",
      "count 4 -----> [4, 3, 2, 0, 1, 5, 6, 7, 8, 9]\n",
      "count 5 -----> [3, 1, 2, 0, 4, 5, 6, 7, 8, 9]\n",
      "count 6 -----> [2, 1, 0, 3, 4, 5, 6, 7, 8, 9]\n",
      "count 7 -----> [1, 0, 2, 3, 4, 5, 6, 7, 8, 9]\n",
      "count 8 -----> [0, 1, 2, 3, 4, 5, 6, 7, 8, 9]\n"
     ]
    },
    {
     "data": {
      "text/plain": [
       "[0, 1, 2, 3, 4, 5, 6, 7, 8, 9]"
      ]
     },
     "execution_count": 21,
     "metadata": {},
     "output_type": "execute_result"
    }
   ],
   "source": [
    "class Solution:\n",
    "    def heapify(self,arr, n, cur): \n",
    "        # heapify的功能： 将cur cur.left, cur.right 摆正成大堆或者小堆\n",
    "        # 找当前节点的 left  和 right\n",
    "        largest = cur\n",
    "        left = 2 * cur + 1     # left = 2*i + 1 \n",
    "        right = 2 * cur + 2     # right = 2*i + 2 \n",
    "       #         cur\n",
    "       #    left     right\n",
    "        if left < n and arr[cur] < arr[left]: \n",
    "            largest = left\n",
    "        if right < n and arr[largest] < arr[right]: \n",
    "            largest = right\n",
    "            \n",
    "       # 以上是找 三个点中的最大值的索引\n",
    "    \n",
    "        if largest != cur: \n",
    "            arr[cur], arr[largest] = arr[largest], arr[cur]  # 交换\n",
    "            # 由于larges处的值被换了，所以要确保 largest 和 largest.left 和 larges.right的\n",
    "            self.heapify(arr, n, largest) \n",
    "    \n",
    "    def heapSort(self,arr): \n",
    "        n = len(arr) \n",
    "        last_node = n-1\n",
    "        start = (last_node -1)>>1\n",
    "        # Build a maxheap. \n",
    "        for i in range(start, -1, -1): \n",
    "            self.heapify(arr, n, i) \n",
    "        print(arr)\n",
    "        # 一个个交换元素\n",
    "        count = 0 \n",
    "        for i in range(n-1, 0, -1): \n",
    "            arr[i], arr[0] = arr[0], arr[i]   # 交换\n",
    "            self.heapify(arr, i, 0)  # i: 总长度\n",
    "            print(\"count\",count,\"----->\", arr)\n",
    "            count += 1\n",
    "import random\n",
    "arr = list(range(10))\n",
    "arr = [4, 1, 9, 5, 6, 2, 7, 0, 3, 8]\n",
    "\n",
    "cls = Solution()\n",
    "cls.heapSort(arr)\n",
    "arr"
   ]
  },
  {
   "cell_type": "code",
   "execution_count": 40,
   "metadata": {},
   "outputs": [
    {
     "data": {
      "text/plain": [
       "[9, 8, 7, 6, 5, 4, 3, 2, 0, 0]"
      ]
     },
     "execution_count": 40,
     "metadata": {},
     "output_type": "execute_result"
    }
   ],
   "source": [
    "arr = [4, 1, 9, 5, 6, 2, 7, 0, 3, 8]\n",
    "def split(arr, start, end):\n",
    "    if start < end:\n",
    "        mid = (start + end)>>1\n",
    "        split(arr, start, mid)\n",
    "        split(arr, mid+1, end)\n",
    "        merge(arr, start, mid, end)\n",
    "def merge(arr, start, mid, end):\n",
    "    i, j = start , mid+1\n",
    "    count = 0\n",
    "    temp = [0] * (end - start + 1)\n",
    "    while i <= mid and j <= end:\n",
    "        if arr[i] < arr[j]:\n",
    "            temp[count] = arr[j]\n",
    "            j += 1\n",
    "        else:\n",
    "            temp[count] = arr[i]\n",
    "            i += 1\n",
    "        count += 1\n",
    "    while i<=mid:\n",
    "        temp[count] = arr[i]\n",
    "        i, count = i+1, count+1\n",
    "    while j<=mid:\n",
    "        temp[count] = arr[j]\n",
    "        j, count = j+1, count+1    \n",
    "        \n",
    "    count = 0 \n",
    "    while start <= end:\n",
    "        arr[start]  = temp[count]\n",
    "        count,start = count+1, start+1\n",
    "split(arr,0,len(arr)-1)\n",
    "arr"
   ]
  },
  {
   "cell_type": "code",
   "execution_count": null,
   "metadata": {},
   "outputs": [],
   "source": []
  },
  {
   "cell_type": "code",
   "execution_count": null,
   "metadata": {},
   "outputs": [],
   "source": []
  }
 ],
 "metadata": {
  "kernelspec": {
   "display_name": "Python 3",
   "language": "python",
   "name": "python3"
  },
  "language_info": {
   "codemirror_mode": {
    "name": "ipython",
    "version": 3
   },
   "file_extension": ".py",
   "mimetype": "text/x-python",
   "name": "python",
   "nbconvert_exporter": "python",
   "pygments_lexer": "ipython3",
   "version": "3.7.6"
  }
 },
 "nbformat": 4,
 "nbformat_minor": 4
}
