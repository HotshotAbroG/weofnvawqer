{
 "cells": [
  {
   "cell_type": "markdown",
   "metadata": {},
   "source": [
    "# ![title](../img/a19.png) "
   ]
  },
  {
   "cell_type": "code",
   "execution_count": 1,
   "metadata": {},
   "outputs": [
    {
     "name": "stdout",
     "output_type": "stream",
     "text": [
      "[6]\n",
      "[2, 8]\n",
      "[0, 4, 7, 9]\n",
      "[3, 5]\n"
     ]
    },
    {
     "data": {
      "text/plain": [
       "2"
      ]
     },
     "execution_count": 1,
     "metadata": {},
     "output_type": "execute_result"
    }
   ],
   "source": [
    "# Definition for a binary tree node.\n",
    "# class TreeNode:\n",
    "#     def __init__(self, x):\n",
    "#         self.val = x\n",
    "#         self.left = None\n",
    "#         self.right = None\n",
    "import tree as Tree\n",
    "tree = Tree.tree\n",
    "arr = [6,2,8,0,4,7,9,-1014,-1014,3,5]\n",
    "root = tree.build_tree(arr, 0)\n",
    "q,p = root.left.left, root.left.right.left\n",
    "\n",
    "tree.bfs(root)\n",
    "class Solution:\n",
    "    def lowestCommonAncestor(self, root, p, q):\n",
    "        if root in (None, p, q):\n",
    "            return root\n",
    "        left = self.lowestCommonAncestor(root.left, p,q)\n",
    "        right = self.lowestCommonAncestor(root.right, p, q)\n",
    "        if left and right:\n",
    "            return root\n",
    "        elif left or right:\n",
    "            return left if left != None else right\n",
    "        \n",
    "        return None\n",
    "        \n",
    "cls = Solution()\n",
    "cls.lowestCommonAncestor(root, p, q).val"
   ]
  },
  {
   "cell_type": "code",
   "execution_count": null,
   "metadata": {},
   "outputs": [],
   "source": []
  },
  {
   "cell_type": "code",
   "execution_count": 10,
   "metadata": {},
   "outputs": [
    {
     "name": "stdout",
     "output_type": "stream",
     "text": [
      "[3]\n"
     ]
    },
    {
     "data": {
      "text/plain": [
       "2"
      ]
     },
     "execution_count": 10,
     "metadata": {},
     "output_type": "execute_result"
    }
   ],
   "source": [
    "# Definition for a binary tree node.\n",
    "# class TreeNode:\n",
    "#     def __init__(self, x):\n",
    "#         self.val = x\n",
    "#         self.left = None\n",
    "#         self.right = None\n",
    "import tree as Tree\n",
    "tree = Tree.tree\n",
    "arr = [6,2,8,0,4,7,9,-1014,-1014,3,5]\n",
    "root = tree.build_tree(arr, 0)\n",
    "q,p = root.left.left, root.left.right.left\n",
    "\n",
    "tree.bfs(p)\n",
    "class Solution:\n",
    "    def lowestCommonAncestor(self, root, p, q):\n",
    "        if root in (None, p, q):\n",
    "            return root\n",
    "        left = self.lowestCommonAncestor(root.left, p, q)\n",
    "        right = self.lowestCommonAncestor(root.right, p, q)\n",
    "        \n",
    "        if left != None and right != None:\n",
    "            return root\n",
    "        \n",
    "        elif left != None or right != None:\n",
    "            return left if left != None else right\n",
    "    \n",
    "        return None\n",
    "        \n",
    "cls = Solution()\n",
    "cls.lowestCommonAncestor(root, p, q).val"
   ]
  },
  {
   "cell_type": "code",
   "execution_count": null,
   "metadata": {},
   "outputs": [],
   "source": []
  },
  {
   "cell_type": "code",
   "execution_count": null,
   "metadata": {},
   "outputs": [],
   "source": []
  },
  {
   "cell_type": "code",
   "execution_count": null,
   "metadata": {},
   "outputs": [],
   "source": []
  },
  {
   "cell_type": "code",
   "execution_count": null,
   "metadata": {},
   "outputs": [],
   "source": []
  },
  {
   "cell_type": "code",
   "execution_count": null,
   "metadata": {},
   "outputs": [],
   "source": []
  },
  {
   "cell_type": "code",
   "execution_count": null,
   "metadata": {},
   "outputs": [],
   "source": []
  },
  {
   "cell_type": "code",
   "execution_count": null,
   "metadata": {},
   "outputs": [],
   "source": []
  },
  {
   "cell_type": "code",
   "execution_count": null,
   "metadata": {},
   "outputs": [],
   "source": []
  }
 ],
 "metadata": {
  "kernelspec": {
   "display_name": "Python 3",
   "language": "python",
   "name": "python3"
  },
  "language_info": {
   "codemirror_mode": {
    "name": "ipython",
    "version": 3
   },
   "file_extension": ".py",
   "mimetype": "text/x-python",
   "name": "python",
   "nbconvert_exporter": "python",
   "pygments_lexer": "ipython3",
   "version": "3.7.6"
  }
 },
 "nbformat": 4,
 "nbformat_minor": 4
}
