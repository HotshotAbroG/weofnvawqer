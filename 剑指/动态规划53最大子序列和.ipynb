{
 "cells": [
  {
   "cell_type": "markdown",
   "metadata": {},
   "source": [
    "# 最大子序列和\n",
    "![title](../img/a81.png)"
   ]
  },
  {
   "cell_type": "code",
   "execution_count": 20,
   "metadata": {},
   "outputs": [
    {
     "data": {
      "text/plain": [
       "6"
      ]
     },
     "execution_count": 20,
     "metadata": {},
     "output_type": "execute_result"
    }
   ],
   "source": [
    "class Solution:\n",
    "    def maxSubArray(self, nums):\n",
    "        length = len(nums)\n",
    "        if length == 0:\n",
    "            return \n",
    "        dp, res = nums[0], nums[0]\n",
    "        for i in range(1, length):\n",
    "            dp = max(dp, 0) + nums[i]\n",
    "            res = max(res, dp)\n",
    "        return res\n",
    "res = [-2,1,-3,4,-1,2,1,-5,4]\n",
    "cls = Solution()\n",
    "cls.maxSubArray(res)"
   ]
  },
  {
   "cell_type": "code",
   "execution_count": 17,
   "metadata": {},
   "outputs": [
    {
     "data": {
      "text/plain": [
       "-1"
      ]
     },
     "execution_count": 17,
     "metadata": {},
     "output_type": "execute_result"
    }
   ],
   "source": [
    "class Solution:\n",
    "    def maxSubArray(self, nums ) -> int:\n",
    "        length = len(nums)\n",
    "        if length < 2:\n",
    "            return nums[0]\n",
    "        dp = [0 for _ in range(length)]\n",
    "        dp[0] = nums[0]\n",
    "        res = nums[0]\n",
    "        for i in range(1, length):\n",
    "            dp[i] = max(dp[i-1], 0) + nums[i]\n",
    "            res = max(res, dp[i])\n",
    "        return res\n",
    "res = [-2,1,-3,4,-1,2,1,-5,4]\n",
    "cls = Solution()\n",
    "res = [-1, -2]\n",
    "cls.maxSubArray(res)"
   ]
  },
  {
   "cell_type": "code",
   "execution_count": null,
   "metadata": {},
   "outputs": [],
   "source": []
  },
  {
   "cell_type": "code",
   "execution_count": null,
   "metadata": {},
   "outputs": [],
   "source": []
  },
  {
   "cell_type": "code",
   "execution_count": null,
   "metadata": {},
   "outputs": [],
   "source": []
  }
 ],
 "metadata": {
  "kernelspec": {
   "display_name": "Python 3",
   "language": "python",
   "name": "python3"
  },
  "language_info": {
   "codemirror_mode": {
    "name": "ipython",
    "version": 3
   },
   "file_extension": ".py",
   "mimetype": "text/x-python",
   "name": "python",
   "nbconvert_exporter": "python",
   "pygments_lexer": "ipython3",
   "version": "3.7.6"
  }
 },
 "nbformat": 4,
 "nbformat_minor": 4
}
