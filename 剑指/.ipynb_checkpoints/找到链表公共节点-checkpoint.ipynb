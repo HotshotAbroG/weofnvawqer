{
 "cells": [
  {
   "cell_type": "markdown",
   "metadata": {},
   "source": [
    "# ![title](../img/a21.png)"
   ]
  },
  {
   "cell_type": "code",
   "execution_count": 21,
   "metadata": {},
   "outputs": [
    {
     "name": "stdout",
     "output_type": "stream",
     "text": [
      "5  0  1  8  4  5  \n",
      "4  1  8  4  5  \n",
      "\n"
     ]
    },
    {
     "data": {
      "text/plain": [
       "8"
      ]
     },
     "execution_count": 21,
     "metadata": {},
     "output_type": "execute_result"
    }
   ],
   "source": [
    "# Definition for singly-linked list.\n",
    "# class ListNode:\n",
    "#     def __init__(self, x):\n",
    "#         self.val = x\n",
    "#         self.next = None\n",
    "import node\n",
    "listNode = node.listNode\n",
    "root1 = listNode.build_listNode([5, 0, 1, 8, 4, 5])\n",
    "root2 = listNode.build_listNode([4,1])\n",
    "root2.next.next = root1.next.next.next\n",
    "listNode.show(root1)\n",
    "listNode.show(root2)\n",
    "print()\n",
    "\n",
    "\n",
    "class Solution:\n",
    "    def getIntersectionNode(self, headA, headB):\n",
    "        point_a, point_b = headA, headB\n",
    "        while point_b != point_a:\n",
    "           # print(point_a.val,\"----->\", point_b.val)\n",
    "            if point_a == None:\n",
    "                point_a = headB\n",
    "            else:\n",
    "                point_a = point_a.next\n",
    "                \n",
    "            if point_b == None:\n",
    "                point_b = headA\n",
    "            else:\n",
    "                point_b = point_b.next\n",
    "            \n",
    "        return point_a\n",
    "\n",
    "cls = Solution()\n",
    "cls.getIntersectionNode(root1, root2).val"
   ]
  },
  {
   "cell_type": "code",
   "execution_count": null,
   "metadata": {},
   "outputs": [],
   "source": [
    "        point_a, point_b = headA, headB\n",
    "        while point_b != point_a:\n",
    "           # print(point_a.val,\"----->\", point_b.val)\n",
    "            if point_a == None:\n",
    "                point_a = headB\n",
    "            else:\n",
    "                point_a = point_a.next\n",
    "                \n",
    "            if point_b == None:\n",
    "                point_b = headA\n",
    "            else:\n",
    "                point_b = point_b.next\n",
    "            \n",
    "        \n",
    "        return point_a"
   ]
  },
  {
   "cell_type": "code",
   "execution_count": null,
   "metadata": {},
   "outputs": [],
   "source": []
  },
  {
   "cell_type": "code",
   "execution_count": null,
   "metadata": {},
   "outputs": [],
   "source": []
  },
  {
   "cell_type": "code",
   "execution_count": null,
   "metadata": {},
   "outputs": [],
   "source": []
  },
  {
   "cell_type": "code",
   "execution_count": null,
   "metadata": {},
   "outputs": [],
   "source": []
  }
 ],
 "metadata": {
  "kernelspec": {
   "display_name": "Python 3",
   "language": "python",
   "name": "python3"
  },
  "language_info": {
   "codemirror_mode": {
    "name": "ipython",
    "version": 3
   },
   "file_extension": ".py",
   "mimetype": "text/x-python",
   "name": "python",
   "nbconvert_exporter": "python",
   "pygments_lexer": "ipython3",
   "version": "3.7.6"
  }
 },
 "nbformat": 4,
 "nbformat_minor": 4
}
