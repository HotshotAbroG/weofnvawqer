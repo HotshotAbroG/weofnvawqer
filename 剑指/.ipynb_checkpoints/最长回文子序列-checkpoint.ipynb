{
 "cells": [
  {
   "cell_type": "markdown",
   "metadata": {},
   "source": [
    "# 最长回文子序列\n",
    "![title](../img/a62.png)"
   ]
  },
  {
   "cell_type": "markdown",
   "metadata": {},
   "source": [
    "# 2、字符子串和字符子序列的区别\n",
    "字符字串指的是字符串中连续的n个字符；如palindrome中，pa，alind，drome等都属于它的字串\n",
    "\n",
    "\n",
    "而字符子序列指的是字符串中不一定连续但先后顺序一致的n个字符；\n",
    "\n",
    "如palindrome中，plind，lime属于它的子序列，\n",
    "\n",
    "而mod，rope则不是，因为它们与字符串的字符顺序不一致。"
   ]
  },
  {
   "cell_type": "markdown",
   "metadata": {},
   "source": [
    "# ![title](../img/b62.png)"
   ]
  },
  {
   "cell_type": "code",
   "execution_count": 14,
   "metadata": {},
   "outputs": [
    {
     "name": "stdout",
     "output_type": "stream",
     "text": [
      "3 ---> 4 -----> 0\n",
      "1 ---> 3 -----> 1\n",
      "1 ---> 4 -----> 1\n",
      "0 ---> 1 -----> 0\n",
      "0 ---> 3 -----> 1\n",
      "0 ---> 4 -----> 3\n",
      "[1, 2, 2, 3, 5]\n",
      "[0, 1, 1, 3, 3]\n",
      "[0, 0, 1, 1, 2]\n",
      "[0, 0, 0, 1, 2]\n",
      "[0, 0, 0, 0, 1]\n"
     ]
    },
    {
     "data": {
      "text/plain": [
       "5"
      ]
     },
     "execution_count": 14,
     "metadata": {},
     "output_type": "execute_result"
    }
   ],
   "source": [
    "class Solution:\n",
    "    def longestPalindromeSubseq(self, s: str) -> int:\n",
    "        length = len(s)\n",
    "        dp = [[0] *length for i in range(length)]\n",
    "        for left in range(length-1, -1, -1):\n",
    "            dp[left][left] = 1\n",
    "            for right in range(left+1, length):\n",
    "                if s[left] == s[right]:\n",
    "                    dp[left][right] = dp[left+1][right-1] + 2\n",
    "                else:\n",
    "                    dp[left][right] = max(dp[left+1][right], dp[left][right-1])\n",
    "        for i in dp:\n",
    "            print(i)\n",
    "        return dp[0][length-1]\n",
    "cls = Solution()\n",
    "cls.longestPalindromeSubseq(\"aacaa\")"
   ]
  },
  {
   "cell_type": "code",
   "execution_count": null,
   "metadata": {},
   "outputs": [],
   "source": []
  },
  {
   "cell_type": "code",
   "execution_count": null,
   "metadata": {},
   "outputs": [],
   "source": []
  },
  {
   "cell_type": "code",
   "execution_count": null,
   "metadata": {},
   "outputs": [],
   "source": []
  },
  {
   "cell_type": "code",
   "execution_count": null,
   "metadata": {},
   "outputs": [],
   "source": []
  },
  {
   "cell_type": "code",
   "execution_count": null,
   "metadata": {},
   "outputs": [],
   "source": []
  },
  {
   "cell_type": "code",
   "execution_count": null,
   "metadata": {},
   "outputs": [],
   "source": []
  }
 ],
 "metadata": {
  "kernelspec": {
   "display_name": "Python 3",
   "language": "python",
   "name": "python3"
  },
  "language_info": {
   "codemirror_mode": {
    "name": "ipython",
    "version": 3
   },
   "file_extension": ".py",
   "mimetype": "text/x-python",
   "name": "python",
   "nbconvert_exporter": "python",
   "pygments_lexer": "ipython3",
   "version": "3.7.3"
  }
 },
 "nbformat": 4,
 "nbformat_minor": 4
}
