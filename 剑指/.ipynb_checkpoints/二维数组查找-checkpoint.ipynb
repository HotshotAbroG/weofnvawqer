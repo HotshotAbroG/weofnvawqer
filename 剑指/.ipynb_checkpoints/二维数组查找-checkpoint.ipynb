{
 "cells": [
  {
   "cell_type": "markdown",
   "metadata": {},
   "source": [
    "# 二维数组查找\n",
    "![title](../img/a44.png)"
   ]
  },
  {
   "cell_type": "code",
   "execution_count": 1,
   "metadata": {},
   "outputs": [
    {
     "data": {
      "text/plain": [
       "True"
      ]
     },
     "execution_count": 1,
     "metadata": {},
     "output_type": "execute_result"
    }
   ],
   "source": [
    "mask = [\n",
    "  [1,   4,  7, 11, 15],\n",
    "  [2,   5,  8, 12, 19],\n",
    "  [3,   6,  9, 16, 22],\n",
    "  [10, 13, 14, 17, 24],\n",
    "  [18, 21, 23, 26, 30]\n",
    "]\n",
    "\n",
    "class Solution:\n",
    "    def findNumberIn2DArray(self, matrix, target: int) -> bool:\n",
    "        if len(matrix) == 0:\n",
    "            return False\n",
    "        i, j = 0, len(matrix[0])-1\n",
    "        while i < len(matrix) and j >=0:\n",
    "            if matrix[i][j] == target:\n",
    "                return  True\n",
    "            elif matrix[i][j] > target:\n",
    "                j -= 1\n",
    "            else:\n",
    "                i += 1\n",
    "        return False\n",
    "                \n",
    "        \n",
    "        \n",
    "cls = Solution()\n",
    "cls.findNumberIn2DArray(mask, 14)"
   ]
  },
  {
   "cell_type": "code",
   "execution_count": null,
   "metadata": {},
   "outputs": [],
   "source": []
  },
  {
   "cell_type": "markdown",
   "metadata": {},
   "source": [
    "# 标准答案"
   ]
  },
  {
   "cell_type": "code",
   "execution_count": 5,
   "metadata": {},
   "outputs": [
    {
     "data": {
      "text/plain": [
       "True"
      ]
     },
     "execution_count": 5,
     "metadata": {},
     "output_type": "execute_result"
    }
   ],
   "source": [
    "mask = [\n",
    "  [1,   4,  7, 11, 15],\n",
    "  [2,   5,  8, 12, 19],\n",
    "  [3,   6,  9, 16, 22],\n",
    "  [10, 13, 14, 17, 24],\n",
    "  [18, 21, 23, 26, 30]\n",
    "]\n",
    "\n",
    "class Solution:\n",
    "    def findNumberIn2DArray(self, matrix, target: int) -> bool:\n",
    "        if len(matrix) == 0:\n",
    "            return False\n",
    "        x, y = 0, len(matrix[0]) - 1\n",
    "        while x < len(matrix) and y > -1:\n",
    "            if matrix[x][y] < target:\n",
    "                x += 1\n",
    "            elif matrix[x][y] > target:\n",
    "                y -= 1\n",
    "            else :\n",
    "                return True\n",
    "        return False\n",
    "        \n",
    "cls = Solution()\n",
    "cls.findNumberIn2DArray(mask, 14)"
   ]
  },
  {
   "cell_type": "code",
   "execution_count": null,
   "metadata": {},
   "outputs": [],
   "source": []
  },
  {
   "cell_type": "code",
   "execution_count": null,
   "metadata": {},
   "outputs": [],
   "source": []
  },
  {
   "cell_type": "code",
   "execution_count": null,
   "metadata": {},
   "outputs": [],
   "source": []
  }
 ],
 "metadata": {
  "kernelspec": {
   "display_name": "Python 3",
   "language": "python",
   "name": "python3"
  },
  "language_info": {
   "codemirror_mode": {
    "name": "ipython",
    "version": 3
   },
   "file_extension": ".py",
   "mimetype": "text/x-python",
   "name": "python",
   "nbconvert_exporter": "python",
   "pygments_lexer": "ipython3",
   "version": "3.7.3"
  }
 },
 "nbformat": 4,
 "nbformat_minor": 4
}
