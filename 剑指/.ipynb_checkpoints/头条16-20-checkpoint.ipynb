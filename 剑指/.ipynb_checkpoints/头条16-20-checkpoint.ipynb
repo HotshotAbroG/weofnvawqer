{
 "cells": [
  {
   "cell_type": "markdown",
   "metadata": {},
   "source": [
    "# 1面试题58 - II. 左旋转字符串\n",
    "# ![title](../img/a100.png)\n",
    "要求：时间复杂度O(n)，空间复杂度O(1)"
   ]
  },
  {
   "cell_type": "code",
   "execution_count": 6,
   "metadata": {},
   "outputs": [
    {
     "data": {
      "text/plain": [
       "'umghlrlose'"
      ]
     },
     "execution_count": 6,
     "metadata": {},
     "output_type": "execute_result"
    }
   ],
   "source": [
    "class Solution:\n",
    "    def reverseLeftWords(self, s: str, n: int) -> str:\n",
    "        if not s:\n",
    "            return \"\"\n",
    "        n = n%len(s)\n",
    "        return s[n:] + s[:n]\n",
    "s = \"lrloseumgh\"\n",
    "cls = Solution()\n",
    "cls.reverseLeftWords(s, 6)"
   ]
  },
  {
   "cell_type": "markdown",
   "metadata": {},
   "source": [
    "# 448. 找到所有数组中消失的数字\n",
    "# ![title](../img/a101.png)\n"
   ]
  },
  {
   "cell_type": "code",
   "execution_count": 15,
   "metadata": {},
   "outputs": [
    {
     "data": {
      "text/plain": [
       "[5, 6]"
      ]
     },
     "execution_count": 15,
     "metadata": {},
     "output_type": "execute_result"
    }
   ],
   "source": [
    "# O(1)空间， O(N) 时间\n",
    "class Solution:\n",
    "    def findDisappearedNumbers(self, nums):\n",
    "        for i in range(len(nums)):\n",
    "            next_index = abs(nums[i]) - 1\n",
    "            # 由于 缺少 4 和 5\n",
    "            # 所以 nums[3], nums[4] 不会执行下面的操作\n",
    "            if nums[next_index] > 0:\n",
    "                nums[next_index] *= -1\n",
    "        result = []\n",
    "        for i in range(len(nums)):\n",
    "            if nums[i] > 0:\n",
    "                result.append(i+1)\n",
    "        return result\n",
    "        \n",
    "        \n",
    "arr = [4, 3, 2, 7, 8, 2, 3, 1]\n",
    "cls = Solution()\n",
    "cls.findDisappearedNumbers(arr)"
   ]
  },
  {
   "cell_type": "markdown",
   "metadata": {},
   "source": [
    "# 63. 不同路径 II\n",
    "# ![title](../img/a102.png)\n"
   ]
  },
  {
   "cell_type": "code",
   "execution_count": 25,
   "metadata": {},
   "outputs": [
    {
     "name": "stdout",
     "output_type": "stream",
     "text": [
      "[1, 1, 1, 1]\n",
      "[1, 0, 1, 2]\n",
      "[1, 1, 2, 4]\n",
      "[1, 2, 4, 8]\n"
     ]
    },
    {
     "data": {
      "text/plain": [
       "8"
      ]
     },
     "execution_count": 25,
     "metadata": {},
     "output_type": "execute_result"
    }
   ],
   "source": [
    "class Solution:\n",
    "    def uniquePathsWithObstacles(self, obstacleGrid) -> int:\n",
    "        m = len(obstacleGrid)\n",
    "        n = len(obstacleGrid[0])\n",
    "        if obstacleGrid[0][0] == 1:\n",
    "            return 0\n",
    "        obstacleGrid[0][0] = 1\n",
    "        # 初始化\n",
    "        for i in range(1, m):\n",
    "                #  当前路可以到达                 上一步已经到达\n",
    "            if obstacleGrid[i][0] == 0 and obstacleGrid[i-1][0] == 1:\n",
    "                obstacleGrid[i][0] = 1 \n",
    "                \n",
    "        for i in range(1,n):\n",
    "            obstacleGrid[0][i] = int(obstacleGrid[0][i] == 0 and obstacleGrid[0][i-1] == 1)\n",
    "            \n",
    "        for i in range(1, m):\n",
    "            for j in range(1, n):\n",
    "                if obstacleGrid[i][j] == 0:\n",
    "                    # 可以到达\n",
    "                    obstacleGrid[i][j] = obstacleGrid[i-1][j] + obstacleGrid[i][j-1]\n",
    "                else:\n",
    "                    # 不可以到达\n",
    "                    obstacleGrid[i][j] = 0\n",
    "        for i in obstacleGrid:\n",
    "            print(i)\n",
    "        return obstacleGrid[m-1][n-1]\n",
    "grid = [\n",
    "  [0,0,0,0],\n",
    "  [0,1,0,0],\n",
    "  [0,0,0,0],\n",
    "  [0,0,0,0]   \n",
    "]\n",
    "cls = Solution()\n",
    "cls.uniquePathsWithObstacles(grid)"
   ]
  },
  {
   "cell_type": "markdown",
   "metadata": {},
   "source": [
    "# 不同路径 I\n",
    "\n",
    "# ![title](../img/a103.png)\n"
   ]
  },
  {
   "cell_type": "code",
   "execution_count": 26,
   "metadata": {},
   "outputs": [
    {
     "name": "stdout",
     "output_type": "stream",
     "text": [
      "[0, 0, 0]\n",
      "[0, 0, 0]\n",
      "[0, 0, 0]\n",
      "[0, 0, 0]\n"
     ]
    }
   ],
   "source": [
    "class Solution:\n",
    "    def uniquePaths(self, m: int, n: int) -> int:\n",
    "        if m ==0 and n ==0:\n",
    "            return 0\n",
    "        if m * n == 0 :\n",
    "            # 一行或者一列\n",
    "            return 1\n",
    "        dp = [[0] * (n+1) for i in range(m+1)]\n",
    "        dp[0][0] = 1\n",
    "        for i in range(m+1):\n",
    "            dp[i][0] = 1\n",
    "        for i in range(n+1):\n",
    "            dp[0][i]\n",
    "            \n",
    "            \n",
    "        for i in dp:\n",
    "            print(i)\n",
    "cls = Solution()\n",
    "cls.uniquePaths(3,2)"
   ]
  },
  {
   "cell_type": "markdown",
   "metadata": {},
   "source": [
    "# 不同路径 I\n",
    "\n",
    "# ![title](../img/104.png)\n"
   ]
  },
  {
   "cell_type": "code",
   "execution_count": 8,
   "metadata": {},
   "outputs": [
    {
     "name": "stdout",
     "output_type": "stream",
     "text": [
      "[-4, -3, -1, 0, -2]\n",
      "[5, 6, 7, 9, 8]\n"
     ]
    },
    {
     "data": {
      "text/plain": [
       "4.5"
      ]
     },
     "execution_count": 8,
     "metadata": {},
     "output_type": "execute_result"
    }
   ],
   "source": [
    "from heapq import *\n",
    "import heapq\n",
    "class MedianFinder(object):\n",
    "    def __init__(self):\n",
    "        \"\"\"\n",
    "        initialize your data structure here.\n",
    "        \"\"\"\n",
    "        self.bigHpeap = []\n",
    "        self.smallHeap = []\n",
    "    def addNum(self, num):\n",
    "        \"\"\"\n",
    "        :type num: int\n",
    "        :rtype: None\n",
    "        \"\"\"\n",
    "        if len(self.bigHpeap) == len(self.smallHeap):#总数为偶数时,先插入到大根堆,在插入到小根堆\n",
    "            heapq.heappush(self.bigHpeap, -num) # heappush永远维护小堆，所以加\n",
    "            heapq.heappush(self.smallHeap, -heapq.heappop(self.bigHpeap))\n",
    "        else:#总数为奇数时,先插入到小根堆,在插入到大根堆\n",
    "            \n",
    "            heapq.heappush(self.bigHpeap, -heapq.heappushpop(self.smallHeap, num))\n",
    "\n",
    "    def findMedian(self):\n",
    "        \"\"\"\n",
    "        :rtype: float\n",
    "        \"\"\"\n",
    "        print(self.bigHpeap)\n",
    "        print(self.smallHeap)\n",
    "        if len(self.bigHpeap) == len(self.smallHeap):\n",
    "            return (-self.bigHpeap[0] + self.smallHeap[0]) / 2.0\n",
    "        else:\n",
    "            return self.smallHeap[0]\n",
    "cls = MedianFinder()\n",
    "for i in range(10):\n",
    "    cls.addNum(i)\n",
    "cls.findMedian()"
   ]
  },
  {
   "cell_type": "code",
   "execution_count": 16,
   "metadata": {},
   "outputs": [
    {
     "data": {
      "text/plain": [
       "4"
      ]
     },
     "execution_count": 16,
     "metadata": {},
     "output_type": "execute_result"
    }
   ],
   "source": [
    "import heapq\n",
    "class MedianFinder(object):\n",
    "\n",
    "    def __init__(self):\n",
    "        \"\"\"\n",
    "        initialize your data structure here.\n",
    "        \"\"\"\n",
    "        self.big = [] # 放小的一半\n",
    "        self.small = [] # 放大的一半\n",
    "\n",
    "\n",
    "    def addNum(self, num):\n",
    "        \"\"\"\n",
    "        :type num: int\n",
    "        :rtype: None\n",
    "        \"\"\"\n",
    "        if len(self.big) == len(self.small):\n",
    "            heapq.heappush(self.big, -num)\n",
    "            heapq.heappush(self.small, -heapq.heappop(self.big))\n",
    "        else:\n",
    "            heapq.heappush(self.small, num)\n",
    "            heapq.heappush(self.big, -heapq.heappop(self.small))\n",
    "\n",
    "\n",
    "    def findMedian(self):\n",
    "        \"\"\"\n",
    "        :rtype: float\n",
    "        \"\"\"\n",
    "        if len(self.big) == len(self.small):\n",
    "            return (-self.big[0]+self.small[0]) / 2\n",
    "        else:\n",
    "            return self.small[0]\n",
    "\n",
    "\n",
    "\n",
    "# Your MedianFinder object will be instantiated and called as such:\n",
    "# obj = MedianFinder()\n",
    "# obj.addNum(num)\n",
    "# param_2 = obj.findMedian()\n",
    "cls = MedianFinder()\n",
    "for i in range(9):\n",
    "    cls.addNum(i)\n",
    "cls.findMedian()"
   ]
  },
  {
   "cell_type": "code",
   "execution_count": 14,
   "metadata": {},
   "outputs": [
    {
     "data": {
      "text/plain": [
       "[0, 1, 2, 3, 4, 5, 6, 7, 8]"
      ]
     },
     "execution_count": 14,
     "metadata": {},
     "output_type": "execute_result"
    }
   ],
   "source": [
    "list(range(9))"
   ]
  },
  {
   "cell_type": "code",
   "execution_count": null,
   "metadata": {},
   "outputs": [],
   "source": []
  },
  {
   "cell_type": "code",
   "execution_count": null,
   "metadata": {},
   "outputs": [],
   "source": []
  },
  {
   "cell_type": "code",
   "execution_count": null,
   "metadata": {},
   "outputs": [],
   "source": []
  },
  {
   "cell_type": "code",
   "execution_count": null,
   "metadata": {},
   "outputs": [],
   "source": []
  }
 ],
 "metadata": {
  "kernelspec": {
   "display_name": "Python 3",
   "language": "python",
   "name": "python3"
  },
  "language_info": {
   "codemirror_mode": {
    "name": "ipython",
    "version": 3
   },
   "file_extension": ".py",
   "mimetype": "text/x-python",
   "name": "python",
   "nbconvert_exporter": "python",
   "pygments_lexer": "ipython3",
   "version": "3.7.6"
  }
 },
 "nbformat": 4,
 "nbformat_minor": 4
}
