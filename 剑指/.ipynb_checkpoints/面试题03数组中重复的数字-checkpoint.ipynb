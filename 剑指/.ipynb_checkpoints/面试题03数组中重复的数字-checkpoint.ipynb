{
 "cells": [
  {
   "cell_type": "markdown",
   "metadata": {},
   "source": [
    "![title](../img/a14.png)  "
   ]
  },
  {
   "cell_type": "code",
   "execution_count": 11,
   "metadata": {},
   "outputs": [
    {
     "name": "stdout",
     "output_type": "stream",
     "text": [
      "5 -----> 7\n",
      "[0, 1, 2, 3, 2, 5, 3]\n",
      "[0, 1, 2, 3, 2, 5, 3]\n",
      "[0, 1, 2, 3, 2, 5, 3]\n",
      "[0, 1, 2, 3, 2, 5, 3]\n"
     ]
    },
    {
     "data": {
      "text/plain": [
       "2"
      ]
     },
     "execution_count": 11,
     "metadata": {},
     "output_type": "execute_result"
    }
   ],
   "source": [
    "class Solution:\n",
    "    def findRepeatNumber(self, nums) -> int:\n",
    "        length = len(nums)\n",
    "        if length == 0:\n",
    "            return -1\n",
    "        for i in range(length):\n",
    "            # 每次把 index i 处的 归位,在执行下一处\n",
    "            while nums[i] != i:\n",
    "            # cur_value != index\n",
    "                cur_value = nums[i]\n",
    "                if cur_value == nums[cur_value]:\n",
    "                    return cur_value\n",
    "                nums[cur_value], nums[i] = cur_value, nums[cur_value]\n",
    "            print(nums)\n",
    "        return -1\n",
    "        \n",
    "arr = [2, 3, 1, 0, 2, 5, 3]\n",
    "print(len(set(arr)),\"----->\", len(arr))\n",
    "cls = Solution()\n",
    "cls.findRepeatNumber(arr)"
   ]
  },
  {
   "cell_type": "code",
   "execution_count": null,
   "metadata": {},
   "outputs": [],
   "source": []
  },
  {
   "cell_type": "code",
   "execution_count": null,
   "metadata": {},
   "outputs": [],
   "source": []
  },
  {
   "cell_type": "code",
   "execution_count": null,
   "metadata": {},
   "outputs": [],
   "source": []
  },
  {
   "cell_type": "code",
   "execution_count": null,
   "metadata": {},
   "outputs": [],
   "source": []
  },
  {
   "cell_type": "code",
   "execution_count": null,
   "metadata": {},
   "outputs": [],
   "source": []
  },
  {
   "cell_type": "code",
   "execution_count": null,
   "metadata": {},
   "outputs": [],
   "source": []
  },
  {
   "cell_type": "code",
   "execution_count": null,
   "metadata": {},
   "outputs": [],
   "source": []
  }
 ],
 "metadata": {
  "kernelspec": {
   "display_name": "Python 3",
   "language": "python",
   "name": "python3"
  },
  "language_info": {
   "codemirror_mode": {
    "name": "ipython",
    "version": 3
   },
   "file_extension": ".py",
   "mimetype": "text/x-python",
   "name": "python",
   "nbconvert_exporter": "python",
   "pygments_lexer": "ipython3",
   "version": "3.7.3"
  }
 },
 "nbformat": 4,
 "nbformat_minor": 4
}
