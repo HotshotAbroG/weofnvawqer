{
 "cells": [
  {
   "cell_type": "code",
   "execution_count": 2,
   "metadata": {},
   "outputs": [
    {
     "data": {
      "text/plain": [
       "[4, 7, 9, 8, 2, 1, 3, 0, 6, 5]"
      ]
     },
     "execution_count": 2,
     "metadata": {},
     "output_type": "execute_result"
    }
   ],
   "source": [
    "import random\n",
    "arr = list(range(10))\n",
    "random.shuffle(arr)\n",
    "arr"
   ]
  },
  {
   "cell_type": "code",
   "execution_count": 3,
   "metadata": {},
   "outputs": [
    {
     "data": {
      "text/plain": [
       "4"
      ]
     },
     "execution_count": 3,
     "metadata": {},
     "output_type": "execute_result"
    }
   ],
   "source": [
    "8>>1"
   ]
  },
  {
   "cell_type": "code",
   "execution_count": 9,
   "metadata": {},
   "outputs": [
    {
     "data": {
      "text/plain": [
       "[0, 1, 2, 3, 4, 5, 6, 7, 8, 9]"
      ]
     },
     "execution_count": 9,
     "metadata": {},
     "output_type": "execute_result"
    }
   ],
   "source": [
    "import random\n",
    "arr = list(range(10))\n",
    "random.shuffle(arr)\n",
    "def split(arr, left, right):\n",
    "    if left < right:\n",
    "        mid = (left + right)//2\n",
    "        split(arr, left, mid)\n",
    "        split(arr, mid+1, right)\n",
    "        # 到达此处\n",
    "        merge(arr, left, mid, right)\n",
    "\n",
    "       \n",
    "def merge(arr, left, mid, right):\n",
    "    # 合并过程，用index 来截取数组的某一段\n",
    "    \n",
    "    i, j = left, mid + 1\n",
    "    count = 0\n",
    "    temp = [0] * (right - left + 1)\n",
    "    # 3 4 5\n",
    "    while i <= mid and j <= right:\n",
    "        if arr[i] < arr[j]:\n",
    "            temp[count] = arr[i]\n",
    "            i += 1\n",
    "        else:\n",
    "            temp[count] = arr[j]\n",
    "            j += 1\n",
    "        count += 1\n",
    "            \n",
    "    while i <= mid:\n",
    "        temp[count] = arr[i]\n",
    "        i, count = i + 1, count + 1\n",
    "        \n",
    "    while j <= right:\n",
    "        temp[count] = arr[j]\n",
    "        j += 1\n",
    "        count += 1\n",
    "    count = 0\n",
    "    \n",
    "    while left <= right:\n",
    "        arr[left] = temp[count]\n",
    "        left += 1\n",
    "        count += 1\n",
    "    \n",
    "            \n",
    "split(arr, 0, len(arr) -1)\n",
    "arr"
   ]
  },
  {
   "cell_type": "code",
   "execution_count": null,
   "metadata": {},
   "outputs": [],
   "source": []
  },
  {
   "cell_type": "code",
   "execution_count": null,
   "metadata": {},
   "outputs": [],
   "source": []
  },
  {
   "cell_type": "code",
   "execution_count": 25,
   "metadata": {},
   "outputs": [
    {
     "data": {
      "text/plain": [
       "[1, 2, 3, 4, 15, 23, 62]"
      ]
     },
     "execution_count": 25,
     "metadata": {},
     "output_type": "execute_result"
    }
   ],
   "source": [
    "import random\n",
    "arr = list(range(10))\n",
    "random.shuffle(arr)\n",
    "def split(arr, left, right):\n",
    "    if left < right:\n",
    "        mid = (left + right)//2\n",
    "        split(arr, left, mid)\n",
    "        split(arr, mid+1, right)\n",
    "        # 到达此处\n",
    "        merge(arr, left, right)\n",
    "\n",
    "def merge(arr, left, right):\n",
    "    # 合并过程，用index 来截取数组的某一段\n",
    "    \n",
    "    mid = left + (right - left)//2\n",
    "    i, j = left, mid + 1\n",
    "    count = 0\n",
    "    temp = [0] * (right - left + 1)\n",
    "    # 3 4 5\n",
    "    while i <= mid and j <= right:\n",
    "        if arr[i] < arr[j]:\n",
    "            temp[count] = arr[i]\n",
    "            i += 1\n",
    "        else:\n",
    "            temp[count] = arr[j]\n",
    "            j += 1\n",
    "        count += 1\n",
    "            \n",
    "    while i <= mid:\n",
    "        temp[count] = arr[i]\n",
    "        i, count = i + 1, count + 1\n",
    "        \n",
    "    while j <= right:\n",
    "        temp[count] = arr[j]\n",
    "        j += 1\n",
    "        count += 1\n",
    "    count = 0\n",
    "    \n",
    "    while left <= right:\n",
    "        arr[left] = temp[count]\n",
    "        left += 1\n",
    "        count += 1\n",
    "    \n",
    "arr = [1,4,3,23,15,62,2]\n",
    "\n",
    "split(arr, 0, len(arr) -1)\n",
    "arr"
   ]
  },
  {
   "cell_type": "code",
   "execution_count": null,
   "metadata": {},
   "outputs": [],
   "source": []
  },
  {
   "cell_type": "code",
   "execution_count": null,
   "metadata": {},
   "outputs": [],
   "source": []
  },
  {
   "cell_type": "code",
   "execution_count": null,
   "metadata": {},
   "outputs": [],
   "source": []
  },
  {
   "cell_type": "code",
   "execution_count": null,
   "metadata": {},
   "outputs": [],
   "source": []
  },
  {
   "cell_type": "code",
   "execution_count": null,
   "metadata": {},
   "outputs": [],
   "source": []
  },
  {
   "cell_type": "code",
   "execution_count": null,
   "metadata": {},
   "outputs": [],
   "source": []
  },
  {
   "cell_type": "code",
   "execution_count": null,
   "metadata": {},
   "outputs": [],
   "source": []
  },
  {
   "cell_type": "code",
   "execution_count": null,
   "metadata": {},
   "outputs": [],
   "source": []
  }
 ],
 "metadata": {
  "kernelspec": {
   "display_name": "Python 3",
   "language": "python",
   "name": "python3"
  },
  "language_info": {
   "codemirror_mode": {
    "name": "ipython",
    "version": 3
   },
   "file_extension": ".py",
   "mimetype": "text/x-python",
   "name": "python",
   "nbconvert_exporter": "python",
   "pygments_lexer": "ipython3",
   "version": "3.7.3"
  }
 },
 "nbformat": 4,
 "nbformat_minor": 4
}
