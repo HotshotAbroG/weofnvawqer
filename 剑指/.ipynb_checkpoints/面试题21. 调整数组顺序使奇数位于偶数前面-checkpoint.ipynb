{
 "cells": [
  {
   "cell_type": "markdown",
   "metadata": {},
   "source": [
    "# 面试题21. 调整数组顺序使奇数位于偶数前面\n",
    "![title](../img/a25.png)"
   ]
  },
  {
   "cell_type": "code",
   "execution_count": 23,
   "metadata": {},
   "outputs": [
    {
     "data": {
      "text/plain": [
       "[1, 3, 2, 4]"
      ]
     },
     "execution_count": 23,
     "metadata": {},
     "output_type": "execute_result"
    }
   ],
   "source": [
    "class Solution:\n",
    "    def exchange(self, nums):\n",
    "        # \n",
    "        point = 0\n",
    "        for i in range(len(nums)):\n",
    "            if nums[i] % 2 == 1:\n",
    "                nums[i], nums[point] = nums[point], nums[i]\n",
    "                point += 1\n",
    "        return nums\n",
    " \n",
    "                \n",
    "                \n",
    "cls = Solution()\n",
    "arr = [1,2,3,4]\n",
    "cls.exchange(arr)"
   ]
  },
  {
   "cell_type": "code",
   "execution_count": 3,
   "metadata": {},
   "outputs": [
    {
     "data": {
      "text/plain": [
       "1"
      ]
     },
     "execution_count": 3,
     "metadata": {},
     "output_type": "execute_result"
    }
   ],
   "source": [
    "class Solution:\n",
    "    def exchange(self, nums):\n",
    "        # \n",
    "        left, right = 0, len(nums) - 1\n",
    "        while left < right:\n",
    "            if nums[left] % 2 == 1:\n",
    "                left +=1\n",
    "                continue\n",
    "            \n",
    "            if nums[right] % 2 == 0:\n",
    "                right -= 1\n",
    "                continue\n",
    "            \n",
    "            nums[right], nums[left] = nums[left], nums[right]\n",
    "            \n",
    "        return nums\n",
    " \n",
    "                \n",
    "                \n",
    "cls = Solution()\n",
    "arr = [1,2,3,4,5,6]\n",
    "cls.exchange(arr)"
   ]
  }
 ],
 "metadata": {
  "kernelspec": {
   "display_name": "Python 3",
   "language": "python",
   "name": "python3"
  },
  "language_info": {
   "codemirror_mode": {
    "name": "ipython",
    "version": 3
   },
   "file_extension": ".py",
   "mimetype": "text/x-python",
   "name": "python",
   "nbconvert_exporter": "python",
   "pygments_lexer": "ipython3",
   "version": "3.7.3"
  }
 },
 "nbformat": 4,
 "nbformat_minor": 4
}
