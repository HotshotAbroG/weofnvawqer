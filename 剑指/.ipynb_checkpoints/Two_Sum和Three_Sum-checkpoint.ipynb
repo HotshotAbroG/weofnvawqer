{
 "cells": [
  {
   "cell_type": "markdown",
   "metadata": {},
   "source": [
    "# Two Sum\n",
    "给定一个整数数组 nums 和一个目标值 target，请你在该数组中找出和为目标值的那 两个 整数，并返回他们的数组下标。\n",
    "\n",
    "你可以假设每种输入只会对应一个答案。但是，数组中同一个元素不能使用两遍。\n",
    "\n",
    " \n",
    "\n",
    "示例:\n",
    "\n",
    "给定 nums = [2, 7, 11, 15], target = 9\n",
    "\n",
    "因为 nums[0] + nums[1] = 2 + 7 = 9\n",
    "所以返回 [0, 1]"
   ]
  },
  {
   "cell_type": "code",
   "execution_count": null,
   "metadata": {},
   "outputs": [],
   "source": [
    "def find(nums, target):\n",
    "    record = {}\n",
    "    for i in range(len(nums)):\n",
    "        res = target - nums[i]\n",
    "        if record.get(nums[i], -1) != -1:\n",
    "            return [i, record[nums[i]]]\n",
    "        record[res] = i\n",
    "    return \n",
    "nums = [2, 7, 11, 15]\n",
    "target = 9  \n",
    "find(nums, target)"
   ]
  },
  {
   "cell_type": "markdown",
   "metadata": {},
   "source": [
    "# Three Sum\n",
    "给你一个包含 n 个整数的数组 nums，判断 nums 中是否存在三个元素 a，b，c ，使得 a + b + c = 0 ？请你找出所有满足条件且不重复\n",
    "\n",
    "的三元组。\n",
    "\n",
    "注意：答案中不可以包含重复的三元组。\n",
    "\n",
    " \n",
    "\n",
    "示例：\n",
    "\n",
    "给定数组 nums = [-1, 0, 1, 2, -1, -4]，\n",
    "\n",
    "满足要求的三元组集合为：\n",
    "[\n",
    "  [-1, 0, 1],\n",
    "  [-1, -1, 2]\n",
    "]\n",
    "\n"
   ]
  },
  {
   "cell_type": "code",
   "execution_count": 12,
   "metadata": {},
   "outputs": [
    {
     "name": "stdout",
     "output_type": "stream",
     "text": [
      "[-4, -1, -1, 0, 1, 2]\n"
     ]
    },
    {
     "data": {
      "text/plain": [
       "[[-1, -1, 2], [-1, 0, 1]]"
      ]
     },
     "execution_count": 12,
     "metadata": {},
     "output_type": "execute_result"
    }
   ],
   "source": [
    "class Solution:\n",
    "    def threeSum(self, nums):\n",
    "        length = len(nums)\n",
    "        if not nums or length < 3:\n",
    "            return []\n",
    "        res = []\n",
    "        nums.sort()\n",
    "        print(nums)\n",
    "        for i in range(length):\n",
    "            l, r = i + 1, length - 1\n",
    "            if i > 0 and nums[i] == nums[i-1]:\n",
    "                continue\n",
    "                \n",
    "            while l < r: \n",
    "                value = nums[r] + nums[l] + nums[i]\n",
    "                if value  == 0:\n",
    "                    res.append([nums[i],nums[l],nums[r]])\n",
    "                    while l < r and nums[l] == nums[l+1]: # 避免重复的数字\n",
    "                        l += 1\n",
    "                    while l < r and nums[r] == nums[r-1]:\n",
    "                        r -= 1\n",
    "                    l,r = l+1, r-1\n",
    "                elif value > 0:\n",
    "                    r -= 1\n",
    "                else:\n",
    "                    l += 1\n",
    "                    \n",
    "                    \n",
    "        return res\n",
    "\n",
    "\n",
    "nums = [-1, 0, 1, 2, -1, -4]\n",
    "cls = Solution()\n",
    "cls.threeSum(nums)"
   ]
  },
  {
   "cell_type": "code",
   "execution_count": null,
   "metadata": {},
   "outputs": [],
   "source": [
    "class Solution:\n",
    "    def threeSum(self, nums: List[int]) -> List[List[int]]:\n",
    "\n",
    "        for i in range(n):\n",
    "            if(nums[i]>0):\n",
    "                return res\n",
    "            if(i>0 and nums[i]==nums[i-1]):\n",
    "                continue\n",
    "            L=i+1\n",
    "            R=n-1\n",
    "            while(L<R):\n",
    "                if(nums[i]+nums[L]+nums[R]==0):\n",
    "                    res.append([nums[i],nums[L],nums[R]])\n",
    "                    while(L<R and nums[L]==nums[L+1]):\n",
    "                        L=L+1\n",
    "                    while(L<R and nums[R]==nums[R-1]):\n",
    "                        R=R-1\n",
    "                    L=L+1\n",
    "                    R=R-1\n",
    "                elif(nums[i]+nums[L]+nums[R]>0):\n",
    "                    R=R-1\n",
    "                else:\n",
    "                    L=L+1\n",
    "        return res\n",
    "\n"
   ]
  },
  {
   "cell_type": "code",
   "execution_count": null,
   "metadata": {},
   "outputs": [],
   "source": []
  },
  {
   "cell_type": "code",
   "execution_count": null,
   "metadata": {},
   "outputs": [],
   "source": []
  },
  {
   "cell_type": "code",
   "execution_count": null,
   "metadata": {},
   "outputs": [],
   "source": []
  },
  {
   "cell_type": "code",
   "execution_count": null,
   "metadata": {},
   "outputs": [],
   "source": []
  },
  {
   "cell_type": "code",
   "execution_count": null,
   "metadata": {},
   "outputs": [],
   "source": []
  },
  {
   "cell_type": "code",
   "execution_count": null,
   "metadata": {},
   "outputs": [],
   "source": []
  },
  {
   "cell_type": "code",
   "execution_count": null,
   "metadata": {},
   "outputs": [],
   "source": []
  },
  {
   "cell_type": "code",
   "execution_count": null,
   "metadata": {},
   "outputs": [],
   "source": []
  },
  {
   "cell_type": "code",
   "execution_count": null,
   "metadata": {},
   "outputs": [],
   "source": []
  },
  {
   "cell_type": "code",
   "execution_count": null,
   "metadata": {},
   "outputs": [],
   "source": []
  },
  {
   "cell_type": "code",
   "execution_count": null,
   "metadata": {},
   "outputs": [],
   "source": []
  },
  {
   "cell_type": "code",
   "execution_count": null,
   "metadata": {},
   "outputs": [],
   "source": []
  },
  {
   "cell_type": "code",
   "execution_count": null,
   "metadata": {},
   "outputs": [],
   "source": []
  },
  {
   "cell_type": "code",
   "execution_count": null,
   "metadata": {},
   "outputs": [],
   "source": []
  },
  {
   "cell_type": "code",
   "execution_count": null,
   "metadata": {},
   "outputs": [],
   "source": []
  },
  {
   "cell_type": "code",
   "execution_count": null,
   "metadata": {},
   "outputs": [],
   "source": []
  },
  {
   "cell_type": "code",
   "execution_count": null,
   "metadata": {},
   "outputs": [],
   "source": []
  }
 ],
 "metadata": {
  "kernelspec": {
   "display_name": "Python 3",
   "language": "python",
   "name": "python3"
  },
  "language_info": {
   "codemirror_mode": {
    "name": "ipython",
    "version": 3
   },
   "file_extension": ".py",
   "mimetype": "text/x-python",
   "name": "python",
   "nbconvert_exporter": "python",
   "pygments_lexer": "ipython3",
   "version": "3.7.6"
  }
 },
 "nbformat": 4,
 "nbformat_minor": 4
}
