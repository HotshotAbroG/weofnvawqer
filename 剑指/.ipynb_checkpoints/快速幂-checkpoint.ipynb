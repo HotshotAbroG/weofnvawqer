{
 "cells": [
  {
   "cell_type": "markdown",
   "metadata": {},
   "source": [
    "# 股票买卖3\n",
    "![title](../img/a83.png)"
   ]
  },
  {
   "cell_type": "code",
   "execution_count": 13,
   "metadata": {},
   "outputs": [
    {
     "name": "stdout",
     "output_type": "stream",
     "text": [
      "4 -------> 1\n",
      "2\n"
     ]
    },
    {
     "data": {
      "text/plain": [
       "0.25"
      ]
     },
     "execution_count": 13,
     "metadata": {},
     "output_type": "execute_result"
    }
   ],
   "source": [
    "class Solution:\n",
    "    def power(self, base, exponent):\n",
    "        flag, res = 1, 1\n",
    "        tmp = base\n",
    "        if exponent < 0:\n",
    "            exponent = abs(exponent)\n",
    "            flag = 0\n",
    "        if exponent == 0:\n",
    "            return 1\n",
    "        count = 0\n",
    "        while exponent > 0:\n",
    "            count += 1\n",
    "            if exponent & 1 == 1:\n",
    "                print(tmp, \"------->\", res)\n",
    "                res = res * tmp\n",
    "            exponent = exponent >> 1\n",
    "            tmp = tmp*tmp\n",
    "        print(count)\n",
    "        return res if flag else 1/res\n",
    "    \n",
    "cls = Solution()\n",
    "cls.power(2,-2)"
   ]
  },
  {
   "cell_type": "code",
   "execution_count": 17,
   "metadata": {},
   "outputs": [
    {
     "data": {
      "text/plain": [
       "0.25"
      ]
     },
     "execution_count": 17,
     "metadata": {},
     "output_type": "execute_result"
    }
   ],
   "source": [
    "class Solution:\n",
    "    def power(self, base, exponent):\n",
    "        flag, res = 1, 1\n",
    "        tmp = base\n",
    "        if exponent < 0:\n",
    "            flag = 0\n",
    "            exponent = -exponent\n",
    "        if exponent == 0:\n",
    "            return 1\n",
    "        while exponent > 0:\n",
    "            if exponent & 1 == 1:\n",
    "                res *= tmp\n",
    "            exponent = exponent>>1\n",
    "            tmp *= tmp\n",
    "        return res if flag else (1/res)\n",
    "    \n",
    "cls = Solution()\n",
    "cls.power(2,-2)"
   ]
  },
  {
   "cell_type": "code",
   "execution_count": null,
   "metadata": {},
   "outputs": [],
   "source": []
  },
  {
   "cell_type": "code",
   "execution_count": null,
   "metadata": {},
   "outputs": [],
   "source": []
  },
  {
   "cell_type": "code",
   "execution_count": null,
   "metadata": {},
   "outputs": [],
   "source": []
  },
  {
   "cell_type": "code",
   "execution_count": null,
   "metadata": {},
   "outputs": [],
   "source": []
  },
  {
   "cell_type": "code",
   "execution_count": null,
   "metadata": {},
   "outputs": [],
   "source": []
  },
  {
   "cell_type": "code",
   "execution_count": null,
   "metadata": {},
   "outputs": [],
   "source": []
  },
  {
   "cell_type": "code",
   "execution_count": null,
   "metadata": {},
   "outputs": [],
   "source": []
  },
  {
   "cell_type": "code",
   "execution_count": null,
   "metadata": {},
   "outputs": [],
   "source": []
  }
 ],
 "metadata": {
  "kernelspec": {
   "display_name": "Python 3",
   "language": "python",
   "name": "python3"
  },
  "language_info": {
   "codemirror_mode": {
    "name": "ipython",
    "version": 3
   },
   "file_extension": ".py",
   "mimetype": "text/x-python",
   "name": "python",
   "nbconvert_exporter": "python",
   "pygments_lexer": "ipython3",
   "version": "3.7.3"
  }
 },
 "nbformat": 4,
 "nbformat_minor": 4
}
