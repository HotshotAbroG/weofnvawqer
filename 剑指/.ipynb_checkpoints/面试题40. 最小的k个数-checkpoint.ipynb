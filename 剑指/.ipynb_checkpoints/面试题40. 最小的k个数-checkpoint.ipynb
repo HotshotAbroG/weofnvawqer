{
 "cells": [
  {
   "cell_type": "markdown",
   "metadata": {},
   "source": [
    "# 面试题40. 最小的k个数\n",
    "![title](../img/a31.png)"
   ]
  },
  {
   "cell_type": "markdown",
   "metadata": {},
   "source": [
    "# 找k个最大数"
   ]
  },
  {
   "cell_type": "code",
   "execution_count": 30,
   "metadata": {},
   "outputs": [
    {
     "name": "stdout",
     "output_type": "stream",
     "text": [
      "[6, 34]\n"
     ]
    }
   ],
   "source": [
    "import queue\n",
    "class Solution:\n",
    "    def getLeastNumbers(self, tinput, k):\n",
    "        if k > len(tinput) or k <= 0:\n",
    "            return []\n",
    "        que = queue.PriorityQueue()\n",
    "        for value in tinput:\n",
    "            que.put(value)\n",
    "            if que.qsize() > k:\n",
    "                que.get()\n",
    "        res = []\n",
    "        while not que.empty():\n",
    "            res.append(que.get())\n",
    "        print(res)\n",
    "    \n",
    "cls = Solution()\n",
    "arr = [3,5,34,6,6,2,1]\n",
    "k = 2\n",
    "cls.getLeastNumbers(arr,k)"
   ]
  },
  {
   "cell_type": "markdown",
   "metadata": {},
   "source": [
    "# 找k个最小数"
   ]
  },
  {
   "cell_type": "code",
   "execution_count": 33,
   "metadata": {},
   "outputs": [
    {
     "data": {
      "text/plain": [
       "[2, 1]"
      ]
     },
     "execution_count": 33,
     "metadata": {},
     "output_type": "execute_result"
    }
   ],
   "source": [
    "import queue\n",
    "class Solution:\n",
    "    def getLeastNumbers(self, tinput, k):\n",
    "        # 7个 找 最大的\n",
    "        res = []\n",
    "        if k > len(tinput) or k <= 0:\n",
    "            return []\n",
    "        que = queue.PriorityQueue()\n",
    "        for value in tinput:\n",
    "            que.put(value)\n",
    "            if que.qsize() > len(tinput) - k:\n",
    "                res.append(que.get())\n",
    "\n",
    "        return res\n",
    "    \n",
    "cls = Solution()\n",
    "arr = [3,5,34,6,6,2,1]\n",
    "k = 2\n",
    "cls.getLeastNumbers(arr, k)"
   ]
  },
  {
   "cell_type": "markdown",
   "metadata": {},
   "source": [
    "# 快排版本"
   ]
  },
  {
   "cell_type": "code",
   "execution_count": 39,
   "metadata": {},
   "outputs": [
    {
     "name": "stdout",
     "output_type": "stream",
     "text": [
      "Ok\n",
      "[34, 6, 6, 5, 3, 2, 1]\n"
     ]
    },
    {
     "data": {
      "text/plain": [
       "[2, 1]"
      ]
     },
     "execution_count": 39,
     "metadata": {},
     "output_type": "execute_result"
    }
   ],
   "source": [
    "import queue\n",
    "class Solution:\n",
    "    \n",
    "    def partition(self, tinput, start, stop):\n",
    "        if start > stop:\n",
    "            return \n",
    "        left, right = start, stop\n",
    "        pivot_index = left\n",
    "        while left < right:\n",
    "            # 大---->小\n",
    "            while left < right and tinput[right] <= tinput[pivot_index]:\n",
    "                right -= 1\n",
    "            while left < right and tinput[left] >= tinput[pivot_index]:\n",
    "                left += 1\n",
    "            if left < right:\n",
    "                tinput[left], tinput[right] = tinput[right], tinput[left]\n",
    "        tinput[pivot_index], tinput[left] = tinput[left], tinput[pivot_index]\n",
    "        self.partition(tinput,start, left - 1)\n",
    "        self.partition(tinput,left + 1,stop)\n",
    "        \n",
    "    \n",
    "    def getLeastNumbers(self, tinput, k):\n",
    "        # 7个 找 最大的\n",
    "\n",
    "        print(\"Ok\")\n",
    "        self.partition(tinput, 0, len(tinput)-1)\n",
    "        print(tinput)\n",
    "\n",
    "        return tinput[-k:]\n",
    "    \n",
    "cls = Solution()\n",
    "arr = [3,5,34,6,6,2,1]\n",
    "k = 2\n",
    "cls.getLeastNumbers(arr, k)"
   ]
  },
  {
   "cell_type": "markdown",
   "metadata": {},
   "source": [
    "# 改进版本"
   ]
  },
  {
   "cell_type": "code",
   "execution_count": null,
   "metadata": {},
   "outputs": [],
   "source": []
  },
  {
   "cell_type": "code",
   "execution_count": null,
   "metadata": {},
   "outputs": [],
   "source": []
  },
  {
   "cell_type": "code",
   "execution_count": null,
   "metadata": {},
   "outputs": [],
   "source": []
  },
  {
   "cell_type": "code",
   "execution_count": null,
   "metadata": {},
   "outputs": [],
   "source": []
  },
  {
   "cell_type": "code",
   "execution_count": null,
   "metadata": {},
   "outputs": [],
   "source": []
  },
  {
   "cell_type": "code",
   "execution_count": null,
   "metadata": {},
   "outputs": [],
   "source": []
  },
  {
   "cell_type": "code",
   "execution_count": null,
   "metadata": {},
   "outputs": [],
   "source": []
  },
  {
   "cell_type": "code",
   "execution_count": null,
   "metadata": {},
   "outputs": [],
   "source": []
  },
  {
   "cell_type": "code",
   "execution_count": null,
   "metadata": {},
   "outputs": [],
   "source": []
  }
 ],
 "metadata": {
  "kernelspec": {
   "display_name": "Python 3",
   "language": "python",
   "name": "python3"
  },
  "language_info": {
   "codemirror_mode": {
    "name": "ipython",
    "version": 3
   },
   "file_extension": ".py",
   "mimetype": "text/x-python",
   "name": "python",
   "nbconvert_exporter": "python",
   "pygments_lexer": "ipython3",
   "version": "3.7.3"
  }
 },
 "nbformat": 4,
 "nbformat_minor": 4
}
