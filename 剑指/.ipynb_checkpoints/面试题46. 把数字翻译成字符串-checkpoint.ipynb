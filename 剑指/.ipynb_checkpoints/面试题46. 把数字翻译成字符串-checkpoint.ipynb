{
 "cells": [
  {
   "cell_type": "markdown",
   "metadata": {},
   "source": [
    "# 面试题46. 把数字翻译成字符串\n",
    "![title](../img/a50.png)"
   ]
  },
  {
   "cell_type": "code",
   "execution_count": null,
   "metadata": {},
   "outputs": [],
   "source": []
  },
  {
   "cell_type": "code",
   "execution_count": 14,
   "metadata": {},
   "outputs": [
    {
     "data": {
      "text/plain": [
       "[1, 1, 2, 3, 5, 5]"
      ]
     },
     "execution_count": 14,
     "metadata": {},
     "output_type": "execute_result"
    }
   ],
   "source": [
    "class Solution:\n",
    "    def translateNum(self, num: int) -> int:\n",
    "        # 12258\n",
    "        string = str(num)\n",
    "        dp = [0] * (len(string) + 1)\n",
    "        dp[0] = 1 # 0个或者1个 都是 只有一种方式翻译\n",
    "        for i in range(1, len(string)+1):\n",
    "            value = int(string[i-1])\n",
    "            if value >= 0 and value <= 9:\n",
    "                dp[i] += dp[i-1]\n",
    "            if i > 1:\n",
    "                value = int(string[i-2:i])\n",
    "                if value >=10 and value <= 25:\n",
    "                    dp[i] += dp[i-2]\n",
    "            \n",
    "        return dp\n",
    "cls = Solution()\n",
    "cls.translateNum(12258)"
   ]
  },
  {
   "cell_type": "code",
   "execution_count": 17,
   "metadata": {},
   "outputs": [
    {
     "data": {
      "text/plain": [
       "[1, 1, 2, 3, 5, 5]"
      ]
     },
     "execution_count": 17,
     "metadata": {},
     "output_type": "execute_result"
    }
   ],
   "source": [
    "class Solution:\n",
    "    def translateNum(self, num: int) -> int:\n",
    "        # 12258\n",
    "        string = str(num)\n",
    "        dp = [0] * (len(string) + 1)\n",
    "        dp[0],dp[1] = 1, 1 # 0个或者1个 都是 只有一种方式翻译\n",
    "        for i in range(2, len(string)+1):\n",
    "            value = int(string[i-1])\n",
    "            if value >= 0 and value <= 9:\n",
    "                dp[i] += dp[i-1]\n",
    "        \n",
    "            value = int(string[i-2:i])\n",
    "            if value >=10 and value <= 25:\n",
    "                dp[i] += dp[i-2]\n",
    "            \n",
    "        return dp\n",
    "cls = Solution()\n",
    "cls.translateNum(12258)"
   ]
  },
  {
   "cell_type": "code",
   "execution_count": null,
   "metadata": {},
   "outputs": [],
   "source": []
  },
  {
   "cell_type": "code",
   "execution_count": null,
   "metadata": {},
   "outputs": [],
   "source": []
  },
  {
   "cell_type": "code",
   "execution_count": null,
   "metadata": {},
   "outputs": [],
   "source": []
  },
  {
   "cell_type": "code",
   "execution_count": null,
   "metadata": {},
   "outputs": [],
   "source": []
  },
  {
   "cell_type": "code",
   "execution_count": null,
   "metadata": {},
   "outputs": [],
   "source": []
  },
  {
   "cell_type": "code",
   "execution_count": null,
   "metadata": {},
   "outputs": [],
   "source": []
  },
  {
   "cell_type": "code",
   "execution_count": null,
   "metadata": {},
   "outputs": [],
   "source": []
  },
  {
   "cell_type": "code",
   "execution_count": null,
   "metadata": {},
   "outputs": [],
   "source": []
  },
  {
   "cell_type": "code",
   "execution_count": null,
   "metadata": {},
   "outputs": [],
   "source": []
  },
  {
   "cell_type": "code",
   "execution_count": null,
   "metadata": {},
   "outputs": [],
   "source": []
  },
  {
   "cell_type": "code",
   "execution_count": null,
   "metadata": {},
   "outputs": [],
   "source": []
  }
 ],
 "metadata": {
  "kernelspec": {
   "display_name": "Python 3",
   "language": "python",
   "name": "python3"
  },
  "language_info": {
   "codemirror_mode": {
    "name": "ipython",
    "version": 3
   },
   "file_extension": ".py",
   "mimetype": "text/x-python",
   "name": "python",
   "nbconvert_exporter": "python",
   "pygments_lexer": "ipython3",
   "version": "3.7.3"
  }
 },
 "nbformat": 4,
 "nbformat_minor": 4
}
