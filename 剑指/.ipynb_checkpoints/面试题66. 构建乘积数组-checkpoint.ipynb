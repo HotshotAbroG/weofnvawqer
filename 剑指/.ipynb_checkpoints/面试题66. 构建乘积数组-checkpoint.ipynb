{
 "cells": [
  {
   "cell_type": "markdown",
   "metadata": {},
   "source": [
    "# 面试题66. 构建乘积数组\n",
    "![title](../img/a32.png)"
   ]
  },
  {
   "cell_type": "code",
   "execution_count": 2,
   "metadata": {},
   "outputs": [
    {
     "name": "stdout",
     "output_type": "stream",
     "text": [
      "[1, 1, 2, 6, 24]\n"
     ]
    },
    {
     "data": {
      "text/plain": [
       "[120, 60, 40, 30, 24]"
      ]
     },
     "execution_count": 2,
     "metadata": {},
     "output_type": "execute_result"
    }
   ],
   "source": [
    "class Solution:\n",
    "    def constructArr(self, a):\n",
    "        # 1, 2, 3, 4, 5\n",
    "        length = len(a)\n",
    "        res = [-1] * length\n",
    "        tmp = 1 \n",
    "        # 左边乘 一遍，右边乘一遍\n",
    "        for i in range(length):\n",
    "            res[i] = tmp # res: 1, 1, 2, 6, 24\n",
    "            tmp *= a[i]\n",
    "        tmp  = 1\n",
    "        print(res)\n",
    "        for i in range(length-1, -1,-1):\n",
    "            res[i] *= tmp\n",
    "            tmp *= a[i]\n",
    "            \n",
    "            \n",
    "        return res\n",
    "        \n",
    "cls = Solution()\n",
    "cls.constructArr([1,2,3,4,5])\n",
    "        "
   ]
  },
  {
   "cell_type": "markdown",
   "metadata": {},
   "source": [
    "# 练习版本"
   ]
  },
  {
   "cell_type": "code",
   "execution_count": 9,
   "metadata": {},
   "outputs": [
    {
     "data": {
      "text/plain": [
       "[120, 60, 40, 30, 24]"
      ]
     },
     "execution_count": 9,
     "metadata": {},
     "output_type": "execute_result"
    }
   ],
   "source": [
    "class Solution:\n",
    "    def constructArr(self, a):\n",
    "        # 1, 2, 3, 4, 5\n",
    "        length = len(a)\n",
    "        res = [1] * length\n",
    "        tmp = 1\n",
    "        for i in range(length):\n",
    "            res[i] = tmp\n",
    "            tmp *= a[i]\n",
    "        tmp = 1 \n",
    "        for i in range(length-1, -1, -1):\n",
    "            res[i] *= tmp\n",
    "            tmp *= a[i]\n",
    "        return res\n",
    "        \n",
    "cls = Solution()\n",
    "# [120, 60, 40, 30, 24]\n",
    "cls.constructArr([1,2,3,4,5])\n",
    "        "
   ]
  },
  {
   "cell_type": "code",
   "execution_count": null,
   "metadata": {},
   "outputs": [],
   "source": []
  },
  {
   "cell_type": "code",
   "execution_count": null,
   "metadata": {},
   "outputs": [],
   "source": []
  },
  {
   "cell_type": "code",
   "execution_count": null,
   "metadata": {},
   "outputs": [],
   "source": []
  },
  {
   "cell_type": "code",
   "execution_count": null,
   "metadata": {},
   "outputs": [],
   "source": []
  },
  {
   "cell_type": "code",
   "execution_count": null,
   "metadata": {},
   "outputs": [],
   "source": []
  },
  {
   "cell_type": "code",
   "execution_count": null,
   "metadata": {},
   "outputs": [],
   "source": []
  },
  {
   "cell_type": "code",
   "execution_count": null,
   "metadata": {},
   "outputs": [],
   "source": []
  },
  {
   "cell_type": "code",
   "execution_count": null,
   "metadata": {},
   "outputs": [],
   "source": []
  },
  {
   "cell_type": "code",
   "execution_count": null,
   "metadata": {},
   "outputs": [],
   "source": []
  },
  {
   "cell_type": "code",
   "execution_count": null,
   "metadata": {},
   "outputs": [],
   "source": []
  },
  {
   "cell_type": "code",
   "execution_count": null,
   "metadata": {},
   "outputs": [],
   "source": []
  }
 ],
 "metadata": {
  "kernelspec": {
   "display_name": "Python 3",
   "language": "python",
   "name": "python3"
  },
  "language_info": {
   "codemirror_mode": {
    "name": "ipython",
    "version": 3
   },
   "file_extension": ".py",
   "mimetype": "text/x-python",
   "name": "python",
   "nbconvert_exporter": "python",
   "pygments_lexer": "ipython3",
   "version": "3.7.6"
  }
 },
 "nbformat": 4,
 "nbformat_minor": 4
}
