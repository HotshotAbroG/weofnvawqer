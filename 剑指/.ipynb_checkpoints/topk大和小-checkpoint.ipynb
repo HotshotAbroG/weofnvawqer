{
 "cells": [
  {
   "cell_type": "markdown",
   "metadata": {},
   "source": [
    "# 找前k大"
   ]
  },
  {
   "cell_type": "markdown",
   "metadata": {},
   "source": [
    "# 堆排序"
   ]
  },
  {
   "cell_type": "code",
   "execution_count": 3,
   "metadata": {},
   "outputs": [
    {
     "data": {
      "text/plain": [
       "[8, 9, 24]"
      ]
     },
     "execution_count": 3,
     "metadata": {},
     "output_type": "execute_result"
    }
   ],
   "source": [
    "def heapify(arr, length, cur_idnex):\n",
    "    max_index = cur_idnex\n",
    "    left, right = 2*cur_idnex+1, 2*cur_idnex+2\n",
    "    # 找heapify过程\n",
    "    if left < length and arr[left] > arr[max_index]:\n",
    "        max_index = left\n",
    "    if right < length and arr[right] > arr[max_index]:\n",
    "        max_index = right\n",
    "        \n",
    "    if max_index != cur_idnex:\n",
    "        arr[max_index], arr[cur_idnex] = arr[cur_idnex], arr[max_index]\n",
    "        heapify(arr, length, max_index)\n",
    "def heap_sort(arr, k):\n",
    "    length = len(arr)\n",
    "    start_node = (length-2) >> 1\n",
    "    # 建立大堆\n",
    "    for i in range(start_node, -1, -1):\n",
    "        heapify(arr, length, i)\n",
    "    # 排序\n",
    "    count = 0\n",
    "    for i in range(length-1, 0, -1):\n",
    "        arr[0], arr[i] = arr[i], arr[0]\n",
    "        heapify(arr, i, 0)\n",
    "        count += 1\n",
    "        if count == k:\n",
    "            return arr[-k:]\n",
    "arr = [1,8,9,2,4,6,3,1,24]\n",
    "heap_sort(arr,3)"
   ]
  },
  {
   "cell_type": "markdown",
   "metadata": {},
   "source": [
    "# 找第k大"
   ]
  },
  {
   "cell_type": "code",
   "execution_count": 13,
   "metadata": {},
   "outputs": [
    {
     "data": {
      "text/plain": [
       "24"
      ]
     },
     "execution_count": 13,
     "metadata": {},
     "output_type": "execute_result"
    }
   ],
   "source": [
    "def heapify(arr, length, cur_idnex):\n",
    "    max_index = cur_idnex\n",
    "    left, right = 2*cur_idnex+1, 2*cur_idnex+2\n",
    "    # 找heapify过程\n",
    "    if left < length and arr[left] > arr[max_index]:\n",
    "        max_index = left\n",
    "    if right < length and arr[right] > arr[max_index]:\n",
    "        max_index = right\n",
    "        \n",
    "    if max_index != cur_idnex:\n",
    "        arr[max_index], arr[cur_idnex] = arr[cur_idnex], arr[max_index]\n",
    "        heapify(arr, length, max_index)\n",
    "def heap_sort(arr, k):\n",
    "    length = len(arr)\n",
    "    start_node = (length-2) >> 1\n",
    "    # 建立大堆\n",
    "    for i in range(start_node, -1, -1):\n",
    "        heapify(arr, length, i)\n",
    "    # 排序\n",
    "    count = 0\n",
    "    for i in range(length-1, 0, -1):\n",
    "        arr[0], arr[i] = arr[i], arr[0]\n",
    "        heapify(arr, i, 0)\n",
    "        count += 1\n",
    "        if count == k:\n",
    "            return arr[-k] # 判断是否为k的步骤\n",
    "    return -1\n",
    "arr = [1,8,9,2,4,6,3,1,24]\n",
    "heap_sort(arr,1)"
   ]
  },
  {
   "cell_type": "code",
   "execution_count": null,
   "metadata": {},
   "outputs": [],
   "source": []
  },
  {
   "cell_type": "code",
   "execution_count": null,
   "metadata": {},
   "outputs": [],
   "source": []
  },
  {
   "cell_type": "code",
   "execution_count": null,
   "metadata": {},
   "outputs": [],
   "source": []
  },
  {
   "cell_type": "code",
   "execution_count": null,
   "metadata": {},
   "outputs": [],
   "source": []
  },
  {
   "cell_type": "code",
   "execution_count": null,
   "metadata": {},
   "outputs": [],
   "source": []
  },
  {
   "cell_type": "code",
   "execution_count": null,
   "metadata": {},
   "outputs": [],
   "source": []
  },
  {
   "cell_type": "code",
   "execution_count": null,
   "metadata": {},
   "outputs": [],
   "source": []
  },
  {
   "cell_type": "code",
   "execution_count": null,
   "metadata": {},
   "outputs": [],
   "source": []
  },
  {
   "cell_type": "code",
   "execution_count": null,
   "metadata": {},
   "outputs": [],
   "source": []
  }
 ],
 "metadata": {
  "kernelspec": {
   "display_name": "Python 3",
   "language": "python",
   "name": "python3"
  },
  "language_info": {
   "codemirror_mode": {
    "name": "ipython",
    "version": 3
   },
   "file_extension": ".py",
   "mimetype": "text/x-python",
   "name": "python",
   "nbconvert_exporter": "python",
   "pygments_lexer": "ipython3",
   "version": "3.7.3"
  }
 },
 "nbformat": 4,
 "nbformat_minor": 4
}
