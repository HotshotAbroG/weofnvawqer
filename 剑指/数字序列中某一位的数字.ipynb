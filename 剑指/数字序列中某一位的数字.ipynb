{
 "cells": [
  {
   "cell_type": "markdown",
   "metadata": {},
   "source": [
    "\n",
    "![title](../img/a8.png)\n"
   ]
  },
  {
   "cell_type": "markdown",
   "metadata": {},
   "source": [
    "![title](../img/b8.png)"
   ]
  },
  {
   "cell_type": "code",
   "execution_count": 21,
   "metadata": {},
   "outputs": [
    {
     "name": "stdout",
     "output_type": "stream",
     "text": [
      "189 2\n",
      "77 1\n"
     ]
    },
    {
     "data": {
      "text/plain": [
       "7"
      ]
     },
     "execution_count": 21,
     "metadata": {},
     "output_type": "execute_result"
    }
   ],
   "source": [
    "# 规律：1-9有9个数，10-99有20*9个数字，100-999有300*9个数字，1000-9999有4000*9个数字\n",
    "#    i=0, 1, 2, 3                             i * 10** (i-1) *9\n",
    "class Solution(object):\n",
    "\n",
    "    def findNthDigit(self, nth: int) -> int:\n",
    "        # 所在位数规律：9 * pow(10, i - 1) * i\n",
    "        i, max_count = 0, 0\n",
    "        while max_count < nth:\n",
    "            i += 1\n",
    "            max_count = max_count + i * 9 * 10 ** (i - 1)\n",
    "        print(max_count, i)\n",
    "        # 起始值对应的次数(nth)\n",
    "        start_count = max_count - i * (9 * 10 ** (i - 1))\n",
    "\n",
    "        power = i - 1  # 幂（用于求所在位数）\n",
    "        start_val = 10 ** power  # 起始值\n",
    "\n",
    "        step = nth - start_count - 1  # 剩余移动步数\n",
    "        step_length = i  # 每增一需要的步长 \n",
    "        # 若 i = 3， 则每过 3位 增加 一个数字， \n",
    "        # offset - 偏移值（从起始值开始）\n",
    "        # pos - 结果值指向的位数 - 从最高位开始偏移\n",
    "        offset, pos = divmod(step, step_length) # 求商 和 余数\n",
    "\n",
    "        curr_val = start_val + offset  # 当前数值 - 起始值 + 偏移值\n",
    "        # 对应位数的数字，即解\n",
    "        print(curr_val, power-pos)\n",
    "        \n",
    "        result = (curr_val // 10) ** (power - pos) % 10\n",
    "\n",
    "        return result\n",
    "\n",
    "\n",
    "cls = Solution()\n",
    "cls.findNthDigit(144)"
   ]
  },
  {
   "cell_type": "code",
   "execution_count": null,
   "metadata": {},
   "outputs": [],
   "source": [
    "class Solution:\n",
    "    def findNthDigit(self, n: int) -> int:\n",
    "        # 首先判断target是几位数，用digits表示\n",
    "        base = 9\n",
    "        digits = 1\n",
    "        while n - base * digits > 0:\n",
    "            n -= base * digits\n",
    "            base *= 10\n",
    "            digits += 1\n",
    "        # 计算target的值\n",
    "        idx = n % digits  # 注意由于上面的计算，n现在表示digits位数的第n个数字\n",
    "        if idx == 0: \n",
    "            idx = digits\n",
    "        number = 1\n",
    "        for i in range(1,digits):\n",
    "            number *= 10\n",
    "        if idx == digits:\n",
    "            number += n // digits - 1\n",
    "        else:\n",
    "            number += n // digits\n",
    "        # 找到target中对应的数字\n",
    "        for i in range(idx,digits):\n",
    "            number //= 10\n",
    "        return number % 10\n",
    "    \n",
    "\n"
   ]
  },
  {
   "cell_type": "code",
   "execution_count": null,
   "metadata": {},
   "outputs": [],
   "source": []
  },
  {
   "cell_type": "code",
   "execution_count": null,
   "metadata": {},
   "outputs": [],
   "source": []
  },
  {
   "cell_type": "code",
   "execution_count": null,
   "metadata": {},
   "outputs": [],
   "source": []
  },
  {
   "cell_type": "code",
   "execution_count": null,
   "metadata": {},
   "outputs": [],
   "source": []
  },
  {
   "cell_type": "code",
   "execution_count": null,
   "metadata": {},
   "outputs": [],
   "source": []
  },
  {
   "cell_type": "code",
   "execution_count": null,
   "metadata": {},
   "outputs": [],
   "source": []
  },
  {
   "cell_type": "code",
   "execution_count": null,
   "metadata": {},
   "outputs": [],
   "source": []
  },
  {
   "cell_type": "code",
   "execution_count": null,
   "metadata": {},
   "outputs": [],
   "source": []
  },
  {
   "cell_type": "code",
   "execution_count": null,
   "metadata": {},
   "outputs": [],
   "source": []
  },
  {
   "cell_type": "code",
   "execution_count": null,
   "metadata": {},
   "outputs": [],
   "source": []
  },
  {
   "cell_type": "code",
   "execution_count": null,
   "metadata": {},
   "outputs": [],
   "source": []
  },
  {
   "cell_type": "code",
   "execution_count": null,
   "metadata": {},
   "outputs": [],
   "source": []
  },
  {
   "cell_type": "code",
   "execution_count": null,
   "metadata": {},
   "outputs": [],
   "source": []
  }
 ],
 "metadata": {
  "kernelspec": {
   "display_name": "Python 3",
   "language": "python",
   "name": "python3"
  },
  "language_info": {
   "codemirror_mode": {
    "name": "ipython",
    "version": 3
   },
   "file_extension": ".py",
   "mimetype": "text/x-python",
   "name": "python",
   "nbconvert_exporter": "python",
   "pygments_lexer": "ipython3",
   "version": "3.7.6"
  }
 },
 "nbformat": 4,
 "nbformat_minor": 4
}
