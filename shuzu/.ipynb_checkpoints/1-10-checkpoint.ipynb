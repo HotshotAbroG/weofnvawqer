{
 "cells": [
  {
   "cell_type": "code",
   "execution_count": null,
   "metadata": {},
   "outputs": [],
   "source": []
  },
  {
   "cell_type": "markdown",
   "metadata": {},
   "source": [
    "# 使奇数位于偶数前面\n",
    " [1 2 3 4 5] -----> [1 3 5 2 4]"
   ]
  },
  {
   "cell_type": "code",
   "execution_count": 3,
   "metadata": {},
   "outputs": [
    {
     "name": "stdout",
     "output_type": "stream",
     "text": [
      "[1, 3, 5, 7, 9, 11, 2, 4]\n"
     ]
    }
   ],
   "source": [
    "def getAnswer(arr:list):\n",
    "    count = 0\n",
    "    for value in arr:\n",
    "        # 统计奇数个数\n",
    "        if value%2 == 1:\n",
    "            count += 1\n",
    "    res = [0] * len(arr) # 定义一个 等长数组\n",
    "    start = 0\n",
    "    for value in arr:\n",
    "        if value %2 == 1:\n",
    "            res[start] = value\n",
    "            start += 1\n",
    "        else:\n",
    "            res[count] = value\n",
    "            count += 1\n",
    "    print(res)\n",
    "\n",
    "# 测试\n",
    "arr = [1, 2, 3, 4, 5, 7, 9, 11]\n",
    "getAnswer(arr)"
   ]
  },
  {
   "cell_type": "code",
   "execution_count": 2,
   "metadata": {},
   "outputs": [
    {
     "name": "stdout",
     "output_type": "stream",
     "text": [
      "s\n"
     ]
    }
   ],
   "source": []
  }
 ],
 "metadata": {
  "kernelspec": {
   "display_name": "Python 3",
   "language": "python",
   "name": "python3"
  },
  "language_info": {
   "codemirror_mode": {
    "name": "ipython",
    "version": 3
   },
   "file_extension": ".py",
   "mimetype": "text/x-python",
   "name": "python",
   "nbconvert_exporter": "python",
   "pygments_lexer": "ipython3",
   "version": "3.7.3"
  }
 },
 "nbformat": 4,
 "nbformat_minor": 4
}
