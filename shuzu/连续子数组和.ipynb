{
 "cells": [
  {
   "cell_type": "markdown",
   "metadata": {},
   "source": [
    "# 给定一个包含非负数的数组和一个目标整数 k，\n",
    "\n",
    "编写一个函数来判断该数组是否含有连续的子数组，\n",
    "\n",
    "其大小至少为 2，**总和为 k 的倍数**，即总和为 n*k，其中 n 也是一个整数。\n",
    "\n",
    "示例 1:\n",
    "\n",
    "输入: [23,2,4,6,7], k = 6\n",
    "    \n",
    "输出: True\n",
    "    \n",
    "解释: [2,4] 是一个大小为 2 的子数组，并且和为 6。\n"
   ]
  },
  {
   "cell_type": "code",
   "execution_count": 50,
   "metadata": {},
   "outputs": [
    {
     "name": "stdout",
     "output_type": "stream",
     "text": [
      "1 0\n"
     ]
    },
    {
     "data": {
      "text/plain": [
       "True"
      ]
     },
     "execution_count": 50,
     "metadata": {},
     "output_type": "execute_result"
    }
   ],
   "source": [
    "def checkSubarraySum(nums, k):\n",
    "        record = {0: 0}\n",
    "        sum_nums = 0\n",
    "        for i in range(len(nums)):\n",
    "            sum_nums += nums[i]\n",
    "            if k != 0:\n",
    "                sum_nums = sum_nums % k\n",
    "            \n",
    "            \n",
    "            # 这个题目的关键在于 为什么 两个模值相同，则代表 找到一组\n",
    "              \n",
    "            if sum_nums in record:\n",
    "                # 模值 相同 则加入，代表 i 和 record[mod]  之间 存在一个 符合要求的\n",
    "                # 接下来查看 i 和 record[mod] 之间的 距离 是否大于0即可，\n",
    "                # 大于0 则代表至少 俩元素 \n",
    "                if i - record[sum_nums] > 0:\n",
    "                    return True\n",
    "            else:\n",
    "                record[sum_nums] = i + 1\n",
    "        return False\n",
    "    \n",
    "    \n",
    "arr = [23,2,6,4,7]\n",
    "k = 25   \n",
    "\n",
    "checkSubarraySum(arr, k)"
   ]
  },
  {
   "cell_type": "code",
   "execution_count": 44,
   "metadata": {},
   "outputs": [
    {
     "name": "stdout",
     "output_type": "stream",
     "text": [
      "5 ----> 23\n",
      "1 ----> 2\n",
      "1 ----> 6\n",
      "5 ----> 4\n",
      "0 ----> 7\n"
     ]
    }
   ],
   "source": [
    "arr = [23,2,6,4,7]\n",
    "k = 6\n",
    "s = 0\n",
    "for i in arr:\n",
    "    s += i\n",
    "    s %= k\n",
    "    print(s,\"---->\", i)"
   ]
  },
  {
   "cell_type": "code",
   "execution_count": null,
   "metadata": {},
   "outputs": [],
   "source": []
  },
  {
   "cell_type": "code",
   "execution_count": null,
   "metadata": {},
   "outputs": [],
   "source": []
  },
  {
   "cell_type": "code",
   "execution_count": null,
   "metadata": {},
   "outputs": [],
   "source": []
  },
  {
   "cell_type": "code",
   "execution_count": null,
   "metadata": {},
   "outputs": [],
   "source": []
  },
  {
   "cell_type": "code",
   "execution_count": null,
   "metadata": {},
   "outputs": [],
   "source": []
  },
  {
   "cell_type": "code",
   "execution_count": null,
   "metadata": {},
   "outputs": [],
   "source": []
  },
  {
   "cell_type": "code",
   "execution_count": null,
   "metadata": {},
   "outputs": [],
   "source": []
  },
  {
   "cell_type": "code",
   "execution_count": null,
   "metadata": {},
   "outputs": [],
   "source": []
  },
  {
   "cell_type": "code",
   "execution_count": null,
   "metadata": {},
   "outputs": [],
   "source": []
  },
  {
   "cell_type": "code",
   "execution_count": null,
   "metadata": {},
   "outputs": [],
   "source": []
  },
  {
   "cell_type": "code",
   "execution_count": null,
   "metadata": {},
   "outputs": [],
   "source": []
  },
  {
   "cell_type": "code",
   "execution_count": null,
   "metadata": {},
   "outputs": [],
   "source": []
  }
 ],
 "metadata": {
  "kernelspec": {
   "display_name": "Python 3",
   "language": "python",
   "name": "python3"
  },
  "language_info": {
   "codemirror_mode": {
    "name": "ipython",
    "version": 3
   },
   "file_extension": ".py",
   "mimetype": "text/x-python",
   "name": "python",
   "nbconvert_exporter": "python",
   "pygments_lexer": "ipython3",
   "version": "3.7.3"
  }
 },
 "nbformat": 4,
 "nbformat_minor": 4
}
