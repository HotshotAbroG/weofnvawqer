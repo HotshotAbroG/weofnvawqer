{
 "cells": [
  {
   "cell_type": "code",
   "execution_count": null,
   "metadata": {},
   "outputs": [],
   "source": []
  },
  {
   "cell_type": "markdown",
   "metadata": {},
   "source": [
    "# 使奇数位于偶数前面\n",
    " [1 2 3 4 5] -----> [1 3 5 2 4]"
   ]
  },
  {
   "cell_type": "code",
   "execution_count": 3,
   "metadata": {},
   "outputs": [
    {
     "name": "stdout",
     "output_type": "stream",
     "text": [
      "[1, 3, 5, 7, 9, 11, 2, 4]\n"
     ]
    }
   ],
   "source": [
    "def getAnswer(arr:list):\n",
    "    count = 0\n",
    "    for value in arr:\n",
    "        # 统计奇数个数\n",
    "        if value%2 == 1:\n",
    "            count += 1\n",
    "    res = [0] * len(arr) # 定义一个 等长数组\n",
    "    start = 0\n",
    "    for value in arr:\n",
    "        if value %2 == 1:\n",
    "            res[start] = value\n",
    "            start += 1\n",
    "        else:\n",
    "            res[count] = value\n",
    "            count += 1\n",
    "    print(res)\n",
    "\n",
    "# 测试\n",
    "arr = [1, 2, 3, 4, 5, 7, 9, 11]\n",
    "getAnswer(arr)"
   ]
  },
  {
   "cell_type": "markdown",
   "metadata": {},
   "source": [
    "# 找第k大"
   ]
  },
  {
   "cell_type": "code",
   "execution_count": 22,
   "metadata": {},
   "outputs": [
    {
     "name": "stdout",
     "output_type": "stream",
     "text": [
      "[3, 2, 1, 4, 5, 6]\n",
      "[3, 2, 1, 4, 5, 6]\n",
      "[3, 2, 1, 4, 5, 6]\n",
      "[3, 4, 1, 2, 5, 6]\n",
      "[3, 4, 5, 2, 1, 6]\n",
      "[6, 4, 5, 3, 1, 2] ------> 3\n",
      "\n",
      "\n",
      "\n",
      "\n",
      "[6, 4, 5, 3, 1, 2]\n",
      "[6, 4, 5, 3, 1, 2]\n",
      "[6, 4, 5, 3, 1, 2] ------> 0\n",
      "\n",
      "\n",
      "\n",
      "\n",
      "[6, 4, 5, 3, 1, 2]\n",
      "[6, 5, 4, 3, 1, 2] ------> 2\n",
      "\n",
      "\n",
      "\n",
      "\n",
      "[6, 5, 4, 3, 1, 2] ------> 1\n",
      "\n",
      "\n",
      "\n",
      "\n"
     ]
    },
    {
     "data": {
      "text/plain": [
       "5"
      ]
     },
     "execution_count": 22,
     "metadata": {},
     "output_type": "execute_result"
    }
   ],
   "source": [
    "import random\n",
    "def partition(nums, left, right):\n",
    "    \n",
    "    \n",
    "    pivot = nums[left]\n",
    "    \n",
    "    index = left\n",
    "    \n",
    "    for i in range(left + 1, right + 1):\n",
    "        print(nums)\n",
    "        if nums[i] > pivot:\n",
    "            index += 1\n",
    "            nums[i], nums[index] = nums[index], nums[i]\n",
    "            \n",
    "    nums[left], nums[index] = nums[index], nums[left]\n",
    "    print(nums,\"------>\", index)\n",
    "    return index\n",
    "\n",
    "def find(nums, k):\n",
    "    left, right = 0, len(nums) - 1\n",
    "    k = k -1\n",
    "    while True:\n",
    "        pivot_index = partition(nums, left, right)\n",
    "       #  print(nums)\n",
    "        print(\"\\n\\n\\n\")\n",
    "        if pivot_index == k:\n",
    "            return nums[pivot_index]\n",
    "    \n",
    "        elif pivot_index > k:\n",
    "            \n",
    "            right = pivot_index - 1\n",
    "        \n",
    "        else:\n",
    "            left = pivot_index + 1\n",
    "            \n",
    "arr = [3,2,1,4,5,6]\n",
    "find(arr, 2)\n",
    "    \n",
    "    "
   ]
  },
  {
   "cell_type": "markdown",
   "metadata": {},
   "source": [
    "# 快速排序"
   ]
  },
  {
   "cell_type": "code",
   "execution_count": 53,
   "metadata": {},
   "outputs": [
    {
     "name": "stdout",
     "output_type": "stream",
     "text": [
      "[6, 3, 7, 0, 4, 1, 2, 5]\n",
      "\n",
      "[7, 6, 5, 4, 3, 2, 1, 0]\n"
     ]
    }
   ],
   "source": [
    "# 大------> 小\n",
    "def quick_sort(nums, start, end):\n",
    "    \n",
    "    if (start  > end):\n",
    "        return \n",
    "    \n",
    "    pivot_index = start\n",
    "    \n",
    "    left, right = start, end\n",
    "\n",
    "    while(left < right):\n",
    "        \n",
    "        while(left < right and nums[right] <= nums[pivot_index]):\n",
    "            \n",
    "            right -= 1 # 比基准小的，放在右边不管\n",
    "            \n",
    "        while(left < right and nums[left] >= nums[pivot_index]):\n",
    "            \n",
    "            left += 1 # 比基准大的，放在左边不管，移动left_指针\n",
    "            \n",
    "        if (left < right):\n",
    "             \n",
    "                \n",
    "                \n",
    "            nums[left], nums[right] = nums[right], nums[left]\n",
    "            \n",
    "    nums[pivot_index], nums[left] = nums[left], nums[pivot_index]\n",
    "    \n",
    "    quick_sort(nums, start, right - 1)\n",
    "    \n",
    "    quick_sort(nums, right + 1, end)\n",
    "    \n",
    "    \n",
    "arr = list(range(8))\n",
    "random.shuffle(arr)\n",
    "print(arr)\n",
    "print()\n",
    "quick_sort(arr, 0, len(arr)-1)\n",
    "print(arr)"
   ]
  },
  {
   "cell_type": "markdown",
   "metadata": {},
   "source": [
    "# 利用堆 找第k大"
   ]
  },
  {
   "cell_type": "code",
   "execution_count": 95,
   "metadata": {},
   "outputs": [
    {
     "name": "stdout",
     "output_type": "stream",
     "text": [
      "[3, 2, 1, 4, 5, 6]\n",
      "[5, 6]\n"
     ]
    },
    {
     "data": {
      "text/plain": [
       "5"
      ]
     },
     "execution_count": 95,
     "metadata": {},
     "output_type": "execute_result"
    }
   ],
   "source": [
    "import heapq\n",
    " # 小堆\n",
    "def find(arr, k):\n",
    "    heap = []\n",
    "    for n in arr:\n",
    "        heapq.heappush(heap, n)\n",
    "        # print(heap)\n",
    "        if (len(heap) > k ):\n",
    "            \n",
    "            # 由于是小堆，所以 存储k个元素，堆顶就是最小元素即 总体的第k大\n",
    "            \n",
    "            # 每次弹出最小的，加入一个新的\n",
    "            heapq.heappop(heap)\n",
    "\n",
    "    print(heap)\n",
    "    return heapq.heappop(heap)\n",
    "        \n",
    "arr = [3,2,1,4,5,6]\n",
    "\n",
    "print(arr)\n",
    "find(arr, 2)"
   ]
  },
  {
   "cell_type": "markdown",
   "metadata": {},
   "source": [
    "# 第k小"
   ]
  },
  {
   "cell_type": "code",
   "execution_count": 90,
   "metadata": {},
   "outputs": [
    {
     "name": "stdout",
     "output_type": "stream",
     "text": [
      "[3, 2, 1, 4, 5, 6]\n"
     ]
    },
    {
     "data": {
      "text/plain": [
       "2"
      ]
     },
     "execution_count": 90,
     "metadata": {},
     "output_type": "execute_result"
    }
   ],
   "source": [
    "def find(arr, k):\n",
    "    heap = []\n",
    "    length = len(arr)\n",
    "    for n in arr:\n",
    "        heapq.heappush(heap, n)\n",
    "        if (len(heap) >length - k + 1 ):\n",
    "            heapq.heappop(heap)\n",
    "        \n",
    "    return heapq.heappop(heap)\n",
    "        \n",
    "arr = [3,2,1,4,5,6]\n",
    "\n",
    "print(arr)\n",
    "find(arr, 2)"
   ]
  },
  {
   "cell_type": "code",
   "execution_count": null,
   "metadata": {},
   "outputs": [],
   "source": []
  },
  {
   "cell_type": "code",
   "execution_count": null,
   "metadata": {},
   "outputs": [],
   "source": []
  },
  {
   "cell_type": "code",
   "execution_count": null,
   "metadata": {},
   "outputs": [],
   "source": []
  },
  {
   "cell_type": "code",
   "execution_count": null,
   "metadata": {},
   "outputs": [],
   "source": []
  },
  {
   "cell_type": "code",
   "execution_count": null,
   "metadata": {},
   "outputs": [],
   "source": []
  },
  {
   "cell_type": "code",
   "execution_count": null,
   "metadata": {},
   "outputs": [],
   "source": []
  },
  {
   "cell_type": "code",
   "execution_count": null,
   "metadata": {},
   "outputs": [],
   "source": []
  },
  {
   "cell_type": "code",
   "execution_count": null,
   "metadata": {},
   "outputs": [],
   "source": []
  },
  {
   "cell_type": "code",
   "execution_count": 2,
   "metadata": {},
   "outputs": [
    {
     "name": "stdout",
     "output_type": "stream",
     "text": [
      "s\n"
     ]
    }
   ],
   "source": []
  }
 ],
 "metadata": {
  "kernelspec": {
   "display_name": "Python 3",
   "language": "python",
   "name": "python3"
  },
  "language_info": {
   "codemirror_mode": {
    "name": "ipython",
    "version": 3
   },
   "file_extension": ".py",
   "mimetype": "text/x-python",
   "name": "python",
   "nbconvert_exporter": "python",
   "pygments_lexer": "ipython3",
   "version": "3.7.3"
  }
 },
 "nbformat": 4,
 "nbformat_minor": 4
}
